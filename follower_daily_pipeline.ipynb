{
 "cells": [
  {
   "cell_type": "markdown",
   "metadata": {},
   "source": [
    "# Daily"
   ]
  },
  {
   "cell_type": "code",
   "execution_count": null,
   "metadata": {},
   "outputs": [
    {
     "name": "stdout",
     "output_type": "stream",
     "text": [
      "Train Data Range: 2023-01-01 00:00:00 to 2023-08-22 00:00:00\n",
      "Test Data Range: 2023-08-23 00:00:00 to 2023-11-08 00:00:00\n",
      "Split Date: 2023-08-23 00:00:00, Total Unique Days: 312\n",
      "Using 4 cpus for n_jobs.\n",
      "Data frequency is: D, used frequency is: D\n",
      "Too many training validations for length of data provided, decreasing num_validations to 1\n",
      "Model Number: 1 with model AverageValueNaive in generation 0 of 10\n",
      "Model Number: 2 with model AverageValueNaive in generation 0 of 10\n",
      "Model Number: 3 with model AverageValueNaive in generation 0 of 10\n"
     ]
    },
    {
     "name": "stderr",
     "output_type": "stream",
     "text": [
      "/tmp/ipykernel_5304/1116074175.py:19: SettingWithCopyWarning: \n",
      "A value is trying to be set on a copy of a slice from a DataFrame.\n",
      "Try using .loc[row_indexer,col_indexer] = value instead\n",
      "\n",
      "See the caveats in the documentation: https://pandas.pydata.org/pandas-docs/stable/user_guide/indexing.html#returning-a-view-versus-a-copy\n",
      "  user_data[\"year\"] = user_data[\"date\"].dt.year\n",
      "/tmp/ipykernel_5304/1116074175.py:20: SettingWithCopyWarning: \n",
      "A value is trying to be set on a copy of a slice from a DataFrame.\n",
      "Try using .loc[row_indexer,col_indexer] = value instead\n",
      "\n",
      "See the caveats in the documentation: https://pandas.pydata.org/pandas-docs/stable/user_guide/indexing.html#returning-a-view-versus-a-copy\n",
      "  user_data[\"month\"] = user_data[\"date\"].dt.month\n",
      "/tmp/ipykernel_5304/1116074175.py:21: SettingWithCopyWarning: \n",
      "A value is trying to be set on a copy of a slice from a DataFrame.\n",
      "Try using .loc[row_indexer,col_indexer] = value instead\n",
      "\n",
      "See the caveats in the documentation: https://pandas.pydata.org/pandas-docs/stable/user_guide/indexing.html#returning-a-view-versus-a-copy\n",
      "  user_data[\"day\"] = user_data[\"date\"].dt.day\n",
      "/tmp/ipykernel_5304/1116074175.py:56: FutureWarning: DataFrame.fillna with 'method' is deprecated and will raise in a future version. Use obj.ffill() or obj.bfill() instead.\n",
      "  daily_df.fillna(method='ffill', inplace=True)\n",
      "/tmp/ipykernel_5304/1116074175.py:57: FutureWarning: DataFrame.fillna with 'method' is deprecated and will raise in a future version. Use obj.ffill() or obj.bfill() instead.\n",
      "  daily_df.fillna(method='bfill', inplace=True)\n",
      "/tmp/ipykernel_5304/1116074175.py:89: FutureWarning: DataFrame.fillna with 'method' is deprecated and will raise in a future version. Use obj.ffill() or obj.bfill() instead.\n",
      "  df = df.fillna(method='ffill')\n",
      "/tmp/ipykernel_5304/1116074175.py:91: FutureWarning: DataFrame.fillna with 'method' is deprecated and will raise in a future version. Use obj.ffill() or obj.bfill() instead.\n",
      "  df = df.fillna(method='ffill')\n",
      "/tmp/ipykernel_5304/1116074175.py:89: FutureWarning: DataFrame.fillna with 'method' is deprecated and will raise in a future version. Use obj.ffill() or obj.bfill() instead.\n",
      "  df = df.fillna(method='ffill')\n",
      "/tmp/ipykernel_5304/1116074175.py:91: FutureWarning: DataFrame.fillna with 'method' is deprecated and will raise in a future version. Use obj.ffill() or obj.bfill() instead.\n",
      "  df = df.fillna(method='ffill')\n",
      "/tmp/ipykernel_5304/1116074175.py:98: FutureWarning: DataFrame.fillna with 'method' is deprecated and will raise in a future version. Use obj.ffill() or obj.bfill() instead.\n",
      "  train_df.fillna(method='ffill', inplace=True)\n",
      "/tmp/ipykernel_5304/1116074175.py:99: FutureWarning: DataFrame.fillna with 'method' is deprecated and will raise in a future version. Use obj.ffill() or obj.bfill() instead.\n",
      "  train_df.fillna(method='bfill', inplace=True)\n",
      "/tmp/ipykernel_5304/1116074175.py:102: FutureWarning: DataFrame.fillna with 'method' is deprecated and will raise in a future version. Use obj.ffill() or obj.bfill() instead.\n",
      "  test_df.fillna(method='ffill', inplace=True)\n",
      "/tmp/ipykernel_5304/1116074175.py:103: FutureWarning: DataFrame.fillna with 'method' is deprecated and will raise in a future version. Use obj.ffill() or obj.bfill() instead.\n",
      "  test_df.fillna(method='bfill', inplace=True)\n"
     ]
    },
    {
     "name": "stdout",
     "output_type": "stream",
     "text": [
      "Model Number: 4 with model DatepartRegression in generation 0 of 10\n",
      "Model Number: 5 with model DatepartRegression in generation 0 of 10\n",
      "Model Number: 6 with model DatepartRegression in generation 0 of 10\n"
     ]
    },
    {
     "name": "stderr",
     "output_type": "stream",
     "text": [
      "/home/zeus/miniconda3/envs/cloudspace/lib/python3.10/site-packages/sklearn/svm/_classes.py:32: FutureWarning: The default value of `dual` will change from `True` to `'auto'` in 1.5. Set the value of `dual` explicitly to suppress the warning.\n",
      "  warnings.warn(\n",
      "/home/zeus/miniconda3/envs/cloudspace/lib/python3.10/site-packages/sklearn/svm/_base.py:1250: ConvergenceWarning: Liblinear failed to converge, increase the number of iterations.\n",
      "  warnings.warn(\n",
      "/home/zeus/miniconda3/envs/cloudspace/lib/python3.10/site-packages/sklearn/neural_network/_multilayer_perceptron.py:546: ConvergenceWarning: lbfgs failed to converge (status=1):\n",
      "STOP: TOTAL NO. of ITERATIONS REACHED LIMIT.\n",
      "\n",
      "Increase the number of iterations (max_iter) or scale the data as shown in:\n",
      "    https://scikit-learn.org/stable/modules/preprocessing.html\n",
      "  self.n_iter_ = _check_optimize_result(\"lbfgs\", opt_res, self.max_iter)\n"
     ]
    },
    {
     "name": "stdout",
     "output_type": "stream",
     "text": [
      "Model Number: 7 with model DatepartRegression in generation 0 of 10\n",
      "Template Eval Error: ImportError('Tensorflow not available, install with pip install tensorflow.') in model 7 in generation 0: DatepartRegression\n",
      "Model Number: 8 with model ETS in generation 0 of 10\n",
      "Model Number: 9 with model ETS in generation 0 of 10\n",
      "Model Number: 10 with model GLM in generation 0 of 10\n",
      "Model Number: 11 with model GLM in generation 0 of 10\n",
      "Model Number: 12 with model GLS in generation 0 of 10\n",
      "Model Number: 13 with model GLS in generation 0 of 10\n",
      "Model Number: 14 with model LastValueNaive in generation 0 of 10\n",
      "Model Number: 15 with model LastValueNaive in generation 0 of 10\n",
      "Model Number: 16 with model LastValueNaive in generation 0 of 10\n",
      "Model Number: 17 with model LastValueNaive in generation 0 of 10\n",
      "Model Number: 18 with model SeasonalNaive in generation 0 of 10\n",
      "Model Number: 19 with model SeasonalNaive in generation 0 of 10\n",
      "Model Number: 20 with model SeasonalNaive in generation 0 of 10\n",
      "Model Number: 21 with model VAR in generation 0 of 10\n",
      "Template Eval Error: ValueError('Only gave one variable to VAR') in model 21 in generation 0: VAR\n",
      "Model Number: 22 with model VAR in generation 0 of 10\n",
      "Template Eval Error: ValueError('Only gave one variable to VAR') in model 22 in generation 0: VAR\n",
      "Model Number: 23 with model WindowRegression in generation 0 of 10\n",
      "Model Number: 24 with model ConstantNaive in generation 0 of 10\n",
      "Model Number: 25 with model FBProphet in generation 0 of 10\n",
      "Template Eval Error: ModuleNotFoundError(\"No module named 'fbprophet'\") in model 25 in generation 0: FBProphet\n",
      "Model Number: 26 with model DatepartRegression in generation 0 of 10\n",
      "Template Eval Error: ValueError(\"regression_type='User' but no future_regressor passed\") in model 26 in generation 0: DatepartRegression\n",
      "Model Number: 27 with model SeasonalNaive in generation 0 of 10\n"
     ]
    },
    {
     "name": "stderr",
     "output_type": "stream",
     "text": [
      "/home/zeus/miniconda3/envs/cloudspace/lib/python3.10/site-packages/sklearn/neural_network/_multilayer_perceptron.py:546: ConvergenceWarning: lbfgs failed to converge (status=1):\n",
      "STOP: TOTAL NO. of ITERATIONS REACHED LIMIT.\n",
      "\n",
      "Increase the number of iterations (max_iter) or scale the data as shown in:\n",
      "    https://scikit-learn.org/stable/modules/preprocessing.html\n",
      "  self.n_iter_ = _check_optimize_result(\"lbfgs\", opt_res, self.max_iter)\n"
     ]
    },
    {
     "name": "stdout",
     "output_type": "stream",
     "text": [
      "Model Number: 28 with model DatepartRegression in generation 0 of 10\n",
      "Model Number: 29 with model ETS in generation 0 of 10\n",
      "Model Number: 30 with model ARDL in generation 0 of 10\n",
      "Model Number: 31 with model UnivariateMotif in generation 0 of 10\n",
      "Model Number: 32 with model UnivariateMotif in generation 0 of 10\n",
      "Model Number: 33 with model SectionalMotif in generation 0 of 10\n",
      "Model Number: 34 with model SectionalMotif in generation 0 of 10\n",
      "Model Number: 35 with model FBProphet in generation 0 of 10\n",
      "Template Eval Error: ModuleNotFoundError(\"No module named 'fbprophet'\") in model 35 in generation 0: FBProphet\n",
      "Model Number: 36 with model SeasonalNaive in generation 0 of 10\n",
      "Model Number: 37 with model DatepartRegression in generation 0 of 10\n",
      "Model Number: 38 with model ARCH in generation 0 of 10\n",
      "Template Eval Error: ImportError('`arch` package must be installed from pip') in model 38 in generation 0: ARCH\n",
      "Model Number: 39 with model Cassandra in generation 0 of 10\n",
      "Template Eval Error: ValueError('more than 1 year of data is required for holiday detection.') in model 39 in generation 0: Cassandra\n",
      "Model Number: 40 with model SeasonalityMotif in generation 0 of 10\n",
      "Model Number: 41 with model Cassandra in generation 0 of 10\n",
      "Template Eval Error: ValueError('more than 1 year of data is required for holiday detection.') in model 41 in generation 0: Cassandra\n",
      "Model Number: 42 with model Cassandra in generation 0 of 10\n",
      "Template Eval Error: ValueError('more than 1 year of data is required for holiday detection.') in model 42 in generation 0: Cassandra\n",
      "Model Number: 43 with model Cassandra in generation 0 of 10\n",
      "Template Eval Error: ValueError('more than 1 year of data is required for holiday detection.') in model 43 in generation 0: Cassandra\n",
      "Model Number: 44 with model SectionalMotif in generation 0 of 10\n",
      "Model Number: 45 with model FBProphet in generation 0 of 10\n",
      "Template Eval Error: ModuleNotFoundError(\"No module named 'fbprophet'\") in model 45 in generation 0: FBProphet\n",
      "Model Number: 46 with model ARDL in generation 0 of 10\n",
      "Model Number: 47 with model FFT in generation 0 of 10\n",
      "Model Number: 48 with model BasicLinearModel in generation 0 of 10\n",
      "Model Number: 49 with model BasicLinearModel in generation 0 of 10\n",
      "Template Eval Error: Exception('Transformer RobustScaler failed on inverse from params piecewise_polynomial {\\'0\\': {\\'rows\\': 1, \\'lag\\': 2, \\'method\\': \\'multiplicative\\', \\'strength\\': 0.9, \\'first_value_only\\': False, \\'threshold\\': 1, \\'threshold_method\\': \\'mean\\'}, \\'1\\': {\\'center\\': \\'mean\\'}, \\'2\\': {}, \\'3\\': {}} with ValueError(\"Input contains infinity or a value too large for dtype(\\'float64\\').\")') in model 49 in generation 0: BasicLinearModel\n",
      "Model Number: 50 with model SeasonalityMotif in generation 0 of 10\n",
      "Model Number: 51 with model ETS in generation 0 of 10\n"
     ]
    },
    {
     "name": "stderr",
     "output_type": "stream",
     "text": [
      "/home/zeus/miniconda3/envs/cloudspace/lib/python3.10/site-packages/pandas/core/internals/blocks.py:366: RuntimeWarning: overflow encountered in exp\n",
      "  result = func(self.values, **kwargs)\n"
     ]
    },
    {
     "name": "stdout",
     "output_type": "stream",
     "text": [
      "Model Number: 52 with model FBProphet in generation 0 of 10\n",
      "Template Eval Error: ModuleNotFoundError(\"No module named 'fbprophet'\") in model 52 in generation 0: FBProphet\n",
      "Model Number: 53 with model GLM in generation 0 of 10\n",
      "Model Number: 54 with model UnivariateMotif in generation 0 of 10\n",
      "Model Number: 55 with model ARDL in generation 0 of 10\n",
      "Template Eval Error: ValueError(\"regression_type='User' but future_regressor not supplied\") in model 55 in generation 0: ARDL\n",
      "Model Number: 56 with model ARCH in generation 0 of 10\n",
      "Template Eval Error: ImportError('`arch` package must be installed from pip') in model 56 in generation 0: ARCH\n",
      "Model Number: 57 with model ConstantNaive in generation 0 of 10\n",
      "Model Number: 58 with model LastValueNaive in generation 0 of 10\n",
      "Model Number: 59 with model AverageValueNaive in generation 0 of 10\n",
      "Model Number: 60 with model GLS in generation 0 of 10\n",
      "Model Number: 61 with model SeasonalNaive in generation 0 of 10\n",
      "Model Number: 62 with model VAR in generation 0 of 10\n",
      "Template Eval Error: ValueError('Only gave one variable to VAR') in model 62 in generation 0: VAR\n",
      "Model Number: 63 with model WindowRegression in generation 0 of 10\n",
      "Model Number: 64 with model DatepartRegression in generation 0 of 10\n"
     ]
    },
    {
     "name": "stderr",
     "output_type": "stream",
     "text": [
      "/home/zeus/miniconda3/envs/cloudspace/lib/python3.10/site-packages/sklearn/base.py:458: UserWarning: X has feature names, but StandardScaler was fitted without feature names\n",
      "  warnings.warn(\n"
     ]
    },
    {
     "name": "stdout",
     "output_type": "stream",
     "text": [
      "Model Number: 65 with model SectionalMotif in generation 0 of 10\n",
      "Model Number: 66 with model RRVAR in generation 0 of 10\n",
      "Model Number: 67 with model MetricMotif in generation 0 of 10\n",
      "Model Number: 68 with model Cassandra in generation 0 of 10\n",
      "Template Eval Error: ValueError('Shape of passed values is (156, 2), indices imply (156, 1)') in model 68 in generation 0: Cassandra\n",
      "Model Number: 69 with model SeasonalityMotif in generation 0 of 10\n",
      "Model Number: 70 with model FFT in generation 0 of 10\n"
     ]
    },
    {
     "name": "stderr",
     "output_type": "stream",
     "text": [
      "/home/zeus/miniconda3/envs/cloudspace/lib/python3.10/site-packages/autots/tools/percentile.py:47: RuntimeWarning: All-NaN slice encountered\n",
      "  max_val = np.nanmax(arr)\n"
     ]
    },
    {
     "name": "stdout",
     "output_type": "stream",
     "text": [
      "Model Number: 71 with model BasicLinearModel in generation 0 of 10\n",
      "Model Number: 72 with model SectionalMotif in generation 0 of 10\n",
      "Model Number: 73 with model ARDL in generation 0 of 10\n",
      "Template Eval Error: ValueError(\"regression_type='User' but future_regressor not supplied\") in model 73 in generation 0: ARDL\n",
      "Model Number: 74 with model SeasonalityMotif in generation 0 of 10\n",
      "Model Number: 75 with model MetricMotif in generation 0 of 10\n",
      "Model Number: 76 with model ConstantNaive in generation 0 of 10\n",
      "Model Number: 77 with model UnivariateMotif in generation 0 of 10\n",
      "Template Eval Error: Exception(\"Transformer RobustScaler failed on fit from params pchip {'0': {'low': 6, 'high': 90, 'K': 1, 'lanczos_factor': False, 'return_diff': False, 'on_transform': True, 'on_inverse': False}, '1': {}, '2': {'rows': 1, 'lag': 1, 'method': 'additive', 'strength': 1.0, 'first_value_only': False, 'threshold': 10, 'threshold_method': 'max'}, '3': {'method': 100}, '4': {'window': None}, '5': {'decimals': 0, 'on_transform': True, 'on_inverse': False}} with error ValueError('Shape of passed values is (154, 1), indices imply (156, 1)')\") in model 77 in generation 0: UnivariateMotif\n",
      "Model Number: 78 with model SeasonalityMotif in generation 0 of 10\n",
      "Model Number: 79 with model MetricMotif in generation 0 of 10\n",
      "Model Number: 80 with model ARDL in generation 0 of 10\n",
      "Template Eval Error: ValueError(\"regression_type='User' but future_regressor not supplied\") in model 80 in generation 0: ARDL\n",
      "Model Number: 81 with model ARDL in generation 0 of 10\n",
      "Template Eval Error: ValueError(\"regression_type='User' but future_regressor not supplied\") in model 81 in generation 0: ARDL\n",
      "Model Number: 82 with model SeasonalNaive in generation 0 of 10\n",
      "Template Eval Error: Exception(\"Transformer HolidayTransformer failed on fit from params ffill {'0': {'part': 'trend', 'lamb': 129600}, '1': {'output_distribution': 'uniform', 'n_quantiles': 52}, '2': {}, '3': {'threshold': 0.9, 'splash_threshold': None, 'use_dayofmonth_holidays': True, 'use_wkdom_holidays': True, 'use_wkdeom_holidays': True, 'use_lunar_holidays': False, 'use_lunar_weekday': False, 'use_islamic_holidays': False, 'use_hebrew_holidays': False, 'use_hindu_holidays': True, 'anomaly_detector_params': {'method': 'minmax', 'method_params': {'alpha': 0.03}, 'fillna': 'mean', 'transform_dict': None, 'isolated_only': False, 'on_inverse': False}, 'remove_excess_anomalies': False, 'impact': 'datepart_regression', 'regression_params': {'regression_model': {'model': 'ElasticNet', 'model_params': {'l1_ratio': 0.5, 'fit_intercept': True, 'selection': 'cyclic', 'max_iter': 1000}}, 'datepart_method': 'expanded', 'polynomial_degree': None, 'transform_dict': None, 'holiday_countries_used': False, 'lags': None, 'forward_lags': 4}}, '4': {}} with error ValueError('more than 1 year of data is required for holiday detection.')\") in model 82 in generation 0: SeasonalNaive\n",
      "Model Number: 83 with model Cassandra in generation 0 of 10\n",
      "Template Eval Error: UnboundLocalError(\"local variable 'slope' referenced before assignment\") in model 83 in generation 0: Cassandra\n",
      "Model Number: 84 with model VAR in generation 0 of 10\n",
      "Template Eval Error: ValueError('Only gave one variable to VAR') in model 84 in generation 0: VAR\n",
      "Model Number: 85 with model SeasonalityMotif in generation 0 of 10\n",
      "Template Eval Error: ValueError('kth(=99) out of bounds (81)') in model 85 in generation 0: SeasonalityMotif\n",
      "Model Number: 86 with model DatepartRegression in generation 0 of 10\n",
      "Model Number: 87 with model SectionalMotif in generation 0 of 10\n",
      "Model Number: 88 with model RRVAR in generation 0 of 10\n",
      "Model Number: 89 with model VAR in generation 0 of 10\n",
      "Template Eval Error: LinAlgError('2-th leading minor of the array is not positive definite') in model 89 in generation 0: VAR\n",
      "Model Number: 90 with model VAR in generation 0 of 10\n",
      "Template Eval Error: ValueError('Only gave one variable to VAR') in model 90 in generation 0: VAR\n",
      "Model Number: 91 with model FBProphet in generation 0 of 10\n",
      "Template Eval Error: ModuleNotFoundError(\"No module named 'fbprophet'\") in model 91 in generation 0: FBProphet\n",
      "Model Number: 92 with model SeasonalityMotif in generation 0 of 10\n",
      "Model Number: 93 with model GLS in generation 0 of 10\n",
      "Model Number: 94 with model GLM in generation 0 of 10\n",
      "Template Eval Error: ValueError('regression_type=user and no future_regressor passed') in model 94 in generation 0: GLM\n",
      "Model Number: 95 with model GLM in generation 0 of 10\n",
      "Template Eval Error: ValueError('The first guess on the deviance function returned a nan.  This could be a boundary  problem and should be reported.') in model 95 in generation 0: GLM\n",
      "Model Number: 96 with model LastValueNaive in generation 0 of 10\n",
      "Model Number: 97 with model VAR in generation 0 of 10\n",
      "Template Eval Error: ValueError('Only gave one variable to VAR') in model 97 in generation 0: VAR\n",
      "Model Number: 98 with model ETS in generation 0 of 10\n"
     ]
    },
    {
     "name": "stderr",
     "output_type": "stream",
     "text": [
      "/home/zeus/miniconda3/envs/cloudspace/lib/python3.10/site-packages/statsmodels/genmod/families/family.py:1367: ValueWarning: Negative binomial dispersion parameter alpha not set. Using default value alpha=1.0.\n",
      "  warnings.warn(\"Negative binomial dispersion parameter alpha not \"\n",
      "/home/zeus/miniconda3/envs/cloudspace/lib/python3.10/site-packages/statsmodels/genmod/families/family.py:1406: RuntimeWarning: divide by zero encountered in log\n",
      "  resid_dev -= endog_alpha * np.log(endog_alpha / mu_alpha)\n",
      "/home/zeus/miniconda3/envs/cloudspace/lib/python3.10/site-packages/statsmodels/genmod/families/family.py:1406: RuntimeWarning: invalid value encountered in multiply\n",
      "  resid_dev -= endog_alpha * np.log(endog_alpha / mu_alpha)\n"
     ]
    },
    {
     "name": "stdout",
     "output_type": "stream",
     "text": [
      "Model Number: 99 with model Cassandra in generation 0 of 10\n"
     ]
    },
    {
     "name": "stderr",
     "output_type": "stream",
     "text": [
      "/home/zeus/miniconda3/envs/cloudspace/lib/python3.10/site-packages/numpy/lib/function_base.py:2897: RuntimeWarning: invalid value encountered in divide\n",
      "  c /= stddev[:, None]\n",
      "/home/zeus/miniconda3/envs/cloudspace/lib/python3.10/site-packages/numpy/lib/function_base.py:2898: RuntimeWarning: invalid value encountered in divide\n",
      "  c /= stddev[None, :]\n"
     ]
    },
    {
     "name": "stdout",
     "output_type": "stream",
     "text": [
      "Model Number: 100 with model SeasonalityMotif in generation 0 of 10\n",
      "Model Number: 101 with model SectionalMotif in generation 0 of 10\n",
      "Model Number: 102 with model GLS in generation 0 of 10\n",
      "Template Eval Error: ValueError(\"Model returned NaN due to a preprocessing transformer {'fillna': 'fake_date', 'transformations': {'0': 'AlignLastValue', '1': 'SeasonalDifference', '2': 'Log', '3': 'ClipOutliers', '4': 'CumSumTransformer'}, 'transformation_params': {'0': {'rows': 4, 'lag': 1, 'method': 'additive', 'strength': 1.0, 'first_value_only': False, 'threshold': None, 'threshold_method': 'max'}, '1': {'lag_1': 7, 'method': 20}, '2': {}, '3': {'method': 'clip', 'std_threshold': 4, 'fillna': None}, '4': {}}}. fail_on_forecast_nan=True\") in model 102 in generation 0: GLS\n",
      "Model Number: 103 with model GLS in generation 0 of 10\n",
      "Template Eval Error: Exception('Transformer PCA failed on fit from params zero {\\'0\\': {\\'method\\': \\'clip\\', \\'std_threshold\\': 3, \\'fillna\\': None}, \\'1\\': {\\'model\\': \\'GLS\\', \\'phi\\': 1, \\'window\\': None, \\'transform_dict\\': None}, \\'2\\': {\\'whiten\\': True, \\'n_components\\': 10}, \\'3\\': {\\'rows\\': 1, \\'lag\\': 1, \\'method\\': \\'additive\\', \\'strength\\': 1.0, \\'first_value_only\\': False, \\'threshold\\': None, \\'threshold_method\\': \\'mean\\'}} with error ValueError(\"n_components=10 must be between 0 and min(n_samples, n_features)=1 with svd_solver=\\'full\\'\")') in model 103 in generation 0: GLS\n",
      "Model Number: 104 with model ARCH in generation 0 of 10\n",
      "Template Eval Error: ImportError('`arch` package must be installed from pip') in model 104 in generation 0: ARCH\n",
      "Model Number: 105 with model SeasonalityMotif in generation 0 of 10\n",
      "Template Eval Error: Exception(\"Transformer HolidayTransformer failed on fit from params cubic {'0': {}, '1': {'threshold': 0.9, 'splash_threshold': 0.65, 'use_dayofmonth_holidays': True, 'use_wkdom_holidays': False, 'use_wkdeom_holidays': False, 'use_lunar_holidays': False, 'use_lunar_weekday': False, 'use_islamic_holidays': False, 'use_hebrew_holidays': False, 'use_hindu_holidays': False, 'anomaly_detector_params': {'method': 'zscore', 'method_params': {'distribution': 'chi2', 'alpha': 0.05}, 'fillna': 'ffill', 'transform_dict': None, 'isolated_only': False, 'on_inverse': False}, 'remove_excess_anomalies': True, 'impact': 'datepart_regression', 'regression_params': {'regression_model': {'model': 'ElasticNet', 'model_params': {'l1_ratio': 0.5, 'fit_intercept': True, 'selection': 'cyclic', 'max_iter': 1000}}, 'datepart_method': 'common_fourier', 'polynomial_degree': None, 'transform_dict': {'fillna': None, 'transformations': {'0': 'ScipyFilter'}, 'transformation_params': {'0': {'method': 'savgol_filter', 'method_args': {'window_length': 31, 'polyorder': 3, 'deriv': 0, 'mode': 'interp'}}}}, 'holiday_countries_used': False, 'lags': None, 'forward_lags': None}}, '2': {}, '3': {'window_size': 364, 'alpha': 2.2, 'grouping_forward_limit': 4, 'max_level_shifts': 10, 'alignment': 'rolling_diff_5nn'}, '4': {'lag': 7, 'fill': 'bfill'}, '5': {}} with error ValueError('more than 1 year of data is required for holiday detection.')\") in model 105 in generation 0: SeasonalityMotif\n",
      "Model Number: 106 with model LastValueNaive in generation 0 of 10\n",
      "Model Number: 107 with model BasicLinearModel in generation 0 of 10\n"
     ]
    },
    {
     "name": "stderr",
     "output_type": "stream",
     "text": [
      "/home/zeus/miniconda3/envs/cloudspace/lib/python3.10/site-packages/pandas/core/internals/blocks.py:366: RuntimeWarning: overflow encountered in exp\n",
      "  result = func(self.values, **kwargs)\n"
     ]
    },
    {
     "name": "stdout",
     "output_type": "stream",
     "text": [
      "Model Number: 108 with model LastValueNaive in generation 0 of 10\n",
      "Model Number: 109 with model AverageValueNaive in generation 0 of 10\n",
      "Model Number: 110 with model DatepartRegression in generation 0 of 10\n",
      "Model Number: 111 with model ETS in generation 0 of 10\n",
      "Model Number: 112 with model ARCH in generation 0 of 10\n",
      "Template Eval Error: ImportError('`arch` package must be installed from pip') in model 112 in generation 0: ARCH\n",
      "Model Number: 113 with model FFT in generation 0 of 10\n",
      "Model Number: 114 with model FBProphet in generation 0 of 10\n",
      "Template Eval Error: ModuleNotFoundError(\"No module named 'fbprophet'\") in model 114 in generation 0: FBProphet\n",
      "Model Number: 115 with model MetricMotif in generation 0 of 10\n",
      "Model Number: 116 with model UnivariateMotif in generation 0 of 10\n",
      "Model Number: 117 with model WindowRegression in generation 0 of 10\n",
      "Template Eval Error: Exception(\"Transformer HolidayTransformer failed on fit from params ffill {'0': {'rows': 1, 'lag': 1, 'method': 'additive', 'strength': 0.7, 'first_value_only': False, 'threshold': 10, 'threshold_method': 'mean'}, '1': {'threshold': 0.8, 'splash_threshold': None, 'use_dayofmonth_holidays': True, 'use_wkdom_holidays': True, 'use_wkdeom_holidays': False, 'use_lunar_holidays': False, 'use_lunar_weekday': True, 'use_islamic_holidays': False, 'use_hebrew_holidays': False, 'use_hindu_holidays': False, 'anomaly_detector_params': {'method': 'IQR', 'method_params': {'iqr_threshold': 2.0, 'iqr_quantiles': [0.25, 0.75]}, 'fillna': 'rolling_mean_24', 'transform_dict': {'fillna': None, 'transformations': {'0': 'ClipOutliers'}, 'transformation_params': {'0': {'method': 'clip', 'std_threshold': 6}}}, 'isolated_only': False, 'on_inverse': False}, 'remove_excess_anomalies': True, 'impact': 'datepart_regression', 'regression_params': {'regression_model': {'model': 'ElasticNet', 'model_params': {'l1_ratio': 0.5, 'fit_intercept': True, 'selection': 'cyclic', 'max_iter': 1000}}, 'datepart_method': 'simple', 'polynomial_degree': None, 'transform_dict': None, 'holiday_countries_used': False, 'lags': None, 'forward_lags': None}}} with error ValueError('more than 1 year of data is required for holiday detection.')\") in model 117 in generation 0: WindowRegression\n",
      "Model Number: 118 with model UnivariateMotif in generation 0 of 10\n",
      "Model Number: 119 with model ETS in generation 0 of 10\n",
      "Model Number: 120 with model LastValueNaive in generation 0 of 10\n",
      "Model Number: 121 with model Cassandra in generation 0 of 10\n",
      "Model Number: 122 with model SectionalMotif in generation 0 of 10\n",
      "Model Number: 123 with model DatepartRegression in generation 0 of 10\n",
      "Template Eval Error: ValueError(\"regression_type='User' but no future_regressor passed\") in model 123 in generation 0: DatepartRegression\n",
      "Model Number: 124 with model GLM in generation 0 of 10\n",
      "Model Number: 125 with model LastValueNaive in generation 0 of 10\n",
      "Model Number: 126 with model MetricMotif in generation 0 of 10\n",
      "Model Number: 127 with model FFT in generation 0 of 10\n",
      "Model Number: 128 with model MetricMotif in generation 0 of 10\n",
      "Model Number: 129 with model ETS in generation 0 of 10\n",
      "Model Number: 130 with model SeasonalityMotif in generation 0 of 10\n",
      "Model Number: 131 with model LastValueNaive in generation 0 of 10\n",
      "Model Number: 132 with model SectionalMotif in generation 0 of 10\n",
      "Template Eval Error: Exception(\"Transformer HolidayTransformer failed on fit from params zero {'0': {'constraint_method': 'last_window', 'constraint_direction': 'lower', 'constraint_regularization': 0.5, 'constraint_value': {'window': 10, 'threshold': -0.1}, 'bounds_only': False, 'fillna': None}, '1': {'model': 'Linear', 'phi': 1, 'window': None, 'transform_dict': None}, '2': {}, '3': {}, '4': {'threshold': 0.8, 'splash_threshold': 0.4, 'use_dayofmonth_holidays': True, 'use_wkdom_holidays': True, 'use_wkdeom_holidays': False, 'use_lunar_holidays': False, 'use_lunar_weekday': False, 'use_islamic_holidays': False, 'use_hebrew_holidays': False, 'use_hindu_holidays': False, 'anomaly_detector_params': {'method': 'mad', 'method_params': {'distribution': 'uniform', 'alpha': 0.05}, 'fillna': 'fake_date', 'transform_dict': {'transformations': {'0': 'DatepartRegression'}, 'transformation_params': {'0': {'datepart_method': 'simple_3', 'regression_model': {'model': 'DecisionTree', 'model_params': {'max_depth': None, 'min_samples_split': 0.1}}}}}, 'isolated_only': False, 'on_inverse': False}, 'remove_excess_anomalies': True, 'impact': 'regression', 'regression_params': {}}, '5': {'fixed': True, 'window': 7, 'macro_micro': False, 'center': True}} with error ValueError('more than 1 year of data is required for holiday detection.')\") in model 132 in generation 0: SectionalMotif\n",
      "Model Number: 133 with model ARDL in generation 0 of 10\n",
      "Template Eval Error: ValueError(\"regression_type='User' but future_regressor not supplied\") in model 133 in generation 0: ARDL\n",
      "Model Number: 134 with model FFT in generation 0 of 10\n",
      "Model Number: 135 with model SectionalMotif in generation 0 of 10\n",
      "Template Eval Error: Exception(\"Transformer Detrend failed on fit from params time {'0': {'method': 'clip', 'std_threshold': 4, 'fillna': None}, '1': {'model': 'Linear', 'phi': 1, 'window': None, 'transform_dict': {'fillna': None, 'transformations': {'0': 'AnomalyRemoval'}, 'transformation_params': {'0': {'method': 'zscore', 'transform_dict': {'transformations': {'0': 'DatepartRegression'}, 'transformation_params': {'0': {'datepart_method': 'simple_3', 'regression_model': {'model': 'ElasticNet', 'model_params': {}}}}}, 'method_params': {'distribution': 'uniform', 'alpha': 0.05}}}}}, '2': {'lag': 7, 'fill': 'bfill'}} with error ValueError('Input y contains NaN.')\") in model 135 in generation 0: SectionalMotif\n",
      "Model Number: 136 with model WindowRegression in generation 0 of 10\n",
      "Template Eval Error: ModuleNotFoundError(\"No module named 'lightgbm'\") in model 136 in generation 0: WindowRegression\n",
      "Model Number: 137 with model ARDL in generation 0 of 10\n",
      "Model Number: 138 with model GLS in generation 0 of 10\n",
      "Model Number: 139 with model ARDL in generation 0 of 10\n",
      "Model Number: 140 with model RRVAR in generation 0 of 10\n",
      "Model Number: 141 with model SeasonalityMotif in generation 0 of 10\n",
      "Model Number: 142 with model MetricMotif in generation 0 of 10\n",
      "Model Number: 143 with model ETS in generation 0 of 10\n",
      "Model Number: 144 with model ConstantNaive in generation 0 of 10\n",
      "Model Number: 145 with model UnivariateMotif in generation 0 of 10\n",
      "Model Number: 146 with model ETS in generation 0 of 10\n",
      "Model Number: 147 with model FFT in generation 0 of 10\n",
      "Model Number: 148 with model ARCH in generation 0 of 10\n",
      "Template Eval Error: ImportError('`arch` package must be installed from pip') in model 148 in generation 0: ARCH\n",
      "Model Number: 149 with model GLM in generation 0 of 10\n",
      "Template Eval Error: ValueError('The first guess on the deviance function returned a nan.  This could be a boundary  problem and should be reported.') in model 149 in generation 0: GLM\n",
      "Model Number: 150 with model ARCH in generation 0 of 10\n"
     ]
    },
    {
     "name": "stderr",
     "output_type": "stream",
     "text": [
      "/home/zeus/miniconda3/envs/cloudspace/lib/python3.10/site-packages/statsmodels/genmod/families/family.py:1650: RuntimeWarning: invalid value encountered in log\n",
      "  endog * np.log(endog / mu) + (mu - endog))\n"
     ]
    },
    {
     "name": "stdout",
     "output_type": "stream",
     "text": [
      "Template Eval Error: ImportError('`arch` package must be installed from pip') in model 150 in generation 0: ARCH\n",
      "Model Number: 151 with model ConstantNaive in generation 0 of 10\n",
      "Model Number: 152 with model FFT in generation 0 of 10\n",
      "Model Number: 153 with model LastValueNaive in generation 0 of 10\n",
      "Model Number: 154 with model ConstantNaive in generation 0 of 10\n",
      "Model Number: 155 with model MetricMotif in generation 0 of 10\n",
      "New Generation: 1 of 10\n",
      "Model Number: 156 with model BasicLinearModel in generation 1 of 10\n",
      "Model Number: 157 with model RRVAR in generation 1 of 10\n",
      "Model Number: 158 with model MetricMotif in generation 1 of 10\n",
      "Model Number: 159 with model SeasonalNaive in generation 1 of 10\n",
      "Model Number: 160 with model MetricMotif in generation 1 of 10\n",
      "Model Number: 161 with model SectionalMotif in generation 1 of 10\n",
      "Model Number: 162 with model GLS in generation 1 of 10\n",
      "Model Number: 163 with model MetricMotif in generation 1 of 10\n",
      "Model Number: 164 with model UnivariateMotif in generation 1 of 10\n",
      "Model Number: 165 with model UnivariateMotif in generation 1 of 10\n"
     ]
    },
    {
     "name": "stderr",
     "output_type": "stream",
     "text": [
      "/home/zeus/miniconda3/envs/cloudspace/lib/python3.10/site-packages/sklearn/linear_model/_linear_loss.py:290: RuntimeWarning: invalid value encountered in matmul\n",
      "  grad[:n_features] = X.T @ grad_pointwise + l2_reg_strength * weights\n"
     ]
    },
    {
     "name": "stdout",
     "output_type": "stream",
     "text": [
      "Model Number: 166 with model BasicLinearModel in generation 1 of 10\n",
      "Template Eval Error: ValueError(\"regression_type=='User' but no future_regressor supplied\") in model 166 in generation 1: BasicLinearModel\n",
      "Model Number: 167 with model GLS in generation 1 of 10\n",
      "Model Number: 168 with model GLS in generation 1 of 10\n",
      "Model Number: 169 with model GLM in generation 1 of 10\n",
      "Model Number: 170 with model SectionalMotif in generation 1 of 10\n",
      "Template Eval Error: ValueError('kth(=100) out of bounds (74)') in model 170 in generation 1: SectionalMotif\n",
      "Model Number: 171 with model MetricMotif in generation 1 of 10\n",
      "Model Number: 172 with model ARDL in generation 1 of 10\n",
      "Template Eval Error: ValueError(\"regression_type='User' but future_regressor not supplied\") in model 172 in generation 1: ARDL\n",
      "Model Number: 173 with model FFT in generation 1 of 10\n",
      "Model Number: 174 with model ConstantNaive in generation 1 of 10\n",
      "Model Number: 175 with model AverageValueNaive in generation 1 of 10\n",
      "Model Number: 176 with model MetricMotif in generation 1 of 10\n"
     ]
    },
    {
     "name": "stderr",
     "output_type": "stream",
     "text": [
      "/home/zeus/miniconda3/envs/cloudspace/lib/python3.10/site-packages/statsmodels/genmod/families/links.py:198: RuntimeWarning: overflow encountered in exp\n",
      "  t = np.exp(-z)\n"
     ]
    },
    {
     "name": "stdout",
     "output_type": "stream",
     "text": [
      "Model Number: 177 with model Cassandra in generation 1 of 10\n",
      "Template Eval Error: ValueError('Multivariate Transformer not usable for this role.') in model 177 in generation 1: Cassandra\n",
      "Model Number: 178 with model BasicLinearModel in generation 1 of 10\n",
      "Model Number: 179 with model UnivariateMotif in generation 1 of 10\n",
      "Template Eval Error: ValueError('window shape cannot be larger than input array shape') in model 179 in generation 1: UnivariateMotif\n",
      "Model Number: 180 with model SectionalMotif in generation 1 of 10\n",
      "Model Number: 181 with model ARDL in generation 1 of 10\n",
      "Model Number: 182 with model SeasonalityMotif in generation 1 of 10\n",
      "Model Number: 183 with model SeasonalNaive in generation 1 of 10\n",
      "Model Number: 184 with model RRVAR in generation 1 of 10\n",
      "Model Number: 185 with model DatepartRegression in generation 1 of 10\n",
      "Model Number: 186 with model SectionalMotif in generation 1 of 10\n",
      "Model Number: 187 with model SeasonalityMotif in generation 1 of 10\n",
      "Model Number: 188 with model ARDL in generation 1 of 10\n",
      "Model Number: 189 with model SeasonalNaive in generation 1 of 10\n",
      "Model Number: 190 with model SeasonalityMotif in generation 1 of 10\n",
      "Model Number: 191 with model UnivariateMotif in generation 1 of 10\n",
      "Model Number: 192 with model RRVAR in generation 1 of 10\n",
      "Model Number: 193 with model FFT in generation 1 of 10\n",
      "Model Number: 194 with model LastValueNaive in generation 1 of 10\n",
      "Model Number: 195 with model ETS in generation 1 of 10\n",
      "Model Number: 196 with model SectionalMotif in generation 1 of 10\n",
      "Model Number: 197 with model LastValueNaive in generation 1 of 10\n",
      "Model Number: 198 with model SeasonalityMotif in generation 1 of 10\n",
      "Model Number: 199 with model ETS in generation 1 of 10\n",
      "Model Number: 200 with model ConstantNaive in generation 1 of 10\n",
      "Model Number: 201 with model MetricMotif in generation 1 of 10\n",
      "Model Number: 202 with model GLS in generation 1 of 10\n",
      "Model Number: 203 with model LastValueNaive in generation 1 of 10\n",
      "Model Number: 204 with model RRVAR in generation 1 of 10\n",
      "Model Number: 205 with model DatepartRegression in generation 1 of 10\n",
      "Model Number: 206 with model ETS in generation 1 of 10\n",
      "Model Number: 207 with model LastValueNaive in generation 1 of 10\n",
      "Model Number: 208 with model LastValueNaive in generation 1 of 10\n",
      "Model Number: 209 with model BasicLinearModel in generation 1 of 10\n",
      "Model Number: 210 with model SeasonalityMotif in generation 1 of 10\n",
      "Model Number: 211 with model SectionalMotif in generation 1 of 10\n",
      "Model Number: 212 with model GLM in generation 1 of 10\n",
      "Model Number: 213 with model AverageValueNaive in generation 1 of 10\n"
     ]
    },
    {
     "name": "stderr",
     "output_type": "stream",
     "text": [
      "/home/zeus/miniconda3/envs/cloudspace/lib/python3.10/site-packages/statsmodels/genmod/families/links.py:198: RuntimeWarning: overflow encountered in exp\n",
      "  t = np.exp(-z)\n",
      "/home/zeus/miniconda3/envs/cloudspace/lib/python3.10/site-packages/statsmodels/genmod/generalized_linear_model.py:1342: PerfectSeparationWarning: Perfect separation or prediction detected, parameter may not be identified\n",
      "  warnings.warn(msg, category=PerfectSeparationWarning)\n",
      "/home/zeus/miniconda3/envs/cloudspace/lib/python3.10/site-packages/statsmodels/genmod/generalized_linear_model.py:1342: PerfectSeparationWarning: Perfect separation or prediction detected, parameter may not be identified\n",
      "  warnings.warn(msg, category=PerfectSeparationWarning)\n",
      "/home/zeus/miniconda3/envs/cloudspace/lib/python3.10/site-packages/statsmodels/genmod/generalized_linear_model.py:1342: PerfectSeparationWarning: Perfect separation or prediction detected, parameter may not be identified\n",
      "  warnings.warn(msg, category=PerfectSeparationWarning)\n",
      "/home/zeus/miniconda3/envs/cloudspace/lib/python3.10/site-packages/statsmodels/genmod/generalized_linear_model.py:1342: PerfectSeparationWarning: Perfect separation or prediction detected, parameter may not be identified\n",
      "  warnings.warn(msg, category=PerfectSeparationWarning)\n",
      "/home/zeus/miniconda3/envs/cloudspace/lib/python3.10/site-packages/statsmodels/genmod/generalized_linear_model.py:1342: PerfectSeparationWarning: Perfect separation or prediction detected, parameter may not be identified\n",
      "  warnings.warn(msg, category=PerfectSeparationWarning)\n",
      "/home/zeus/miniconda3/envs/cloudspace/lib/python3.10/site-packages/statsmodels/genmod/generalized_linear_model.py:1342: PerfectSeparationWarning: Perfect separation or prediction detected, parameter may not be identified\n",
      "  warnings.warn(msg, category=PerfectSeparationWarning)\n",
      "/home/zeus/miniconda3/envs/cloudspace/lib/python3.10/site-packages/statsmodels/genmod/generalized_linear_model.py:1342: PerfectSeparationWarning: Perfect separation or prediction detected, parameter may not be identified\n",
      "  warnings.warn(msg, category=PerfectSeparationWarning)\n",
      "/home/zeus/miniconda3/envs/cloudspace/lib/python3.10/site-packages/statsmodels/genmod/generalized_linear_model.py:1342: PerfectSeparationWarning: Perfect separation or prediction detected, parameter may not be identified\n",
      "  warnings.warn(msg, category=PerfectSeparationWarning)\n"
     ]
    },
    {
     "name": "stdout",
     "output_type": "stream",
     "text": [
      "Model Number: 214 with model SeasonalNaive in generation 1 of 10\n",
      "Template Eval Error: Exception(\"Transformer BTCD failed on fit from params cubic {'0': {}, '1': {'method': 'IQR', 'method_params': {'iqr_threshold': 1.5, 'iqr_quantiles': [0.25, 0.75]}, 'fillna': 'fake_date', 'transform_dict': {'fillna': None, 'transformations': {'0': 'ClipOutliers'}, 'transformation_params': {'0': {'method': 'clip', 'std_threshold': 6}}}, 'isolated_only': True, 'on_inverse': False}, '2': {'method': 'zscore', 'method_params': {'distribution': 'chi2', 'alpha': 0.05}, 'fillna': 'ffill', 'transform_dict': None, 'isolated_only': True, 'on_inverse': False}, '3': {'decimals': 0, 'on_transform': True, 'on_inverse': True}, '4': {'rows': 1, 'displacement_rows': 1, 'quantile': 0.2, 'decay_span': 3}, '5': {'regression_model': {'model': 'LinearRegression', 'model_params': {}}, 'max_lags': 1}} with error ValueError('BTCD only works on multivarate series')\") in model 214 in generation 1: SeasonalNaive\n",
      "Model Number: 215 with model LastValueNaive in generation 1 of 10\n",
      "Model Number: 216 with model MetricMotif in generation 1 of 10\n",
      "Model Number: 217 with model UnivariateMotif in generation 1 of 10\n",
      "Model Number: 218 with model AverageValueNaive in generation 1 of 10\n",
      "Model Number: 219 with model GLM in generation 1 of 10\n",
      "Model Number: 220 with model SeasonalityMotif in generation 1 of 10\n",
      "Model Number: 221 with model SeasonalNaive in generation 1 of 10\n",
      "Model Number: 222 with model SeasonalityMotif in generation 1 of 10\n",
      "Model Number: 223 with model UnivariateMotif in generation 1 of 10\n",
      "Model Number: 224 with model RRVAR in generation 1 of 10\n",
      "Model Number: 225 with model ConstantNaive in generation 1 of 10\n",
      "Model Number: 226 with model BasicLinearModel in generation 1 of 10\n",
      "Template Eval Error: ValueError(\"regression_type=='User' but no future_regressor supplied\") in model 226 in generation 1: BasicLinearModel\n",
      "Model Number: 227 with model ARDL in generation 1 of 10\n",
      "Model Number: 228 with model BasicLinearModel in generation 1 of 10\n",
      "Model Number: 229 with model Cassandra in generation 1 of 10\n"
     ]
    },
    {
     "name": "stderr",
     "output_type": "stream",
     "text": [
      "/home/zeus/miniconda3/envs/cloudspace/lib/python3.10/site-packages/numpy/lib/function_base.py:2897: RuntimeWarning: invalid value encountered in divide\n",
      "  c /= stddev[:, None]\n",
      "/home/zeus/miniconda3/envs/cloudspace/lib/python3.10/site-packages/numpy/lib/function_base.py:2898: RuntimeWarning: invalid value encountered in divide\n",
      "  c /= stddev[None, :]\n"
     ]
    },
    {
     "name": "stdout",
     "output_type": "stream",
     "text": [
      "Model Number: 230 with model WindowRegression in generation 1 of 10\n",
      "Model Number: 231 with model AverageValueNaive in generation 1 of 10\n",
      "Model Number: 232 with model ARDL in generation 1 of 10\n",
      "Template Eval Error: ValueError(\"regression_type='User' but future_regressor not supplied\") in model 232 in generation 1: ARDL\n",
      "Model Number: 233 with model AverageValueNaive in generation 1 of 10\n",
      "Model Number: 234 with model ConstantNaive in generation 1 of 10\n",
      "Model Number: 235 with model MetricMotif in generation 1 of 10\n",
      "Model Number: 236 with model GLS in generation 1 of 10\n"
     ]
    },
    {
     "name": "stderr",
     "output_type": "stream",
     "text": [
      "/home/zeus/miniconda3/envs/cloudspace/lib/python3.10/site-packages/sklearn/base.py:458: UserWarning: X has feature names, but StandardScaler was fitted without feature names\n",
      "  warnings.warn(\n"
     ]
    },
    {
     "name": "stdout",
     "output_type": "stream",
     "text": [
      "Model Number: 237 with model LastValueNaive in generation 1 of 10\n",
      "Model Number: 238 with model ETS in generation 1 of 10\n",
      "Model Number: 239 with model SectionalMotif in generation 1 of 10\n",
      "Model Number: 240 with model DatepartRegression in generation 1 of 10\n",
      "Model Number: 241 with model SeasonalNaive in generation 1 of 10\n",
      "Model Number: 242 with model GLS in generation 1 of 10\n",
      "Model Number: 243 with model SectionalMotif in generation 1 of 10\n"
     ]
    },
    {
     "name": "stderr",
     "output_type": "stream",
     "text": [
      "/home/zeus/miniconda3/envs/cloudspace/lib/python3.10/site-packages/sklearn/svm/_classes.py:32: FutureWarning: The default value of `dual` will change from `True` to `'auto'` in 1.5. Set the value of `dual` explicitly to suppress the warning.\n",
      "  warnings.warn(\n",
      "/home/zeus/miniconda3/envs/cloudspace/lib/python3.10/site-packages/sklearn/svm/_base.py:1250: ConvergenceWarning: Liblinear failed to converge, increase the number of iterations.\n",
      "  warnings.warn(\n"
     ]
    },
    {
     "name": "stdout",
     "output_type": "stream",
     "text": [
      "Model Number: 244 with model MetricMotif in generation 1 of 10\n",
      "Model Number: 245 with model MetricMotif in generation 1 of 10\n",
      "Model Number: 246 with model MetricMotif in generation 1 of 10\n",
      "Model Number: 247 with model ConstantNaive in generation 1 of 10\n",
      "Model Number: 248 with model GLM in generation 1 of 10\n",
      "Model Number: 249 with model UnivariateMotif in generation 1 of 10\n",
      "Model Number: 250 with model GLM in generation 1 of 10\n",
      "Template Eval Error: ValueError('NaN, inf or invalid value detected in weights, estimation infeasible.') in model 250 in generation 1: GLM\n",
      "Model Number: 251 with model ETS in generation 1 of 10\n"
     ]
    },
    {
     "name": "stderr",
     "output_type": "stream",
     "text": [
      "/home/zeus/miniconda3/envs/cloudspace/lib/python3.10/site-packages/statsmodels/genmod/families/links.py:527: RuntimeWarning: overflow encountered in exp\n",
      "  return np.exp(z)\n",
      "/home/zeus/miniconda3/envs/cloudspace/lib/python3.10/site-packages/statsmodels/genmod/families/family.py:445: RuntimeWarning: divide by zero encountered in divide\n",
      "  endog_mu = self._clean(endog / mu)\n",
      "/home/zeus/miniconda3/envs/cloudspace/lib/python3.10/site-packages/statsmodels/genmod/families/family.py:143: RuntimeWarning: invalid value encountered in multiply\n",
      "  return 1. / (self.link.deriv(mu)**2 * self.variance(mu))\n",
      "/home/zeus/miniconda3/envs/cloudspace/lib/python3.10/site-packages/statsmodels/genmod/families/family.py:143: RuntimeWarning: divide by zero encountered in divide\n",
      "  return 1. / (self.link.deriv(mu)**2 * self.variance(mu))\n",
      "/home/zeus/miniconda3/envs/cloudspace/lib/python3.10/site-packages/statsmodels/genmod/generalized_linear_model.py:1328: RuntimeWarning: invalid value encountered in multiply\n",
      "  wlsendog = (lin_pred + self.family.link.deriv(mu) * (self.endog-mu)\n"
     ]
    },
    {
     "name": "stdout",
     "output_type": "stream",
     "text": [
      "Model Number: 252 with model ARDL in generation 1 of 10\n",
      "Model Number: 253 with model BasicLinearModel in generation 1 of 10\n",
      "Model Number: 254 with model SeasonalNaive in generation 1 of 10\n",
      "Model Number: 255 with model AverageValueNaive in generation 1 of 10\n",
      "Model Number: 256 with model MetricMotif in generation 1 of 10\n",
      "Model Number: 257 with model SectionalMotif in generation 1 of 10\n",
      "Template Eval Error: ValueError('kth(=15) out of bounds (14)') in model 257 in generation 1: SectionalMotif\n",
      "Model Number: 258 with model ETS in generation 1 of 10\n",
      "Model Number: 259 with model LastValueNaive in generation 1 of 10\n",
      "Model Number: 260 with model ETS in generation 1 of 10\n",
      "New Generation: 2 of 10\n",
      "Model Number: 261 with model ARDL in generation 2 of 10\n",
      "Model Number: 262 with model SeasonalNaive in generation 2 of 10\n",
      "Model Number: 263 with model Cassandra in generation 2 of 10\n"
     ]
    },
    {
     "name": "stderr",
     "output_type": "stream",
     "text": [
      "/home/zeus/miniconda3/envs/cloudspace/lib/python3.10/site-packages/sklearn/linear_model/_ridge.py:200: LinAlgWarning: Ill-conditioned matrix (rcond=8.05924e-25): result may not be accurate.\n",
      "  return linalg.solve(A, Xy, assume_a=\"pos\", overwrite_a=True).T\n",
      "/home/zeus/miniconda3/envs/cloudspace/lib/python3.10/site-packages/numpy/lib/function_base.py:2897: RuntimeWarning: invalid value encountered in divide\n",
      "  c /= stddev[:, None]\n",
      "/home/zeus/miniconda3/envs/cloudspace/lib/python3.10/site-packages/numpy/lib/function_base.py:2898: RuntimeWarning: invalid value encountered in divide\n",
      "  c /= stddev[None, :]\n"
     ]
    },
    {
     "name": "stdout",
     "output_type": "stream",
     "text": [
      "Template Eval Error: ValueError('negative dimensions are not allowed') in model 263 in generation 2: Cassandra\n",
      "Model Number: 264 with model SeasonalNaive in generation 2 of 10\n",
      "Model Number: 265 with model UnivariateMotif in generation 2 of 10\n",
      "Model Number: 266 with model LastValueNaive in generation 2 of 10\n",
      "Model Number: 267 with model LastValueNaive in generation 2 of 10\n",
      "Model Number: 268 with model GLS in generation 2 of 10\n",
      "Model Number: 269 with model ETS in generation 2 of 10\n",
      "Model Number: 270 with model ARDL in generation 2 of 10\n",
      "Template Eval Error: ValueError(\"regression_type='User' but future_regressor not supplied\") in model 270 in generation 2: ARDL\n",
      "Model Number: 271 with model ConstantNaive in generation 2 of 10\n",
      "Model Number: 272 with model SeasonalityMotif in generation 2 of 10\n",
      "Model Number: 273 with model LastValueNaive in generation 2 of 10\n",
      "Model Number: 274 with model BasicLinearModel in generation 2 of 10"
     ]
    },
    {
     "name": "stderr",
     "output_type": "stream",
     "text": [
      "/home/zeus/miniconda3/envs/cloudspace/lib/python3.10/site-packages/sklearn/neighbors/_classification.py:233: DataConversionWarning: A column-vector y was passed when a 1d array was expected. Please change the shape of y to (n_samples,), for example using ravel().\n",
      "  return self._fit(X, y)\n"
     ]
    },
    {
     "name": "stdout",
     "output_type": "stream",
     "text": [
      "\n",
      "Model Number: 275 with model BasicLinearModel in generation 2 of 10\n",
      "Template Eval Error: ValueError(\"regression_type=='User' but no future_regressor supplied\") in model 275 in generation 2: BasicLinearModel\n",
      "Model Number: 276 with model SeasonalityMotif in generation 2 of 10\n",
      "Model Number: 277 with model ARDL in generation 2 of 10\n",
      "Model Number: 278 with model UnivariateMotif in generation 2 of 10\n",
      "Model Number: 279 with model DatepartRegression in generation 2 of 10\n",
      "Template Eval Error: InvalidParameterError(\"The 'alpha' parameter of MLPRegressor must be a float in the range [0.0, inf). Got None instead.\") in model 279 in generation 2: DatepartRegression\n",
      "Model Number: 280 with model MetricMotif in generation 2 of 10\n",
      "Model Number: 281 with model SectionalMotif in generation 2 of 10\n",
      "Model Number: 282 with model ETS in generation 2 of 10\n",
      "Model Number: 283 with model SeasonalNaive in generation 2 of 10\n",
      "Model Number: 284 with model FFT in generation 2 of 10\n",
      "Model Number: 285 with model ETS in generation 2 of 10\n",
      "Model Number: 286 with model SeasonalityMotif in generation 2 of 10\n",
      "Model Number: 287 with model SeasonalityMotif in generation 2 of 10\n",
      "Model Number: 288 with model GLS in generation 2 of 10\n",
      "Model Number: 289 with model ETS in generation 2 of 10\n",
      "Model Number: 290 with model SeasonalityMotif in generation 2 of 10\n",
      "Model Number: 291 with model MetricMotif in generation 2 of 10\n",
      "Model Number: 292 with model UnivariateMotif in generation 2 of 10\n",
      "Model Number: 293 with model BasicLinearModel in generation 2 of 10\n",
      "Model Number: 294 with model Cassandra in generation 2 of 10\n",
      "Template Eval Error: UnboundLocalError(\"local variable 'slope' referenced before assignment\") in model 294 in generation 2: Cassandra\n",
      "Model Number: 295 with model ETS in generation 2 of 10\n",
      "Model Number: 296 with model ETS in generation 2 of 10\n",
      "Model Number: 297 with model SectionalMotif in generation 2 of 10\n",
      "Model Number: 298 with model SeasonalNaive in generation 2 of 10\n",
      "Model Number: 299 with model MetricMotif in generation 2 of 10\n",
      "Model Number: 300 with model ARDL in generation 2 of 10\n",
      "Model Number: 301 with model AverageValueNaive in generation 2 of 10\n",
      "Model Number: 302 with model ConstantNaive in generation 2 of 10\n",
      "Model Number: 303 with model ETS in generation 2 of 10\n",
      "Model Number: 304 with model LastValueNaive in generation 2 of 10\n",
      "Model Number: 305 with model WindowRegression in generation 2 of 10\n",
      "Template Eval Error: ValueError(\"Some value(s) of y are out of the valid range of the loss 'HalfPoissonLoss'.\") in model 305 in generation 2: WindowRegression\n",
      "Model Number: 306 with model RRVAR in generation 2 of 10\n",
      "Model Number: 307 with model SectionalMotif in generation 2 of 10\n",
      "Model Number: 308 with model SeasonalityMotif in generation 2 of 10\n",
      "Model Number: 309 with model FFT in generation 2 of 10\n",
      "Model Number: 310 with model DatepartRegression in generation 2 of 10\n",
      "Model Number: 311 with model BasicLinearModel in generation 2 of 10\n"
     ]
    },
    {
     "name": "stderr",
     "output_type": "stream",
     "text": [
      "/home/zeus/miniconda3/envs/cloudspace/lib/python3.10/site-packages/sklearn/svm/_classes.py:32: FutureWarning: The default value of `dual` will change from `True` to `'auto'` in 1.5. Set the value of `dual` explicitly to suppress the warning.\n",
      "  warnings.warn(\n",
      "/home/zeus/miniconda3/envs/cloudspace/lib/python3.10/site-packages/sklearn/svm/_base.py:1250: ConvergenceWarning: Liblinear failed to converge, increase the number of iterations.\n",
      "  warnings.warn(\n"
     ]
    },
    {
     "name": "stdout",
     "output_type": "stream",
     "text": [
      "Model Number: 312 with model SeasonalityMotif in generation 2 of 10\n",
      "Model Number: 313 with model SeasonalityMotif in generation 2 of 10\n",
      "Model Number: 314 with model SectionalMotif in generation 2 of 10\n",
      "Template Eval Error: ValueError(\"regression_type=='User' but no future_regressor supplied\") in model 314 in generation 2: SectionalMotif\n",
      "Model Number: 315 with model ConstantNaive in generation 2 of 10\n",
      "Model Number: 316 with model SeasonalNaive in generation 2 of 10\n",
      "Model Number: 317 with model BasicLinearModel in generation 2 of 10\n",
      "Template Eval Error: Exception(\"Transformer MinMaxScaler failed on fit from params ffill {'0': {'rows': 1, 'lag': 1, 'method': 'additive', 'strength': 0.5, 'first_value_only': False, 'threshold': 1, 'threshold_method': 'max'}, '1': {'low': 6, 'high': 364, 'K': 1, 'lanczos_factor': False, 'return_diff': False, 'on_transform': True, 'on_inverse': False}, '2': {'method': 'clip', 'std_threshold': 3.5, 'fillna': None}, '3': {'method': 'zscore', 'method_params': {'distribution': 'uniform', 'alpha': 0.1}, 'fillna': 'ffill', 'transform_dict': {'fillna': 'zero', 'transformations': {'0': 'PositiveShift', '1': 'CenterLastValue'}, 'transformation_params': {'0': {}, '1': {'rows': 6}}}, 'isolated_only': True, 'on_inverse': False}, '4': {}} with error ValueError('Shape of passed values is (154, 1), indices imply (156, 1)')\") in model 317 in generation 2: BasicLinearModel\n",
      "Model Number: 318 with model LastValueNaive in generation 2 of 10\n"
     ]
    },
    {
     "name": "stderr",
     "output_type": "stream",
     "text": [
      "/home/zeus/miniconda3/envs/cloudspace/lib/python3.10/site-packages/sklearn/linear_model/_ridge.py:200: LinAlgWarning: Ill-conditioned matrix (rcond=8.05924e-25): result may not be accurate.\n",
      "  return linalg.solve(A, Xy, assume_a=\"pos\", overwrite_a=True).T\n"
     ]
    },
    {
     "name": "stdout",
     "output_type": "stream",
     "text": [
      "Model Number: 319 with model UnivariateMotif in generation 2 of 10\n",
      "Template Eval Error: Exception(\"Transformer MinMaxScaler failed on fit from params ffill_mean_biased {'0': {'rows': 1, 'lag': 1, 'method': 'multiplicative', 'strength': 0.9, 'first_value_only': False, 'threshold': 1, 'threshold_method': 'mean'}, '1': {'rows': 1, 'lag': 1, 'method': 'multiplicative', 'strength': 1.0, 'first_value_only': False, 'threshold': 1, 'threshold_method': 'max'}, '2': {'method': 'clip', 'std_threshold': 3.5, 'fillna': None}, '3': {'low': 12, 'high': 32, 'K': 6, 'lanczos_factor': False, 'return_diff': False, 'on_transform': True, 'on_inverse': False}, '4': {}, '5': {'window_size': 364, 'alpha': 3.5, 'grouping_forward_limit': 5, 'max_level_shifts': 8, 'alignment': 'average'}} with error ValueError('Shape of passed values is (144, 1), indices imply (156, 1)')\") in model 319 in generation 2: UnivariateMotif\n",
      "Model Number: 320 with model GLS in generation 2 of 10\n",
      "Model Number: 321 with model SeasonalityMotif in generation 2 of 10\n",
      "Model Number: 322 with model AverageValueNaive in generation 2 of 10\n",
      "Model Number: 323 with model ConstantNaive in generation 2 of 10\n",
      "Model Number: 324 with model UnivariateMotif in generation 2 of 10\n",
      "Model Number: 325 with model SeasonalityMotif in generation 2 of 10\n",
      "Model Number: 326 with model RRVAR in generation 2 of 10\n",
      "Model Number: 327 with model LastValueNaive in generation 2 of 10\n"
     ]
    },
    {
     "name": "stderr",
     "output_type": "stream",
     "text": [
      "/home/zeus/miniconda3/envs/cloudspace/lib/python3.10/site-packages/sklearn/neighbors/_classification.py:233: DataConversionWarning: A column-vector y was passed when a 1d array was expected. Please change the shape of y to (n_samples,), for example using ravel().\n",
      "  return self._fit(X, y)\n"
     ]
    },
    {
     "name": "stdout",
     "output_type": "stream",
     "text": [
      "Model Number: 328 with model AverageValueNaive in generation 2 of 10\n",
      "Model Number: 329 with model ConstantNaive in generation 2 of 10\n",
      "Model Number: 330 with model BasicLinearModel in generation 2 of 10\n",
      "Model Number: 331 with model SeasonalityMotif in generation 2 of 10\n",
      "Model Number: 332 with model SeasonalityMotif in generation 2 of 10\n",
      "Model Number: 333 with model LastValueNaive in generation 2 of 10\n",
      "Model Number: 334 with model SeasonalNaive in generation 2 of 10\n",
      "Model Number: 335 with model BasicLinearModel in generation 2 of 10\n",
      "Model Number: 336 with model SeasonalityMotif in generation 2 of 10\n",
      "Model Number: 337 with model SeasonalNaive in generation 2 of 10\n",
      "Model Number: 338 with model FFT in generation 2 of 10\n",
      "Model Number: 339 with model GLM in generation 2 of 10\n",
      "Model Number: 340 with model MetricMotif in generation 2 of 10\n",
      "Model Number: 341 with model ConstantNaive in generation 2 of 10\n"
     ]
    },
    {
     "name": "stderr",
     "output_type": "stream",
     "text": [
      "/home/zeus/miniconda3/envs/cloudspace/lib/python3.10/site-packages/statsmodels/genmod/families/links.py:198: RuntimeWarning: overflow encountered in exp\n",
      "  t = np.exp(-z)\n"
     ]
    },
    {
     "name": "stdout",
     "output_type": "stream",
     "text": [
      "Model Number: 342 with model ConstantNaive in generation 2 of 10\n",
      "Model Number: 343 with model BasicLinearModel in generation 2 of 10\n",
      "Template Eval Error: ValueError(\"regression_type=='User' but no future_regressor supplied\") in model 343 in generation 2: BasicLinearModel\n",
      "Model Number: 344 with model UnivariateMotif in generation 2 of 10\n",
      "Model Number: 345 with model MetricMotif in generation 2 of 10\n",
      "Model Number: 346 with model Cassandra in generation 2 of 10\n"
     ]
    },
    {
     "name": "stderr",
     "output_type": "stream",
     "text": [
      "/home/zeus/miniconda3/envs/cloudspace/lib/python3.10/site-packages/numpy/lib/function_base.py:2897: RuntimeWarning: invalid value encountered in divide\n",
      "  c /= stddev[:, None]\n",
      "/home/zeus/miniconda3/envs/cloudspace/lib/python3.10/site-packages/numpy/lib/function_base.py:2898: RuntimeWarning: invalid value encountered in divide\n",
      "  c /= stddev[None, :]\n"
     ]
    },
    {
     "name": "stdout",
     "output_type": "stream",
     "text": [
      "Model Number: 347 with model AverageValueNaive in generation 2 of 10\n",
      "Model Number: 348 with model BasicLinearModel in generation 2 of 10\n",
      "Model Number: 349 with model ConstantNaive in generation 2 of 10\n",
      "Model Number: 350 with model ConstantNaive in generation 2 of 10\n",
      "Template Eval Error: Exception(\"Transformer HolidayTransformer failed on fit from params ffill_mean_biased {'0': {'rows': 1, 'lag': 1, 'method': 'additive', 'strength': 0.5, 'first_value_only': False, 'threshold': 1, 'threshold_method': 'max'}, '1': {'threshold': 0.8, 'splash_threshold': None, 'use_dayofmonth_holidays': True, 'use_wkdom_holidays': False, 'use_wkdeom_holidays': False, 'use_lunar_holidays': False, 'use_lunar_weekday': False, 'use_islamic_holidays': False, 'use_hebrew_holidays': False, 'use_hindu_holidays': False, 'anomaly_detector_params': {'method': 'IQR', 'method_params': {'iqr_threshold': 1.5, 'iqr_quantiles': [0.4, 0.6]}, 'fillna': 'mean', 'transform_dict': {'transformations': {'0': 'DifferencedTransformer'}, 'transformation_params': {'0': {}}}, 'isolated_only': True, 'on_inverse': False}, 'remove_excess_anomalies': True, 'impact': 'regression', 'regression_params': {}}, '2': {'method': 'clip', 'std_threshold': 3.5, 'fillna': None}, '3': {'method': 'zscore', 'method_params': {'distribution': 'uniform', 'alpha': 0.1}, 'fillna': 'ffill', 'transform_dict': {'fillna': 'zero', 'transformations': {'0': 'PositiveShift', '1': 'CenterLastValue'}, 'transformation_params': {'0': {}, '1': {'rows': 6}}}, 'isolated_only': True, 'on_inverse': False}, '4': {}} with error ValueError('more than 1 year of data is required for holiday detection.')\") in model 350 in generation 2: ConstantNaive\n",
      "Model Number: 351 with model BasicLinearModel in generation 2 of 10\n",
      "Model Number: 352 with model SectionalMotif in generation 2 of 10\n",
      "Model Number: 353 with model ConstantNaive in generation 2 of 10\n",
      "Model Number: 354 with model GLS in generation 2 of 10\n",
      "Model Number: 355 with model UnivariateMotif in generation 2 of 10\n",
      "Model Number: 356 with model RRVAR in generation 2 of 10\n",
      "Model Number: 357 with model MetricMotif in generation 2 of 10\n",
      "Model Number: 358 with model MetricMotif in generation 2 of 10\n",
      "Model Number: 359 with model ARDL in generation 2 of 10\n",
      "Template Eval Error: ValueError(\"ARDL series dfc84fb2db544292a7083a9fdbb211a7eb4a0ab330436a31b9199bf3835d1278 failed with error IndexError('tuple index out of range') exog train None and predict None\") in model 359 in generation 2: ARDL\n",
      "Model Number: 360 with model SeasonalNaive in generation 2 of 10\n",
      "Model Number: 361 with model SectionalMotif in generation 2 of 10\n",
      "Model Number: 362 with model ConstantNaive in generation 2 of 10\n",
      "Model Number: 363 with model DatepartRegression in generation 2 of 10\n",
      "Model Number: 364 with model UnivariateMotif in generation 2 of 10\n",
      "Model Number: 365 with model RRVAR in generation 2 of 10\n"
     ]
    },
    {
     "name": "stderr",
     "output_type": "stream",
     "text": [
      "/home/zeus/miniconda3/envs/cloudspace/lib/python3.10/site-packages/sklearn/svm/_classes.py:32: FutureWarning: The default value of `dual` will change from `True` to `'auto'` in 1.5. Set the value of `dual` explicitly to suppress the warning.\n",
      "  warnings.warn(\n",
      "/home/zeus/miniconda3/envs/cloudspace/lib/python3.10/site-packages/sklearn/svm/_base.py:1250: ConvergenceWarning: Liblinear failed to converge, increase the number of iterations.\n",
      "  warnings.warn(\n"
     ]
    },
    {
     "name": "stdout",
     "output_type": "stream",
     "text": [
      "New Generation: 3 of 10\n",
      "Model Number: 366 with model GLS in generation 3 of 10\n",
      "Model Number: 367 with model UnivariateMotif in generation 3 of 10\n",
      "Template Eval Error: Exception(\"Transformer Cointegration failed on fit from params KNNImputer {'0': {'det_order': 1, 'k_ar_diff': 0}, '1': {'lag_1': 7, 'method': 'Mean'}, '2': {}} with error ValueError('Coint only works on multivarate series')\") in model 367 in generation 3: UnivariateMotif\n",
      "Model Number: 368 with model SeasonalNaive in generation 3 of 10\n",
      "Model Number: 369 with model LastValueNaive in generation 3 of 10\n",
      "Model Number: 370 with model SeasonalNaive in generation 3 of 10\n",
      "Model Number: 371 with model ConstantNaive in generation 3 of 10\n",
      "Model Number: 372 with model ARDL in generation 3 of 10\n",
      "Model Number: 373 with model LastValueNaive in generation 3 of 10\n",
      "Model Number: 374 with model LastValueNaive in generation 3 of 10\n",
      "Model Number: 375 with model GLS in generation 3 of 10\n",
      "Model Number: 376 with model ETS in generation 3 of 10\n",
      "Model Number: 377 with model RRVAR in generation 3 of 10\n"
     ]
    },
    {
     "name": "stderr",
     "output_type": "stream",
     "text": [
      "/home/zeus/miniconda3/envs/cloudspace/lib/python3.10/site-packages/sklearn/neighbors/_classification.py:233: DataConversionWarning: A column-vector y was passed when a 1d array was expected. Please change the shape of y to (n_samples,), for example using ravel().\n",
      "  return self._fit(X, y)\n"
     ]
    },
    {
     "name": "stdout",
     "output_type": "stream",
     "text": [
      "Model Number: 378 with model BasicLinearModel in generation 3 of 10\n",
      "Model Number: 379 with model DatepartRegression in generation 3 of 10\n",
      "Model Number: 380 with model ARDL in generation 3 of 10\n",
      "Template Eval Error: ValueError(\"regression_type='User' but future_regressor not supplied\") in model 380 in generation 3: ARDL\n",
      "Model Number: 381 with model BasicLinearModel in generation 3 of 10\n",
      "Model Number: 382 with model MetricMotif in generation 3 of 10\n",
      "Model Number: 383 with model LastValueNaive in generation 3 of 10\n",
      "Model Number: 384 with model ARDL in generation 3 of 10\n",
      "Template Eval Error: ValueError(\"ARDL series dfc84fb2db544292a7083a9fdbb211a7eb4a0ab330436a31b9199bf3835d1278 failed with error IndexError('tuple index out of range') exog train None and predict None\") in model 384 in generation 3: ARDL\n",
      "Model Number: 385 with model AverageValueNaive in generation 3 of 10\n",
      "Model Number: 386 with model AverageValueNaive in generation 3 of 10\n",
      "Model Number: 387 with model SeasonalNaive in generation 3 of 10\n",
      "Model Number: 388 with model ConstantNaive in generation 3 of 10\n",
      "Model Number: 389 with model ConstantNaive in generation 3 of 10\n",
      "Model Number: 390 with model ARDL in generation 3 of 10\n",
      "Model Number: 391 with model AverageValueNaive in generation 3 of 10\n",
      "Model Number: 392 with model ARDL in generation 3 of 10\n",
      "Model Number: 393 with model UnivariateMotif in generation 3 of 10\n",
      "SVD did not converge, attempting more robust approach...\n",
      "Template Eval Error: Exception(\"Transformer KalmanSmoothing failed on fit from params rolling_mean {'0': {'model_name': 'local linear hidden state with seasonal 12', 'state_transition': [[1.0, 0.0, 0.0, 0.0, 0.0, 0.0, 0.0, 0.0, 0.0, 0.0, 0.0, 0.0, 0.0], [0.0, -1.0, -1.0, -1.0, -1.0, -1.0, -1.0, -1.0, -1.0, -1.0, -1.0, -1.0, 0.0], [0.0, 1.0, 0.0, 0.0, 0.0, 0.0, 0.0, 0.0, 0.0, 0.0, 0.0, 0.0, 0.0], [0.0, 0.0, 1.0, 0.0, 0.0, 0.0, 0.0, 0.0, 0.0, 0.0, 0.0, 0.0, 0.0], [0.0, 0.0, 0.0, 1.0, 0.0, 0.0, 0.0, 0.0, 0.0, 0.0, 0.0, 0.0, 0.0], [0.0, 0.0, 0.0, 0.0, 1.0, 0.0, 0.0, 0.0, 0.0, 0.0, 0.0, 0.0, 0.0], [0.0, 0.0, 0.0, 0.0, 0.0, 1.0, 0.0, 0.0, 0.0, 0.0, 0.0, 0.0, 0.0], [0.0, 0.0, 0.0, 0.0, 0.0, 0.0, 1.0, 0.0, 0.0, 0.0, 0.0, 0.0, 0.0], [0.0, 0.0, 0.0, 0.0, 0.0, 0.0, 0.0, 1.0, 0.0, 0.0, 0.0, 0.0, 0.0], [0.0, 0.0, 0.0, 0.0, 0.0, 0.0, 0.0, 0.0, 1.0, 0.0, 0.0, 0.0, 0.0], [0.0, 0.0, 0.0, 0.0, 0.0, 0.0, 0.0, 0.0, 0.0, 1.0, 0.0, 0.0, 0.0], [0.0, 0.0, 0.0, 0.0, 0.0, 0.0, 0.0, 0.0, 0.0, 0.0, 1.0, 0.0, 0.0], [0.0, 0.0, 0.0, 0.0, 0.0, 0.0, 0.0, 0.0, 0.0, 0.0, 0.0, 1.0, 0.0]], 'process_noise': [[0.04000000000000001, 0.0, 0.0, 0.0, 0.0, 0.0, 0.0, 0.0, 0.0, 0.0, 0.0, 0.0, 0.0], [0.0, 1e-08, 0.0, 0.0, 0.0, 0.0, 0.0, 0.0, 0.0, 0.0, 0.0, 0.0, 0.0], [0.0, 0.0, 0.0, 0.0, 0.0, 0.0, 0.0, 0.0, 0.0, 0.0, 0.0, 0.0, 0.0], [0.0, 0.0, 0.0, 0.0, 0.0, 0.0, 0.0, 0.0, 0.0, 0.0, 0.0, 0.0, 0.0], [0.0, 0.0, 0.0, 0.0, 0.0, 0.0, 0.0, 0.0, 0.0, 0.0, 0.0, 0.0, 0.0], [0.0, 0.0, 0.0, 0.0, 0.0, 0.0, 0.0, 0.0, 0.0, 0.0, 0.0, 0.0, 0.0], [0.0, 0.0, 0.0, 0.0, 0.0, 0.0, 0.0, 0.0, 0.0, 0.0, 0.0, 0.0, 0.0], [0.0, 0.0, 0.0, 0.0, 0.0, 0.0, 0.0, 0.0, 0.0, 0.0, 0.0, 0.0, 0.0], [0.0, 0.0, 0.0, 0.0, 0.0, 0.0, 0.0, 0.0, 0.0, 0.0, 0.0, 0.0, 0.0], [0.0, 0.0, 0.0, 0.0, 0.0, 0.0, 0.0, 0.0, 0.0, 0.0, 0.0, 0.0, 0.0], [0.0, 0.0, 0.0, 0.0, 0.0, 0.0, 0.0, 0.0, 0.0, 0.0, 0.0, 0.0, 0.0], [0.0, 0.0, 0.0, 0.0, 0.0, 0.0, 0.0, 0.0, 0.0, 0.0, 0.0, 0.0, 0.0], [0.0, 0.0, 0.0, 0.0, 0.0, 0.0, 0.0, 0.0, 0.0, 0.0, 0.0, 0.0, 0.0]], 'observation_model': [[1, 1, 0, 0, 0, 0, 0, 0, 0, 0, 0, 0, 0]], 'observation_noise': 0.04, 'em_iter': 10, 'on_transform': True, 'on_inverse': False}, '1': {'method': 'zscore', 'method_params': {'distribution': 'uniform', 'alpha': 0.1}, 'fillna': 'ffill', 'transform_dict': {'fillna': 'zero', 'transformations': {'0': 'PositiveShift', '1': 'CenterLastValue'}, 'transformation_params': {'0': {}, '1': {'rows': 6}}}, 'isolated_only': True, 'on_inverse': False}, '2': {}} with error LinAlgError('SVD did not converge')\") in model 393 in generation 3: UnivariateMotif\n",
      "Model Number: 394 with model ETS in generation 3 of 10\n"
     ]
    },
    {
     "name": "stderr",
     "output_type": "stream",
     "text": [
      "/home/zeus/miniconda3/envs/cloudspace/lib/python3.10/site-packages/autots/tools/fast_kalman.py:1137: RuntimeWarning: overflow encountered in cast\n",
      "  result.smoothed.states.cov[:, j, :, :] = Ps\n",
      "/home/zeus/miniconda3/envs/cloudspace/lib/python3.10/site-packages/autots/tools/fast_kalman.py:1143: RuntimeWarning: overflow encountered in cast\n",
      "  result.smoothed.observations.cov[:, j, :, :] = obs_cov\n",
      "/home/zeus/miniconda3/envs/cloudspace/lib/python3.10/site-packages/autots/tools/fast_kalman.py:1354: RuntimeWarning: invalid value encountered in matmul\n",
      "  return np.matmul(A, np.swapaxes(B, -1, -2))\n",
      "/home/zeus/miniconda3/envs/cloudspace/lib/python3.10/site-packages/autots/tools/fast_kalman.py:1341: RuntimeWarning: invalid value encountered in matmul\n",
      "  return np.matmul(A, B)\n"
     ]
    },
    {
     "name": "stdout",
     "output_type": "stream",
     "text": [
      "Model Number: 395 with model LastValueNaive in generation 3 of 10\n",
      "Model Number: 396 with model SeasonalNaive in generation 3 of 10\n",
      "Model Number: 397 with model SectionalMotif in generation 3 of 10\n",
      "Model Number: 398 with model SeasonalityMotif in generation 3 of 10\n",
      "Model Number: 399 with model SeasonalityMotif in generation 3 of 10\n",
      "Model Number: 400 with model BasicLinearModel in generation 3 of 10\n",
      "Model Number: 401 with model AverageValueNaive in generation 3 of 10\n",
      "Model Number: 402 with model ARDL in generation 3 of 10\n",
      "Model Number: 403 with model SectionalMotif in generation 3 of 10\n",
      "Model Number: 404 with model BasicLinearModel in generation 3 of 10\n",
      "Template Eval Error: Exception(\"Transformer SeasonalDifference failed on fit from params pchip {'0': {'lag_1': 364, 'method': 20}, '1': {'model': 'Linear', 'phi': 1, 'window': 900, 'transform_dict': {'fillna': None, 'transformations': {'0': 'ClipOutliers'}, 'transformation_params': {'0': {'method': 'clip', 'std_threshold': 4}}}}} with error ValueError('cannot reshape array of size 156 into shape (0,364,newaxis)')\") in model 404 in generation 3: BasicLinearModel\n",
      "Model Number: 405 with model SeasonalityMotif in generation 3 of 10\n",
      "Model Number: 406 with model ARDL in generation 3 of 10\n",
      "Model Number: 407 with model DatepartRegression in generation 3 of 10\n",
      "Template Eval Error: InvalidParameterError(\"The 'alpha' parameter of MLPRegressor must be a float in the range [0.0, inf). Got None instead.\") in model 407 in generation 3: DatepartRegression\n",
      "Model Number: 408 with model SeasonalityMotif in generation 3 of 10\n",
      "Model Number: 409 with model SeasonalNaive in generation 3 of 10\n",
      "Template Eval Error: Exception(\"Transformer SeasonalDifference failed on fit from params ffill {'0': {'lag_1': 364, 'method': 2}, '1': {'threshold': 0.9, 'splash_threshold': None, 'use_dayofmonth_holidays': True, 'use_wkdom_holidays': True, 'use_wkdeom_holidays': False, 'use_lunar_holidays': False, 'use_lunar_weekday': False, 'use_islamic_holidays': False, 'use_hebrew_holidays': False, 'use_hindu_holidays': False, 'anomaly_detector_params': {'method': 'minmax', 'method_params': {'alpha': 0.05}, 'fillna': 'rolling_mean_24', 'transform_dict': None, 'isolated_only': False, 'on_inverse': False}, 'remove_excess_anomalies': True, 'impact': None, 'regression_params': {}}, '2': {'center': 'mean'}} with error ValueError('cannot reshape array of size 156 into shape (0,364,newaxis)')\") in model 409 in generation 3: SeasonalNaive\n",
      "Model Number: 410 with model SeasonalityMotif in generation 3 of 10\n",
      "Model Number: 411 with model SectionalMotif in generation 3 of 10\n",
      "Model Number: 412 with model BasicLinearModel in generation 3 of 10\n"
     ]
    },
    {
     "name": "stderr",
     "output_type": "stream",
     "text": [
      "/home/zeus/miniconda3/envs/cloudspace/lib/python3.10/site-packages/sklearn/neighbors/_classification.py:233: DataConversionWarning: A column-vector y was passed when a 1d array was expected. Please change the shape of y to (n_samples,), for example using ravel().\n",
      "  return self._fit(X, y)\n"
     ]
    },
    {
     "name": "stdout",
     "output_type": "stream",
     "text": [
      "Model Number: 413 with model SectionalMotif in generation 3 of 10\n",
      "Model Number: 414 with model GLM in generation 3 of 10\n",
      "Template Eval Error: ValueError('regression_type=user and no future_regressor passed') in model 414 in generation 3: GLM\n",
      "Model Number: 415 with model MetricMotif in generation 3 of 10\n",
      "Template Eval Error: ValueError('Shape of passed values is (78, 2), indices imply (78, 1)') in model 415 in generation 3: MetricMotif\n",
      "Model Number: 416 with model BasicLinearModel in generation 3 of 10\n",
      "Model Number: 417 with model UnivariateMotif in generation 3 of 10\n",
      "Model Number: 418 with model MetricMotif in generation 3 of 10\n",
      "Model Number: 419 with model LastValueNaive in generation 3 of 10\n",
      "Model Number: 420 with model SeasonalityMotif in generation 3 of 10\n",
      "Model Number: 421 with model ETS in generation 3 of 10\n",
      "Model Number: 422 with model SeasonalityMotif in generation 3 of 10\n",
      "Model Number: 423 with model ConstantNaive in generation 3 of 10\n",
      "Model Number: 424 with model BasicLinearModel in generation 3 of 10\n",
      "Model Number: 425 with model MetricMotif in generation 3 of 10\n",
      "Model Number: 426 with model ConstantNaive in generation 3 of 10\n",
      "Model Number: 427 with model AverageValueNaive in generation 3 of 10\n",
      "Model Number: 428 with model BasicLinearModel in generation 3 of 10\n",
      "Model Number: 429 with model SeasonalityMotif in generation 3 of 10\n",
      "Model Number: 430 with model FFT in generation 3 of 10\n",
      "Model Number: 431 with model MetricMotif in generation 3 of 10\n",
      "Model Number: 432 with model AverageValueNaive in generation 3 of 10\n",
      "Model Number: 433 with model DatepartRegression in generation 3 of 10\n",
      "Template Eval Error: ValueError(\"regression_type='User' but no future_regressor passed\") in model 433 in generation 3: DatepartRegression\n",
      "Model Number: 434 with model Cassandra in generation 3 of 10\n",
      "Model Number: 435 with model RRVAR in generation 3 of 10\n",
      "Template Eval Error: LinAlgError('Array must not contain infs or NaNs') in model 435 in generation 3: RRVAR\n",
      "Model Number: 436 with model LastValueNaive in generation 3 of 10\n",
      "Model Number: 437 with model LastValueNaive in generation 3 of 10\n",
      "Model Number: 438 with model MetricMotif in generation 3 of 10\n",
      "Model Number: 439 with model UnivariateMotif in generation 3 of 10\n"
     ]
    },
    {
     "name": "stderr",
     "output_type": "stream",
     "text": [
      "/home/zeus/miniconda3/envs/cloudspace/lib/python3.10/site-packages/numpy/lib/function_base.py:2897: RuntimeWarning: invalid value encountered in divide\n",
      "  c /= stddev[:, None]\n",
      "/home/zeus/miniconda3/envs/cloudspace/lib/python3.10/site-packages/numpy/lib/function_base.py:2898: RuntimeWarning: invalid value encountered in divide\n",
      "  c /= stddev[None, :]\n",
      "/home/zeus/miniconda3/envs/cloudspace/lib/python3.10/site-packages/autots/models/matrix_var.py:62: RuntimeWarning: divide by zero encountered in reciprocal\n",
      "  A_tilde = u[:, :r].conj().T @ X2 @ v[:r, :].conj().T * np.reciprocal(s[:r])\n",
      "/home/zeus/miniconda3/envs/cloudspace/lib/python3.10/site-packages/autots/models/matrix_var.py:62: RuntimeWarning: invalid value encountered in multiply\n",
      "  A_tilde = u[:, :r].conj().T @ X2 @ v[:r, :].conj().T * np.reciprocal(s[:r])\n"
     ]
    },
    {
     "name": "stdout",
     "output_type": "stream",
     "text": [
      "Template Eval Error: Exception(\"Transformer Detrend failed on fit from params KNNImputer {'0': {'sigma': 1, 'rolling_window': 90, 'run_order': 'season_first', 'regression_params': {'regression_model': {'model': 'DecisionTree', 'model_params': {'max_depth': None, 'min_samples_split': 0.05}}, 'datepart_method': 'simple', 'polynomial_degree': 2, 'transform_dict': {'fillna': None, 'transformations': {'0': 'EWMAFilter'}, 'transformation_params': {'0': {'span': 2}}}, 'holiday_countries_used': False, 'lags': 3, 'forward_lags': 1}, 'holiday_params': None, 'trend_method': 'local_linear'}, '1': {'model': 'Poisson', 'phi': 1, 'window': 90, 'transform_dict': None}, '2': {}} with error ValueError('Found input variables with inconsistent numbers of samples: [90, 156]')\") in model 439 in generation 3: UnivariateMotif\n",
      "Model Number: 440 with model ETS in generation 3 of 10\n",
      "Model Number: 441 with model MetricMotif in generation 3 of 10\n",
      "Model Number: 442 with model GLS in generation 3 of 10\n",
      "Template Eval Error: Exception(\"Transformer StandardScaler failed on fit from params rolling_mean_24 {'0': {'decimals': 1, 'on_transform': True, 'on_inverse': True}, '1': {'rows': 1, 'lag': 1, 'method': 'multiplicative', 'strength': 1.0, 'first_value_only': True, 'threshold': 10, 'threshold_method': 'mean'}, '2': {'low': 7, 'high': 90, 'K': 3, 'lanczos_factor': False, 'return_diff': False, 'on_transform': True, 'on_inverse': False}, '3': {}} with error ValueError('Shape of passed values is (150, 1), indices imply (156, 1)')\") in model 442 in generation 3: GLS\n",
      "Model Number: 443 with model ETS in generation 3 of 10\n",
      "Model Number: 444 with model GLS in generation 3 of 10\n",
      "Model Number: 445 with model DatepartRegression in generation 3 of 10\n",
      "Model Number: 446 with model SeasonalityMotif in generation 3 of 10\n",
      "Model Number: 447 with model FFT in generation 3 of 10\n",
      "Model Number: 448 with model LastValueNaive in generation 3 of 10\n",
      "Model Number: 449 with model MetricMotif in generation 3 of 10\n",
      "Model Number: 450 with model MetricMotif in generation 3 of 10\n",
      "Model Number: 451 with model AverageValueNaive in generation 3 of 10\n",
      "Model Number: 452 with model LastValueNaive in generation 3 of 10\n",
      "Model Number: 453 with model SectionalMotif in generation 3 of 10\n",
      "Model Number: 454 with model UnivariateMotif in generation 3 of 10\n",
      "Template Eval Error: Exception(\"Transformer Cointegration failed on fit from params ffill {'0': {'output_distribution': 'normal', 'n_quantiles': 20}, '1': {}, '2': {'det_order': -1, 'k_ar_diff': 1}} with error ValueError('Coint only works on multivarate series')\") in model 454 in generation 3: UnivariateMotif\n",
      "Model Number: 455 with model ConstantNaive in generation 3 of 10\n",
      "Model Number: 456 with model ETS in generation 3 of 10\n",
      "Model Number: 457 with model ConstantNaive in generation 3 of 10\n",
      "Model Number: 458 with model SeasonalNaive in generation 3 of 10\n",
      "Model Number: 459 with model SeasonalityMotif in generation 3 of 10\n",
      "Model Number: 460 with model ConstantNaive in generation 3 of 10\n",
      "Model Number: 461 with model BasicLinearModel in generation 3 of 10\n",
      "Model Number: 462 with model SeasonalNaive in generation 3 of 10\n",
      "Model Number: 463 with model Cassandra in generation 3 of 10\n",
      "Template Eval Error: Exception(\"Transformer RegressionFilter failed on fit from params rolling_mean_24 {'0': {}, '1': {'model_name': 'MA', 'state_transition': [[1, 0], [1, 0]], 'process_noise': [[0.2, 0.0], [0.0, 0]], 'observation_model': [[1, 0.1]], 'observation_noise': 1.0, 'em_iter': 10, 'on_transform': True, 'on_inverse': False}, '2': {'decimals': 0, 'on_transform': True, 'on_inverse': True}, '3': {'sigma': 3, 'rolling_window': 90, 'run_order': 'trend_first', 'regression_params': {'regression_model': {'model': 'ElasticNet', 'model_params': {'l1_ratio': 0.9, 'fit_intercept': True, 'selection': 'cyclic', 'max_iter': 2000}}, 'datepart_method': 'common_fourier', 'polynomial_degree': None, 'transform_dict': None, 'holiday_countries_used': True, 'lags': None, 'forward_lags': None}, 'holiday_params': {'threshold': 1.0, 'splash_threshold': None, 'use_dayofmonth_holidays': True, 'use_wkdom_holidays': False, 'use_wkdeom_holidays': False, 'use_lunar_holidays': False, 'use_lunar_weekday': False, 'use_islamic_holidays': False, 'use_hebrew_holidays': False, 'use_hindu_holidays': False, 'anomaly_detector_params': {'method': 'max_diff', 'method_params': {'distribution': 'norm', 'alpha': 0.2}, 'fillna': 'rolling_mean_24', 'transform_dict': None, 'isolated_only': True, 'on_inverse': False}, 'remove_excess_anomalies': True, 'impact': 'datepart_regression', 'regression_params': {'regression_model': {'model': 'ElasticNet', 'model_params': {'l1_ratio': 0.9, 'fit_intercept': True, 'selection': 'cyclic', 'max_iter': 2000}}, 'datepart_method': 'common_fourier', 'polynomial_degree': None, 'transform_dict': None, 'holiday_countries_used': True, 'lags': None, 'forward_lags': None}}, 'trend_method': 'rolling_mean'}, '4': {'low': 4, 'high': 32, 'K': 1, 'lanczos_factor': False, 'return_diff': True, 'on_transform': False, 'on_inverse': True}, '5': {'fillna': 'ffill', 'center': 'zero'}} with error ValueError('more than 1 year of data is required for holiday detection.')\") in model 463 in generation 3: Cassandra\n",
      "Model Number: 464 with model AverageValueNaive in generation 3 of 10\n",
      "Model Number: 465 with model ARDL in generation 3 of 10\n",
      "Model Number: 466 with model ETS in generation 3 of 10\n",
      "Model Number: 467 with model SectionalMotif in generation 3 of 10\n",
      "Model Number: 468 with model MetricMotif in generation 3 of 10\n",
      "Model Number: 469 with model SeasonalNaive in generation 3 of 10\n",
      "Model Number: 470 with model LastValueNaive in generation 3 of 10\n",
      "New Generation: 4 of 10\n",
      "Model Number: 471 with model SeasonalNaive in generation 4 of 10\n",
      "Model Number: 472 with model MetricMotif in generation 4 of 10\n",
      "Template Eval Error: Exception(\"Transformer FIRFilter failed on fit from params ffill {'0': {'numtaps': 256, 'cutoff_hz': 50, 'window': 'hamming', 'sampling_frequency': 28, 'on_transform': True, 'on_inverse': False}, '1': {'regression_model': {'model': 'ElasticNet', 'model_params': {'l1_ratio': 0.1, 'fit_intercept': True, 'selection': 'cyclic', 'max_iter': 1000}}, 'datepart_method': ['weekdaymonthofyear', 'quarter', 'dayofweek'], 'polynomial_degree': None, 'transform_dict': None, 'holiday_countries_used': False, 'lags': None, 'forward_lags': None}, '2': {}} with error ValueError('Invalid cutoff frequency: frequencies must be greater than 0 and less than fs/2.')\") in model 472 in generation 4: MetricMotif\n",
      "Model Number: 473 with model SeasonalityMotif in generation 4 of 10\n",
      "Model Number: 474 with model SeasonalNaive in generation 4 of 10\n",
      "Model Number: 475 with model SeasonalityMotif in generation 4 of 10\n",
      "Model Number: 476 with model UnivariateMotif in generation 4 of 10\n",
      "Model Number: 477 with model LastValueNaive in generation 4 of 10\n",
      "Model Number: 478 with model BasicLinearModel in generation 4 of 10\n",
      "Template Eval Error: ValueError(\"regression_type=='User' but no future_regressor supplied\") in model 478 in generation 4: BasicLinearModel\n",
      "Model Number: 479 with model AverageValueNaive in generation 4 of 10\n",
      "Model Number: 480 with model ETS in generation 4 of 10\n",
      "Model Number: 481 with model SectionalMotif in generation 4 of 10\n",
      "Model Number: 482 with model BasicLinearModel in generation 4 of 10\n",
      "Template Eval Error: Exception(\"Transformer BTCD failed on fit from params ffill {'0': {'lag_1': 2, 'method': 'Median'}, '1': {'span': 12}, '2': {'part': 'trend', 'lamb': 129600}, '3': {'regression_model': {'model': 'LinearRegression', 'model_params': {}}, 'max_lags': 1}} with error ValueError('BTCD only works on multivarate series')\") in model 482 in generation 4: BasicLinearModel\n",
      "Model Number: 483 with model SeasonalityMotif in generation 4 of 10\n",
      "Model Number: 484 with model AverageValueNaive in generation 4 of 10\n",
      "Model Number: 485 with model MetricMotif in generation 4 of 10\n",
      "Template Eval Error: Exception(\"Transformer FIRFilter failed on fit from params ffill {'0': {'numtaps': 256, 'cutoff_hz': 50, 'window': 'hamming', 'sampling_frequency': 28, 'on_transform': True, 'on_inverse': False}, '1': {'rows': 1, 'lag': 1, 'method': 'additive', 'strength': 1.0, 'first_value_only': False, 'threshold': None, 'threshold_method': 'max'}, '2': {'method': 'clip', 'std_threshold': 3.5, 'fillna': None}, '3': {'method': 'zscore', 'method_params': {'distribution': 'uniform', 'alpha': 0.1}, 'fillna': 'ffill', 'transform_dict': {'fillna': 'zero', 'transformations': {'0': 'PositiveShift', '1': 'CenterLastValue'}, 'transformation_params': {'0': {}, '1': {'rows': 6}}}, 'isolated_only': True, 'on_inverse': False}, '4': {}} with error ValueError('Invalid cutoff frequency: frequencies must be greater than 0 and less than fs/2.')\") in model 485 in generation 4: MetricMotif\n",
      "Model Number: 486 with model UnivariateMotif in generation 4 of 10\n",
      "Model Number: 487 with model BasicLinearModel in generation 4 of 10\n",
      "Template Eval Error: ValueError(\"regression_type=='User' but no future_regressor supplied\") in model 487 in generation 4: BasicLinearModel\n",
      "Model Number: 488 with model GLS in generation 4 of 10\n",
      "Model Number: 489 with model SeasonalityMotif in generation 4 of 10\n",
      "Model Number: 490 with model AverageValueNaive in generation 4 of 10\n",
      "Model Number: 491 with model LastValueNaive in generation 4 of 10\n",
      "Model Number: 492 with model SeasonalityMotif in generation 4 of 10\n",
      "Model Number: 493 with model SeasonalityMotif in generation 4 of 10\n",
      "Model Number: 494 with model BasicLinearModel in generation 4 of 10\n",
      "Model Number: 495 with model Cassandra in generation 4 of 10\n"
     ]
    },
    {
     "name": "stderr",
     "output_type": "stream",
     "text": [
      "/home/zeus/miniconda3/envs/cloudspace/lib/python3.10/site-packages/numpy/lib/function_base.py:2897: RuntimeWarning: invalid value encountered in divide\n",
      "  c /= stddev[:, None]\n",
      "/home/zeus/miniconda3/envs/cloudspace/lib/python3.10/site-packages/numpy/lib/function_base.py:2898: RuntimeWarning: invalid value encountered in divide\n",
      "  c /= stddev[None, :]\n"
     ]
    },
    {
     "name": "stdout",
     "output_type": "stream",
     "text": [
      "Model Number: 496 with model LastValueNaive in generation 4 of 10\n",
      "Model Number: 497 with model ETS in generation 4 of 10\n",
      "Model Number: 498 with model LastValueNaive in generation 4 of 10\n",
      "Model Number: 499 with model DatepartRegression in generation 4 of 10\n",
      "Model Number: 500 with model SeasonalityMotif in generation 4 of 10\n",
      "Model Number: 501 with model FFT in generation 4 of 10\n"
     ]
    },
    {
     "name": "stderr",
     "output_type": "stream",
     "text": [
      "/home/zeus/miniconda3/envs/cloudspace/lib/python3.10/site-packages/sklearn/svm/_classes.py:32: FutureWarning: The default value of `dual` will change from `True` to `'auto'` in 1.5. Set the value of `dual` explicitly to suppress the warning.\n",
      "  warnings.warn(\n",
      "/home/zeus/miniconda3/envs/cloudspace/lib/python3.10/site-packages/sklearn/svm/_base.py:1250: ConvergenceWarning: Liblinear failed to converge, increase the number of iterations.\n",
      "  warnings.warn(\n"
     ]
    },
    {
     "name": "stdout",
     "output_type": "stream",
     "text": [
      "Model Number: 502 with model SeasonalityMotif in generation 4 of 10\n",
      "Model Number: 503 with model SeasonalityMotif in generation 4 of 10\n",
      "Model Number: 504 with model MetricMotif in generation 4 of 10\n",
      "Template Eval Error: Exception(\"Transformer FIRFilter failed on fit from params ffill {'0': {'numtaps': 256, 'cutoff_hz': 50, 'window': 'hamming', 'sampling_frequency': 28, 'on_transform': True, 'on_inverse': False}, '1': {'rows': 1, 'lag': 1, 'method': 'additive', 'strength': 1.0, 'first_value_only': False, 'threshold': 10, 'threshold_method': 'max'}, '2': {'rows': 1, 'lag': 7, 'method': 'additive', 'strength': 0.5, 'first_value_only': False, 'threshold': 10, 'threshold_method': 'mean'}} with error ValueError('Invalid cutoff frequency: frequencies must be greater than 0 and less than fs/2.')\") in model 504 in generation 4: MetricMotif\n",
      "Model Number: 505 with model MetricMotif in generation 4 of 10\n",
      "Model Number: 506 with model AverageValueNaive in generation 4 of 10\n",
      "Model Number: 507 with model SeasonalityMotif in generation 4 of 10\n",
      "Model Number: 508 with model AverageValueNaive in generation 4 of 10\n",
      "Model Number: 509 with model DatepartRegression in generation 4 of 10\n"
     ]
    },
    {
     "name": "stderr",
     "output_type": "stream",
     "text": [
      "/home/zeus/miniconda3/envs/cloudspace/lib/python3.10/site-packages/numpy/core/_methods.py:176: RuntimeWarning: overflow encountered in multiply\n",
      "  x = um.multiply(x, x, out=x)\n",
      "/home/zeus/miniconda3/envs/cloudspace/lib/python3.10/site-packages/numpy/core/_methods.py:187: RuntimeWarning: overflow encountered in reduce\n",
      "  ret = umr_sum(x, axis, dtype, out, keepdims=keepdims, where=where)\n"
     ]
    },
    {
     "name": "stdout",
     "output_type": "stream",
     "text": [
      "Model Number: 510 with model SeasonalNaive in generation 4 of 10\n",
      "Model Number: 511 with model RRVAR in generation 4 of 10\n",
      "Model Number: 512 with model LastValueNaive in generation 4 of 10\n",
      "Model Number: 513 with model SeasonalNaive in generation 4 of 10\n",
      "Model Number: 514 with model GLM in generation 4 of 10\n",
      "Model Number: 515 with model UnivariateMotif in generation 4 of 10\n",
      "Model Number: 516 with model LastValueNaive in generation 4 of 10\n",
      "Model Number: 517 with model MetricMotif in generation 4 of 10\n",
      "Model Number: 518 with model BasicLinearModel in generation 4 of 10\n"
     ]
    },
    {
     "name": "stderr",
     "output_type": "stream",
     "text": [
      "/home/zeus/miniconda3/envs/cloudspace/lib/python3.10/site-packages/sklearn/linear_model/_ridge.py:200: LinAlgWarning: Ill-conditioned matrix (rcond=8.05924e-25): result may not be accurate.\n",
      "  return linalg.solve(A, Xy, assume_a=\"pos\", overwrite_a=True).T\n"
     ]
    },
    {
     "name": "stdout",
     "output_type": "stream",
     "text": [
      "Model Number: 519 with model GLS in generation 4 of 10\n",
      "Model Number: 520 with model RRVAR in generation 4 of 10\n",
      "Model Number: 521 with model DatepartRegression in generation 4 of 10\n",
      "interpolating\n",
      "Template Eval Error: ValueError('Model DatepartRegression returned NaN for one or more series. fail_on_forecast_nan=True') in model 521 in generation 4: DatepartRegression\n",
      "Model Number: 522 with model ConstantNaive in generation 4 of 10\n",
      "Model Number: 523 with model GLS in generation 4 of 10\n"
     ]
    },
    {
     "name": "stderr",
     "output_type": "stream",
     "text": [
      "/home/zeus/miniconda3/envs/cloudspace/lib/python3.10/site-packages/sklearn/neighbors/_regression.py:500: UserWarning: One or more samples have no neighbors within specified radius; predicting NaN.\n",
      "  warnings.warn(empty_warning_msg)\n",
      "/home/zeus/miniconda3/envs/cloudspace/lib/python3.10/site-packages/sklearn/neighbors/_classification.py:233: DataConversionWarning: A column-vector y was passed when a 1d array was expected. Please change the shape of y to (n_samples,), for example using ravel().\n",
      "  return self._fit(X, y)\n"
     ]
    },
    {
     "name": "stdout",
     "output_type": "stream",
     "text": [
      "Model Number: 524 with model RRVAR in generation 4 of 10\n",
      "Model Number: 525 with model AverageValueNaive in generation 4 of 10\n",
      "Model Number: 526 with model BasicLinearModel in generation 4 of 10\n",
      "Model Number: 527 with model UnivariateMotif in generation 4 of 10\n",
      "Template Eval Error: Exception(\"Transformer Cointegration failed on fit from params ffill {'0': {}, '1': {}, '2': {'det_order': -1, 'k_ar_diff': 1}, '3': {}} with error ValueError('Coint only works on multivarate series')\") in model 527 in generation 4: UnivariateMotif\n",
      "Model Number: 528 with model GLM in generation 4 of 10\n",
      "Model Number: 529 with model BasicLinearModel in generation 4 of 10\n"
     ]
    },
    {
     "name": "stderr",
     "output_type": "stream",
     "text": [
      "/home/zeus/miniconda3/envs/cloudspace/lib/python3.10/site-packages/statsmodels/genmod/families/links.py:198: RuntimeWarning: overflow encountered in exp\n",
      "  t = np.exp(-z)\n"
     ]
    },
    {
     "name": "stdout",
     "output_type": "stream",
     "text": [
      "Model Number: 530 with model DatepartRegression in generation 4 of 10\n",
      "Model Number: 531 with model AverageValueNaive in generation 4 of 10\n",
      "Model Number: 532 with model AverageValueNaive in generation 4 of 10\n",
      "Model Number: 533 with model GLS in generation 4 of 10\n",
      "Model Number: 534 with model MetricMotif in generation 4 of 10\n",
      "Model Number: 535 with model ARDL in generation 4 of 10\n",
      "Model Number: 536 with model SeasonalNaive in generation 4 of 10\n",
      "Model Number: 537 with model LastValueNaive in generation 4 of 10\n",
      "Model Number: 538 with model MetricMotif in generation 4 of 10\n",
      "Template Eval Error: Exception(\"Transformer RegressionFilter failed on fit from params zero {'0': {'rows': 1, 'lag': 1, 'method': 'additive', 'strength': 0.2, 'first_value_only': False, 'threshold': 10, 'threshold_method': 'max'}, '1': {'model': 'Linear', 'phi': 1, 'window': 365, 'transform_dict': None}, '2': {}, '3': {'sigma': 0.5, 'rolling_window': 90, 'run_order': 'season_first', 'regression_params': {'regression_model': {'model': 'ElasticNet', 'model_params': {'l1_ratio': 0.5, 'fit_intercept': True, 'selection': 'cyclic', 'max_iter': 5000}}, 'datepart_method': ['recurring'], 'polynomial_degree': None, 'transform_dict': None, 'holiday_countries_used': False, 'lags': None, 'forward_lags': None}, 'holiday_params': {'threshold': 0.7, 'splash_threshold': None, 'use_dayofmonth_holidays': True, 'use_wkdom_holidays': True, 'use_wkdeom_holidays': False, 'use_lunar_holidays': False, 'use_lunar_weekday': False, 'use_islamic_holidays': False, 'use_hebrew_holidays': False, 'use_hindu_holidays': True, 'anomaly_detector_params': {'method': 'minmax', 'method_params': {'alpha': 0.05}, 'fillna': 'linear', 'transform_dict': {'transformations': {'0': 'DatepartRegression'}, 'transformation_params': {'0': {'datepart_method': 'simple_3', 'regression_model': {'model': 'DecisionTree', 'model_params': {'max_depth': None, 'min_samples_split': 0.1}}}}}, 'isolated_only': False, 'on_inverse': False}, 'remove_excess_anomalies': True, 'impact': 'datepart_regression', 'regression_params': {'regression_model': {'model': 'ElasticNet', 'model_params': {'l1_ratio': 0.5, 'fit_intercept': True, 'selection': 'cyclic', 'max_iter': 5000}}, 'datepart_method': ['recurring'], 'polynomial_degree': None, 'transform_dict': None, 'holiday_countries_used': False, 'lags': None, 'forward_lags': None}}, 'trend_method': 'local_linear'}, '4': {'rows': 2}} with error ValueError('more than 1 year of data is required for holiday detection.')\") in model 538 in generation 4: MetricMotif\n",
      "Model Number: 539 with model ETS in generation 4 of 10\n",
      "Model Number: 540 with model ConstantNaive in generation 4 of 10\n",
      "Model Number: 541 with model BasicLinearModel in generation 4 of 10\n",
      "Template Eval Error: ValueError(\"regression_type=='User' but no future_regressor supplied\") in model 541 in generation 4: BasicLinearModel\n",
      "Model Number: 542 with model UnivariateMotif in generation 4 of 10\n",
      "Model Number: 543 with model GLM in generation 4 of 10\n",
      "Model Number: 544 with model MetricMotif in generation 4 of 10\n",
      "Model Number: 545 with model ConstantNaive in generation 4 of 10\n",
      "Model Number: 546 with model ARDL in generation 4 of 10\n"
     ]
    },
    {
     "name": "stderr",
     "output_type": "stream",
     "text": [
      "/home/zeus/miniconda3/envs/cloudspace/lib/python3.10/site-packages/sklearn/neighbors/_classification.py:233: DataConversionWarning: A column-vector y was passed when a 1d array was expected. Please change the shape of y to (n_samples,), for example using ravel().\n",
      "  return self._fit(X, y)\n"
     ]
    },
    {
     "name": "stdout",
     "output_type": "stream",
     "text": [
      "Model Number: 547 with model WindowRegression in generation 4 of 10\n",
      "Model Number: 548 with model AverageValueNaive in generation 4 of 10\n",
      "Model Number: 549 with model ETS in generation 4 of 10\n",
      "Model Number: 550 with model SectionalMotif in generation 4 of 10\n"
     ]
    },
    {
     "name": "stderr",
     "output_type": "stream",
     "text": [
      "/home/zeus/miniconda3/envs/cloudspace/lib/python3.10/site-packages/sklearn/base.py:458: UserWarning: X has feature names, but StandardScaler was fitted without feature names\n",
      "  warnings.warn(\n"
     ]
    },
    {
     "name": "stdout",
     "output_type": "stream",
     "text": [
      "Model Number: 551 with model SeasonalNaive in generation 4 of 10\n",
      "Model Number: 552 with model ETS in generation 4 of 10\n",
      "Model Number: 553 with model SectionalMotif in generation 4 of 10\n",
      "Model Number: 554 with model AverageValueNaive in generation 4 of 10\n",
      "Model Number: 555 with model SeasonalNaive in generation 4 of 10\n",
      "Model Number: 556 with model MetricMotif in generation 4 of 10\n",
      "Model Number: 557 with model SectionalMotif in generation 4 of 10\n",
      "Model Number: 558 with model SeasonalityMotif in generation 4 of 10\n",
      "Model Number: 559 with model ConstantNaive in generation 4 of 10\n",
      "Model Number: 560 with model MetricMotif in generation 4 of 10\n",
      "Model Number: 561 with model SeasonalityMotif in generation 4 of 10\n",
      "Model Number: 562 with model ConstantNaive in generation 4 of 10\n",
      "Model Number: 563 with model Cassandra in generation 4 of 10\n"
     ]
    },
    {
     "name": "stderr",
     "output_type": "stream",
     "text": [
      "/home/zeus/miniconda3/envs/cloudspace/lib/python3.10/site-packages/numpy/lib/function_base.py:2897: RuntimeWarning: invalid value encountered in divide\n",
      "  c /= stddev[:, None]\n",
      "/home/zeus/miniconda3/envs/cloudspace/lib/python3.10/site-packages/numpy/lib/function_base.py:2898: RuntimeWarning: invalid value encountered in divide\n",
      "  c /= stddev[None, :]\n"
     ]
    },
    {
     "name": "stdout",
     "output_type": "stream",
     "text": [
      "Model Number: 564 with model AverageValueNaive in generation 4 of 10\n",
      "Model Number: 565 with model AverageValueNaive in generation 4 of 10\n",
      "Model Number: 566 with model ETS in generation 4 of 10\n",
      "Model Number: 567 with model BasicLinearModel in generation 4 of 10\n",
      "Template Eval Error: ValueError(\"regression_type=='User' but no future_regressor supplied\") in model 567 in generation 4: BasicLinearModel\n",
      "Model Number: 568 with model ARDL in generation 4 of 10\n"
     ]
    },
    {
     "name": "stderr",
     "output_type": "stream",
     "text": [
      "/home/zeus/miniconda3/envs/cloudspace/lib/python3.10/site-packages/sklearn/linear_model/_ridge.py:200: LinAlgWarning: Ill-conditioned matrix (rcond=8.05924e-25): result may not be accurate.\n",
      "  return linalg.solve(A, Xy, assume_a=\"pos\", overwrite_a=True).T\n"
     ]
    },
    {
     "name": "stdout",
     "output_type": "stream",
     "text": [
      "Model Number: 569 with model ARDL in generation 4 of 10\n",
      "Model Number: 570 with model WindowRegression in generation 4 of 10\n",
      "Model Number: 571 with model SectionalMotif in generation 4 of 10\n",
      "Model Number: 572 with model MetricMotif in generation 4 of 10\n",
      "Model Number: 573 with model SeasonalityMotif in generation 4 of 10\n"
     ]
    },
    {
     "name": "stderr",
     "output_type": "stream",
     "text": [
      "/home/zeus/miniconda3/envs/cloudspace/lib/python3.10/site-packages/sklearn/neural_network/_multilayer_perceptron.py:546: ConvergenceWarning: lbfgs failed to converge (status=1):\n",
      "STOP: TOTAL NO. of ITERATIONS REACHED LIMIT.\n",
      "\n",
      "Increase the number of iterations (max_iter) or scale the data as shown in:\n",
      "    https://scikit-learn.org/stable/modules/preprocessing.html\n",
      "  self.n_iter_ = _check_optimize_result(\"lbfgs\", opt_res, self.max_iter)\n"
     ]
    },
    {
     "name": "stdout",
     "output_type": "stream",
     "text": [
      "Model Number: 574 with model RRVAR in generation 4 of 10\n",
      "Model Number: 575 with model GLS in generation 4 of 10\n",
      "New Generation: 5 of 10\n",
      "Model Number: 576 with model UnivariateMotif in generation 5 of 10\n",
      "Template Eval Error: Exception(\"Transformer BTCD failed on fit from params ffill_mean_biased {'0': {'rows': 1, 'lag': 1, 'method': 'additive', 'strength': 0.5, 'first_value_only': False, 'threshold': 1, 'threshold_method': 'max'}, '1': {'rows': 1, 'lag': 1, 'method': 'multiplicative', 'strength': 1.0, 'first_value_only': False, 'threshold': 1, 'threshold_method': 'max'}, '2': {'regression_model': {'model': 'LinearRegression', 'model_params': {}}, 'max_lags': 2}, '3': {}, '4': {'lag': 1, 'fill': 'zero'}} with error ValueError('BTCD only works on multivarate series')\") in model 576 in generation 5: UnivariateMotif\n",
      "Model Number: 577 with model SectionalMotif in generation 5 of 10\n",
      "Model Number: 578 with model SeasonalityMotif in generation 5 of 10\n",
      "prediction too long for indepedent=False, falling back on indepedent=True\n",
      "Model Number: 579 with model SeasonalityMotif in generation 5 of 10\n",
      "Model Number: 580 with model SeasonalityMotif in generation 5 of 10\n",
      "Model Number: 581 with model GLS in generation 5 of 10\n",
      "Model Number: 582 with model SeasonalNaive in generation 5 of 10\n",
      "Model Number: 583 with model Cassandra in generation 5 of 10\n",
      "Template Eval Error: ValueError('more than 1 year of data is required for holiday detection.') in model 583 in generation 5: Cassandra\n",
      "Model Number: 584 with model MetricMotif in generation 5 of 10\n",
      "Model Number: 585 with model SectionalMotif in generation 5 of 10\n",
      "Model Number: 586 with model LastValueNaive in generation 5 of 10\n",
      "Model Number: 587 with model UnivariateMotif in generation 5 of 10\n",
      "Model Number: 588 with model SeasonalNaive in generation 5 of 10\n",
      "Template Eval Error: Exception(\"Transformer AnomalyRemoval failed on fit from params zero {'0': {'model': 'Tweedie', 'phi': 0.998, 'window': None, 'transform_dict': {'fillna': 'zero', 'transformations': {'0': 'AlignLastValue', '1': 'QuantileTransformer'}, 'transformation_params': {'0': {'rows': 7, 'lag': 2, 'method': 'additive', 'strength': 1.0, 'first_value_only': False, 'threshold': 10, 'threshold_method': 'mean'}, '1': {'output_distribution': 'uniform', 'n_quantiles': 52}}}}, '1': {'window': 3}, '2': {'method': 'EE', 'method_params': {'contamination': 0.1, 'assume_centered': False, 'support_fraction': None}, 'fillna': 'fake_date', 'transform_dict': {'fillna': 'ffill', 'transformations': {'0': 'CenterSplit'}, 'transformation_params': {'0': {'fillna': 'ffill', 'center': 'zero'}}}, 'isolated_only': False, 'on_inverse': False}} with error ValueError('The covariance matrix of the support data is equal to 0, try to increase support_fraction')\") in model 588 in generation 5: SeasonalNaive\n",
      "Model Number: 589 with model MetricMotif in generation 5 of 10\n",
      "Model Number: 590 with model GLS in generation 5 of 10\n",
      "Model Number: 591 with model UnivariateMotif in generation 5 of 10\n",
      "Model Number: 592 with model AverageValueNaive in generation 5 of 10\n",
      "Model Number: 593 with model SectionalMotif in generation 5 of 10\n",
      "Model Number: 594 with model UnivariateMotif in generation 5 of 10\n",
      "Model Number: 595 with model RRVAR in generation 5 of 10\n",
      "Model Number: 596 with model GLM in generation 5 of 10\n",
      "Model Number: 597 with model GLS in generation 5 of 10\n",
      "Model Number: 598 with model UnivariateMotif in generation 5 of 10\n",
      "Model Number: 599 with model SectionalMotif in generation 5 of 10\n",
      "Model Number: 600 with model ETS in generation 5 of 10\n",
      "Model Number: 601 with model AverageValueNaive in generation 5 of 10\n",
      "Model Number: 602 with model ConstantNaive in generation 5 of 10\n",
      "Model Number: 603 with model LastValueNaive in generation 5 of 10\n",
      "Model Number: 604 with model SeasonalNaive in generation 5 of 10\n",
      "Model Number: 605 with model LastValueNaive in generation 5 of 10\n",
      "Model Number: 606 with model AverageValueNaive in generation 5 of 10\n",
      "Model Number: 607 with model GLM in generation 5 of 10\n",
      "Model Number: 608 with model ARDL in generation 5 of 10\n",
      "Template Eval Error: Exception(\"Transformer SeasonalDifference failed on fit from params cubic {'0': {'method': 0.3}, '1': {}, '2': {'model': 'Linear', 'changepoint_spacing': 60, 'changepoint_distance_end': 520, 'datepart_method': None}, '3': {'window': 3}, '4': {'lag_1': 96, 'method': 20}} with error ValueError('cannot reshape array of size 46 into shape (0,96,newaxis)')\") in model 608 in generation 5: ARDL\n",
      "Model Number: 609 with model SeasonalityMotif in generation 5 of 10\n",
      "Template Eval Error: Exception(\"Transformer BTCD failed on fit from params quadratic {'0': {}, '1': {'regression_model': {'model': 'LinearRegression', 'model_params': {}}, 'max_lags': 1}, '2': {'rows': 4, 'displacement_rows': 1, 'quantile': 1.0, 'decay_span': None}} with error ValueError('BTCD only works on multivarate series')\") in model 609 in generation 5: SeasonalityMotif\n",
      "Model Number: 610 with model SeasonalNaive in generation 5 of 10\n",
      "Model Number: 611 with model RRVAR in generation 5 of 10\n",
      "Model Number: 612 with model SeasonalNaive in generation 5 of 10\n",
      "Model Number: 613 with model AverageValueNaive in generation 5 of 10\n",
      "Model Number: 614 with model AverageValueNaive in generation 5 of 10\n",
      "Model Number: 615 with model MetricMotif in generation 5 of 10\n",
      "Model Number: 616 with model SeasonalNaive in generation 5 of 10\n",
      "Model Number: 617 with model BasicLinearModel in generation 5 of 10\n",
      "Template Eval Error: ValueError(\"regression_type=='User' but no future_regressor supplied\") in model 617 in generation 5: BasicLinearModel\n",
      "Model Number: 618 with model BasicLinearModel in generation 5 of 10\n",
      "Model Number: 619 with model UnivariateMotif in generation 5 of 10\n",
      "Model Number: 620 with model UnivariateMotif in generation 5 of 10\n",
      "Model Number: 621 with model BasicLinearModel in generation 5 of 10\n",
      "Model Number: 622 with model SectionalMotif in generation 5 of 10\n",
      "Model Number: 623 with model DatepartRegression in generation 5 of 10\n",
      "Model Number: 624 with model BasicLinearModel in generation 5 of 10\n",
      "Model Number: 625 with model Cassandra in generation 5 of 10\n"
     ]
    },
    {
     "name": "stderr",
     "output_type": "stream",
     "text": [
      "/home/zeus/miniconda3/envs/cloudspace/lib/python3.10/site-packages/numpy/lib/function_base.py:2897: RuntimeWarning: invalid value encountered in divide\n",
      "  c /= stddev[:, None]\n",
      "/home/zeus/miniconda3/envs/cloudspace/lib/python3.10/site-packages/numpy/lib/function_base.py:2898: RuntimeWarning: invalid value encountered in divide\n",
      "  c /= stddev[None, :]\n"
     ]
    },
    {
     "name": "stdout",
     "output_type": "stream",
     "text": [
      "Model Number: 626 with model FFT in generation 5 of 10\n",
      "Model Number: 627 with model LastValueNaive in generation 5 of 10\n",
      "Model Number: 628 with model SectionalMotif in generation 5 of 10\n",
      "Model Number: 629 with model SectionalMotif in generation 5 of 10\n",
      "Model Number: 630 with model UnivariateMotif in generation 5 of 10\n",
      "Model Number: 631 with model SectionalMotif in generation 5 of 10\n",
      "Model Number: 632 with model BasicLinearModel in generation 5 of 10\n",
      "Model Number: 633 with model AverageValueNaive in generation 5 of 10\n",
      "Model Number: 634 with model Cassandra in generation 5 of 10\n",
      "Template Eval Error: Exception('Transformer PCA failed on fit from params ffill {\\'0\\': {\\'rows\\': 1, \\'lag\\': 1, \\'method\\': \\'additive\\', \\'strength\\': 0.5, \\'first_value_only\\': False, \\'threshold\\': 1, \\'threshold_method\\': \\'max\\'}, \\'1\\': {\\'numtaps\\': 1024, \\'cutoff_hz\\': 0.01, \\'window\\': \\'hann\\', \\'sampling_frequency\\': 28, \\'on_transform\\': True, \\'on_inverse\\': False}, \\'2\\': {\\'whiten\\': False, \\'n_components\\': 100}, \\'3\\': {\\'method\\': \\'zscore\\', \\'method_params\\': {\\'distribution\\': \\'uniform\\', \\'alpha\\': 0.1}, \\'fillna\\': \\'ffill\\', \\'transform_dict\\': {\\'fillna\\': \\'zero\\', \\'transformations\\': {\\'0\\': \\'PositiveShift\\', \\'1\\': \\'CenterLastValue\\'}, \\'transformation_params\\': {\\'0\\': {}, \\'1\\': {\\'rows\\': 6}}}, \\'isolated_only\\': True, \\'on_inverse\\': False}} with error ValueError(\"n_components=100 must be between 0 and min(n_samples, n_features)=1 with svd_solver=\\'full\\'\")') in model 634 in generation 5: Cassandra\n",
      "Model Number: 635 with model UnivariateMotif in generation 5 of 10\n",
      "Template Eval Error: Exception(\"Transformer BTCD failed on fit from params ffill {'0': {'output_distribution': 'uniform', 'n_quantiles': 100}, '1': {}, '2': {'regression_model': {'model': 'LinearRegression', 'model_params': {}}, 'max_lags': 2}, '3': {'lag': 1, 'fill': 'zero'}} with error ValueError('BTCD only works on multivarate series')\") in model 635 in generation 5: UnivariateMotif\n",
      "Model Number: 636 with model ETS in generation 5 of 10\n",
      "Model Number: 637 with model SectionalMotif in generation 5 of 10\n",
      "Model Number: 638 with model SectionalMotif in generation 5 of 10\n",
      "Model Number: 639 with model BasicLinearModel in generation 5 of 10\n",
      "Template Eval Error: ValueError(\"regression_type=='User' but no future_regressor supplied\") in model 639 in generation 5: BasicLinearModel\n",
      "Model Number: 640 with model ARDL in generation 5 of 10\n",
      "Model Number: 641 with model SectionalMotif in generation 5 of 10\n",
      "Model Number: 642 with model GLS in generation 5 of 10\n",
      "Template Eval Error: Exception(\"Transformer BTCD failed on fit from params linear {'0': {'regression_model': {'model': 'FastRidge', 'model_params': {}}, 'max_lags': 2}, '1': {'method': 'IQR', 'method_params': {'iqr_threshold': 2.5, 'iqr_quantiles': [0.25, 0.75]}, 'fillna': 'rolling_mean_24', 'transform_dict': {'transformations': {'0': 'DatepartRegression'}, 'transformation_params': {'0': {'datepart_method': 'simple_3', 'regression_model': {'model': 'DecisionTree', 'model_params': {'max_depth': None, 'min_samples_split': 0.1}}}}}, 'isolated_only': False, 'on_inverse': False}, '2': {'low': 6, 'high': 32, 'K': 1, 'lanczos_factor': False, 'return_diff': True, 'on_transform': True, 'on_inverse': False}, '3': {'model': 'Linear', 'phi': 1, 'window': None, 'transform_dict': None}, '4': {'regression_model': {'model': 'DecisionTree', 'model_params': {'max_depth': 3, 'min_samples_split': 0.05}}, 'datepart_method': 'simple_binarized', 'polynomial_degree': None, 'transform_dict': None, 'holiday_countries_used': True, 'lags': None, 'forward_lags': None}} with error ValueError('BTCD only works on multivarate series')\") in model 642 in generation 5: GLS\n",
      "Model Number: 643 with model SeasonalNaive in generation 5 of 10\n",
      "Model Number: 644 with model SeasonalityMotif in generation 5 of 10\n",
      "Model Number: 645 with model MetricMotif in generation 5 of 10\n",
      "Model Number: 646 with model BasicLinearModel in generation 5 of 10\n",
      "Model Number: 647 with model ARDL in generation 5 of 10\n",
      "Model Number: 648 with model SeasonalityMotif in generation 5 of 10\n",
      "Model Number: 649 with model BasicLinearModel in generation 5 of 10\n",
      "Model Number: 650 with model BasicLinearModel in generation 5 of 10\n",
      "Model Number: 651 with model MetricMotif in generation 5 of 10\n",
      "Model Number: 652 with model RRVAR in generation 5 of 10\n",
      "Model Number: 653 with model MetricMotif in generation 5 of 10\n",
      "Model Number: 654 with model MetricMotif in generation 5 of 10\n",
      "Model Number: 655 with model ConstantNaive in generation 5 of 10\n",
      "Model Number: 656 with model SeasonalNaive in generation 5 of 10\n",
      "Model Number: 657 with model SeasonalNaive in generation 5 of 10\n"
     ]
    },
    {
     "name": "stderr",
     "output_type": "stream",
     "text": [
      "/home/zeus/miniconda3/envs/cloudspace/lib/python3.10/site-packages/sklearn/neighbors/_classification.py:233: DataConversionWarning: A column-vector y was passed when a 1d array was expected. Please change the shape of y to (n_samples,), for example using ravel().\n",
      "  return self._fit(X, y)\n"
     ]
    },
    {
     "name": "stdout",
     "output_type": "stream",
     "text": [
      "Model Number: 658 with model SeasonalityMotif in generation 5 of 10\n",
      "Model Number: 659 with model MetricMotif in generation 5 of 10\n",
      "New Generation: 6 of 10\n",
      "Model Number: 660 with model MetricMotif in generation 6 of 10\n",
      "Model Number: 661 with model MetricMotif in generation 6 of 10\n",
      "Model Number: 662 with model RRVAR in generation 6 of 10\n",
      "Model Number: 663 with model LastValueNaive in generation 6 of 10\n",
      "Model Number: 664 with model GLM in generation 6 of 10\n",
      "Model Number: 665 with model ARDL in generation 6 of 10\n",
      "Template Eval Error: Exception(\"Transformer ReplaceConstant failed on fit from params ffill_mean_biased {'0': {}, '1': {'rows': 1, 'lag': 1, 'method': 'additive', 'strength': 1.0, 'first_value_only': False, 'threshold': None, 'threshold_method': 'mean'}, '2': {'method': 'clip', 'std_threshold': 3.5, 'fillna': None}, '3': {'constant': 0, 'reintroduction_model': {'model': 'xgboost', 'model_params': {'booster': 'gbtree', 'max_depth': 3, 'eta': 0.01, 'min_child_weight': 1, 'subsample': 1, 'colsample_bylevel': 0.5, 'reg_alpha': 0, 'reg_lambda': 1, 'n_estimators': 10}, 'datepart_method': ['simple_binarized']}, 'fillna': None}, '4': {'decimals': 1, 'on_transform': True, 'on_inverse': True}} with error ValueError('Invalid classes inferred from unique values of `y`.  Expected: [0], got [1]')\") in model 665 in generation 6: ARDL\n",
      "Model Number: 666 with model GLM in generation 6 of 10\n"
     ]
    },
    {
     "name": "stderr",
     "output_type": "stream",
     "text": [
      "/home/zeus/miniconda3/envs/cloudspace/lib/python3.10/site-packages/statsmodels/genmod/generalized_linear_model.py:1342: PerfectSeparationWarning: Perfect separation or prediction detected, parameter may not be identified\n",
      "  warnings.warn(msg, category=PerfectSeparationWarning)\n",
      "/home/zeus/miniconda3/envs/cloudspace/lib/python3.10/site-packages/statsmodels/genmod/generalized_linear_model.py:1342: PerfectSeparationWarning: Perfect separation or prediction detected, parameter may not be identified\n",
      "  warnings.warn(msg, category=PerfectSeparationWarning)\n",
      "/home/zeus/miniconda3/envs/cloudspace/lib/python3.10/site-packages/statsmodels/genmod/generalized_linear_model.py:1342: PerfectSeparationWarning: Perfect separation or prediction detected, parameter may not be identified\n",
      "  warnings.warn(msg, category=PerfectSeparationWarning)\n",
      "/home/zeus/miniconda3/envs/cloudspace/lib/python3.10/site-packages/statsmodels/genmod/generalized_linear_model.py:1342: PerfectSeparationWarning: Perfect separation or prediction detected, parameter may not be identified\n",
      "  warnings.warn(msg, category=PerfectSeparationWarning)\n",
      "/home/zeus/miniconda3/envs/cloudspace/lib/python3.10/site-packages/statsmodels/genmod/generalized_linear_model.py:1342: PerfectSeparationWarning: Perfect separation or prediction detected, parameter may not be identified\n",
      "  warnings.warn(msg, category=PerfectSeparationWarning)\n",
      "/home/zeus/miniconda3/envs/cloudspace/lib/python3.10/site-packages/statsmodels/genmod/generalized_linear_model.py:1342: PerfectSeparationWarning: Perfect separation or prediction detected, parameter may not be identified\n",
      "  warnings.warn(msg, category=PerfectSeparationWarning)\n",
      "/home/zeus/miniconda3/envs/cloudspace/lib/python3.10/site-packages/statsmodels/genmod/generalized_linear_model.py:1342: PerfectSeparationWarning: Perfect separation or prediction detected, parameter may not be identified\n",
      "  warnings.warn(msg, category=PerfectSeparationWarning)\n",
      "/home/zeus/miniconda3/envs/cloudspace/lib/python3.10/site-packages/statsmodels/genmod/generalized_linear_model.py:1342: PerfectSeparationWarning: Perfect separation or prediction detected, parameter may not be identified\n",
      "  warnings.warn(msg, category=PerfectSeparationWarning)\n"
     ]
    },
    {
     "name": "stdout",
     "output_type": "stream",
     "text": [
      "Model Number: 667 with model SeasonalNaive in generation 6 of 10\n",
      "Model Number: 668 with model DatepartRegression in generation 6 of 10\n",
      "Template Eval Error: ValueError(\"regression_type='User' but no future_regressor passed\") in model 668 in generation 6: DatepartRegression\n",
      "Model Number: 669 with model MetricMotif in generation 6 of 10\n",
      "Model Number: 670 with model UnivariateMotif in generation 6 of 10\n",
      "Model Number: 671 with model ConstantNaive in generation 6 of 10\n",
      "Model Number: 672 with model SeasonalNaive in generation 6 of 10\n",
      "Model Number: 673 with model UnivariateMotif in generation 6 of 10\n",
      "Model Number: 674 with model MetricMotif in generation 6 of 10\n",
      "Model Number: 675 with model AverageValueNaive in generation 6 of 10\n",
      "Model Number: 676 with model SeasonalityMotif in generation 6 of 10\n",
      "Model Number: 677 with model RRVAR in generation 6 of 10\n",
      "Model Number: 678 with model Cassandra in generation 6 of 10\n",
      "Model Number: 679 with model ConstantNaive in generation 6 of 10\n",
      "Model Number: 680 with model SectionalMotif in generation 6 of 10\n",
      "Model Number: 681 with model BasicLinearModel in generation 6 of 10"
     ]
    },
    {
     "name": "stderr",
     "output_type": "stream",
     "text": [
      "/home/zeus/miniconda3/envs/cloudspace/lib/python3.10/site-packages/numpy/lib/function_base.py:2897: RuntimeWarning: invalid value encountered in divide\n",
      "  c /= stddev[:, None]\n",
      "/home/zeus/miniconda3/envs/cloudspace/lib/python3.10/site-packages/numpy/lib/function_base.py:2898: RuntimeWarning: invalid value encountered in divide\n",
      "  c /= stddev[None, :]\n"
     ]
    },
    {
     "name": "stdout",
     "output_type": "stream",
     "text": [
      "\n",
      "Model Number: 682 with model SectionalMotif in generation 6 of 10\n",
      "Model Number: 683 with model SectionalMotif in generation 6 of 10\n",
      "Model Number: 684 with model AverageValueNaive in generation 6 of 10\n",
      "Model Number: 685 with model ARDL in generation 6 of 10\n",
      "Model Number: 686 with model UnivariateMotif in generation 6 of 10\n",
      "Model Number: 687 with model ARDL in generation 6 of 10\n",
      "Model Number: 688 with model SeasonalNaive in generation 6 of 10\n",
      "Model Number: 689 with model GLS in generation 6 of 10\n",
      "Model Number: 690 with model DatepartRegression in generation 6 of 10\n",
      "Model Number: 691 with model SeasonalityMotif in generation 6 of 10\n",
      "Model Number: 692 with model MetricMotif in generation 6 of 10\n",
      "Model Number: 693 with model SectionalMotif in generation 6 of 10\n",
      "Model Number: 694 with model ETS in generation 6 of 10\n",
      "Model Number: 695 with model BasicLinearModel in generation 6 of 10\n",
      "Model Number: 696 with model SeasonalityMotif in generation 6 of 10\n",
      "Model Number: 697 with model UnivariateMotif in generation 6 of 10\n",
      "Model Number: 698 with model ARDL in generation 6 of 10\n",
      "Model Number: 699 with model AverageValueNaive in generation 6 of 10\n",
      "Model Number: 700 with model LastValueNaive in generation 6 of 10\n",
      "Model Number: 701 with model DatepartRegression in generation 6 of 10\n",
      "Model Number: 702 with model ConstantNaive in generation 6 of 10\n",
      "Model Number: 703 with model UnivariateMotif in generation 6 of 10\n",
      "k too large for size of data in motif\n",
      "Template Eval Error: ValueError('kth(=69) out of bounds (69)') in model 703 in generation 6: UnivariateMotif\n",
      "Model Number: 704 with model AverageValueNaive in generation 6 of 10\n",
      "Model Number: 705 with model UnivariateMotif in generation 6 of 10\n",
      "Model Number: 706 with model AverageValueNaive in generation 6 of 10\n",
      "Model Number: 707 with model SeasonalNaive in generation 6 of 10\n"
     ]
    },
    {
     "name": "stderr",
     "output_type": "stream",
     "text": [
      "/home/zeus/miniconda3/envs/cloudspace/lib/python3.10/site-packages/sklearn/svm/_classes.py:32: FutureWarning: The default value of `dual` will change from `True` to `'auto'` in 1.5. Set the value of `dual` explicitly to suppress the warning.\n",
      "  warnings.warn(\n"
     ]
    },
    {
     "name": "stdout",
     "output_type": "stream",
     "text": [
      "Model Number: 708 with model ARDL in generation 6 of 10\n",
      "Template Eval Error: ValueError(\"ARDL series dfc84fb2db544292a7083a9fdbb211a7eb4a0ab330436a31b9199bf3835d1278 failed with error ValueError('The number of regressors (279) including deterministics, lags of the endog, lags of the exogenous, and fixed regressors is larger than the sample available for estimation (96).') exog train              dp0  dp1        dp2  dp3  dp4  dp5  dp6  dp7  dp8  dp9  ...  \\\\\\ndate                                                                 ...   \\n2023-02-26  26.0  1.0  2460001.5  0.0  1.0  0.0  0.0  0.0  0.0  0.0  ...   \\n2023-02-27  27.0  0.0  2460002.5  0.0  1.0  0.0  0.0  0.0  0.0  0.0  ...   \\n2023-02-28  28.0  0.0  2460003.5  0.0  1.0  0.0  0.0  0.0  0.0  0.0  ...   \\n2023-03-01   1.0  0.0  2460004.5  0.0  0.0  1.0  0.0  0.0  0.0  0.0  ...   \\n2023-03-02   2.0  0.0  2460005.5  0.0  0.0  1.0  0.0  0.0  0.0  0.0  ...   \\n...          ...  ...        ...  ...  ...  ...  ...  ...  ...  ...  ...   \\n2023-06-01   1.0  0.0  2460096.5  0.0  0.0  0.0  0.0  0.0  1.0  0.0  ...   \\n2023-06-02   2.0  0.0  2460097.5  0.0  0.0  0.0  0.0  0.0  1.0  0.0  ...   \\n2023-06-03   3.0  1.0  2460098.5  0.0  0.0  0.0  0.0  0.0  1.0  0.0  ...   \\n2023-06-04   4.0  1.0  2460099.5  0.0  0.0  0.0  0.0  0.0  1.0  0.0  ...   \\n2023-06-05   5.0  0.0  2460100.5  0.0  0.0  0.0  0.0  0.0  1.0  0.0  ...   \\n\\n            dp265  dp266  dp267  dp268  dp269  dp270  dp271  dp272  dp273  \\\\\\ndate                                                                        \\n2023-02-26    0.0    0.0    0.0    0.0    0.0    0.0    0.0    0.0    0.0   \\n2023-02-27    0.0    0.0    0.0    0.0    0.0    0.0    0.0    0.0    0.0   \\n2023-02-28    0.0    0.0    0.0    0.0    0.0    0.0    0.0    0.0    0.0   \\n2023-03-01    0.0    0.0    0.0    0.0    0.0    0.0    0.0    0.0    0.0   \\n2023-03-02    1.0    0.0    0.0    0.0    0.0    0.0    0.0    0.0    0.0   \\n...           ...    ...    ...    ...    ...    ...    ...    ...    ...   \\n2023-06-01    1.0    0.0    0.0    0.0    0.0    0.0    0.0    0.0    0.0   \\n2023-06-02    0.0    0.0    0.0    0.0    1.0    0.0    0.0    0.0    0.0   \\n2023-06-03    0.0    0.0    0.0    0.0    0.0    0.0    0.0    1.0    0.0   \\n2023-06-04    0.0    0.0    0.0    0.0    0.0    0.0    0.0    0.0    0.0   \\n2023-06-05    0.0    0.0    0.0    0.0    0.0    0.0    0.0    0.0    0.0   \\n\\n            dp274  \\ndate               \\n2023-02-26    1.0  \\n2023-02-27    0.0  \\n2023-02-28    0.0  \\n2023-03-01    0.0  \\n2023-03-02    0.0  \\n...           ...  \\n2023-06-01    0.0  \\n2023-06-02    0.0  \\n2023-06-03    0.0  \\n2023-06-04    1.0  \\n2023-06-05    0.0  \\n\\n[100 rows x 275 columns] and predict              dp0  dp1        dp2  dp3  dp4  dp5  dp6  dp7  dp8  dp9  ...  \\\\\\n2023-06-06   6.0  0.0  2460101.5  0.0  0.0  0.0  0.0  0.0  1.0  0.0  ...   \\n2023-06-07   7.0  0.0  2460102.5  0.0  0.0  0.0  0.0  0.0  1.0  0.0  ...   \\n2023-06-08   8.0  0.0  2460103.5  0.0  0.0  0.0  0.0  0.0  1.0  0.0  ...   \\n2023-06-09   9.0  0.0  2460104.5  0.0  0.0  0.0  0.0  0.0  1.0  0.0  ...   \\n2023-06-10  10.0  1.0  2460105.5  0.0  0.0  0.0  0.0  0.0  1.0  0.0  ...   \\n...          ...  ...        ...  ...  ...  ...  ...  ...  ...  ...  ...   \\n2023-08-18  18.0  0.0  2460174.5  0.0  0.0  0.0  0.0  0.0  0.0  0.0  ...   \\n2023-08-19  19.0  1.0  2460175.5  0.0  0.0  0.0  0.0  0.0  0.0  0.0  ...   \\n2023-08-20  20.0  1.0  2460176.5  0.0  0.0  0.0  0.0  0.0  0.0  0.0  ...   \\n2023-08-21  21.0  0.0  2460177.5  0.0  0.0  0.0  0.0  0.0  0.0  0.0  ...   \\n2023-08-22  22.0  0.0  2460178.5  0.0  0.0  0.0  0.0  0.0  0.0  0.0  ...   \\n\\n            dp265  dp266  dp267  dp268  dp269  dp270  dp271  dp272  dp273  \\\\\\n2023-06-06    0.0    0.0    0.0    0.0    0.0    0.0    0.0    0.0    0.0   \\n2023-06-07    0.0    0.0    0.0    0.0    0.0    0.0    0.0    0.0    0.0   \\n2023-06-08    1.0    0.0    0.0    0.0    0.0    0.0    0.0    0.0    0.0   \\n2023-06-09    0.0    0.0    0.0    0.0    1.0    0.0    0.0    0.0    0.0   \\n2023-06-10    0.0    0.0    0.0    0.0    0.0    0.0    0.0    1.0    0.0   \\n...           ...    ...    ...    ...    ...    ...    ...    ...    ...   \\n2023-08-18    0.0    0.0    0.0    0.0    1.0    0.0    0.0    0.0    0.0   \\n2023-08-19    0.0    0.0    0.0    0.0    0.0    0.0    0.0    1.0    0.0   \\n2023-08-20    0.0    0.0    0.0    0.0    0.0    0.0    0.0    0.0    0.0   \\n2023-08-21    0.0    0.0    0.0    0.0    0.0    0.0    0.0    0.0    0.0   \\n2023-08-22    0.0    0.0    0.0    0.0    0.0    0.0    0.0    0.0    0.0   \\n\\n            dp274  \\n2023-06-06    0.0  \\n2023-06-07    0.0  \\n2023-06-08    0.0  \\n2023-06-09    0.0  \\n2023-06-10    0.0  \\n...           ...  \\n2023-08-18    0.0  \\n2023-08-19    0.0  \\n2023-08-20    1.0  \\n2023-08-21    0.0  \\n2023-08-22    0.0  \\n\\n[78 rows x 275 columns]\") in model 708 in generation 6: ARDL\n",
      "Model Number: 709 with model ConstantNaive in generation 6 of 10\n",
      "Model Number: 710 with model GLS in generation 6 of 10\n",
      "Model Number: 711 with model ARDL in generation 6 of 10\n",
      "Template Eval Error: ValueError(\"ARDL series dfc84fb2db544292a7083a9fdbb211a7eb4a0ab330436a31b9199bf3835d1278 failed with error ValueError('The number of regressors (554) including deterministics, lags of the endog, lags of the exogenous, and fixed regressors is larger than the sample available for estimation (42).') exog train              dp0  dp1        dp2  dp3  dp4  dp5  dp6  dp7  dp8  dp9  ...  \\\\\\ndate                                                                 ...   \\n2023-04-21  21.0  0.0  2460055.5  0.0  0.0  0.0  1.0  0.0  0.0  0.0  ...   \\n2023-04-22  22.0  1.0  2460056.5  0.0  0.0  0.0  1.0  0.0  0.0  0.0  ...   \\n2023-04-23  23.0  1.0  2460057.5  0.0  0.0  0.0  1.0  0.0  0.0  0.0  ...   \\n2023-04-24  24.0  0.0  2460058.5  0.0  0.0  0.0  1.0  0.0  0.0  0.0  ...   \\n2023-04-25  25.0  0.0  2460059.5  0.0  0.0  0.0  1.0  0.0  0.0  0.0  ...   \\n2023-04-26  26.0  0.0  2460060.5  0.0  0.0  0.0  1.0  0.0  0.0  0.0  ...   \\n2023-04-27  27.0  0.0  2460061.5  0.0  0.0  0.0  1.0  0.0  0.0  0.0  ...   \\n2023-04-28  28.0  0.0  2460062.5  0.0  0.0  0.0  1.0  0.0  0.0  0.0  ...   \\n2023-04-29  29.0  1.0  2460063.5  0.0  0.0  0.0  1.0  0.0  0.0  0.0  ...   \\n2023-04-30  30.0  1.0  2460064.5  0.0  0.0  0.0  1.0  0.0  0.0  0.0  ...   \\n2023-05-01   1.0  0.0  2460065.5  0.0  0.0  0.0  0.0  1.0  0.0  0.0  ...   \\n2023-05-02   2.0  0.0  2460066.5  0.0  0.0  0.0  0.0  1.0  0.0  0.0  ...   \\n2023-05-03   3.0  0.0  2460067.5  0.0  0.0  0.0  0.0  1.0  0.0  0.0  ...   \\n2023-05-04   4.0  0.0  2460068.5  0.0  0.0  0.0  0.0  1.0  0.0  0.0  ...   \\n2023-05-05   5.0  0.0  2460069.5  0.0  0.0  0.0  0.0  1.0  0.0  0.0  ...   \\n2023-05-06   6.0  1.0  2460070.5  0.0  0.0  0.0  0.0  1.0  0.0  0.0  ...   \\n2023-05-07   7.0  1.0  2460071.5  0.0  0.0  0.0  0.0  1.0  0.0  0.0  ...   \\n2023-05-08   8.0  0.0  2460072.5  0.0  0.0  0.0  0.0  1.0  0.0  0.0  ...   \\n2023-05-09   9.0  0.0  2460073.5  0.0  0.0  0.0  0.0  1.0  0.0  0.0  ...   \\n2023-05-10  10.0  0.0  2460074.5  0.0  0.0  0.0  0.0  1.0  0.0  0.0  ...   \\n2023-05-11  11.0  0.0  2460075.5  0.0  0.0  0.0  0.0  1.0  0.0  0.0  ...   \\n2023-05-12  12.0  0.0  2460076.5  0.0  0.0  0.0  0.0  1.0  0.0  0.0  ...   \\n2023-05-13  13.0  1.0  2460077.5  0.0  0.0  0.0  0.0  1.0  0.0  0.0  ...   \\n2023-05-14  14.0  1.0  2460078.5  0.0  0.0  0.0  0.0  1.0  0.0  0.0  ...   \\n2023-05-15  15.0  0.0  2460079.5  0.0  0.0  0.0  0.0  1.0  0.0  0.0  ...   \\n2023-05-16  16.0  0.0  2460080.5  0.0  0.0  0.0  0.0  1.0  0.0  0.0  ...   \\n2023-05-17  17.0  0.0  2460081.5  0.0  0.0  0.0  0.0  1.0  0.0  0.0  ...   \\n2023-05-18  18.0  0.0  2460082.5  0.0  0.0  0.0  0.0  1.0  0.0  0.0  ...   \\n2023-05-19  19.0  0.0  2460083.5  0.0  0.0  0.0  0.0  1.0  0.0  0.0  ...   \\n2023-05-20  20.0  1.0  2460084.5  0.0  0.0  0.0  0.0  1.0  0.0  0.0  ...   \\n2023-05-21  21.0  1.0  2460085.5  0.0  0.0  0.0  0.0  1.0  0.0  0.0  ...   \\n2023-05-22  22.0  0.0  2460086.5  0.0  0.0  0.0  0.0  1.0  0.0  0.0  ...   \\n2023-05-23  23.0  0.0  2460087.5  0.0  0.0  0.0  0.0  1.0  0.0  0.0  ...   \\n2023-05-24  24.0  0.0  2460088.5  0.0  0.0  0.0  0.0  1.0  0.0  0.0  ...   \\n2023-05-25  25.0  0.0  2460089.5  0.0  0.0  0.0  0.0  1.0  0.0  0.0  ...   \\n2023-05-26  26.0  0.0  2460090.5  0.0  0.0  0.0  0.0  1.0  0.0  0.0  ...   \\n2023-05-27  27.0  1.0  2460091.5  0.0  0.0  0.0  0.0  1.0  0.0  0.0  ...   \\n2023-05-28  28.0  1.0  2460092.5  0.0  0.0  0.0  0.0  1.0  0.0  0.0  ...   \\n2023-05-29  29.0  0.0  2460093.5  0.0  0.0  0.0  0.0  1.0  0.0  0.0  ...   \\n2023-05-30  30.0  0.0  2460094.5  0.0  0.0  0.0  0.0  1.0  0.0  0.0  ...   \\n2023-05-31  31.0  0.0  2460095.5  0.0  0.0  0.0  0.0  1.0  0.0  0.0  ...   \\n2023-06-01   1.0  0.0  2460096.5  0.0  0.0  0.0  0.0  0.0  1.0  0.0  ...   \\n2023-06-02   2.0  0.0  2460097.5  0.0  0.0  0.0  0.0  0.0  1.0  0.0  ...   \\n2023-06-03   3.0  1.0  2460098.5  0.0  0.0  0.0  0.0  0.0  1.0  0.0  ...   \\n2023-06-04   4.0  1.0  2460099.5  0.0  0.0  0.0  0.0  0.0  1.0  0.0  ...   \\n2023-06-05   5.0  0.0  2460100.5  0.0  0.0  0.0  0.0  0.0  1.0  0.0  ...   \\n\\n            dp265  dp266  dp267  dp268  dp269  dp270  dp271  dp272  dp273  \\\\\\ndate                                                                        \\n2023-04-21    0.0    0.0    0.0    0.0    1.0    0.0    0.0    0.0    0.0   \\n2023-04-22    0.0    0.0    0.0    0.0    0.0    0.0    0.0    1.0    0.0   \\n2023-04-23    0.0    0.0    0.0    0.0    0.0    0.0    0.0    0.0    0.0   \\n2023-04-24    0.0    0.0    0.0    0.0    0.0    0.0    0.0    0.0    0.0   \\n2023-04-25    0.0    0.0    0.0    0.0    0.0    0.0    0.0    0.0    0.0   \\n2023-04-26    0.0    0.0    0.0    0.0    0.0    0.0    0.0    0.0    0.0   \\n2023-04-27    1.0    0.0    0.0    0.0    0.0    0.0    0.0    0.0    0.0   \\n2023-04-28    0.0    0.0    0.0    0.0    1.0    0.0    0.0    0.0    0.0   \\n2023-04-29    0.0    0.0    0.0    0.0    0.0    0.0    0.0    1.0    0.0   \\n2023-04-30    0.0    0.0    0.0    0.0    0.0    0.0    0.0    0.0    0.0   \\n2023-05-01    0.0    0.0    0.0    0.0    0.0    0.0    0.0    0.0    0.0   \\n2023-05-02    0.0    0.0    0.0    0.0    0.0    0.0    0.0    0.0    0.0   \\n2023-05-03    0.0    0.0    0.0    0.0    0.0    0.0    0.0    0.0    0.0   \\n2023-05-04    1.0    0.0    0.0    0.0    0.0    0.0    0.0    0.0    0.0   \\n2023-05-05    0.0    0.0    0.0    0.0    1.0    0.0    0.0    0.0    0.0   \\n2023-05-06    0.0    0.0    0.0    0.0    0.0    0.0    0.0    1.0    0.0   \\n2023-05-07    0.0    0.0    0.0    0.0    0.0    0.0    0.0    0.0    0.0   \\n2023-05-08    0.0    0.0    0.0    0.0    0.0    0.0    0.0    0.0    0.0   \\n2023-05-09    0.0    0.0    0.0    0.0    0.0    0.0    0.0    0.0    0.0   \\n2023-05-10    0.0    0.0    0.0    0.0    0.0    0.0    0.0    0.0    0.0   \\n2023-05-11    1.0    0.0    0.0    0.0    0.0    0.0    0.0    0.0    0.0   \\n2023-05-12    0.0    0.0    0.0    0.0    1.0    0.0    0.0    0.0    0.0   \\n2023-05-13    0.0    0.0    0.0    0.0    0.0    0.0    0.0    1.0    0.0   \\n2023-05-14    0.0    0.0    0.0    0.0    0.0    0.0    0.0    0.0    0.0   \\n2023-05-15    0.0    0.0    0.0    0.0    0.0    0.0    0.0    0.0    0.0   \\n2023-05-16    0.0    0.0    0.0    0.0    0.0    0.0    0.0    0.0    0.0   \\n2023-05-17    0.0    0.0    0.0    0.0    0.0    0.0    0.0    0.0    0.0   \\n2023-05-18    1.0    0.0    0.0    0.0    0.0    0.0    0.0    0.0    0.0   \\n2023-05-19    0.0    0.0    0.0    0.0    1.0    0.0    0.0    0.0    0.0   \\n2023-05-20    0.0    0.0    0.0    0.0    0.0    0.0    0.0    1.0    0.0   \\n2023-05-21    0.0    0.0    0.0    0.0    0.0    0.0    0.0    0.0    0.0   \\n2023-05-22    0.0    0.0    0.0    0.0    0.0    0.0    0.0    0.0    0.0   \\n2023-05-23    0.0    0.0    0.0    0.0    0.0    0.0    0.0    0.0    0.0   \\n2023-05-24    0.0    0.0    0.0    0.0    0.0    0.0    0.0    0.0    0.0   \\n2023-05-25    1.0    0.0    0.0    0.0    0.0    0.0    0.0    0.0    0.0   \\n2023-05-26    0.0    0.0    0.0    0.0    1.0    0.0    0.0    0.0    0.0   \\n2023-05-27    0.0    0.0    0.0    0.0    0.0    0.0    0.0    1.0    0.0   \\n2023-05-28    0.0    0.0    0.0    0.0    0.0    0.0    0.0    0.0    0.0   \\n2023-05-29    0.0    0.0    0.0    0.0    0.0    0.0    0.0    0.0    0.0   \\n2023-05-30    0.0    0.0    0.0    0.0    0.0    0.0    0.0    0.0    0.0   \\n2023-05-31    0.0    0.0    0.0    0.0    0.0    0.0    0.0    0.0    0.0   \\n2023-06-01    1.0    0.0    0.0    0.0    0.0    0.0    0.0    0.0    0.0   \\n2023-06-02    0.0    0.0    0.0    0.0    1.0    0.0    0.0    0.0    0.0   \\n2023-06-03    0.0    0.0    0.0    0.0    0.0    0.0    0.0    1.0    0.0   \\n2023-06-04    0.0    0.0    0.0    0.0    0.0    0.0    0.0    0.0    0.0   \\n2023-06-05    0.0    0.0    0.0    0.0    0.0    0.0    0.0    0.0    0.0   \\n\\n            dp274  \\ndate               \\n2023-04-21    0.0  \\n2023-04-22    0.0  \\n2023-04-23    1.0  \\n2023-04-24    0.0  \\n2023-04-25    0.0  \\n2023-04-26    0.0  \\n2023-04-27    0.0  \\n2023-04-28    0.0  \\n2023-04-29    0.0  \\n2023-04-30    1.0  \\n2023-05-01    0.0  \\n2023-05-02    0.0  \\n2023-05-03    0.0  \\n2023-05-04    0.0  \\n2023-05-05    0.0  \\n2023-05-06    0.0  \\n2023-05-07    1.0  \\n2023-05-08    0.0  \\n2023-05-09    0.0  \\n2023-05-10    0.0  \\n2023-05-11    0.0  \\n2023-05-12    0.0  \\n2023-05-13    0.0  \\n2023-05-14    1.0  \\n2023-05-15    0.0  \\n2023-05-16    0.0  \\n2023-05-17    0.0  \\n2023-05-18    0.0  \\n2023-05-19    0.0  \\n2023-05-20    0.0  \\n2023-05-21    1.0  \\n2023-05-22    0.0  \\n2023-05-23    0.0  \\n2023-05-24    0.0  \\n2023-05-25    0.0  \\n2023-05-26    0.0  \\n2023-05-27    0.0  \\n2023-05-28    1.0  \\n2023-05-29    0.0  \\n2023-05-30    0.0  \\n2023-05-31    0.0  \\n2023-06-01    0.0  \\n2023-06-02    0.0  \\n2023-06-03    0.0  \\n2023-06-04    1.0  \\n2023-06-05    0.0  \\n\\n[46 rows x 275 columns] and predict              dp0  dp1        dp2  dp3  dp4  dp5  dp6  dp7  dp8  dp9  ...  \\\\\\n2023-06-06   6.0  0.0  2460101.5  0.0  0.0  0.0  0.0  0.0  1.0  0.0  ...   \\n2023-06-07   7.0  0.0  2460102.5  0.0  0.0  0.0  0.0  0.0  1.0  0.0  ...   \\n2023-06-08   8.0  0.0  2460103.5  0.0  0.0  0.0  0.0  0.0  1.0  0.0  ...   \\n2023-06-09   9.0  0.0  2460104.5  0.0  0.0  0.0  0.0  0.0  1.0  0.0  ...   \\n2023-06-10  10.0  1.0  2460105.5  0.0  0.0  0.0  0.0  0.0  1.0  0.0  ...   \\n...          ...  ...        ...  ...  ...  ...  ...  ...  ...  ...  ...   \\n2023-08-18  18.0  0.0  2460174.5  0.0  0.0  0.0  0.0  0.0  0.0  0.0  ...   \\n2023-08-19  19.0  1.0  2460175.5  0.0  0.0  0.0  0.0  0.0  0.0  0.0  ...   \\n2023-08-20  20.0  1.0  2460176.5  0.0  0.0  0.0  0.0  0.0  0.0  0.0  ...   \\n2023-08-21  21.0  0.0  2460177.5  0.0  0.0  0.0  0.0  0.0  0.0  0.0  ...   \\n2023-08-22  22.0  0.0  2460178.5  0.0  0.0  0.0  0.0  0.0  0.0  0.0  ...   \\n\\n            dp265  dp266  dp267  dp268  dp269  dp270  dp271  dp272  dp273  \\\\\\n2023-06-06    0.0    0.0    0.0    0.0    0.0    0.0    0.0    0.0    0.0   \\n2023-06-07    0.0    0.0    0.0    0.0    0.0    0.0    0.0    0.0    0.0   \\n2023-06-08    1.0    0.0    0.0    0.0    0.0    0.0    0.0    0.0    0.0   \\n2023-06-09    0.0    0.0    0.0    0.0    1.0    0.0    0.0    0.0    0.0   \\n2023-06-10    0.0    0.0    0.0    0.0    0.0    0.0    0.0    1.0    0.0   \\n...           ...    ...    ...    ...    ...    ...    ...    ...    ...   \\n2023-08-18    0.0    0.0    0.0    0.0    1.0    0.0    0.0    0.0    0.0   \\n2023-08-19    0.0    0.0    0.0    0.0    0.0    0.0    0.0    1.0    0.0   \\n2023-08-20    0.0    0.0    0.0    0.0    0.0    0.0    0.0    0.0    0.0   \\n2023-08-21    0.0    0.0    0.0    0.0    0.0    0.0    0.0    0.0    0.0   \\n2023-08-22    0.0    0.0    0.0    0.0    0.0    0.0    0.0    0.0    0.0   \\n\\n            dp274  \\n2023-06-06    0.0  \\n2023-06-07    0.0  \\n2023-06-08    0.0  \\n2023-06-09    0.0  \\n2023-06-10    0.0  \\n...           ...  \\n2023-08-18    0.0  \\n2023-08-19    0.0  \\n2023-08-20    1.0  \\n2023-08-21    0.0  \\n2023-08-22    0.0  \\n\\n[78 rows x 275 columns]\") in model 711 in generation 6: ARDL\n",
      "Model Number: 712 with model ETS in generation 6 of 10\n",
      "Model Number: 713 with model SeasonalityMotif in generation 6 of 10\n",
      "Model Number: 714 with model AverageValueNaive in generation 6 of 10\n",
      "Model Number: 715 with model BasicLinearModel in generation 6 of 10\n",
      "Model Number: 716 with model SeasonalityMotif in generation 6 of 10\n",
      "Model Number: 717 with model DatepartRegression in generation 6 of 10\n",
      "Model Number: 718 with model ETS in generation 6 of 10\n",
      "Model Number: 719 with model ARDL in generation 6 of 10\n",
      "Model Number: 720 with model BasicLinearModel in generation 6 of 10\n",
      "Model Number: 721 with model SeasonalityMotif in generation 6 of 10\n",
      "Model Number: 722 with model AverageValueNaive in generation 6 of 10\n",
      "Model Number: 723 with model SectionalMotif in generation 6 of 10\n",
      "Model Number: 724 with model FFT in generation 6 of 10\n",
      "Model Number: 725 with model SectionalMotif in generation 6 of 10\n",
      "Model Number: 726 with model MetricMotif in generation 6 of 10\n",
      "Model Number: 727 with model MetricMotif in generation 6 of 10\n",
      "Template Eval Error: Exception(\"Transformer HolidayTransformer failed on fit from params ffill {'0': {'method': 'butter', 'method_args': {'N': 2, 'btype': 'lowpass', 'analog': False, 'output': 'sos', 'Wn': 0.08333333333333333}}, '1': {'threshold': 0.9, 'splash_threshold': None, 'use_dayofmonth_holidays': True, 'use_wkdom_holidays': True, 'use_wkdeom_holidays': False, 'use_lunar_holidays': False, 'use_lunar_weekday': False, 'use_islamic_holidays': True, 'use_hebrew_holidays': False, 'use_hindu_holidays': False, 'anomaly_detector_params': {'method': 'zscore', 'method_params': {'distribution': 'chi2', 'alpha': 0.05}, 'fillna': 'rolling_mean_24', 'transform_dict': {'transformations': {'0': 'DatepartRegression'}, 'transformation_params': {'0': {'datepart_method': 'simple_3', 'regression_model': {'model': 'ElasticNet', 'model_params': {}}}}}, 'isolated_only': False, 'on_inverse': False}, 'remove_excess_anomalies': True, 'impact': 'median_value', 'regression_params': {}}, '2': {'method': 'zscore', 'method_params': {'distribution': 'uniform', 'alpha': 0.1}, 'fillna': 'ffill', 'transform_dict': {'fillna': 'zero', 'transformations': {'0': 'PositiveShift', '1': 'CenterLastValue'}, 'transformation_params': {'0': {}, '1': {'rows': 6}}}, 'isolated_only': True, 'on_inverse': False}} with error ValueError('more than 1 year of data is required for holiday detection.')\") in model 727 in generation 6: MetricMotif\n",
      "Model Number: 728 with model LastValueNaive in generation 6 of 10\n",
      "Model Number: 729 with model SeasonalNaive in generation 6 of 10\n",
      "Model Number: 730 with model BasicLinearModel in generation 6 of 10\n",
      "Model Number: 731 with model Cassandra in generation 6 of 10\n"
     ]
    },
    {
     "name": "stderr",
     "output_type": "stream",
     "text": [
      "/home/zeus/miniconda3/envs/cloudspace/lib/python3.10/site-packages/numpy/lib/function_base.py:2897: RuntimeWarning: invalid value encountered in divide\n",
      "  c /= stddev[:, None]\n",
      "/home/zeus/miniconda3/envs/cloudspace/lib/python3.10/site-packages/numpy/lib/function_base.py:2898: RuntimeWarning: invalid value encountered in divide\n",
      "  c /= stddev[None, :]\n"
     ]
    },
    {
     "name": "stdout",
     "output_type": "stream",
     "text": [
      "Model Number: 732 with model ETS in generation 6 of 10\n",
      "Model Number: 733 with model SeasonalityMotif in generation 6 of 10\n",
      "Model Number: 734 with model SectionalMotif in generation 6 of 10\n",
      "Model Number: 735 with model SeasonalNaive in generation 6 of 10\n",
      "Model Number: 736 with model ARDL in generation 6 of 10\n",
      "Template Eval Error: ValueError(\"regression_type='User' but future_regressor not supplied\") in model 736 in generation 6: ARDL\n",
      "Model Number: 737 with model UnivariateMotif in generation 6 of 10\n",
      "Model Number: 738 with model ConstantNaive in generation 6 of 10\n",
      "Model Number: 739 with model MetricMotif in generation 6 of 10\n",
      "Model Number: 740 with model SeasonalityMotif in generation 6 of 10\n",
      "Template Eval Error: Exception(\"Transformer HolidayTransformer failed on fit from params ffill_mean_biased {'0': {'threshold': 0.8, 'splash_threshold': None, 'use_dayofmonth_holidays': True, 'use_wkdom_holidays': True, 'use_wkdeom_holidays': False, 'use_lunar_holidays': False, 'use_lunar_weekday': False, 'use_islamic_holidays': False, 'use_hebrew_holidays': False, 'use_hindu_holidays': False, 'anomaly_detector_params': {'method': 'zscore', 'method_params': {'distribution': 'chi2', 'alpha': 0.02}, 'fillna': 'ffill', 'transform_dict': {'transformations': {'0': 'DatepartRegression'}, 'transformation_params': {'0': {'datepart_method': 'simple_3', 'regression_model': {'model': 'DecisionTree', 'model_params': {'max_depth': None, 'min_samples_split': 0.1}}}}}, 'isolated_only': False, 'on_inverse': False}, 'remove_excess_anomalies': True, 'impact': 'datepart_regression', 'regression_params': {'regression_model': {'model': 'ElasticNet', 'model_params': {'l1_ratio': 0.1, 'fit_intercept': False, 'selection': 'cyclic', 'max_iter': 1000}}, 'datepart_method': 'expanded_binarized', 'polynomial_degree': None, 'transform_dict': None, 'holiday_countries_used': False, 'lags': None, 'forward_lags': None}}, '1': {'method': 'zscore', 'method_params': {'distribution': 'uniform', 'alpha': 0.1}, 'fillna': 'ffill', 'transform_dict': {'fillna': 'zero', 'transformations': {'0': 'PositiveShift', '1': 'CenterLastValue'}, 'transformation_params': {'0': {}, '1': {'rows': 6}}}, 'isolated_only': True, 'on_inverse': False}} with error ValueError('more than 1 year of data is required for holiday detection.')\") in model 740 in generation 6: SeasonalityMotif\n",
      "Model Number: 741 with model BasicLinearModel in generation 6 of 10\n",
      "Model Number: 742 with model BasicLinearModel in generation 6 of 10\n"
     ]
    },
    {
     "name": "stderr",
     "output_type": "stream",
     "text": [
      "/home/zeus/miniconda3/envs/cloudspace/lib/python3.10/site-packages/sklearn/linear_model/_linear_loss.py:290: RuntimeWarning: invalid value encountered in matmul\n",
      "  grad[:n_features] = X.T @ grad_pointwise + l2_reg_strength * weights\n"
     ]
    },
    {
     "name": "stdout",
     "output_type": "stream",
     "text": [
      "Model Number: 743 with model ETS in generation 6 of 10\n",
      "New Generation: 7 of 10\n",
      "Model Number: 744 with model SeasonalNaive in generation 7 of 10\n",
      "Model Number: 745 with model ConstantNaive in generation 7 of 10\n",
      "Model Number: 746 with model SectionalMotif in generation 7 of 10\n",
      "Model Number: 747 with model FFT in generation 7 of 10\n",
      "Model Number: 748 with model LastValueNaive in generation 7 of 10\n",
      "Template Eval Error: Exception(\"Transformer ReplaceConstant failed on fit from params ffill_mean_biased {'0': {'decimals': -1, 'on_transform': False, 'on_inverse': True}, '1': {'n_harmonics': 10, 'detrend': 'linear'}, '2': {'method': 'clip', 'std_threshold': 3.5, 'fillna': None}, '3': {'rows': 7}, '4': {'constant': 0, 'reintroduction_model': {'model': 'xgboost', 'model_params': {'booster': 'gbtree', 'max_depth': 6, 'eta': 0.03, 'min_child_weight': 2, 'subsample': 0.9, 'colsample_bylevel': 1, 'reg_alpha': 0, 'reg_lambda': 1}, 'datepart_method': 'common_fourier'}, 'fillna': None}, '5': {'rolling_window': 0.1, 'n_tails': 0.1, 'n_future': 0.05, 'method': 'median', 'macro_micro': True}} with error ValueError('Invalid classes inferred from unique values of `y`.  Expected: [0], got [1]')\") in model 748 in generation 7: LastValueNaive\n",
      "Model Number: 749 with model UnivariateMotif in generation 7 of 10\n",
      "Model Number: 750 with model SeasonalityMotif in generation 7 of 10\n",
      "Model Number: 751 with model SectionalMotif in generation 7 of 10\n",
      "Model Number: 752 with model ARDL in generation 7 of 10\n",
      "Template Eval Error: ValueError(\"regression_type='User' but future_regressor not supplied\") in model 752 in generation 7: ARDL\n",
      "Model Number: 753 with model ETS in generation 7 of 10\n",
      "Model Number: 754 with model BasicLinearModel in generation 7 of 10\n"
     ]
    },
    {
     "name": "stderr",
     "output_type": "stream",
     "text": [
      "/home/zeus/miniconda3/envs/cloudspace/lib/python3.10/site-packages/sklearn/neighbors/_regression.py:500: UserWarning: One or more samples have no neighbors within specified radius; predicting NaN.\n",
      "  warnings.warn(empty_warning_msg)\n",
      "/home/zeus/miniconda3/envs/cloudspace/lib/python3.10/site-packages/sklearn/neighbors/_regression.py:500: UserWarning: One or more samples have no neighbors within specified radius; predicting NaN.\n",
      "  warnings.warn(empty_warning_msg)\n",
      "/home/zeus/miniconda3/envs/cloudspace/lib/python3.10/site-packages/sklearn/neighbors/_regression.py:500: UserWarning: One or more samples have no neighbors within specified radius; predicting NaN.\n",
      "  warnings.warn(empty_warning_msg)\n"
     ]
    },
    {
     "name": "stdout",
     "output_type": "stream",
     "text": [
      "Model Number: 755 with model GLS in generation 7 of 10\n",
      "Model Number: 756 with model UnivariateMotif in generation 7 of 10\n",
      "Model Number: 757 with model SectionalMotif in generation 7 of 10\n",
      "Template Eval Error: ValueError(\"regression_type=='User' but no future_regressor supplied\") in model 757 in generation 7: SectionalMotif\n",
      "Model Number: 758 with model RRVAR in generation 7 of 10\n",
      "Model Number: 759 with model AverageValueNaive in generation 7 of 10\n",
      "Model Number: 760 with model SeasonalityMotif in generation 7 of 10\n",
      "Model Number: 761 with model BasicLinearModel in generation 7 of 10\n"
     ]
    },
    {
     "name": "stderr",
     "output_type": "stream",
     "text": [
      "/home/zeus/miniconda3/envs/cloudspace/lib/python3.10/site-packages/sklearn/linear_model/_ridge.py:200: LinAlgWarning: Ill-conditioned matrix (rcond=8.05924e-25): result may not be accurate.\n",
      "  return linalg.solve(A, Xy, assume_a=\"pos\", overwrite_a=True).T\n"
     ]
    },
    {
     "name": "stdout",
     "output_type": "stream",
     "text": [
      "Model Number: 762 with model GLS in generation 7 of 10\n",
      "Model Number: 763 with model BasicLinearModel in generation 7 of 10\n",
      "Model Number: 764 with model SeasonalNaive in generation 7 of 10\n",
      "Model Number: 765 with model ConstantNaive in generation 7 of 10\n",
      "Model Number: 766 with model ARDL in generation 7 of 10\n",
      "Model Number: 767 with model SeasonalityMotif in generation 7 of 10\n",
      "Model Number: 768 with model LastValueNaive in generation 7 of 10\n",
      "Model Number: 769 with model ETS in generation 7 of 10\n",
      "Model Number: 770 with model ETS in generation 7 of 10\n"
     ]
    },
    {
     "name": "stderr",
     "output_type": "stream",
     "text": [
      "/home/zeus/miniconda3/envs/cloudspace/lib/python3.10/site-packages/sklearn/neighbors/_classification.py:233: DataConversionWarning: A column-vector y was passed when a 1d array was expected. Please change the shape of y to (n_samples,), for example using ravel().\n",
      "  return self._fit(X, y)\n"
     ]
    },
    {
     "name": "stdout",
     "output_type": "stream",
     "text": [
      "Model Number: 771 with model MetricMotif in generation 7 of 10\n",
      "Model Number: 772 with model SectionalMotif in generation 7 of 10\n",
      "Model Number: 773 with model SectionalMotif in generation 7 of 10\n",
      "Model Number: 774 with model AverageValueNaive in generation 7 of 10\n",
      "Model Number: 775 with model UnivariateMotif in generation 7 of 10\n",
      "Model Number: 776 with model MetricMotif in generation 7 of 10\n",
      "Model Number: 777 with model ARDL in generation 7 of 10\n",
      "Model Number: 778 with model ETS in generation 7 of 10\n",
      "Model Number: 779 with model SeasonalNaive in generation 7 of 10\n",
      "Model Number: 780 with model BasicLinearModel in generation 7 of 10\n",
      "Template Eval Error: ValueError(\"regression_type=='User' but no future_regressor supplied\") in model 780 in generation 7: BasicLinearModel\n",
      "Model Number: 781 with model RRVAR in generation 7 of 10\n",
      "Model Number: 782 with model AverageValueNaive in generation 7 of 10\n",
      "Model Number: 783 with model SeasonalityMotif in generation 7 of 10\n",
      "Model Number: 784 with model BasicLinearModel in generation 7 of 10\n",
      "Template Eval Error: ValueError(\"regression_type=='User' but no future_regressor supplied\") in model 784 in generation 7: BasicLinearModel\n",
      "Model Number: 785 with model AverageValueNaive in generation 7 of 10\n",
      "Model Number: 786 with model AverageValueNaive in generation 7 of 10\n",
      "Model Number: 787 with model SeasonalNaive in generation 7 of 10\n",
      "Model Number: 788 with model MetricMotif in generation 7 of 10\n",
      "Model Number: 789 with model UnivariateMotif in generation 7 of 10\n",
      "Model Number: 790 with model FFT in generation 7 of 10\n",
      "Model Number: 791 with model Cassandra in generation 7 of 10\n"
     ]
    },
    {
     "name": "stderr",
     "output_type": "stream",
     "text": [
      "/home/zeus/miniconda3/envs/cloudspace/lib/python3.10/site-packages/numpy/core/_methods.py:176: RuntimeWarning: overflow encountered in multiply\n",
      "  x = um.multiply(x, x, out=x)\n",
      "/home/zeus/miniconda3/envs/cloudspace/lib/python3.10/site-packages/numpy/core/_methods.py:187: RuntimeWarning: overflow encountered in reduce\n",
      "  ret = umr_sum(x, axis, dtype, out, keepdims=keepdims, where=where)\n",
      "/home/zeus/miniconda3/envs/cloudspace/lib/python3.10/site-packages/numpy/lib/function_base.py:2897: RuntimeWarning: invalid value encountered in divide\n",
      "  c /= stddev[:, None]\n",
      "/home/zeus/miniconda3/envs/cloudspace/lib/python3.10/site-packages/numpy/lib/function_base.py:2898: RuntimeWarning: invalid value encountered in divide\n",
      "  c /= stddev[None, :]\n"
     ]
    },
    {
     "name": "stdout",
     "output_type": "stream",
     "text": [
      "Model Number: 792 with model MetricMotif in generation 7 of 10\n",
      "Model Number: 793 with model UnivariateMotif in generation 7 of 10\n",
      "Model Number: 794 with model UnivariateMotif in generation 7 of 10\n",
      "Model Number: 795 with model SeasonalNaive in generation 7 of 10\n",
      "Model Number: 796 with model DatepartRegression in generation 7 of 10\n",
      "Model Number: 797 with model AverageValueNaive in generation 7 of 10\n",
      "Model Number: 798 with model SectionalMotif in generation 7 of 10\n",
      "Model Number: 799 with model SeasonalityMotif in generation 7 of 10\n"
     ]
    },
    {
     "name": "stderr",
     "output_type": "stream",
     "text": [
      "/home/zeus/miniconda3/envs/cloudspace/lib/python3.10/site-packages/sklearn/svm/_classes.py:32: FutureWarning: The default value of `dual` will change from `True` to `'auto'` in 1.5. Set the value of `dual` explicitly to suppress the warning.\n",
      "  warnings.warn(\n",
      "/home/zeus/miniconda3/envs/cloudspace/lib/python3.10/site-packages/sklearn/svm/_base.py:1250: ConvergenceWarning: Liblinear failed to converge, increase the number of iterations.\n",
      "  warnings.warn(\n"
     ]
    },
    {
     "name": "stdout",
     "output_type": "stream",
     "text": [
      "Model Number: 800 with model MetricMotif in generation 7 of 10\n",
      "Model Number: 801 with model LastValueNaive in generation 7 of 10\n",
      "Model Number: 802 with model MetricMotif in generation 7 of 10\n",
      "Template Eval Error: Exception(\"Transformer Cointegration failed on fit from params rolling_mean_24 {'0': {'det_order': 1, 'k_ar_diff': 0}, '1': {}} with error ValueError('Coint only works on multivarate series')\") in model 802 in generation 7: MetricMotif\n",
      "Model Number: 803 with model RRVAR in generation 7 of 10\n",
      "Model Number: 804 with model AverageValueNaive in generation 7 of 10\n",
      "Model Number: 805 with model ARDL in generation 7 of 10\n",
      "Template Eval Error: ValueError(\"ARDL series dfc84fb2db544292a7083a9fdbb211a7eb4a0ab330436a31b9199bf3835d1278 failed with error IndexError('tuple index out of range') exog train None and predict None\") in model 805 in generation 7: ARDL\n",
      "Model Number: 806 with model ARDL in generation 7 of 10\n",
      "Model Number: 807 with model SectionalMotif in generation 7 of 10\n",
      "Model Number: 808 with model ETS in generation 7 of 10\n",
      "Model Number: 809 with model LastValueNaive in generation 7 of 10\n",
      "Model Number: 810 with model SeasonalityMotif in generation 7 of 10\n",
      "Model Number: 811 with model SeasonalityMotif in generation 7 of 10\n",
      "Model Number: 812 with model UnivariateMotif in generation 7 of 10\n"
     ]
    },
    {
     "name": "stderr",
     "output_type": "stream",
     "text": [
      "/home/zeus/miniconda3/envs/cloudspace/lib/python3.10/site-packages/sklearn/neighbors/_classification.py:233: DataConversionWarning: A column-vector y was passed when a 1d array was expected. Please change the shape of y to (n_samples,), for example using ravel().\n",
      "  return self._fit(X, y)\n"
     ]
    },
    {
     "name": "stdout",
     "output_type": "stream",
     "text": [
      "Model Number: 813 with model MetricMotif in generation 7 of 10\n",
      "Model Number: 814 with model LastValueNaive in generation 7 of 10\n",
      "Model Number: 815 with model MetricMotif in generation 7 of 10\n",
      "Model Number: 816 with model LastValueNaive in generation 7 of 10\n",
      "Model Number: 817 with model Cassandra in generation 7 of 10\n"
     ]
    },
    {
     "name": "stderr",
     "output_type": "stream",
     "text": [
      "/home/zeus/miniconda3/envs/cloudspace/lib/python3.10/site-packages/autots/tools/percentile.py:47: RuntimeWarning: All-NaN slice encountered\n",
      "  max_val = np.nanmax(arr)\n",
      "/home/zeus/miniconda3/envs/cloudspace/lib/python3.10/site-packages/sklearn/linear_model/_ridge.py:200: LinAlgWarning: Ill-conditioned matrix (rcond=8.05924e-25): result may not be accurate.\n",
      "  return linalg.solve(A, Xy, assume_a=\"pos\", overwrite_a=True).T\n",
      "/home/zeus/miniconda3/envs/cloudspace/lib/python3.10/site-packages/sklearn/linear_model/_ridge.py:200: LinAlgWarning: Ill-conditioned matrix (rcond=8.05924e-25): result may not be accurate.\n",
      "  return linalg.solve(A, Xy, assume_a=\"pos\", overwrite_a=True).T\n"
     ]
    },
    {
     "name": "stdout",
     "output_type": "stream",
     "text": [
      "Model Number: 818 with model SectionalMotif in generation 7 of 10\n",
      "Model Number: 819 with model ETS in generation 7 of 10\n",
      "Model Number: 820 with model RRVAR in generation 7 of 10\n",
      "Model Number: 821 with model SectionalMotif in generation 7 of 10\n",
      "Template Eval Error: ValueError(\"regression_type=='User' but no future_regressor supplied\") in model 821 in generation 7: SectionalMotif\n",
      "Model Number: 822 with model ARDL in generation 7 of 10\n",
      "Model Number: 823 with model BasicLinearModel in generation 7 of 10\n",
      "Model Number: 824 with model ConstantNaive in generation 7 of 10\n",
      "Model Number: 825 with model SeasonalityMotif in generation 7 of 10\n",
      "Model Number: 826 with model SectionalMotif in generation 7 of 10\n",
      "Model Number: 827 with model ConstantNaive in generation 7 of 10\n",
      "New Generation: 8 of 10\n",
      "Model Number: 828 with model ConstantNaive in generation 8 of 10\n",
      "Model Number: 829 with model SectionalMotif in generation 8 of 10\n",
      "Model Number: 830 with model AverageValueNaive in generation 8 of 10\n",
      "Model Number: 831 with model SectionalMotif in generation 8 of 10\n",
      "Model Number: 832 with model BasicLinearModel in generation 8 of 10\n",
      "Template Eval Error: Exception(\"Transformer ReplaceConstant failed on fit from params nearest {'0': {'rows': 1, 'lag': 1, 'method': 'additive', 'strength': 0.5, 'first_value_only': False, 'threshold': 1, 'threshold_method': 'max'}, '1': {'constant': 0, 'reintroduction_model': {'model': 'xgboost', 'model_params': {'booster': 'gbtree', 'max_depth': 3, 'eta': 0.003, 'min_child_weight': 0.5, 'subsample': 1, 'colsample_bylevel': 0.7, 'reg_alpha': 0, 'reg_lambda': 1}, 'datepart_method': 'expanded_binarized'}, 'fillna': 'pchip'}, '2': {'rows': 1, 'lag': 1, 'method': 'additive', 'strength': 1.0, 'first_value_only': False, 'threshold': 10, 'threshold_method': 'max'}} with error ValueError('Invalid classes inferred from unique values of `y`.  Expected: [0], got [1]')\") in model 832 in generation 8: BasicLinearModel\n",
      "Model Number: 833 with model GLS in generation 8 of 10\n",
      "Model Number: 834 with model AverageValueNaive in generation 8 of 10\n",
      "Model Number: 835 with model LastValueNaive in generation 8 of 10\n",
      "Model Number: 836 with model FFT in generation 8 of 10\n",
      "Model Number: 837 with model SectionalMotif in generation 8 of 10\n",
      "Model Number: 838 with model ETS in generation 8 of 10\n",
      "Model Number: 839 with model AverageValueNaive in generation 8 of 10\n",
      "Model Number: 840 with model BasicLinearModel in generation 8 of 10\n",
      "Model Number: 841 with model AverageValueNaive in generation 8 of 10\n",
      "Model Number: 842 with model ETS in generation 8 of 10\n",
      "Model Number: 843 with model MetricMotif in generation 8 of 10\n",
      "Model Number: 844 with model SeasonalNaive in generation 8 of 10\n",
      "Model Number: 845 with model BasicLinearModel in generation 8 of 10\n",
      "Model Number: 846 with model DatepartRegression in generation 8 of 10\n",
      "Model Number: 847 with model LastValueNaive in generation 8 of 10\n",
      "Template Eval Error: Exception(\"Transformer BTCD failed on fit from params quadratic {'0': {'regression_model': {'model': 'FastRidge', 'model_params': {}}, 'max_lags': 2}, '1': {}} with error ValueError('BTCD only works on multivarate series')\") in model 847 in generation 8: LastValueNaive\n",
      "Model Number: 848 with model Cassandra in generation 8 of 10\n",
      "Template Eval Error: ValueError('more than 1 year of data is required for holiday detection.') in model 848 in generation 8: Cassandra\n",
      "Model Number: 849 with model UnivariateMotif in generation 8 of 10\n",
      "Model Number: 850 with model SeasonalityMotif in generation 8 of 10\n",
      "Model Number: 851 with model MetricMotif in generation 8 of 10\n",
      "Model Number: 852 with model SeasonalityMotif in generation 8 of 10\n",
      "Model Number: 853 with model SectionalMotif in generation 8 of 10\n",
      "Model Number: 854 with model BasicLinearModel in generation 8 of 10\n",
      "Model Number: 855 with model MetricMotif in generation 8 of 10\n",
      "Model Number: 856 with model SeasonalityMotif in generation 8 of 10\n",
      "Model Number: 857 with model UnivariateMotif in generation 8 of 10\n",
      "Model Number: 858 with model AverageValueNaive in generation 8 of 10\n",
      "Model Number: 859 with model LastValueNaive in generation 8 of 10\n",
      "Model Number: 860 with model MetricMotif in generation 8 of 10\n",
      "Model Number: 861 with model FFT in generation 8 of 10\n",
      "Model Number: 862 with model SeasonalNaive in generation 8 of 10\n",
      "Model Number: 863 with model SectionalMotif in generation 8 of 10\n",
      "Model Number: 864 with model GLS in generation 8 of 10\n",
      "Model Number: 865 with model GLM in generation 8 of 10\n",
      "Model Number: 866 with model ETS in generation 8 of 10\n"
     ]
    },
    {
     "name": "stderr",
     "output_type": "stream",
     "text": [
      "/home/zeus/miniconda3/envs/cloudspace/lib/python3.10/site-packages/numpy/core/_methods.py:176: RuntimeWarning: overflow encountered in multiply\n",
      "  x = um.multiply(x, x, out=x)\n",
      "/home/zeus/miniconda3/envs/cloudspace/lib/python3.10/site-packages/numpy/core/_methods.py:187: RuntimeWarning: overflow encountered in reduce\n",
      "  ret = umr_sum(x, axis, dtype, out, keepdims=keepdims, where=where)\n",
      "/home/zeus/miniconda3/envs/cloudspace/lib/python3.10/site-packages/statsmodels/genmod/families/links.py:198: RuntimeWarning: overflow encountered in exp\n",
      "  t = np.exp(-z)\n"
     ]
    },
    {
     "name": "stdout",
     "output_type": "stream",
     "text": [
      "Model Number: 867 with model AverageValueNaive in generation 8 of 10\n",
      "Model Number: 868 with model MetricMotif in generation 8 of 10\n",
      "Model Number: 869 with model SeasonalityMotif in generation 8 of 10\n",
      "Model Number: 870 with model LastValueNaive in generation 8 of 10\n",
      "Model Number: 871 with model BasicLinearModel in generation 8 of 10\n",
      "Model Number: 872 with model MetricMotif in generation 8 of 10\n",
      "Model Number: 873 with model SeasonalNaive in generation 8 of 10\n",
      "Model Number: 874 with model AverageValueNaive in generation 8 of 10\n",
      "Model Number: 875 with model BasicLinearModel in generation 8 of 10\n"
     ]
    },
    {
     "name": "stderr",
     "output_type": "stream",
     "text": [
      "/home/zeus/miniconda3/envs/cloudspace/lib/python3.10/site-packages/sklearn/neighbors/_classification.py:233: DataConversionWarning: A column-vector y was passed when a 1d array was expected. Please change the shape of y to (n_samples,), for example using ravel().\n",
      "  return self._fit(X, y)\n"
     ]
    },
    {
     "name": "stdout",
     "output_type": "stream",
     "text": [
      "Model Number: 876 with model ETS in generation 8 of 10\n",
      "Model Number: 877 with model BasicLinearModel in generation 8 of 10\n"
     ]
    },
    {
     "name": "stderr",
     "output_type": "stream",
     "text": [
      "/home/zeus/miniconda3/envs/cloudspace/lib/python3.10/site-packages/sklearn/neighbors/_classification.py:233: DataConversionWarning: A column-vector y was passed when a 1d array was expected. Please change the shape of y to (n_samples,), for example using ravel().\n",
      "  return self._fit(X, y)\n"
     ]
    },
    {
     "name": "stdout",
     "output_type": "stream",
     "text": [
      "Model Number: 878 with model BasicLinearModel in generation 8 of 10\n",
      "Model Number: 879 with model SeasonalityMotif in generation 8 of 10\n",
      "Model Number: 880 with model RRVAR in generation 8 of 10\n",
      "Model Number: 881 with model ARDL in generation 8 of 10\n",
      "Model Number: 882 with model SectionalMotif in generation 8 of 10\n",
      "Model Number: 883 with model SeasonalityMotif in generation 8 of 10\n",
      "Model Number: 884 with model RRVAR in generation 8 of 10\n",
      "Model Number: 885 with model SeasonalityMotif in generation 8 of 10\n",
      "Model Number: 886 with model MetricMotif in generation 8 of 10\n",
      "Model Number: 887 with model SeasonalityMotif in generation 8 of 10\n",
      "Template Eval Error: ValueError('Model SeasonalityMotif returned NaN for one or more series. fail_on_forecast_nan=True') in model 887 in generation 8: SeasonalityMotif\n",
      "Model Number: 888 with model ETS in generation 8 of 10\n",
      "Model Number: 889 with model UnivariateMotif in generation 8 of 10\n",
      "Model Number: 890 with model ETS in generation 8 of 10\n"
     ]
    },
    {
     "name": "stderr",
     "output_type": "stream",
     "text": [
      "/home/zeus/miniconda3/envs/cloudspace/lib/python3.10/site-packages/numpy/core/fromnumeric.py:3504: RuntimeWarning: Mean of empty slice.\n",
      "  return _methods._mean(a, axis=axis, dtype=dtype,\n",
      "/home/zeus/miniconda3/envs/cloudspace/lib/python3.10/site-packages/numpy/core/_methods.py:121: RuntimeWarning: invalid value encountered in divide\n",
      "  ret = um.true_divide(\n",
      "/home/zeus/miniconda3/envs/cloudspace/lib/python3.10/site-packages/sklearn/neighbors/_classification.py:233: DataConversionWarning: A column-vector y was passed when a 1d array was expected. Please change the shape of y to (n_samples,), for example using ravel().\n",
      "  return self._fit(X, y)\n"
     ]
    },
    {
     "name": "stdout",
     "output_type": "stream",
     "text": [
      "Model Number: 891 with model UnivariateMotif in generation 8 of 10\n",
      "Model Number: 892 with model GLS in generation 8 of 10\n",
      "Model Number: 893 with model SeasonalityMotif in generation 8 of 10\n",
      "Model Number: 894 with model ConstantNaive in generation 8 of 10\n",
      "Model Number: 895 with model GLS in generation 8 of 10\n",
      "Template Eval Error: Exception(\"Transformer Cointegration failed on fit from params cubic {'0': {'rows': 1, 'lag': 1, 'method': 'additive', 'strength': 1.0, 'first_value_only': False, 'threshold': None, 'threshold_method': 'max'}, '1': {}, '2': {'low': 6, 'high': 364, 'K': 25, 'lanczos_factor': False, 'return_diff': True, 'on_transform': True, 'on_inverse': False}, '3': {'det_order': 1, 'k_ar_diff': 2}} with error ValueError('Coint only works on multivarate series')\") in model 895 in generation 8: GLS\n",
      "Model Number: 896 with model AverageValueNaive in generation 8 of 10\n",
      "Model Number: 897 with model Cassandra in generation 8 of 10\n",
      "Template Eval Error: ValueError('more than 1 year of data is required for holiday detection.') in model 897 in generation 8: Cassandra\n",
      "Model Number: 898 with model MetricMotif in generation 8 of 10\n",
      "Model Number: 899 with model ConstantNaive in generation 8 of 10\n",
      "Model Number: 900 with model LastValueNaive in generation 8 of 10\n",
      "Model Number: 901 with model SeasonalityMotif in generation 8 of 10\n",
      "Model Number: 902 with model AverageValueNaive in generation 8 of 10\n",
      "Model Number: 903 with model MetricMotif in generation 8 of 10\n",
      "Model Number: 904 with model BasicLinearModel in generation 8 of 10\n",
      "Model Number: 905 with model ConstantNaive in generation 8 of 10\n",
      "Model Number: 906 with model SeasonalNaive in generation 8 of 10\n",
      "Model Number: 907 with model ARDL in generation 8 of 10\n",
      "Model Number: 908 with model ETS in generation 8 of 10\n",
      "Model Number: 909 with model SectionalMotif in generation 8 of 10\n",
      "Template Eval Error: ValueError(\"SectionalMotif with {'0': 'PositiveShift', '1': 'RollingMeanTransformer', '2': 'ClipOutliers', '3': 'AnomalyRemoval', '4': 'MaxAbsScaler', '5': 'AlignLastValue'} failed to return correct number of series. Returned 2 and requested: 1\") in model 909 in generation 8: SectionalMotif\n",
      "Model Number: 910 with model SeasonalNaive in generation 8 of 10\n",
      "Model Number: 911 with model MetricMotif in generation 8 of 10\n",
      "New Generation: 9 of 10\n",
      "Model Number: 912 with model MetricMotif in generation 9 of 10\n",
      "Model Number: 913 with model ARDL in generation 9 of 10\n",
      "Model Number: 914 with model BasicLinearModel in generation 9 of 10\n",
      "Model Number: 915 with model FFT in generation 9 of 10\n",
      "Model Number: 916 with model Cassandra in generation 9 of 10\n"
     ]
    },
    {
     "name": "stderr",
     "output_type": "stream",
     "text": [
      "/home/zeus/miniconda3/envs/cloudspace/lib/python3.10/site-packages/numpy/lib/function_base.py:2897: RuntimeWarning: invalid value encountered in divide\n",
      "  c /= stddev[:, None]\n",
      "/home/zeus/miniconda3/envs/cloudspace/lib/python3.10/site-packages/numpy/lib/function_base.py:2898: RuntimeWarning: invalid value encountered in divide\n",
      "  c /= stddev[None, :]\n"
     ]
    },
    {
     "name": "stdout",
     "output_type": "stream",
     "text": [
      "Model Number: 917 with model MetricMotif in generation 9 of 10\n",
      "Model Number: 918 with model GLS in generation 9 of 10\n",
      "Model Number: 919 with model SeasonalityMotif in generation 9 of 10\n",
      "Model Number: 920 with model ETS in generation 9 of 10\n",
      "Model Number: 921 with model ARDL in generation 9 of 10\n",
      "Model Number: 922 with model SectionalMotif in generation 9 of 10\n",
      "Template Eval Error: ValueError(\"regression_type=='User' but no future_regressor supplied\") in model 922 in generation 9: SectionalMotif\n",
      "Model Number: 923 with model Cassandra in generation 9 of 10\n",
      "Template Eval Error: UnboundLocalError(\"local variable 'slope' referenced before assignment\") in model 923 in generation 9: Cassandra\n",
      "Model Number: 924 with model AverageValueNaive in generation 9 of 10\n",
      "Model Number: 925 with model SeasonalityMotif in generation 9 of 10\n",
      "Model Number: 926 with model SeasonalNaive in generation 9 of 10\n",
      "Template Eval Error: Exception(\"Transformer BTCD failed on fit from params akima {'0': {'rows': 1, 'lag': 1, 'method': 'additive', 'strength': 1.0, 'first_value_only': False, 'threshold': None, 'threshold_method': 'mean'}, '1': {'rows': 1, 'lag': 1, 'method': 'multiplicative', 'strength': 1.0, 'first_value_only': False, 'threshold': 1, 'threshold_method': 'max'}, '2': {'method': 'clip', 'std_threshold': 3.5, 'fillna': None}, '3': {'method': 'zscore', 'method_params': {'distribution': 'uniform', 'alpha': 0.1}, 'fillna': 'ffill', 'transform_dict': {'fillna': 'zero', 'transformations': {'0': 'PositiveShift', '1': 'CenterLastValue'}, 'transformation_params': {'0': {}, '1': {'rows': 6}}}, 'isolated_only': True, 'on_inverse': False}, '4': {'regression_model': {'model': 'FastRidge', 'model_params': {}}, 'max_lags': 2}} with error ValueError('BTCD only works on multivarate series')\") in model 926 in generation 9: SeasonalNaive\n",
      "Model Number: 927 with model LastValueNaive in generation 9 of 10\n",
      "Model Number: 928 with model SectionalMotif in generation 9 of 10\n",
      "Model Number: 929 with model ETS in generation 9 of 10\n"
     ]
    },
    {
     "name": "stderr",
     "output_type": "stream",
     "text": [
      "/home/zeus/miniconda3/envs/cloudspace/lib/python3.10/site-packages/sklearn/linear_model/_ridge.py:200: LinAlgWarning: Ill-conditioned matrix (rcond=8.05924e-25): result may not be accurate.\n",
      "  return linalg.solve(A, Xy, assume_a=\"pos\", overwrite_a=True).T\n"
     ]
    },
    {
     "name": "stdout",
     "output_type": "stream",
     "text": [
      "Model Number: 930 with model ConstantNaive in generation 9 of 10\n",
      "Model Number: 931 with model LastValueNaive in generation 9 of 10\n",
      "Template Eval Error: Exception(\"Transformer FIRFilter failed on fit from params pchip {'0': {'numtaps': 1024, 'cutoff_hz': 10, 'window': 'hann', 'sampling_frequency': 7, 'on_transform': True, 'on_inverse': False}, '1': {'window': 3}, '2': {'threshold': 1.0, 'splash_threshold': None, 'use_dayofmonth_holidays': True, 'use_wkdom_holidays': True, 'use_wkdeom_holidays': True, 'use_lunar_holidays': False, 'use_lunar_weekday': False, 'use_islamic_holidays': False, 'use_hebrew_holidays': False, 'use_hindu_holidays': False, 'anomaly_detector_params': {'method': 'IQR', 'method_params': {'iqr_threshold': 2.5, 'iqr_quantiles': [0.25, 0.75]}, 'fillna': 'ffill', 'transform_dict': {'fillna': None, 'transformations': {'0': 'ClipOutliers'}, 'transformation_params': {'0': {'method': 'clip', 'std_threshold': 6}}}, 'isolated_only': False, 'on_inverse': False}, 'remove_excess_anomalies': True, 'impact': 'anomaly_score', 'regression_params': {}}, '3': {'method': 'zscore', 'method_params': {'distribution': 'uniform', 'alpha': 0.1}, 'fillna': 'ffill', 'transform_dict': {'fillna': 'zero', 'transformations': {'0': 'PositiveShift', '1': 'CenterLastValue'}, 'transformation_params': {'0': {}, '1': {'rows': 6}}}, 'isolated_only': True, 'on_inverse': False}, '4': {}} with error ValueError('Invalid cutoff frequency: frequencies must be greater than 0 and less than fs/2.')\") in model 931 in generation 9: LastValueNaive\n",
      "Model Number: 932 with model MetricMotif in generation 9 of 10\n",
      "Model Number: 933 with model ARDL in generation 9 of 10\n"
     ]
    },
    {
     "name": "stderr",
     "output_type": "stream",
     "text": [
      "/home/zeus/miniconda3/envs/cloudspace/lib/python3.10/site-packages/autots/tools/thresholding.py:204: RuntimeWarning: overflow encountered in scalar power\n",
      "  (1 + mean_perc_decrease) ** self.mean_weight\n"
     ]
    },
    {
     "name": "stdout",
     "output_type": "stream",
     "text": [
      "Model Number: 934 with model ConstantNaive in generation 9 of 10\n",
      "Template Eval Error: Exception(\"Transformer HolidayTransformer failed on fit from params zero {'0': {}, '1': {'threshold': 0.9, 'splash_threshold': None, 'use_dayofmonth_holidays': True, 'use_wkdom_holidays': True, 'use_wkdeom_holidays': False, 'use_lunar_holidays': False, 'use_lunar_weekday': False, 'use_islamic_holidays': False, 'use_hebrew_holidays': False, 'use_hindu_holidays': False, 'anomaly_detector_params': {'method': 'zscore', 'method_params': {'distribution': 'norm', 'alpha': 0.1}, 'fillna': 'ffill', 'transform_dict': {'fillna': None, 'transformations': {'0': 'ClipOutliers'}, 'transformation_params': {'0': {'method': 'clip', 'std_threshold': 6}}}, 'isolated_only': True, 'on_inverse': False}, 'remove_excess_anomalies': False, 'impact': 'median_value', 'regression_params': {}}, '2': {'theta_values': [0.6, 1.4]}} with error ValueError('more than 1 year of data is required for holiday detection.')\") in model 934 in generation 9: ConstantNaive\n",
      "Model Number: 935 with model BasicLinearModel in generation 9 of 10\n"
     ]
    },
    {
     "name": "stderr",
     "output_type": "stream",
     "text": [
      "/home/zeus/miniconda3/envs/cloudspace/lib/python3.10/site-packages/sklearn/linear_model/_ridge.py:200: LinAlgWarning: Ill-conditioned matrix (rcond=8.05924e-25): result may not be accurate.\n",
      "  return linalg.solve(A, Xy, assume_a=\"pos\", overwrite_a=True).T\n"
     ]
    },
    {
     "name": "stdout",
     "output_type": "stream",
     "text": [
      "Model Number: 936 with model SeasonalityMotif in generation 9 of 10\n",
      "Model Number: 937 with model SeasonalNaive in generation 9 of 10\n",
      "Model Number: 938 with model UnivariateMotif in generation 9 of 10\n",
      "Model Number: 939 with model AverageValueNaive in generation 9 of 10\n",
      "Model Number: 940 with model SeasonalityMotif in generation 9 of 10\n",
      "Model Number: 941 with model BasicLinearModel in generation 9 of 10\n"
     ]
    },
    {
     "name": "stderr",
     "output_type": "stream",
     "text": [
      "/home/zeus/miniconda3/envs/cloudspace/lib/python3.10/site-packages/sklearn/linear_model/_ridge.py:200: LinAlgWarning: Ill-conditioned matrix (rcond=8.05924e-25): result may not be accurate.\n",
      "  return linalg.solve(A, Xy, assume_a=\"pos\", overwrite_a=True).T\n"
     ]
    },
    {
     "name": "stdout",
     "output_type": "stream",
     "text": [
      "Model Number: 942 with model SeasonalityMotif in generation 9 of 10\n",
      "Model Number: 943 with model BasicLinearModel in generation 9 of 10\n",
      "Model Number: 944 with model LastValueNaive in generation 9 of 10\n",
      "Model Number: 945 with model SectionalMotif in generation 9 of 10\n",
      "Model Number: 946 with model DatepartRegression in generation 9 of 10\n",
      "Template Eval Error: InvalidParameterError(\"The 'alpha' parameter of MLPRegressor must be a float in the range [0.0, inf). Got None instead.\") in model 946 in generation 9: DatepartRegression\n",
      "Model Number: 947 with model SectionalMotif in generation 9 of 10\n",
      "Model Number: 948 with model RRVAR in generation 9 of 10\n",
      "Model Number: 949 with model UnivariateMotif in generation 9 of 10\n",
      "Model Number: 950 with model SeasonalNaive in generation 9 of 10\n",
      "Model Number: 951 with model ETS in generation 9 of 10\n",
      "Model Number: 952 with model AverageValueNaive in generation 9 of 10\n",
      "Model Number: 953 with model ARDL in generation 9 of 10\n",
      "Model Number: 954 with model ConstantNaive in generation 9 of 10\n",
      "Model Number: 955 with model UnivariateMotif in generation 9 of 10\n"
     ]
    },
    {
     "name": "stderr",
     "output_type": "stream",
     "text": [
      "/home/zeus/miniconda3/envs/cloudspace/lib/python3.10/site-packages/sklearn/decomposition/_fastica.py:576: UserWarning: Ignoring n_components with whiten=False.\n",
      "  warnings.warn(\"Ignoring n_components with whiten=False.\")\n"
     ]
    },
    {
     "name": "stdout",
     "output_type": "stream",
     "text": [
      "Model Number: 956 with model UnivariateMotif in generation 9 of 10\n",
      "Model Number: 957 with model BasicLinearModel in generation 9 of 10\n",
      "Model Number: 958 with model SeasonalityMotif in generation 9 of 10\n",
      "Model Number: 959 with model SectionalMotif in generation 9 of 10\n",
      "Template Eval Error: ValueError(\"regression_type=='User' but no future_regressor supplied\") in model 959 in generation 9: SectionalMotif\n",
      "Model Number: 960 with model ARDL in generation 9 of 10\n",
      "Template Eval Error: Exception(\"Transformer HolidayTransformer failed on fit from params mean {'0': {'threshold': 0.9, 'splash_threshold': None, 'use_dayofmonth_holidays': True, 'use_wkdom_holidays': True, 'use_wkdeom_holidays': False, 'use_lunar_holidays': False, 'use_lunar_weekday': False, 'use_islamic_holidays': False, 'use_hebrew_holidays': False, 'use_hindu_holidays': False, 'anomaly_detector_params': {'method': 'IQR', 'method_params': {'iqr_threshold': 3.0, 'iqr_quantiles': [0.25, 0.75]}, 'fillna': 'ffill', 'transform_dict': {'fillna': None, 'transformations': {'0': 'EWMAFilter'}, 'transformation_params': {'0': {'span': 7}}}, 'isolated_only': True, 'on_inverse': False}, 'remove_excess_anomalies': True, 'impact': 'regression', 'regression_params': {}}, '1': {'method': 'clip', 'std_threshold': 1, 'fillna': None}, '2': {'method': 'clip', 'std_threshold': 3.5, 'fillna': None}} with error ValueError('more than 1 year of data is required for holiday detection.')\") in model 960 in generation 9: ARDL\n",
      "Model Number: 961 with model SectionalMotif in generation 9 of 10\n",
      "Model Number: 962 with model UnivariateMotif in generation 9 of 10\n",
      "Template Eval Error: Exception(\"Transformer HolidayTransformer failed on fit from params ffill {'0': {'rows': 28}, '1': {'regression_model': {'model': 'DecisionTree', 'model_params': {'max_depth': 3, 'min_samples_split': 1.0}}, 'datepart_method': [7, 'day', 'hour'], 'polynomial_degree': None, 'transform_dict': None, 'holiday_countries_used': True, 'lags': 2, 'forward_lags': None}, '2': {}, '3': {'threshold': 0.9, 'splash_threshold': None, 'use_dayofmonth_holidays': True, 'use_wkdom_holidays': True, 'use_wkdeom_holidays': False, 'use_lunar_holidays': False, 'use_lunar_weekday': False, 'use_islamic_holidays': False, 'use_hebrew_holidays': False, 'use_hindu_holidays': True, 'anomaly_detector_params': {'method': 'rolling_zscore', 'method_params': {'distribution': 'laplace', 'alpha': 0.05, 'rolling_periods': 300, 'center': True}, 'fillna': 'ffill', 'transform_dict': None, 'isolated_only': False, 'on_inverse': False}, 'remove_excess_anomalies': True, 'impact': 'anomaly_score', 'regression_params': {}}, '4': {'regression_model': {'model': 'KNN', 'model_params': {'n_neighbors': 5, 'weights': 'uniform', 'p': 1, 'leaf_size': 30}}, 'datepart_method': 'simple_2', 'polynomial_degree': None, 'transform_dict': None, 'holiday_countries_used': False, 'lags': None, 'forward_lags': None}, '5': {}} with error ValueError('more than 1 year of data is required for holiday detection.')\") in model 962 in generation 9: UnivariateMotif\n",
      "Model Number: 963 with model ETS in generation 9 of 10\n",
      "Model Number: 964 with model SectionalMotif in generation 9 of 10\n",
      "Model Number: 965 with model MetricMotif in generation 9 of 10\n",
      "Model Number: 966 with model ConstantNaive in generation 9 of 10\n",
      "Model Number: 967 with model MetricMotif in generation 9 of 10\n",
      "Model Number: 968 with model ARDL in generation 9 of 10\n",
      "Model Number: 969 with model ConstantNaive in generation 9 of 10\n",
      "Model Number: 970 with model MetricMotif in generation 9 of 10\n",
      "Model Number: 971 with model AverageValueNaive in generation 9 of 10\n",
      "Model Number: 972 with model DatepartRegression in generation 9 of 10\n",
      "Model Number: 973 with model GLS in generation 9 of 10\n",
      "Model Number: 974 with model ETS in generation 9 of 10\n",
      "Template Eval Error: Exception(\"Transformer Cointegration failed on fit from params ffill {'0': {'rows': 1, 'lag': 1, 'method': 'additive', 'strength': 1.0, 'first_value_only': True, 'threshold': None, 'threshold_method': 'mean'}, '1': {'det_order': 0, 'k_ar_diff': 1}, '2': {'method': 'remove', 'std_threshold': 4.5, 'fillna': 'ffill'}, '3': {'rows': 1, 'lag': 84, 'method': 'additive', 'strength': 1.0, 'first_value_only': False, 'threshold': None, 'threshold_method': 'mean'}} with error ValueError('Coint only works on multivarate series')\") in model 974 in generation 9: ETS\n",
      "Model Number: 975 with model SectionalMotif in generation 9 of 10\n",
      "Model Number: 976 with model UnivariateMotif in generation 9 of 10\n",
      "Model Number: 977 with model ARDL in generation 9 of 10\n",
      "Template Eval Error: Exception(\"Transformer HolidayTransformer failed on fit from params median {'0': {'threshold': 0.9, 'splash_threshold': None, 'use_dayofmonth_holidays': True, 'use_wkdom_holidays': True, 'use_wkdeom_holidays': False, 'use_lunar_holidays': False, 'use_lunar_weekday': False, 'use_islamic_holidays': False, 'use_hebrew_holidays': False, 'use_hindu_holidays': False, 'anomaly_detector_params': {'method': 'IQR', 'method_params': {'iqr_threshold': 3.0, 'iqr_quantiles': [0.25, 0.75]}, 'fillna': 'ffill', 'transform_dict': {'fillna': None, 'transformations': {'0': 'EWMAFilter'}, 'transformation_params': {'0': {'span': 7}}}, 'isolated_only': True, 'on_inverse': False}, 'remove_excess_anomalies': True, 'impact': 'regression', 'regression_params': {}}, '1': {'method': 'clip', 'std_threshold': 1, 'fillna': None}, '2': {'span': 12}} with error ValueError('more than 1 year of data is required for holiday detection.')\") in model 977 in generation 9: ARDL\n",
      "Model Number: 978 with model UnivariateMotif in generation 9 of 10\n",
      "Model Number: 979 with model AverageValueNaive in generation 9 of 10\n",
      "Model Number: 980 with model UnivariateMotif in generation 9 of 10\n",
      "Model Number: 981 with model SectionalMotif in generation 9 of 10\n",
      "Template Eval Error: ValueError(\"regression_type=='User' but no future_regressor supplied\") in model 981 in generation 9: SectionalMotif\n",
      "Model Number: 982 with model SectionalMotif in generation 9 of 10\n",
      "Model Number: 983 with model GLM in generation 9 of 10\n",
      "Model Number: 984 with model FFT in generation 9 of 10\n",
      "Model Number: 985 with model FFT in generation 9 of 10\n",
      "Model Number: 986 with model MetricMotif in generation 9 of 10\n",
      "Model Number: 987 with model MetricMotif in generation 9 of 10\n",
      "Model Number: 988 with model MetricMotif in generation 9 of 10\n",
      "Model Number: 989 with model FFT in generation 9 of 10\n",
      "Model Number: 990 with model SeasonalNaive in generation 9 of 10\n",
      "Model Number: 991 with model MetricMotif in generation 9 of 10\n",
      "Model Number: 992 with model ARDL in generation 9 of 10\n",
      "Model Number: 993 with model BasicLinearModel in generation 9 of 10\n"
     ]
    },
    {
     "name": "stderr",
     "output_type": "stream",
     "text": [
      "/home/zeus/miniconda3/envs/cloudspace/lib/python3.10/site-packages/sklearn/linear_model/_ridge.py:200: LinAlgWarning: Ill-conditioned matrix (rcond=8.05924e-25): result may not be accurate.\n",
      "  return linalg.solve(A, Xy, assume_a=\"pos\", overwrite_a=True).T\n"
     ]
    },
    {
     "name": "stdout",
     "output_type": "stream",
     "text": [
      "Model Number: 994 with model SeasonalNaive in generation 9 of 10\n",
      "Model Number: 995 with model MetricMotif in generation 9 of 10\n",
      "New Generation: 10 of 10\n",
      "Model Number: 996 with model SectionalMotif in generation 10 of 10\n",
      "Template Eval Error: Exception(\"Transformer FIRFilter failed on fit from params zero {'0': {}, '1': {'window_size': 90, 'alpha': 2.2, 'grouping_forward_limit': 3, 'max_level_shifts': 5, 'alignment': 'rolling_diff_5nn'}, '2': {'window_size': 90, 'alpha': 4.0, 'grouping_forward_limit': 5, 'max_level_shifts': 10, 'alignment': 'rolling_diff_3nn'}, '3': {'low': 7, 'high': 364, 'K': 6, 'lanczos_factor': False, 'return_diff': True, 'on_transform': True, 'on_inverse': False}, '4': {'method': 'mad', 'method_params': {'distribution': 'chi2', 'alpha': 0.05}, 'fillna': 'rolling_mean_24', 'transform_dict': {'fillna': 'zero', 'transformations': {'0': 'AlignLastValue', '1': 'AlignLastValue'}, 'transformation_params': {'0': {'rows': 1, 'lag': 7, 'method': 'additive', 'strength': 1.0, 'first_value_only': False, 'threshold': 1, 'threshold_method': 'max'}, '1': {'rows': 1, 'lag': 1, 'method': 'additive', 'strength': 1.0, 'first_value_only': False, 'threshold': 10, 'threshold_method': 'mean'}}}, 'isolated_only': True, 'on_inverse': False}, '5': {'numtaps': 1024, 'cutoff_hz': 20, 'window': 'hamming', 'sampling_frequency': 2, 'on_transform': True, 'on_inverse': False}} with error ValueError('Invalid cutoff frequency: frequencies must be greater than 0 and less than fs/2.')\") in model 996 in generation 10: SectionalMotif\n",
      "Model Number: 997 with model SeasonalityMotif in generation 10 of 10\n",
      "Model Number: 998 with model ETS in generation 10 of 10\n",
      "Model Number: 999 with model ARDL in generation 10 of 10\n",
      "Model Number: 1000 with model SectionalMotif in generation 10 of 10\n",
      "Model Number: 1001 with model MetricMotif in generation 10 of 10\n",
      "Model Number: 1002 with model AverageValueNaive in generation 10 of 10\n",
      "Model Number: 1003 with model SeasonalNaive in generation 10 of 10\n",
      "Model Number: 1004 with model SeasonalNaive in generation 10 of 10\n",
      "Model Number: 1005 with model SectionalMotif in generation 10 of 10\n",
      "Model Number: 1006 with model SectionalMotif in generation 10 of 10\n",
      "Model Number: 1007 with model ETS in generation 10 of 10\n",
      "Model Number: 1008 with model ConstantNaive in generation 10 of 10\n",
      "Model Number: 1009 with model BasicLinearModel in generation 10 of 10\n",
      "Template Eval Error: Exception(\"Transformer ReplaceConstant failed on fit from params rolling_mean_24 {'0': {'rows': 1, 'lag': 1, 'method': 'additive', 'strength': 1.0, 'first_value_only': False, 'threshold': 10, 'threshold_method': 'mean'}, '1': {'method': 0.3}, '2': {}, '3': {}, '4': {'constant': 0, 'reintroduction_model': {'model': 'xgboost', 'model_params': {'booster': 'gbtree', 'max_depth': 6, 'eta': 1.0, 'min_child_weight': 2, 'subsample': 1, 'colsample_bylevel': 1, 'reg_alpha': 0.05, 'reg_lambda': 1, 'n_estimators': 1000}, 'datepart_method': [7, 365.25]}, 'fillna': 'linear'}} with error ValueError('Invalid classes inferred from unique values of `y`.  Expected: [0], got [1]')\") in model 1009 in generation 10: BasicLinearModel\n",
      "Model Number: 1010 with model SeasonalNaive in generation 10 of 10\n",
      "Model Number: 1011 with model SeasonalityMotif in generation 10 of 10\n",
      "Model Number: 1012 with model AverageValueNaive in generation 10 of 10\n",
      "Model Number: 1013 with model AverageValueNaive in generation 10 of 10\n",
      "Model Number: 1014 with model SeasonalNaive in generation 10 of 10\n",
      "Model Number: 1015 with model FFT in generation 10 of 10\n",
      "Model Number: 1016 with model SeasonalityMotif in generation 10 of 10\n",
      "Model Number: 1017 with model SeasonalityMotif in generation 10 of 10\n",
      "Model Number: 1018 with model ETS in generation 10 of 10\n",
      "Model Number: 1019 with model UnivariateMotif in generation 10 of 10\n",
      "Model Number: 1020 with model MetricMotif in generation 10 of 10\n",
      "Model Number: 1021 with model SectionalMotif in generation 10 of 10\n",
      "Model Number: 1022 with model ETS in generation 10 of 10\n",
      "Model Number: 1023 with model MetricMotif in generation 10 of 10\n",
      "Model Number: 1024 with model SeasonalNaive in generation 10 of 10\n"
     ]
    },
    {
     "name": "stderr",
     "output_type": "stream",
     "text": [
      "/home/zeus/miniconda3/envs/cloudspace/lib/python3.10/site-packages/sklearn/neighbors/_classification.py:233: DataConversionWarning: A column-vector y was passed when a 1d array was expected. Please change the shape of y to (n_samples,), for example using ravel().\n",
      "  return self._fit(X, y)\n"
     ]
    },
    {
     "name": "stdout",
     "output_type": "stream",
     "text": [
      "Model Number: 1025 with model BasicLinearModel in generation 10 of 10\n",
      "Model Number: 1026 with model ConstantNaive in generation 10 of 10\n",
      "Model Number: 1027 with model ARDL in generation 10 of 10\n",
      "Model Number: 1028 with model MetricMotif in generation 10 of 10\n",
      "Model Number: 1029 with model AverageValueNaive in generation 10 of 10\n",
      "Model Number: 1030 with model ConstantNaive in generation 10 of 10\n",
      "Model Number: 1031 with model SeasonalityMotif in generation 10 of 10\n",
      "Model Number: 1032 with model ETS in generation 10 of 10\n",
      "Model Number: 1033 with model BasicLinearModel in generation 10 of 10\n",
      "Model Number: 1034 with model SeasonalityMotif in generation 10 of 10\n",
      "Template Eval Error: Exception(\"Transformer ReplaceConstant failed on fit from params linear {'0': {'model_name': 'local linear hidden state with seasonal 7', 'state_transition': [[1.0, 0.0, 0.0, 0.0, 0.0, 0.0, 0.0, 0.0], [0.0, -1.0, -1.0, -1.0, -1.0, -1.0, -1.0, 0.0], [0.0, 1.0, 0.0, 0.0, 0.0, 0.0, 0.0, 0.0], [0.0, 0.0, 1.0, 0.0, 0.0, 0.0, 0.0, 0.0], [0.0, 0.0, 0.0, 1.0, 0.0, 0.0, 0.0, 0.0], [0.0, 0.0, 0.0, 0.0, 1.0, 0.0, 0.0, 0.0], [0.0, 0.0, 0.0, 0.0, 0.0, 1.0, 0.0, 0.0], [0.0, 0.0, 0.0, 0.0, 0.0, 0.0, 1.0, 0.0]], 'process_noise': [[0.0016, 0.0, 0.0, 0.0, 0.0, 0.0, 0.0, 0.0], [0.0, 1e-06, 0.0, 0.0, 0.0, 0.0, 0.0, 0.0], [0.0, 0.0, 0.0, 0.0, 0.0, 0.0, 0.0, 0.0], [0.0, 0.0, 0.0, 0.0, 0.0, 0.0, 0.0, 0.0], [0.0, 0.0, 0.0, 0.0, 0.0, 0.0, 0.0, 0.0], [0.0, 0.0, 0.0, 0.0, 0.0, 0.0, 0.0, 0.0], [0.0, 0.0, 0.0, 0.0, 0.0, 0.0, 0.0, 0.0], [0.0, 0.0, 0.0, 0.0, 0.0, 0.0, 0.0, 0.0]], 'observation_model': [[1, 1, 0, 0, 0, 0, 0, 0]], 'observation_noise': 1.0, 'em_iter': None, 'on_transform': False, 'on_inverse': True}, '1': {'constant': 0, 'reintroduction_model': {'model': 'xgboost', 'model_params': {'base_score': 0.5, 'booster': 'gbtree', 'colsample_bylevel': 0.692, 'learning_rate': 0.022, 'max_bin': 256, 'max_depth': 14, 'max_leaves': 0, 'min_child_weight': 0.024, 'n_estimators': 162}, 'datepart_method': 'common_fourier_rw'}, 'fillna': 'pchip'}, '2': {}} with error ValueError('Invalid classes inferred from unique values of `y`.  Expected: [0], got [1]')\") in model 1034 in generation 10: SeasonalityMotif\n",
      "Model Number: 1035 with model SeasonalityMotif in generation 10 of 10\n",
      "Model Number: 1036 with model SeasonalityMotif in generation 10 of 10\n",
      "Model Number: 1037 with model SeasonalNaive in generation 10 of 10\n",
      "Model Number: 1038 with model SeasonalityMotif in generation 10 of 10\n",
      "Model Number: 1039 with model SectionalMotif in generation 10 of 10\n",
      "Model Number: 1040 with model SeasonalityMotif in generation 10 of 10\n",
      "Model Number: 1041 with model SeasonalityMotif in generation 10 of 10\n",
      "Model Number: 1042 with model MetricMotif in generation 10 of 10\n",
      "Template Eval Error: Exception(\"Transformer LocalLinearTrend failed on fit from params zero {'0': {'rolling_window': 360, 'n_tails': 0.1, 'n_future': 360, 'method': 'mean', 'macro_micro': False}, '1': {'rows': 1, 'lag': 1, 'method': 'multiplicative', 'strength': 1.0, 'first_value_only': False, 'threshold': 1, 'threshold_method': 'max'}, '2': {'method': 'zscore', 'method_params': {'distribution': 'uniform', 'alpha': 0.1}, 'fillna': 'ffill', 'transform_dict': {'fillna': 'zero', 'transformations': {'0': 'PositiveShift', '1': 'CenterLastValue'}, 'transformation_params': {'0': {}, '1': {'rows': 6}}}, 'isolated_only': True, 'on_inverse': False}} with error ValueError('negative dimensions are not allowed')\") in model 1042 in generation 10: MetricMotif\n",
      "Model Number: 1043 with model ARDL in generation 10 of 10\n",
      "Model Number: 1044 with model BasicLinearModel in generation 10 of 10\n",
      "Template Eval Error: ValueError('Model BasicLinearModel returned NaN for one or more series. fail_on_forecast_nan=True') in model 1044 in generation 10: BasicLinearModel\n",
      "Model Number: 1045 with model MetricMotif in generation 10 of 10\n",
      "Model Number: 1046 with model ARDL in generation 10 of 10\n",
      "Model Number: 1047 with model SectionalMotif in generation 10 of 10\n",
      "Model Number: 1048 with model BasicLinearModel in generation 10 of 10\n"
     ]
    },
    {
     "name": "stderr",
     "output_type": "stream",
     "text": [
      "/home/zeus/miniconda3/envs/cloudspace/lib/python3.10/site-packages/sklearn/linear_model/_ridge.py:200: LinAlgWarning: Ill-conditioned matrix (rcond=8.05924e-25): result may not be accurate.\n",
      "  return linalg.solve(A, Xy, assume_a=\"pos\", overwrite_a=True).T\n"
     ]
    },
    {
     "name": "stdout",
     "output_type": "stream",
     "text": [
      "Model Number: 1049 with model ARDL in generation 10 of 10\n",
      "Model Number: 1050 with model MetricMotif in generation 10 of 10\n",
      "Model Number: 1051 with model ConstantNaive in generation 10 of 10\n",
      "Model Number: 1052 with model ARDL in generation 10 of 10\n",
      "Model Number: 1053 with model BasicLinearModel in generation 10 of 10\n",
      "Model Number: 1054 with model BasicLinearModel in generation 10 of 10\n",
      "Model Number: 1055 with model ConstantNaive in generation 10 of 10\n",
      "Model Number: 1056 with model AverageValueNaive in generation 10 of 10\n",
      "Model Number: 1057 with model SectionalMotif in generation 10 of 10\n",
      "Template Eval Error: Exception(\"Transformer RegressionFilter failed on fit from params mean {'0': {'sigma': 1, 'rolling_window': 90, 'run_order': 'season_first', 'regression_params': {'regression_model': {'model': 'ElasticNet', 'model_params': {'l1_ratio': 0.5, 'fit_intercept': True, 'selection': 'cyclic', 'max_iter': 1000}}, 'datepart_method': 'expanded_binarized', 'polynomial_degree': None, 'transform_dict': {'fillna': None, 'transformations': {'0': 'ScipyFilter'}, 'transformation_params': {'0': {'method': 'savgol_filter', 'method_args': {'window_length': 31, 'polyorder': 3, 'deriv': 0, 'mode': 'interp'}}}}, 'holiday_countries_used': False, 'lags': None, 'forward_lags': None}, 'holiday_params': {'threshold': 0.9, 'splash_threshold': None, 'use_dayofmonth_holidays': True, 'use_wkdom_holidays': True, 'use_wkdeom_holidays': False, 'use_lunar_holidays': True, 'use_lunar_weekday': False, 'use_islamic_holidays': False, 'use_hebrew_holidays': False, 'use_hindu_holidays': False, 'anomaly_detector_params': {'method': 'IQR', 'method_params': {'iqr_threshold': 2.5, 'iqr_quantiles': [0.25, 0.75]}, 'fillna': 'linear', 'transform_dict': {'fillna': None, 'transformations': {'0': 'EWMAFilter'}, 'transformation_params': {'0': {'span': 7}}}, 'isolated_only': False, 'on_inverse': False}, 'remove_excess_anomalies': True, 'impact': 'datepart_regression', 'regression_params': {'regression_model': {'model': 'ElasticNet', 'model_params': {'l1_ratio': 0.5, 'fit_intercept': True, 'selection': 'cyclic', 'max_iter': 1000}}, 'datepart_method': 'expanded_binarized', 'polynomial_degree': None, 'transform_dict': {'fillna': None, 'transformations': {'0': 'ScipyFilter'}, 'transformation_params': {'0': {'method': 'savgol_filter', 'method_args': {'window_length': 31, 'polyorder': 3, 'deriv': 0, 'mode': 'interp'}}}}, 'holiday_countries_used': False, 'lags': None, 'forward_lags': None}}, 'trend_method': 'local_linear'}, '1': {'rows': 1, 'lag': 1, 'method': 'additive', 'strength': 1.0, 'first_value_only': False, 'threshold': 1, 'threshold_method': 'max'}, '2': {}} with error ValueError('more than 1 year of data is required for holiday detection.')\") in model 1057 in generation 10: SectionalMotif\n",
      "Model Number: 1058 with model FFT in generation 10 of 10\n",
      "Model Number: 1059 with model Ensemble in generation 11 of Ensembles\n",
      "Model Number: 1073 with model Ensemble in generation 11 of Ensembles\n",
      "Model Number: 1087 with model Ensemble in generation 11 of Ensembles\n",
      "Model Number: 1101 with model Ensemble in generation 11 of Ensembles\n",
      "Model Number: 1115 with model Ensemble in generation 11 of Ensembles\n",
      "Model Number: 1129 with model Ensemble in generation 11 of Ensembles\n",
      "Model Number: 1143 with model Ensemble in generation 11 of Ensembles\n",
      "Model Number: 1157 with model Ensemble in generation 11 of Ensembles\n",
      "Validation Round: 1\n",
      "Model Number: 1 of 176 with model Ensemble for Validation 1\n",
      "📈 1 - Ensemble with avg smape 10.63: \n",
      "2 - Ensemble with avg smape 10.63: \n",
      "3 - Ensemble with avg smape 10.67: \n",
      "4 - Ensemble with avg smape 10.64: \n",
      "5 - Ensemble with avg smape 10.75: \n",
      "6 - Ensemble with avg smape 10.84: \n",
      "7 - Ensemble with avg smape 10.71: \n",
      "8 - Ensemble with avg smape 10.71: \n",
      "9 - Ensemble with avg smape 10.84: \n",
      "10 - Ensemble with avg smape 10.73: \n",
      "11 - Ensemble with avg smape 10.65: \n",
      "12 - Ensemble with avg smape 10.63: \n"
     ]
    },
    {
     "name": "stderr",
     "output_type": "stream",
     "text": [
      "/home/zeus/miniconda3/envs/cloudspace/lib/python3.10/site-packages/autots/tools/seasonal.py:896: RuntimeWarning: invalid value encountered in divide\n",
      "  scores = np.mean(np.abs(a - b) / divisor, axis=2)\n",
      "/home/zeus/miniconda3/envs/cloudspace/lib/python3.10/site-packages/autots/tools/seasonal.py:896: RuntimeWarning: invalid value encountered in divide\n",
      "  scores = np.mean(np.abs(a - b) / divisor, axis=2)\n",
      "/home/zeus/miniconda3/envs/cloudspace/lib/python3.10/site-packages/autots/tools/seasonal.py:896: RuntimeWarning: invalid value encountered in divide\n",
      "  scores = np.mean(np.abs(a - b) / divisor, axis=2)\n",
      "/home/zeus/miniconda3/envs/cloudspace/lib/python3.10/site-packages/autots/tools/seasonal.py:896: RuntimeWarning: invalid value encountered in divide\n",
      "  scores = np.mean(np.abs(a - b) / divisor, axis=2)\n",
      "/home/zeus/miniconda3/envs/cloudspace/lib/python3.10/site-packages/autots/tools/seasonal.py:896: RuntimeWarning: invalid value encountered in divide\n",
      "  scores = np.mean(np.abs(a - b) / divisor, axis=2)\n",
      "/home/zeus/miniconda3/envs/cloudspace/lib/python3.10/site-packages/autots/tools/seasonal.py:896: RuntimeWarning: invalid value encountered in divide\n",
      "  scores = np.mean(np.abs(a - b) / divisor, axis=2)\n",
      "/home/zeus/miniconda3/envs/cloudspace/lib/python3.10/site-packages/autots/tools/seasonal.py:896: RuntimeWarning: invalid value encountered in divide\n",
      "  scores = np.mean(np.abs(a - b) / divisor, axis=2)\n",
      "/home/zeus/miniconda3/envs/cloudspace/lib/python3.10/site-packages/autots/tools/seasonal.py:896: RuntimeWarning: invalid value encountered in divide\n",
      "  scores = np.mean(np.abs(a - b) / divisor, axis=2)\n",
      "/home/zeus/miniconda3/envs/cloudspace/lib/python3.10/site-packages/autots/tools/seasonal.py:896: RuntimeWarning: invalid value encountered in divide\n",
      "  scores = np.mean(np.abs(a - b) / divisor, axis=2)\n"
     ]
    },
    {
     "name": "stdout",
     "output_type": "stream",
     "text": [
      "13 - Ensemble with avg smape 19.83: \n",
      "📈 14 - Ensemble with avg smape 10.57: \n",
      "Model Number: 15 of 176 with model Ensemble for Validation 1\n",
      "15 - Ensemble with avg smape 10.63: \n",
      "16 - Ensemble with avg smape 10.63: \n",
      "17 - Ensemble with avg smape 10.67: \n",
      "18 - Ensemble with avg smape 10.64: \n",
      "19 - Ensemble with avg smape 10.75: \n",
      "20 - Ensemble with avg smape 10.84: \n",
      "21 - Ensemble with avg smape 10.71: \n",
      "22 - Ensemble with avg smape 10.71: \n",
      "23 - Ensemble with avg smape 10.84: \n",
      "24 - Ensemble with avg smape 10.73: \n",
      "25 - Ensemble with avg smape 10.65: \n"
     ]
    },
    {
     "name": "stderr",
     "output_type": "stream",
     "text": [
      "/home/zeus/miniconda3/envs/cloudspace/lib/python3.10/site-packages/autots/tools/seasonal.py:896: RuntimeWarning: invalid value encountered in divide\n",
      "  scores = np.mean(np.abs(a - b) / divisor, axis=2)\n",
      "/home/zeus/miniconda3/envs/cloudspace/lib/python3.10/site-packages/autots/tools/seasonal.py:896: RuntimeWarning: invalid value encountered in divide\n",
      "  scores = np.mean(np.abs(a - b) / divisor, axis=2)\n",
      "/home/zeus/miniconda3/envs/cloudspace/lib/python3.10/site-packages/autots/tools/seasonal.py:896: RuntimeWarning: invalid value encountered in divide\n",
      "  scores = np.mean(np.abs(a - b) / divisor, axis=2)\n",
      "/home/zeus/miniconda3/envs/cloudspace/lib/python3.10/site-packages/autots/tools/seasonal.py:896: RuntimeWarning: invalid value encountered in divide\n",
      "  scores = np.mean(np.abs(a - b) / divisor, axis=2)\n",
      "/home/zeus/miniconda3/envs/cloudspace/lib/python3.10/site-packages/autots/tools/seasonal.py:896: RuntimeWarning: invalid value encountered in divide\n",
      "  scores = np.mean(np.abs(a - b) / divisor, axis=2)\n",
      "/home/zeus/miniconda3/envs/cloudspace/lib/python3.10/site-packages/autots/tools/seasonal.py:896: RuntimeWarning: invalid value encountered in divide\n",
      "  scores = np.mean(np.abs(a - b) / divisor, axis=2)\n",
      "/home/zeus/miniconda3/envs/cloudspace/lib/python3.10/site-packages/autots/tools/seasonal.py:896: RuntimeWarning: invalid value encountered in divide\n",
      "  scores = np.mean(np.abs(a - b) / divisor, axis=2)\n",
      "/home/zeus/miniconda3/envs/cloudspace/lib/python3.10/site-packages/autots/tools/seasonal.py:896: RuntimeWarning: invalid value encountered in divide\n",
      "  scores = np.mean(np.abs(a - b) / divisor, axis=2)\n",
      "/home/zeus/miniconda3/envs/cloudspace/lib/python3.10/site-packages/autots/tools/seasonal.py:896: RuntimeWarning: invalid value encountered in divide\n",
      "  scores = np.mean(np.abs(a - b) / divisor, axis=2)\n"
     ]
    },
    {
     "name": "stdout",
     "output_type": "stream",
     "text": [
      "26 - Ensemble with avg smape 10.63: \n",
      "27 - Ensemble with avg smape 19.83: \n",
      "28 - Ensemble with avg smape 10.57: \n",
      "Model Number: 29 of 176 with model Ensemble for Validation 1\n",
      "29 - Ensemble with avg smape 10.64: \n",
      "30 - Ensemble with avg smape 10.64: \n",
      "31 - Ensemble with avg smape 10.68: \n",
      "32 - Ensemble with avg smape 10.64: \n",
      "33 - Ensemble with avg smape 10.75: \n"
     ]
    },
    {
     "name": "stderr",
     "output_type": "stream",
     "text": [
      "/home/zeus/miniconda3/envs/cloudspace/lib/python3.10/site-packages/autots/tools/seasonal.py:896: RuntimeWarning: invalid value encountered in divide\n",
      "  scores = np.mean(np.abs(a - b) / divisor, axis=2)\n",
      "/home/zeus/miniconda3/envs/cloudspace/lib/python3.10/site-packages/autots/tools/seasonal.py:896: RuntimeWarning: invalid value encountered in divide\n",
      "  scores = np.mean(np.abs(a - b) / divisor, axis=2)\n",
      "/home/zeus/miniconda3/envs/cloudspace/lib/python3.10/site-packages/autots/tools/seasonal.py:896: RuntimeWarning: invalid value encountered in divide\n",
      "  scores = np.mean(np.abs(a - b) / divisor, axis=2)\n",
      "/home/zeus/miniconda3/envs/cloudspace/lib/python3.10/site-packages/autots/tools/seasonal.py:896: RuntimeWarning: invalid value encountered in divide\n",
      "  scores = np.mean(np.abs(a - b) / divisor, axis=2)\n",
      "/home/zeus/miniconda3/envs/cloudspace/lib/python3.10/site-packages/autots/tools/seasonal.py:896: RuntimeWarning: invalid value encountered in divide\n",
      "  scores = np.mean(np.abs(a - b) / divisor, axis=2)\n",
      "/home/zeus/miniconda3/envs/cloudspace/lib/python3.10/site-packages/autots/tools/seasonal.py:896: RuntimeWarning: invalid value encountered in divide\n",
      "  scores = np.mean(np.abs(a - b) / divisor, axis=2)\n",
      "/home/zeus/miniconda3/envs/cloudspace/lib/python3.10/site-packages/autots/tools/seasonal.py:896: RuntimeWarning: invalid value encountered in divide\n",
      "  scores = np.mean(np.abs(a - b) / divisor, axis=2)\n",
      "/home/zeus/miniconda3/envs/cloudspace/lib/python3.10/site-packages/autots/tools/seasonal.py:896: RuntimeWarning: invalid value encountered in divide\n",
      "  scores = np.mean(np.abs(a - b) / divisor, axis=2)\n",
      "/home/zeus/miniconda3/envs/cloudspace/lib/python3.10/site-packages/autots/tools/seasonal.py:896: RuntimeWarning: invalid value encountered in divide\n",
      "  scores = np.mean(np.abs(a - b) / divisor, axis=2)\n",
      "/home/zeus/miniconda3/envs/cloudspace/lib/python3.10/site-packages/autots/tools/seasonal.py:896: RuntimeWarning: invalid value encountered in divide\n",
      "  scores = np.mean(np.abs(a - b) / divisor, axis=2)\n",
      "/home/zeus/miniconda3/envs/cloudspace/lib/python3.10/site-packages/autots/tools/seasonal.py:896: RuntimeWarning: invalid value encountered in divide\n",
      "  scores = np.mean(np.abs(a - b) / divisor, axis=2)\n",
      "/home/zeus/miniconda3/envs/cloudspace/lib/python3.10/site-packages/autots/tools/seasonal.py:896: RuntimeWarning: invalid value encountered in divide\n",
      "  scores = np.mean(np.abs(a - b) / divisor, axis=2)\n",
      "/home/zeus/miniconda3/envs/cloudspace/lib/python3.10/site-packages/autots/tools/seasonal.py:896: RuntimeWarning: invalid value encountered in divide\n",
      "  scores = np.mean(np.abs(a - b) / divisor, axis=2)\n",
      "/home/zeus/miniconda3/envs/cloudspace/lib/python3.10/site-packages/autots/tools/seasonal.py:896: RuntimeWarning: invalid value encountered in divide\n",
      "  scores = np.mean(np.abs(a - b) / divisor, axis=2)\n",
      "/home/zeus/miniconda3/envs/cloudspace/lib/python3.10/site-packages/autots/tools/seasonal.py:896: RuntimeWarning: invalid value encountered in divide\n",
      "  scores = np.mean(np.abs(a - b) / divisor, axis=2)\n"
     ]
    },
    {
     "name": "stdout",
     "output_type": "stream",
     "text": [
      "34 - Ensemble with avg smape 10.84: \n",
      "35 - Ensemble with avg smape 10.71: \n",
      "36 - Ensemble with avg smape 10.71: \n",
      "37 - Ensemble with avg smape 10.84: \n",
      "38 - Ensemble with avg smape 10.73: \n",
      "39 - Ensemble with avg smape 10.65: \n",
      "40 - Ensemble with avg smape 10.63: \n",
      "41 - Ensemble with avg smape 19.83: \n",
      "42 - Ensemble with avg smape 10.57: \n",
      "Model Number: 43 of 176 with model Ensemble for Validation 1\n"
     ]
    },
    {
     "name": "stderr",
     "output_type": "stream",
     "text": [
      "/home/zeus/miniconda3/envs/cloudspace/lib/python3.10/site-packages/autots/tools/seasonal.py:896: RuntimeWarning: invalid value encountered in divide\n",
      "  scores = np.mean(np.abs(a - b) / divisor, axis=2)\n",
      "/home/zeus/miniconda3/envs/cloudspace/lib/python3.10/site-packages/autots/tools/seasonal.py:896: RuntimeWarning: invalid value encountered in divide\n",
      "  scores = np.mean(np.abs(a - b) / divisor, axis=2)\n",
      "/home/zeus/miniconda3/envs/cloudspace/lib/python3.10/site-packages/autots/tools/seasonal.py:896: RuntimeWarning: invalid value encountered in divide\n",
      "  scores = np.mean(np.abs(a - b) / divisor, axis=2)\n",
      "/home/zeus/miniconda3/envs/cloudspace/lib/python3.10/site-packages/autots/tools/seasonal.py:896: RuntimeWarning: invalid value encountered in divide\n",
      "  scores = np.mean(np.abs(a - b) / divisor, axis=2)\n",
      "/home/zeus/miniconda3/envs/cloudspace/lib/python3.10/site-packages/autots/tools/seasonal.py:896: RuntimeWarning: invalid value encountered in divide\n",
      "  scores = np.mean(np.abs(a - b) / divisor, axis=2)\n",
      "/home/zeus/miniconda3/envs/cloudspace/lib/python3.10/site-packages/autots/tools/seasonal.py:896: RuntimeWarning: invalid value encountered in divide\n",
      "  scores = np.mean(np.abs(a - b) / divisor, axis=2)\n",
      "/home/zeus/miniconda3/envs/cloudspace/lib/python3.10/site-packages/autots/tools/seasonal.py:896: RuntimeWarning: invalid value encountered in divide\n",
      "  scores = np.mean(np.abs(a - b) / divisor, axis=2)\n",
      "/home/zeus/miniconda3/envs/cloudspace/lib/python3.10/site-packages/autots/tools/seasonal.py:896: RuntimeWarning: invalid value encountered in divide\n",
      "  scores = np.mean(np.abs(a - b) / divisor, axis=2)\n",
      "/home/zeus/miniconda3/envs/cloudspace/lib/python3.10/site-packages/autots/tools/seasonal.py:896: RuntimeWarning: invalid value encountered in divide\n",
      "  scores = np.mean(np.abs(a - b) / divisor, axis=2)\n",
      "/home/zeus/miniconda3/envs/cloudspace/lib/python3.10/site-packages/autots/tools/seasonal.py:896: RuntimeWarning: invalid value encountered in divide\n",
      "  scores = np.mean(np.abs(a - b) / divisor, axis=2)\n",
      "/home/zeus/miniconda3/envs/cloudspace/lib/python3.10/site-packages/autots/tools/seasonal.py:896: RuntimeWarning: invalid value encountered in divide\n",
      "  scores = np.mean(np.abs(a - b) / divisor, axis=2)\n",
      "/home/zeus/miniconda3/envs/cloudspace/lib/python3.10/site-packages/autots/tools/seasonal.py:896: RuntimeWarning: invalid value encountered in divide\n",
      "  scores = np.mean(np.abs(a - b) / divisor, axis=2)\n",
      "/home/zeus/miniconda3/envs/cloudspace/lib/python3.10/site-packages/autots/tools/seasonal.py:896: RuntimeWarning: invalid value encountered in divide\n",
      "  scores = np.mean(np.abs(a - b) / divisor, axis=2)\n",
      "/home/zeus/miniconda3/envs/cloudspace/lib/python3.10/site-packages/autots/tools/seasonal.py:896: RuntimeWarning: invalid value encountered in divide\n",
      "  scores = np.mean(np.abs(a - b) / divisor, axis=2)\n",
      "/home/zeus/miniconda3/envs/cloudspace/lib/python3.10/site-packages/autots/tools/seasonal.py:896: RuntimeWarning: invalid value encountered in divide\n",
      "  scores = np.mean(np.abs(a - b) / divisor, axis=2)\n"
     ]
    },
    {
     "name": "stdout",
     "output_type": "stream",
     "text": [
      "43 - Ensemble with avg smape 10.64: \n",
      "44 - Ensemble with avg smape 10.64: \n",
      "45 - Ensemble with avg smape 10.68: \n",
      "46 - Ensemble with avg smape 10.64: \n",
      "47 - Ensemble with avg smape 10.75: \n",
      "48 - Ensemble with avg smape 10.84: \n",
      "49 - Ensemble with avg smape 10.71: \n",
      "50 - Ensemble with avg smape 10.71: \n",
      "51 - Ensemble with avg smape 10.84: \n",
      "52 - Ensemble with avg smape 10.73: \n",
      "53 - Ensemble with avg smape 10.65: \n",
      "54 - Ensemble with avg smape 10.63: \n",
      "55 - Ensemble with avg smape 19.83: \n",
      "56 - Ensemble with avg smape 10.57: \n",
      "Model Number: 57 of 176 with model Ensemble for Validation 1\n"
     ]
    },
    {
     "name": "stderr",
     "output_type": "stream",
     "text": [
      "/home/zeus/miniconda3/envs/cloudspace/lib/python3.10/site-packages/autots/tools/seasonal.py:896: RuntimeWarning: invalid value encountered in divide\n",
      "  scores = np.mean(np.abs(a - b) / divisor, axis=2)\n",
      "/home/zeus/miniconda3/envs/cloudspace/lib/python3.10/site-packages/autots/tools/seasonal.py:896: RuntimeWarning: invalid value encountered in divide\n",
      "  scores = np.mean(np.abs(a - b) / divisor, axis=2)\n",
      "/home/zeus/miniconda3/envs/cloudspace/lib/python3.10/site-packages/autots/tools/seasonal.py:896: RuntimeWarning: invalid value encountered in divide\n",
      "  scores = np.mean(np.abs(a - b) / divisor, axis=2)\n",
      "/home/zeus/miniconda3/envs/cloudspace/lib/python3.10/site-packages/autots/tools/seasonal.py:896: RuntimeWarning: invalid value encountered in divide\n",
      "  scores = np.mean(np.abs(a - b) / divisor, axis=2)\n",
      "/home/zeus/miniconda3/envs/cloudspace/lib/python3.10/site-packages/autots/tools/seasonal.py:896: RuntimeWarning: invalid value encountered in divide\n",
      "  scores = np.mean(np.abs(a - b) / divisor, axis=2)\n",
      "/home/zeus/miniconda3/envs/cloudspace/lib/python3.10/site-packages/autots/tools/seasonal.py:896: RuntimeWarning: invalid value encountered in divide\n",
      "  scores = np.mean(np.abs(a - b) / divisor, axis=2)\n",
      "/home/zeus/miniconda3/envs/cloudspace/lib/python3.10/site-packages/autots/tools/seasonal.py:896: RuntimeWarning: invalid value encountered in divide\n",
      "  scores = np.mean(np.abs(a - b) / divisor, axis=2)\n",
      "/home/zeus/miniconda3/envs/cloudspace/lib/python3.10/site-packages/autots/tools/seasonal.py:896: RuntimeWarning: invalid value encountered in divide\n",
      "  scores = np.mean(np.abs(a - b) / divisor, axis=2)\n",
      "/home/zeus/miniconda3/envs/cloudspace/lib/python3.10/site-packages/autots/tools/seasonal.py:896: RuntimeWarning: invalid value encountered in divide\n",
      "  scores = np.mean(np.abs(a - b) / divisor, axis=2)\n"
     ]
    },
    {
     "name": "stdout",
     "output_type": "stream",
     "text": [
      "57 - Ensemble with avg smape 10.63: \n",
      "58 - Ensemble with avg smape 10.63: \n",
      "59 - Ensemble with avg smape 10.67: \n",
      "60 - Ensemble with avg smape 10.64: \n",
      "61 - Ensemble with avg smape 10.75: \n",
      "62 - Ensemble with avg smape 10.84: \n",
      "63 - Ensemble with avg smape 10.71: \n",
      "64 - Ensemble with avg smape 10.71: \n",
      "65 - Ensemble with avg smape 10.84: \n",
      "66 - Ensemble with avg smape 10.73: \n",
      "67 - Ensemble with avg smape 10.65: \n",
      "68 - Ensemble with avg smape 10.63: \n",
      "69 - Ensemble with avg smape 19.83: \n",
      "70 - Ensemble with avg smape 10.57: \n",
      "Model Number: 71 of 176 with model Ensemble for Validation 1\n"
     ]
    },
    {
     "name": "stderr",
     "output_type": "stream",
     "text": [
      "/home/zeus/miniconda3/envs/cloudspace/lib/python3.10/site-packages/autots/tools/seasonal.py:896: RuntimeWarning: invalid value encountered in divide\n",
      "  scores = np.mean(np.abs(a - b) / divisor, axis=2)\n",
      "/home/zeus/miniconda3/envs/cloudspace/lib/python3.10/site-packages/autots/tools/seasonal.py:896: RuntimeWarning: invalid value encountered in divide\n",
      "  scores = np.mean(np.abs(a - b) / divisor, axis=2)\n",
      "/home/zeus/miniconda3/envs/cloudspace/lib/python3.10/site-packages/autots/tools/seasonal.py:896: RuntimeWarning: invalid value encountered in divide\n",
      "  scores = np.mean(np.abs(a - b) / divisor, axis=2)\n",
      "/home/zeus/miniconda3/envs/cloudspace/lib/python3.10/site-packages/autots/tools/seasonal.py:896: RuntimeWarning: invalid value encountered in divide\n",
      "  scores = np.mean(np.abs(a - b) / divisor, axis=2)\n",
      "/home/zeus/miniconda3/envs/cloudspace/lib/python3.10/site-packages/autots/tools/seasonal.py:896: RuntimeWarning: invalid value encountered in divide\n",
      "  scores = np.mean(np.abs(a - b) / divisor, axis=2)\n",
      "/home/zeus/miniconda3/envs/cloudspace/lib/python3.10/site-packages/autots/tools/seasonal.py:896: RuntimeWarning: invalid value encountered in divide\n",
      "  scores = np.mean(np.abs(a - b) / divisor, axis=2)\n",
      "/home/zeus/miniconda3/envs/cloudspace/lib/python3.10/site-packages/autots/tools/seasonal.py:896: RuntimeWarning: invalid value encountered in divide\n",
      "  scores = np.mean(np.abs(a - b) / divisor, axis=2)\n",
      "/home/zeus/miniconda3/envs/cloudspace/lib/python3.10/site-packages/autots/tools/seasonal.py:896: RuntimeWarning: invalid value encountered in divide\n",
      "  scores = np.mean(np.abs(a - b) / divisor, axis=2)\n",
      "/home/zeus/miniconda3/envs/cloudspace/lib/python3.10/site-packages/autots/tools/seasonal.py:896: RuntimeWarning: invalid value encountered in divide\n",
      "  scores = np.mean(np.abs(a - b) / divisor, axis=2)\n"
     ]
    },
    {
     "name": "stdout",
     "output_type": "stream",
     "text": [
      "71 - Ensemble with avg smape 10.63: \n",
      "72 - Ensemble with avg smape 10.63: \n",
      "73 - Ensemble with avg smape 10.67: \n",
      "74 - Ensemble with avg smape 10.64: \n",
      "75 - Ensemble with avg smape 10.75: \n",
      "76 - Ensemble with avg smape 10.84: \n",
      "77 - Ensemble with avg smape 10.71: \n",
      "78 - Ensemble with avg smape 10.71: \n",
      "79 - Ensemble with avg smape 10.84: \n",
      "80 - Ensemble with avg smape 10.73: \n",
      "81 - Ensemble with avg smape 10.65: \n",
      "82 - Ensemble with avg smape 10.63: \n",
      "83 - Ensemble with avg smape 19.83: \n",
      "84 - Ensemble with avg smape 10.57: \n",
      "Model Number: 85 of 176 with model Ensemble for Validation 1\n"
     ]
    },
    {
     "name": "stderr",
     "output_type": "stream",
     "text": [
      "/home/zeus/miniconda3/envs/cloudspace/lib/python3.10/site-packages/autots/tools/seasonal.py:896: RuntimeWarning: invalid value encountered in divide\n",
      "  scores = np.mean(np.abs(a - b) / divisor, axis=2)\n",
      "/home/zeus/miniconda3/envs/cloudspace/lib/python3.10/site-packages/autots/tools/seasonal.py:896: RuntimeWarning: invalid value encountered in divide\n",
      "  scores = np.mean(np.abs(a - b) / divisor, axis=2)\n",
      "/home/zeus/miniconda3/envs/cloudspace/lib/python3.10/site-packages/autots/tools/seasonal.py:896: RuntimeWarning: invalid value encountered in divide\n",
      "  scores = np.mean(np.abs(a - b) / divisor, axis=2)\n",
      "/home/zeus/miniconda3/envs/cloudspace/lib/python3.10/site-packages/autots/tools/seasonal.py:896: RuntimeWarning: invalid value encountered in divide\n",
      "  scores = np.mean(np.abs(a - b) / divisor, axis=2)\n",
      "/home/zeus/miniconda3/envs/cloudspace/lib/python3.10/site-packages/autots/tools/seasonal.py:896: RuntimeWarning: invalid value encountered in divide\n",
      "  scores = np.mean(np.abs(a - b) / divisor, axis=2)\n",
      "/home/zeus/miniconda3/envs/cloudspace/lib/python3.10/site-packages/autots/tools/seasonal.py:896: RuntimeWarning: invalid value encountered in divide\n",
      "  scores = np.mean(np.abs(a - b) / divisor, axis=2)\n",
      "/home/zeus/miniconda3/envs/cloudspace/lib/python3.10/site-packages/autots/tools/seasonal.py:896: RuntimeWarning: invalid value encountered in divide\n",
      "  scores = np.mean(np.abs(a - b) / divisor, axis=2)\n",
      "/home/zeus/miniconda3/envs/cloudspace/lib/python3.10/site-packages/autots/tools/seasonal.py:896: RuntimeWarning: invalid value encountered in divide\n",
      "  scores = np.mean(np.abs(a - b) / divisor, axis=2)\n",
      "/home/zeus/miniconda3/envs/cloudspace/lib/python3.10/site-packages/autots/tools/seasonal.py:896: RuntimeWarning: invalid value encountered in divide\n",
      "  scores = np.mean(np.abs(a - b) / divisor, axis=2)\n",
      "/home/zeus/miniconda3/envs/cloudspace/lib/python3.10/site-packages/autots/tools/seasonal.py:896: RuntimeWarning: invalid value encountered in divide\n",
      "  scores = np.mean(np.abs(a - b) / divisor, axis=2)\n",
      "/home/zeus/miniconda3/envs/cloudspace/lib/python3.10/site-packages/autots/tools/seasonal.py:896: RuntimeWarning: invalid value encountered in divide\n",
      "  scores = np.mean(np.abs(a - b) / divisor, axis=2)\n",
      "/home/zeus/miniconda3/envs/cloudspace/lib/python3.10/site-packages/autots/tools/seasonal.py:896: RuntimeWarning: invalid value encountered in divide\n",
      "  scores = np.mean(np.abs(a - b) / divisor, axis=2)\n",
      "/home/zeus/miniconda3/envs/cloudspace/lib/python3.10/site-packages/autots/tools/seasonal.py:896: RuntimeWarning: invalid value encountered in divide\n",
      "  scores = np.mean(np.abs(a - b) / divisor, axis=2)\n",
      "/home/zeus/miniconda3/envs/cloudspace/lib/python3.10/site-packages/autots/tools/seasonal.py:896: RuntimeWarning: invalid value encountered in divide\n",
      "  scores = np.mean(np.abs(a - b) / divisor, axis=2)\n",
      "/home/zeus/miniconda3/envs/cloudspace/lib/python3.10/site-packages/autots/tools/seasonal.py:896: RuntimeWarning: invalid value encountered in divide\n",
      "  scores = np.mean(np.abs(a - b) / divisor, axis=2)\n"
     ]
    },
    {
     "name": "stdout",
     "output_type": "stream",
     "text": [
      "85 - Ensemble with avg smape 10.64: \n",
      "86 - Ensemble with avg smape 10.64: \n",
      "87 - Ensemble with avg smape 10.68: \n",
      "88 - Ensemble with avg smape 10.64: \n",
      "89 - Ensemble with avg smape 10.75: \n",
      "90 - Ensemble with avg smape 10.84: \n",
      "91 - Ensemble with avg smape 10.71: \n",
      "92 - Ensemble with avg smape 10.71: \n",
      "93 - Ensemble with avg smape 10.84: \n",
      "94 - Ensemble with avg smape 10.73: \n",
      "95 - Ensemble with avg smape 10.65: \n",
      "96 - Ensemble with avg smape 10.63: \n",
      "97 - Ensemble with avg smape 19.83: \n",
      "98 - Ensemble with avg smape 10.57: \n",
      "Model Number: 99 of 176 with model Ensemble for Validation 1\n"
     ]
    },
    {
     "name": "stderr",
     "output_type": "stream",
     "text": [
      "/home/zeus/miniconda3/envs/cloudspace/lib/python3.10/site-packages/autots/tools/seasonal.py:896: RuntimeWarning: invalid value encountered in divide\n",
      "  scores = np.mean(np.abs(a - b) / divisor, axis=2)\n",
      "/home/zeus/miniconda3/envs/cloudspace/lib/python3.10/site-packages/autots/tools/seasonal.py:896: RuntimeWarning: invalid value encountered in divide\n",
      "  scores = np.mean(np.abs(a - b) / divisor, axis=2)\n",
      "/home/zeus/miniconda3/envs/cloudspace/lib/python3.10/site-packages/autots/tools/seasonal.py:896: RuntimeWarning: invalid value encountered in divide\n",
      "  scores = np.mean(np.abs(a - b) / divisor, axis=2)\n",
      "/home/zeus/miniconda3/envs/cloudspace/lib/python3.10/site-packages/autots/tools/seasonal.py:896: RuntimeWarning: invalid value encountered in divide\n",
      "  scores = np.mean(np.abs(a - b) / divisor, axis=2)\n",
      "/home/zeus/miniconda3/envs/cloudspace/lib/python3.10/site-packages/autots/tools/seasonal.py:896: RuntimeWarning: invalid value encountered in divide\n",
      "  scores = np.mean(np.abs(a - b) / divisor, axis=2)\n",
      "/home/zeus/miniconda3/envs/cloudspace/lib/python3.10/site-packages/autots/tools/seasonal.py:896: RuntimeWarning: invalid value encountered in divide\n",
      "  scores = np.mean(np.abs(a - b) / divisor, axis=2)\n",
      "/home/zeus/miniconda3/envs/cloudspace/lib/python3.10/site-packages/autots/tools/seasonal.py:896: RuntimeWarning: invalid value encountered in divide\n",
      "  scores = np.mean(np.abs(a - b) / divisor, axis=2)\n",
      "/home/zeus/miniconda3/envs/cloudspace/lib/python3.10/site-packages/autots/tools/seasonal.py:896: RuntimeWarning: invalid value encountered in divide\n",
      "  scores = np.mean(np.abs(a - b) / divisor, axis=2)\n",
      "/home/zeus/miniconda3/envs/cloudspace/lib/python3.10/site-packages/autots/tools/seasonal.py:896: RuntimeWarning: invalid value encountered in divide\n",
      "  scores = np.mean(np.abs(a - b) / divisor, axis=2)\n",
      "/home/zeus/miniconda3/envs/cloudspace/lib/python3.10/site-packages/autots/tools/seasonal.py:896: RuntimeWarning: invalid value encountered in divide\n",
      "  scores = np.mean(np.abs(a - b) / divisor, axis=2)\n",
      "/home/zeus/miniconda3/envs/cloudspace/lib/python3.10/site-packages/autots/tools/seasonal.py:896: RuntimeWarning: invalid value encountered in divide\n",
      "  scores = np.mean(np.abs(a - b) / divisor, axis=2)\n",
      "/home/zeus/miniconda3/envs/cloudspace/lib/python3.10/site-packages/autots/tools/seasonal.py:896: RuntimeWarning: invalid value encountered in divide\n",
      "  scores = np.mean(np.abs(a - b) / divisor, axis=2)\n",
      "/home/zeus/miniconda3/envs/cloudspace/lib/python3.10/site-packages/autots/tools/seasonal.py:896: RuntimeWarning: invalid value encountered in divide\n",
      "  scores = np.mean(np.abs(a - b) / divisor, axis=2)\n",
      "/home/zeus/miniconda3/envs/cloudspace/lib/python3.10/site-packages/autots/tools/seasonal.py:896: RuntimeWarning: invalid value encountered in divide\n",
      "  scores = np.mean(np.abs(a - b) / divisor, axis=2)\n",
      "/home/zeus/miniconda3/envs/cloudspace/lib/python3.10/site-packages/autots/tools/seasonal.py:896: RuntimeWarning: invalid value encountered in divide\n",
      "  scores = np.mean(np.abs(a - b) / divisor, axis=2)\n"
     ]
    },
    {
     "name": "stdout",
     "output_type": "stream",
     "text": [
      "99 - Ensemble with avg smape 10.64: \n",
      "100 - Ensemble with avg smape 10.64: \n",
      "101 - Ensemble with avg smape 10.68: \n",
      "102 - Ensemble with avg smape 10.64: \n",
      "103 - Ensemble with avg smape 10.75: \n",
      "104 - Ensemble with avg smape 10.84: \n",
      "105 - Ensemble with avg smape 10.71: \n",
      "106 - Ensemble with avg smape 10.71: \n",
      "107 - Ensemble with avg smape 10.84: \n",
      "108 - Ensemble with avg smape 10.73: \n",
      "109 - Ensemble with avg smape 10.65: \n",
      "110 - Ensemble with avg smape 10.63: \n",
      "111 - Ensemble with avg smape 19.83: \n",
      "112 - Ensemble with avg smape 10.57: \n",
      "Model Number: 113 of 176 with model SectionalMotif for Validation 1\n",
      "113 - SectionalMotif with avg smape 10.64: \n",
      "Model Number: 114 of 176 with model SectionalMotif for Validation 1\n",
      "114 - SectionalMotif with avg smape 10.62: \n",
      "Model Number: 115 of 176 with model SectionalMotif for Validation 1\n",
      "115 - SectionalMotif with avg smape 10.64: \n",
      "Model Number: 116 of 176 with model SectionalMotif for Validation 1\n"
     ]
    },
    {
     "name": "stderr",
     "output_type": "stream",
     "text": [
      "/home/zeus/miniconda3/envs/cloudspace/lib/python3.10/site-packages/autots/tools/seasonal.py:896: RuntimeWarning: invalid value encountered in divide\n",
      "  scores = np.mean(np.abs(a - b) / divisor, axis=2)\n",
      "/home/zeus/miniconda3/envs/cloudspace/lib/python3.10/site-packages/autots/tools/seasonal.py:896: RuntimeWarning: invalid value encountered in divide\n",
      "  scores = np.mean(np.abs(a - b) / divisor, axis=2)\n",
      "/home/zeus/miniconda3/envs/cloudspace/lib/python3.10/site-packages/autots/tools/seasonal.py:896: RuntimeWarning: invalid value encountered in divide\n",
      "  scores = np.mean(np.abs(a - b) / divisor, axis=2)\n",
      "/home/zeus/miniconda3/envs/cloudspace/lib/python3.10/site-packages/autots/tools/seasonal.py:896: RuntimeWarning: invalid value encountered in divide\n",
      "  scores = np.mean(np.abs(a - b) / divisor, axis=2)\n",
      "/home/zeus/miniconda3/envs/cloudspace/lib/python3.10/site-packages/autots/tools/seasonal.py:896: RuntimeWarning: invalid value encountered in divide\n",
      "  scores = np.mean(np.abs(a - b) / divisor, axis=2)\n",
      "/home/zeus/miniconda3/envs/cloudspace/lib/python3.10/site-packages/autots/tools/seasonal.py:896: RuntimeWarning: invalid value encountered in divide\n",
      "  scores = np.mean(np.abs(a - b) / divisor, axis=2)\n",
      "/home/zeus/miniconda3/envs/cloudspace/lib/python3.10/site-packages/autots/tools/seasonal.py:896: RuntimeWarning: invalid value encountered in divide\n",
      "  scores = np.mean(np.abs(a - b) / divisor, axis=2)\n",
      "/home/zeus/miniconda3/envs/cloudspace/lib/python3.10/site-packages/autots/tools/seasonal.py:896: RuntimeWarning: invalid value encountered in divide\n",
      "  scores = np.mean(np.abs(a - b) / divisor, axis=2)\n",
      "/home/zeus/miniconda3/envs/cloudspace/lib/python3.10/site-packages/autots/tools/seasonal.py:896: RuntimeWarning: invalid value encountered in divide\n",
      "  scores = np.mean(np.abs(a - b) / divisor, axis=2)\n",
      "/home/zeus/miniconda3/envs/cloudspace/lib/python3.10/site-packages/autots/tools/seasonal.py:896: RuntimeWarning: invalid value encountered in divide\n",
      "  scores = np.mean(np.abs(a - b) / divisor, axis=2)\n",
      "/home/zeus/miniconda3/envs/cloudspace/lib/python3.10/site-packages/autots/tools/seasonal.py:896: RuntimeWarning: invalid value encountered in divide\n",
      "  scores = np.mean(np.abs(a - b) / divisor, axis=2)\n",
      "/home/zeus/miniconda3/envs/cloudspace/lib/python3.10/site-packages/autots/tools/seasonal.py:896: RuntimeWarning: invalid value encountered in divide\n",
      "  scores = np.mean(np.abs(a - b) / divisor, axis=2)\n"
     ]
    },
    {
     "name": "stdout",
     "output_type": "stream",
     "text": [
      "116 - SectionalMotif with avg smape 10.64: \n",
      "Model Number: 117 of 176 with model Ensemble for Validation 1\n",
      "Traceback (most recent call last):\n",
      "  File \"/home/zeus/miniconda3/envs/cloudspace/lib/python3.10/site-packages/autots/evaluator/auto_model.py\", line 1430, in model_forecast\n",
      "    df_forecast = model_forecast(\n",
      "  File \"/home/zeus/miniconda3/envs/cloudspace/lib/python3.10/site-packages/autots/evaluator/auto_model.py\", line 1566, in model_forecast\n",
      "    return model.predict(\n",
      "  File \"/home/zeus/miniconda3/envs/cloudspace/lib/python3.10/site-packages/autots/evaluator/auto_model.py\", line 913, in predict\n",
      "    df_forecast = self.model.predict(\n",
      "  File \"/home/zeus/miniconda3/envs/cloudspace/lib/python3.10/site-packages/autots/models/basics.py\", line 1263, in predict\n",
      "    x = sliding_window_view(\n",
      "  File \"/home/zeus/miniconda3/envs/cloudspace/lib/python3.10/site-packages/autots/tools/window_functions.py\", line 461, in sliding_window_view\n",
      "    return np.lib.stride_tricks.sliding_window_view(\n",
      "  File \"/home/zeus/miniconda3/envs/cloudspace/lib/python3.10/site-packages/numpy/lib/stride_tricks.py\", line 332, in sliding_window_view\n",
      "    raise ValueError(\n",
      "ValueError: window shape cannot be larger than input array shape\n",
      "\n",
      "FAILED: Ensemble BestN component 3 of 5 UnivariateMotif with error: ValueError('window shape cannot be larger than input array shape')\n",
      "117 - Ensemble with avg smape 10.64: \n",
      "118 - Ensemble with avg smape 10.64: \n",
      "119 - Ensemble with avg smape 10.67: \n",
      "120 - Ensemble with avg smape 10.64: \n",
      "121 - Ensemble with avg smape 10.75: \n"
     ]
    },
    {
     "name": "stderr",
     "output_type": "stream",
     "text": [
      "/home/zeus/miniconda3/envs/cloudspace/lib/python3.10/site-packages/autots/tools/seasonal.py:896: RuntimeWarning: invalid value encountered in divide\n",
      "  scores = np.mean(np.abs(a - b) / divisor, axis=2)\n",
      "/home/zeus/miniconda3/envs/cloudspace/lib/python3.10/site-packages/autots/tools/seasonal.py:896: RuntimeWarning: invalid value encountered in divide\n",
      "  scores = np.mean(np.abs(a - b) / divisor, axis=2)\n",
      "/home/zeus/miniconda3/envs/cloudspace/lib/python3.10/site-packages/autots/tools/seasonal.py:896: RuntimeWarning: invalid value encountered in divide\n",
      "  scores = np.mean(np.abs(a - b) / divisor, axis=2)\n",
      "/home/zeus/miniconda3/envs/cloudspace/lib/python3.10/site-packages/autots/tools/seasonal.py:896: RuntimeWarning: invalid value encountered in divide\n",
      "  scores = np.mean(np.abs(a - b) / divisor, axis=2)\n",
      "/home/zeus/miniconda3/envs/cloudspace/lib/python3.10/site-packages/autots/tools/seasonal.py:896: RuntimeWarning: invalid value encountered in divide\n",
      "  scores = np.mean(np.abs(a - b) / divisor, axis=2)\n",
      "/home/zeus/miniconda3/envs/cloudspace/lib/python3.10/site-packages/autots/tools/seasonal.py:896: RuntimeWarning: invalid value encountered in divide\n",
      "  scores = np.mean(np.abs(a - b) / divisor, axis=2)\n"
     ]
    },
    {
     "name": "stdout",
     "output_type": "stream",
     "text": [
      "122 - Ensemble with avg smape 10.84: \n",
      "123 - Ensemble with avg smape 10.71: \n",
      "124 - Ensemble with avg smape 10.71: \n",
      "125 - Ensemble with avg smape 10.84: \n",
      "126 - Ensemble with avg smape 10.73: \n",
      "127 - Ensemble with avg smape 10.65: \n",
      "128 - Ensemble with avg smape 10.63: \n",
      "129 - Ensemble with avg smape 19.83: \n",
      "130 - Ensemble with avg smape 10.57: \n",
      "Model Number: 131 of 176 with model Ensemble for Validation 1\n",
      "Traceback (most recent call last):\n",
      "  File \"/home/zeus/miniconda3/envs/cloudspace/lib/python3.10/site-packages/autots/evaluator/auto_model.py\", line 1430, in model_forecast\n",
      "    df_forecast = model_forecast(\n",
      "  File \"/home/zeus/miniconda3/envs/cloudspace/lib/python3.10/site-packages/autots/evaluator/auto_model.py\", line 1566, in model_forecast\n",
      "    return model.predict(\n",
      "  File \"/home/zeus/miniconda3/envs/cloudspace/lib/python3.10/site-packages/autots/evaluator/auto_model.py\", line 913, in predict\n",
      "    df_forecast = self.model.predict(\n",
      "  File \"/home/zeus/miniconda3/envs/cloudspace/lib/python3.10/site-packages/autots/models/basics.py\", line 1263, in predict\n",
      "    x = sliding_window_view(\n",
      "  File \"/home/zeus/miniconda3/envs/cloudspace/lib/python3.10/site-packages/autots/tools/window_functions.py\", line 461, in sliding_window_view\n",
      "    return np.lib.stride_tricks.sliding_window_view(\n",
      "  File \"/home/zeus/miniconda3/envs/cloudspace/lib/python3.10/site-packages/numpy/lib/stride_tricks.py\", line 332, in sliding_window_view\n",
      "    raise ValueError(\n",
      "ValueError: window shape cannot be larger than input array shape\n",
      "\n",
      "FAILED: Ensemble BestN component 3 of 5 UnivariateMotif with error: ValueError('window shape cannot be larger than input array shape')\n",
      "131 - Ensemble with avg smape 10.64: \n",
      "132 - Ensemble with avg smape 10.64: \n",
      "133 - Ensemble with avg smape 10.67: \n",
      "134 - Ensemble with avg smape 10.64: \n",
      "135 - Ensemble with avg smape 10.75: \n"
     ]
    },
    {
     "name": "stderr",
     "output_type": "stream",
     "text": [
      "/home/zeus/miniconda3/envs/cloudspace/lib/python3.10/site-packages/autots/tools/seasonal.py:896: RuntimeWarning: invalid value encountered in divide\n",
      "  scores = np.mean(np.abs(a - b) / divisor, axis=2)\n",
      "/home/zeus/miniconda3/envs/cloudspace/lib/python3.10/site-packages/autots/tools/seasonal.py:896: RuntimeWarning: invalid value encountered in divide\n",
      "  scores = np.mean(np.abs(a - b) / divisor, axis=2)\n",
      "/home/zeus/miniconda3/envs/cloudspace/lib/python3.10/site-packages/autots/tools/seasonal.py:896: RuntimeWarning: invalid value encountered in divide\n",
      "  scores = np.mean(np.abs(a - b) / divisor, axis=2)\n",
      "/home/zeus/miniconda3/envs/cloudspace/lib/python3.10/site-packages/autots/tools/seasonal.py:896: RuntimeWarning: invalid value encountered in divide\n",
      "  scores = np.mean(np.abs(a - b) / divisor, axis=2)\n",
      "/home/zeus/miniconda3/envs/cloudspace/lib/python3.10/site-packages/autots/tools/seasonal.py:896: RuntimeWarning: invalid value encountered in divide\n",
      "  scores = np.mean(np.abs(a - b) / divisor, axis=2)\n",
      "/home/zeus/miniconda3/envs/cloudspace/lib/python3.10/site-packages/autots/tools/seasonal.py:896: RuntimeWarning: invalid value encountered in divide\n",
      "  scores = np.mean(np.abs(a - b) / divisor, axis=2)\n",
      "/home/zeus/miniconda3/envs/cloudspace/lib/python3.10/site-packages/autots/tools/seasonal.py:896: RuntimeWarning: invalid value encountered in divide\n",
      "  scores = np.mean(np.abs(a - b) / divisor, axis=2)\n",
      "/home/zeus/miniconda3/envs/cloudspace/lib/python3.10/site-packages/autots/tools/seasonal.py:896: RuntimeWarning: invalid value encountered in divide\n",
      "  scores = np.mean(np.abs(a - b) / divisor, axis=2)\n",
      "/home/zeus/miniconda3/envs/cloudspace/lib/python3.10/site-packages/autots/tools/seasonal.py:896: RuntimeWarning: invalid value encountered in divide\n",
      "  scores = np.mean(np.abs(a - b) / divisor, axis=2)\n"
     ]
    },
    {
     "name": "stdout",
     "output_type": "stream",
     "text": [
      "136 - Ensemble with avg smape 10.84: \n",
      "137 - Ensemble with avg smape 10.71: \n",
      "138 - Ensemble with avg smape 10.71: \n",
      "139 - Ensemble with avg smape 10.84: \n",
      "140 - Ensemble with avg smape 10.73: \n",
      "141 - Ensemble with avg smape 10.65: \n",
      "142 - Ensemble with avg smape 10.63: \n",
      "143 - Ensemble with avg smape 19.83: \n",
      "144 - Ensemble with avg smape 10.57: \n",
      "Model Number: 145 of 176 with model SectionalMotif for Validation 1\n",
      "145 - SectionalMotif with avg smape 10.62: \n",
      "Model Number: 146 of 176 with model SectionalMotif for Validation 1\n",
      "146 - SectionalMotif with avg smape 10.62: \n",
      "Model Number: 147 of 176 with model SectionalMotif for Validation 1\n",
      "147 - SectionalMotif with avg smape 10.62: \n",
      "Model Number: 148 of 176 with model SectionalMotif for Validation 1\n",
      "148 - SectionalMotif with avg smape 10.62: \n",
      "Model Number: 149 of 176 with model SectionalMotif for Validation 1\n",
      "149 - SectionalMotif with avg smape 10.62: \n",
      "Model Number: 150 of 176 with model SectionalMotif for Validation 1\n",
      "150 - SectionalMotif with avg smape 10.64: \n",
      "Model Number: 151 of 176 with model UnivariateMotif for Validation 1\n",
      "Template Eval Error: ValueError('window shape cannot be larger than input array shape') in model 151 in generation 0: UnivariateMotif\n",
      "Model Number: 152 of 176 with model ARDL for Validation 1\n"
     ]
    },
    {
     "name": "stderr",
     "output_type": "stream",
     "text": [
      "/home/zeus/miniconda3/envs/cloudspace/lib/python3.10/site-packages/autots/tools/seasonal.py:896: RuntimeWarning: invalid value encountered in divide\n",
      "  scores = np.mean(np.abs(a - b) / divisor, axis=2)\n",
      "/home/zeus/miniconda3/envs/cloudspace/lib/python3.10/site-packages/autots/tools/seasonal.py:896: RuntimeWarning: invalid value encountered in divide\n",
      "  scores = np.mean(np.abs(a - b) / divisor, axis=2)\n",
      "/home/zeus/miniconda3/envs/cloudspace/lib/python3.10/site-packages/autots/tools/seasonal.py:896: RuntimeWarning: invalid value encountered in divide\n",
      "  scores = np.mean(np.abs(a - b) / divisor, axis=2)\n",
      "/home/zeus/miniconda3/envs/cloudspace/lib/python3.10/site-packages/autots/tools/seasonal.py:896: RuntimeWarning: invalid value encountered in divide\n",
      "  scores = np.mean(np.abs(a - b) / divisor, axis=2)\n",
      "/home/zeus/miniconda3/envs/cloudspace/lib/python3.10/site-packages/autots/tools/seasonal.py:896: RuntimeWarning: invalid value encountered in divide\n",
      "  scores = np.mean(np.abs(a - b) / divisor, axis=2)\n",
      "/home/zeus/miniconda3/envs/cloudspace/lib/python3.10/site-packages/autots/tools/seasonal.py:896: RuntimeWarning: invalid value encountered in divide\n",
      "  scores = np.mean(np.abs(a - b) / divisor, axis=2)\n",
      "/home/zeus/miniconda3/envs/cloudspace/lib/python3.10/site-packages/autots/tools/seasonal.py:896: RuntimeWarning: invalid value encountered in divide\n",
      "  scores = np.mean(np.abs(a - b) / divisor, axis=2)\n",
      "/home/zeus/miniconda3/envs/cloudspace/lib/python3.10/site-packages/autots/tools/seasonal.py:896: RuntimeWarning: invalid value encountered in divide\n",
      "  scores = np.mean(np.abs(a - b) / divisor, axis=2)\n",
      "/home/zeus/miniconda3/envs/cloudspace/lib/python3.10/site-packages/autots/tools/seasonal.py:896: RuntimeWarning: invalid value encountered in divide\n",
      "  scores = np.mean(np.abs(a - b) / divisor, axis=2)\n",
      "/home/zeus/miniconda3/envs/cloudspace/lib/python3.10/site-packages/autots/tools/seasonal.py:896: RuntimeWarning: invalid value encountered in divide\n",
      "  scores = np.mean(np.abs(a - b) / divisor, axis=2)\n",
      "/home/zeus/miniconda3/envs/cloudspace/lib/python3.10/site-packages/autots/tools/seasonal.py:896: RuntimeWarning: invalid value encountered in divide\n",
      "  scores = np.mean(np.abs(a - b) / divisor, axis=2)\n",
      "/home/zeus/miniconda3/envs/cloudspace/lib/python3.10/site-packages/autots/tools/seasonal.py:896: RuntimeWarning: invalid value encountered in divide\n",
      "  scores = np.mean(np.abs(a - b) / divisor, axis=2)\n",
      "/home/zeus/miniconda3/envs/cloudspace/lib/python3.10/site-packages/autots/tools/seasonal.py:896: RuntimeWarning: invalid value encountered in divide\n",
      "  scores = np.mean(np.abs(a - b) / divisor, axis=2)\n",
      "/home/zeus/miniconda3/envs/cloudspace/lib/python3.10/site-packages/autots/tools/seasonal.py:896: RuntimeWarning: invalid value encountered in divide\n",
      "  scores = np.mean(np.abs(a - b) / divisor, axis=2)\n",
      "/home/zeus/miniconda3/envs/cloudspace/lib/python3.10/site-packages/autots/tools/seasonal.py:896: RuntimeWarning: invalid value encountered in divide\n",
      "  scores = np.mean(np.abs(a - b) / divisor, axis=2)\n"
     ]
    },
    {
     "name": "stdout",
     "output_type": "stream",
     "text": [
      "📈 152 - ARDL with avg smape 10.51: \n",
      "Model Number: 153 of 176 with model SeasonalityMotif for Validation 1\n",
      "prediction too long for indepedent=False, falling back on indepedent=True\n",
      "📈 153 - SeasonalityMotif with avg smape 10.5: \n",
      "Model Number: 154 of 176 with model SeasonalityMotif for Validation 1\n",
      "prediction too long for indepedent=False, falling back on indepedent=True\n",
      "154 - SeasonalityMotif with avg smape 10.5: \n",
      "Model Number: 155 of 176 with model SeasonalityMotif for Validation 1\n",
      "prediction too long for indepedent=False, falling back on indepedent=True\n",
      "155 - SeasonalityMotif with avg smape 10.56: \n",
      "Model Number: 156 of 176 with model FFT for Validation 1\n",
      "156 - FFT with avg smape 10.56: \n",
      "Model Number: 157 of 176 with model SeasonalityMotif for Validation 1\n",
      "prediction too long for indepedent=False, falling back on indepedent=True\n",
      "157 - SeasonalityMotif with avg smape 10.55: \n",
      "Model Number: 158 of 176 with model ARDL for Validation 1\n",
      "📈 158 - ARDL with avg smape 10.49: \n",
      "Model Number: 159 of 176 with model SeasonalityMotif for Validation 1\n",
      "prediction too long for indepedent=False, falling back on indepedent=True\n",
      "159 - SeasonalityMotif with avg smape 10.49: \n",
      "Model Number: 160 of 176 with model SeasonalityMotif for Validation 1\n",
      "prediction too long for indepedent=False, falling back on indepedent=True\n",
      "160 - SeasonalityMotif with avg smape 10.49: \n",
      "Model Number: 161 of 176 with model SeasonalityMotif for Validation 1\n",
      "prediction too long for indepedent=False, falling back on indepedent=True\n",
      "161 - SeasonalityMotif with avg smape 10.55: \n",
      "Model Number: 162 of 176 with model SeasonalityMotif for Validation 1\n",
      "prediction too long for indepedent=False, falling back on indepedent=True\n",
      "162 - SeasonalityMotif with avg smape 10.5: \n",
      "Model Number: 163 of 176 with model MetricMotif for Validation 1\n",
      "Template Eval Error: ValueError('kth(=14) out of bounds (10)') in model 163 in generation 0: MetricMotif\n",
      "Model Number: 164 of 176 with model MetricMotif for Validation 1\n",
      "Template Eval Error: ValueError('kth(=14) out of bounds (4)') in model 164 in generation 0: MetricMotif\n",
      "Model Number: 165 of 176 with model FFT for Validation 1\n",
      "165 - FFT with avg smape 10.56: \n",
      "Model Number: 166 of 176 with model SeasonalityMotif for Validation 1\n",
      "prediction too long for indepedent=False, falling back on indepedent=True\n",
      "166 - SeasonalityMotif with avg smape 10.49: \n",
      "Model Number: 167 of 176 with model BasicLinearModel for Validation 1\n",
      "167 - BasicLinearModel with avg smape 10.51: \n",
      "Model Number: 168 of 176 with model BasicLinearModel for Validation 1\n",
      "168 - BasicLinearModel with avg smape 10.55: \n",
      "Model Number: 169 of 176 with model SeasonalityMotif for Validation 1\n",
      "prediction too long for indepedent=False, falling back on indepedent=True\n",
      "169 - SeasonalityMotif with avg smape 10.55: \n",
      "Model Number: 170 of 176 with model ETS for Validation 1\n",
      "📈 170 - ETS with avg smape 10.47: \n",
      "Model Number: 171 of 176 with model MetricMotif for Validation 1\n",
      "171 - MetricMotif with avg smape 10.64: \n",
      "Model Number: 172 of 176 with model MetricMotif for Validation 1\n",
      "172 - MetricMotif with avg smape 10.64: \n",
      "Model Number: 173 of 176 with model MetricMotif for Validation 1\n"
     ]
    },
    {
     "name": "stderr",
     "output_type": "stream",
     "text": [
      "/home/zeus/miniconda3/envs/cloudspace/lib/python3.10/site-packages/sklearn/neighbors/_classification.py:233: DataConversionWarning: A column-vector y was passed when a 1d array was expected. Please change the shape of y to (n_samples,), for example using ravel().\n",
      "  return self._fit(X, y)\n"
     ]
    },
    {
     "name": "stdout",
     "output_type": "stream",
     "text": [
      "173 - MetricMotif with avg smape 10.64: \n",
      "Model Number: 174 of 176 with model ETS for Validation 1\n",
      "174 - ETS with avg smape 10.49: \n",
      "Model Number: 175 of 176 with model ETS for Validation 1\n",
      "175 - ETS with avg smape 10.58: \n",
      "Model Number: 176 of 176 with model ETS for Validation 1\n",
      "176 - ETS with avg smape 10.77: \n",
      "Model Number: 177 of 176 with model MetricMotif for Validation 1\n",
      "177 - MetricMotif with avg smape 10.49: \n",
      "Model Number: 178 of 176 with model ETS for Validation 1\n",
      "178 - ETS with avg smape 10.49: \n",
      "Model Number: 179 of 176 with model ConstantNaive for Validation 1\n",
      "179 - ConstantNaive with avg smape 10.77: \n",
      "Model Number: 180 of 176 with model MetricMotif for Validation 1\n",
      "180 - MetricMotif with avg smape 10.56: \n",
      "Model Number: 181 of 176 with model ConstantNaive for Validation 1\n",
      "181 - ConstantNaive with avg smape 10.7: \n",
      "Model Number: 182 of 176 with model MetricMotif for Validation 1\n",
      "182 - MetricMotif with avg smape 10.48: \n",
      "Model Number: 183 of 176 with model MetricMotif for Validation 1\n",
      "183 - MetricMotif with avg smape 10.48: \n",
      "Model Number: 184 of 176 with model AverageValueNaive for Validation 1\n",
      "184 - AverageValueNaive with avg smape 10.82: \n",
      "Model Number: 185 of 176 with model MetricMotif for Validation 1\n",
      "185 - MetricMotif with avg smape 10.48: \n",
      "Model Number: 186 of 176 with model LastValueNaive for Validation 1\n",
      "186 - LastValueNaive with avg smape 10.48: \n",
      "Model Number: 187 of 176 with model LastValueNaive for Validation 1\n",
      "187 - LastValueNaive with avg smape 10.48: \n",
      "Model Number: 188 of 176 with model LastValueNaive for Validation 1\n",
      "188 - LastValueNaive with avg smape 10.48: \n",
      "Model Number: 189 of 176 with model AverageValueNaive for Validation 1\n",
      "189 - AverageValueNaive with avg smape 10.48: \n",
      "Model Number: 190 of 176 with model AverageValueNaive for Validation 1\n",
      "190 - AverageValueNaive with avg smape 10.48: \n",
      "Model Number: 191 of 176 with model AverageValueNaive for Validation 1\n",
      "191 - AverageValueNaive with avg smape 10.48: \n",
      "Model Number: 192 of 176 with model BasicLinearModel for Validation 1\n",
      "192 - BasicLinearModel with avg smape 10.56: \n",
      "Model Number: 193 of 176 with model ETS for Validation 1\n",
      "193 - ETS with avg smape 10.71: \n",
      "Model Number: 194 of 176 with model AverageValueNaive for Validation 1\n",
      "194 - AverageValueNaive with avg smape 10.72: \n",
      "Model Number: 195 of 176 with model FFT for Validation 1\n",
      "195 - FFT with avg smape 10.56: \n",
      "Model Number: 196 of 176 with model AverageValueNaive for Validation 1\n",
      "196 - AverageValueNaive with avg smape 10.79: \n",
      "Model Number: 197 of 176 with model AverageValueNaive for Validation 1\n",
      "197 - AverageValueNaive with avg smape 10.49: \n",
      "Model Number: 198 of 176 with model BasicLinearModel for Validation 1\n",
      "198 - BasicLinearModel with avg smape 10.55: \n",
      "Model Number: 199 of 176 with model ETS for Validation 1\n",
      "199 - ETS with avg smape 10.49: \n",
      "Model Number: 200 of 176 with model SeasonalNaive for Validation 1\n",
      "200 - SeasonalNaive with avg smape 10.89: \n",
      "Model Number: 201 of 176 with model BasicLinearModel for Validation 1\n"
     ]
    },
    {
     "name": "stderr",
     "output_type": "stream",
     "text": [
      "/home/zeus/miniconda3/envs/cloudspace/lib/python3.10/site-packages/sklearn/linear_model/_ridge.py:200: LinAlgWarning: Ill-conditioned matrix (rcond=1.51103e-24): result may not be accurate.\n",
      "  return linalg.solve(A, Xy, assume_a=\"pos\", overwrite_a=True).T\n"
     ]
    },
    {
     "name": "stdout",
     "output_type": "stream",
     "text": [
      "201 - BasicLinearModel with avg smape 10.52: \n",
      "Model Number: 202 of 176 with model SeasonalNaive for Validation 1\n",
      "202 - SeasonalNaive with avg smape 10.64: \n",
      "Model Number: 203 of 176 with model SeasonalNaive for Validation 1\n",
      "203 - SeasonalNaive with avg smape 10.64: \n",
      "Model Number: 204 of 176 with model UnivariateMotif for Validation 1\n",
      "Template Eval Error: ValueError('window shape cannot be larger than input array shape') in model 204 in generation 0: UnivariateMotif\n",
      "Model Number: 205 of 176 with model ARDL for Validation 1\n",
      "205 - ARDL with avg smape 10.7: \n",
      "Model Number: 206 of 176 with model BasicLinearModel for Validation 1\n"
     ]
    },
    {
     "name": "stderr",
     "output_type": "stream",
     "text": [
      "/home/zeus/miniconda3/envs/cloudspace/lib/python3.10/site-packages/sklearn/linear_model/_ridge.py:200: LinAlgWarning: Ill-conditioned matrix (rcond=1.51103e-24): result may not be accurate.\n",
      "  return linalg.solve(A, Xy, assume_a=\"pos\", overwrite_a=True).T\n"
     ]
    },
    {
     "name": "stdout",
     "output_type": "stream",
     "text": [
      "206 - BasicLinearModel with avg smape 10.47: \n",
      "Model Number: 207 of 176 with model SeasonalNaive for Validation 1\n",
      "207 - SeasonalNaive with avg smape 10.71: \n",
      "Model Number: 208 of 176 with model SeasonalNaive for Validation 1\n",
      "208 - SeasonalNaive with avg smape 10.71: \n",
      "Model Number: 209 of 176 with model SeasonalNaive for Validation 1\n",
      "209 - SeasonalNaive with avg smape 123.32: \n",
      "Model Number: 210 of 176 with model ARDL for Validation 1\n",
      "210 - ARDL with avg smape 10.7: \n",
      "Model Number: 211 of 176 with model SeasonalNaive for Validation 1\n",
      "211 - SeasonalNaive with avg smape 10.55: \n",
      "Model Number: 212 of 176 with model AverageValueNaive for Validation 1\n",
      "212 - AverageValueNaive with avg smape 10.71: \n",
      "Model Number: 213 of 176 with model AverageValueNaive for Validation 1\n",
      "213 - AverageValueNaive with avg smape 10.71: \n",
      "Model Number: 214 of 176 with model AverageValueNaive for Validation 1\n",
      "214 - AverageValueNaive with avg smape 10.71: \n",
      "Model Number: 215 of 176 with model LastValueNaive for Validation 1\n",
      "215 - LastValueNaive with avg smape 10.71: \n",
      "Model Number: 216 of 176 with model LastValueNaive for Validation 1\n",
      "216 - LastValueNaive with avg smape 10.71: \n",
      "Model Number: 217 of 176 with model LastValueNaive for Validation 1\n",
      "217 - LastValueNaive with avg smape 10.71: \n",
      "Model Number: 218 of 176 with model LastValueNaive for Validation 1\n",
      "218 - LastValueNaive with avg smape 10.71: \n",
      "Model Number: 219 of 176 with model LastValueNaive for Validation 1\n",
      "219 - LastValueNaive with avg smape 10.71: \n",
      "Model Number: 220 of 176 with model LastValueNaive for Validation 1\n",
      "220 - LastValueNaive with avg smape 10.71: \n",
      "Model Number: 221 of 176 with model LastValueNaive for Validation 1\n",
      "221 - LastValueNaive with avg smape 10.71: \n",
      "Model Number: 222 of 176 with model SeasonalNaive for Validation 1\n",
      "222 - SeasonalNaive with avg smape 10.66: \n",
      "Model Number: 223 of 176 with model SeasonalNaive for Validation 1\n",
      "223 - SeasonalNaive with avg smape 10.71: \n",
      "Model Number: 224 of 176 with model GLS for Validation 1\n",
      "224 - GLS with avg smape 10.71: \n",
      "Model Number: 225 of 176 with model ARDL for Validation 1\n",
      "225 - ARDL with avg smape 10.68: \n",
      "Model Number: 226 of 176 with model ARDL for Validation 1\n",
      "226 - ARDL with avg smape 10.48: \n",
      "Model Number: 227 of 176 with model UnivariateMotif for Validation 1\n",
      "Template Eval Error: ValueError('window shape cannot be larger than input array shape') in model 227 in generation 0: UnivariateMotif\n",
      "Model Number: 228 of 176 with model ConstantNaive for Validation 1\n",
      "228 - ConstantNaive with avg smape 10.68: \n",
      "Model Number: 229 of 176 with model ConstantNaive for Validation 1\n",
      "229 - ConstantNaive with avg smape 10.68: \n",
      "Model Number: 230 of 176 with model BasicLinearModel for Validation 1\n"
     ]
    },
    {
     "name": "stderr",
     "output_type": "stream",
     "text": [
      "/home/zeus/miniconda3/envs/cloudspace/lib/python3.10/site-packages/sklearn/linear_model/_ridge.py:200: LinAlgWarning: Ill-conditioned matrix (rcond=1.51103e-24): result may not be accurate.\n",
      "  return linalg.solve(A, Xy, assume_a=\"pos\", overwrite_a=True).T\n"
     ]
    },
    {
     "name": "stdout",
     "output_type": "stream",
     "text": [
      "230 - BasicLinearModel with avg smape 10.49: \n",
      "Model Number: 231 of 176 with model ETS for Validation 1\n",
      "231 - ETS with avg smape 10.71: \n",
      "Model Number: 232 of 176 with model ETS for Validation 1\n",
      "232 - ETS with avg smape 10.71: \n",
      "Model Number: 233 of 176 with model ETS for Validation 1\n",
      "233 - ETS with avg smape 10.71: \n",
      "Model Number: 234 of 176 with model UnivariateMotif for Validation 1\n",
      "Template Eval Error: ValueError('window shape cannot be larger than input array shape') in model 234 in generation 0: UnivariateMotif\n",
      "Model Number: 235 of 176 with model BasicLinearModel for Validation 1\n",
      "235 - BasicLinearModel with avg smape 10.67: \n",
      "Model Number: 236 of 176 with model BasicLinearModel for Validation 1\n"
     ]
    },
    {
     "name": "stderr",
     "output_type": "stream",
     "text": [
      "/home/zeus/miniconda3/envs/cloudspace/lib/python3.10/site-packages/sklearn/linear_model/_ridge.py:200: LinAlgWarning: Ill-conditioned matrix (rcond=1.51103e-24): result may not be accurate.\n",
      "  return linalg.solve(A, Xy, assume_a=\"pos\", overwrite_a=True).T\n"
     ]
    },
    {
     "name": "stdout",
     "output_type": "stream",
     "text": [
      "236 - BasicLinearModel with avg smape 10.53: \n",
      "Model Number: 237 of 176 with model ConstantNaive for Validation 1\n",
      "237 - ConstantNaive with avg smape 10.7: \n",
      "Model Number: 238 of 176 with model BasicLinearModel for Validation 1\n",
      "238 - BasicLinearModel with avg smape 10.69: \n",
      "Model Number: 239 of 176 with model ConstantNaive for Validation 1\n",
      "239 - ConstantNaive with avg smape 10.71: \n",
      "Model Number: 240 of 176 with model SeasonalNaive for Validation 1\n",
      "240 - SeasonalNaive with avg smape 10.71: \n",
      "Model Number: 241 of 176 with model ConstantNaive for Validation 1\n",
      "241 - ConstantNaive with avg smape 10.71: \n",
      "Model Number: 242 of 176 with model ConstantNaive for Validation 1\n",
      "242 - ConstantNaive with avg smape 10.71: \n",
      "Model Number: 243 of 176 with model ConstantNaive for Validation 1\n",
      "243 - ConstantNaive with avg smape 10.71: \n",
      "Model Number: 244 of 176 with model ConstantNaive for Validation 1\n",
      "244 - ConstantNaive with avg smape 10.71: \n",
      "Model Number: 245 of 176 with model UnivariateMotif for Validation 1\n",
      "Template Eval Error: ValueError('window shape cannot be larger than input array shape') in model 245 in generation 0: UnivariateMotif\n",
      "Model Number: 246 of 176 with model UnivariateMotif for Validation 1\n",
      "Template Eval Error: ValueError('window shape cannot be larger than input array shape') in model 246 in generation 0: UnivariateMotif\n",
      "Model Number: 247 of 176 with model UnivariateMotif for Validation 1\n",
      "Template Eval Error: ValueError('window shape cannot be larger than input array shape') in model 247 in generation 0: UnivariateMotif\n",
      "Model Number: 248 of 176 with model UnivariateMotif for Validation 1\n",
      "Template Eval Error: ValueError('window shape cannot be larger than input array shape') in model 248 in generation 0: UnivariateMotif\n",
      "Model Number: 249 of 176 with model UnivariateMotif for Validation 1\n",
      "Template Eval Error: ValueError('window shape cannot be larger than input array shape') in model 249 in generation 0: UnivariateMotif\n",
      "Model Number: 250 of 176 with model ARDL for Validation 1\n",
      "250 - ARDL with avg smape 10.53: \n",
      "Model Number: 251 of 176 with model UnivariateMotif for Validation 1\n",
      "Template Eval Error: ValueError('window shape cannot be larger than input array shape') in model 251 in generation 0: UnivariateMotif\n",
      "Model Number: 252 of 176 with model FFT for Validation 1\n",
      "252 - FFT with avg smape 10.48: \n",
      "Model Number: 253 of 176 with model GLM for Validation 1\n",
      "Template Eval Error: ValueError(\"Model returned NaN due to a preprocessing transformer {'fillna': 'fake_date', 'transformations': {'0': 'STLFilter', '1': 'DiffSmoother', '2': 'PowerTransformer', '3': 'AlignLastValue'}, 'transformation_params': {'0': {'decomp_type': 'seasonal_decompose', 'part': 'trend'}, '1': {'method': 'EE', 'method_params': {'contamination': 0.15, 'assume_centered': False, 'support_fraction': None}, 'transform_dict': None, 'reverse_alignment': False, 'isolated_only': False, 'fillna': 'rolling_mean_24'}, '2': {}, '3': {'rows': 1, 'lag': 1, 'method': 'additive', 'strength': 0.7, 'first_value_only': False, 'threshold': 10, 'threshold_method': 'mean'}}}. fail_on_forecast_nan=True\") in model 253 in generation 0: GLM\n",
      "Model Number: 254 of 176 with model GLS for Validation 1\n"
     ]
    },
    {
     "name": "stderr",
     "output_type": "stream",
     "text": [
      "/home/zeus/miniconda3/envs/cloudspace/lib/python3.10/site-packages/statsmodels/genmod/generalized_linear_model.py:1342: PerfectSeparationWarning: Perfect separation or prediction detected, parameter may not be identified\n",
      "  warnings.warn(msg, category=PerfectSeparationWarning)\n",
      "/home/zeus/miniconda3/envs/cloudspace/lib/python3.10/site-packages/statsmodels/genmod/generalized_linear_model.py:1342: PerfectSeparationWarning: Perfect separation or prediction detected, parameter may not be identified\n",
      "  warnings.warn(msg, category=PerfectSeparationWarning)\n",
      "/home/zeus/miniconda3/envs/cloudspace/lib/python3.10/site-packages/statsmodels/genmod/generalized_linear_model.py:1342: PerfectSeparationWarning: Perfect separation or prediction detected, parameter may not be identified\n",
      "  warnings.warn(msg, category=PerfectSeparationWarning)\n",
      "/home/zeus/miniconda3/envs/cloudspace/lib/python3.10/site-packages/statsmodels/genmod/generalized_linear_model.py:1342: PerfectSeparationWarning: Perfect separation or prediction detected, parameter may not be identified\n",
      "  warnings.warn(msg, category=PerfectSeparationWarning)\n",
      "/home/zeus/miniconda3/envs/cloudspace/lib/python3.10/site-packages/statsmodels/genmod/generalized_linear_model.py:1342: PerfectSeparationWarning: Perfect separation or prediction detected, parameter may not be identified\n",
      "  warnings.warn(msg, category=PerfectSeparationWarning)\n",
      "/home/zeus/miniconda3/envs/cloudspace/lib/python3.10/site-packages/statsmodels/genmod/generalized_linear_model.py:1342: PerfectSeparationWarning: Perfect separation or prediction detected, parameter may not be identified\n",
      "  warnings.warn(msg, category=PerfectSeparationWarning)\n",
      "/home/zeus/miniconda3/envs/cloudspace/lib/python3.10/site-packages/statsmodels/genmod/generalized_linear_model.py:1342: PerfectSeparationWarning: Perfect separation or prediction detected, parameter may not be identified\n",
      "  warnings.warn(msg, category=PerfectSeparationWarning)\n",
      "/home/zeus/miniconda3/envs/cloudspace/lib/python3.10/site-packages/numpy/lib/function_base.py:2897: RuntimeWarning: invalid value encountered in divide\n",
      "  c /= stddev[:, None]\n",
      "/home/zeus/miniconda3/envs/cloudspace/lib/python3.10/site-packages/numpy/lib/function_base.py:2898: RuntimeWarning: invalid value encountered in divide\n",
      "  c /= stddev[None, :]\n"
     ]
    },
    {
     "name": "stdout",
     "output_type": "stream",
     "text": [
      "254 - GLS with avg smape 10.9: \n",
      "Model Number: 255 of 176 with model Cassandra for Validation 1\n",
      "255 - Cassandra with avg smape 10.47: \n",
      "Model Number: 256 of 176 with model GLS for Validation 1\n",
      "256 - GLS with avg smape 10.93: \n",
      "Model Number: 257 of 176 with model GLS for Validation 1\n",
      "257 - GLS with avg smape 10.93: \n",
      "Model Number: 258 of 176 with model ARDL for Validation 1\n",
      "258 - ARDL with avg smape 10.92: \n",
      "Model Number: 259 of 176 with model GLS for Validation 1\n",
      "259 - GLS with avg smape 10.92: \n",
      "Model Number: 260 of 176 with model RRVAR for Validation 1\n",
      "260 - RRVAR with avg smape 10.92: \n",
      "Model Number: 261 of 176 with model RRVAR for Validation 1\n",
      "261 - RRVAR with avg smape 10.92: \n",
      "Model Number: 262 of 176 with model RRVAR for Validation 1\n",
      "262 - RRVAR with avg smape 10.92: \n",
      "Model Number: 263 of 176 with model ARDL for Validation 1\n",
      "263 - ARDL with avg smape 10.85: \n",
      "Model Number: 264 of 176 with model GLS for Validation 1\n",
      "264 - GLS with avg smape 10.93: \n",
      "Model Number: 265 of 176 with model ARDL for Validation 1\n",
      "265 - ARDL with avg smape 10.57: \n",
      "Model Number: 266 of 176 with model Cassandra for Validation 1\n",
      "266 - Cassandra with avg smape 10.5: \n",
      "Model Number: 267 of 176 with model DatepartRegression for Validation 1\n"
     ]
    },
    {
     "name": "stderr",
     "output_type": "stream",
     "text": [
      "/home/zeus/miniconda3/envs/cloudspace/lib/python3.10/site-packages/numpy/lib/function_base.py:2897: RuntimeWarning: invalid value encountered in divide\n",
      "  c /= stddev[:, None]\n",
      "/home/zeus/miniconda3/envs/cloudspace/lib/python3.10/site-packages/numpy/lib/function_base.py:2898: RuntimeWarning: invalid value encountered in divide\n",
      "  c /= stddev[None, :]\n"
     ]
    },
    {
     "name": "stdout",
     "output_type": "stream",
     "text": [
      "267 - DatepartRegression with avg smape 10.74: \n",
      "Model Number: 268 of 176 with model GLS for Validation 1\n",
      "268 - GLS with avg smape 10.71: \n",
      "Model Number: 269 of 176 with model GLS for Validation 1\n",
      "269 - GLS with avg smape 10.71: \n",
      "Model Number: 270 of 176 with model GLS for Validation 1\n",
      "270 - GLS with avg smape 10.93: \n",
      "Model Number: 271 of 176 with model DatepartRegression for Validation 1\n",
      "271 - DatepartRegression with avg smape 10.58: \n",
      "Model Number: 272 of 176 with model RRVAR for Validation 1\n"
     ]
    },
    {
     "name": "stderr",
     "output_type": "stream",
     "text": [
      "/home/zeus/miniconda3/envs/cloudspace/lib/python3.10/site-packages/sklearn/svm/_classes.py:32: FutureWarning: The default value of `dual` will change from `True` to `'auto'` in 1.5. Set the value of `dual` explicitly to suppress the warning.\n",
      "  warnings.warn(\n",
      "/home/zeus/miniconda3/envs/cloudspace/lib/python3.10/site-packages/sklearn/svm/_base.py:1250: ConvergenceWarning: Liblinear failed to converge, increase the number of iterations.\n",
      "  warnings.warn(\n"
     ]
    },
    {
     "name": "stdout",
     "output_type": "stream",
     "text": [
      "272 - RRVAR with avg smape 10.91: \n",
      "Model Number: 273 of 176 with model FFT for Validation 1\n",
      "273 - FFT with avg smape 10.52: \n",
      "Model Number: 274 of 176 with model GLS for Validation 1\n",
      "274 - GLS with avg smape 11.32: \n",
      "Model Number: 275 of 176 with model RRVAR for Validation 1\n",
      "275 - RRVAR with avg smape 10.5: \n",
      "Model Number: 276 of 176 with model RRVAR for Validation 1\n",
      "276 - RRVAR with avg smape 10.5: \n",
      "Model Number: 277 of 176 with model DatepartRegression for Validation 1\n",
      "277 - DatepartRegression with avg smape 10.52: \n",
      "Model Number: 278 of 176 with model DatepartRegression for Validation 1\n"
     ]
    },
    {
     "name": "stderr",
     "output_type": "stream",
     "text": [
      "/home/zeus/miniconda3/envs/cloudspace/lib/python3.10/site-packages/sklearn/svm/_classes.py:32: FutureWarning: The default value of `dual` will change from `True` to `'auto'` in 1.5. Set the value of `dual` explicitly to suppress the warning.\n",
      "  warnings.warn(\n",
      "/home/zeus/miniconda3/envs/cloudspace/lib/python3.10/site-packages/sklearn/svm/_base.py:1250: ConvergenceWarning: Liblinear failed to converge, increase the number of iterations.\n",
      "  warnings.warn(\n"
     ]
    },
    {
     "name": "stdout",
     "output_type": "stream",
     "text": [
      "278 - DatepartRegression with avg smape 10.5: \n",
      "Model Number: 279 of 176 with model DatepartRegression for Validation 1\n",
      "279 - DatepartRegression with avg smape 10.79: \n",
      "Model Number: 280 of 176 with model DatepartRegression for Validation 1\n",
      "280 - DatepartRegression with avg smape 10.54: \n",
      "Model Number: 281 of 176 with model DatepartRegression for Validation 1\n",
      "281 - DatepartRegression with avg smape 10.62: \n",
      "Model Number: 282 of 176 with model RRVAR for Validation 1\n"
     ]
    },
    {
     "name": "stderr",
     "output_type": "stream",
     "text": [
      "/home/zeus/miniconda3/envs/cloudspace/lib/python3.10/site-packages/sklearn/svm/_classes.py:32: FutureWarning: The default value of `dual` will change from `True` to `'auto'` in 1.5. Set the value of `dual` explicitly to suppress the warning.\n",
      "  warnings.warn(\n",
      "/home/zeus/miniconda3/envs/cloudspace/lib/python3.10/site-packages/sklearn/svm/_base.py:1250: ConvergenceWarning: Liblinear failed to converge, increase the number of iterations.\n",
      "  warnings.warn(\n"
     ]
    },
    {
     "name": "stdout",
     "output_type": "stream",
     "text": [
      "282 - RRVAR with avg smape 10.7: \n",
      "Model Number: 283 of 176 with model GLM for Validation 1\n",
      "283 - GLM with avg smape 10.92: \n",
      "Model Number: 284 of 176 with model GLM for Validation 1\n"
     ]
    },
    {
     "name": "stderr",
     "output_type": "stream",
     "text": [
      "/home/zeus/miniconda3/envs/cloudspace/lib/python3.10/site-packages/statsmodels/genmod/families/links.py:198: RuntimeWarning: overflow encountered in exp\n",
      "  t = np.exp(-z)\n",
      "/home/zeus/miniconda3/envs/cloudspace/lib/python3.10/site-packages/statsmodels/genmod/generalized_linear_model.py:1342: PerfectSeparationWarning: Perfect separation or prediction detected, parameter may not be identified\n",
      "  warnings.warn(msg, category=PerfectSeparationWarning)\n",
      "/home/zeus/miniconda3/envs/cloudspace/lib/python3.10/site-packages/statsmodels/genmod/generalized_linear_model.py:1342: PerfectSeparationWarning: Perfect separation or prediction detected, parameter may not be identified\n",
      "  warnings.warn(msg, category=PerfectSeparationWarning)\n",
      "/home/zeus/miniconda3/envs/cloudspace/lib/python3.10/site-packages/statsmodels/genmod/generalized_linear_model.py:1342: PerfectSeparationWarning: Perfect separation or prediction detected, parameter may not be identified\n",
      "  warnings.warn(msg, category=PerfectSeparationWarning)\n",
      "/home/zeus/miniconda3/envs/cloudspace/lib/python3.10/site-packages/statsmodels/genmod/generalized_linear_model.py:1342: PerfectSeparationWarning: Perfect separation or prediction detected, parameter may not be identified\n",
      "  warnings.warn(msg, category=PerfectSeparationWarning)\n",
      "/home/zeus/miniconda3/envs/cloudspace/lib/python3.10/site-packages/statsmodels/genmod/generalized_linear_model.py:1342: PerfectSeparationWarning: Perfect separation or prediction detected, parameter may not be identified\n",
      "  warnings.warn(msg, category=PerfectSeparationWarning)\n",
      "/home/zeus/miniconda3/envs/cloudspace/lib/python3.10/site-packages/statsmodels/genmod/generalized_linear_model.py:1342: PerfectSeparationWarning: Perfect separation or prediction detected, parameter may not be identified\n",
      "  warnings.warn(msg, category=PerfectSeparationWarning)\n",
      "/home/zeus/miniconda3/envs/cloudspace/lib/python3.10/site-packages/statsmodels/genmod/generalized_linear_model.py:1342: PerfectSeparationWarning: Perfect separation or prediction detected, parameter may not be identified\n",
      "  warnings.warn(msg, category=PerfectSeparationWarning)\n"
     ]
    },
    {
     "name": "stdout",
     "output_type": "stream",
     "text": [
      "284 - GLM with avg smape 10.92: \n",
      "Model Number: 285 of 176 with model GLM for Validation 1\n",
      "285 - GLM with avg smape 10.92: \n",
      "Model Number: 286 of 176 with model GLM for Validation 1\n",
      "286 - GLM with avg smape 10.92: \n",
      "Model Number: 287 of 176 with model FFT for Validation 1\n",
      "287 - FFT with avg smape 10.56: \n",
      "Model Number: 288 of 176 with model FFT for Validation 1\n",
      "288 - FFT with avg smape 10.56: \n",
      "Model Number: 289 of 176 with model DatepartRegression for Validation 1\n",
      "289 - DatepartRegression with avg smape 10.55: \n",
      "Model Number: 290 of 176 with model FFT for Validation 1\n",
      "290 - FFT with avg smape 10.66: \n",
      "Model Number: 291 of 176 with model DatepartRegression for Validation 1\n",
      "291 - DatepartRegression with avg smape 10.89: \n",
      "Model Number: 292 of 176 with model GLM for Validation 1\n",
      "292 - GLM with avg smape 10.49: \n",
      "Model Number: 293 of 176 with model GLM for Validation 1\n"
     ]
    },
    {
     "name": "stderr",
     "output_type": "stream",
     "text": [
      "/home/zeus/miniconda3/envs/cloudspace/lib/python3.10/site-packages/statsmodels/genmod/families/links.py:198: RuntimeWarning: overflow encountered in exp\n",
      "  t = np.exp(-z)\n",
      "/home/zeus/miniconda3/envs/cloudspace/lib/python3.10/site-packages/statsmodels/genmod/families/links.py:198: RuntimeWarning: overflow encountered in exp\n",
      "  t = np.exp(-z)\n"
     ]
    },
    {
     "name": "stdout",
     "output_type": "stream",
     "text": [
      "293 - GLM with avg smape 10.92: \n",
      "Model Number: 294 of 176 with model DatepartRegression for Validation 1\n",
      "294 - DatepartRegression with avg smape 10.81: \n",
      "Model Number: 295 of 176 with model FFT for Validation 1\n",
      "295 - FFT with avg smape 10.56: \n",
      "Model Number: 296 of 176 with model RRVAR for Validation 1\n",
      "296 - RRVAR with avg smape 10.93: \n",
      "Model Number: 297 of 176 with model RRVAR for Validation 1\n",
      "297 - RRVAR with avg smape 10.93: \n",
      "Model Number: 298 of 176 with model GLM for Validation 1\n",
      "298 - GLM with avg smape 10.81: \n",
      "Model Number: 299 of 176 with model GLM for Validation 1\n",
      "299 - GLM with avg smape 10.87: \n",
      "Model Number: 300 of 176 with model FFT for Validation 1\n",
      "300 - FFT with avg smape 10.52: \n",
      "Model Number: 301 of 176 with model Cassandra for Validation 1\n"
     ]
    },
    {
     "name": "stderr",
     "output_type": "stream",
     "text": [
      "/home/zeus/miniconda3/envs/cloudspace/lib/python3.10/site-packages/numpy/lib/function_base.py:2897: RuntimeWarning: invalid value encountered in divide\n",
      "  c /= stddev[:, None]\n",
      "/home/zeus/miniconda3/envs/cloudspace/lib/python3.10/site-packages/numpy/lib/function_base.py:2898: RuntimeWarning: invalid value encountered in divide\n",
      "  c /= stddev[None, :]\n"
     ]
    },
    {
     "name": "stdout",
     "output_type": "stream",
     "text": [
      "301 - Cassandra with avg smape 10.49: \n",
      "Model Number: 302 of 176 with model GLM for Validation 1\n",
      "302 - GLM with avg smape 10.82: \n",
      "Model Number: 303 of 176 with model RRVAR for Validation 1\n",
      "303 - RRVAR with avg smape 10.48: \n",
      "Model Number: 304 of 176 with model Cassandra for Validation 1\n"
     ]
    },
    {
     "name": "stderr",
     "output_type": "stream",
     "text": [
      "/home/zeus/miniconda3/envs/cloudspace/lib/python3.10/site-packages/numpy/lib/function_base.py:2897: RuntimeWarning: invalid value encountered in divide\n",
      "  c /= stddev[:, None]\n",
      "/home/zeus/miniconda3/envs/cloudspace/lib/python3.10/site-packages/numpy/lib/function_base.py:2898: RuntimeWarning: invalid value encountered in divide\n",
      "  c /= stddev[None, :]\n"
     ]
    },
    {
     "name": "stdout",
     "output_type": "stream",
     "text": [
      "304 - Cassandra with avg smape 160.66: \n",
      "Model Number: 305 of 176 with model Cassandra for Validation 1\n"
     ]
    },
    {
     "name": "stderr",
     "output_type": "stream",
     "text": [
      "/home/zeus/miniconda3/envs/cloudspace/lib/python3.10/site-packages/numpy/lib/function_base.py:2897: RuntimeWarning: invalid value encountered in divide\n",
      "  c /= stddev[:, None]\n",
      "/home/zeus/miniconda3/envs/cloudspace/lib/python3.10/site-packages/numpy/lib/function_base.py:2898: RuntimeWarning: invalid value encountered in divide\n",
      "  c /= stddev[None, :]\n"
     ]
    },
    {
     "name": "stdout",
     "output_type": "stream",
     "text": [
      "305 - Cassandra with avg smape 10.54: \n",
      "Model Number: 306 of 176 with model Cassandra for Validation 1\n",
      "306 - Cassandra with avg smape 10.53: \n"
     ]
    },
    {
     "name": "stderr",
     "output_type": "stream",
     "text": [
      "/home/zeus/miniconda3/envs/cloudspace/lib/python3.10/site-packages/numpy/lib/function_base.py:2897: RuntimeWarning: invalid value encountered in divide\n",
      "  c /= stddev[:, None]\n",
      "/home/zeus/miniconda3/envs/cloudspace/lib/python3.10/site-packages/numpy/lib/function_base.py:2898: RuntimeWarning: invalid value encountered in divide\n",
      "  c /= stddev[None, :]\n"
     ]
    },
    {
     "name": "stdout",
     "output_type": "stream",
     "text": [
      "Model Number: 1477 with model Ensemble in generation 12 of Ensembles\n",
      "Model Number: 1491 with model Ensemble in generation 12 of Ensembles\n"
     ]
    },
    {
     "name": "stderr",
     "output_type": "stream",
     "text": [
      "/home/zeus/miniconda3/envs/cloudspace/lib/python3.10/site-packages/numpy/core/_methods.py:176: RuntimeWarning: overflow encountered in multiply\n",
      "  x = um.multiply(x, x, out=x)\n",
      "/home/zeus/miniconda3/envs/cloudspace/lib/python3.10/site-packages/numpy/core/_methods.py:187: RuntimeWarning: overflow encountered in reduce\n",
      "  ret = umr_sum(x, axis, dtype, out, keepdims=keepdims, where=where)\n",
      "/home/zeus/miniconda3/envs/cloudspace/lib/python3.10/site-packages/numpy/lib/function_base.py:2897: RuntimeWarning: invalid value encountered in divide\n",
      "  c /= stddev[:, None]\n",
      "/home/zeus/miniconda3/envs/cloudspace/lib/python3.10/site-packages/numpy/lib/function_base.py:2898: RuntimeWarning: invalid value encountered in divide\n",
      "  c /= stddev[None, :]\n"
     ]
    },
    {
     "name": "stdout",
     "output_type": "stream",
     "text": [
      "Model Number: 1505 with model Ensemble in generation 12 of Ensembles\n"
     ]
    },
    {
     "name": "stderr",
     "output_type": "stream",
     "text": [
      "/home/zeus/miniconda3/envs/cloudspace/lib/python3.10/site-packages/sklearn/neighbors/_classification.py:233: DataConversionWarning: A column-vector y was passed when a 1d array was expected. Please change the shape of y to (n_samples,), for example using ravel().\n",
      "  return self._fit(X, y)\n"
     ]
    },
    {
     "name": "stdout",
     "output_type": "stream",
     "text": [
      "Model Number: 1519 with model Ensemble in generation 12 of Ensembles\n"
     ]
    },
    {
     "name": "stderr",
     "output_type": "stream",
     "text": [
      "/home/zeus/miniconda3/envs/cloudspace/lib/python3.10/site-packages/sklearn/neighbors/_classification.py:233: DataConversionWarning: A column-vector y was passed when a 1d array was expected. Please change the shape of y to (n_samples,), for example using ravel().\n",
      "  return self._fit(X, y)\n"
     ]
    },
    {
     "name": "stdout",
     "output_type": "stream",
     "text": [
      "Model Number: 1533 with model Ensemble in generation 12 of Ensembles\n"
     ]
    },
    {
     "name": "stderr",
     "output_type": "stream",
     "text": [
      "/home/zeus/miniconda3/envs/cloudspace/lib/python3.10/site-packages/numpy/core/_methods.py:176: RuntimeWarning: overflow encountered in multiply\n",
      "  x = um.multiply(x, x, out=x)\n",
      "/home/zeus/miniconda3/envs/cloudspace/lib/python3.10/site-packages/numpy/core/_methods.py:187: RuntimeWarning: overflow encountered in reduce\n",
      "  ret = umr_sum(x, axis, dtype, out, keepdims=keepdims, where=where)\n",
      "/home/zeus/miniconda3/envs/cloudspace/lib/python3.10/site-packages/numpy/lib/function_base.py:2897: RuntimeWarning: invalid value encountered in divide\n",
      "  c /= stddev[:, None]\n",
      "/home/zeus/miniconda3/envs/cloudspace/lib/python3.10/site-packages/numpy/lib/function_base.py:2898: RuntimeWarning: invalid value encountered in divide\n",
      "  c /= stddev[None, :]\n",
      "/home/zeus/miniconda3/envs/cloudspace/lib/python3.10/site-packages/sklearn/linear_model/_ridge.py:200: LinAlgWarning: Ill-conditioned matrix (rcond=8.05924e-25): result may not be accurate.\n",
      "  return linalg.solve(A, Xy, assume_a=\"pos\", overwrite_a=True).T\n"
     ]
    },
    {
     "name": "stdout",
     "output_type": "stream",
     "text": [
      "Model Number: 1547 with model Ensemble in generation 12 of Ensembles\n"
     ]
    },
    {
     "name": "stderr",
     "output_type": "stream",
     "text": [
      "/home/zeus/miniconda3/envs/cloudspace/lib/python3.10/site-packages/numpy/core/_methods.py:176: RuntimeWarning: overflow encountered in multiply\n",
      "  x = um.multiply(x, x, out=x)\n",
      "/home/zeus/miniconda3/envs/cloudspace/lib/python3.10/site-packages/numpy/core/_methods.py:187: RuntimeWarning: overflow encountered in reduce\n",
      "  ret = umr_sum(x, axis, dtype, out, keepdims=keepdims, where=where)\n",
      "/home/zeus/miniconda3/envs/cloudspace/lib/python3.10/site-packages/numpy/lib/function_base.py:2897: RuntimeWarning: invalid value encountered in divide\n",
      "  c /= stddev[:, None]\n",
      "/home/zeus/miniconda3/envs/cloudspace/lib/python3.10/site-packages/numpy/lib/function_base.py:2898: RuntimeWarning: invalid value encountered in divide\n",
      "  c /= stddev[None, :]\n",
      "/home/zeus/miniconda3/envs/cloudspace/lib/python3.10/site-packages/sklearn/linear_model/_ridge.py:200: LinAlgWarning: Ill-conditioned matrix (rcond=8.05924e-25): result may not be accurate.\n",
      "  return linalg.solve(A, Xy, assume_a=\"pos\", overwrite_a=True).T\n"
     ]
    },
    {
     "name": "stdout",
     "output_type": "stream",
     "text": [
      "Model Number: 1561 with model Ensemble in generation 12 of Ensembles\n"
     ]
    },
    {
     "name": "stderr",
     "output_type": "stream",
     "text": [
      "/home/zeus/miniconda3/envs/cloudspace/lib/python3.10/site-packages/numpy/core/_methods.py:176: RuntimeWarning: overflow encountered in multiply\n",
      "  x = um.multiply(x, x, out=x)\n",
      "/home/zeus/miniconda3/envs/cloudspace/lib/python3.10/site-packages/numpy/core/_methods.py:187: RuntimeWarning: overflow encountered in reduce\n",
      "  ret = umr_sum(x, axis, dtype, out, keepdims=keepdims, where=where)\n",
      "/home/zeus/miniconda3/envs/cloudspace/lib/python3.10/site-packages/numpy/lib/function_base.py:2897: RuntimeWarning: invalid value encountered in divide\n",
      "  c /= stddev[:, None]\n",
      "/home/zeus/miniconda3/envs/cloudspace/lib/python3.10/site-packages/numpy/lib/function_base.py:2898: RuntimeWarning: invalid value encountered in divide\n",
      "  c /= stddev[None, :]\n",
      "/home/zeus/miniconda3/envs/cloudspace/lib/python3.10/site-packages/sklearn/linear_model/_ridge.py:200: LinAlgWarning: Ill-conditioned matrix (rcond=8.05924e-25): result may not be accurate.\n",
      "  return linalg.solve(A, Xy, assume_a=\"pos\", overwrite_a=True).T\n"
     ]
    },
    {
     "name": "stdout",
     "output_type": "stream",
     "text": [
      "Model Number: 1575 with model Ensemble in generation 12 of Ensembles\n"
     ]
    },
    {
     "name": "stderr",
     "output_type": "stream",
     "text": [
      "/home/zeus/miniconda3/envs/cloudspace/lib/python3.10/site-packages/numpy/core/_methods.py:176: RuntimeWarning: overflow encountered in multiply\n",
      "  x = um.multiply(x, x, out=x)\n",
      "/home/zeus/miniconda3/envs/cloudspace/lib/python3.10/site-packages/numpy/core/_methods.py:187: RuntimeWarning: overflow encountered in reduce\n",
      "  ret = umr_sum(x, axis, dtype, out, keepdims=keepdims, where=where)\n",
      "/home/zeus/miniconda3/envs/cloudspace/lib/python3.10/site-packages/numpy/lib/function_base.py:2897: RuntimeWarning: invalid value encountered in divide\n",
      "  c /= stddev[:, None]\n",
      "/home/zeus/miniconda3/envs/cloudspace/lib/python3.10/site-packages/numpy/lib/function_base.py:2898: RuntimeWarning: invalid value encountered in divide\n",
      "  c /= stddev[None, :]\n",
      "/home/zeus/miniconda3/envs/cloudspace/lib/python3.10/site-packages/sklearn/linear_model/_ridge.py:200: LinAlgWarning: Ill-conditioned matrix (rcond=8.05924e-25): result may not be accurate.\n",
      "  return linalg.solve(A, Xy, assume_a=\"pos\", overwrite_a=True).T\n"
     ]
    },
    {
     "name": "stdout",
     "output_type": "stream",
     "text": [
      "Validation Round: 1\n",
      "Model Number: 1 of 8 with model Ensemble for Validation 1\n",
      "📈 1 - Ensemble with avg smape 10.48: \n",
      "2 - Ensemble with avg smape 10.48: \n",
      "📈 3 - Ensemble with avg smape 10.46: \n",
      "4 - Ensemble with avg smape 10.48: \n",
      "5 - Ensemble with avg smape 10.75: \n",
      "6 - Ensemble with avg smape 10.84: \n",
      "7 - Ensemble with avg smape 10.71: \n",
      "8 - Ensemble with avg smape 10.71: \n",
      "9 - Ensemble with avg smape 10.76: \n",
      "10 - Ensemble with avg smape 10.73: \n",
      "11 - Ensemble with avg smape 10.47: \n",
      "12 - Ensemble with avg smape 10.48: \n",
      "13 - Ensemble with avg smape 19.71: \n",
      "14 - Ensemble with avg smape 10.46: \n",
      "Model Number: 15 of 8 with model Ensemble for Validation 1\n"
     ]
    },
    {
     "name": "stderr",
     "output_type": "stream",
     "text": [
      "/home/zeus/miniconda3/envs/cloudspace/lib/python3.10/site-packages/numpy/lib/function_base.py:2897: RuntimeWarning: invalid value encountered in divide\n",
      "  c /= stddev[:, None]\n",
      "/home/zeus/miniconda3/envs/cloudspace/lib/python3.10/site-packages/numpy/lib/function_base.py:2898: RuntimeWarning: invalid value encountered in divide\n",
      "  c /= stddev[None, :]\n"
     ]
    },
    {
     "name": "stdout",
     "output_type": "stream",
     "text": [
      "15 - Ensemble with avg smape 10.48: \n",
      "16 - Ensemble with avg smape 10.48: \n",
      "17 - Ensemble with avg smape 10.46: \n",
      "18 - Ensemble with avg smape 10.48: \n",
      "19 - Ensemble with avg smape 10.75: \n",
      "20 - Ensemble with avg smape 10.84: \n",
      "21 - Ensemble with avg smape 10.71: \n",
      "22 - Ensemble with avg smape 10.71: \n",
      "23 - Ensemble with avg smape 10.76: \n",
      "24 - Ensemble with avg smape 10.73: \n",
      "25 - Ensemble with avg smape 10.47: \n",
      "26 - Ensemble with avg smape 10.48: \n",
      "27 - Ensemble with avg smape 19.71: \n",
      "28 - Ensemble with avg smape 10.46: \n",
      "Model Number: 29 of 8 with model Ensemble for Validation 1\n"
     ]
    },
    {
     "name": "stderr",
     "output_type": "stream",
     "text": [
      "/home/zeus/miniconda3/envs/cloudspace/lib/python3.10/site-packages/sklearn/neighbors/_classification.py:233: DataConversionWarning: A column-vector y was passed when a 1d array was expected. Please change the shape of y to (n_samples,), for example using ravel().\n",
      "  return self._fit(X, y)\n"
     ]
    },
    {
     "name": "stdout",
     "output_type": "stream",
     "text": [
      "29 - Ensemble with avg smape 10.72: \n",
      "30 - Ensemble with avg smape 10.71: \n",
      "31 - Ensemble with avg smape 10.71: \n",
      "32 - Ensemble with avg smape 10.72: \n",
      "33 - Ensemble with avg smape 10.75: \n",
      "34 - Ensemble with avg smape 10.84: \n",
      "35 - Ensemble with avg smape 10.69: \n",
      "36 - Ensemble with avg smape 10.73: \n",
      "37 - Ensemble with avg smape 10.86: \n",
      "38 - Ensemble with avg smape 10.74: \n",
      "39 - Ensemble with avg smape 10.69: \n",
      "40 - Ensemble with avg smape 10.71: \n",
      "41 - Ensemble with avg smape 19.85: \n",
      "42 - Ensemble with avg smape 10.59: \n",
      "Model Number: 43 of 8 with model Ensemble for Validation 1\n"
     ]
    },
    {
     "name": "stderr",
     "output_type": "stream",
     "text": [
      "/home/zeus/miniconda3/envs/cloudspace/lib/python3.10/site-packages/sklearn/neighbors/_classification.py:233: DataConversionWarning: A column-vector y was passed when a 1d array was expected. Please change the shape of y to (n_samples,), for example using ravel().\n",
      "  return self._fit(X, y)\n"
     ]
    },
    {
     "name": "stdout",
     "output_type": "stream",
     "text": [
      "43 - Ensemble with avg smape 10.47: \n",
      "44 - Ensemble with avg smape 10.47: \n",
      "45 - Ensemble with avg smape 10.5: \n",
      "46 - Ensemble with avg smape 10.47: \n",
      "47 - Ensemble with avg smape 10.75: \n",
      "48 - Ensemble with avg smape 10.84: \n",
      "49 - Ensemble with avg smape 10.71: \n",
      "50 - Ensemble with avg smape 10.71: \n",
      "51 - Ensemble with avg smape 10.78: \n",
      "52 - Ensemble with avg smape 10.73: \n",
      "53 - Ensemble with avg smape 10.48: \n",
      "54 - Ensemble with avg smape 10.47: \n",
      "55 - Ensemble with avg smape 19.73: \n",
      "56 - Ensemble with avg smape 10.48: \n",
      "Model Number: 57 of 8 with model Ensemble for Validation 1\n"
     ]
    },
    {
     "name": "stderr",
     "output_type": "stream",
     "text": [
      "/home/zeus/miniconda3/envs/cloudspace/lib/python3.10/site-packages/numpy/lib/function_base.py:2897: RuntimeWarning: invalid value encountered in divide\n",
      "  c /= stddev[:, None]\n",
      "/home/zeus/miniconda3/envs/cloudspace/lib/python3.10/site-packages/numpy/lib/function_base.py:2898: RuntimeWarning: invalid value encountered in divide\n",
      "  c /= stddev[None, :]\n",
      "/home/zeus/miniconda3/envs/cloudspace/lib/python3.10/site-packages/sklearn/linear_model/_ridge.py:200: LinAlgWarning: Ill-conditioned matrix (rcond=1.51103e-24): result may not be accurate.\n",
      "  return linalg.solve(A, Xy, assume_a=\"pos\", overwrite_a=True).T\n"
     ]
    },
    {
     "name": "stdout",
     "output_type": "stream",
     "text": [
      "57 - Ensemble with avg smape 10.46: \n",
      "58 - Ensemble with avg smape 10.46: \n",
      "59 - Ensemble with avg smape 10.47: \n",
      "60 - Ensemble with avg smape 10.47: \n",
      "61 - Ensemble with avg smape 10.75: \n",
      "62 - Ensemble with avg smape 10.84: \n",
      "63 - Ensemble with avg smape 10.71: \n",
      "64 - Ensemble with avg smape 10.71: \n",
      "65 - Ensemble with avg smape 10.77: \n",
      "66 - Ensemble with avg smape 10.73: \n",
      "67 - Ensemble with avg smape 10.46: \n",
      "68 - Ensemble with avg smape 10.47: \n",
      "69 - Ensemble with avg smape 19.72: \n",
      "70 - Ensemble with avg smape 10.47: \n",
      "Model Number: 71 of 8 with model Ensemble for Validation 1\n"
     ]
    },
    {
     "name": "stderr",
     "output_type": "stream",
     "text": [
      "/home/zeus/miniconda3/envs/cloudspace/lib/python3.10/site-packages/numpy/lib/function_base.py:2897: RuntimeWarning: invalid value encountered in divide\n",
      "  c /= stddev[:, None]\n",
      "/home/zeus/miniconda3/envs/cloudspace/lib/python3.10/site-packages/numpy/lib/function_base.py:2898: RuntimeWarning: invalid value encountered in divide\n",
      "  c /= stddev[None, :]\n",
      "/home/zeus/miniconda3/envs/cloudspace/lib/python3.10/site-packages/sklearn/linear_model/_ridge.py:200: LinAlgWarning: Ill-conditioned matrix (rcond=1.51103e-24): result may not be accurate.\n",
      "  return linalg.solve(A, Xy, assume_a=\"pos\", overwrite_a=True).T\n"
     ]
    },
    {
     "name": "stdout",
     "output_type": "stream",
     "text": [
      "prediction too long for indepedent=False, falling back on indepedent=True\n",
      "71 - Ensemble with avg smape 10.48: \n",
      "72 - Ensemble with avg smape 10.48: \n",
      "73 - Ensemble with avg smape 10.48: \n",
      "74 - Ensemble with avg smape 10.47: \n",
      "75 - Ensemble with avg smape 10.75: \n",
      "76 - Ensemble with avg smape 10.84: \n",
      "77 - Ensemble with avg smape 10.71: \n",
      "78 - Ensemble with avg smape 10.71: \n",
      "79 - Ensemble with avg smape 10.77: \n",
      "80 - Ensemble with avg smape 10.73: \n",
      "81 - Ensemble with avg smape 10.47: \n",
      "82 - Ensemble with avg smape 10.48: \n",
      "83 - Ensemble with avg smape 19.71: \n",
      "84 - Ensemble with avg smape 10.47: \n",
      "Model Number: 85 of 8 with model Ensemble for Validation 1\n"
     ]
    },
    {
     "name": "stderr",
     "output_type": "stream",
     "text": [
      "/home/zeus/miniconda3/envs/cloudspace/lib/python3.10/site-packages/numpy/lib/function_base.py:2897: RuntimeWarning: invalid value encountered in divide\n",
      "  c /= stddev[:, None]\n",
      "/home/zeus/miniconda3/envs/cloudspace/lib/python3.10/site-packages/numpy/lib/function_base.py:2898: RuntimeWarning: invalid value encountered in divide\n",
      "  c /= stddev[None, :]\n",
      "/home/zeus/miniconda3/envs/cloudspace/lib/python3.10/site-packages/sklearn/linear_model/_ridge.py:200: LinAlgWarning: Ill-conditioned matrix (rcond=1.51103e-24): result may not be accurate.\n",
      "  return linalg.solve(A, Xy, assume_a=\"pos\", overwrite_a=True).T\n"
     ]
    },
    {
     "name": "stdout",
     "output_type": "stream",
     "text": [
      "prediction too long for indepedent=False, falling back on indepedent=True\n",
      "85 - Ensemble with avg smape 10.47: \n",
      "86 - Ensemble with avg smape 10.47: \n",
      "87 - Ensemble with avg smape 10.48: \n",
      "88 - Ensemble with avg smape 10.46: \n",
      "89 - Ensemble with avg smape 10.75: \n",
      "90 - Ensemble with avg smape 10.84: \n",
      "91 - Ensemble with avg smape 10.71: \n",
      "92 - Ensemble with avg smape 10.71: \n",
      "93 - Ensemble with avg smape 10.77: \n",
      "94 - Ensemble with avg smape 10.73: \n",
      "95 - Ensemble with avg smape 10.47: \n",
      "96 - Ensemble with avg smape 10.47: \n",
      "97 - Ensemble with avg smape 19.72: \n",
      "98 - Ensemble with avg smape 10.48: \n",
      "Model Number: 99 of 8 with model Ensemble for Validation 1\n"
     ]
    },
    {
     "name": "stderr",
     "output_type": "stream",
     "text": [
      "/home/zeus/miniconda3/envs/cloudspace/lib/python3.10/site-packages/numpy/lib/function_base.py:2897: RuntimeWarning: invalid value encountered in divide\n",
      "  c /= stddev[:, None]\n",
      "/home/zeus/miniconda3/envs/cloudspace/lib/python3.10/site-packages/numpy/lib/function_base.py:2898: RuntimeWarning: invalid value encountered in divide\n",
      "  c /= stddev[None, :]\n",
      "/home/zeus/miniconda3/envs/cloudspace/lib/python3.10/site-packages/sklearn/linear_model/_ridge.py:200: LinAlgWarning: Ill-conditioned matrix (rcond=1.51103e-24): result may not be accurate.\n",
      "  return linalg.solve(A, Xy, assume_a=\"pos\", overwrite_a=True).T\n"
     ]
    },
    {
     "name": "stdout",
     "output_type": "stream",
     "text": [
      "prediction too long for indepedent=False, falling back on indepedent=True\n",
      "99 - Ensemble with avg smape 10.47: \n",
      "100 - Ensemble with avg smape 10.47: \n",
      "101 - Ensemble with avg smape 10.48: \n",
      "102 - Ensemble with avg smape 10.46: \n",
      "103 - Ensemble with avg smape 10.75: \n",
      "104 - Ensemble with avg smape 10.84: \n",
      "105 - Ensemble with avg smape 10.71: \n",
      "106 - Ensemble with avg smape 10.71: \n",
      "107 - Ensemble with avg smape 10.77: \n",
      "108 - Ensemble with avg smape 10.73: \n",
      "109 - Ensemble with avg smape 10.47: \n",
      "110 - Ensemble with avg smape 10.47: \n",
      "111 - Ensemble with avg smape 19.72: \n",
      "112 - Ensemble with avg smape 10.48: \n"
     ]
    },
    {
     "name": "stderr",
     "output_type": "stream",
     "text": [
      "/home/zeus/miniconda3/envs/cloudspace/lib/python3.10/site-packages/numpy/core/_methods.py:176: RuntimeWarning: overflow encountered in multiply\n",
      "  x = um.multiply(x, x, out=x)\n",
      "/home/zeus/miniconda3/envs/cloudspace/lib/python3.10/site-packages/numpy/core/_methods.py:187: RuntimeWarning: overflow encountered in reduce\n",
      "  ret = umr_sum(x, axis, dtype, out, keepdims=keepdims, where=where)\n",
      "/home/zeus/miniconda3/envs/cloudspace/lib/python3.10/site-packages/numpy/lib/function_base.py:2897: RuntimeWarning: invalid value encountered in divide\n",
      "  c /= stddev[:, None]\n",
      "/home/zeus/miniconda3/envs/cloudspace/lib/python3.10/site-packages/numpy/lib/function_base.py:2898: RuntimeWarning: invalid value encountered in divide\n",
      "  c /= stddev[None, :]\n"
     ]
    }
   ],
   "source": [
    "import pandas as pd\n",
    "import numpy as np\n",
    "from autots import AutoTS\n",
    "from sklearn.metrics import mean_absolute_error, mean_squared_error\n",
    "\n",
    "# Load data\n",
    "df = pd.read_csv(\"between_365_300_data.csv\", parse_dates=[\"date\"])\n",
    "\n",
    "# Convert date column to datetime\n",
    "df[\"date\"] = pd.to_datetime(df[\"date\"])\n",
    "\n",
    "# Replace 'user_id_value' with the actual user ID you want to filter\n",
    "user_id_value = \"dfc84fb2db544292a7083a9fdbb211a7eb4a0ab330436a31b9199bf3835d1278\"  # Example user ID\n",
    "\n",
    "# Filter data for the specific user\n",
    "user_data = df[df[\"profile_id\"] == user_id_value]\n",
    "\n",
    "# Extract year, month, and day\n",
    "user_data[\"year\"] = user_data[\"date\"].dt.year\n",
    "user_data[\"month\"] = user_data[\"date\"].dt.month\n",
    "user_data[\"day\"] = user_data[\"date\"].dt.day\n",
    "\n",
    "# Aggregate: Keep last follower count per day for each profile\n",
    "daily_df = (\n",
    "    user_data.sort_values([\"profile_id\", \"date\"])\n",
    "    .groupby([\"profile_id\", \"year\", \"month\", \"day\"])\n",
    "    .last()\n",
    "    .reset_index()\n",
    ")\n",
    "\n",
    "# Convert back to date format\n",
    "daily_df[\"date\"] = pd.to_datetime(daily_df[[\"year\", \"month\", \"day\"]])\n",
    "\n",
    "# Define the full date range (daily from Jan 2023 to Dec 2024)\n",
    "#full_date_range = pd.date_range(start=\"2023-01-01\", end=\"2024-12-31\", freq=\"D\")  # 'D' for daily\n",
    "\n",
    "# Drop unnecessary columns\n",
    "daily_df = daily_df[[\"date\", \"profile_id\", \"followers_num\"]]\n",
    "\n",
    "# Create a MultiIndex with all profiles and all days\n",
    "#full_index = pd.MultiIndex.from_product([unique_ids, full_date_range], names=[\"profile_id\", \"date\"])\n",
    "\n",
    "# Reindex the DataFrame to enforce this structure\n",
    "#daily_df = daily_df.set_index([\"profile_id\", \"date\"]).reindex(full_index).reset_index()\n",
    "\n",
    "# Randomly select 60 IDs\n",
    "#selected_ids = np.random.choice(unique_ids, size=60, replace=False)\n",
    "\n",
    "# Filter the DataFrame to include only the selected IDs\n",
    "#daily_df = daily_df[daily_df['profile_id'].isin(selected_ids)]\n",
    "\n",
    "# Verify the number of unique IDs in the filtered DataFrame\n",
    "#print(f\"Number of unique IDs in filtered DataFrame: {daily_df['profile_id'].nunique()}\")\n",
    "\n",
    "# Fill missing values\n",
    "daily_df.fillna(method='ffill', inplace=True)\n",
    "daily_df.fillna(method='bfill', inplace=True)\n",
    "daily_df.fillna(0, inplace=True)\n",
    "\n",
    "# # Split the data\n",
    "# train_df = daily_df[daily_df['date'] < '2024-07-01']\n",
    "# test_df = daily_df[daily_df['date'] >= '2024-07-01']\n",
    "\n",
    "# Sort data by date to ensure correct splitting\n",
    "daily_df = daily_df.sort_values(\"date\")\n",
    "\n",
    "# Find the total number of unique days\n",
    "unique_dates = daily_df[\"date\"].unique()\n",
    "\n",
    "# Determine the split index (75% of the data)\n",
    "split_index = int(len(unique_dates) * 0.75)\n",
    "\n",
    "# Get the corresponding date for the split\n",
    "split_date = unique_dates[split_index]  # This is the cutoff date\n",
    "\n",
    "# Perform the split dynamically\n",
    "train_df = daily_df[daily_df[\"date\"] < split_date]\n",
    "test_df = daily_df[daily_df[\"date\"] >= split_date]\n",
    "\n",
    "# Verify the split\n",
    "print(\"Train Data Range:\", train_df[\"date\"].min(), \"to\", train_df[\"date\"].max())\n",
    "print(\"Test Data Range:\", test_df[\"date\"].min(), \"to\", test_df[\"date\"].max())\n",
    "print(f\"Split Date: {split_date}, Total Unique Days: {len(unique_dates)}\")\n",
    "\n",
    "\n",
    "# Pivot and convert dates to daily format\n",
    "def prepare_for_autts(df):\n",
    "    df = df.pivot(index='date', columns='profile_id', values='followers_num')\n",
    "    df = df.fillna(method='ffill')\n",
    "    df.index = df.index.to_period('D').to_timestamp('D')  # Convert to daily timestamp\n",
    "    df = df.fillna(method='ffill')\n",
    "    return df\n",
    "\n",
    "train_df = prepare_for_autts(train_df)\n",
    "test_df = prepare_for_autts(test_df)\n",
    "\n",
    "# Ensure no missing values\n",
    "train_df.fillna(method='ffill', inplace=True)\n",
    "train_df.fillna(method='bfill', inplace=True)\n",
    "train_df.fillna(0, inplace=True)\n",
    "\n",
    "test_df.fillna(method='ffill', inplace=True)\n",
    "test_df.fillna(method='bfill', inplace=True)\n",
    "test_df.fillna(0, inplace=True)\n",
    "\n",
    "# ----- AUTOTS MODEL -----\n",
    "# Initialize and train the AutoTS model for daily forecasting\n",
    "model = AutoTS(\n",
    "    forecast_length=len(test_df),  \n",
    "    frequency='D',  # Daily frequency\n",
    "    ensemble='simple',\n",
    "    max_generations=10,\n",
    "    num_validations=3,\n",
    "    validation_method='backwards'\n",
    ")\n",
    "\n",
    "# Train the model\n",
    "model = model.fit(train_df)\n",
    "\n",
    "# Generate predictions\n",
    "predictions = model.predict(prediction_interval=0.95, fail_on_forecast_nan=False)\n",
    "forecast_df = predictions.forecast.fillna(0)\n",
    "\n",
    "# Align test data with predictions\n",
    "common_index = forecast_df.index.intersection(test_df.index)\n",
    "forecast_df = forecast_df.loc[common_index]\n",
    "test_df_aligned = test_df.loc[common_index]\n",
    "test_df_aligned = test_df.loc[forecast_df.index]\n",
    "\n",
    "# Evaluate AutoTS model\n",
    "evaluation_results_299 = []\n",
    "for profile_id in test_df_aligned.columns:\n",
    "    true_values = test_df_aligned[profile_id]\n",
    "    predicted_values = forecast_df[profile_id]\n",
    "    mae_autots = mean_absolute_error(true_values, predicted_values)\n",
    "    mse_autots = mean_squared_error(true_values, predicted_values)\n",
    "    evaluation_results_299.append({'Profile': profile_id, 'MAE_AutoTS_Daily': mae_autots, 'MSE_AutoTS_Daily': mse_autots})\n",
    "\n",
    "# Create a comparison DataFrame\n",
    "evaluation_df_299 = pd.DataFrame(evaluation_results_299)"
   ]
  },
  {
   "cell_type": "code",
   "execution_count": 8,
   "metadata": {},
   "outputs": [
    {
     "name": "stdout",
     "output_type": "stream",
     "text": [
      "         date  predicted_followers_num\n",
      "0  2023-08-23            618826.248022\n",
      "1  2023-08-24            618826.248022\n",
      "2  2023-08-25            618824.784733\n",
      "3  2023-08-26            618821.861232\n",
      "4  2023-08-27            618817.483658\n",
      "..        ...                      ...\n",
      "73 2023-11-04            617147.616509\n",
      "74 2023-11-05            617141.973153\n",
      "75 2023-11-06            617137.730736\n",
      "76 2023-11-07            617134.897705\n",
      "77 2023-11-08            617133.479749\n",
      "\n",
      "[78 rows x 2 columns]\n"
     ]
    }
   ],
   "source": [
    "\n",
    "# Extract the predicted follower numbers for the specific user\n",
    "user_predictions = forecast_df[[user_id_value]].reset_index()\n",
    "\n",
    "# Rename columns for clarity\n",
    "user_predictions.columns = [\"date\", \"predicted_followers_num\"]\n",
    "\n",
    "# Rename columns for clarity\n",
    "user_predictions.columns = [\"date\", \"predicted_followers_num\"]\n",
    "\n",
    "# Display the table\n",
    "print(user_predictions)  # For console output\n",
    "user_predictions.to_csv(\"user_predictions.csv\", index=False)  # Save as CSV if needed"
   ]
  },
  {
   "cell_type": "code",
   "execution_count": 10,
   "metadata": {},
   "outputs": [
    {
     "data": {
      "text/plain": [
       "[{'Profile': 'dfc84fb2db544292a7083a9fdbb211a7eb4a0ab330436a31b9199bf3835d1278',\n",
       "  'MAE_AutoTS_Daily': 92096.98847030698,\n",
       "  'MSE_AutoTS_Daily': 49052012572.104576}]"
      ]
     },
     "execution_count": 10,
     "metadata": {},
     "output_type": "execute_result"
    }
   ],
   "source": [
    "evaluation_results_299"
   ]
  },
  {
   "cell_type": "code",
   "execution_count": 3,
   "metadata": {},
   "outputs": [
    {
     "name": "stdout",
     "output_type": "stream",
     "text": [
      "Train Data Range: 2023-01-01 00:00:00 to 2023-06-03 00:00:00\n",
      "Test Data Range: 2023-06-04 00:00:00 to 2024-04-05 00:00:00\n",
      "Split Date: 2023-06-04 00:00:00, Total Unique Days: 206\n",
      "Using 4 cpus for n_jobs.\n",
      "Data frequency is: D, used frequency is: D\n",
      "Too many training validations for length of data provided, decreasing num_validations to 1\n",
      "Model Number: 1 with model AverageValueNaive in generation 0 of 10\n",
      "Model Number: 2 with model AverageValueNaive in generation 0 of 10\n",
      "Model Number: 3 with model AverageValueNaive in generation 0 of 10\n",
      "Model Number: 4 with model DatepartRegression in generation 0 of 10\n"
     ]
    },
    {
     "name": "stderr",
     "output_type": "stream",
     "text": [
      "/tmp/ipykernel_58902/2195648771.py:19: SettingWithCopyWarning: \n",
      "A value is trying to be set on a copy of a slice from a DataFrame.\n",
      "Try using .loc[row_indexer,col_indexer] = value instead\n",
      "\n",
      "See the caveats in the documentation: https://pandas.pydata.org/pandas-docs/stable/user_guide/indexing.html#returning-a-view-versus-a-copy\n",
      "  user_data[\"year\"] = user_data[\"date\"].dt.year\n",
      "/tmp/ipykernel_58902/2195648771.py:20: SettingWithCopyWarning: \n",
      "A value is trying to be set on a copy of a slice from a DataFrame.\n",
      "Try using .loc[row_indexer,col_indexer] = value instead\n",
      "\n",
      "See the caveats in the documentation: https://pandas.pydata.org/pandas-docs/stable/user_guide/indexing.html#returning-a-view-versus-a-copy\n",
      "  user_data[\"month\"] = user_data[\"date\"].dt.month\n",
      "/tmp/ipykernel_58902/2195648771.py:21: SettingWithCopyWarning: \n",
      "A value is trying to be set on a copy of a slice from a DataFrame.\n",
      "Try using .loc[row_indexer,col_indexer] = value instead\n",
      "\n",
      "See the caveats in the documentation: https://pandas.pydata.org/pandas-docs/stable/user_guide/indexing.html#returning-a-view-versus-a-copy\n",
      "  user_data[\"day\"] = user_data[\"date\"].dt.day\n",
      "/tmp/ipykernel_58902/2195648771.py:56: FutureWarning: DataFrame.fillna with 'method' is deprecated and will raise in a future version. Use obj.ffill() or obj.bfill() instead.\n",
      "  daily_df.fillna(method='ffill', inplace=True)\n",
      "/tmp/ipykernel_58902/2195648771.py:57: FutureWarning: DataFrame.fillna with 'method' is deprecated and will raise in a future version. Use obj.ffill() or obj.bfill() instead.\n",
      "  daily_df.fillna(method='bfill', inplace=True)\n",
      "/tmp/ipykernel_58902/2195648771.py:89: FutureWarning: DataFrame.fillna with 'method' is deprecated and will raise in a future version. Use obj.ffill() or obj.bfill() instead.\n",
      "  df = df.fillna(method='ffill')\n",
      "/tmp/ipykernel_58902/2195648771.py:91: FutureWarning: DataFrame.fillna with 'method' is deprecated and will raise in a future version. Use obj.ffill() or obj.bfill() instead.\n",
      "  df = df.fillna(method='ffill')\n",
      "/tmp/ipykernel_58902/2195648771.py:89: FutureWarning: DataFrame.fillna with 'method' is deprecated and will raise in a future version. Use obj.ffill() or obj.bfill() instead.\n",
      "  df = df.fillna(method='ffill')\n",
      "/tmp/ipykernel_58902/2195648771.py:91: FutureWarning: DataFrame.fillna with 'method' is deprecated and will raise in a future version. Use obj.ffill() or obj.bfill() instead.\n",
      "  df = df.fillna(method='ffill')\n",
      "/tmp/ipykernel_58902/2195648771.py:98: FutureWarning: DataFrame.fillna with 'method' is deprecated and will raise in a future version. Use obj.ffill() or obj.bfill() instead.\n",
      "  train_df.fillna(method='ffill', inplace=True)\n",
      "/tmp/ipykernel_58902/2195648771.py:99: FutureWarning: DataFrame.fillna with 'method' is deprecated and will raise in a future version. Use obj.ffill() or obj.bfill() instead.\n",
      "  train_df.fillna(method='bfill', inplace=True)\n",
      "/tmp/ipykernel_58902/2195648771.py:102: FutureWarning: DataFrame.fillna with 'method' is deprecated and will raise in a future version. Use obj.ffill() or obj.bfill() instead.\n",
      "  test_df.fillna(method='ffill', inplace=True)\n",
      "/tmp/ipykernel_58902/2195648771.py:103: FutureWarning: DataFrame.fillna with 'method' is deprecated and will raise in a future version. Use obj.ffill() or obj.bfill() instead.\n",
      "  test_df.fillna(method='bfill', inplace=True)\n"
     ]
    },
    {
     "name": "stdout",
     "output_type": "stream",
     "text": [
      "Model Number: 5 with model DatepartRegression in generation 0 of 10\n",
      "Model Number: 6 with model DatepartRegression in generation 0 of 10\n"
     ]
    },
    {
     "name": "stderr",
     "output_type": "stream",
     "text": [
      "/home/zeus/miniconda3/envs/cloudspace/lib/python3.10/site-packages/sklearn/svm/_classes.py:32: FutureWarning: The default value of `dual` will change from `True` to `'auto'` in 1.5. Set the value of `dual` explicitly to suppress the warning.\n",
      "  warnings.warn(\n",
      "/home/zeus/miniconda3/envs/cloudspace/lib/python3.10/site-packages/sklearn/svm/_base.py:1250: ConvergenceWarning: Liblinear failed to converge, increase the number of iterations.\n",
      "  warnings.warn(\n"
     ]
    },
    {
     "name": "stdout",
     "output_type": "stream",
     "text": [
      "Model Number: 7 with model DatepartRegression in generation 0 of 10\n",
      "Template Eval Error: ImportError('Tensorflow not available, install with pip install tensorflow.') in model 7 in generation 0: DatepartRegression\n",
      "Model Number: 8 with model ETS in generation 0 of 10\n",
      "Model Number: 9 with model ETS in generation 0 of 10\n",
      "Model Number: 10 with model GLM in generation 0 of 10\n",
      "Model Number: 11 with model GLM in generation 0 of 10\n",
      "Model Number: 12 with model GLS in generation 0 of 10\n",
      "Model Number: 13 with model GLS in generation 0 of 10\n",
      "Model Number: 14 with model LastValueNaive in generation 0 of 10\n",
      "Model Number: 15 with model LastValueNaive in generation 0 of 10\n",
      "Model Number: 16 with model LastValueNaive in generation 0 of 10\n",
      "Model Number: 17 with model LastValueNaive in generation 0 of 10\n",
      "Model Number: 18 with model SeasonalNaive in generation 0 of 10\n",
      "Model Number: 19 with model SeasonalNaive in generation 0 of 10\n",
      "Model Number: 20 with model SeasonalNaive in generation 0 of 10\n",
      "Model Number: 21 with model VAR in generation 0 of 10\n",
      "Template Eval Error: ValueError('Only gave one variable to VAR') in model 21 in generation 0: VAR\n",
      "Model Number: 22 with model VAR in generation 0 of 10\n",
      "Template Eval Error: ValueError('Only gave one variable to VAR') in model 22 in generation 0: VAR\n",
      "Model Number: 23 with model WindowRegression in generation 0 of 10\n",
      "Model Number: 24 with model ConstantNaive in generation 0 of 10\n",
      "Model Number: 25 with model FBProphet in generation 0 of 10\n",
      "Template Eval Error: ModuleNotFoundError(\"No module named 'fbprophet'\") in model 25 in generation 0: FBProphet\n",
      "Model Number: 26 with model DatepartRegression in generation 0 of 10\n",
      "Template Eval Error: ValueError(\"regression_type='User' but no future_regressor passed\") in model 26 in generation 0: DatepartRegression\n",
      "Model Number: 27 with model SeasonalNaive in generation 0 of 10\n"
     ]
    },
    {
     "name": "stderr",
     "output_type": "stream",
     "text": [
      "/home/zeus/miniconda3/envs/cloudspace/lib/python3.10/site-packages/sklearn/neural_network/_multilayer_perceptron.py:546: ConvergenceWarning: lbfgs failed to converge (status=1):\n",
      "STOP: TOTAL NO. of ITERATIONS REACHED LIMIT.\n",
      "\n",
      "Increase the number of iterations (max_iter) or scale the data as shown in:\n",
      "    https://scikit-learn.org/stable/modules/preprocessing.html\n",
      "  self.n_iter_ = _check_optimize_result(\"lbfgs\", opt_res, self.max_iter)\n"
     ]
    },
    {
     "name": "stdout",
     "output_type": "stream",
     "text": [
      "Model Number: 28 with model DatepartRegression in generation 0 of 10\n",
      "Model Number: 29 with model ETS in generation 0 of 10\n",
      "Model Number: 30 with model ARDL in generation 0 of 10\n",
      "Model Number: 31 with model UnivariateMotif in generation 0 of 10\n",
      "Template Eval Error: ValueError('window shape cannot be larger than input array shape') in model 31 in generation 0: UnivariateMotif\n",
      "Model Number: 32 with model UnivariateMotif in generation 0 of 10\n",
      "Model Number: 33 with model SectionalMotif in generation 0 of 10\n",
      "Model Number: 34 with model SectionalMotif in generation 0 of 10\n",
      "Model Number: 35 with model FBProphet in generation 0 of 10\n",
      "Template Eval Error: ModuleNotFoundError(\"No module named 'fbprophet'\") in model 35 in generation 0: FBProphet\n",
      "Model Number: 36 with model SeasonalNaive in generation 0 of 10\n",
      "Model Number: 37 with model DatepartRegression in generation 0 of 10\n",
      "Model Number: 38 with model ARCH in generation 0 of 10\n",
      "Template Eval Error: ImportError('`arch` package must be installed from pip') in model 38 in generation 0: ARCH\n",
      "Model Number: 39 with model Cassandra in generation 0 of 10\n",
      "Template Eval Error: ValueError('more than 1 year of data is required for holiday detection.') in model 39 in generation 0: Cassandra\n",
      "Model Number: 40 with model SeasonalityMotif in generation 0 of 10\n",
      "Model Number: 41 with model Cassandra in generation 0 of 10\n",
      "Template Eval Error: ValueError('more than 1 year of data is required for holiday detection.') in model 41 in generation 0: Cassandra\n",
      "Model Number: 42 with model Cassandra in generation 0 of 10\n",
      "Template Eval Error: ValueError('more than 1 year of data is required for holiday detection.') in model 42 in generation 0: Cassandra\n",
      "Model Number: 43 with model Cassandra in generation 0 of 10\n",
      "Template Eval Error: ValueError('more than 1 year of data is required for holiday detection.') in model 43 in generation 0: Cassandra\n",
      "Model Number: 44 with model SectionalMotif in generation 0 of 10\n",
      "Model Number: 45 with model FBProphet in generation 0 of 10\n",
      "Template Eval Error: ModuleNotFoundError(\"No module named 'fbprophet'\") in model 45 in generation 0: FBProphet\n",
      "Model Number: 46 with model ARDL in generation 0 of 10\n",
      "Model Number: 47 with model FFT in generation 0 of 10\n",
      "Model Number: 48 with model BasicLinearModel in generation 0 of 10\n",
      "Model Number: 49 with model BasicLinearModel in generation 0 of 10\n",
      "Template Eval Error: Exception('Transformer RobustScaler failed on inverse from params piecewise_polynomial {\\'0\\': {\\'rows\\': 1, \\'lag\\': 2, \\'method\\': \\'multiplicative\\', \\'strength\\': 0.9, \\'first_value_only\\': False, \\'threshold\\': 1, \\'threshold_method\\': \\'mean\\'}, \\'1\\': {\\'center\\': \\'mean\\'}, \\'2\\': {}, \\'3\\': {}} with ValueError(\"Input contains infinity or a value too large for dtype(\\'float64\\').\")') in model 49 in generation 0: BasicLinearModel\n",
      "Model Number: 50 with model SeasonalityMotif in generation 0 of 10\n",
      "Model Number: 51 with model ETS in generation 0 of 10\n",
      "Model Number: 52 with model FBProphet in generation 0 of 10\n",
      "Template Eval Error: ModuleNotFoundError(\"No module named 'fbprophet'\") in model 52 in generation 0: FBProphet\n",
      "Model Number: 53 with model GLM in generation 0 of 10\n",
      "Model Number: 54 with model UnivariateMotif in generation 0 of 10\n"
     ]
    },
    {
     "name": "stderr",
     "output_type": "stream",
     "text": [
      "/home/zeus/miniconda3/envs/cloudspace/lib/python3.10/site-packages/pandas/core/internals/blocks.py:366: RuntimeWarning: overflow encountered in exp\n",
      "  result = func(self.values, **kwargs)\n"
     ]
    },
    {
     "name": "stdout",
     "output_type": "stream",
     "text": [
      "Model Number: 55 with model ARDL in generation 0 of 10\n",
      "Template Eval Error: ValueError(\"regression_type='User' but future_regressor not supplied\") in model 55 in generation 0: ARDL\n",
      "Model Number: 56 with model ARCH in generation 0 of 10\n",
      "Template Eval Error: ImportError('`arch` package must be installed from pip') in model 56 in generation 0: ARCH\n",
      "Model Number: 57 with model ConstantNaive in generation 0 of 10\n",
      "Model Number: 58 with model LastValueNaive in generation 0 of 10\n",
      "Model Number: 59 with model AverageValueNaive in generation 0 of 10\n",
      "Model Number: 60 with model GLS in generation 0 of 10\n",
      "Model Number: 61 with model SeasonalNaive in generation 0 of 10\n",
      "Model Number: 62 with model VAR in generation 0 of 10\n",
      "Template Eval Error: ValueError('Only gave one variable to VAR') in model 62 in generation 0: VAR\n",
      "Model Number: 63 with model WindowRegression in generation 0 of 10\n",
      "Model Number: 64 with model DatepartRegression in generation 0 of 10\n",
      "Model Number: 65 with model SectionalMotif in generation 0 of 10\n"
     ]
    },
    {
     "name": "stderr",
     "output_type": "stream",
     "text": [
      "/home/zeus/miniconda3/envs/cloudspace/lib/python3.10/site-packages/sklearn/base.py:458: UserWarning: X has feature names, but StandardScaler was fitted without feature names\n",
      "  warnings.warn(\n"
     ]
    },
    {
     "name": "stdout",
     "output_type": "stream",
     "text": [
      "Model Number: 66 with model RRVAR in generation 0 of 10\n",
      "Model Number: 67 with model MetricMotif in generation 0 of 10\n",
      "Model Number: 68 with model Cassandra in generation 0 of 10\n",
      "Template Eval Error: ValueError('Shape of passed values is (102, 2), indices imply (102, 1)') in model 68 in generation 0: Cassandra\n",
      "Model Number: 69 with model SeasonalityMotif in generation 0 of 10\n",
      "Model Number: 70 with model FFT in generation 0 of 10\n",
      "Model Number: 71 with model BasicLinearModel in generation 0 of 10\n",
      "Model Number: 72 with model SectionalMotif in generation 0 of 10\n",
      "Model Number: 73 with model ARDL in generation 0 of 10\n",
      "Template Eval Error: ValueError(\"regression_type='User' but future_regressor not supplied\") in model 73 in generation 0: ARDL\n",
      "Model Number: 74 with model SeasonalityMotif in generation 0 of 10\n",
      "Model Number: 75 with model MetricMotif in generation 0 of 10\n",
      "Model Number: 76 with model ConstantNaive in generation 0 of 10\n",
      "Model Number: 77 with model UnivariateMotif in generation 0 of 10\n",
      "Template Eval Error: Exception(\"Transformer RobustScaler failed on fit from params pchip {'0': {'low': 6, 'high': 90, 'K': 1, 'lanczos_factor': False, 'return_diff': False, 'on_transform': True, 'on_inverse': False}, '1': {}, '2': {'rows': 1, 'lag': 1, 'method': 'additive', 'strength': 1.0, 'first_value_only': False, 'threshold': 10, 'threshold_method': 'max'}, '3': {'method': 100}, '4': {'window': None}, '5': {'decimals': 0, 'on_transform': True, 'on_inverse': False}} with error ValueError('Shape of passed values is (100, 1), indices imply (102, 1)')\") in model 77 in generation 0: UnivariateMotif\n",
      "Model Number: 78 with model SeasonalityMotif in generation 0 of 10\n",
      "Model Number: 79 with model MetricMotif in generation 0 of 10\n",
      "Model Number: 80 with model ARDL in generation 0 of 10\n",
      "Template Eval Error: ValueError(\"regression_type='User' but future_regressor not supplied\") in model 80 in generation 0: ARDL\n",
      "Model Number: 81 with model ARDL in generation 0 of 10\n",
      "Template Eval Error: ValueError(\"regression_type='User' but future_regressor not supplied\") in model 81 in generation 0: ARDL\n",
      "Model Number: 82 with model SeasonalNaive in generation 0 of 10\n",
      "Template Eval Error: Exception(\"Transformer HolidayTransformer failed on fit from params ffill {'0': {'part': 'trend', 'lamb': 129600}, '1': {'output_distribution': 'uniform', 'n_quantiles': 34}, '2': {}, '3': {'threshold': 0.9, 'splash_threshold': None, 'use_dayofmonth_holidays': True, 'use_wkdom_holidays': True, 'use_wkdeom_holidays': True, 'use_lunar_holidays': False, 'use_lunar_weekday': False, 'use_islamic_holidays': False, 'use_hebrew_holidays': False, 'use_hindu_holidays': True, 'anomaly_detector_params': {'method': 'minmax', 'method_params': {'alpha': 0.03}, 'fillna': 'mean', 'transform_dict': None, 'isolated_only': False, 'on_inverse': False}, 'remove_excess_anomalies': False, 'impact': 'datepart_regression', 'regression_params': {'regression_model': {'model': 'ElasticNet', 'model_params': {'l1_ratio': 0.5, 'fit_intercept': True, 'selection': 'cyclic', 'max_iter': 1000}}, 'datepart_method': 'expanded', 'polynomial_degree': None, 'transform_dict': None, 'holiday_countries_used': False, 'lags': None, 'forward_lags': 4}}, '4': {}} with error ValueError('more than 1 year of data is required for holiday detection.')\") in model 82 in generation 0: SeasonalNaive\n",
      "Model Number: 83 with model Cassandra in generation 0 of 10\n",
      "Template Eval Error: UnboundLocalError(\"local variable 'slope' referenced before assignment\") in model 83 in generation 0: Cassandra\n",
      "Model Number: 84 with model VAR in generation 0 of 10\n",
      "Template Eval Error: ValueError('Only gave one variable to VAR') in model 84 in generation 0: VAR\n",
      "Model Number: 85 with model SeasonalityMotif in generation 0 of 10\n",
      "Template Eval Error: ValueError('kth(=99) out of bounds (81)') in model 85 in generation 0: SeasonalityMotif\n",
      "Model Number: 86 with model DatepartRegression in generation 0 of 10\n",
      "Model Number: 87 with model SectionalMotif in generation 0 of 10\n",
      "Model Number: 88 with model RRVAR in generation 0 of 10\n",
      "Model Number: 89 with model VAR in generation 0 of 10\n",
      "Template Eval Error: LinAlgError('2-th leading minor of the array is not positive definite') in model 89 in generation 0: VAR\n",
      "Model Number: 90 with model VAR in generation 0 of 10\n",
      "Template Eval Error: ValueError('Only gave one variable to VAR') in model 90 in generation 0: VAR\n",
      "Model Number: 91 with model FBProphet in generation 0 of 10\n",
      "Template Eval Error: ModuleNotFoundError(\"No module named 'fbprophet'\") in model 91 in generation 0: FBProphet\n",
      "Model Number: 92 with model SeasonalityMotif in generation 0 of 10\n",
      "Model Number: 93 with model GLS in generation 0 of 10\n",
      "Model Number: 94 with model GLM in generation 0 of 10\n",
      "Template Eval Error: ValueError('regression_type=user and no future_regressor passed') in model 94 in generation 0: GLM\n",
      "Model Number: 95 with model GLM in generation 0 of 10\n",
      "Template Eval Error: ValueError('The first guess on the deviance function returned a nan.  This could be a boundary  problem and should be reported.') in model 95 in generation 0: GLM\n",
      "Model Number: 96 with model LastValueNaive in generation 0 of 10\n",
      "Model Number: 97 with model VAR in generation 0 of 10\n",
      "Template Eval Error: ValueError('Only gave one variable to VAR') in model 97 in generation 0: VAR\n",
      "Model Number: 98 with model ETS in generation 0 of 10\n",
      "Model Number: 99 with model Cassandra in generation 0 of 10\n"
     ]
    },
    {
     "name": "stderr",
     "output_type": "stream",
     "text": [
      "/home/zeus/miniconda3/envs/cloudspace/lib/python3.10/site-packages/statsmodels/genmod/families/family.py:1367: ValueWarning: Negative binomial dispersion parameter alpha not set. Using default value alpha=1.0.\n",
      "  warnings.warn(\"Negative binomial dispersion parameter alpha not \"\n",
      "/home/zeus/miniconda3/envs/cloudspace/lib/python3.10/site-packages/statsmodels/genmod/families/family.py:1406: RuntimeWarning: divide by zero encountered in log\n",
      "  resid_dev -= endog_alpha * np.log(endog_alpha / mu_alpha)\n",
      "/home/zeus/miniconda3/envs/cloudspace/lib/python3.10/site-packages/statsmodels/genmod/families/family.py:1406: RuntimeWarning: invalid value encountered in multiply\n",
      "  resid_dev -= endog_alpha * np.log(endog_alpha / mu_alpha)\n",
      "/home/zeus/miniconda3/envs/cloudspace/lib/python3.10/site-packages/numpy/lib/function_base.py:2897: RuntimeWarning: invalid value encountered in divide\n",
      "  c /= stddev[:, None]\n",
      "/home/zeus/miniconda3/envs/cloudspace/lib/python3.10/site-packages/numpy/lib/function_base.py:2898: RuntimeWarning: invalid value encountered in divide\n",
      "  c /= stddev[None, :]\n"
     ]
    },
    {
     "name": "stdout",
     "output_type": "stream",
     "text": [
      "Model Number: 100 with model SeasonalityMotif in generation 0 of 10\n",
      "Model Number: 101 with model SectionalMotif in generation 0 of 10\n",
      "Template Eval Error: ValueError('kth(=15) out of bounds (1)') in model 101 in generation 0: SectionalMotif\n",
      "Model Number: 102 with model GLS in generation 0 of 10\n",
      "Template Eval Error: ValueError(\"Model returned NaN due to a preprocessing transformer {'fillna': 'fake_date', 'transformations': {'0': 'AlignLastValue', '1': 'SeasonalDifference', '2': 'Log', '3': 'ClipOutliers', '4': 'CumSumTransformer'}, 'transformation_params': {'0': {'rows': 4, 'lag': 1, 'method': 'additive', 'strength': 1.0, 'first_value_only': False, 'threshold': None, 'threshold_method': 'max'}, '1': {'lag_1': 7, 'method': 20}, '2': {}, '3': {'method': 'clip', 'std_threshold': 4, 'fillna': None}, '4': {}}}. fail_on_forecast_nan=True\") in model 102 in generation 0: GLS\n",
      "Model Number: 103 with model GLS in generation 0 of 10\n",
      "Template Eval Error: Exception('Transformer PCA failed on fit from params zero {\\'0\\': {\\'method\\': \\'clip\\', \\'std_threshold\\': 3, \\'fillna\\': None}, \\'1\\': {\\'model\\': \\'GLS\\', \\'phi\\': 1, \\'window\\': None, \\'transform_dict\\': None}, \\'2\\': {\\'whiten\\': True, \\'n_components\\': 10}, \\'3\\': {\\'rows\\': 1, \\'lag\\': 1, \\'method\\': \\'additive\\', \\'strength\\': 1.0, \\'first_value_only\\': False, \\'threshold\\': None, \\'threshold_method\\': \\'mean\\'}} with error ValueError(\"n_components=10 must be between 0 and min(n_samples, n_features)=1 with svd_solver=\\'full\\'\")') in model 103 in generation 0: GLS\n",
      "Model Number: 104 with model ARCH in generation 0 of 10\n",
      "Template Eval Error: ImportError('`arch` package must be installed from pip') in model 104 in generation 0: ARCH\n",
      "Model Number: 105 with model SeasonalityMotif in generation 0 of 10\n",
      "Template Eval Error: Exception(\"Transformer HolidayTransformer failed on fit from params cubic {'0': {}, '1': {'threshold': 0.9, 'splash_threshold': 0.65, 'use_dayofmonth_holidays': True, 'use_wkdom_holidays': False, 'use_wkdeom_holidays': False, 'use_lunar_holidays': False, 'use_lunar_weekday': False, 'use_islamic_holidays': False, 'use_hebrew_holidays': False, 'use_hindu_holidays': False, 'anomaly_detector_params': {'method': 'zscore', 'method_params': {'distribution': 'chi2', 'alpha': 0.05}, 'fillna': 'ffill', 'transform_dict': None, 'isolated_only': False, 'on_inverse': False}, 'remove_excess_anomalies': True, 'impact': 'datepart_regression', 'regression_params': {'regression_model': {'model': 'ElasticNet', 'model_params': {'l1_ratio': 0.5, 'fit_intercept': True, 'selection': 'cyclic', 'max_iter': 1000}}, 'datepart_method': 'common_fourier', 'polynomial_degree': None, 'transform_dict': {'fillna': None, 'transformations': {'0': 'ScipyFilter'}, 'transformation_params': {'0': {'method': 'savgol_filter', 'method_args': {'window_length': 31, 'polyorder': 3, 'deriv': 0, 'mode': 'interp'}}}}, 'holiday_countries_used': False, 'lags': None, 'forward_lags': None}}, '2': {}, '3': {'window_size': 364, 'alpha': 2.2, 'grouping_forward_limit': 4, 'max_level_shifts': 10, 'alignment': 'rolling_diff_5nn'}, '4': {'lag': 7, 'fill': 'bfill'}, '5': {}} with error ValueError('more than 1 year of data is required for holiday detection.')\") in model 105 in generation 0: SeasonalityMotif\n",
      "Model Number: 106 with model LastValueNaive in generation 0 of 10\n",
      "Model Number: 107 with model BasicLinearModel in generation 0 of 10\n"
     ]
    },
    {
     "name": "stderr",
     "output_type": "stream",
     "text": [
      "/home/zeus/miniconda3/envs/cloudspace/lib/python3.10/site-packages/pandas/core/internals/blocks.py:366: RuntimeWarning: overflow encountered in exp\n",
      "  result = func(self.values, **kwargs)\n"
     ]
    },
    {
     "name": "stdout",
     "output_type": "stream",
     "text": [
      "Model Number: 108 with model LastValueNaive in generation 0 of 10\n",
      "Model Number: 109 with model AverageValueNaive in generation 0 of 10\n",
      "Model Number: 110 with model DatepartRegression in generation 0 of 10\n",
      "Model Number: 111 with model ETS in generation 0 of 10\n",
      "Model Number: 112 with model ARCH in generation 0 of 10\n",
      "Template Eval Error: ImportError('`arch` package must be installed from pip') in model 112 in generation 0: ARCH\n",
      "Model Number: 113 with model FFT in generation 0 of 10\n",
      "Model Number: 114 with model FBProphet in generation 0 of 10\n",
      "Template Eval Error: ModuleNotFoundError(\"No module named 'fbprophet'\") in model 114 in generation 0: FBProphet\n",
      "Model Number: 115 with model MetricMotif in generation 0 of 10\n",
      "Model Number: 116 with model UnivariateMotif in generation 0 of 10\n",
      "Model Number: 117 with model WindowRegression in generation 0 of 10\n",
      "Template Eval Error: Exception(\"Transformer HolidayTransformer failed on fit from params ffill {'0': {'rows': 1, 'lag': 1, 'method': 'additive', 'strength': 0.7, 'first_value_only': False, 'threshold': 10, 'threshold_method': 'mean'}, '1': {'threshold': 0.8, 'splash_threshold': None, 'use_dayofmonth_holidays': True, 'use_wkdom_holidays': True, 'use_wkdeom_holidays': False, 'use_lunar_holidays': False, 'use_lunar_weekday': True, 'use_islamic_holidays': False, 'use_hebrew_holidays': False, 'use_hindu_holidays': False, 'anomaly_detector_params': {'method': 'IQR', 'method_params': {'iqr_threshold': 2.0, 'iqr_quantiles': [0.25, 0.75]}, 'fillna': 'rolling_mean_24', 'transform_dict': {'fillna': None, 'transformations': {'0': 'ClipOutliers'}, 'transformation_params': {'0': {'method': 'clip', 'std_threshold': 6}}}, 'isolated_only': False, 'on_inverse': False}, 'remove_excess_anomalies': True, 'impact': 'datepart_regression', 'regression_params': {'regression_model': {'model': 'ElasticNet', 'model_params': {'l1_ratio': 0.5, 'fit_intercept': True, 'selection': 'cyclic', 'max_iter': 1000}}, 'datepart_method': 'simple', 'polynomial_degree': None, 'transform_dict': None, 'holiday_countries_used': False, 'lags': None, 'forward_lags': None}}} with error ValueError('more than 1 year of data is required for holiday detection.')\") in model 117 in generation 0: WindowRegression\n",
      "Model Number: 118 with model UnivariateMotif in generation 0 of 10\n",
      "Model Number: 119 with model ETS in generation 0 of 10\n",
      "Model Number: 120 with model LastValueNaive in generation 0 of 10\n",
      "Model Number: 121 with model Cassandra in generation 0 of 10\n",
      "Model Number: 122 with model SectionalMotif in generation 0 of 10\n",
      "Model Number: 123 with model DatepartRegression in generation 0 of 10\n",
      "Template Eval Error: ValueError(\"regression_type='User' but no future_regressor passed\") in model 123 in generation 0: DatepartRegression\n",
      "Model Number: 124 with model GLM in generation 0 of 10\n",
      "Model Number: 125 with model LastValueNaive in generation 0 of 10\n",
      "Model Number: 126 with model MetricMotif in generation 0 of 10\n",
      "Model Number: 127 with model FFT in generation 0 of 10\n",
      "Model Number: 128 with model MetricMotif in generation 0 of 10\n",
      "Model Number: 129 with model ETS in generation 0 of 10\n",
      "Model Number: 130 with model SeasonalityMotif in generation 0 of 10\n",
      "Model Number: 131 with model LastValueNaive in generation 0 of 10\n",
      "Model Number: 132 with model SectionalMotif in generation 0 of 10\n",
      "Template Eval Error: Exception(\"Transformer HolidayTransformer failed on fit from params zero {'0': {'constraint_method': 'last_window', 'constraint_direction': 'lower', 'constraint_regularization': 0.5, 'constraint_value': {'window': 10, 'threshold': -0.1}, 'bounds_only': False, 'fillna': None}, '1': {'model': 'Linear', 'phi': 1, 'window': None, 'transform_dict': None}, '2': {}, '3': {}, '4': {'threshold': 0.8, 'splash_threshold': 0.4, 'use_dayofmonth_holidays': True, 'use_wkdom_holidays': True, 'use_wkdeom_holidays': False, 'use_lunar_holidays': False, 'use_lunar_weekday': False, 'use_islamic_holidays': False, 'use_hebrew_holidays': False, 'use_hindu_holidays': False, 'anomaly_detector_params': {'method': 'mad', 'method_params': {'distribution': 'uniform', 'alpha': 0.05}, 'fillna': 'fake_date', 'transform_dict': {'transformations': {'0': 'DatepartRegression'}, 'transformation_params': {'0': {'datepart_method': 'simple_3', 'regression_model': {'model': 'DecisionTree', 'model_params': {'max_depth': None, 'min_samples_split': 0.1}}}}}, 'isolated_only': False, 'on_inverse': False}, 'remove_excess_anomalies': True, 'impact': 'regression', 'regression_params': {}}, '5': {'fixed': True, 'window': 7, 'macro_micro': False, 'center': True}} with error ValueError('more than 1 year of data is required for holiday detection.')\") in model 132 in generation 0: SectionalMotif\n",
      "Model Number: 133 with model ARDL in generation 0 of 10\n",
      "Template Eval Error: ValueError(\"regression_type='User' but future_regressor not supplied\") in model 133 in generation 0: ARDL\n",
      "Model Number: 134 with model FFT in generation 0 of 10\n",
      "Model Number: 135 with model SectionalMotif in generation 0 of 10\n",
      "Template Eval Error: Exception(\"Transformer Detrend failed on fit from params time {'0': {'method': 'clip', 'std_threshold': 4, 'fillna': None}, '1': {'model': 'Linear', 'phi': 1, 'window': None, 'transform_dict': {'fillna': None, 'transformations': {'0': 'AnomalyRemoval'}, 'transformation_params': {'0': {'method': 'zscore', 'transform_dict': {'transformations': {'0': 'DatepartRegression'}, 'transformation_params': {'0': {'datepart_method': 'simple_3', 'regression_model': {'model': 'ElasticNet', 'model_params': {}}}}}, 'method_params': {'distribution': 'uniform', 'alpha': 0.05}}}}}, '2': {'lag': 7, 'fill': 'bfill'}} with error ValueError('Input y contains NaN.')\") in model 135 in generation 0: SectionalMotif\n",
      "Model Number: 136 with model WindowRegression in generation 0 of 10\n",
      "Template Eval Error: ModuleNotFoundError(\"No module named 'lightgbm'\") in model 136 in generation 0: WindowRegression\n",
      "Model Number: 137 with model ARDL in generation 0 of 10\n",
      "Model Number: 138 with model GLS in generation 0 of 10\n",
      "Model Number: 139 with model ARDL in generation 0 of 10\n",
      "Model Number: 140 with model RRVAR in generation 0 of 10\n",
      "Model Number: 141 with model SeasonalityMotif in generation 0 of 10\n",
      "Model Number: 142 with model MetricMotif in generation 0 of 10\n",
      "Model Number: 143 with model ETS in generation 0 of 10\n",
      "Model Number: 144 with model ConstantNaive in generation 0 of 10\n",
      "Model Number: 145 with model UnivariateMotif in generation 0 of 10\n",
      "Model Number: 146 with model ETS in generation 0 of 10\n",
      "Model Number: 147 with model FFT in generation 0 of 10\n",
      "Model Number: 148 with model ARCH in generation 0 of 10\n",
      "Template Eval Error: ImportError('`arch` package must be installed from pip') in model 148 in generation 0: ARCH\n",
      "Model Number: 149 with model GLM in generation 0 of 10\n",
      "Template Eval Error: ValueError('The first guess on the deviance function returned a nan.  This could be a boundary  problem and should be reported.') in model 149 in generation 0: GLM\n",
      "Model Number: 150 with model ARCH in generation 0 of 10\n"
     ]
    },
    {
     "name": "stderr",
     "output_type": "stream",
     "text": [
      "/home/zeus/miniconda3/envs/cloudspace/lib/python3.10/site-packages/statsmodels/genmod/families/family.py:1650: RuntimeWarning: invalid value encountered in log\n",
      "  endog * np.log(endog / mu) + (mu - endog))\n"
     ]
    },
    {
     "name": "stdout",
     "output_type": "stream",
     "text": [
      "Template Eval Error: ImportError('`arch` package must be installed from pip') in model 150 in generation 0: ARCH\n",
      "Model Number: 151 with model ConstantNaive in generation 0 of 10\n",
      "Model Number: 152 with model FFT in generation 0 of 10\n",
      "Model Number: 153 with model LastValueNaive in generation 0 of 10\n",
      "Model Number: 154 with model ConstantNaive in generation 0 of 10\n",
      "Model Number: 155 with model MetricMotif in generation 0 of 10\n",
      "New Generation: 1 of 10\n",
      "Model Number: 156 with model SectionalMotif in generation 1 of 10\n",
      "Model Number: 157 with model SeasonalNaive in generation 1 of 10\n",
      "Model Number: 158 with model LastValueNaive in generation 1 of 10\n",
      "Model Number: 159 with model AverageValueNaive in generation 1 of 10\n",
      "Model Number: 160 with model GLS in generation 1 of 10\n",
      "Model Number: 161 with model MetricMotif in generation 1 of 10\n",
      "Model Number: 162 with model ARDL in generation 1 of 10\n",
      "Model Number: 163 with model UnivariateMotif in generation 1 of 10\n",
      "Model Number: 164 with model MetricMotif in generation 1 of 10\n",
      "Model Number: 165 with model ConstantNaive in generation 1 of 10\n",
      "Model Number: 166 with model GLS in generation 1 of 10\n",
      "Template Eval Error: Exception(\"Transformer Detrend failed on fit from params rolling_mean {'0': {'fixed': True, 'window': 3}, '1': {'model': 'Tweedie', 'phi': 0.99, 'window': 30, 'transform_dict': None}, '2': {'low': 6, 'high': 32, 'K': 25, 'lanczos_factor': False, 'return_diff': False, 'on_transform': True, 'on_inverse': False}} with error ValueError('Found input variables with inconsistent numbers of samples: [30, 102]')\") in model 166 in generation 1: GLS\n",
      "Model Number: 167 with model SeasonalNaive in generation 1 of 10\n",
      "Model Number: 168 with model GLS in generation 1 of 10\n",
      "Model Number: 169 with model AverageValueNaive in generation 1 of 10\n",
      "Model Number: 170 with model ARDL in generation 1 of 10\n",
      "Model Number: 171 with model ConstantNaive in generation 1 of 10\n",
      "Model Number: 172 with model LastValueNaive in generation 1 of 10\n",
      "Model Number: 173 with model WindowRegression in generation 1 of 10\n"
     ]
    },
    {
     "name": "stderr",
     "output_type": "stream",
     "text": [
      "/home/zeus/miniconda3/envs/cloudspace/lib/python3.10/site-packages/sklearn/neural_network/_multilayer_perceptron.py:546: ConvergenceWarning: lbfgs failed to converge (status=1):\n",
      "STOP: TOTAL NO. of ITERATIONS REACHED LIMIT.\n",
      "\n",
      "Increase the number of iterations (max_iter) or scale the data as shown in:\n",
      "    https://scikit-learn.org/stable/modules/preprocessing.html\n",
      "  self.n_iter_ = _check_optimize_result(\"lbfgs\", opt_res, self.max_iter)\n"
     ]
    },
    {
     "name": "stdout",
     "output_type": "stream",
     "text": [
      "Model Number: 174 with model RRVAR in generation 1 of 10\n",
      "Model Number: 175 with model UnivariateMotif in generation 1 of 10\n",
      "Template Eval Error: Exception(\"Transformer HolidayTransformer failed on fit from params pchip {'0': {}, '1': {'lag_1': 7, 'method': 'LastValue'}, '2': {'threshold': 0.9, 'splash_threshold': None, 'use_dayofmonth_holidays': True, 'use_wkdom_holidays': True, 'use_wkdeom_holidays': False, 'use_lunar_holidays': False, 'use_lunar_weekday': False, 'use_islamic_holidays': False, 'use_hebrew_holidays': False, 'use_hindu_holidays': False, 'anomaly_detector_params': {'method': 'IQR', 'method_params': {'iqr_threshold': 2.5, 'iqr_quantiles': [0.25, 0.75]}, 'fillna': 'ffill', 'transform_dict': None, 'isolated_only': True, 'on_inverse': False}, 'remove_excess_anomalies': True, 'impact': 'median_value', 'regression_params': {}}, '3': {'rows': 7, 'lag': 84, 'method': 'additive', 'strength': 0.2, 'first_value_only': False, 'threshold': 10, 'threshold_method': 'max'}} with error ValueError('more than 1 year of data is required for holiday detection.')\") in model 175 in generation 1: UnivariateMotif\n",
      "Model Number: 176 with model SeasonalityMotif in generation 1 of 10\n",
      "Model Number: 177 with model AverageValueNaive in generation 1 of 10\n",
      "Model Number: 178 with model SectionalMotif in generation 1 of 10\n",
      "Model Number: 179 with model ETS in generation 1 of 10\n",
      "Model Number: 180 with model ARDL in generation 1 of 10\n",
      "Model Number: 181 with model MetricMotif in generation 1 of 10\n",
      "Model Number: 182 with model SeasonalNaive in generation 1 of 10\n",
      "Model Number: 183 with model SectionalMotif in generation 1 of 10\n",
      "Model Number: 184 with model SectionalMotif in generation 1 of 10\n",
      "Model Number: 185 with model AverageValueNaive in generation 1 of 10\n",
      "Model Number: 186 with model SectionalMotif in generation 1 of 10\n",
      "Template Eval Error: ValueError('kth(=10) out of bounds (5)') in model 186 in generation 1: SectionalMotif\n",
      "Model Number: 187 with model ETS in generation 1 of 10\n",
      "Model Number: 188 with model GLS in generation 1 of 10\n",
      "Model Number: 189 with model SeasonalityMotif in generation 1 of 10\n",
      "Model Number: 190 with model MetricMotif in generation 1 of 10\n",
      "Model Number: 191 with model MetricMotif in generation 1 of 10\n",
      "Model Number: 192 with model SectionalMotif in generation 1 of 10\n",
      "Model Number: 193 with model SeasonalNaive in generation 1 of 10\n",
      "Model Number: 194 with model FFT in generation 1 of 10\n",
      "Model Number: 195 with model UnivariateMotif in generation 1 of 10\n",
      "Model Number: 196 with model LastValueNaive in generation 1 of 10\n",
      "Model Number: 197 with model UnivariateMotif in generation 1 of 10\n",
      "Model Number: 198 with model FFT in generation 1 of 10\n",
      "Model Number: 199 with model ARDL in generation 1 of 10\n",
      "Model Number: 200 with model UnivariateMotif in generation 1 of 10\n",
      "Model Number: 201 with model MetricMotif in generation 1 of 10\n",
      "Model Number: 202 with model DatepartRegression in generation 1 of 10\n",
      "SVD did not converge, attempting more robust approach...\n",
      "Template Eval Error: Exception(\"Transformer KalmanSmoothing failed on fit from params rolling_mean {'0': {'model_name': 'ucm_deterministictrend_seasonal7', 'state_transition': [[1, 1, 0, 0, 0, 0, 0, 0], [0, 1, 0, 0, 0, 0, 0, 0], [0, 0, 1, 0, 0, 0, 0, 0], [0, 0, 0, 1, 0, 0, 0, 0], [0, 0, 0, 0, 1, 0, 0, 0], [0, 0, 0, 0, 0, 1, 0, 0], [0, 0, 0, 0, 0, 0, 1, 0], [0, 0, -1, -1, -1, -1, -1, -1]], 'process_noise': [[0.001, 0, 0, 0, 0, 0, 0, 0], [0, 0.001, 0, 0, 0, 0, 0, 0], [0, 0, 0.001, 0, 0, 0, 0, 0], [0, 0, 0, 0.001, 0, 0, 0, 0], [0, 0, 0, 0, 0.001, 0, 0, 0], [0, 0, 0, 0, 0, 0.001, 0, 0], [0, 0, 0, 0, 0, 0, 0.001, 0], [0, 0, 0, 0, 0, 0, 0, 0]], 'observation_model': [[1, 0, 1, 1, 1, 1, 1, 1]], 'observation_noise': 0.1, 'em_iter': 10, 'on_transform': True, 'on_inverse': False}, '1': {'algorithm': 'deflation', 'fun': 'logcosh', 'max_iter': 250, 'whiten': False}, '2': {'theta_values': [0.2, 1.8]}} with error LinAlgError('SVD did not converge')\") in model 202 in generation 1: DatepartRegression\n",
      "Model Number: 203 with model SeasonalityMotif in generation 1 of 10\n",
      "Model Number: 204 with model GLM in generation 1 of 10\n",
      "Model Number: 205 with model UnivariateMotif in generation 1 of 10\n"
     ]
    },
    {
     "name": "stderr",
     "output_type": "stream",
     "text": [
      "/home/zeus/miniconda3/envs/cloudspace/lib/python3.10/site-packages/autots/tools/fast_kalman.py:1137: RuntimeWarning: overflow encountered in cast\n",
      "  result.smoothed.states.cov[:, j, :, :] = Ps\n",
      "/home/zeus/miniconda3/envs/cloudspace/lib/python3.10/site-packages/autots/tools/fast_kalman.py:1143: RuntimeWarning: overflow encountered in cast\n",
      "  result.smoothed.observations.cov[:, j, :, :] = obs_cov\n",
      "/home/zeus/miniconda3/envs/cloudspace/lib/python3.10/site-packages/autots/tools/fast_kalman.py:1354: RuntimeWarning: overflow encountered in matmul\n",
      "  return np.matmul(A, np.swapaxes(B, -1, -2))\n",
      "/home/zeus/miniconda3/envs/cloudspace/lib/python3.10/site-packages/autots/tools/fast_kalman.py:1341: RuntimeWarning: invalid value encountered in matmul\n",
      "  return np.matmul(A, B)\n",
      "/home/zeus/miniconda3/envs/cloudspace/lib/python3.10/site-packages/autots/tools/fast_kalman.py:1359: RuntimeWarning: overflow encountered in multiply\n",
      "  return a * b.transpose((0, 2, 1))\n",
      "/home/zeus/miniconda3/envs/cloudspace/lib/python3.10/site-packages/autots/tools/fast_kalman.py:1354: RuntimeWarning: invalid value encountered in matmul\n",
      "  return np.matmul(A, np.swapaxes(B, -1, -2))\n"
     ]
    },
    {
     "name": "stdout",
     "output_type": "stream",
     "text": [
      "Model Number: 206 with model DatepartRegression in generation 1 of 10\n",
      "Model Number: 207 with model SectionalMotif in generation 1 of 10\n",
      "Model Number: 208 with model GLM in generation 1 of 10\n",
      "Model Number: 209 with model ETS in generation 1 of 10\n",
      "Template Eval Error: ValueError(\"Model returned NaN due to a preprocessing transformer {'fillna': 'ffill', 'transformations': {'0': 'Slice', '1': 'AlignLastValue', '2': 'SinTrend', '3': 'AlignLastValue', '4': 'AlignLastValue'}, 'transformation_params': {'0': {'method': 0.8}, '1': {'rows': 1, 'lag': 1, 'method': 'additive', 'strength': 1.0, 'first_value_only': False, 'threshold': 1, 'threshold_method': 'mean'}, '2': {}, '3': {'rows': 168, 'lag': 7, 'method': 'additive', 'strength': 1.0, 'first_value_only': False, 'threshold': None, 'threshold_method': 'max'}, '4': {'rows': 84, 'lag': 84, 'method': 'additive', 'strength': 1.0, 'first_value_only': False, 'threshold': 10, 'threshold_method': 'max'}}}. fail_on_forecast_nan=True\") in model 209 in generation 1: ETS\n",
      "Model Number: 210 with model ETS in generation 1 of 10\n"
     ]
    },
    {
     "name": "stderr",
     "output_type": "stream",
     "text": [
      "/home/zeus/miniconda3/envs/cloudspace/lib/python3.10/site-packages/statsmodels/genmod/families/links.py:198: RuntimeWarning: overflow encountered in exp\n",
      "  t = np.exp(-z)\n"
     ]
    },
    {
     "name": "stdout",
     "output_type": "stream",
     "text": [
      "Model Number: 211 with model DatepartRegression in generation 1 of 10\n",
      "Template Eval Error: ValueError(\"regression_type='User' but no future_regressor passed\") in model 211 in generation 1: DatepartRegression\n",
      "Model Number: 212 with model ETS in generation 1 of 10\n",
      "Model Number: 213 with model SectionalMotif in generation 1 of 10\n",
      "Model Number: 214 with model MetricMotif in generation 1 of 10\n",
      "Model Number: 215 with model RRVAR in generation 1 of 10\n",
      "Model Number: 216 with model UnivariateMotif in generation 1 of 10\n",
      "Template Eval Error: Exception(\"Transformer HolidayTransformer failed on fit from params rolling_mean {'0': {'threshold': 0.9, 'splash_threshold': None, 'use_dayofmonth_holidays': True, 'use_wkdom_holidays': True, 'use_wkdeom_holidays': False, 'use_lunar_holidays': False, 'use_lunar_weekday': False, 'use_islamic_holidays': False, 'use_hebrew_holidays': False, 'use_hindu_holidays': False, 'anomaly_detector_params': {'method': 'IQR', 'method_params': {'iqr_threshold': 2.5, 'iqr_quantiles': [0.25, 0.75]}, 'fillna': 'ffill', 'transform_dict': None, 'isolated_only': True, 'on_inverse': False}, 'remove_excess_anomalies': True, 'impact': 'median_value', 'regression_params': {}}} with error ValueError('more than 1 year of data is required for holiday detection.')\") in model 216 in generation 1: UnivariateMotif\n",
      "Model Number: 217 with model LastValueNaive in generation 1 of 10\n",
      "Model Number: 218 with model SeasonalNaive in generation 1 of 10\n",
      "Model Number: 219 with model DatepartRegression in generation 1 of 10\n",
      "Model Number: 220 with model WindowRegression in generation 1 of 10\n",
      "Model Number: 221 with model DatepartRegression in generation 1 of 10\n",
      "Template Eval Error: ValueError(\"regression_type='User' but no future_regressor passed\") in model 221 in generation 1: DatepartRegression\n",
      "Model Number: 222 with model ETS in generation 1 of 10\n",
      "Model Number: 223 with model SeasonalNaive in generation 1 of 10\n"
     ]
    },
    {
     "name": "stderr",
     "output_type": "stream",
     "text": [
      "/home/zeus/miniconda3/envs/cloudspace/lib/python3.10/site-packages/sklearn/neural_network/_multilayer_perceptron.py:546: ConvergenceWarning: lbfgs failed to converge (status=1):\n",
      "STOP: TOTAL NO. of ITERATIONS REACHED LIMIT.\n",
      "\n",
      "Increase the number of iterations (max_iter) or scale the data as shown in:\n",
      "    https://scikit-learn.org/stable/modules/preprocessing.html\n",
      "  self.n_iter_ = _check_optimize_result(\"lbfgs\", opt_res, self.max_iter)\n"
     ]
    },
    {
     "name": "stdout",
     "output_type": "stream",
     "text": [
      "Model Number: 224 with model GLM in generation 1 of 10\n",
      "Model Number: 225 with model ETS in generation 1 of 10\n",
      "Model Number: 226 with model UnivariateMotif in generation 1 of 10\n"
     ]
    },
    {
     "name": "stderr",
     "output_type": "stream",
     "text": [
      "/home/zeus/miniconda3/envs/cloudspace/lib/python3.10/site-packages/statsmodels/genmod/families/links.py:198: RuntimeWarning: overflow encountered in exp\n",
      "  t = np.exp(-z)\n"
     ]
    },
    {
     "name": "stdout",
     "output_type": "stream",
     "text": [
      "Model Number: 227 with model WindowRegression in generation 1 of 10\n",
      "Model Number: 228 with model MetricMotif in generation 1 of 10\n",
      "Model Number: 229 with model SeasonalNaive in generation 1 of 10\n",
      "Model Number: 230 with model ConstantNaive in generation 1 of 10\n",
      "Template Eval Error: Exception(\"Transformer Cointegration failed on fit from params zero {'0': {'span': 2}, '1': {'rows': 1, 'lag': 1, 'method': 'additive', 'strength': 0.7, 'first_value_only': False, 'threshold': 1, 'threshold_method': 'mean'}, '2': {'det_order': 1, 'k_ar_diff': 2}, '3': {'model': 'Linear', 'changepoint_spacing': 5040, 'changepoint_distance_end': 5040, 'datepart_method': 'common_fourier'}} with error ValueError('Coint only works on multivarate series')\") in model 230 in generation 1: ConstantNaive\n",
      "Model Number: 231 with model ETS in generation 1 of 10\n"
     ]
    },
    {
     "name": "stderr",
     "output_type": "stream",
     "text": [
      "/home/zeus/miniconda3/envs/cloudspace/lib/python3.10/site-packages/sklearn/base.py:458: UserWarning: X has feature names, but StandardScaler was fitted without feature names\n",
      "  warnings.warn(\n"
     ]
    },
    {
     "name": "stdout",
     "output_type": "stream",
     "text": [
      "Model Number: 232 with model MetricMotif in generation 1 of 10\n",
      "Template Eval Error: ValueError('kth(=99) out of bounds (89)') in model 232 in generation 1: MetricMotif\n",
      "Model Number: 233 with model RRVAR in generation 1 of 10\n",
      "Template Eval Error: Exception(\"Transformer Cointegration failed on fit from params ffill_mean_biased {'0': {'rows': 7, 'lag': 1, 'method': 'additive', 'strength': 1.0, 'first_value_only': False, 'threshold': 1, 'threshold_method': 'mean'}, '1': {'det_order': -1, 'k_ar_diff': 2}, '2': {'method': 'clip', 'std_threshold': 5, 'fillna': None}} with error ValueError('Coint only works on multivarate series')\") in model 233 in generation 1: RRVAR\n",
      "Model Number: 234 with model DatepartRegression in generation 1 of 10\n",
      "Model Number: 235 with model ConstantNaive in generation 1 of 10\n",
      "Model Number: 236 with model UnivariateMotif in generation 1 of 10\n",
      "Model Number: 237 with model BasicLinearModel in generation 1 of 10\n",
      "Model Number: 238 with model DatepartRegression in generation 1 of 10\n",
      "interpolating\n",
      "Template Eval Error: ValueError('Model DatepartRegression returned NaN for one or more series. fail_on_forecast_nan=True') in model 238 in generation 1: DatepartRegression\n",
      "Model Number: 239 with model UnivariateMotif in generation 1 of 10\n",
      "Model Number: 240 with model BasicLinearModel in generation 1 of 10\n"
     ]
    },
    {
     "name": "stderr",
     "output_type": "stream",
     "text": [
      "/home/zeus/miniconda3/envs/cloudspace/lib/python3.10/site-packages/sklearn/neighbors/_regression.py:500: UserWarning: One or more samples have no neighbors within specified radius; predicting NaN.\n",
      "  warnings.warn(empty_warning_msg)\n"
     ]
    },
    {
     "name": "stdout",
     "output_type": "stream",
     "text": [
      "Model Number: 241 with model LastValueNaive in generation 1 of 10\n",
      "Model Number: 242 with model MetricMotif in generation 1 of 10\n",
      "Model Number: 243 with model Cassandra in generation 1 of 10\n",
      "Model Number: 244 with model SeasonalityMotif in generation 1 of 10\n",
      "Model Number: 245 with model GLS in generation 1 of 10\n",
      "Model Number: 246 with model DatepartRegression in generation 1 of 10\n",
      "Model Number: 247 with model AverageValueNaive in generation 1 of 10\n",
      "Model Number: 248 with model SeasonalityMotif in generation 1 of 10\n",
      "Model Number: 249 with model WindowRegression in generation 1 of 10\n",
      "Model Number: 250 with model AverageValueNaive in generation 1 of 10\n",
      "Model Number: 251 with model AverageValueNaive in generation 1 of 10\n",
      "Model Number: 252 with model SeasonalityMotif in generation 1 of 10\n",
      "Model Number: 253 with model SeasonalityMotif in generation 1 of 10\n",
      "Model Number: 254 with model ETS in generation 1 of 10\n",
      "Model Number: 255 with model GLM in generation 1 of 10\n",
      "Template Eval Error: ValueError('regression_type=user and no future_regressor passed') in model 255 in generation 1: GLM\n",
      "Model Number: 256 with model ConstantNaive in generation 1 of 10\n"
     ]
    },
    {
     "name": "stderr",
     "output_type": "stream",
     "text": [
      "/home/zeus/miniconda3/envs/cloudspace/lib/python3.10/site-packages/sklearn/base.py:458: UserWarning: X has feature names, but StandardScaler was fitted without feature names\n",
      "  warnings.warn(\n"
     ]
    },
    {
     "name": "stdout",
     "output_type": "stream",
     "text": [
      "Model Number: 257 with model LastValueNaive in generation 1 of 10\n",
      "Template Eval Error: Exception(\"Transformer Cointegration failed on fit from params fake_date {'0': {'lag_1': 12, 'method': 'Median'}, '1': {'model': 'GLS', 'phi': 1, 'window': None, 'transform_dict': {'fillna': None, 'transformations': {'0': 'Discretize'}, 'transformation_params': {'0': {'discretization': 'center', 'n_bins': 20}}}}, '2': {'det_order': 0, 'k_ar_diff': 2}} with error ValueError('Coint only works on multivarate series')\") in model 257 in generation 1: LastValueNaive\n",
      "Model Number: 258 with model FFT in generation 1 of 10\n",
      "Model Number: 259 with model LastValueNaive in generation 1 of 10\n",
      "Model Number: 260 with model GLS in generation 1 of 10\n",
      "New Generation: 2 of 10\n",
      "Model Number: 261 with model MetricMotif in generation 2 of 10\n",
      "Model Number: 262 with model SectionalMotif in generation 2 of 10\n",
      "Model Number: 263 with model MetricMotif in generation 2 of 10\n",
      "Model Number: 264 with model GLM in generation 2 of 10\n",
      "Model Number: 265 with model SectionalMotif in generation 2 of 10\n",
      "Model Number: 266 with model UnivariateMotif in generation 2 of 10\n",
      "Model Number: 267 with model BasicLinearModel in generation 2 of 10\n",
      "Model Number: 268 with model LastValueNaive in generation 2 of 10\n",
      "Model Number: 269 with model AverageValueNaive in generation 2 of 10\n",
      "Model Number: 270 with model SectionalMotif in generation 2 of 10\n",
      "Model Number: 271 with model MetricMotif in generation 2 of 10\n",
      "Template Eval Error: Exception(\"Transformer RegressionFilter failed on fit from params linear {'0': {'sigma': 2, 'rolling_window': 90, 'run_order': 'season_first', 'regression_params': {'regression_model': {'model': 'ElasticNet', 'model_params': {'l1_ratio': 0.9, 'fit_intercept': True, 'selection': 'random', 'max_iter': 2000}}, 'datepart_method': 'simple_binarized', 'polynomial_degree': None, 'transform_dict': {'fillna': None, 'transformations': {'0': 'EWMAFilter'}, 'transformation_params': {'0': {'span': 7}}}, 'holiday_countries_used': True, 'lags': None, 'forward_lags': None}, 'holiday_params': {'threshold': 0.8, 'splash_threshold': None, 'use_dayofmonth_holidays': False, 'use_wkdom_holidays': True, 'use_wkdeom_holidays': False, 'use_lunar_holidays': False, 'use_lunar_weekday': False, 'use_islamic_holidays': False, 'use_hebrew_holidays': False, 'use_hindu_holidays': False, 'anomaly_detector_params': {'method': 'zscore', 'method_params': {'distribution': 'gamma', 'alpha': 0.05}, 'fillna': 'ffill', 'transform_dict': {'fillna': None, 'transformations': {'0': 'EWMAFilter'}, 'transformation_params': {'0': {'span': 7}}}, 'isolated_only': False, 'on_inverse': False}, 'remove_excess_anomalies': True, 'impact': 'datepart_regression', 'regression_params': {'regression_model': {'model': 'ElasticNet', 'model_params': {'l1_ratio': 0.9, 'fit_intercept': True, 'selection': 'random', 'max_iter': 2000}}, 'datepart_method': 'simple_binarized', 'polynomial_degree': None, 'transform_dict': {'fillna': None, 'transformations': {'0': 'EWMAFilter'}, 'transformation_params': {'0': {'span': 7}}}, 'holiday_countries_used': True, 'lags': None, 'forward_lags': None}}, 'trend_method': 'local_linear'}, '1': {'fixed': False, 'window': 7, 'macro_micro': False, 'center': True}} with error ValueError('more than 1 year of data is required for holiday detection.')\") in model 271 in generation 2: MetricMotif\n",
      "Model Number: 272 with model DatepartRegression in generation 2 of 10\n",
      "Model Number: 273 with model MetricMotif in generation 2 of 10\n",
      "Model Number: 274 with model ConstantNaive in generation 2 of 10\n",
      "Model Number: 275 with model AverageValueNaive in generation 2 of 10\n",
      "Model Number: 276 with model SectionalMotif in generation 2 of 10\n",
      "Model Number: 277 with model ETS in generation 2 of 10\n",
      "Model Number: 278 with model ARDL in generation 2 of 10\n",
      "Model Number: 279 with model SeasonalNaive in generation 2 of 10\n",
      "Model Number: 280 with model UnivariateMotif in generation 2 of 10\n",
      "Model Number: 281 with model SeasonalityMotif in generation 2 of 10\n",
      "Model Number: 282 with model DatepartRegression in generation 2 of 10\n",
      "Model Number: 283 with model MetricMotif in generation 2 of 10\n",
      "Model Number: 284 with model ARDL in generation 2 of 10\n",
      "Model Number: 285 with model SectionalMotif in generation 2 of 10\n",
      "Template Eval Error: ValueError('kth(=1) out of bounds (1)') in model 285 in generation 2: SectionalMotif\n",
      "Model Number: 286 with model SeasonalityMotif in generation 2 of 10\n",
      "Model Number: 287 with model WindowRegression in generation 2 of 10\n",
      "Template Eval Error: ValueError(\"regression_type='User' but no future_regressor passed\") in model 287 in generation 2: WindowRegression\n",
      "Model Number: 288 with model GLS in generation 2 of 10\n",
      "Model Number: 289 with model DatepartRegression in generation 2 of 10\n",
      "Model Number: 290 with model DatepartRegression in generation 2 of 10\n",
      "Template Eval Error: InvalidParameterError(\"The 'alpha' parameter of MLPRegressor must be a float in the range [0.0, inf). Got None instead.\") in model 290 in generation 2: DatepartRegression\n",
      "Model Number: 291 with model SectionalMotif in generation 2 of 10\n",
      "Model Number: 292 with model SeasonalityMotif in generation 2 of 10\n",
      "Model Number: 293 with model WindowRegression in generation 2 of 10\n",
      "Model Number: 294 with model ETS in generation 2 of 10\n",
      "Model Number: 295 with model LastValueNaive in generation 2 of 10\n",
      "Model Number: 296 with model SectionalMotif in generation 2 of 10\n",
      "Model Number: 297 with model SectionalMotif in generation 2 of 10\n",
      "Model Number: 298 with model MetricMotif in generation 2 of 10\n",
      "Model Number: 299 with model SeasonalityMotif in generation 2 of 10\n",
      "Model Number: 300 with model LastValueNaive in generation 2 of 10\n",
      "Model Number: 301 with model LastValueNaive in generation 2 of 10\n",
      "Model Number: 302 with model ARDL in generation 2 of 10\n",
      "Model Number: 303 with model SeasonalityMotif in generation 2 of 10\n",
      "Model Number: 304 with model ARDL in generation 2 of 10\n"
     ]
    },
    {
     "name": "stderr",
     "output_type": "stream",
     "text": [
      "/home/zeus/miniconda3/envs/cloudspace/lib/python3.10/site-packages/autots/tools/percentile.py:47: RuntimeWarning: All-NaN slice encountered\n",
      "  max_val = np.nanmax(arr)\n"
     ]
    },
    {
     "name": "stdout",
     "output_type": "stream",
     "text": [
      "Model Number: 305 with model ETS in generation 2 of 10\n",
      "Model Number: 306 with model DatepartRegression in generation 2 of 10\n",
      "Model Number: 307 with model WindowRegression in generation 2 of 10\n"
     ]
    },
    {
     "name": "stderr",
     "output_type": "stream",
     "text": [
      "/home/zeus/miniconda3/envs/cloudspace/lib/python3.10/site-packages/sklearn/linear_model/_coordinate_descent.py:628: ConvergenceWarning: Objective did not converge. You might want to increase the number of iterations, check the scale of the features or consider increasing regularisation. Duality gap: 1.547e+14, tolerance: 1.001e+12\n",
      "  model = cd_fast.enet_coordinate_descent(\n"
     ]
    },
    {
     "name": "stdout",
     "output_type": "stream",
     "text": [
      "Model Number: 308 with model ConstantNaive in generation 2 of 10\n",
      "Model Number: 309 with model LastValueNaive in generation 2 of 10\n",
      "Model Number: 310 with model UnivariateMotif in generation 2 of 10\n",
      "Model Number: 311 with model ConstantNaive in generation 2 of 10\n",
      "Model Number: 312 with model UnivariateMotif in generation 2 of 10\n",
      "Model Number: 313 with model ETS in generation 2 of 10\n",
      "Model Number: 314 with model SeasonalityMotif in generation 2 of 10\n",
      "Model Number: 315 with model SectionalMotif in generation 2 of 10\n",
      "Model Number: 316 with model ConstantNaive in generation 2 of 10\n"
     ]
    },
    {
     "name": "stderr",
     "output_type": "stream",
     "text": [
      "/home/zeus/miniconda3/envs/cloudspace/lib/python3.10/site-packages/sklearn/neural_network/_multilayer_perceptron.py:546: ConvergenceWarning: lbfgs failed to converge (status=1):\n",
      "STOP: TOTAL NO. of ITERATIONS REACHED LIMIT.\n",
      "\n",
      "Increase the number of iterations (max_iter) or scale the data as shown in:\n",
      "    https://scikit-learn.org/stable/modules/preprocessing.html\n",
      "  self.n_iter_ = _check_optimize_result(\"lbfgs\", opt_res, self.max_iter)\n"
     ]
    },
    {
     "name": "stdout",
     "output_type": "stream",
     "text": [
      "Model Number: 317 with model DatepartRegression in generation 2 of 10\n",
      "Model Number: 318 with model SeasonalityMotif in generation 2 of 10\n",
      "Model Number: 319 with model AverageValueNaive in generation 2 of 10\n",
      "Model Number: 320 with model ARDL in generation 2 of 10\n",
      "Model Number: 321 with model BasicLinearModel in generation 2 of 10\n",
      "Model Number: 322 with model RRVAR in generation 2 of 10\n",
      "Model Number: 323 with model AverageValueNaive in generation 2 of 10\n",
      "Model Number: 324 with model SeasonalNaive in generation 2 of 10\n",
      "Model Number: 325 with model GLM in generation 2 of 10\n",
      "Model Number: 326 with model GLM in generation 2 of 10\n",
      "Model Number: 327 with model SeasonalNaive in generation 2 of 10\n",
      "Model Number: 328 with model ConstantNaive in generation 2 of 10\n",
      "Model Number: 329 with model BasicLinearModel in generation 2 of 10\n",
      "Model Number: 330 with model SeasonalNaive in generation 2 of 10\n",
      "Model Number: 331 with model GLM in generation 2 of 10\n",
      "Model Number: 332 with model ARDL in generation 2 of 10\n",
      "Model Number: 333 with model GLS in generation 2 of 10\n",
      "Template Eval Error: Exception(\"Transformer BTCD failed on fit from params pchip {'0': {'regression_model': {'model': 'FastRidge', 'model_params': {}}, 'max_lags': 2}, '1': {}} with error ValueError('BTCD only works on multivarate series')\") in model 333 in generation 2: GLS\n",
      "Model Number: 334 with model FFT in generation 2 of 10\n",
      "Model Number: 335 with model UnivariateMotif in generation 2 of 10\n",
      "Model Number: 336 with model UnivariateMotif in generation 2 of 10\n",
      "Model Number: 337 with model ETS in generation 2 of 10\n",
      "Model Number: 338 with model WindowRegression in generation 2 of 10\n",
      "Model Number: 339 with model WindowRegression in generation 2 of 10\n"
     ]
    },
    {
     "name": "stderr",
     "output_type": "stream",
     "text": [
      "/home/zeus/miniconda3/envs/cloudspace/lib/python3.10/site-packages/sklearn/base.py:458: UserWarning: X has feature names, but StandardScaler was fitted without feature names\n",
      "  warnings.warn(\n"
     ]
    },
    {
     "name": "stdout",
     "output_type": "stream",
     "text": [
      "Model Number: 340 with model UnivariateMotif in generation 2 of 10\n"
     ]
    },
    {
     "name": "stderr",
     "output_type": "stream",
     "text": [
      "/home/zeus/miniconda3/envs/cloudspace/lib/python3.10/site-packages/sklearn/base.py:458: UserWarning: X has feature names, but StandardScaler was fitted without feature names\n",
      "  warnings.warn(\n"
     ]
    },
    {
     "name": "stdout",
     "output_type": "stream",
     "text": [
      "Model Number: 341 with model GLM in generation 2 of 10\n",
      "Model Number: 342 with model SectionalMotif in generation 2 of 10\n",
      "Model Number: 343 with model AverageValueNaive in generation 2 of 10\n",
      "Model Number: 344 with model GLS in generation 2 of 10\n",
      "Model Number: 345 with model MetricMotif in generation 2 of 10\n",
      "Model Number: 346 with model SeasonalNaive in generation 2 of 10\n",
      "Model Number: 347 with model MetricMotif in generation 2 of 10\n",
      "Model Number: 348 with model FFT in generation 2 of 10\n",
      "Model Number: 349 with model SeasonalNaive in generation 2 of 10\n"
     ]
    },
    {
     "name": "stderr",
     "output_type": "stream",
     "text": [
      "/home/zeus/miniconda3/envs/cloudspace/lib/python3.10/site-packages/sklearn/neighbors/_classification.py:233: DataConversionWarning: A column-vector y was passed when a 1d array was expected. Please change the shape of y to (n_samples,), for example using ravel().\n",
      "  return self._fit(X, y)\n"
     ]
    },
    {
     "name": "stdout",
     "output_type": "stream",
     "text": [
      "Model Number: 350 with model BasicLinearModel in generation 2 of 10\n",
      "Model Number: 351 with model SeasonalNaive in generation 2 of 10\n",
      "Model Number: 352 with model GLS in generation 2 of 10\n",
      "Model Number: 353 with model MetricMotif in generation 2 of 10\n",
      "Model Number: 354 with model LastValueNaive in generation 2 of 10\n",
      "Model Number: 355 with model SeasonalityMotif in generation 2 of 10\n",
      "Model Number: 356 with model UnivariateMotif in generation 2 of 10\n",
      "Model Number: 357 with model FFT in generation 2 of 10\n",
      "Model Number: 358 with model SeasonalNaive in generation 2 of 10\n",
      "Model Number: 359 with model ConstantNaive in generation 2 of 10\n",
      "Model Number: 360 with model FFT in generation 2 of 10\n",
      "Model Number: 361 with model GLM in generation 2 of 10\n",
      "Model Number: 362 with model RRVAR in generation 2 of 10\n",
      "Model Number: 363 with model DatepartRegression in generation 2 of 10\n",
      "Model Number: 364 with model BasicLinearModel in generation 2 of 10\n",
      "Model Number: 365 with model ETS in generation 2 of 10\n",
      "New Generation: 3 of 10\n",
      "Model Number: 366 with model MetricMotif in generation 3 of 10\n",
      "Model Number: 367 with model GLS in generation 3 of 10\n",
      "Model Number: 368 with model MetricMotif in generation 3 of 10\n",
      "Template Eval Error: ValueError('kth(=2) out of bounds (1)') in model 368 in generation 3: MetricMotif\n",
      "Model Number: 369 with model ConstantNaive in generation 3 of 10\n",
      "Model Number: 370 with model SeasonalityMotif in generation 3 of 10\n",
      "Model Number: 371 with model DatepartRegression in generation 3 of 10\n",
      "Model Number: 372 with model UnivariateMotif in generation 3 of 10\n",
      "Template Eval Error: Exception(\"Transformer BTCD failed on fit from params zero {'0': {'rows': 1, 'lag': 7, 'method': 'additive', 'strength': 1.0, 'first_value_only': False, 'threshold': 10, 'threshold_method': 'mean'}, '1': {'regression_model': {'model': 'LinearRegression', 'model_params': {}}, 'max_lags': 2}, '2': {'window_size': 90, 'alpha': 2.2, 'grouping_forward_limit': 6, 'max_level_shifts': 30, 'alignment': 'average'}} with error ValueError('BTCD only works on multivarate series')\") in model 372 in generation 3: UnivariateMotif\n",
      "Model Number: 373 with model BasicLinearModel in generation 3 of 10\n",
      "Model Number: 374 with model ConstantNaive in generation 3 of 10\n",
      "Model Number: 375 with model GLM in generation 3 of 10\n",
      "Model Number: 376 with model LastValueNaive in generation 3 of 10\n",
      "Model Number: 377 with model SectionalMotif in generation 3 of 10\n",
      "Model Number: 378 with model SeasonalNaive in generation 3 of 10\n",
      "Model Number: 379 with model UnivariateMotif in generation 3 of 10\n",
      "Model Number: 380 with model UnivariateMotif in generation 3 of 10\n",
      "Model Number: 381 with model DatepartRegression in generation 3 of 10\n",
      "Model Number: 382 with model AverageValueNaive in generation 3 of 10\n",
      "Model Number: 383 with model ConstantNaive in generation 3 of 10\n",
      "Model Number: 384 with model ConstantNaive in generation 3 of 10\n",
      "Model Number: 385 with model Cassandra in generation 3 of 10\n",
      "Template Eval Error: UnboundLocalError(\"local variable 'slope' referenced before assignment\") in model 385 in generation 3: Cassandra\n",
      "Model Number: 386 with model FFT in generation 3 of 10\n"
     ]
    },
    {
     "name": "stderr",
     "output_type": "stream",
     "text": [
      "/home/zeus/miniconda3/envs/cloudspace/lib/python3.10/site-packages/sklearn/neighbors/_classification.py:233: DataConversionWarning: A column-vector y was passed when a 1d array was expected. Please change the shape of y to (n_samples,), for example using ravel().\n",
      "  return self._fit(X, y)\n"
     ]
    },
    {
     "name": "stdout",
     "output_type": "stream",
     "text": [
      "Model Number: 387 with model ARDL in generation 3 of 10\n",
      "Template Eval Error: Exception(\"Transformer ReplaceConstant failed on fit from params ffill_mean_biased {'0': {'constant': 1, 'reintroduction_model': {'model': 'xgboost', 'model_params': {'booster': 'gbtree', 'max_depth': 6, 'eta': 0.3, 'min_child_weight': 5, 'subsample': 1, 'colsample_bylevel': 0.9, 'reg_alpha': 0, 'reg_lambda': 1, 'grow_policy': 'lossguide'}, 'datepart_method': 'recurring'}, 'fillna': 'pchip'}, '1': {}, '2': {'rows': 1, 'lag': 1, 'method': 'additive', 'strength': 1.0, 'first_value_only': False, 'threshold': 1, 'threshold_method': 'max'}, '3': {'rows': 4, 'lag': 28, 'method': 'additive', 'strength': 1.0, 'first_value_only': False, 'threshold': 1, 'threshold_method': 'mean'}} with error ValueError('Invalid classes inferred from unique values of `y`.  Expected: [0], got [1]')\") in model 387 in generation 3: ARDL\n",
      "Model Number: 388 with model MetricMotif in generation 3 of 10\n",
      "Model Number: 389 with model SeasonalNaive in generation 3 of 10\n",
      "Model Number: 390 with model FFT in generation 3 of 10\n",
      "Model Number: 391 with model GLM in generation 3 of 10\n",
      "Model Number: 392 with model UnivariateMotif in generation 3 of 10\n",
      "Model Number: 393 with model ETS in generation 3 of 10\n",
      "Model Number: 394 with model DatepartRegression in generation 3 of 10\n",
      "interpolating\n",
      "Template Eval Error: ValueError('Model DatepartRegression returned NaN for one or more series. fail_on_forecast_nan=True') in model 394 in generation 3: DatepartRegression\n",
      "Model Number: 395 with model FFT in generation 3 of 10\n",
      "Model Number: 396 with model MetricMotif in generation 3 of 10\n",
      "Model Number: 397 with model DatepartRegression in generation 3 of 10\n"
     ]
    },
    {
     "name": "stderr",
     "output_type": "stream",
     "text": [
      "/home/zeus/miniconda3/envs/cloudspace/lib/python3.10/site-packages/sklearn/neighbors/_regression.py:500: UserWarning: One or more samples have no neighbors within specified radius; predicting NaN.\n",
      "  warnings.warn(empty_warning_msg)\n"
     ]
    },
    {
     "name": "stdout",
     "output_type": "stream",
     "text": [
      "Model Number: 398 with model UnivariateMotif in generation 3 of 10\n",
      "Model Number: 399 with model DatepartRegression in generation 3 of 10\n",
      "Model Number: 400 with model DatepartRegression in generation 3 of 10\n",
      "Template Eval Error: ModuleNotFoundError(\"No module named 'tensorflow'\") in model 400 in generation 3: DatepartRegression\n",
      "Model Number: 401 with model GLS in generation 3 of 10\n",
      "Model Number: 402 with model WindowRegression in generation 3 of 10\n",
      "Template Eval Error: ValueError('`min_samples` may not be larger than number of samples: n_samples = 31.') in model 402 in generation 3: WindowRegression\n",
      "Model Number: 403 with model MetricMotif in generation 3 of 10\n",
      "Model Number: 404 with model LastValueNaive in generation 3 of 10\n",
      "Model Number: 405 with model RRVAR in generation 3 of 10\n",
      "Model Number: 406 with model SeasonalityMotif in generation 3 of 10\n",
      "Model Number: 407 with model UnivariateMotif in generation 3 of 10\n",
      "Model Number: 408 with model BasicLinearModel in generation 3 of 10\n",
      "Template Eval Error: ValueError(\"regression_type=='User' but no future_regressor supplied\") in model 408 in generation 3: BasicLinearModel\n",
      "Model Number: 409 with model UnivariateMotif in generation 3 of 10\n",
      "Model Number: 410 with model SectionalMotif in generation 3 of 10\n"
     ]
    },
    {
     "name": "stderr",
     "output_type": "stream",
     "text": [
      "/home/zeus/miniconda3/envs/cloudspace/lib/python3.10/site-packages/sklearn/decomposition/_fastica.py:576: UserWarning: Ignoring n_components with whiten=False.\n",
      "  warnings.warn(\"Ignoring n_components with whiten=False.\")\n"
     ]
    },
    {
     "name": "stdout",
     "output_type": "stream",
     "text": [
      "Model Number: 411 with model ETS in generation 3 of 10\n",
      "Model Number: 412 with model SeasonalityMotif in generation 3 of 10\n",
      "Model Number: 413 with model ConstantNaive in generation 3 of 10\n",
      "Template Eval Error: Exception(\"Transformer BTCD failed on fit from params ffill {'0': {'rows': 1, 'lag': 1, 'method': 'additive', 'strength': 0.9, 'first_value_only': False, 'threshold': None, 'threshold_method': 'max'}, '1': {'regression_model': {'model': 'LinearRegression', 'model_params': {}}, 'max_lags': 2}, '2': {'sigma': 2, 'rolling_window': 90, 'run_order': 'trend_first', 'regression_params': {'regression_model': {'model': 'ElasticNet', 'model_params': {'l1_ratio': 0.1, 'fit_intercept': True, 'selection': 'cyclic', 'max_iter': 1000}}, 'datepart_method': ['simple_2'], 'polynomial_degree': None, 'transform_dict': {'fillna': None, 'transformations': {'0': 'EWMAFilter'}, 'transformation_params': {'0': {'span': 2}}}, 'holiday_countries_used': False, 'lags': 2, 'forward_lags': None}, 'holiday_params': {'threshold': 0.8, 'splash_threshold': None, 'use_dayofmonth_holidays': True, 'use_wkdom_holidays': False, 'use_wkdeom_holidays': False, 'use_lunar_holidays': False, 'use_lunar_weekday': False, 'use_islamic_holidays': True, 'use_hebrew_holidays': False, 'use_hindu_holidays': False, 'anomaly_detector_params': {'method': 'minmax', 'method_params': {'alpha': 0.05}, 'fillna': 'ffill', 'transform_dict': {'fillna': None, 'transformations': {'0': 'EWMAFilter'}, 'transformation_params': {'0': {'span': 7}}}, 'isolated_only': False, 'on_inverse': False}, 'remove_excess_anomalies': True, 'impact': 'datepart_regression', 'regression_params': {'regression_model': {'model': 'ElasticNet', 'model_params': {'l1_ratio': 0.1, 'fit_intercept': True, 'selection': 'cyclic', 'max_iter': 1000}}, 'datepart_method': ['simple_2'], 'polynomial_degree': None, 'transform_dict': {'fillna': None, 'transformations': {'0': 'EWMAFilter'}, 'transformation_params': {'0': {'span': 2}}}, 'holiday_countries_used': False, 'lags': 2, 'forward_lags': None}}, 'trend_method': 'local_linear'}, '3': {'window_size': 30, 'alpha': 2.5, 'grouping_forward_limit': 6, 'max_level_shifts': 40, 'alignment': 'rolling_diff_3nn'}} with error ValueError('BTCD only works on multivarate series')\") in model 413 in generation 3: ConstantNaive\n",
      "Model Number: 414 with model UnivariateMotif in generation 3 of 10\n",
      "Model Number: 415 with model GLM in generation 3 of 10\n",
      "Model Number: 416 with model GLM in generation 3 of 10\n",
      "Model Number: 417 with model LastValueNaive in generation 3 of 10\n",
      "Model Number: 418 with model UnivariateMotif in generation 3 of 10\n",
      "Model Number: 419 with model LastValueNaive in generation 3 of 10\n",
      "Model Number: 420 with model AverageValueNaive in generation 3 of 10\n",
      "Model Number: 421 with model DatepartRegression in generation 3 of 10\n",
      "Model Number: 422 with model DatepartRegression in generation 3 of 10\n",
      "Template Eval Error: ValueError(\"regression_type='User' but no future_regressor passed\") in model 422 in generation 3: DatepartRegression\n",
      "Model Number: 423 with model FFT in generation 3 of 10\n",
      "Template Eval Error: Exception(\"Transformer HolidayTransformer failed on fit from params ffill {'0': {}, '1': {'rows': 168, 'lag': 84, 'method': 'additive', 'strength': 1.0, 'first_value_only': True, 'threshold': 1, 'threshold_method': 'max'}, '2': {'threshold': 0.8, 'splash_threshold': None, 'use_dayofmonth_holidays': False, 'use_wkdom_holidays': True, 'use_wkdeom_holidays': False, 'use_lunar_holidays': False, 'use_lunar_weekday': False, 'use_islamic_holidays': False, 'use_hebrew_holidays': False, 'use_hindu_holidays': False, 'anomaly_detector_params': {'method': 'rolling_zscore', 'method_params': {'distribution': 'norm', 'alpha': 0.05, 'rolling_periods': 300, 'center': True}, 'fillna': 'ffill', 'transform_dict': {'transformations': {'0': 'DatepartRegression'}, 'transformation_params': {'0': {'datepart_method': 'simple_3', 'regression_model': {'model': 'FastRidge', 'model_params': {}}}}}, 'isolated_only': False, 'on_inverse': False}, 'remove_excess_anomalies': True, 'impact': 'datepart_regression', 'regression_params': {'regression_model': {'model': 'DecisionTree', 'model_params': {'max_depth': None, 'min_samples_split': 2}}, 'datepart_method': 'simple', 'polynomial_degree': None, 'transform_dict': {'fillna': None, 'transformations': {'0': 'EWMAFilter'}, 'transformation_params': {'0': {'span': 2}}}, 'holiday_countries_used': False, 'lags': 1, 'forward_lags': None}}} with error ValueError('more than 1 year of data is required for holiday detection.')\") in model 423 in generation 3: FFT\n",
      "Model Number: 424 with model RRVAR in generation 3 of 10\n",
      "Model Number: 425 with model SectionalMotif in generation 3 of 10\n",
      "Template Eval Error: ValueError('kth(=100) out of bounds (36)') in model 425 in generation 3: SectionalMotif\n",
      "Model Number: 426 with model AverageValueNaive in generation 3 of 10\n",
      "Template Eval Error: Exception(\"Transformer Cointegration failed on fit from params fake_date {'0': {}, '1': {'constraint_method': 'stdev_min', 'constraint_direction': 'lower', 'constraint_regularization': 0.5, 'constraint_value': 3.0, 'bounds_only': False, 'fillna': None}, '2': {'low': 6, 'high': 32, 'K': 1, 'lanczos_factor': False, 'return_diff': True, 'on_transform': True, 'on_inverse': False}, '3': {'det_order': -1, 'k_ar_diff': 0}} with error ValueError('Coint only works on multivarate series')\") in model 426 in generation 3: AverageValueNaive\n",
      "Model Number: 427 with model LastValueNaive in generation 3 of 10\n",
      "Model Number: 428 with model SeasonalityMotif in generation 3 of 10\n",
      "Model Number: 429 with model SeasonalNaive in generation 3 of 10\n"
     ]
    },
    {
     "name": "stderr",
     "output_type": "stream",
     "text": [
      "/home/zeus/miniconda3/envs/cloudspace/lib/python3.10/site-packages/sklearn/linear_model/_ridge.py:200: LinAlgWarning: Ill-conditioned matrix (rcond=1.00589e-24): result may not be accurate.\n",
      "  return linalg.solve(A, Xy, assume_a=\"pos\", overwrite_a=True).T\n"
     ]
    },
    {
     "name": "stdout",
     "output_type": "stream",
     "text": [
      "Model Number: 430 with model BasicLinearModel in generation 3 of 10\n",
      "Model Number: 431 with model WindowRegression in generation 3 of 10\n",
      "Template Eval Error: XGBoostError('[05:23:58] /workspace/include/xgboost/objective.h:104: multioutput is not supported by current objective function\\nStack trace:\\n  [bt] (0) /home/zeus/miniconda3/envs/cloudspace/lib/python3.10/site-packages/xgboost/lib/libxgboost.so(+0x48c70a) [0x7fed4b8ae70a]\\n  [bt] (1) /home/zeus/miniconda3/envs/cloudspace/lib/python3.10/site-packages/xgboost/lib/libxgboost.so(+0x4bfee7) [0x7fed4b8e1ee7]\\n  [bt] (2) /home/zeus/miniconda3/envs/cloudspace/lib/python3.10/site-packages/xgboost/lib/libxgboost.so(+0x4ccd7d) [0x7fed4b8eed7d]\\n  [bt] (3) /home/zeus/miniconda3/envs/cloudspace/lib/python3.10/site-packages/xgboost/lib/libxgboost.so(+0x4c5268) [0x7fed4b8e7268]\\n  [bt] (4) /home/zeus/miniconda3/envs/cloudspace/lib/python3.10/site-packages/xgboost/lib/libxgboost.so(XGBoosterUpdateOneIter+0x70) [0x7fed4b583ef0]\\n  [bt] (5) /home/zeus/miniconda3/envs/cloudspace/lib/python3.10/lib-dynload/../../libffi.so.8(+0xa052) [0x7fee59837052]\\n  [bt] (6) /home/zeus/miniconda3/envs/cloudspace/lib/python3.10/lib-dynload/../../libffi.so.8(+0x8925) [0x7fee59835925]\\n  [bt] (7) /home/zeus/miniconda3/envs/cloudspace/lib/python3.10/lib-dynload/../../libffi.so.8(ffi_call+0xde) [0x7fee5983606e]\\n  [bt] (8) /home/zeus/miniconda3/envs/cloudspace/lib/python3.10/lib-dynload/_ctypes.cpython-310-x86_64-linux-gnu.so(+0x91e7) [0x7fee5811b1e7]\\n\\n') in model 431 in generation 3: WindowRegression\n",
      "Model Number: 432 with model WindowRegression in generation 3 of 10\n",
      "Model Number: 433 with model ARDL in generation 3 of 10\n"
     ]
    },
    {
     "name": "stderr",
     "output_type": "stream",
     "text": [
      "/home/zeus/miniconda3/envs/cloudspace/lib/python3.10/site-packages/sklearn/base.py:458: UserWarning: X has feature names, but StandardScaler was fitted without feature names\n",
      "  warnings.warn(\n"
     ]
    },
    {
     "name": "stdout",
     "output_type": "stream",
     "text": [
      "Model Number: 434 with model SeasonalityMotif in generation 3 of 10\n",
      "Model Number: 435 with model ETS in generation 3 of 10\n",
      "Model Number: 436 with model WindowRegression in generation 3 of 10\n",
      "Template Eval Error: ValueError('`min_samples` may not be larger than number of samples: n_samples = 12.') in model 436 in generation 3: WindowRegression\n",
      "Model Number: 437 with model WindowRegression in generation 3 of 10\n",
      "Template Eval Error: ValueError(\"regression_type='User' but no future_regressor passed\") in model 437 in generation 3: WindowRegression\n",
      "Model Number: 438 with model ETS in generation 3 of 10\n",
      "Model Number: 439 with model ARDL in generation 3 of 10\n",
      "Model Number: 440 with model LastValueNaive in generation 3 of 10\n",
      "Model Number: 441 with model BasicLinearModel in generation 3 of 10\n",
      "Model Number: 442 with model Cassandra in generation 3 of 10\n"
     ]
    },
    {
     "name": "stderr",
     "output_type": "stream",
     "text": [
      "/home/zeus/miniconda3/envs/cloudspace/lib/python3.10/site-packages/numpy/lib/function_base.py:2897: RuntimeWarning: invalid value encountered in divide\n",
      "  c /= stddev[:, None]\n",
      "/home/zeus/miniconda3/envs/cloudspace/lib/python3.10/site-packages/numpy/lib/function_base.py:2898: RuntimeWarning: invalid value encountered in divide\n",
      "  c /= stddev[None, :]\n",
      "/home/zeus/miniconda3/envs/cloudspace/lib/python3.10/site-packages/sklearn/base.py:458: UserWarning: X has feature names, but StandardScaler was fitted without feature names\n",
      "  warnings.warn(\n",
      "/home/zeus/miniconda3/envs/cloudspace/lib/python3.10/site-packages/sklearn/base.py:458: UserWarning: X has feature names, but StandardScaler was fitted without feature names\n",
      "  warnings.warn(\n",
      "/home/zeus/miniconda3/envs/cloudspace/lib/python3.10/site-packages/sklearn/base.py:458: UserWarning: X has feature names, but StandardScaler was fitted without feature names\n",
      "  warnings.warn(\n",
      "/home/zeus/miniconda3/envs/cloudspace/lib/python3.10/site-packages/sklearn/base.py:458: UserWarning: X has feature names, but StandardScaler was fitted without feature names\n",
      "  warnings.warn(\n",
      "/home/zeus/miniconda3/envs/cloudspace/lib/python3.10/site-packages/sklearn/base.py:458: UserWarning: X has feature names, but StandardScaler was fitted without feature names\n",
      "  warnings.warn(\n",
      "/home/zeus/miniconda3/envs/cloudspace/lib/python3.10/site-packages/sklearn/base.py:458: UserWarning: X has feature names, but StandardScaler was fitted without feature names\n",
      "  warnings.warn(\n",
      "/home/zeus/miniconda3/envs/cloudspace/lib/python3.10/site-packages/sklearn/base.py:458: UserWarning: X has feature names, but StandardScaler was fitted without feature names\n",
      "  warnings.warn(\n",
      "/home/zeus/miniconda3/envs/cloudspace/lib/python3.10/site-packages/sklearn/base.py:458: UserWarning: X has feature names, but StandardScaler was fitted without feature names\n",
      "  warnings.warn(\n",
      "/home/zeus/miniconda3/envs/cloudspace/lib/python3.10/site-packages/sklearn/base.py:458: UserWarning: X has feature names, but StandardScaler was fitted without feature names\n",
      "  warnings.warn(\n",
      "/home/zeus/miniconda3/envs/cloudspace/lib/python3.10/site-packages/sklearn/base.py:458: UserWarning: X has feature names, but StandardScaler was fitted without feature names\n",
      "  warnings.warn(\n",
      "/home/zeus/miniconda3/envs/cloudspace/lib/python3.10/site-packages/sklearn/base.py:458: UserWarning: X has feature names, but StandardScaler was fitted without feature names\n",
      "  warnings.warn(\n",
      "/home/zeus/miniconda3/envs/cloudspace/lib/python3.10/site-packages/sklearn/base.py:458: UserWarning: X has feature names, but StandardScaler was fitted without feature names\n",
      "  warnings.warn(\n",
      "/home/zeus/miniconda3/envs/cloudspace/lib/python3.10/site-packages/sklearn/base.py:458: UserWarning: X has feature names, but StandardScaler was fitted without feature names\n",
      "  warnings.warn(\n",
      "/home/zeus/miniconda3/envs/cloudspace/lib/python3.10/site-packages/sklearn/base.py:458: UserWarning: X has feature names, but StandardScaler was fitted without feature names\n",
      "  warnings.warn(\n",
      "/home/zeus/miniconda3/envs/cloudspace/lib/python3.10/site-packages/sklearn/base.py:458: UserWarning: X has feature names, but StandardScaler was fitted without feature names\n",
      "  warnings.warn(\n",
      "/home/zeus/miniconda3/envs/cloudspace/lib/python3.10/site-packages/sklearn/base.py:458: UserWarning: X has feature names, but StandardScaler was fitted without feature names\n",
      "  warnings.warn(\n",
      "/home/zeus/miniconda3/envs/cloudspace/lib/python3.10/site-packages/sklearn/base.py:458: UserWarning: X has feature names, but StandardScaler was fitted without feature names\n",
      "  warnings.warn(\n",
      "/home/zeus/miniconda3/envs/cloudspace/lib/python3.10/site-packages/sklearn/base.py:458: UserWarning: X has feature names, but StandardScaler was fitted without feature names\n",
      "  warnings.warn(\n",
      "/home/zeus/miniconda3/envs/cloudspace/lib/python3.10/site-packages/sklearn/base.py:458: UserWarning: X has feature names, but StandardScaler was fitted without feature names\n",
      "  warnings.warn(\n",
      "/home/zeus/miniconda3/envs/cloudspace/lib/python3.10/site-packages/sklearn/base.py:458: UserWarning: X has feature names, but StandardScaler was fitted without feature names\n",
      "  warnings.warn(\n",
      "/home/zeus/miniconda3/envs/cloudspace/lib/python3.10/site-packages/sklearn/base.py:458: UserWarning: X has feature names, but StandardScaler was fitted without feature names\n",
      "  warnings.warn(\n",
      "/home/zeus/miniconda3/envs/cloudspace/lib/python3.10/site-packages/sklearn/base.py:458: UserWarning: X has feature names, but StandardScaler was fitted without feature names\n",
      "  warnings.warn(\n",
      "/home/zeus/miniconda3/envs/cloudspace/lib/python3.10/site-packages/sklearn/base.py:458: UserWarning: X has feature names, but StandardScaler was fitted without feature names\n",
      "  warnings.warn(\n",
      "/home/zeus/miniconda3/envs/cloudspace/lib/python3.10/site-packages/sklearn/base.py:458: UserWarning: X has feature names, but StandardScaler was fitted without feature names\n",
      "  warnings.warn(\n",
      "/home/zeus/miniconda3/envs/cloudspace/lib/python3.10/site-packages/sklearn/base.py:458: UserWarning: X has feature names, but StandardScaler was fitted without feature names\n",
      "  warnings.warn(\n",
      "/home/zeus/miniconda3/envs/cloudspace/lib/python3.10/site-packages/sklearn/base.py:458: UserWarning: X has feature names, but StandardScaler was fitted without feature names\n",
      "  warnings.warn(\n",
      "/home/zeus/miniconda3/envs/cloudspace/lib/python3.10/site-packages/sklearn/base.py:458: UserWarning: X has feature names, but StandardScaler was fitted without feature names\n",
      "  warnings.warn(\n",
      "/home/zeus/miniconda3/envs/cloudspace/lib/python3.10/site-packages/sklearn/base.py:458: UserWarning: X has feature names, but StandardScaler was fitted without feature names\n",
      "  warnings.warn(\n",
      "/home/zeus/miniconda3/envs/cloudspace/lib/python3.10/site-packages/sklearn/base.py:458: UserWarning: X has feature names, but StandardScaler was fitted without feature names\n",
      "  warnings.warn(\n",
      "/home/zeus/miniconda3/envs/cloudspace/lib/python3.10/site-packages/sklearn/base.py:458: UserWarning: X has feature names, but StandardScaler was fitted without feature names\n",
      "  warnings.warn(\n",
      "/home/zeus/miniconda3/envs/cloudspace/lib/python3.10/site-packages/sklearn/base.py:458: UserWarning: X has feature names, but StandardScaler was fitted without feature names\n",
      "  warnings.warn(\n",
      "/home/zeus/miniconda3/envs/cloudspace/lib/python3.10/site-packages/sklearn/base.py:458: UserWarning: X has feature names, but StandardScaler was fitted without feature names\n",
      "  warnings.warn(\n",
      "/home/zeus/miniconda3/envs/cloudspace/lib/python3.10/site-packages/sklearn/base.py:458: UserWarning: X has feature names, but StandardScaler was fitted without feature names\n",
      "  warnings.warn(\n",
      "/home/zeus/miniconda3/envs/cloudspace/lib/python3.10/site-packages/sklearn/base.py:458: UserWarning: X has feature names, but StandardScaler was fitted without feature names\n",
      "  warnings.warn(\n",
      "/home/zeus/miniconda3/envs/cloudspace/lib/python3.10/site-packages/sklearn/base.py:458: UserWarning: X has feature names, but StandardScaler was fitted without feature names\n",
      "  warnings.warn(\n",
      "/home/zeus/miniconda3/envs/cloudspace/lib/python3.10/site-packages/sklearn/base.py:458: UserWarning: X has feature names, but StandardScaler was fitted without feature names\n",
      "  warnings.warn(\n",
      "/home/zeus/miniconda3/envs/cloudspace/lib/python3.10/site-packages/sklearn/base.py:458: UserWarning: X has feature names, but StandardScaler was fitted without feature names\n",
      "  warnings.warn(\n",
      "/home/zeus/miniconda3/envs/cloudspace/lib/python3.10/site-packages/sklearn/base.py:458: UserWarning: X has feature names, but StandardScaler was fitted without feature names\n",
      "  warnings.warn(\n",
      "/home/zeus/miniconda3/envs/cloudspace/lib/python3.10/site-packages/sklearn/base.py:458: UserWarning: X has feature names, but StandardScaler was fitted without feature names\n",
      "  warnings.warn(\n",
      "/home/zeus/miniconda3/envs/cloudspace/lib/python3.10/site-packages/sklearn/base.py:458: UserWarning: X has feature names, but StandardScaler was fitted without feature names\n",
      "  warnings.warn(\n",
      "/home/zeus/miniconda3/envs/cloudspace/lib/python3.10/site-packages/sklearn/base.py:458: UserWarning: X has feature names, but StandardScaler was fitted without feature names\n",
      "  warnings.warn(\n"
     ]
    },
    {
     "name": "stdout",
     "output_type": "stream",
     "text": [
      "Model Number: 443 with model SectionalMotif in generation 3 of 10\n",
      "Template Eval Error: ValueError('kth(=3) out of bounds (1)') in model 443 in generation 3: SectionalMotif\n",
      "Model Number: 444 with model SeasonalityMotif in generation 3 of 10\n"
     ]
    },
    {
     "name": "stderr",
     "output_type": "stream",
     "text": [
      "/home/zeus/miniconda3/envs/cloudspace/lib/python3.10/site-packages/sklearn/base.py:458: UserWarning: X has feature names, but StandardScaler was fitted without feature names\n",
      "  warnings.warn(\n",
      "/home/zeus/miniconda3/envs/cloudspace/lib/python3.10/site-packages/sklearn/base.py:458: UserWarning: X has feature names, but StandardScaler was fitted without feature names\n",
      "  warnings.warn(\n",
      "/home/zeus/miniconda3/envs/cloudspace/lib/python3.10/site-packages/sklearn/base.py:458: UserWarning: X has feature names, but StandardScaler was fitted without feature names\n",
      "  warnings.warn(\n",
      "/home/zeus/miniconda3/envs/cloudspace/lib/python3.10/site-packages/sklearn/base.py:458: UserWarning: X has feature names, but StandardScaler was fitted without feature names\n",
      "  warnings.warn(\n",
      "/home/zeus/miniconda3/envs/cloudspace/lib/python3.10/site-packages/sklearn/base.py:458: UserWarning: X has feature names, but StandardScaler was fitted without feature names\n",
      "  warnings.warn(\n",
      "/home/zeus/miniconda3/envs/cloudspace/lib/python3.10/site-packages/sklearn/base.py:458: UserWarning: X has feature names, but StandardScaler was fitted without feature names\n",
      "  warnings.warn(\n",
      "/home/zeus/miniconda3/envs/cloudspace/lib/python3.10/site-packages/sklearn/base.py:458: UserWarning: X has feature names, but StandardScaler was fitted without feature names\n",
      "  warnings.warn(\n",
      "/home/zeus/miniconda3/envs/cloudspace/lib/python3.10/site-packages/sklearn/base.py:458: UserWarning: X has feature names, but StandardScaler was fitted without feature names\n",
      "  warnings.warn(\n",
      "/home/zeus/miniconda3/envs/cloudspace/lib/python3.10/site-packages/sklearn/base.py:458: UserWarning: X has feature names, but StandardScaler was fitted without feature names\n",
      "  warnings.warn(\n",
      "/home/zeus/miniconda3/envs/cloudspace/lib/python3.10/site-packages/sklearn/base.py:458: UserWarning: X has feature names, but StandardScaler was fitted without feature names\n",
      "  warnings.warn(\n",
      "/home/zeus/miniconda3/envs/cloudspace/lib/python3.10/site-packages/sklearn/base.py:458: UserWarning: X has feature names, but StandardScaler was fitted without feature names\n",
      "  warnings.warn(\n"
     ]
    },
    {
     "name": "stdout",
     "output_type": "stream",
     "text": [
      "Model Number: 445 with model ConstantNaive in generation 3 of 10\n",
      "Model Number: 446 with model ConstantNaive in generation 3 of 10\n",
      "Model Number: 447 with model SeasonalityMotif in generation 3 of 10\n",
      "Model Number: 448 with model AverageValueNaive in generation 3 of 10\n",
      "Model Number: 449 with model LastValueNaive in generation 3 of 10\n",
      "Model Number: 450 with model SectionalMotif in generation 3 of 10\n",
      "Model Number: 451 with model DatepartRegression in generation 3 of 10\n",
      "Template Eval Error: ValueError(\"regression_type='User' but no future_regressor passed\") in model 451 in generation 3: DatepartRegression\n",
      "Model Number: 452 with model UnivariateMotif in generation 3 of 10\n",
      "Model Number: 453 with model ETS in generation 3 of 10\n",
      "Model Number: 454 with model SectionalMotif in generation 3 of 10\n",
      "Model Number: 455 with model GLM in generation 3 of 10\n",
      "Template Eval Error: ValueError('Model GLM returned NaN for one or more series. fail_on_forecast_nan=True') in model 455 in generation 3: GLM\n",
      "Model Number: 456 with model ARDL in generation 3 of 10\n",
      "Template Eval Error: ValueError(\"ARDL series 64087abe6d4b2df660baa360f5041e2e3c05ed9d406e6d297d13c314c3f3ded5 failed with error ValueError('integer orders must be at least 1 when causal is True.') exog train             seasonalitycommonfourier_0  seasonalitycommonfourier_1  \\\\\\ndate                                                                 \\n2023-01-01                    0.999991                    0.999963   \\n2023-01-02                    0.999917                    0.999667   \\n2023-01-03                    0.999547                    0.998188   \\n2023-01-04                    0.998881                    0.995527   \\n2023-01-05                    0.997920                    0.991689   \\n...                                ...                         ...   \\n2023-04-08                   -0.093402                   -0.982552   \\n2023-04-09                   -0.110514                   -0.975573   \\n2023-04-10                   -0.127594                   -0.967439   \\n2023-04-11                   -0.144636                   -0.958161   \\n2023-04-12                   -0.161636                   -0.947748   \\n\\n            seasonalitycommonfourier_2  seasonalitycommonfourier_3  \\\\\\ndate                                                                 \\n2023-01-01                    0.999917                    0.999852   \\n2023-01-02                    0.999251                    0.998669   \\n2023-01-03                    0.995925                    0.992759   \\n2023-01-04                    0.989946                    0.982150   \\n2023-01-05                    0.981332                    0.966893   \\n...                                ...                         ...   \\n2023-04-08                    0.276946                    0.930818   \\n2023-04-09                    0.326144                    0.903486   \\n2023-04-10                    0.374474                    0.871878   \\n2023-04-11                    0.421806                    0.836144   \\n2023-04-12                    0.468015                    0.796452   \\n\\n            seasonalitycommonfourier_4  seasonalitycommonfourier_5  \\\\\\ndate                                                                 \\n2023-01-01                    0.999769                    0.999667   \\n2023-01-02                    0.997920                    0.997005   \\n2023-01-03                    0.988693                    0.983732   \\n2023-01-04                    0.972156                    0.959987   \\n2023-01-05                    0.948432                    0.926025   \\n...                                ...                         ...   \\n2023-04-08                   -0.450826                   -0.846602   \\n2023-04-09                   -0.525841                   -0.787260   \\n2023-04-10                   -0.596967                   -0.719539   \\n2023-04-11                   -0.663680                   -0.644159   \\n2023-04-12                   -0.725485                   -0.561923   \\n\\n            seasonalitycommonfourier_6  seasonalitycommonfourier_7  \\\\\\ndate                                                                 \\n2023-01-01                    0.999547                    0.999408   \\n2023-01-02                    0.995925                    0.994678   \\n2023-01-03                    0.977879                    0.971139   \\n2023-01-04                    0.945670                    0.929237   \\n2023-01-05                    0.899766                    0.869764   \\n...                                ...                         ...   \\n2023-04-08                    0.608975                    0.732843   \\n2023-04-09                    0.699848                    0.632573   \\n2023-04-10                    0.780585                    0.520343   \\n2023-04-11                    0.850017                    0.398272   \\n2023-04-12                    0.907139                    0.268671   \\n\\n            seasonalitycommonfourier_8  seasonalitycommonfourier_9  ...  \\\\\\ndate                                                                ...   \\n2023-01-01                    0.999251                    0.999075  ...   \\n2023-01-02                    0.993266                    0.991689  ...   \\n2023-01-03                    0.963520                    0.955028  ...   \\n2023-01-04                    0.910725                    0.890175  ...   \\n2023-01-05                    0.836144                    0.799045  ...   \\n...                                ...                         ...  ...   \\n2023-04-08                   -0.745872                   -0.593511  ...   \\n2023-04-09                   -0.839665                   -0.446983  ...   \\n2023-04-10                   -0.913370                   -0.287261  ...   \\n2023-04-11                   -0.965227                   -0.119059  ...   \\n2023-04-12                   -0.993993                    0.052658  ...   \\n\\n            seasonalitycommonfourier_27  seasonalitycommonfourier_28  \\\\\\ndate                                                                   \\n2023-01-01                    -0.900936                     0.623438   \\n2023-01-02                    -0.222447                    -0.900294   \\n2023-01-03                     0.998188                     0.995925   \\n2023-01-04                    -0.221526                    -0.891911   \\n2023-01-05                    -0.893481                     0.611850   \\n...                                 ...                          ...   \\n2023-04-08                    -0.612611                    -0.061626   \\n2023-04-09                     0.878961                     0.203348   \\n2023-04-10                     0.215276                    -0.337389   \\n2023-04-11                    -0.958161                     0.421806   \\n2023-04-12                     0.210894                    -0.421667   \\n\\n            seasonalitycommonfourier_29  seasonalitycommonfourier_30  \\\\\\ndate                                                                   \\n2023-01-01                     0.623398                    -0.900761   \\n2023-01-02                    -0.899769                    -0.222058   \\n2023-01-03                     0.992759                     0.988693   \\n2023-01-04                    -0.884887                    -0.216325   \\n2023-01-05                     0.602848                    -0.854507   \\n...                                 ...                          ...   \\n2023-04-08                    -0.207126                    -0.281086   \\n2023-04-09                     0.563314                     0.473766   \\n2023-04-10                    -0.785535                     0.132838   \\n2023-04-11                     0.836144                    -0.663680   \\n2023-04-12                    -0.717578                     0.161436   \\n\\n            seasonalitycommonfourier_31  seasonalitycommonfourier_32  \\\\\\ndate                                                                   \\n2023-01-01                     0.004193                    -0.003732   \\n2023-01-02                    -0.010087                    -0.025154   \\n2023-01-03                    -0.000000                    -0.000000   \\n2023-01-04                     0.036972                     0.092104   \\n2023-01-05                     0.062848                    -0.055824   \\n...                                 ...                          ...   \\n2023-04-08                    -0.431987                    -0.145411   \\n2023-04-09                    -0.968956                    -0.095313   \\n2023-04-10                    -0.775441                     0.246757   \\n2023-04-11                     0.000000                    -0.000000   \\n2023-04-12                     0.771551                    -0.311022   \\n\\n            seasonalitycommonfourier_33  seasonalitycommonfourier_34  \\\\\\ndate                                                                   \\n2023-01-01                    -0.010087                     0.013449   \\n2023-01-02                    -0.016789                     0.022382   \\n2023-01-03                     0.000000                    -0.000000   \\n2023-01-04                     0.061370                    -0.081613   \\n2023-01-05                    -0.150363                     0.199510   \\n...                                 ...                          ...   \\n2023-04-08                     0.936794                     0.356321   \\n2023-04-09                    -0.739081                    -0.335107   \\n2023-04-10                     0.402313                     0.212483   \\n2023-04-11                    -0.000000                     0.000000   \\n2023-04-12                    -0.383432                    -0.262370   \\n\\n            seasonalitycommonfourier_35  epoch  \\ndate                                            \\n2023-01-01                     0.009329  14259  \\n2023-01-02                     0.062848  14259  \\n2023-01-03                     0.000000  14259  \\n2023-01-04                    -0.228459  14259  \\n2023-01-05                     0.137533  14259  \\n...                                 ...    ...  \\n2023-04-08                    -0.697872  14259  \\n2023-04-09                    -0.369054  14259  \\n2023-04-10                     0.782151  14259  \\n2023-04-11                     0.000000  14259  \\n2023-04-12                    -0.670982  14259  \\n\\n[102 rows x 37 columns] and predict             seasonalitycommonfourier_0  seasonalitycommonfourier_1  \\\\\\n2023-04-13                   -0.178587                   -0.936213   \\n2023-04-14                   -0.195486                   -0.923571   \\n2023-04-15                   -0.212327                   -0.909835   \\n2023-04-16                   -0.229104                   -0.895022   \\n2023-04-17                   -0.245815                   -0.879150   \\n2023-04-18                   -0.262452                   -0.862238   \\n2023-04-19                   -0.279012                   -0.844305   \\n2023-04-20                   -0.295489                   -0.825373   \\n2023-04-21                   -0.311879                   -0.805463   \\n2023-04-22                   -0.328176                   -0.784601   \\n2023-04-23                   -0.344376                   -0.762810   \\n2023-04-24                   -0.360475                   -0.740116   \\n2023-04-25                   -0.376467                   -0.716546   \\n2023-04-26                   -0.392347                   -0.692128   \\n2023-04-27                   -0.408111                   -0.666890   \\n2023-04-28                   -0.423755                   -0.640864   \\n2023-04-29                   -0.439273                   -0.614079   \\n2023-04-30                   -0.454661                   -0.586567   \\n2023-05-01                   -0.469915                   -0.558361   \\n2023-05-02                   -0.485029                   -0.529494   \\n2023-05-03                   -0.500000                   -0.500000   \\n2023-05-04                   -0.514823                   -0.469915   \\n2023-05-05                   -0.529494                   -0.439273   \\n2023-05-06                   -0.544008                   -0.408111   \\n2023-05-07                   -0.558361                   -0.376467   \\n2023-05-08                   -0.572548                   -0.344376   \\n2023-05-09                   -0.586567                   -0.311879   \\n2023-05-10                   -0.600412                   -0.279012   \\n2023-05-11                   -0.614079                   -0.245815   \\n2023-05-12                   -0.627564                   -0.212327   \\n2023-05-13                   -0.640864                   -0.178587   \\n2023-05-14                   -0.653974                   -0.144636   \\n2023-05-15                   -0.666890                   -0.110514   \\n2023-05-16                   -0.679610                   -0.076262   \\n2023-05-17                   -0.692128                   -0.041919   \\n2023-05-18                   -0.704441                   -0.007526   \\n2023-05-19                   -0.716546                    0.026876   \\n2023-05-20                   -0.728438                    0.061245   \\n2023-05-21                   -0.740116                    0.095543   \\n2023-05-22                   -0.751574                    0.129727   \\n2023-05-23                   -0.762810                    0.163757   \\n2023-05-24                   -0.773820                    0.197594   \\n2023-05-25                   -0.784601                    0.231197   \\n2023-05-26                   -0.795150                    0.264526   \\n2023-05-27                   -0.805463                    0.297543   \\n2023-05-28                   -0.815539                    0.330207   \\n2023-05-29                   -0.825373                    0.362480   \\n2023-05-30                   -0.834962                    0.394324   \\n2023-05-31                   -0.844305                    0.425701   \\n2023-06-01                   -0.853398                    0.456575   \\n2023-06-02                   -0.862238                    0.486908   \\n2023-06-03                   -0.870823                    0.516665   \\n\\n            seasonalitycommonfourier_2  seasonalitycommonfourier_3  \\\\\\n2023-04-13                    0.512978                    0.752991   \\n2023-04-14                    0.556576                    0.705965   \\n2023-04-15                    0.598691                    0.655599   \\n2023-04-16                    0.639212                    0.602130   \\n2023-04-17                    0.678031                    0.545811   \\n2023-04-18                    0.715044                    0.486908   \\n2023-04-19                    0.750154                    0.425701   \\n2023-04-20                    0.783266                    0.362480   \\n2023-04-21                    0.814292                    0.297543   \\n2023-04-22                    0.843151                    0.231197   \\n2023-04-23                    0.869764                    0.163757   \\n2023-04-24                    0.894061                    0.095543   \\n2023-04-25                    0.915978                    0.026876   \\n2023-04-26                    0.935455                   -0.041919   \\n2023-04-27                    0.952442                   -0.110514   \\n2023-04-28                    0.966893                   -0.178587   \\n2023-04-29                    0.978769                   -0.245815   \\n2023-04-30                    0.988039                   -0.311879   \\n2023-05-01                    0.994678                   -0.376467   \\n2023-05-02                    0.998669                   -0.439273   \\n2023-05-03                    1.000000                   -0.500000   \\n2023-05-04                    0.998669                   -0.558361   \\n2023-05-05                    0.994678                   -0.614079   \\n2023-05-06                    0.988039                   -0.666890   \\n2023-05-07                    0.978769                   -0.716546   \\n2023-05-08                    0.966893                   -0.762810   \\n2023-05-09                    0.952442                   -0.805463   \\n2023-05-10                    0.935455                   -0.844305   \\n2023-05-11                    0.915978                   -0.879150   \\n2023-05-12                    0.894061                   -0.909835   \\n2023-05-13                    0.869764                   -0.936213   \\n2023-05-14                    0.843151                   -0.958161   \\n2023-05-15                    0.814292                   -0.975573   \\n2023-05-16                    0.783266                   -0.988368   \\n2023-05-17                    0.750154                   -0.996486   \\n2023-05-18                    0.715044                   -0.999887   \\n2023-05-19                    0.678031                   -0.998555   \\n2023-05-20                    0.639212                   -0.992498   \\n2023-05-21                    0.598691                   -0.981743   \\n2023-05-22                    0.556576                   -0.966342   \\n2023-05-23                    0.512978                   -0.946367   \\n2023-05-24                    0.468015                   -0.921913   \\n2023-05-25                    0.421806                   -0.893096   \\n2023-05-26                    0.374474                   -0.860052   \\n2023-05-27                    0.326144                   -0.822937   \\n2023-05-28                    0.276946                   -0.781927   \\n2023-05-29                    0.227011                   -0.737217   \\n2023-05-30                    0.176471                   -0.689017   \\n2023-05-31                    0.125461                   -0.637557   \\n2023-06-01                    0.074117                   -0.583078   \\n2023-06-02                    0.022576                   -0.525841   \\n2023-06-03                   -0.029025                   -0.466114   \\n\\n            seasonalitycommonfourier_4  seasonalitycommonfourier_5  \\\\\\n2023-04-13                   -0.781927                   -0.473706   \\n2023-04-14                   -0.832588                   -0.380447   \\n2023-04-15                   -0.877093                   -0.283139   \\n2023-04-16                   -0.915113                   -0.182817   \\n2023-04-17                   -0.946367                   -0.080549   \\n2023-04-18                   -0.970624                    0.022576   \\n2023-04-19                   -0.987705                    0.125461   \\n2023-04-20                   -0.997483                    0.227011   \\n2023-04-21                   -0.999887                    0.326144   \\n2023-04-22                   -0.994897                    0.421806   \\n2023-04-23                   -0.982552                    0.512978   \\n2023-04-24                   -0.962943                    0.598691   \\n2023-04-25                   -0.936213                    0.678031   \\n2023-04-26                   -0.902562                    0.750154   \\n2023-04-27                   -0.862238                    0.814292   \\n2023-04-28                   -0.815539                    0.869764   \\n2023-04-29                   -0.762810                    0.915978   \\n2023-04-30                   -0.704441                    0.952442   \\n2023-05-01                   -0.640864                    0.978769   \\n2023-05-02                   -0.572548                    0.994678   \\n2023-05-03                   -0.500000                    1.000000   \\n2023-05-04                   -0.423755                    0.994678   \\n2023-05-05                   -0.344376                    0.978769   \\n2023-05-06                   -0.262452                    0.952442   \\n2023-05-07                   -0.178587                    0.915978   \\n2023-05-08                   -0.093402                    0.869764   \\n2023-05-09                   -0.007526                    0.814292   \\n2023-05-10                    0.078406                    0.750154   \\n2023-05-11                    0.163757                    0.678031   \\n2023-05-12                    0.247898                    0.598691   \\n2023-05-13                    0.330207                    0.512978   \\n2023-05-14                    0.410073                    0.421806   \\n2023-05-15                    0.486908                    0.326144   \\n2023-05-16                    0.560143                    0.227011   \\n2023-05-17                    0.629237                    0.125461   \\n2023-05-18                    0.693678                    0.022576   \\n2023-05-19                    0.752991                   -0.080549   \\n2023-05-20                    0.806736                   -0.182817   \\n2023-05-21                    0.854517                   -0.283139   \\n2023-05-22                    0.895979                   -0.380447   \\n2023-05-23                    0.930818                   -0.473706   \\n2023-05-24                    0.958774                   -0.561923   \\n2023-05-25                    0.979641                   -0.644159   \\n2023-05-26                    0.993266                   -0.719539   \\n2023-05-27                    0.999547                   -0.787260   \\n2023-05-28                    0.998438                   -0.846602   \\n2023-05-29                    0.989946                   -0.896932   \\n2023-05-30                    0.974136                   -0.937716   \\n2023-05-31                    0.951123                   -0.968519   \\n2023-06-01                    0.921078                   -0.989013   \\n2023-06-02                    0.884223                   -0.998981   \\n2023-06-03                    0.840831                   -0.998315   \\n\\n            seasonalitycommonfourier_6  seasonalitycommonfourier_7  \\\\\\n2023-04-13                    0.951123                    0.133990   \\n2023-04-14                    0.981332                   -0.003225   \\n2023-04-15                    0.997329                   -0.140380   \\n2023-04-16                    0.998881                   -0.274879   \\n2023-04-17                    0.985967                   -0.404181   \\n2023-04-18                    0.958774                   -0.525841   \\n2023-04-19                    0.917695                   -0.637557   \\n2023-04-20                    0.863325                   -0.737217   \\n2023-04-21                    0.796452                   -0.822937   \\n2023-04-22                    0.718044                   -0.893096   \\n2023-04-23                    0.629237                   -0.946367   \\n2023-04-24                    0.531317                   -0.981743   \\n2023-04-25                    0.425701                   -0.998555   \\n2023-04-26                    0.313921                   -0.996486   \\n2023-04-27                    0.197594                   -0.975573   \\n2023-04-28                    0.078406                   -0.936213   \\n2023-04-29                   -0.041919                   -0.879150   \\n2023-04-30                   -0.161636                   -0.805463   \\n2023-05-01                   -0.279012                   -0.716546   \\n2023-05-02                   -0.392347                   -0.614079   \\n2023-05-03                   -0.500000                   -0.500000   \\n2023-05-04                   -0.600412                   -0.376467   \\n2023-05-05                   -0.692128                   -0.245815   \\n2023-05-06                   -0.773820                   -0.110514   \\n2023-05-07                   -0.844305                    0.026876   \\n2023-05-08                   -0.902562                    0.163757   \\n2023-05-09                   -0.947748                    0.297543   \\n2023-05-10                   -0.979208                    0.425701   \\n2023-05-11                   -0.996486                    0.545811   \\n2023-05-12                   -0.999332                    0.655599   \\n2023-05-13                   -0.987705                    0.752991   \\n2023-05-14                   -0.961774                    0.836144   \\n2023-05-15                   -0.921913                    0.903486   \\n2023-05-16                   -0.868701                    0.953744   \\n2023-05-17                   -0.802907                    0.985967   \\n2023-05-18                   -0.725485                    0.999547   \\n2023-05-19                   -0.637557                    0.994226   \\n2023-05-20                   -0.540394                    0.970105   \\n2023-05-21                   -0.435405                    0.927640   \\n2023-05-22                   -0.324111                    0.867634   \\n2023-05-23                   -0.208122                    0.791221   \\n2023-05-24                   -0.089119                    0.699848   \\n2023-05-25                    0.031174                    0.595240   \\n2023-05-26                    0.151016                    0.479378   \\n2023-05-27                    0.268671                    0.354450   \\n2023-05-28                    0.382435                    0.222820   \\n2023-05-29                    0.490660                    0.086977   \\n2023-05-30                    0.591779                   -0.050511   \\n2023-05-31                    0.684328                   -0.187043   \\n2023-06-01                    0.766965                   -0.320039   \\n2023-06-02                    0.838495                   -0.446983   \\n2023-06-03                    0.897881                   -0.565476   \\n\\n            seasonalitycommonfourier_8  seasonalitycommonfourier_9  ...  \\\\\\n2023-04-13                   -0.998981                    0.222820  ...   \\n2023-04-14                   -0.980071                    0.386405  ...   \\n2023-04-15                   -0.937716                    0.538584  ...   \\n2023-04-16                   -0.872929                    0.674863  ...   \\n2023-04-17                   -0.787260                    0.791221  ...   \\n2023-04-18                   -0.682758                    0.884223  ...   \\n2023-04-19                   -0.561923                    0.951123  ...   \\n2023-04-20                   -0.427646                    0.989946  ...   \\n2023-04-21                   -0.283139                    0.999547  ...   \\n2023-04-22                   -0.131859                    0.979641  ...   \\n2023-04-23                    0.022576                    0.930818  ...   \\n2023-04-24                    0.176471                    0.854517  ...   \\n2023-04-25                    0.326144                    0.752991  ...   \\n2023-04-26                    0.468015                    0.629237  ...   \\n2023-04-27                    0.598691                    0.486908  ...   \\n2023-04-28                    0.715044                    0.330207  ...   \\n2023-04-29                    0.814292                    0.163757  ...   \\n2023-04-30                    0.894061                   -0.007526  ...   \\n2023-05-01                    0.952442                   -0.178587  ...   \\n2023-05-02                    0.988039                   -0.344376  ...   \\n2023-05-03                    1.000000                   -0.500000  ...   \\n2023-05-04                    0.988039                   -0.640864  ...   \\n2023-05-05                    0.952442                   -0.762810  ...   \\n2023-05-06                    0.894061                   -0.862238  ...   \\n2023-05-07                    0.814292                   -0.936213  ...   \\n2023-05-08                    0.715044                   -0.982552  ...   \\n2023-05-09                    0.598691                   -0.999887  ...   \\n2023-05-10                    0.468015                   -0.987705  ...   \\n2023-05-11                    0.326144                   -0.946367  ...   \\n2023-05-12                    0.176471                   -0.877093  ...   \\n2023-05-13                    0.022576                   -0.781927  ...   \\n2023-05-14                   -0.131859                   -0.663680  ...   \\n2023-05-15                   -0.283139                   -0.525841  ...   \\n2023-05-16                   -0.427646                   -0.372479  ...   \\n2023-05-17                   -0.561923                   -0.208122  ...   \\n2023-05-18                   -0.682758                   -0.037621  ...   \\n2023-05-19                   -0.787260                    0.133990  ...   \\n2023-05-20                   -0.872929                    0.301646  ...   \\n2023-05-21                   -0.937716                    0.460397  ...   \\n2023-05-22                   -0.980071                    0.605558  ...   \\n2023-05-23                   -0.998981                    0.732843  ...   \\n2023-05-24                   -0.993993                    0.838495  ...   \\n2023-05-25                   -0.965227                    0.919395  ...   \\n2023-05-26                   -0.913370                    0.973155  ...   \\n2023-05-27                   -0.839665                    0.998188  ...   \\n2023-05-28                   -0.745872                    0.993755  ...   \\n2023-05-29                   -0.634237                    0.959987  ...   \\n2023-05-30                   -0.507430                    0.897881  ...   \\n2023-05-31                   -0.368484                    0.809270  ...   \\n2023-06-01                   -0.220724                    0.696769  ...   \\n2023-06-02                   -0.067683                    0.563701  ...   \\n2023-06-03                    0.086977                    0.413992  ...   \\n\\n            seasonalitycommonfourier_27  seasonalitycommonfourier_28  \\\\\\n2023-04-13                     0.843499                     0.319837   \\n2023-04-14                    -0.575837                    -0.123850   \\n2023-04-15                    -0.567273                    -0.133221   \\n2023-04-16                     0.806387                     0.398542   \\n2023-04-17                     0.195629                    -0.610884   \\n2023-04-18                    -0.862238                     0.715044   \\n2023-04-19                     0.187876                    -0.675865   \\n2023-04-20                     0.743635                     0.488358   \\n2023-04-21                    -0.502198                    -0.181197   \\n2023-04-22                    -0.489191                    -0.187619   \\n2023-04-23                     0.687268                     0.542289   \\n2023-04-24                     0.164691                    -0.805521   \\n2023-04-25                    -0.716546                     0.915978   \\n2023-04-26                     0.154013                    -0.842816   \\n2023-04-27                     0.600847                     0.593838   \\n2023-04-28                    -0.399572                    -0.215154   \\n2023-04-29                    -0.382872                    -0.217797   \\n2023-04-30                     0.528478                     0.616032   \\n2023-05-01                     0.124247                    -0.896174   \\n2023-05-02                    -0.529494                     0.998669   \\n2023-05-03                     0.111260                    -0.900969   \\n2023-05-04                     0.423378                     0.622660   \\n2023-05-05                    -0.273882                    -0.221337   \\n2023-05-06                    -0.254453                    -0.219859   \\n2023-05-07                     0.339185                     0.610253   \\n2023-05-08                     0.076631                    -0.871140   \\n2023-05-09                    -0.311879                     0.952442   \\n2023-05-10                     0.062086                    -0.842816   \\n2023-05-11                     0.221471                     0.571103   \\n2023-05-12                    -0.132383                    -0.198947   \\n2023-05-13                    -0.111347                    -0.193541   \\n2023-05-14                     0.130313                     0.525696   \\n2023-05-15                     0.024592                    -0.733652   \\n2023-05-16                    -0.076262                     0.783266   \\n2023-05-17                     0.009328                    -0.675865   \\n2023-05-18                     0.006781                     0.445823   \\n2023-05-19                     0.016757                    -0.150876   \\n2023-05-20                     0.038186                    -0.142238   \\n2023-05-21                    -0.086081                     0.373278   \\n2023-05-22                    -0.028867                    -0.501457   \\n2023-05-23                     0.163757                     0.512978   \\n2023-05-24                    -0.043969                    -0.421667   \\n2023-05-25                    -0.208301                     0.262992   \\n2023-05-26                     0.164929                    -0.083328   \\n2023-05-27                     0.185515                    -0.072574   \\n2023-05-28                    -0.297506                     0.172673   \\n2023-05-29                    -0.080659                    -0.204530   \\n2023-05-30                     0.394324                     0.176471   \\n2023-05-31                    -0.094727                    -0.113037   \\n2023-06-01                    -0.411360                     0.046211   \\n2023-06-02                     0.303582                    -0.005024   \\n2023-06-03                     0.322136                     0.006459   \\n\\n            seasonalitycommonfourier_29  seasonalitycommonfourier_30  \\\\\\n2023-04-13                     0.469482                     0.704492   \\n2023-04-14                    -0.157092                    -0.519110   \\n2023-04-15                    -0.145885                    -0.546858   \\n2023-04-16                     0.375422                     0.824488   \\n2023-04-17                    -0.491758                     0.210586   \\n2023-04-18                     0.486908                    -0.970624   \\n2023-04-19                    -0.383544                     0.219785   \\n2023-04-20                     0.226002                     0.898701   \\n2023-04-21                    -0.066209                    -0.623419   \\n2023-04-22                    -0.051446                    -0.620308   \\n2023-04-23                     0.102101                     0.885249   \\n2023-04-24                    -0.086081                     0.214275   \\n2023-04-25                     0.026876                    -0.936213   \\n2023-04-26                     0.037767                     0.200839   \\n2023-04-27                    -0.068905                     0.776849   \\n2023-04-28                     0.039739                    -0.508480   \\n2023-04-29                     0.054699                    -0.475604   \\n2023-04-30                    -0.194453                     0.634679   \\n2023-05-01                     0.339185                     0.142606   \\n2023-05-02                    -0.439273                    -0.572548   \\n2023-05-03                     0.450484                     0.111260   \\n2023-05-04                    -0.348132                     0.381790   \\n2023-05-05                     0.136645                    -0.214715   \\n2023-05-06                     0.148397                    -0.163636   \\n2023-05-07                    -0.446759                     0.160901   \\n2023-05-08                     0.687268                     0.020784   \\n2023-05-09                    -0.805463                    -0.007526   \\n2023-05-10                     0.760692                    -0.017447   \\n2023-05-11                    -0.548141                    -0.147540   \\n2023-05-12                     0.202457                     0.154562   \\n2023-05-13                     0.208327                     0.205880   \\n2023-05-14                    -0.597403                    -0.369463   \\n2023-05-15                     0.878961                    -0.108347   \\n2023-05-16                    -0.988368                     0.560143   \\n2023-05-17                     0.897803                    -0.140018   \\n2023-05-18                    -0.623419                    -0.624982   \\n2023-05-19                     0.222199                     0.469482   \\n2023-05-20                     0.220852                     0.502992   \\n2023-05-21                    -0.612107                    -0.769893   \\n2023-05-22                     0.870644                    -0.199374   \\n2023-05-23                    -0.946367                     0.930818   \\n2023-05-24                     0.830615                    -0.213347   \\n2023-05-25                    -0.556836                    -0.882626   \\n2023-05-26                     0.191379                     0.619291   \\n2023-05-27                     0.183121                     0.623207   \\n2023-05-28                    -0.487524                    -0.899561   \\n2023-05-29                     0.664209                    -0.220284   \\n2023-05-30                    -0.689017                     0.974136   \\n2023-05-31                     0.574419                    -0.211645   \\n2023-06-01                    -0.363543                    -0.829863   \\n2023-06-02                     0.117011                     0.551304   \\n2023-06-03                     0.103720                     0.524249   \\n\\n            seasonalitycommonfourier_31  seasonalitycommonfourier_32  \\\\\\n2023-04-13                     0.959255                     0.152481   \\n2023-04-14                     0.425513                     0.299776   \\n2023-04-15                    -0.423991                    -0.324437   \\n2023-04-16                    -0.948997                    -0.193521   \\n2023-04-17                    -0.757842                     0.464597   \\n2023-04-18                     0.000000                    -0.000000   \\n2023-04-19                     0.750783                    -0.522428   \\n2023-04-20                     0.931394                     0.244966   \\n2023-04-21                     0.412242                     0.463349   \\n2023-04-22                    -0.409854                    -0.484736   \\n2023-04-23                    -0.915293                    -0.280559   \\n2023-04-24                    -0.729268                     0.655619   \\n2023-04-25                     0.000000                    -0.000000   \\n2023-04-26                     0.719142                    -0.703679   \\n2023-04-27                     0.890043                     0.323311   \\n2023-04-28                     0.393002                     0.600177   \\n2023-04-29                    -0.389781                    -0.617056   \\n2023-04-30                    -0.868334                    -0.351403   \\n2023-05-01                    -0.690132                     0.808799   \\n2023-05-02                     0.000000                    -0.000000   \\n2023-05-03                     0.677086                    -0.844312   \\n2023-05-04                     0.835802                     0.382994   \\n2023-05-05                     0.368070                     0.702361   \\n2023-05-06                    -0.364063                    -0.713759   \\n2023-05-07                    -0.808799                    -0.401963   \\n2023-05-08                    -0.641001                     0.915293   \\n2023-05-09                    -0.000000                     0.000000   \\n2023-05-10                     0.625224                    -0.936211   \\n2023-05-11                     0.769457                     0.420571   \\n2023-05-12                     0.337807                     0.764005   \\n2023-05-13                    -0.333073                    -0.769263   \\n2023-05-14                    -0.737550                    -0.429321   \\n2023-05-15                    -0.582586                     0.968956   \\n2023-05-16                     0.000000                    -0.000000   \\n2023-05-17                     0.564307                    -0.974071   \\n2023-05-18                     0.691967                     0.433871   \\n2023-05-19                     0.302651                     0.781549   \\n2023-05-20                    -0.297259                    -0.780364   \\n2023-05-21                    -0.655619                    -0.431899   \\n2023-05-22                    -0.515734                     0.966690   \\n2023-05-23                    -0.000000                     0.000000   \\n2023-05-24                     0.495217                    -0.955706   \\n2023-05-25                     0.604456                     0.422129   \\n2023-05-26                     0.263113                     0.753981   \\n2023-05-27                    -0.257139                    -0.746421   \\n2023-05-28                    -0.564193                    -0.409547   \\n2023-05-29                    -0.441413                     0.908625   \\n2023-05-30                     0.000000                    -0.000000   \\n2023-05-31                     0.418955                    -0.882177   \\n2023-06-01                     0.508191                     0.386020   \\n2023-06-02                     0.219764                     0.682893   \\n2023-06-03                    -0.213296                    -0.669394   \\n\\n            seasonalitycommonfourier_33  seasonalitycommonfourier_34  \\\\\\n2023-04-13                     0.671125                     0.514470   \\n2023-04-14                    -0.809967                    -0.690489   \\n2023-04-15                     0.780898                     0.736177   \\n2023-04-16                    -0.601253                    -0.624213   \\n2023-04-17                     0.318919                     0.363555   \\n2023-04-18                    -0.000000                     0.000000   \\n2023-04-19                    -0.286911                    -0.392606   \\n2023-04-20                     0.486054                     0.728660   \\n2023-04-21                    -0.565902                    -0.930772   \\n2023-04-22                     0.524197                     0.948514   \\n2023-04-23                    -0.385809                    -0.771277   \\n2023-04-24                     0.194356                     0.431899   \\n2023-04-25                    -0.000000                     0.000000   \\n2023-04-26                    -0.153354                    -0.433502   \\n2023-04-27                     0.238239                     0.777042   \\n2023-04-28                    -0.248784                    -0.959255   \\n2023-04-29                     0.199827                     0.945014   \\n2023-04-30                    -0.120562                    -0.742835   \\n2023-05-01                     0.044704                     0.401963   \\n2023-05-02                    -0.000000                     0.000000   \\n2023-05-03                     0.000000                    -0.375754   \\n2023-05-04                    -0.040330                     0.648606   \\n2023-05-05                     0.100448                    -0.769457   \\n2023-05-06                    -0.150338                     0.726473   \\n2023-05-07                     0.160249                    -0.545359   \\n2023-05-08                    -0.110719                     0.280559   \\n2023-05-09                    -0.000000                    -0.000000   \\n2023-05-10                     0.153354                    -0.232502   \\n2023-05-11                    -0.313693                     0.372577   \\n2023-05-12                     0.436714                    -0.404566   \\n2023-05-13                    -0.481096                     0.342621   \\n2023-05-14                     0.420373                    -0.223784   \\n2023-05-15                    -0.251850                     0.095313   \\n2023-05-16                     0.000000                     0.000000   \\n2023-05-17                     0.286911                    -0.036344   \\n2023-05-18                    -0.546562                     0.011768   \\n2023-05-19                     0.716605                     0.052385   \\n2023-05-20                    -0.749750                    -0.119195   \\n2023-05-21                     0.626232                     0.148713   \\n2023-05-22                    -0.360469                    -0.111621   \\n2023-05-23                     0.000000                     0.000000   \\n2023-05-24                     0.383432                     0.168085   \\n2023-05-25                    -0.708876                    -0.351720   \\n2023-05-26                     0.903990                     0.497415   \\n2023-05-27                    -0.921619                    -0.553889   \\n2023-05-28                     0.751250                     0.487370   \\n2023-05-29                    -0.422556                    -0.293156   \\n2023-05-30                     0.000000                    -0.000000   \\n2023-05-31                     0.430455                     0.334266   \\n2023-06-01                    -0.779681                    -0.635172   \\n2023-06-02                     0.974679                     0.829257   \\n2023-06-03                    -0.974517                    -0.862543   \\n\\n            seasonalitycommonfourier_35  epoch  \\n2023-04-13                     0.270470  14259  \\n2023-04-14                     0.433051  14259  \\n2023-04-15                    -0.375530  14259  \\n2023-04-16                    -0.174941  14259  \\n2023-04-17                     0.314993  14259  \\n2023-04-18                     0.000000  14259  \\n2023-04-19                    -0.152409  14259  \\n2023-04-20                     0.030763  14259  \\n2023-04-21                    -0.011768  14259  \\n2023-04-22                     0.078881  14259  \\n2023-04-23                     0.080697  14259  \\n2023-04-24                    -0.262945  14259  \\n2023-04-25                    -0.000000  14259  \\n2023-04-26                     0.419765  14259  \\n2023-04-27                    -0.219764  14259  \\n2023-04-28                    -0.452448  14259  \\n2023-04-29                     0.505550  14259  \\n2023-04-30                     0.307954  14259  \\n2023-05-01                    -0.748408  14259  \\n2023-05-02                    -0.000000  14259  \\n2023-05-03                     0.844312  14259  \\n2023-05-04                    -0.393002  14259  \\n2023-05-05                    -0.734008  14259  \\n2023-05-06                     0.754424  14259  \\n2023-05-07                     0.426909  14259  \\n2023-05-08                    -0.970666  14259  \\n2023-05-09                     0.000000  14259  \\n2023-05-10                     0.971927  14259  \\n2023-05-11                    -0.428027  14259  \\n2023-05-12                    -0.757427  14259  \\n2023-05-13                     0.737978  14259  \\n2023-05-14                     0.395725  14259  \\n2023-05-15                    -0.851554  14259  \\n2023-05-16                     0.000000  14259  \\n2023-05-17                     0.757727  14259  \\n2023-05-18                    -0.312520  14259  \\n2023-05-19                    -0.514470  14259  \\n2023-05-20                     0.461994  14259  \\n2023-05-21                     0.225370  14259  \\n2023-05-22                    -0.432961  14259  \\n2023-05-23                    -0.000000  14259  \\n2023-05-24                     0.277045  14259  \\n2023-05-25                    -0.087104  14259  \\n2023-05-26                    -0.090580  14259  \\n2023-05-27                     0.023533  14259  \\n2023-05-28                    -0.024245  14259  \\n2023-05-29                     0.137898  14259  \\n2023-05-30                     0.000000  14259  \\n2023-05-31                    -0.301070  14259  \\n2023-06-01                     0.168945  14259  \\n2023-06-02                     0.365166  14259  \\n2023-06-03                    -0.423204  14259  \\n\\n[52 rows x 37 columns]\") in model 456 in generation 3: ARDL\n",
      "Model Number: 457 with model MetricMotif in generation 3 of 10\n"
     ]
    },
    {
     "name": "stderr",
     "output_type": "stream",
     "text": [
      "/home/zeus/miniconda3/envs/cloudspace/lib/python3.10/site-packages/statsmodels/genmod/families/family.py:1367: ValueWarning: Negative binomial dispersion parameter alpha not set. Using default value alpha=1.0.\n",
      "  warnings.warn(\"Negative binomial dispersion parameter alpha not \"\n",
      "/home/zeus/miniconda3/envs/cloudspace/lib/python3.10/site-packages/statsmodels/genmod/families/links.py:527: RuntimeWarning: overflow encountered in exp\n",
      "  return np.exp(z)\n",
      "/home/zeus/miniconda3/envs/cloudspace/lib/python3.10/site-packages/sklearn/neighbors/_classification.py:233: DataConversionWarning: A column-vector y was passed when a 1d array was expected. Please change the shape of y to (n_samples,), for example using ravel().\n",
      "  return self._fit(X, y)\n"
     ]
    },
    {
     "name": "stdout",
     "output_type": "stream",
     "text": [
      "Model Number: 458 with model SectionalMotif in generation 3 of 10\n",
      "Model Number: 459 with model SeasonalNaive in generation 3 of 10\n",
      "Model Number: 460 with model AverageValueNaive in generation 3 of 10\n",
      "Model Number: 461 with model SectionalMotif in generation 3 of 10\n",
      "Model Number: 462 with model ARDL in generation 3 of 10\n"
     ]
    },
    {
     "name": "stderr",
     "output_type": "stream",
     "text": [
      "/home/zeus/miniconda3/envs/cloudspace/lib/python3.10/site-packages/sklearn/neighbors/_classification.py:233: DataConversionWarning: A column-vector y was passed when a 1d array was expected. Please change the shape of y to (n_samples,), for example using ravel().\n",
      "  return self._fit(X, y)\n"
     ]
    },
    {
     "name": "stdout",
     "output_type": "stream",
     "text": [
      "Model Number: 463 with model GLM in generation 3 of 10\n",
      "Model Number: 464 with model LastValueNaive in generation 3 of 10\n",
      "Model Number: 465 with model GLM in generation 3 of 10\n",
      "Model Number: 466 with model AverageValueNaive in generation 3 of 10\n",
      "Model Number: 467 with model LastValueNaive in generation 3 of 10\n",
      "Template Eval Error: Exception(\"Transformer Cointegration failed on fit from params rolling_mean {'0': {'rows': 1, 'lag': 7, 'method': 'additive', 'strength': 1.0, 'first_value_only': False, 'threshold': 10, 'threshold_method': 'mean'}, '1': {}, '2': {'det_order': 1, 'k_ar_diff': 2}, '3': {'whiten': False, 'n_components': None}, '4': {'span': 364}} with error ValueError('Coint only works on multivarate series')\") in model 467 in generation 3: LastValueNaive\n",
      "Model Number: 468 with model MetricMotif in generation 3 of 10\n",
      "Model Number: 469 with model AverageValueNaive in generation 3 of 10\n"
     ]
    },
    {
     "name": "stderr",
     "output_type": "stream",
     "text": [
      "/home/zeus/miniconda3/envs/cloudspace/lib/python3.10/site-packages/statsmodels/genmod/families/links.py:198: RuntimeWarning: overflow encountered in exp\n",
      "  t = np.exp(-z)\n"
     ]
    },
    {
     "name": "stdout",
     "output_type": "stream",
     "text": [
      "Model Number: 470 with model GLS in generation 3 of 10\n",
      "New Generation: 4 of 10\n",
      "Model Number: 471 with model Cassandra in generation 4 of 10\n",
      "Template Eval Error: ValueError('more than 1 year of data is required for holiday detection.') in model 471 in generation 4: Cassandra\n",
      "Model Number: 472 with model MetricMotif in generation 4 of 10\n",
      "Model Number: 473 with model UnivariateMotif in generation 4 of 10\n",
      "Model Number: 474 with model ARDL in generation 4 of 10\n",
      "Model Number: 475 with model GLS in generation 4 of 10\n",
      "Model Number: 476 with model ETS in generation 4 of 10\n",
      "Model Number: 477 with model RRVAR in generation 4 of 10\n",
      "Model Number: 478 with model SeasonalNaive in generation 4 of 10\n",
      "Model Number: 479 with model BasicLinearModel in generation 4 of 10\n",
      "Model Number: 480 with model WindowRegression in generation 4 of 10\n",
      "Template Eval Error: InvalidParameterError(\"The 'alpha' parameter of MLPRegressor must be a float in the range [0.0, inf). Got None instead.\") in model 480 in generation 4: WindowRegression\n",
      "Model Number: 481 with model MetricMotif in generation 4 of 10\n",
      "Model Number: 482 with model ConstantNaive in generation 4 of 10\n",
      "Model Number: 483 with model MetricMotif in generation 4 of 10\n",
      "Model Number: 484 with model LastValueNaive in generation 4 of 10\n",
      "Template Eval Error: Exception(\"Transformer RegressionFilter failed on fit from params nearest {'0': {'sigma': 1, 'rolling_window': 90, 'run_order': 'trend_first', 'regression_params': {'regression_model': {'model': 'ElasticNet', 'model_params': {'l1_ratio': 0.1, 'fit_intercept': True, 'selection': 'cyclic', 'max_iter': 1000}}, 'datepart_method': ['expanded_binarized'], 'polynomial_degree': None, 'transform_dict': None, 'holiday_countries_used': True, 'lags': None, 'forward_lags': None}, 'holiday_params': {'threshold': 0.9, 'splash_threshold': 0.85, 'use_dayofmonth_holidays': True, 'use_wkdom_holidays': True, 'use_wkdeom_holidays': False, 'use_lunar_holidays': False, 'use_lunar_weekday': False, 'use_islamic_holidays': False, 'use_hebrew_holidays': False, 'use_hindu_holidays': False, 'anomaly_detector_params': {'method': 'minmax', 'method_params': {'alpha': 0.03}, 'fillna': 'linear', 'transform_dict': None, 'isolated_only': False, 'on_inverse': False}, 'remove_excess_anomalies': True, 'impact': 'datepart_regression', 'regression_params': {'regression_model': {'model': 'ElasticNet', 'model_params': {'l1_ratio': 0.1, 'fit_intercept': True, 'selection': 'cyclic', 'max_iter': 1000}}, 'datepart_method': ['expanded_binarized'], 'polynomial_degree': None, 'transform_dict': None, 'holiday_countries_used': True, 'lags': None, 'forward_lags': None}}, 'trend_method': 'local_linear'}, '1': {'window': None}, '2': {'lag': 1, 'fill': 'bfill'}} with error ValueError('more than 1 year of data is required for holiday detection.')\") in model 484 in generation 4: LastValueNaive\n",
      "Model Number: 485 with model LastValueNaive in generation 4 of 10\n",
      "Model Number: 486 with model ARDL in generation 4 of 10\n",
      "Model Number: 487 with model DatepartRegression in generation 4 of 10\n",
      "Template Eval Error: ModuleNotFoundError(\"No module named 'tensorflow'\") in model 487 in generation 4: DatepartRegression\n",
      "Model Number: 488 with model GLS in generation 4 of 10\n",
      "Model Number: 489 with model SectionalMotif in generation 4 of 10\n",
      "Model Number: 490 with model MetricMotif in generation 4 of 10\n",
      "Template Eval Error: ValueError('kth(=9) out of bounds (3)') in model 490 in generation 4: MetricMotif\n",
      "Model Number: 491 with model Cassandra in generation 4 of 10\n",
      "Template Eval Error: ValueError('more than 1 year of data is required for holiday detection.') in model 491 in generation 4: Cassandra\n",
      "Model Number: 492 with model UnivariateMotif in generation 4 of 10\n",
      "Model Number: 493 with model BasicLinearModel in generation 4 of 10\n",
      "Model Number: 494 with model UnivariateMotif in generation 4 of 10\n",
      "Model Number: 495 with model AverageValueNaive in generation 4 of 10\n",
      "Model Number: 496 with model AverageValueNaive in generation 4 of 10\n",
      "Model Number: 497 with model UnivariateMotif in generation 4 of 10\n",
      "Model Number: 498 with model SeasonalNaive in generation 4 of 10\n",
      "Model Number: 499 with model DatepartRegression in generation 4 of 10\n"
     ]
    },
    {
     "name": "stderr",
     "output_type": "stream",
     "text": [
      "/home/zeus/miniconda3/envs/cloudspace/lib/python3.10/site-packages/sklearn/neighbors/_classification.py:233: DataConversionWarning: A column-vector y was passed when a 1d array was expected. Please change the shape of y to (n_samples,), for example using ravel().\n",
      "  return self._fit(X, y)\n",
      "/home/zeus/miniconda3/envs/cloudspace/lib/python3.10/site-packages/sklearn/linear_model/_coordinate_descent.py:628: ConvergenceWarning: Objective did not converge. You might want to increase the number of iterations, check the scale of the features or consider increasing regularisation. Duality gap: 1.278e-03, tolerance: 8.697e-04\n",
      "  model = cd_fast.enet_coordinate_descent(\n"
     ]
    },
    {
     "name": "stdout",
     "output_type": "stream",
     "text": [
      "Model Number: 500 with model UnivariateMotif in generation 4 of 10\n",
      "Model Number: 501 with model GLM in generation 4 of 10\n",
      "Model Number: 502 with model UnivariateMotif in generation 4 of 10\n",
      "Model Number: 503 with model ConstantNaive in generation 4 of 10\n",
      "Model Number: 504 with model SeasonalityMotif in generation 4 of 10\n",
      "Model Number: 505 with model LastValueNaive in generation 4 of 10\n",
      "Model Number: 506 with model WindowRegression in generation 4 of 10\n",
      "Template Eval Error: ModuleNotFoundError(\"No module named 'lightgbm'\") in model 506 in generation 4: WindowRegression\n",
      "Model Number: 507 with model SectionalMotif in generation 4 of 10\n",
      "Model Number: 508 with model LastValueNaive in generation 4 of 10\n",
      "Model Number: 509 with model BasicLinearModel in generation 4 of 10\n",
      "Model Number: 510 with model DatepartRegression in generation 4 of 10\n",
      "Model Number: 511 with model LastValueNaive in generation 4 of 10\n",
      "Model Number: 512 with model LastValueNaive in generation 4 of 10\n",
      "Model Number: 513 with model GLM in generation 4 of 10\n",
      "Model Number: 514 with model GLM in generation 4 of 10\n",
      "Template Eval Error: ValueError('The first guess on the deviance function returned a nan.  This could be a boundary  problem and should be reported.') in model 514 in generation 4: GLM\n",
      "Model Number: 515 with model WindowRegression in generation 4 of 10\n"
     ]
    },
    {
     "name": "stderr",
     "output_type": "stream",
     "text": [
      "/home/zeus/miniconda3/envs/cloudspace/lib/python3.10/site-packages/statsmodels/genmod/families/family.py:1650: RuntimeWarning: invalid value encountered in log\n",
      "  endog * np.log(endog / mu) + (mu - endog))\n"
     ]
    },
    {
     "name": "stdout",
     "output_type": "stream",
     "text": [
      "Model Number: 516 with model SeasonalityMotif in generation 4 of 10\n"
     ]
    },
    {
     "name": "stderr",
     "output_type": "stream",
     "text": [
      "/home/zeus/miniconda3/envs/cloudspace/lib/python3.10/site-packages/sklearn/base.py:458: UserWarning: X has feature names, but StandardScaler was fitted without feature names\n",
      "  warnings.warn(\n"
     ]
    },
    {
     "name": "stdout",
     "output_type": "stream",
     "text": [
      "Model Number: 517 with model GLM in generation 4 of 10\n",
      "Model Number: 518 with model UnivariateMotif in generation 4 of 10\n",
      "Model Number: 519 with model GLM in generation 4 of 10\n",
      "Model Number: 520 with model DatepartRegression in generation 4 of 10\n"
     ]
    },
    {
     "name": "stderr",
     "output_type": "stream",
     "text": [
      "/home/zeus/miniconda3/envs/cloudspace/lib/python3.10/site-packages/statsmodels/genmod/families/links.py:198: RuntimeWarning: overflow encountered in exp\n",
      "  t = np.exp(-z)\n"
     ]
    },
    {
     "name": "stdout",
     "output_type": "stream",
     "text": [
      "Model Number: 521 with model DatepartRegression in generation 4 of 10\n",
      "Model Number: 522 with model LastValueNaive in generation 4 of 10\n",
      "Model Number: 523 with model AverageValueNaive in generation 4 of 10\n",
      "Model Number: 524 with model ARDL in generation 4 of 10\n",
      "Template Eval Error: ValueError(\"ARDL series 64087abe6d4b2df660baa360f5041e2e3c05ed9d406e6d297d13c314c3f3ded5 failed with error IndexError('tuple index out of range') exog train None and predict None\") in model 524 in generation 4: ARDL\n",
      "Model Number: 525 with model WindowRegression in generation 4 of 10\n",
      "Template Eval Error: Exception(\"Transformer AlignLastValue failed on fit from params cubic {'0': {'method': 'clip', 'std_threshold': 4.5, 'fillna': None}, '1': {'rows': 1, 'lag': 168, 'method': 'additive', 'strength': 0.2, 'first_value_only': False, 'threshold': 10, 'threshold_method': 'mean'}} with error IndexError('single positional indexer is out-of-bounds')\") in model 525 in generation 4: WindowRegression\n",
      "Model Number: 526 with model ETS in generation 4 of 10\n",
      "Model Number: 527 with model SectionalMotif in generation 4 of 10\n",
      "Template Eval Error: ValueError('kth(=100) out of bounds (36)') in model 527 in generation 4: SectionalMotif\n",
      "Model Number: 528 with model MetricMotif in generation 4 of 10\n",
      "Model Number: 529 with model RRVAR in generation 4 of 10\n",
      "Model Number: 530 with model SeasonalityMotif in generation 4 of 10\n",
      "Model Number: 531 with model RRVAR in generation 4 of 10\n",
      "Model Number: 532 with model SeasonalityMotif in generation 4 of 10\n",
      "Model Number: 533 with model AverageValueNaive in generation 4 of 10\n",
      "Model Number: 534 with model ConstantNaive in generation 4 of 10\n",
      "Template Eval Error: Exception(\"Transformer BTCD failed on fit from params ffill {'0': {'regression_model': {'model': 'LinearRegression', 'model_params': {}}, 'max_lags': 2}, '1': {'threshold': 0.8, 'splash_threshold': None, 'use_dayofmonth_holidays': True, 'use_wkdom_holidays': True, 'use_wkdeom_holidays': False, 'use_lunar_holidays': False, 'use_lunar_weekday': False, 'use_islamic_holidays': False, 'use_hebrew_holidays': False, 'use_hindu_holidays': True, 'anomaly_detector_params': {'method': 'zscore', 'method_params': {'distribution': 'uniform', 'alpha': 0.05}, 'fillna': 'rolling_mean_24', 'transform_dict': None, 'isolated_only': False, 'on_inverse': False}, 'remove_excess_anomalies': False, 'impact': 'anomaly_score', 'regression_params': {}}} with error ValueError('BTCD only works on multivarate series')\") in model 534 in generation 4: ConstantNaive\n",
      "Model Number: 535 with model SeasonalNaive in generation 4 of 10\n",
      "Model Number: 536 with model SectionalMotif in generation 4 of 10\n",
      "Model Number: 537 with model GLM in generation 4 of 10\n",
      "Model Number: 538 with model ConstantNaive in generation 4 of 10\n",
      "Model Number: 539 with model GLM in generation 4 of 10\n",
      "Model Number: 540 with model GLS in generation 4 of 10\n",
      "Model Number: 541 with model WindowRegression in generation 4 of 10\n",
      "Model Number: 542 with model UnivariateMotif in generation 4 of 10\n",
      "Model Number: 543 with model UnivariateMotif in generation 4 of 10\n",
      "Model Number: 544 with model GLM in generation 4 of 10\n",
      "Model Number: 545 with model AverageValueNaive in generation 4 of 10\n"
     ]
    },
    {
     "name": "stderr",
     "output_type": "stream",
     "text": [
      "/home/zeus/miniconda3/envs/cloudspace/lib/python3.10/site-packages/sklearn/base.py:458: UserWarning: X has feature names, but StandardScaler was fitted without feature names\n",
      "  warnings.warn(\n",
      "/home/zeus/miniconda3/envs/cloudspace/lib/python3.10/site-packages/numpy/core/fromnumeric.py:3504: RuntimeWarning: Mean of empty slice.\n",
      "  return _methods._mean(a, axis=axis, dtype=dtype,\n",
      "/home/zeus/miniconda3/envs/cloudspace/lib/python3.10/site-packages/numpy/core/_methods.py:121: RuntimeWarning: invalid value encountered in divide\n",
      "  ret = um.true_divide(\n"
     ]
    },
    {
     "name": "stdout",
     "output_type": "stream",
     "text": [
      "Model Number: 546 with model SeasonalityMotif in generation 4 of 10\n",
      "Template Eval Error: ValueError('Model SeasonalityMotif returned NaN for one or more series. fail_on_forecast_nan=True') in model 546 in generation 4: SeasonalityMotif\n",
      "Model Number: 547 with model RRVAR in generation 4 of 10\n",
      "Model Number: 548 with model SeasonalityMotif in generation 4 of 10\n",
      "Model Number: 549 with model BasicLinearModel in generation 4 of 10\n",
      "Model Number: 550 with model SectionalMotif in generation 4 of 10\n",
      "Model Number: 551 with model ConstantNaive in generation 4 of 10\n",
      "Model Number: 552 with model RRVAR in generation 4 of 10\n",
      "Model Number: 553 with model GLS in generation 4 of 10\n",
      "Template Eval Error: Exception(\"Transformer HolidayTransformer failed on fit from params rolling_mean {'0': {'threshold': 0.9, 'splash_threshold': None, 'use_dayofmonth_holidays': True, 'use_wkdom_holidays': True, 'use_wkdeom_holidays': False, 'use_lunar_holidays': False, 'use_lunar_weekday': True, 'use_islamic_holidays': False, 'use_hebrew_holidays': False, 'use_hindu_holidays': False, 'anomaly_detector_params': {'method': 'mad', 'method_params': {'distribution': 'gamma', 'alpha': 0.03}, 'fillna': 'rolling_mean_24', 'transform_dict': {'transformations': {'0': 'DatepartRegression'}, 'transformation_params': {'0': {'datepart_method': 'simple_3', 'regression_model': {'model': 'ElasticNet', 'model_params': {}}}}}, 'isolated_only': False, 'on_inverse': False}, 'remove_excess_anomalies': True, 'impact': 'median_value', 'regression_params': {}}, '1': {'rows': 1, 'lag': 1, 'method': 'additive', 'strength': 1.0, 'first_value_only': True, 'threshold': 1, 'threshold_method': 'mean'}, '2': {'method': 'butter', 'method_args': {'N': 4, 'window_size': 24, 'btype': 'highpass', 'analog': False, 'output': 'sos'}}} with error ValueError('more than 1 year of data is required for holiday detection.')\") in model 553 in generation 4: GLS\n",
      "Model Number: 554 with model LastValueNaive in generation 4 of 10\n",
      "Model Number: 555 with model GLS in generation 4 of 10\n",
      "Template Eval Error: Exception(\"Transformer HolidayTransformer failed on fit from params median {'0': {'threshold': 1.0, 'splash_threshold': None, 'use_dayofmonth_holidays': True, 'use_wkdom_holidays': True, 'use_wkdeom_holidays': False, 'use_lunar_holidays': False, 'use_lunar_weekday': True, 'use_islamic_holidays': False, 'use_hebrew_holidays': False, 'use_hindu_holidays': False, 'anomaly_detector_params': {'method': 'mad', 'method_params': {'distribution': 'norm', 'alpha': 0.05}, 'fillna': 'mean', 'transform_dict': {'fillna': 'fake_date', 'transformations': {'0': 'Discretize'}, 'transformation_params': {'0': {'discretization': 'center', 'n_bins': 10}}}, 'isolated_only': False, 'on_inverse': False}, 'remove_excess_anomalies': True, 'impact': 'anomaly_score', 'regression_params': {}}, '1': {'output_distribution': 'uniform', 'n_quantiles': 34}} with error ValueError('more than 1 year of data is required for holiday detection.')\") in model 555 in generation 4: GLS\n",
      "Model Number: 556 with model UnivariateMotif in generation 4 of 10\n",
      "Model Number: 557 with model ETS in generation 4 of 10\n"
     ]
    },
    {
     "name": "stderr",
     "output_type": "stream",
     "text": [
      "/home/zeus/miniconda3/envs/cloudspace/lib/python3.10/site-packages/sklearn/linear_model/_coordinate_descent.py:628: ConvergenceWarning: Objective did not converge. You might want to increase the number of iterations, check the scale of the features or consider increasing regularisation. Duality gap: 2.242e+14, tolerance: 4.832e+10\n",
      "  model = cd_fast.enet_coordinate_descent(\n"
     ]
    },
    {
     "name": "stdout",
     "output_type": "stream",
     "text": [
      "Model Number: 558 with model FFT in generation 4 of 10\n",
      "Model Number: 559 with model AverageValueNaive in generation 4 of 10\n",
      "Model Number: 560 with model ARDL in generation 4 of 10\n",
      "Model Number: 561 with model SectionalMotif in generation 4 of 10\n",
      "Model Number: 562 with model SeasonalNaive in generation 4 of 10\n",
      "Model Number: 563 with model ETS in generation 4 of 10\n",
      "Model Number: 564 with model SectionalMotif in generation 4 of 10\n",
      "Model Number: 565 with model DatepartRegression in generation 4 of 10\n"
     ]
    },
    {
     "name": "stderr",
     "output_type": "stream",
     "text": [
      "/home/zeus/miniconda3/envs/cloudspace/lib/python3.10/site-packages/sklearn/neighbors/_classification.py:233: DataConversionWarning: A column-vector y was passed when a 1d array was expected. Please change the shape of y to (n_samples,), for example using ravel().\n",
      "  return self._fit(X, y)\n"
     ]
    },
    {
     "name": "stdout",
     "output_type": "stream",
     "text": [
      "Template Eval Error: Exception(\"Transformer Detrend failed on fit from params rolling_mean {'0': {'model': 'Linear', 'phi': 1, 'window': None, 'transform_dict': {'fillna': 'ffill', 'transformations': {'0': 'HolidayTransformer', '1': 'AlignLastValue'}, 'transformation_params': {'0': {'threshold': 0.9, 'splash_threshold': None, 'use_dayofmonth_holidays': True, 'use_wkdom_holidays': True, 'use_wkdeom_holidays': False, 'use_lunar_holidays': False, 'use_lunar_weekday': True, 'use_islamic_holidays': False, 'use_hebrew_holidays': False, 'use_hindu_holidays': False, 'anomaly_detector_params': {'method': 'rolling_zscore', 'method_params': {'distribution': 'norm', 'alpha': 0.1, 'rolling_periods': 300, 'center': True}, 'fillna': 'linear', 'transform_dict': {'transformations': {'0': 'DatepartRegression'}, 'transformation_params': {'0': {'datepart_method': 'simple_3', 'regression_model': {'model': 'DecisionTree', 'model_params': {'max_depth': None, 'min_samples_split': 0.1}}}}}, 'isolated_only': False, 'on_inverse': False}, 'remove_excess_anomalies': True, 'impact': 'datepart_regression', 'regression_params': {'regression_model': {'model': 'ElasticNet', 'model_params': {'l1_ratio': 0.5, 'fit_intercept': True, 'selection': 'cyclic', 'max_iter': 1000}}, 'datepart_method': ['recurring'], 'polynomial_degree': None, 'transform_dict': None, 'holiday_countries_used': False, 'lags': None, 'forward_lags': None}}, '1': {'rows': 7, 'lag': 1, 'method': 'additive', 'strength': 1.0, 'first_value_only': False, 'threshold': 1, 'threshold_method': 'max'}}}}, '1': {}} with error Exception('Transformer HolidayTransformer failed on fit')\") in model 565 in generation 4: DatepartRegression\n",
      "Model Number: 566 with model LastValueNaive in generation 4 of 10\n",
      "Model Number: 567 with model MetricMotif in generation 4 of 10\n",
      "Model Number: 568 with model UnivariateMotif in generation 4 of 10\n",
      "Model Number: 569 with model ARDL in generation 4 of 10\n",
      "Template Eval Error: ValueError(\"regression_type='User' but future_regressor not supplied\") in model 569 in generation 4: ARDL\n",
      "Model Number: 570 with model SectionalMotif in generation 4 of 10\n",
      "Template Eval Error: ValueError('kth(=100) out of bounds (36)') in model 570 in generation 4: SectionalMotif\n",
      "Model Number: 571 with model SectionalMotif in generation 4 of 10\n",
      "Model Number: 572 with model AverageValueNaive in generation 4 of 10\n",
      "Model Number: 573 with model MetricMotif in generation 4 of 10\n",
      "Model Number: 574 with model BasicLinearModel in generation 4 of 10\n",
      "Model Number: 575 with model AverageValueNaive in generation 4 of 10\n",
      "New Generation: 5 of 10\n",
      "Model Number: 576 with model GLM in generation 5 of 10\n",
      "Model Number: 577 with model GLM in generation 5 of 10\n",
      "Model Number: 578 with model BasicLinearModel in generation 5 of 10\n",
      "Model Number: 579 with model SectionalMotif in generation 5 of 10\n",
      "Model Number: 580 with model WindowRegression in generation 5 of 10\n",
      "Template Eval Error: Exception('Transformer PCA failed on fit from params ffill {\\'0\\': {\\'method\\': \\'clip\\', \\'std_threshold\\': 4.5, \\'fillna\\': None}, \\'1\\': {\\'whiten\\': False, \\'n_components\\': 4}, \\'2\\': {\\'rows\\': 4, \\'lag\\': 1, \\'method\\': \\'additive\\', \\'strength\\': 1.0, \\'first_value_only\\': False, \\'threshold\\': None, \\'threshold_method\\': \\'mean\\'}} with error ValueError(\"n_components=4 must be between 0 and min(n_samples, n_features)=1 with svd_solver=\\'full\\'\")') in model 580 in generation 5: WindowRegression\n",
      "Model Number: 581 with model MetricMotif in generation 5 of 10\n",
      "Model Number: 582 with model ConstantNaive in generation 5 of 10\n",
      "Model Number: 583 with model ConstantNaive in generation 5 of 10\n",
      "Model Number: 584 with model SeasonalityMotif in generation 5 of 10\n",
      "Model Number: 585 with model ETS in generation 5 of 10\n",
      "Model Number: 586 with model MetricMotif in generation 5 of 10\n",
      "Model Number: 587 with model UnivariateMotif in generation 5 of 10\n",
      "Model Number: 588 with model ARDL in generation 5 of 10\n",
      "Template Eval Error: ValueError(\"ARDL series 64087abe6d4b2df660baa360f5041e2e3c05ed9d406e6d297d13c314c3f3ded5 failed with error IndexError('tuple index out of range') exog train None and predict None\") in model 588 in generation 5: ARDL\n",
      "Model Number: 589 with model UnivariateMotif in generation 5 of 10\n",
      "Model Number: 590 with model LastValueNaive in generation 5 of 10\n",
      "Model Number: 591 with model SeasonalityMotif in generation 5 of 10\n",
      "Model Number: 592 with model ARDL in generation 5 of 10\n",
      "Model Number: 593 with model ARDL in generation 5 of 10\n",
      "Model Number: 594 with model SeasonalityMotif in generation 5 of 10\n",
      "Model Number: 595 with model SeasonalNaive in generation 5 of 10\n",
      "Model Number: 596 with model ConstantNaive in generation 5 of 10\n",
      "Template Eval Error: Exception(\"Transformer SeasonalDifference failed on fit from params nearest {'0': {'lag_1': 364, 'method': 5}, '1': {}, '2': {'lag': 1, 'fill': 'zero'}} with error ValueError('cannot reshape array of size 102 into shape (0,364,newaxis)')\") in model 596 in generation 5: ConstantNaive\n",
      "Model Number: 597 with model GLM in generation 5 of 10\n",
      "Model Number: 598 with model GLM in generation 5 of 10\n",
      "Model Number: 599 with model DatepartRegression in generation 5 of 10\n",
      "Model Number: 600 with model GLM in generation 5 of 10\n",
      "Template Eval Error: ValueError('regression_type=user and no future_regressor passed') in model 600 in generation 5: GLM\n",
      "Model Number: 601 with model SectionalMotif in generation 5 of 10\n",
      "Template Eval Error: ValueError(\"regression_type=='User' but no future_regressor supplied\") in model 601 in generation 5: SectionalMotif\n",
      "Model Number: 602 with model WindowRegression in generation 5 of 10\n",
      "Model Number: 603 with model ConstantNaive in generation 5 of 10\n",
      "Model Number: 604 with model MetricMotif in generation 5 of 10\n",
      "Template Eval Error: ValueError('kth(=99) out of bounds (83)') in model 604 in generation 5: MetricMotif\n",
      "Model Number: 605 with model WindowRegression in generation 5 of 10\n",
      "Template Eval Error: ModuleNotFoundError(\"No module named 'lightgbm'\") in model 605 in generation 5: WindowRegression\n",
      "Model Number: 606 with model UnivariateMotif in generation 5 of 10\n",
      "Model Number: 607 with model ARDL in generation 5 of 10\n"
     ]
    },
    {
     "name": "stderr",
     "output_type": "stream",
     "text": [
      "/home/zeus/miniconda3/envs/cloudspace/lib/python3.10/site-packages/sklearn/base.py:458: UserWarning: X has feature names, but StandardScaler was fitted without feature names\n",
      "  warnings.warn(\n"
     ]
    },
    {
     "name": "stdout",
     "output_type": "stream",
     "text": [
      "Model Number: 608 with model LastValueNaive in generation 5 of 10\n",
      "Model Number: 609 with model LastValueNaive in generation 5 of 10\n",
      "Model Number: 610 with model AverageValueNaive in generation 5 of 10\n",
      "Model Number: 611 with model GLM in generation 5 of 10\n",
      "Model Number: 612 with model DatepartRegression in generation 5 of 10\n",
      "Template Eval Error: ModuleNotFoundError(\"No module named 'tensorflow'\") in model 612 in generation 5: DatepartRegression\n",
      "Model Number: 613 with model LastValueNaive in generation 5 of 10\n",
      "Model Number: 614 with model ETS in generation 5 of 10\n",
      "Model Number: 615 with model GLS in generation 5 of 10\n",
      "Model Number: 616 with model UnivariateMotif in generation 5 of 10\n",
      "Model Number: 617 with model SeasonalNaive in generation 5 of 10\n",
      "Model Number: 618 with model MetricMotif in generation 5 of 10\n",
      "Model Number: 619 with model RRVAR in generation 5 of 10\n",
      "Model Number: 620 with model GLM in generation 5 of 10\n",
      "Model Number: 621 with model SeasonalityMotif in generation 5 of 10\n",
      "Template Eval Error: Exception(\"Transformer DatepartRegression failed on fit from params ffill {'0': {}, '1': {}, '2': {'regression_model': {'model': 'ExtraTrees', 'model_params': {'n_estimators': 50, 'min_samples_leaf': 1, 'min_samples_split': 2, 'max_depth': 5, 'criterion': 'poisson', 'max_features': 1}}, 'datepart_method': 'recurring', 'polynomial_degree': None, 'transform_dict': {'fillna': None, 'transformations': {'0': 'EWMAFilter'}, 'transformation_params': {'0': {'span': 2}}}, 'holiday_countries_used': False, 'lags': None, 'forward_lags': None}, '3': {'rows': 1, 'lag': 28, 'method': 'additive', 'strength': 1.0, 'first_value_only': False, 'threshold': 1, 'threshold_method': 'max'}} with error ValueError('Some value(s) of y are negative which is not allowed for Poisson regression.')\") in model 621 in generation 5: SeasonalityMotif\n",
      "Model Number: 622 with model UnivariateMotif in generation 5 of 10\n",
      "Model Number: 623 with model BasicLinearModel in generation 5 of 10\n",
      "Model Number: 624 with model BasicLinearModel in generation 5 of 10\n",
      "Model Number: 625 with model SeasonalityMotif in generation 5 of 10\n",
      "Model Number: 626 with model UnivariateMotif in generation 5 of 10\n",
      "Model Number: 627 with model LastValueNaive in generation 5 of 10\n",
      "Model Number: 628 with model WindowRegression in generation 5 of 10\n",
      "Model Number: 629 with model MetricMotif in generation 5 of 10\n",
      "Template Eval Error: Exception(\"Transformer ReplaceConstant failed on fit from params nearest {'0': {'rows': 1, 'lag': 1, 'method': 'additive', 'strength': 1.0, 'first_value_only': False, 'threshold': 1, 'threshold_method': 'mean'}, '1': {}, '2': {'constant': 0, 'reintroduction_model': {'model': 'xgboost', 'model_params': {'booster': 'gbtree', 'max_depth': 6, 'eta': 0.01, 'min_child_weight': 1, 'subsample': 1, 'colsample_bylevel': 0.9, 'reg_alpha': 0, 'reg_lambda': 1, 'n_estimators': 20, 'quantile_alpha': 0.5, 'tree_method': 'hist'}, 'datepart_method': 'expanded_binarized'}, 'fillna': 'linear'}, '3': {'method': 'butter', 'method_args': {'N': 1, 'window_size': 2, 'btype': 'highpass', 'analog': False, 'output': 'sos'}}} with error ValueError('Invalid classes inferred from unique values of `y`.  Expected: [0], got [1]')\") in model 629 in generation 5: MetricMotif\n",
      "Model Number: 630 with model UnivariateMotif in generation 5 of 10\n",
      "Model Number: 631 with model AverageValueNaive in generation 5 of 10\n"
     ]
    },
    {
     "name": "stderr",
     "output_type": "stream",
     "text": [
      "/home/zeus/miniconda3/envs/cloudspace/lib/python3.10/site-packages/sklearn/base.py:458: UserWarning: X has feature names, but StandardScaler was fitted without feature names\n",
      "  warnings.warn(\n"
     ]
    },
    {
     "name": "stdout",
     "output_type": "stream",
     "text": [
      "Model Number: 632 with model BasicLinearModel in generation 5 of 10\n",
      "Model Number: 633 with model FFT in generation 5 of 10\n",
      "Model Number: 634 with model SeasonalityMotif in generation 5 of 10\n",
      "Model Number: 635 with model SectionalMotif in generation 5 of 10\n",
      "Model Number: 636 with model LastValueNaive in generation 5 of 10\n",
      "Model Number: 637 with model GLM in generation 5 of 10\n",
      "Model Number: 638 with model SeasonalNaive in generation 5 of 10\n"
     ]
    },
    {
     "name": "stderr",
     "output_type": "stream",
     "text": [
      "/home/zeus/miniconda3/envs/cloudspace/lib/python3.10/site-packages/sklearn/decomposition/_fastica.py:576: UserWarning: Ignoring n_components with whiten=False.\n",
      "  warnings.warn(\"Ignoring n_components with whiten=False.\")\n",
      "/home/zeus/miniconda3/envs/cloudspace/lib/python3.10/site-packages/sklearn/decomposition/_fastica.py:128: ConvergenceWarning: FastICA did not converge. Consider increasing tolerance or the maximum number of iterations.\n",
      "  warnings.warn(\n"
     ]
    },
    {
     "name": "stdout",
     "output_type": "stream",
     "text": [
      "Model Number: 639 with model AverageValueNaive in generation 5 of 10\n",
      "Model Number: 640 with model MetricMotif in generation 5 of 10\n",
      "Model Number: 641 with model FFT in generation 5 of 10\n",
      "Model Number: 642 with model MetricMotif in generation 5 of 10\n",
      "Model Number: 643 with model SectionalMotif in generation 5 of 10\n",
      "Template Eval Error: Exception(\"Transformer FastICA failed on fit from params zero {'0': {'fillna': 'pchip', 'center': 'zero'}, '1': {'method': 'remove', 'std_threshold': 4, 'fillna': 'mean'}, '2': {'algorithm': 'deflation', 'fun': 'cube', 'max_iter': 250, 'whiten': 'unit-variance'}} with error ValueError('illegal value in 4th argument of internal gesdd')\") in model 643 in generation 5: SectionalMotif\n",
      "Model Number: 644 with model MetricMotif in generation 5 of 10\n",
      "Model Number: 645 with model SeasonalNaive in generation 5 of 10\n",
      "Model Number: 646 with model BasicLinearModel in generation 5 of 10\n"
     ]
    },
    {
     "name": "stderr",
     "output_type": "stream",
     "text": [
      "/home/zeus/miniconda3/envs/cloudspace/lib/python3.10/site-packages/sklearn/decomposition/_fastica.py:613: RuntimeWarning: invalid value encountered in divide\n",
      "  K = (u / d).T[:n_components]  # see (6.33) p.140\n"
     ]
    },
    {
     "name": "stdout",
     "output_type": "stream",
     "text": [
      "Model Number: 647 with model GLM in generation 5 of 10\n",
      "Template Eval Error: ValueError('regression_type=user and no future_regressor passed') in model 647 in generation 5: GLM\n",
      "Model Number: 648 with model LastValueNaive in generation 5 of 10\n",
      "Model Number: 649 with model MetricMotif in generation 5 of 10\n",
      "Model Number: 650 with model FFT in generation 5 of 10\n",
      "Model Number: 651 with model MetricMotif in generation 5 of 10\n",
      "Model Number: 652 with model SeasonalityMotif in generation 5 of 10\n",
      "Model Number: 653 with model LastValueNaive in generation 5 of 10\n",
      "Model Number: 654 with model SeasonalNaive in generation 5 of 10\n",
      "Model Number: 655 with model AverageValueNaive in generation 5 of 10\n",
      "Model Number: 656 with model UnivariateMotif in generation 5 of 10\n",
      "Model Number: 657 with model MetricMotif in generation 5 of 10\n",
      "Model Number: 658 with model SectionalMotif in generation 5 of 10\n",
      "Model Number: 659 with model SeasonalityMotif in generation 5 of 10\n",
      "New Generation: 6 of 10\n"
     ]
    },
    {
     "name": "stderr",
     "output_type": "stream",
     "text": [
      "/home/zeus/miniconda3/envs/cloudspace/lib/python3.10/site-packages/autots/tools/percentile.py:47: RuntimeWarning: All-NaN slice encountered\n",
      "  max_val = np.nanmax(arr)\n"
     ]
    },
    {
     "name": "stdout",
     "output_type": "stream",
     "text": [
      "Model Number: 660 with model LastValueNaive in generation 6 of 10\n",
      "Model Number: 661 with model AverageValueNaive in generation 6 of 10\n",
      "Model Number: 662 with model ConstantNaive in generation 6 of 10\n",
      "Model Number: 663 with model BasicLinearModel in generation 6 of 10\n",
      "Template Eval Error: ValueError(\"regression_type=='User' but no future_regressor supplied\") in model 663 in generation 6: BasicLinearModel\n",
      "Model Number: 664 with model MetricMotif in generation 6 of 10\n",
      "Model Number: 665 with model SeasonalityMotif in generation 6 of 10\n",
      "Model Number: 666 with model LastValueNaive in generation 6 of 10\n",
      "Model Number: 667 with model DatepartRegression in generation 6 of 10\n",
      "Model Number: 668 with model DatepartRegression in generation 6 of 10\n",
      "Model Number: 669 with model SeasonalityMotif in generation 6 of 10\n",
      "Model Number: 670 with model BasicLinearModel in generation 6 of 10\n",
      "Model Number: 671 with model AverageValueNaive in generation 6 of 10\n",
      "Model Number: 672 with model DatepartRegression in generation 6 of 10\n",
      "Model Number: 673 with model Cassandra in generation 6 of 10\n"
     ]
    },
    {
     "name": "stderr",
     "output_type": "stream",
     "text": [
      "/home/zeus/miniconda3/envs/cloudspace/lib/python3.10/site-packages/numpy/lib/function_base.py:2897: RuntimeWarning: invalid value encountered in divide\n",
      "  c /= stddev[:, None]\n",
      "/home/zeus/miniconda3/envs/cloudspace/lib/python3.10/site-packages/numpy/lib/function_base.py:2898: RuntimeWarning: invalid value encountered in divide\n",
      "  c /= stddev[None, :]\n",
      "/home/zeus/miniconda3/envs/cloudspace/lib/python3.10/site-packages/sklearn/base.py:458: UserWarning: X has feature names, but StandardScaler was fitted without feature names\n",
      "  warnings.warn(\n",
      "/home/zeus/miniconda3/envs/cloudspace/lib/python3.10/site-packages/sklearn/base.py:458: UserWarning: X has feature names, but StandardScaler was fitted without feature names\n",
      "  warnings.warn(\n",
      "/home/zeus/miniconda3/envs/cloudspace/lib/python3.10/site-packages/sklearn/base.py:458: UserWarning: X has feature names, but StandardScaler was fitted without feature names\n",
      "  warnings.warn(\n",
      "/home/zeus/miniconda3/envs/cloudspace/lib/python3.10/site-packages/sklearn/base.py:458: UserWarning: X has feature names, but StandardScaler was fitted without feature names\n",
      "  warnings.warn(\n",
      "/home/zeus/miniconda3/envs/cloudspace/lib/python3.10/site-packages/sklearn/base.py:458: UserWarning: X has feature names, but StandardScaler was fitted without feature names\n",
      "  warnings.warn(\n",
      "/home/zeus/miniconda3/envs/cloudspace/lib/python3.10/site-packages/sklearn/base.py:458: UserWarning: X has feature names, but StandardScaler was fitted without feature names\n",
      "  warnings.warn(\n",
      "/home/zeus/miniconda3/envs/cloudspace/lib/python3.10/site-packages/sklearn/base.py:458: UserWarning: X has feature names, but StandardScaler was fitted without feature names\n",
      "  warnings.warn(\n",
      "/home/zeus/miniconda3/envs/cloudspace/lib/python3.10/site-packages/sklearn/base.py:458: UserWarning: X has feature names, but StandardScaler was fitted without feature names\n",
      "  warnings.warn(\n",
      "/home/zeus/miniconda3/envs/cloudspace/lib/python3.10/site-packages/sklearn/base.py:458: UserWarning: X has feature names, but StandardScaler was fitted without feature names\n",
      "  warnings.warn(\n",
      "/home/zeus/miniconda3/envs/cloudspace/lib/python3.10/site-packages/sklearn/base.py:458: UserWarning: X has feature names, but StandardScaler was fitted without feature names\n",
      "  warnings.warn(\n",
      "/home/zeus/miniconda3/envs/cloudspace/lib/python3.10/site-packages/sklearn/base.py:458: UserWarning: X has feature names, but StandardScaler was fitted without feature names\n",
      "  warnings.warn(\n",
      "/home/zeus/miniconda3/envs/cloudspace/lib/python3.10/site-packages/sklearn/base.py:458: UserWarning: X has feature names, but StandardScaler was fitted without feature names\n",
      "  warnings.warn(\n",
      "/home/zeus/miniconda3/envs/cloudspace/lib/python3.10/site-packages/sklearn/base.py:458: UserWarning: X has feature names, but StandardScaler was fitted without feature names\n",
      "  warnings.warn(\n",
      "/home/zeus/miniconda3/envs/cloudspace/lib/python3.10/site-packages/sklearn/base.py:458: UserWarning: X has feature names, but StandardScaler was fitted without feature names\n",
      "  warnings.warn(\n",
      "/home/zeus/miniconda3/envs/cloudspace/lib/python3.10/site-packages/sklearn/base.py:458: UserWarning: X has feature names, but StandardScaler was fitted without feature names\n",
      "  warnings.warn(\n",
      "/home/zeus/miniconda3/envs/cloudspace/lib/python3.10/site-packages/sklearn/base.py:458: UserWarning: X has feature names, but StandardScaler was fitted without feature names\n",
      "  warnings.warn(\n",
      "/home/zeus/miniconda3/envs/cloudspace/lib/python3.10/site-packages/sklearn/base.py:458: UserWarning: X has feature names, but StandardScaler was fitted without feature names\n",
      "  warnings.warn(\n",
      "/home/zeus/miniconda3/envs/cloudspace/lib/python3.10/site-packages/sklearn/base.py:458: UserWarning: X has feature names, but StandardScaler was fitted without feature names\n",
      "  warnings.warn(\n",
      "/home/zeus/miniconda3/envs/cloudspace/lib/python3.10/site-packages/sklearn/base.py:458: UserWarning: X has feature names, but StandardScaler was fitted without feature names\n",
      "  warnings.warn(\n",
      "/home/zeus/miniconda3/envs/cloudspace/lib/python3.10/site-packages/sklearn/base.py:458: UserWarning: X has feature names, but StandardScaler was fitted without feature names\n",
      "  warnings.warn(\n",
      "/home/zeus/miniconda3/envs/cloudspace/lib/python3.10/site-packages/sklearn/base.py:458: UserWarning: X has feature names, but StandardScaler was fitted without feature names\n",
      "  warnings.warn(\n",
      "/home/zeus/miniconda3/envs/cloudspace/lib/python3.10/site-packages/sklearn/base.py:458: UserWarning: X has feature names, but StandardScaler was fitted without feature names\n",
      "  warnings.warn(\n",
      "/home/zeus/miniconda3/envs/cloudspace/lib/python3.10/site-packages/sklearn/base.py:458: UserWarning: X has feature names, but StandardScaler was fitted without feature names\n",
      "  warnings.warn(\n",
      "/home/zeus/miniconda3/envs/cloudspace/lib/python3.10/site-packages/sklearn/base.py:458: UserWarning: X has feature names, but StandardScaler was fitted without feature names\n",
      "  warnings.warn(\n",
      "/home/zeus/miniconda3/envs/cloudspace/lib/python3.10/site-packages/sklearn/base.py:458: UserWarning: X has feature names, but StandardScaler was fitted without feature names\n",
      "  warnings.warn(\n",
      "/home/zeus/miniconda3/envs/cloudspace/lib/python3.10/site-packages/sklearn/base.py:458: UserWarning: X has feature names, but StandardScaler was fitted without feature names\n",
      "  warnings.warn(\n",
      "/home/zeus/miniconda3/envs/cloudspace/lib/python3.10/site-packages/sklearn/base.py:458: UserWarning: X has feature names, but StandardScaler was fitted without feature names\n",
      "  warnings.warn(\n",
      "/home/zeus/miniconda3/envs/cloudspace/lib/python3.10/site-packages/sklearn/base.py:458: UserWarning: X has feature names, but StandardScaler was fitted without feature names\n",
      "  warnings.warn(\n",
      "/home/zeus/miniconda3/envs/cloudspace/lib/python3.10/site-packages/sklearn/base.py:458: UserWarning: X has feature names, but StandardScaler was fitted without feature names\n",
      "  warnings.warn(\n",
      "/home/zeus/miniconda3/envs/cloudspace/lib/python3.10/site-packages/sklearn/base.py:458: UserWarning: X has feature names, but StandardScaler was fitted without feature names\n",
      "  warnings.warn(\n",
      "/home/zeus/miniconda3/envs/cloudspace/lib/python3.10/site-packages/sklearn/base.py:458: UserWarning: X has feature names, but StandardScaler was fitted without feature names\n",
      "  warnings.warn(\n",
      "/home/zeus/miniconda3/envs/cloudspace/lib/python3.10/site-packages/sklearn/base.py:458: UserWarning: X has feature names, but StandardScaler was fitted without feature names\n",
      "  warnings.warn(\n",
      "/home/zeus/miniconda3/envs/cloudspace/lib/python3.10/site-packages/sklearn/base.py:458: UserWarning: X has feature names, but StandardScaler was fitted without feature names\n",
      "  warnings.warn(\n",
      "/home/zeus/miniconda3/envs/cloudspace/lib/python3.10/site-packages/sklearn/base.py:458: UserWarning: X has feature names, but StandardScaler was fitted without feature names\n",
      "  warnings.warn(\n",
      "/home/zeus/miniconda3/envs/cloudspace/lib/python3.10/site-packages/sklearn/base.py:458: UserWarning: X has feature names, but StandardScaler was fitted without feature names\n",
      "  warnings.warn(\n",
      "/home/zeus/miniconda3/envs/cloudspace/lib/python3.10/site-packages/sklearn/base.py:458: UserWarning: X has feature names, but StandardScaler was fitted without feature names\n",
      "  warnings.warn(\n",
      "/home/zeus/miniconda3/envs/cloudspace/lib/python3.10/site-packages/sklearn/base.py:458: UserWarning: X has feature names, but StandardScaler was fitted without feature names\n",
      "  warnings.warn(\n",
      "/home/zeus/miniconda3/envs/cloudspace/lib/python3.10/site-packages/sklearn/base.py:458: UserWarning: X has feature names, but StandardScaler was fitted without feature names\n",
      "  warnings.warn(\n",
      "/home/zeus/miniconda3/envs/cloudspace/lib/python3.10/site-packages/sklearn/base.py:458: UserWarning: X has feature names, but StandardScaler was fitted without feature names\n",
      "  warnings.warn(\n",
      "/home/zeus/miniconda3/envs/cloudspace/lib/python3.10/site-packages/sklearn/base.py:458: UserWarning: X has feature names, but StandardScaler was fitted without feature names\n",
      "  warnings.warn(\n",
      "/home/zeus/miniconda3/envs/cloudspace/lib/python3.10/site-packages/sklearn/base.py:458: UserWarning: X has feature names, but StandardScaler was fitted without feature names\n",
      "  warnings.warn(\n"
     ]
    },
    {
     "name": "stdout",
     "output_type": "stream",
     "text": [
      "Model Number: 674 with model SeasonalityMotif in generation 6 of 10\n"
     ]
    },
    {
     "name": "stderr",
     "output_type": "stream",
     "text": [
      "/home/zeus/miniconda3/envs/cloudspace/lib/python3.10/site-packages/sklearn/base.py:458: UserWarning: X has feature names, but StandardScaler was fitted without feature names\n",
      "  warnings.warn(\n",
      "/home/zeus/miniconda3/envs/cloudspace/lib/python3.10/site-packages/sklearn/base.py:458: UserWarning: X has feature names, but StandardScaler was fitted without feature names\n",
      "  warnings.warn(\n",
      "/home/zeus/miniconda3/envs/cloudspace/lib/python3.10/site-packages/sklearn/base.py:458: UserWarning: X has feature names, but StandardScaler was fitted without feature names\n",
      "  warnings.warn(\n",
      "/home/zeus/miniconda3/envs/cloudspace/lib/python3.10/site-packages/sklearn/base.py:458: UserWarning: X has feature names, but StandardScaler was fitted without feature names\n",
      "  warnings.warn(\n",
      "/home/zeus/miniconda3/envs/cloudspace/lib/python3.10/site-packages/sklearn/base.py:458: UserWarning: X has feature names, but StandardScaler was fitted without feature names\n",
      "  warnings.warn(\n",
      "/home/zeus/miniconda3/envs/cloudspace/lib/python3.10/site-packages/sklearn/base.py:458: UserWarning: X has feature names, but StandardScaler was fitted without feature names\n",
      "  warnings.warn(\n",
      "/home/zeus/miniconda3/envs/cloudspace/lib/python3.10/site-packages/sklearn/base.py:458: UserWarning: X has feature names, but StandardScaler was fitted without feature names\n",
      "  warnings.warn(\n",
      "/home/zeus/miniconda3/envs/cloudspace/lib/python3.10/site-packages/sklearn/base.py:458: UserWarning: X has feature names, but StandardScaler was fitted without feature names\n",
      "  warnings.warn(\n",
      "/home/zeus/miniconda3/envs/cloudspace/lib/python3.10/site-packages/sklearn/base.py:458: UserWarning: X has feature names, but StandardScaler was fitted without feature names\n",
      "  warnings.warn(\n",
      "/home/zeus/miniconda3/envs/cloudspace/lib/python3.10/site-packages/sklearn/base.py:458: UserWarning: X has feature names, but StandardScaler was fitted without feature names\n",
      "  warnings.warn(\n",
      "/home/zeus/miniconda3/envs/cloudspace/lib/python3.10/site-packages/sklearn/base.py:458: UserWarning: X has feature names, but StandardScaler was fitted without feature names\n",
      "  warnings.warn(\n"
     ]
    },
    {
     "name": "stdout",
     "output_type": "stream",
     "text": [
      "Model Number: 675 with model SeasonalNaive in generation 6 of 10\n",
      "Model Number: 676 with model GLS in generation 6 of 10\n",
      "Model Number: 677 with model AverageValueNaive in generation 6 of 10\n",
      "Model Number: 678 with model ETS in generation 6 of 10\n",
      "Model Number: 679 with model FFT in generation 6 of 10\n",
      "Model Number: 680 with model UnivariateMotif in generation 6 of 10\n",
      "Model Number: 681 with model GLM in generation 6 of 10\n",
      "Model Number: 682 with model SectionalMotif in generation 6 of 10\n",
      "Model Number: 683 with model MetricMotif in generation 6 of 10\n",
      "Template Eval Error: ValueError('kth(=99) out of bounds (73)') in model 683 in generation 6: MetricMotif\n",
      "Model Number: 684 with model UnivariateMotif in generation 6 of 10\n"
     ]
    },
    {
     "name": "stderr",
     "output_type": "stream",
     "text": [
      "/home/zeus/miniconda3/envs/cloudspace/lib/python3.10/site-packages/statsmodels/genmod/families/links.py:198: RuntimeWarning: overflow encountered in exp\n",
      "  t = np.exp(-z)\n"
     ]
    },
    {
     "name": "stdout",
     "output_type": "stream",
     "text": [
      "Model Number: 685 with model DatepartRegression in generation 6 of 10\n",
      "Model Number: 686 with model BasicLinearModel in generation 6 of 10\n",
      "Model Number: 687 with model WindowRegression in generation 6 of 10\n",
      "Model Number: 688 with model ETS in generation 6 of 10\n",
      "Model Number: 689 with model FFT in generation 6 of 10\n"
     ]
    },
    {
     "name": "stderr",
     "output_type": "stream",
     "text": [
      "/home/zeus/miniconda3/envs/cloudspace/lib/python3.10/site-packages/sklearn/base.py:458: UserWarning: X has feature names, but StandardScaler was fitted without feature names\n",
      "  warnings.warn(\n"
     ]
    },
    {
     "name": "stdout",
     "output_type": "stream",
     "text": [
      "Model Number: 690 with model GLS in generation 6 of 10\n",
      "Model Number: 691 with model GLS in generation 6 of 10\n",
      "Model Number: 692 with model ARDL in generation 6 of 10\n",
      "Model Number: 693 with model SectionalMotif in generation 6 of 10\n",
      "Model Number: 694 with model SectionalMotif in generation 6 of 10\n",
      "Model Number: 695 with model WindowRegression in generation 6 of 10\n",
      "Template Eval Error: ValueError('Input X contains NaN.\\nRadiusNeighborsRegressor does not accept missing values encoded as NaN natively. For supervised learning, you might want to consider sklearn.ensemble.HistGradientBoostingClassifier and Regressor which accept missing values encoded as NaNs natively. Alternatively, it is possible to preprocess the data, for instance by using an imputer transformer in a pipeline or drop samples with missing values. See https://scikit-learn.org/stable/modules/impute.html You can find a list of all estimators that handle NaN values at the following page: https://scikit-learn.org/stable/modules/impute.html#estimators-that-handle-nan-values') in model 695 in generation 6: WindowRegression\n",
      "Model Number: 696 with model MetricMotif in generation 6 of 10\n",
      "Template Eval Error: Exception(\"Transformer Cointegration failed on fit from params nearest {'0': {}, '1': {'det_order': 0, 'k_ar_diff': 1}} with error ValueError('Coint only works on multivarate series')\") in model 696 in generation 6: MetricMotif\n",
      "Model Number: 697 with model MetricMotif in generation 6 of 10\n",
      "Template Eval Error: Exception(\"Transformer Cointegration failed on fit from params mean {'0': {'rows': 1}, '1': {'det_order': 0, 'k_ar_diff': 1}, '2': {}} with error ValueError('Coint only works on multivarate series')\") in model 697 in generation 6: MetricMotif\n",
      "Model Number: 698 with model ARDL in generation 6 of 10\n"
     ]
    },
    {
     "name": "stderr",
     "output_type": "stream",
     "text": [
      "/home/zeus/miniconda3/envs/cloudspace/lib/python3.10/site-packages/sklearn/neighbors/_classification.py:233: DataConversionWarning: A column-vector y was passed when a 1d array was expected. Please change the shape of y to (n_samples,), for example using ravel().\n",
      "  return self._fit(X, y)\n",
      "/home/zeus/miniconda3/envs/cloudspace/lib/python3.10/site-packages/sklearn/neighbors/_regression.py:500: UserWarning: One or more samples have no neighbors within specified radius; predicting NaN.\n",
      "  warnings.warn(empty_warning_msg)\n"
     ]
    },
    {
     "name": "stdout",
     "output_type": "stream",
     "text": [
      "Model Number: 699 with model SeasonalityMotif in generation 6 of 10\n",
      "Model Number: 700 with model AverageValueNaive in generation 6 of 10\n",
      "Model Number: 701 with model SeasonalNaive in generation 6 of 10\n",
      "Model Number: 702 with model ConstantNaive in generation 6 of 10\n",
      "Model Number: 703 with model ConstantNaive in generation 6 of 10\n",
      "Template Eval Error: Exception(\"Transformer BTCD failed on fit from params ffill {'0': {'method': 'clip', 'std_threshold': 3, 'fillna': None}, '1': {'model': 'Linear', 'phi': 1, 'window': None, 'transform_dict': None}, '2': {'regression_model': {'model': 'LinearRegression', 'model_params': {}}, 'max_lags': 1}} with error ValueError('BTCD only works on multivarate series')\") in model 703 in generation 6: ConstantNaive\n",
      "Model Number: 704 with model LastValueNaive in generation 6 of 10\n",
      "Model Number: 705 with model MetricMotif in generation 6 of 10\n",
      "Model Number: 706 with model BasicLinearModel in generation 6 of 10\n",
      "Model Number: 707 with model WindowRegression in generation 6 of 10\n",
      "Model Number: 708 with model FFT in generation 6 of 10\n",
      "Model Number: 709 with model SeasonalNaive in generation 6 of 10\n",
      "Model Number: 710 with model LastValueNaive in generation 6 of 10\n",
      "Template Eval Error: Exception(\"Transformer BTCD failed on fit from params ffill {'0': {'rows': 7, 'lag': 1, 'method': 'additive', 'strength': 0.5, 'first_value_only': False, 'threshold': 10, 'threshold_method': 'mean'}, '1': {'regression_model': {'model': 'FastRidge', 'model_params': {}}, 'max_lags': 2}, '2': {'rows': 2, 'displacement_rows': 1, 'quantile': 1.0, 'decay_span': None}, '3': {'window': 'forecast_length'}, '4': {'decimals': -2, 'on_transform': True, 'on_inverse': True}} with error ValueError('BTCD only works on multivarate series')\") in model 710 in generation 6: LastValueNaive\n",
      "Model Number: 711 with model ARDL in generation 6 of 10\n",
      "Model Number: 712 with model MetricMotif in generation 6 of 10\n",
      "Model Number: 713 with model SeasonalityMotif in generation 6 of 10\n"
     ]
    },
    {
     "name": "stderr",
     "output_type": "stream",
     "text": [
      "/home/zeus/miniconda3/envs/cloudspace/lib/python3.10/site-packages/sklearn/base.py:458: UserWarning: X has feature names, but StandardScaler was fitted without feature names\n",
      "  warnings.warn(\n"
     ]
    },
    {
     "name": "stdout",
     "output_type": "stream",
     "text": [
      "Model Number: 714 with model LastValueNaive in generation 6 of 10\n",
      "Model Number: 715 with model FFT in generation 6 of 10\n",
      "Template Eval Error: Exception(\"Transformer Cointegration failed on fit from params ffill_mean_biased {'0': {'det_order': 0, 'k_ar_diff': 1}, '1': {'model': 'GLS', 'phi': 1, 'window': None, 'transform_dict': None}, '2': {'theta_values': [0.4, 1.6]}} with error ValueError('Coint only works on multivarate series')\") in model 715 in generation 6: FFT\n",
      "Model Number: 716 with model SeasonalityMotif in generation 6 of 10\n",
      "Model Number: 717 with model UnivariateMotif in generation 6 of 10\n",
      "Model Number: 718 with model DatepartRegression in generation 6 of 10\n",
      "Model Number: 719 with model ConstantNaive in generation 6 of 10\n",
      "Model Number: 720 with model MetricMotif in generation 6 of 10\n",
      "Model Number: 721 with model Cassandra in generation 6 of 10\n",
      "Template Eval Error: ValueError('negative dimensions are not allowed') in model 721 in generation 6: Cassandra\n",
      "Model Number: 722 with model DatepartRegression in generation 6 of 10\n",
      "Template Eval Error: ModuleNotFoundError(\"No module named 'tensorflow'\") in model 722 in generation 6: DatepartRegression\n",
      "Model Number: 723 with model MetricMotif in generation 6 of 10\n",
      "Model Number: 724 with model LastValueNaive in generation 6 of 10\n",
      "Model Number: 725 with model ETS in generation 6 of 10\n",
      "Model Number: 726 with model UnivariateMotif in generation 6 of 10\n",
      "Model Number: 727 with model MetricMotif in generation 6 of 10\n",
      "Template Eval Error: Exception(\"Transformer Cointegration failed on fit from params zero {'0': {}, '1': {'method': 'rolling_zscore', 'method_params': {'distribution': 'norm', 'alpha': 0.05, 'rolling_periods': 28, 'center': True}, 'fillna': 'ffill', 'transform_dict': {'fillna': None, 'transformations': {'0': 'ClipOutliers'}, 'transformation_params': {'0': {'method': 'clip', 'std_threshold': 6}}}, 'isolated_only': False, 'on_inverse': False}, '2': {'det_order': -1, 'k_ar_diff': 2}} with error ValueError('Coint only works on multivarate series')\") in model 727 in generation 6: MetricMotif\n",
      "Model Number: 728 with model ConstantNaive in generation 6 of 10\n",
      "Model Number: 729 with model WindowRegression in generation 6 of 10\n",
      "Template Eval Error: ModuleNotFoundError(\"No module named 'lightgbm'\") in model 729 in generation 6: WindowRegression\n",
      "Model Number: 730 with model ETS in generation 6 of 10\n",
      "Model Number: 731 with model AverageValueNaive in generation 6 of 10\n",
      "Model Number: 732 with model SectionalMotif in generation 6 of 10\n",
      "Model Number: 733 with model SectionalMotif in generation 6 of 10\n",
      "Model Number: 734 with model MetricMotif in generation 6 of 10\n",
      "Model Number: 735 with model SeasonalityMotif in generation 6 of 10\n",
      "Model Number: 736 with model GLM in generation 6 of 10\n"
     ]
    },
    {
     "name": "stderr",
     "output_type": "stream",
     "text": [
      "/home/zeus/miniconda3/envs/cloudspace/lib/python3.10/site-packages/sklearn/neighbors/_classification.py:233: DataConversionWarning: A column-vector y was passed when a 1d array was expected. Please change the shape of y to (n_samples,), for example using ravel().\n",
      "  return self._fit(X, y)\n"
     ]
    },
    {
     "name": "stdout",
     "output_type": "stream",
     "text": [
      "Model Number: 737 with model UnivariateMotif in generation 6 of 10\n",
      "Model Number: 738 with model UnivariateMotif in generation 6 of 10\n",
      "Model Number: 739 with model SeasonalityMotif in generation 6 of 10\n",
      "Template Eval Error: ValueError('Model SeasonalityMotif returned NaN for one or more series. fail_on_forecast_nan=True') in model 739 in generation 6: SeasonalityMotif\n",
      "Model Number: 740 with model UnivariateMotif in generation 6 of 10\n",
      "Model Number: 741 with model DatepartRegression in generation 6 of 10\n",
      "Template Eval Error: ModuleNotFoundError(\"No module named 'tensorflow'\") in model 741 in generation 6: DatepartRegression\n",
      "Model Number: 742 with model SeasonalityMotif in generation 6 of 10\n",
      "Model Number: 743 with model GLM in generation 6 of 10\n",
      "New Generation: 7 of 10\n"
     ]
    },
    {
     "name": "stderr",
     "output_type": "stream",
     "text": [
      "/home/zeus/miniconda3/envs/cloudspace/lib/python3.10/site-packages/numpy/core/fromnumeric.py:3504: RuntimeWarning: Mean of empty slice.\n",
      "  return _methods._mean(a, axis=axis, dtype=dtype,\n",
      "/home/zeus/miniconda3/envs/cloudspace/lib/python3.10/site-packages/numpy/core/_methods.py:121: RuntimeWarning: invalid value encountered in divide\n",
      "  ret = um.true_divide(\n",
      "/home/zeus/miniconda3/envs/cloudspace/lib/python3.10/site-packages/statsmodels/genmod/families/family.py:1367: ValueWarning: Negative binomial dispersion parameter alpha not set. Using default value alpha=1.0.\n",
      "  warnings.warn(\"Negative binomial dispersion parameter alpha not \"\n"
     ]
    },
    {
     "name": "stdout",
     "output_type": "stream",
     "text": [
      "Model Number: 744 with model UnivariateMotif in generation 7 of 10\n",
      "Model Number: 745 with model AverageValueNaive in generation 7 of 10\n",
      "Model Number: 746 with model UnivariateMotif in generation 7 of 10\n",
      "Template Eval Error: Exception(\"Transformer HolidayTransformer failed on fit from params nearest {'0': {'rows': 1, 'lag': 1, 'method': 'additive', 'strength': 1.0, 'first_value_only': False, 'threshold': 1, 'threshold_method': 'max'}, '1': {'threshold': 0.8, 'splash_threshold': None, 'use_dayofmonth_holidays': True, 'use_wkdom_holidays': True, 'use_wkdeom_holidays': False, 'use_lunar_holidays': False, 'use_lunar_weekday': False, 'use_islamic_holidays': False, 'use_hebrew_holidays': False, 'use_hindu_holidays': False, 'anomaly_detector_params': {'method': 'rolling_zscore', 'method_params': {'distribution': 'cauchy', 'alpha': 0.01, 'rolling_periods': 300, 'center': False}, 'fillna': 'rolling_mean_24', 'transform_dict': {'transformations': {'0': 'DatepartRegression'}, 'transformation_params': {'0': {'datepart_method': 'simple_3', 'regression_model': {'model': 'ElasticNet', 'model_params': {}}}}}, 'isolated_only': True, 'on_inverse': False}, 'remove_excess_anomalies': True, 'impact': 'anomaly_score', 'regression_params': {}}} with error ValueError('more than 1 year of data is required for holiday detection.')\") in model 746 in generation 7: UnivariateMotif\n",
      "Model Number: 747 with model LastValueNaive in generation 7 of 10\n",
      "Model Number: 748 with model Cassandra in generation 7 of 10\n"
     ]
    },
    {
     "name": "stderr",
     "output_type": "stream",
     "text": [
      "/home/zeus/miniconda3/envs/cloudspace/lib/python3.10/site-packages/numpy/lib/function_base.py:2897: RuntimeWarning: invalid value encountered in divide\n",
      "  c /= stddev[:, None]\n",
      "/home/zeus/miniconda3/envs/cloudspace/lib/python3.10/site-packages/numpy/lib/function_base.py:2898: RuntimeWarning: invalid value encountered in divide\n",
      "  c /= stddev[None, :]\n"
     ]
    },
    {
     "name": "stdout",
     "output_type": "stream",
     "text": [
      "Model Number: 749 with model BasicLinearModel in generation 7 of 10\n",
      "Model Number: 750 with model ConstantNaive in generation 7 of 10\n",
      "Model Number: 751 with model LastValueNaive in generation 7 of 10\n",
      "Model Number: 752 with model SectionalMotif in generation 7 of 10\n",
      "Model Number: 753 with model RRVAR in generation 7 of 10\n",
      "Template Eval Error: LinAlgError('Array must not contain infs or NaNs') in model 753 in generation 7: RRVAR\n",
      "Model Number: 754 with model SeasonalNaive in generation 7 of 10\n",
      "Model Number: 755 with model ConstantNaive in generation 7 of 10\n",
      "Template Eval Error: Exception(\"Transformer HolidayTransformer failed on fit from params rolling_mean {'0': {'whiten': True, 'n_components': None}, '1': {'threshold': 0.8, 'splash_threshold': None, 'use_dayofmonth_holidays': True, 'use_wkdom_holidays': True, 'use_wkdeom_holidays': False, 'use_lunar_holidays': False, 'use_lunar_weekday': False, 'use_islamic_holidays': False, 'use_hebrew_holidays': False, 'use_hindu_holidays': False, 'anomaly_detector_params': {'method': 'IQR', 'method_params': {'iqr_threshold': 2.5, 'iqr_quantiles': [0.25, 0.75]}, 'fillna': 'rolling_mean_24', 'transform_dict': {'transformations': {'0': 'DifferencedTransformer'}, 'transformation_params': {'0': {}}}, 'isolated_only': False, 'on_inverse': False}, 'remove_excess_anomalies': True, 'impact': 'median_value', 'regression_params': {}}, '2': {'decomp_type': 'seasonal_decompose', 'part': 'trend'}, '3': {'rows': 2, 'lag': 84, 'method': 'additive', 'strength': 1.0, 'first_value_only': False, 'threshold': 10, 'threshold_method': 'mean'}, '4': {}, '5': {}} with error ValueError('more than 1 year of data is required for holiday detection.')\") in model 755 in generation 7: ConstantNaive\n",
      "Model Number: 756 with model SectionalMotif in generation 7 of 10\n",
      "Model Number: 757 with model LastValueNaive in generation 7 of 10\n"
     ]
    },
    {
     "name": "stderr",
     "output_type": "stream",
     "text": [
      "/home/zeus/miniconda3/envs/cloudspace/lib/python3.10/site-packages/autots/models/matrix_var.py:62: RuntimeWarning: divide by zero encountered in reciprocal\n",
      "  A_tilde = u[:, :r].conj().T @ X2 @ v[:r, :].conj().T * np.reciprocal(s[:r])\n",
      "/home/zeus/miniconda3/envs/cloudspace/lib/python3.10/site-packages/autots/models/matrix_var.py:62: RuntimeWarning: invalid value encountered in multiply\n",
      "  A_tilde = u[:, :r].conj().T @ X2 @ v[:r, :].conj().T * np.reciprocal(s[:r])\n"
     ]
    },
    {
     "name": "stdout",
     "output_type": "stream",
     "text": [
      "Model Number: 758 with model BasicLinearModel in generation 7 of 10\n",
      "Model Number: 759 with model UnivariateMotif in generation 7 of 10\n",
      "Model Number: 760 with model AverageValueNaive in generation 7 of 10\n",
      "Model Number: 761 with model MetricMotif in generation 7 of 10\n",
      "Model Number: 762 with model UnivariateMotif in generation 7 of 10\n",
      "Template Eval Error: Exception(\"Transformer Cointegration failed on fit from params ffill_mean_biased {'0': {'decomp_type': 'STL', 'part': 'trend', 'seasonal': 363}, '1': {'det_order': 0, 'k_ar_diff': 2}} with error ValueError('Coint only works on multivarate series')\") in model 762 in generation 7: UnivariateMotif\n",
      "Model Number: 763 with model ConstantNaive in generation 7 of 10\n",
      "Model Number: 764 with model LastValueNaive in generation 7 of 10\n",
      "Model Number: 765 with model MetricMotif in generation 7 of 10\n",
      "Model Number: 766 with model GLM in generation 7 of 10\n",
      "Model Number: 767 with model GLS in generation 7 of 10\n",
      "Model Number: 768 with model SeasonalNaive in generation 7 of 10\n",
      "Model Number: 769 with model GLM in generation 7 of 10\n",
      "Model Number: 770 with model SeasonalityMotif in generation 7 of 10\n",
      "Model Number: 771 with model AverageValueNaive in generation 7 of 10\n",
      "Model Number: 772 with model DatepartRegression in generation 7 of 10\n",
      "Template Eval Error: ValueError(\"regression_type='User' but no future_regressor passed\") in model 772 in generation 7: DatepartRegression\n",
      "Model Number: 773 with model GLM in generation 7 of 10\n",
      "Model Number: 774 with model SectionalMotif in generation 7 of 10\n"
     ]
    },
    {
     "name": "stderr",
     "output_type": "stream",
     "text": [
      "/home/zeus/miniconda3/envs/cloudspace/lib/python3.10/site-packages/statsmodels/genmod/families/links.py:198: RuntimeWarning: overflow encountered in exp\n",
      "  t = np.exp(-z)\n",
      "/home/zeus/miniconda3/envs/cloudspace/lib/python3.10/site-packages/sklearn/neighbors/_classification.py:233: DataConversionWarning: A column-vector y was passed when a 1d array was expected. Please change the shape of y to (n_samples,), for example using ravel().\n",
      "  return self._fit(X, y)\n"
     ]
    },
    {
     "name": "stdout",
     "output_type": "stream",
     "text": [
      "Model Number: 775 with model ETS in generation 7 of 10\n",
      "Model Number: 776 with model GLM in generation 7 of 10\n",
      "Template Eval Error: ValueError('NaN, inf or invalid value detected in weights, estimation infeasible.') in model 776 in generation 7: GLM\n",
      "Model Number: 777 with model UnivariateMotif in generation 7 of 10\n",
      "Model Number: 778 with model SeasonalNaive in generation 7 of 10\n",
      "Model Number: 779 with model MetricMotif in generation 7 of 10\n",
      "Model Number: 780 with model Cassandra in generation 7 of 10\n"
     ]
    },
    {
     "name": "stderr",
     "output_type": "stream",
     "text": [
      "/home/zeus/miniconda3/envs/cloudspace/lib/python3.10/site-packages/statsmodels/genmod/families/family.py:445: RuntimeWarning: divide by zero encountered in divide\n",
      "  endog_mu = self._clean(endog / mu)\n",
      "/home/zeus/miniconda3/envs/cloudspace/lib/python3.10/site-packages/statsmodels/genmod/families/family.py:143: RuntimeWarning: divide by zero encountered in divide\n",
      "  return 1. / (self.link.deriv(mu)**2 * self.variance(mu))\n",
      "/home/zeus/miniconda3/envs/cloudspace/lib/python3.10/site-packages/sklearn/base.py:458: UserWarning: X has feature names, but StandardScaler was fitted without feature names\n",
      "  warnings.warn(\n",
      "/home/zeus/miniconda3/envs/cloudspace/lib/python3.10/site-packages/sklearn/base.py:458: UserWarning: X has feature names, but StandardScaler was fitted without feature names\n",
      "  warnings.warn(\n",
      "/home/zeus/miniconda3/envs/cloudspace/lib/python3.10/site-packages/sklearn/base.py:458: UserWarning: X has feature names, but StandardScaler was fitted without feature names\n",
      "  warnings.warn(\n",
      "/home/zeus/miniconda3/envs/cloudspace/lib/python3.10/site-packages/sklearn/base.py:458: UserWarning: X has feature names, but StandardScaler was fitted without feature names\n",
      "  warnings.warn(\n",
      "/home/zeus/miniconda3/envs/cloudspace/lib/python3.10/site-packages/sklearn/base.py:458: UserWarning: X has feature names, but StandardScaler was fitted without feature names\n",
      "  warnings.warn(\n",
      "/home/zeus/miniconda3/envs/cloudspace/lib/python3.10/site-packages/sklearn/base.py:458: UserWarning: X has feature names, but StandardScaler was fitted without feature names\n",
      "  warnings.warn(\n",
      "/home/zeus/miniconda3/envs/cloudspace/lib/python3.10/site-packages/sklearn/base.py:458: UserWarning: X has feature names, but StandardScaler was fitted without feature names\n",
      "  warnings.warn(\n",
      "/home/zeus/miniconda3/envs/cloudspace/lib/python3.10/site-packages/sklearn/base.py:458: UserWarning: X has feature names, but StandardScaler was fitted without feature names\n",
      "  warnings.warn(\n",
      "/home/zeus/miniconda3/envs/cloudspace/lib/python3.10/site-packages/sklearn/base.py:458: UserWarning: X has feature names, but StandardScaler was fitted without feature names\n",
      "  warnings.warn(\n",
      "/home/zeus/miniconda3/envs/cloudspace/lib/python3.10/site-packages/sklearn/base.py:458: UserWarning: X has feature names, but StandardScaler was fitted without feature names\n",
      "  warnings.warn(\n",
      "/home/zeus/miniconda3/envs/cloudspace/lib/python3.10/site-packages/sklearn/base.py:458: UserWarning: X has feature names, but StandardScaler was fitted without feature names\n",
      "  warnings.warn(\n",
      "/home/zeus/miniconda3/envs/cloudspace/lib/python3.10/site-packages/sklearn/base.py:458: UserWarning: X has feature names, but StandardScaler was fitted without feature names\n",
      "  warnings.warn(\n",
      "/home/zeus/miniconda3/envs/cloudspace/lib/python3.10/site-packages/sklearn/base.py:458: UserWarning: X has feature names, but StandardScaler was fitted without feature names\n",
      "  warnings.warn(\n",
      "/home/zeus/miniconda3/envs/cloudspace/lib/python3.10/site-packages/sklearn/base.py:458: UserWarning: X has feature names, but StandardScaler was fitted without feature names\n",
      "  warnings.warn(\n",
      "/home/zeus/miniconda3/envs/cloudspace/lib/python3.10/site-packages/sklearn/base.py:458: UserWarning: X has feature names, but StandardScaler was fitted without feature names\n",
      "  warnings.warn(\n",
      "/home/zeus/miniconda3/envs/cloudspace/lib/python3.10/site-packages/sklearn/base.py:458: UserWarning: X has feature names, but StandardScaler was fitted without feature names\n",
      "  warnings.warn(\n",
      "/home/zeus/miniconda3/envs/cloudspace/lib/python3.10/site-packages/sklearn/base.py:458: UserWarning: X has feature names, but StandardScaler was fitted without feature names\n",
      "  warnings.warn(\n",
      "/home/zeus/miniconda3/envs/cloudspace/lib/python3.10/site-packages/sklearn/base.py:458: UserWarning: X has feature names, but StandardScaler was fitted without feature names\n",
      "  warnings.warn(\n",
      "/home/zeus/miniconda3/envs/cloudspace/lib/python3.10/site-packages/sklearn/base.py:458: UserWarning: X has feature names, but StandardScaler was fitted without feature names\n",
      "  warnings.warn(\n",
      "/home/zeus/miniconda3/envs/cloudspace/lib/python3.10/site-packages/sklearn/base.py:458: UserWarning: X has feature names, but StandardScaler was fitted without feature names\n",
      "  warnings.warn(\n",
      "/home/zeus/miniconda3/envs/cloudspace/lib/python3.10/site-packages/sklearn/base.py:458: UserWarning: X has feature names, but StandardScaler was fitted without feature names\n",
      "  warnings.warn(\n",
      "/home/zeus/miniconda3/envs/cloudspace/lib/python3.10/site-packages/sklearn/base.py:458: UserWarning: X has feature names, but StandardScaler was fitted without feature names\n",
      "  warnings.warn(\n",
      "/home/zeus/miniconda3/envs/cloudspace/lib/python3.10/site-packages/sklearn/base.py:458: UserWarning: X has feature names, but StandardScaler was fitted without feature names\n",
      "  warnings.warn(\n",
      "/home/zeus/miniconda3/envs/cloudspace/lib/python3.10/site-packages/sklearn/base.py:458: UserWarning: X has feature names, but StandardScaler was fitted without feature names\n",
      "  warnings.warn(\n",
      "/home/zeus/miniconda3/envs/cloudspace/lib/python3.10/site-packages/sklearn/base.py:458: UserWarning: X has feature names, but StandardScaler was fitted without feature names\n",
      "  warnings.warn(\n",
      "/home/zeus/miniconda3/envs/cloudspace/lib/python3.10/site-packages/sklearn/base.py:458: UserWarning: X has feature names, but StandardScaler was fitted without feature names\n",
      "  warnings.warn(\n",
      "/home/zeus/miniconda3/envs/cloudspace/lib/python3.10/site-packages/sklearn/base.py:458: UserWarning: X has feature names, but StandardScaler was fitted without feature names\n",
      "  warnings.warn(\n",
      "/home/zeus/miniconda3/envs/cloudspace/lib/python3.10/site-packages/sklearn/base.py:458: UserWarning: X has feature names, but StandardScaler was fitted without feature names\n",
      "  warnings.warn(\n",
      "/home/zeus/miniconda3/envs/cloudspace/lib/python3.10/site-packages/sklearn/base.py:458: UserWarning: X has feature names, but StandardScaler was fitted without feature names\n",
      "  warnings.warn(\n",
      "/home/zeus/miniconda3/envs/cloudspace/lib/python3.10/site-packages/sklearn/base.py:458: UserWarning: X has feature names, but StandardScaler was fitted without feature names\n",
      "  warnings.warn(\n",
      "/home/zeus/miniconda3/envs/cloudspace/lib/python3.10/site-packages/sklearn/base.py:458: UserWarning: X has feature names, but StandardScaler was fitted without feature names\n",
      "  warnings.warn(\n",
      "/home/zeus/miniconda3/envs/cloudspace/lib/python3.10/site-packages/sklearn/base.py:458: UserWarning: X has feature names, but StandardScaler was fitted without feature names\n",
      "  warnings.warn(\n",
      "/home/zeus/miniconda3/envs/cloudspace/lib/python3.10/site-packages/sklearn/base.py:458: UserWarning: X has feature names, but StandardScaler was fitted without feature names\n",
      "  warnings.warn(\n",
      "/home/zeus/miniconda3/envs/cloudspace/lib/python3.10/site-packages/sklearn/base.py:458: UserWarning: X has feature names, but StandardScaler was fitted without feature names\n",
      "  warnings.warn(\n",
      "/home/zeus/miniconda3/envs/cloudspace/lib/python3.10/site-packages/sklearn/base.py:458: UserWarning: X has feature names, but StandardScaler was fitted without feature names\n",
      "  warnings.warn(\n",
      "/home/zeus/miniconda3/envs/cloudspace/lib/python3.10/site-packages/sklearn/base.py:458: UserWarning: X has feature names, but StandardScaler was fitted without feature names\n",
      "  warnings.warn(\n",
      "/home/zeus/miniconda3/envs/cloudspace/lib/python3.10/site-packages/sklearn/base.py:458: UserWarning: X has feature names, but StandardScaler was fitted without feature names\n",
      "  warnings.warn(\n",
      "/home/zeus/miniconda3/envs/cloudspace/lib/python3.10/site-packages/sklearn/base.py:458: UserWarning: X has feature names, but StandardScaler was fitted without feature names\n",
      "  warnings.warn(\n",
      "/home/zeus/miniconda3/envs/cloudspace/lib/python3.10/site-packages/sklearn/base.py:458: UserWarning: X has feature names, but StandardScaler was fitted without feature names\n",
      "  warnings.warn(\n",
      "/home/zeus/miniconda3/envs/cloudspace/lib/python3.10/site-packages/sklearn/base.py:458: UserWarning: X has feature names, but StandardScaler was fitted without feature names\n",
      "  warnings.warn(\n",
      "/home/zeus/miniconda3/envs/cloudspace/lib/python3.10/site-packages/sklearn/base.py:458: UserWarning: X has feature names, but StandardScaler was fitted without feature names\n",
      "  warnings.warn(\n",
      "/home/zeus/miniconda3/envs/cloudspace/lib/python3.10/site-packages/sklearn/base.py:458: UserWarning: X has feature names, but StandardScaler was fitted without feature names\n",
      "  warnings.warn(\n",
      "/home/zeus/miniconda3/envs/cloudspace/lib/python3.10/site-packages/sklearn/base.py:458: UserWarning: X has feature names, but StandardScaler was fitted without feature names\n",
      "  warnings.warn(\n",
      "/home/zeus/miniconda3/envs/cloudspace/lib/python3.10/site-packages/sklearn/base.py:458: UserWarning: X has feature names, but StandardScaler was fitted without feature names\n",
      "  warnings.warn(\n",
      "/home/zeus/miniconda3/envs/cloudspace/lib/python3.10/site-packages/sklearn/base.py:458: UserWarning: X has feature names, but StandardScaler was fitted without feature names\n",
      "  warnings.warn(\n"
     ]
    },
    {
     "name": "stdout",
     "output_type": "stream",
     "text": [
      "Model Number: 781 with model ConstantNaive in generation 7 of 10\n"
     ]
    },
    {
     "name": "stderr",
     "output_type": "stream",
     "text": [
      "/home/zeus/miniconda3/envs/cloudspace/lib/python3.10/site-packages/sklearn/base.py:458: UserWarning: X has feature names, but StandardScaler was fitted without feature names\n",
      "  warnings.warn(\n",
      "/home/zeus/miniconda3/envs/cloudspace/lib/python3.10/site-packages/sklearn/base.py:458: UserWarning: X has feature names, but StandardScaler was fitted without feature names\n",
      "  warnings.warn(\n",
      "/home/zeus/miniconda3/envs/cloudspace/lib/python3.10/site-packages/sklearn/base.py:458: UserWarning: X has feature names, but StandardScaler was fitted without feature names\n",
      "  warnings.warn(\n",
      "/home/zeus/miniconda3/envs/cloudspace/lib/python3.10/site-packages/sklearn/base.py:458: UserWarning: X has feature names, but StandardScaler was fitted without feature names\n",
      "  warnings.warn(\n",
      "/home/zeus/miniconda3/envs/cloudspace/lib/python3.10/site-packages/sklearn/base.py:458: UserWarning: X has feature names, but StandardScaler was fitted without feature names\n",
      "  warnings.warn(\n",
      "/home/zeus/miniconda3/envs/cloudspace/lib/python3.10/site-packages/sklearn/base.py:458: UserWarning: X has feature names, but StandardScaler was fitted without feature names\n",
      "  warnings.warn(\n",
      "/home/zeus/miniconda3/envs/cloudspace/lib/python3.10/site-packages/sklearn/base.py:458: UserWarning: X has feature names, but StandardScaler was fitted without feature names\n",
      "  warnings.warn(\n",
      "/home/zeus/miniconda3/envs/cloudspace/lib/python3.10/site-packages/autots/tools/fast_kalman.py:1137: RuntimeWarning: overflow encountered in cast\n",
      "  result.smoothed.states.cov[:, j, :, :] = Ps\n",
      "/home/zeus/miniconda3/envs/cloudspace/lib/python3.10/site-packages/autots/tools/fast_kalman.py:1143: RuntimeWarning: overflow encountered in cast\n",
      "  result.smoothed.observations.cov[:, j, :, :] = obs_cov\n"
     ]
    },
    {
     "name": "stdout",
     "output_type": "stream",
     "text": [
      "Model Number: 782 with model SeasonalityMotif in generation 7 of 10\n",
      "SVD did not converge, attempting more robust approach...\n",
      "Template Eval Error: Exception(\"Transformer KalmanSmoothing failed on fit from params ffill {'0': {'model_name': 'ucm_deterministictrend_seasonal7', 'state_transition': [[1, 1, 0, 0, 0, 0, 0, 0], [0, 1, 0, 0, 0, 0, 0, 0], [0, 0, 1, 0, 0, 0, 0, 0], [0, 0, 0, 1, 0, 0, 0, 0], [0, 0, 0, 0, 1, 0, 0, 0], [0, 0, 0, 0, 0, 1, 0, 0], [0, 0, 0, 0, 0, 0, 1, 0], [0, 0, -1, -1, -1, -1, -1, -1]], 'process_noise': [[0.001, 0, 0, 0, 0, 0, 0, 0], [0, 0.001, 0, 0, 0, 0, 0, 0], [0, 0, 0.001, 0, 0, 0, 0, 0], [0, 0, 0, 0.001, 0, 0, 0, 0], [0, 0, 0, 0, 0.001, 0, 0, 0], [0, 0, 0, 0, 0, 0.001, 0, 0], [0, 0, 0, 0, 0, 0, 0.001, 0], [0, 0, 0, 0, 0, 0, 0, 0]], 'observation_model': [[1, 0, 1, 1, 1, 1, 1, 1]], 'observation_noise': 0.1, 'em_iter': 10, 'on_transform': True, 'on_inverse': False}, '1': {'discretization': 'upper', 'n_bins': 20}, '2': {'method': 'savgol_filter', 'method_args': {'window_length': 91, 'polyorder': 1, 'deriv': 0, 'mode': 'interp'}}} with error LinAlgError('SVD did not converge')\") in model 782 in generation 7: SeasonalityMotif\n",
      "Model Number: 783 with model LastValueNaive in generation 7 of 10\n",
      "Model Number: 784 with model MetricMotif in generation 7 of 10\n",
      "Model Number: 785 with model AverageValueNaive in generation 7 of 10\n",
      "Template Eval Error: Exception(\"Transformer Cointegration failed on fit from params ffill {'0': {'det_order': 0, 'k_ar_diff': 0}, '1': {}, '2': {'method': 'savgol_filter', 'method_args': {'window_length': 91, 'polyorder': 4, 'deriv': 1, 'mode': 'interp'}}} with error ValueError('Coint only works on multivarate series')\") in model 785 in generation 7: AverageValueNaive\n",
      "Model Number: 786 with model SeasonalNaive in generation 7 of 10\n",
      "Model Number: 787 with model DatepartRegression in generation 7 of 10\n",
      "Template Eval Error: ValueError(\"regression_type='User' but no future_regressor passed\") in model 787 in generation 7: DatepartRegression\n",
      "Model Number: 788 with model LastValueNaive in generation 7 of 10\n",
      "Model Number: 789 with model UnivariateMotif in generation 7 of 10\n",
      "Model Number: 790 with model LastValueNaive in generation 7 of 10\n"
     ]
    },
    {
     "name": "stderr",
     "output_type": "stream",
     "text": [
      "/home/zeus/miniconda3/envs/cloudspace/lib/python3.10/site-packages/autots/tools/fast_kalman.py:1354: RuntimeWarning: overflow encountered in matmul\n",
      "  return np.matmul(A, np.swapaxes(B, -1, -2))\n",
      "/home/zeus/miniconda3/envs/cloudspace/lib/python3.10/site-packages/autots/tools/fast_kalman.py:1341: RuntimeWarning: invalid value encountered in matmul\n",
      "  return np.matmul(A, B)\n",
      "/home/zeus/miniconda3/envs/cloudspace/lib/python3.10/site-packages/autots/tools/fast_kalman.py:1359: RuntimeWarning: overflow encountered in multiply\n",
      "  return a * b.transpose((0, 2, 1))\n",
      "/home/zeus/miniconda3/envs/cloudspace/lib/python3.10/site-packages/autots/tools/fast_kalman.py:1354: RuntimeWarning: invalid value encountered in matmul\n",
      "  return np.matmul(A, np.swapaxes(B, -1, -2))\n"
     ]
    },
    {
     "name": "stdout",
     "output_type": "stream",
     "text": [
      "Model Number: 791 with model AverageValueNaive in generation 7 of 10\n",
      "Model Number: 792 with model ETS in generation 7 of 10\n",
      "Model Number: 793 with model SectionalMotif in generation 7 of 10\n",
      "Model Number: 794 with model ARDL in generation 7 of 10\n",
      "Model Number: 795 with model GLM in generation 7 of 10\n",
      "Model Number: 796 with model SectionalMotif in generation 7 of 10\n",
      "Model Number: 797 with model DatepartRegression in generation 7 of 10\n",
      "Model Number: 798 with model SeasonalityMotif in generation 7 of 10\n",
      "Model Number: 799 with model BasicLinearModel in generation 7 of 10\n",
      "Model Number: 800 with model MetricMotif in generation 7 of 10\n",
      "Template Eval Error: Exception(\"Transformer HolidayTransformer failed on fit from params ffill {'0': {'lag': 1, 'fill': 'bfill'}, '1': {'threshold': 0.9, 'splash_threshold': None, 'use_dayofmonth_holidays': True, 'use_wkdom_holidays': True, 'use_wkdeom_holidays': False, 'use_lunar_holidays': False, 'use_lunar_weekday': False, 'use_islamic_holidays': False, 'use_hebrew_holidays': False, 'use_hindu_holidays': False, 'anomaly_detector_params': {'method': 'zscore', 'method_params': {'distribution': 'gamma', 'alpha': 0.05}, 'fillna': 'linear', 'transform_dict': {'transformations': {'0': 'DatepartRegression'}, 'transformation_params': {'0': {'datepart_method': 'simple_3', 'regression_model': {'model': 'FastRidge', 'model_params': {}}}}}, 'isolated_only': False, 'on_inverse': False}, 'remove_excess_anomalies': True, 'impact': 'regression', 'regression_params': {}}, '2': {'rows': 7, 'displacement_rows': 1, 'quantile': 1.0, 'decay_span': 2}, '3': {'rows': 1, 'lag': 7, 'method': 'additive', 'strength': 1.0, 'first_value_only': False, 'threshold': 3, 'threshold_method': 'max'}} with error ValueError('more than 1 year of data is required for holiday detection.')\") in model 800 in generation 7: MetricMotif\n",
      "Model Number: 801 with model LastValueNaive in generation 7 of 10\n",
      "Model Number: 802 with model BasicLinearModel in generation 7 of 10\n"
     ]
    },
    {
     "name": "stderr",
     "output_type": "stream",
     "text": [
      "/home/zeus/miniconda3/envs/cloudspace/lib/python3.10/site-packages/sklearn/linear_model/_ridge.py:200: LinAlgWarning: Ill-conditioned matrix (rcond=1.00589e-24): result may not be accurate.\n",
      "  return linalg.solve(A, Xy, assume_a=\"pos\", overwrite_a=True).T\n"
     ]
    },
    {
     "name": "stdout",
     "output_type": "stream",
     "text": [
      "Model Number: 803 with model UnivariateMotif in generation 7 of 10\n",
      "k too large for size of data in motif\n",
      "Template Eval Error: ValueError('kth(=41) out of bounds (41)') in model 803 in generation 7: UnivariateMotif\n",
      "Model Number: 804 with model GLM in generation 7 of 10\n",
      "Model Number: 805 with model LastValueNaive in generation 7 of 10\n",
      "Model Number: 806 with model SectionalMotif in generation 7 of 10\n",
      "Model Number: 807 with model WindowRegression in generation 7 of 10\n"
     ]
    },
    {
     "name": "stderr",
     "output_type": "stream",
     "text": [
      "/home/zeus/miniconda3/envs/cloudspace/lib/python3.10/site-packages/statsmodels/genmod/families/family.py:1367: ValueWarning: Negative binomial dispersion parameter alpha not set. Using default value alpha=1.0.\n",
      "  warnings.warn(\"Negative binomial dispersion parameter alpha not \"\n",
      "/home/zeus/miniconda3/envs/cloudspace/lib/python3.10/site-packages/sklearn/base.py:458: UserWarning: X has feature names, but StandardScaler was fitted without feature names\n",
      "  warnings.warn(\n"
     ]
    },
    {
     "name": "stdout",
     "output_type": "stream",
     "text": [
      "Model Number: 808 with model DatepartRegression in generation 7 of 10\n",
      "Model Number: 809 with model ETS in generation 7 of 10\n",
      "Model Number: 810 with model RRVAR in generation 7 of 10\n",
      "Model Number: 811 with model SectionalMotif in generation 7 of 10\n",
      "Model Number: 812 with model AverageValueNaive in generation 7 of 10\n",
      "Model Number: 813 with model SeasonalityMotif in generation 7 of 10\n",
      "SVD did not converge, attempting more robust approach...\n",
      "Template Eval Error: Exception(\"Transformer KalmanSmoothing failed on fit from params nearest {'0': {'model_name': 'ucm_deterministictrend_seasonal7', 'state_transition': [[1, 1, 0, 0, 0, 0, 0, 0], [0, 1, 0, 0, 0, 0, 0, 0], [0, 0, 1, 0, 0, 0, 0, 0], [0, 0, 0, 1, 0, 0, 0, 0], [0, 0, 0, 0, 1, 0, 0, 0], [0, 0, 0, 0, 0, 1, 0, 0], [0, 0, 0, 0, 0, 0, 1, 0], [0, 0, -1, -1, -1, -1, -1, -1]], 'process_noise': [[0.001, 0, 0, 0, 0, 0, 0, 0], [0, 0.001, 0, 0, 0, 0, 0, 0], [0, 0, 0.001, 0, 0, 0, 0, 0], [0, 0, 0, 0.001, 0, 0, 0, 0], [0, 0, 0, 0, 0.001, 0, 0, 0], [0, 0, 0, 0, 0, 0.001, 0, 0], [0, 0, 0, 0, 0, 0, 0.001, 0], [0, 0, 0, 0, 0, 0, 0, 0]], 'observation_model': [[1, 0, 1, 1, 1, 1, 1, 1]], 'observation_noise': 0.1, 'em_iter': 10, 'on_transform': True, 'on_inverse': False}, '1': {'discretization': 'upper', 'n_bins': 20}, '2': {}} with error LinAlgError('SVD did not converge')\") in model 813 in generation 7: SeasonalityMotif\n",
      "Model Number: 814 with model ConstantNaive in generation 7 of 10\n",
      "Model Number: 815 with model SectionalMotif in generation 7 of 10\n"
     ]
    },
    {
     "name": "stderr",
     "output_type": "stream",
     "text": [
      "/home/zeus/miniconda3/envs/cloudspace/lib/python3.10/site-packages/autots/tools/fast_kalman.py:1137: RuntimeWarning: overflow encountered in cast\n",
      "  result.smoothed.states.cov[:, j, :, :] = Ps\n",
      "/home/zeus/miniconda3/envs/cloudspace/lib/python3.10/site-packages/autots/tools/fast_kalman.py:1143: RuntimeWarning: overflow encountered in cast\n",
      "  result.smoothed.observations.cov[:, j, :, :] = obs_cov\n",
      "/home/zeus/miniconda3/envs/cloudspace/lib/python3.10/site-packages/autots/tools/fast_kalman.py:1354: RuntimeWarning: overflow encountered in matmul\n",
      "  return np.matmul(A, np.swapaxes(B, -1, -2))\n",
      "/home/zeus/miniconda3/envs/cloudspace/lib/python3.10/site-packages/autots/tools/fast_kalman.py:1341: RuntimeWarning: invalid value encountered in matmul\n",
      "  return np.matmul(A, B)\n",
      "/home/zeus/miniconda3/envs/cloudspace/lib/python3.10/site-packages/autots/tools/fast_kalman.py:1359: RuntimeWarning: overflow encountered in multiply\n",
      "  return a * b.transpose((0, 2, 1))\n",
      "/home/zeus/miniconda3/envs/cloudspace/lib/python3.10/site-packages/autots/tools/fast_kalman.py:1354: RuntimeWarning: invalid value encountered in matmul\n",
      "  return np.matmul(A, np.swapaxes(B, -1, -2))\n",
      "/home/zeus/miniconda3/envs/cloudspace/lib/python3.10/site-packages/numpy/lib/function_base.py:2897: RuntimeWarning: invalid value encountered in divide\n",
      "  c /= stddev[:, None]\n",
      "/home/zeus/miniconda3/envs/cloudspace/lib/python3.10/site-packages/numpy/lib/function_base.py:2898: RuntimeWarning: invalid value encountered in divide\n",
      "  c /= stddev[None, :]\n",
      "/home/zeus/miniconda3/envs/cloudspace/lib/python3.10/site-packages/sklearn/base.py:458: UserWarning: X has feature names, but StandardScaler was fitted without feature names\n",
      "  warnings.warn(\n",
      "/home/zeus/miniconda3/envs/cloudspace/lib/python3.10/site-packages/sklearn/base.py:458: UserWarning: X has feature names, but StandardScaler was fitted without feature names\n",
      "  warnings.warn(\n"
     ]
    },
    {
     "name": "stdout",
     "output_type": "stream",
     "text": [
      "Model Number: 816 with model Cassandra in generation 7 of 10\n"
     ]
    },
    {
     "name": "stderr",
     "output_type": "stream",
     "text": [
      "/home/zeus/miniconda3/envs/cloudspace/lib/python3.10/site-packages/sklearn/base.py:458: UserWarning: X has feature names, but StandardScaler was fitted without feature names\n",
      "  warnings.warn(\n",
      "/home/zeus/miniconda3/envs/cloudspace/lib/python3.10/site-packages/sklearn/base.py:458: UserWarning: X has feature names, but StandardScaler was fitted without feature names\n",
      "  warnings.warn(\n",
      "/home/zeus/miniconda3/envs/cloudspace/lib/python3.10/site-packages/sklearn/base.py:458: UserWarning: X has feature names, but StandardScaler was fitted without feature names\n",
      "  warnings.warn(\n",
      "/home/zeus/miniconda3/envs/cloudspace/lib/python3.10/site-packages/sklearn/base.py:458: UserWarning: X has feature names, but StandardScaler was fitted without feature names\n",
      "  warnings.warn(\n",
      "/home/zeus/miniconda3/envs/cloudspace/lib/python3.10/site-packages/sklearn/base.py:458: UserWarning: X has feature names, but StandardScaler was fitted without feature names\n",
      "  warnings.warn(\n",
      "/home/zeus/miniconda3/envs/cloudspace/lib/python3.10/site-packages/sklearn/base.py:458: UserWarning: X has feature names, but StandardScaler was fitted without feature names\n",
      "  warnings.warn(\n",
      "/home/zeus/miniconda3/envs/cloudspace/lib/python3.10/site-packages/sklearn/base.py:458: UserWarning: X has feature names, but StandardScaler was fitted without feature names\n",
      "  warnings.warn(\n",
      "/home/zeus/miniconda3/envs/cloudspace/lib/python3.10/site-packages/sklearn/base.py:458: UserWarning: X has feature names, but StandardScaler was fitted without feature names\n",
      "  warnings.warn(\n",
      "/home/zeus/miniconda3/envs/cloudspace/lib/python3.10/site-packages/sklearn/base.py:458: UserWarning: X has feature names, but StandardScaler was fitted without feature names\n",
      "  warnings.warn(\n",
      "/home/zeus/miniconda3/envs/cloudspace/lib/python3.10/site-packages/sklearn/base.py:458: UserWarning: X has feature names, but StandardScaler was fitted without feature names\n",
      "  warnings.warn(\n",
      "/home/zeus/miniconda3/envs/cloudspace/lib/python3.10/site-packages/sklearn/base.py:458: UserWarning: X has feature names, but StandardScaler was fitted without feature names\n",
      "  warnings.warn(\n",
      "/home/zeus/miniconda3/envs/cloudspace/lib/python3.10/site-packages/sklearn/base.py:458: UserWarning: X has feature names, but StandardScaler was fitted without feature names\n",
      "  warnings.warn(\n",
      "/home/zeus/miniconda3/envs/cloudspace/lib/python3.10/site-packages/sklearn/base.py:458: UserWarning: X has feature names, but StandardScaler was fitted without feature names\n",
      "  warnings.warn(\n",
      "/home/zeus/miniconda3/envs/cloudspace/lib/python3.10/site-packages/sklearn/base.py:458: UserWarning: X has feature names, but StandardScaler was fitted without feature names\n",
      "  warnings.warn(\n",
      "/home/zeus/miniconda3/envs/cloudspace/lib/python3.10/site-packages/sklearn/base.py:458: UserWarning: X has feature names, but StandardScaler was fitted without feature names\n",
      "  warnings.warn(\n",
      "/home/zeus/miniconda3/envs/cloudspace/lib/python3.10/site-packages/sklearn/base.py:458: UserWarning: X has feature names, but StandardScaler was fitted without feature names\n",
      "  warnings.warn(\n",
      "/home/zeus/miniconda3/envs/cloudspace/lib/python3.10/site-packages/sklearn/base.py:458: UserWarning: X has feature names, but StandardScaler was fitted without feature names\n",
      "  warnings.warn(\n",
      "/home/zeus/miniconda3/envs/cloudspace/lib/python3.10/site-packages/sklearn/base.py:458: UserWarning: X has feature names, but StandardScaler was fitted without feature names\n",
      "  warnings.warn(\n",
      "/home/zeus/miniconda3/envs/cloudspace/lib/python3.10/site-packages/sklearn/base.py:458: UserWarning: X has feature names, but StandardScaler was fitted without feature names\n",
      "  warnings.warn(\n",
      "/home/zeus/miniconda3/envs/cloudspace/lib/python3.10/site-packages/sklearn/base.py:458: UserWarning: X has feature names, but StandardScaler was fitted without feature names\n",
      "  warnings.warn(\n",
      "/home/zeus/miniconda3/envs/cloudspace/lib/python3.10/site-packages/sklearn/base.py:458: UserWarning: X has feature names, but StandardScaler was fitted without feature names\n",
      "  warnings.warn(\n",
      "/home/zeus/miniconda3/envs/cloudspace/lib/python3.10/site-packages/sklearn/base.py:458: UserWarning: X has feature names, but StandardScaler was fitted without feature names\n",
      "  warnings.warn(\n",
      "/home/zeus/miniconda3/envs/cloudspace/lib/python3.10/site-packages/sklearn/base.py:458: UserWarning: X has feature names, but StandardScaler was fitted without feature names\n",
      "  warnings.warn(\n",
      "/home/zeus/miniconda3/envs/cloudspace/lib/python3.10/site-packages/sklearn/base.py:458: UserWarning: X has feature names, but StandardScaler was fitted without feature names\n",
      "  warnings.warn(\n",
      "/home/zeus/miniconda3/envs/cloudspace/lib/python3.10/site-packages/sklearn/base.py:458: UserWarning: X has feature names, but StandardScaler was fitted without feature names\n",
      "  warnings.warn(\n",
      "/home/zeus/miniconda3/envs/cloudspace/lib/python3.10/site-packages/sklearn/base.py:458: UserWarning: X has feature names, but StandardScaler was fitted without feature names\n",
      "  warnings.warn(\n",
      "/home/zeus/miniconda3/envs/cloudspace/lib/python3.10/site-packages/sklearn/base.py:458: UserWarning: X has feature names, but StandardScaler was fitted without feature names\n",
      "  warnings.warn(\n",
      "/home/zeus/miniconda3/envs/cloudspace/lib/python3.10/site-packages/sklearn/base.py:458: UserWarning: X has feature names, but StandardScaler was fitted without feature names\n",
      "  warnings.warn(\n",
      "/home/zeus/miniconda3/envs/cloudspace/lib/python3.10/site-packages/sklearn/base.py:458: UserWarning: X has feature names, but StandardScaler was fitted without feature names\n",
      "  warnings.warn(\n",
      "/home/zeus/miniconda3/envs/cloudspace/lib/python3.10/site-packages/sklearn/base.py:458: UserWarning: X has feature names, but StandardScaler was fitted without feature names\n",
      "  warnings.warn(\n",
      "/home/zeus/miniconda3/envs/cloudspace/lib/python3.10/site-packages/sklearn/base.py:458: UserWarning: X has feature names, but StandardScaler was fitted without feature names\n",
      "  warnings.warn(\n",
      "/home/zeus/miniconda3/envs/cloudspace/lib/python3.10/site-packages/sklearn/base.py:458: UserWarning: X has feature names, but StandardScaler was fitted without feature names\n",
      "  warnings.warn(\n",
      "/home/zeus/miniconda3/envs/cloudspace/lib/python3.10/site-packages/sklearn/base.py:458: UserWarning: X has feature names, but StandardScaler was fitted without feature names\n",
      "  warnings.warn(\n",
      "/home/zeus/miniconda3/envs/cloudspace/lib/python3.10/site-packages/sklearn/base.py:458: UserWarning: X has feature names, but StandardScaler was fitted without feature names\n",
      "  warnings.warn(\n",
      "/home/zeus/miniconda3/envs/cloudspace/lib/python3.10/site-packages/sklearn/base.py:458: UserWarning: X has feature names, but StandardScaler was fitted without feature names\n",
      "  warnings.warn(\n",
      "/home/zeus/miniconda3/envs/cloudspace/lib/python3.10/site-packages/sklearn/base.py:458: UserWarning: X has feature names, but StandardScaler was fitted without feature names\n",
      "  warnings.warn(\n",
      "/home/zeus/miniconda3/envs/cloudspace/lib/python3.10/site-packages/sklearn/base.py:458: UserWarning: X has feature names, but StandardScaler was fitted without feature names\n",
      "  warnings.warn(\n",
      "/home/zeus/miniconda3/envs/cloudspace/lib/python3.10/site-packages/sklearn/base.py:458: UserWarning: X has feature names, but StandardScaler was fitted without feature names\n",
      "  warnings.warn(\n",
      "/home/zeus/miniconda3/envs/cloudspace/lib/python3.10/site-packages/sklearn/base.py:458: UserWarning: X has feature names, but StandardScaler was fitted without feature names\n",
      "  warnings.warn(\n",
      "/home/zeus/miniconda3/envs/cloudspace/lib/python3.10/site-packages/sklearn/base.py:458: UserWarning: X has feature names, but StandardScaler was fitted without feature names\n",
      "  warnings.warn(\n",
      "/home/zeus/miniconda3/envs/cloudspace/lib/python3.10/site-packages/sklearn/base.py:458: UserWarning: X has feature names, but StandardScaler was fitted without feature names\n",
      "  warnings.warn(\n",
      "/home/zeus/miniconda3/envs/cloudspace/lib/python3.10/site-packages/sklearn/base.py:458: UserWarning: X has feature names, but StandardScaler was fitted without feature names\n",
      "  warnings.warn(\n",
      "/home/zeus/miniconda3/envs/cloudspace/lib/python3.10/site-packages/sklearn/base.py:458: UserWarning: X has feature names, but StandardScaler was fitted without feature names\n",
      "  warnings.warn(\n",
      "/home/zeus/miniconda3/envs/cloudspace/lib/python3.10/site-packages/sklearn/base.py:458: UserWarning: X has feature names, but StandardScaler was fitted without feature names\n",
      "  warnings.warn(\n"
     ]
    },
    {
     "name": "stdout",
     "output_type": "stream",
     "text": [
      "Model Number: 817 with model UnivariateMotif in generation 7 of 10\n",
      "Model Number: 818 with model AverageValueNaive in generation 7 of 10\n",
      "Template Eval Error: Exception(\"Transformer Cointegration failed on fit from params ffill {'0': {'det_order': -1, 'k_ar_diff': 1}, '1': {'model': 'Linear', 'phi': 1, 'window': None, 'transform_dict': None}, '2': {'method': 'mad', 'method_params': {'distribution': 'gamma', 'alpha': 0.05}, 'fillna': 'mean', 'transform_dict': None, 'isolated_only': False, 'on_inverse': False}, '3': {'model': 'Gamma', 'phi': 1, 'window': 30, 'transform_dict': None}} with error ValueError('Coint only works on multivarate series')\") in model 818 in generation 7: AverageValueNaive\n",
      "Model Number: 819 with model AverageValueNaive in generation 7 of 10\n",
      "Model Number: 820 with model BasicLinearModel in generation 7 of 10\n"
     ]
    },
    {
     "name": "stderr",
     "output_type": "stream",
     "text": [
      "/home/zeus/miniconda3/envs/cloudspace/lib/python3.10/site-packages/sklearn/base.py:458: UserWarning: X has feature names, but StandardScaler was fitted without feature names\n",
      "  warnings.warn(\n",
      "/home/zeus/miniconda3/envs/cloudspace/lib/python3.10/site-packages/sklearn/base.py:458: UserWarning: X has feature names, but StandardScaler was fitted without feature names\n",
      "  warnings.warn(\n",
      "/home/zeus/miniconda3/envs/cloudspace/lib/python3.10/site-packages/sklearn/base.py:458: UserWarning: X has feature names, but StandardScaler was fitted without feature names\n",
      "  warnings.warn(\n",
      "/home/zeus/miniconda3/envs/cloudspace/lib/python3.10/site-packages/sklearn/base.py:458: UserWarning: X has feature names, but StandardScaler was fitted without feature names\n",
      "  warnings.warn(\n",
      "/home/zeus/miniconda3/envs/cloudspace/lib/python3.10/site-packages/sklearn/base.py:458: UserWarning: X has feature names, but StandardScaler was fitted without feature names\n",
      "  warnings.warn(\n",
      "/home/zeus/miniconda3/envs/cloudspace/lib/python3.10/site-packages/sklearn/base.py:458: UserWarning: X has feature names, but StandardScaler was fitted without feature names\n",
      "  warnings.warn(\n"
     ]
    },
    {
     "name": "stdout",
     "output_type": "stream",
     "text": [
      "Model Number: 821 with model DatepartRegression in generation 7 of 10\n"
     ]
    },
    {
     "name": "stderr",
     "output_type": "stream",
     "text": [
      "/home/zeus/miniconda3/envs/cloudspace/lib/python3.10/site-packages/sklearn/linear_model/_coordinate_descent.py:628: ConvergenceWarning: Objective did not converge. You might want to increase the number of iterations, check the scale of the features or consider increasing regularisation. Duality gap: 1.891e+14, tolerance: 4.791e+10\n",
      "  model = cd_fast.enet_coordinate_descent(\n"
     ]
    },
    {
     "name": "stdout",
     "output_type": "stream",
     "text": [
      "Model Number: 822 with model LastValueNaive in generation 7 of 10\n",
      "Model Number: 823 with model AverageValueNaive in generation 7 of 10\n",
      "Model Number: 824 with model SeasonalityMotif in generation 7 of 10\n",
      "Model Number: 825 with model UnivariateMotif in generation 7 of 10\n",
      "Template Eval Error: Exception(\"Transformer Cointegration failed on fit from params zero {'0': {'rows': 1, 'lag': 7, 'method': 'additive', 'strength': 1.0, 'first_value_only': False, 'threshold': 10, 'threshold_method': 'mean'}, '1': {'det_order': 0, 'k_ar_diff': 2}} with error ValueError('Coint only works on multivarate series')\") in model 825 in generation 7: UnivariateMotif\n",
      "Model Number: 826 with model SeasonalityMotif in generation 7 of 10\n",
      "Model Number: 827 with model DatepartRegression in generation 7 of 10\n",
      "New Generation: 8 of 10\n",
      "Model Number: 828 with model MetricMotif in generation 8 of 10\n",
      "Model Number: 829 with model LastValueNaive in generation 8 of 10\n",
      "Model Number: 830 with model GLM in generation 8 of 10\n",
      "Model Number: 831 with model ETS in generation 8 of 10\n",
      "Model Number: 832 with model WindowRegression in generation 8 of 10\n",
      "Model Number: 833 with model SeasonalityMotif in generation 8 of 10\n",
      "Model Number: 834 with model ConstantNaive in generation 8 of 10\n",
      "Model Number: 835 with model GLS in generation 8 of 10\n",
      "Template Eval Error: Exception(\"Transformer BTCD failed on fit from params nearest {'0': {'method': 'IQR', 'method_params': {'iqr_threshold': 3.0, 'iqr_quantiles': [0.4, 0.6]}, 'fillna': 'rolling_mean_24', 'transform_dict': {'fillna': 'ffill', 'transformations': {'0': 'AlignLastValue'}, 'transformation_params': {'0': {'rows': 1, 'lag': 1, 'method': 'additive', 'strength': 1.0, 'first_value_only': False, 'threshold': None, 'threshold_method': 'max'}}}, 'isolated_only': False, 'on_inverse': False}, '1': {'rows': 1, 'lag': 1, 'method': 'additive', 'strength': 1.0, 'first_value_only': False, 'threshold': 3, 'threshold_method': 'mean'}, '2': {'regression_model': {'model': 'FastRidge', 'model_params': {}}, 'max_lags': 1}} with error ValueError('BTCD only works on multivarate series')\") in model 835 in generation 8: GLS\n",
      "Model Number: 836 with model SectionalMotif in generation 8 of 10\n",
      "Model Number: 837 with model AverageValueNaive in generation 8 of 10\n",
      "Model Number: 838 with model WindowRegression in generation 8 of 10\n",
      "Model Number: 839 with model SectionalMotif in generation 8 of 10\n",
      "Model Number: 840 with model SectionalMotif in generation 8 of 10\n"
     ]
    },
    {
     "name": "stderr",
     "output_type": "stream",
     "text": [
      "/home/zeus/miniconda3/envs/cloudspace/lib/python3.10/site-packages/sklearn/base.py:458: UserWarning: X has feature names, but StandardScaler was fitted without feature names\n",
      "  warnings.warn(\n",
      "/home/zeus/miniconda3/envs/cloudspace/lib/python3.10/site-packages/sklearn/base.py:458: UserWarning: X has feature names, but StandardScaler was fitted without feature names\n",
      "  warnings.warn(\n"
     ]
    },
    {
     "name": "stdout",
     "output_type": "stream",
     "text": [
      "Model Number: 841 with model WindowRegression in generation 8 of 10\n",
      "Model Number: 842 with model UnivariateMotif in generation 8 of 10\n",
      "Model Number: 843 with model SectionalMotif in generation 8 of 10\n"
     ]
    },
    {
     "name": "stderr",
     "output_type": "stream",
     "text": [
      "/home/zeus/miniconda3/envs/cloudspace/lib/python3.10/site-packages/sklearn/base.py:458: UserWarning: X has feature names, but StandardScaler was fitted without feature names\n",
      "  warnings.warn(\n"
     ]
    },
    {
     "name": "stdout",
     "output_type": "stream",
     "text": [
      "Model Number: 844 with model ARDL in generation 8 of 10\n",
      "Template Eval Error: ValueError(\"regression_type='User' but future_regressor not supplied\") in model 844 in generation 8: ARDL\n",
      "Model Number: 845 with model BasicLinearModel in generation 8 of 10\n",
      "Model Number: 846 with model GLM in generation 8 of 10\n",
      "Model Number: 847 with model Cassandra in generation 8 of 10\n",
      "Model Number: 848 with model WindowRegression in generation 8 of 10\n"
     ]
    },
    {
     "name": "stderr",
     "output_type": "stream",
     "text": [
      "/home/zeus/miniconda3/envs/cloudspace/lib/python3.10/site-packages/statsmodels/genmod/families/links.py:198: RuntimeWarning: overflow encountered in exp\n",
      "  t = np.exp(-z)\n",
      "/home/zeus/miniconda3/envs/cloudspace/lib/python3.10/site-packages/sklearn/base.py:458: UserWarning: X has feature names, but StandardScaler was fitted without feature names\n",
      "  warnings.warn(\n"
     ]
    },
    {
     "name": "stdout",
     "output_type": "stream",
     "text": [
      "Model Number: 849 with model LastValueNaive in generation 8 of 10\n",
      "Model Number: 850 with model AverageValueNaive in generation 8 of 10\n",
      "Model Number: 851 with model AverageValueNaive in generation 8 of 10\n",
      "Model Number: 852 with model AverageValueNaive in generation 8 of 10\n",
      "Model Number: 853 with model DatepartRegression in generation 8 of 10\n",
      "Model Number: 854 with model SectionalMotif in generation 8 of 10\n",
      "Template Eval Error: Exception(\"Transformer RegressionFilter failed on fit from params fake_date {'0': {'decomp_type': 'seasonal_decompose', 'part': 'trend'}, '1': {'rows': 1}, '2': {'fillna': 'one', 'center': 'median'}, '3': {'sigma': 3, 'rolling_window': 90, 'run_order': 'trend_first', 'regression_params': {'regression_model': {'model': 'ElasticNet', 'model_params': {'l1_ratio': 0.1, 'fit_intercept': True, 'selection': 'cyclic', 'max_iter': 1000}}, 'datepart_method': 'simple_binarized', 'polynomial_degree': None, 'transform_dict': {'fillna': None, 'transformations': {'0': 'ClipOutliers'}, 'transformation_params': {'0': {'method': 'clip', 'std_threshold': 4}}}, 'holiday_countries_used': False, 'lags': None, 'forward_lags': None}, 'holiday_params': {'threshold': 1.0, 'splash_threshold': None, 'use_dayofmonth_holidays': True, 'use_wkdom_holidays': True, 'use_wkdeom_holidays': False, 'use_lunar_holidays': False, 'use_lunar_weekday': False, 'use_islamic_holidays': False, 'use_hebrew_holidays': False, 'use_hindu_holidays': False, 'anomaly_detector_params': {'method': 'zscore', 'method_params': {'distribution': 'gamma', 'alpha': 0.1}, 'fillna': 'linear', 'transform_dict': {'fillna': 'fake_date', 'transformations': {'0': 'RollingMeanTransformer'}, 'transformation_params': {'0': {'fixed': True, 'window': 360, 'macro_micro': True, 'center': True}}}, 'isolated_only': False, 'on_inverse': False}, 'remove_excess_anomalies': True, 'impact': 'datepart_regression', 'regression_params': {'regression_model': {'model': 'ElasticNet', 'model_params': {'l1_ratio': 0.1, 'fit_intercept': True, 'selection': 'cyclic', 'max_iter': 1000}}, 'datepart_method': 'simple_binarized', 'polynomial_degree': None, 'transform_dict': {'fillna': None, 'transformations': {'0': 'ClipOutliers'}, 'transformation_params': {'0': {'method': 'clip', 'std_threshold': 4}}}, 'holiday_countries_used': False, 'lags': None, 'forward_lags': None}}, 'trend_method': 'rolling_mean'}, '4': {}, '5': {'rows': 1, 'lag': 1, 'method': 'additive', 'strength': 1.0, 'first_value_only': False, 'threshold': 10, 'threshold_method': 'mean'}} with error ValueError('more than 1 year of data is required for holiday detection.')\") in model 854 in generation 8: SectionalMotif\n",
      "Model Number: 855 with model GLS in generation 8 of 10\n",
      "Model Number: 856 with model SectionalMotif in generation 8 of 10\n",
      "Model Number: 857 with model BasicLinearModel in generation 8 of 10\n",
      "Model Number: 858 with model ETS in generation 8 of 10\n",
      "Model Number: 859 with model SectionalMotif in generation 8 of 10\n",
      "Model Number: 860 with model AverageValueNaive in generation 8 of 10\n",
      "Model Number: 861 with model ConstantNaive in generation 8 of 10\n",
      "Model Number: 862 with model SeasonalNaive in generation 8 of 10\n",
      "Model Number: 863 with model BasicLinearModel in generation 8 of 10\n",
      "Model Number: 864 with model UnivariateMotif in generation 8 of 10\n",
      "Model Number: 865 with model MetricMotif in generation 8 of 10\n",
      "Template Eval Error: ValueError('kth(=2) out of bounds (1)') in model 865 in generation 8: MetricMotif\n",
      "Model Number: 866 with model SeasonalNaive in generation 8 of 10\n",
      "Model Number: 867 with model ARDL in generation 8 of 10\n",
      "Template Eval Error: Exception(\"Transformer FIRFilter failed on fit from params time {'0': {'lag_1': 364, 'method': 'Median'}, '1': {'rows': 168, 'lag': 84, 'method': 'additive', 'strength': 1.0, 'first_value_only': False, 'threshold': 10, 'threshold_method': 'mean'}, '2': {'numtaps': 128, 'cutoff_hz': 20, 'window': 'hann', 'sampling_frequency': 24, 'on_transform': True, 'on_inverse': False}, '3': {'method': 100}, '4': {'part': 'cycle', 'lamb': 1600}, '5': {'lag': 1, 'fill': 'bfill'}} with error ValueError('Invalid cutoff frequency: frequencies must be greater than 0 and less than fs/2.')\") in model 867 in generation 8: ARDL\n",
      "Model Number: 868 with model LastValueNaive in generation 8 of 10\n",
      "Model Number: 869 with model SeasonalityMotif in generation 8 of 10\n",
      "Template Eval Error: Exception(\"Transformer Cointegration failed on fit from params ffill {'0': {'rows': 1, 'lag': 1, 'method': 'additive', 'strength': 1.0, 'first_value_only': False, 'threshold': 1, 'threshold_method': 'mean'}, '1': {'method': 'nonparametric', 'method_params': {'p': None, 'z_init': 2.5, 'z_limit': 10, 'z_step': 0.25, 'inverse': False, 'max_contamination': 0.25, 'mean_weight': 25, 'sd_weight': 25, 'anomaly_count_weight': 1.0}, 'fillna': 'ffill', 'transform_dict': None, 'isolated_only': False, 'on_inverse': False}, '2': {'det_order': 0, 'k_ar_diff': 1}} with error ValueError('Coint only works on multivarate series')\") in model 869 in generation 8: SeasonalityMotif\n",
      "Model Number: 870 with model SectionalMotif in generation 8 of 10\n",
      "Model Number: 871 with model MetricMotif in generation 8 of 10\n",
      "Model Number: 872 with model SectionalMotif in generation 8 of 10\n",
      "Model Number: 873 with model MetricMotif in generation 8 of 10\n",
      "Model Number: 874 with model DatepartRegression in generation 8 of 10\n",
      "Template Eval Error: ModuleNotFoundError(\"No module named 'tensorflow'\") in model 874 in generation 8: DatepartRegression\n",
      "Model Number: 875 with model UnivariateMotif in generation 8 of 10\n",
      "Model Number: 876 with model ETS in generation 8 of 10\n",
      "Model Number: 877 with model DatepartRegression in generation 8 of 10\n",
      "Template Eval Error: ModuleNotFoundError(\"No module named 'tensorflow'\") in model 877 in generation 8: DatepartRegression\n",
      "Model Number: 878 with model MetricMotif in generation 8 of 10\n",
      "Template Eval Error: ValueError('kth(=4) out of bounds (1)') in model 878 in generation 8: MetricMotif\n",
      "Model Number: 879 with model SectionalMotif in generation 8 of 10\n",
      "Model Number: 880 with model GLM in generation 8 of 10\n",
      "Model Number: 881 with model GLS in generation 8 of 10\n",
      "Model Number: 882 with model MetricMotif in generation 8 of 10\n",
      "Template Eval Error: Exception(\"Transformer Cointegration failed on fit from params ffill {'0': {'rows': 1}, '1': {'rows': 1, 'lag': 7, 'method': 'additive', 'strength': 1.0, 'first_value_only': False, 'threshold': 3, 'threshold_method': 'max'}, '2': {}, '3': {'model': 'ElasticNet', 'changepoint_spacing': 5040, 'changepoint_distance_end': 180, 'datepart_method': ['simple_binarized']}, '4': {'det_order': 1, 'k_ar_diff': 0}, '5': {'rows': 1, 'lag': 1, 'method': 'additive', 'strength': 1.0, 'first_value_only': False, 'threshold': 1, 'threshold_method': 'mean'}} with error ValueError('Coint only works on multivarate series')\") in model 882 in generation 8: MetricMotif\n",
      "Model Number: 883 with model MetricMotif in generation 8 of 10\n",
      "Model Number: 884 with model ARDL in generation 8 of 10\n"
     ]
    },
    {
     "name": "stderr",
     "output_type": "stream",
     "text": [
      "/home/zeus/miniconda3/envs/cloudspace/lib/python3.10/site-packages/statsmodels/genmod/families/links.py:198: RuntimeWarning: overflow encountered in exp\n",
      "  t = np.exp(-z)\n"
     ]
    },
    {
     "name": "stdout",
     "output_type": "stream",
     "text": [
      "Model Number: 885 with model Cassandra in generation 8 of 10\n",
      "Template Eval Error: ValueError('negative dimensions are not allowed') in model 885 in generation 8: Cassandra\n",
      "Model Number: 886 with model UnivariateMotif in generation 8 of 10\n",
      "Model Number: 887 with model MetricMotif in generation 8 of 10\n",
      "Template Eval Error: ValueError('window shape cannot be larger than input array shape') in model 887 in generation 8: MetricMotif\n",
      "Model Number: 888 with model BasicLinearModel in generation 8 of 10\n",
      "Model Number: 889 with model SeasonalityMotif in generation 8 of 10\n",
      "Model Number: 890 with model DatepartRegression in generation 8 of 10\n",
      "Model Number: 891 with model UnivariateMotif in generation 8 of 10\n",
      "Model Number: 892 with model UnivariateMotif in generation 8 of 10\n",
      "Model Number: 893 with model MetricMotif in generation 8 of 10\n"
     ]
    },
    {
     "name": "stderr",
     "output_type": "stream",
     "text": [
      "/home/zeus/miniconda3/envs/cloudspace/lib/python3.10/site-packages/sklearn/linear_model/_ridge.py:200: LinAlgWarning: Ill-conditioned matrix (rcond=1.00589e-24): result may not be accurate.\n",
      "  return linalg.solve(A, Xy, assume_a=\"pos\", overwrite_a=True).T\n",
      "/home/zeus/miniconda3/envs/cloudspace/lib/python3.10/site-packages/sklearn/linear_model/_coordinate_descent.py:628: ConvergenceWarning: Objective did not converge. You might want to increase the number of iterations, check the scale of the features or consider increasing regularisation. Duality gap: 2.232e+14, tolerance: 9.084e+10\n",
      "  model = cd_fast.enet_coordinate_descent(\n"
     ]
    },
    {
     "name": "stdout",
     "output_type": "stream",
     "text": [
      "Model Number: 894 with model LastValueNaive in generation 8 of 10\n",
      "Model Number: 895 with model AverageValueNaive in generation 8 of 10\n",
      "Model Number: 896 with model SectionalMotif in generation 8 of 10\n",
      "Model Number: 897 with model WindowRegression in generation 8 of 10\n",
      "Template Eval Error: Exception(\"Transformer ReplaceConstant failed on fit from params ffill {'0': {'constant': 0, 'reintroduction_model': {'model': 'xgboost', 'model_params': {'booster': 'gbtree', 'max_depth': 6, 'eta': 0.01, 'min_child_weight': 1, 'subsample': 1, 'colsample_bylevel': 1, 'reg_alpha': 0.001, 'reg_lambda': 1, 'multi_strategy': 'multi_output_tree', 'tree_method': 'hist'}, 'datepart_method': [52, 'quarter']}, 'fillna': None}, '1': {'method': 0.8}, '2': {}} with error ValueError('Invalid classes inferred from unique values of `y`.  Expected: [0], got [1]')\") in model 897 in generation 8: WindowRegression\n",
      "Model Number: 898 with model BasicLinearModel in generation 8 of 10\n",
      "Model Number: 899 with model ETS in generation 8 of 10\n",
      "Model Number: 900 with model UnivariateMotif in generation 8 of 10\n",
      "Model Number: 901 with model SectionalMotif in generation 8 of 10\n",
      "Model Number: 902 with model UnivariateMotif in generation 8 of 10\n",
      "Model Number: 903 with model ETS in generation 8 of 10\n",
      "Model Number: 904 with model GLM in generation 8 of 10\n",
      "Model Number: 905 with model AverageValueNaive in generation 8 of 10\n",
      "Template Eval Error: Exception(\"Transformer Cointegration failed on fit from params rolling_mean {'0': {'det_order': -1, 'k_ar_diff': 1}} with error ValueError('Coint only works on multivarate series')\") in model 905 in generation 8: AverageValueNaive\n",
      "Model Number: 906 with model WindowRegression in generation 8 of 10\n",
      "Template Eval Error: InvalidParameterError(\"The 'alpha' parameter of MLPRegressor must be a float in the range [0.0, inf). Got None instead.\") in model 906 in generation 8: WindowRegression\n",
      "Model Number: 907 with model ConstantNaive in generation 8 of 10\n",
      "Model Number: 908 with model MetricMotif in generation 8 of 10\n",
      "Model Number: 909 with model GLM in generation 8 of 10\n",
      "Model Number: 910 with model GLS in generation 8 of 10\n",
      "Model Number: 911 with model UnivariateMotif in generation 8 of 10\n",
      "New Generation: 9 of 10\n",
      "Model Number: 912 with model ConstantNaive in generation 9 of 10\n",
      "Model Number: 913 with model BasicLinearModel in generation 9 of 10\n",
      "Model Number: 914 with model LastValueNaive in generation 9 of 10\n",
      "Model Number: 915 with model MetricMotif in generation 9 of 10\n",
      "Model Number: 916 with model DatepartRegression in generation 9 of 10\n",
      "Model Number: 917 with model MetricMotif in generation 9 of 10\n",
      "Model Number: 918 with model GLM in generation 9 of 10\n",
      "Template Eval Error: ValueError('regression_type=user and no future_regressor passed') in model 918 in generation 9: GLM\n",
      "Model Number: 919 with model UnivariateMotif in generation 9 of 10\n"
     ]
    },
    {
     "name": "stderr",
     "output_type": "stream",
     "text": [
      "/home/zeus/miniconda3/envs/cloudspace/lib/python3.10/site-packages/sklearn/linear_model/_coordinate_descent.py:628: ConvergenceWarning: Objective did not converge. You might want to increase the number of iterations, check the scale of the features or consider increasing regularisation. Duality gap: 4.398e+11, tolerance: 4.281e+10\n",
      "  model = cd_fast.enet_coordinate_descent(\n"
     ]
    },
    {
     "name": "stdout",
     "output_type": "stream",
     "text": [
      "Model Number: 920 with model SectionalMotif in generation 9 of 10\n",
      "Template Eval Error: ValueError(\"regression_type=='User' but no future_regressor supplied\") in model 920 in generation 9: SectionalMotif\n",
      "Model Number: 921 with model GLM in generation 9 of 10\n",
      "Model Number: 922 with model WindowRegression in generation 9 of 10\n",
      "Model Number: 923 with model MetricMotif in generation 9 of 10\n",
      "Model Number: 924 with model ETS in generation 9 of 10\n",
      "Model Number: 925 with model ARDL in generation 9 of 10\n"
     ]
    },
    {
     "name": "stderr",
     "output_type": "stream",
     "text": [
      "/home/zeus/miniconda3/envs/cloudspace/lib/python3.10/site-packages/sklearn/base.py:458: UserWarning: X has feature names, but StandardScaler was fitted without feature names\n",
      "  warnings.warn(\n"
     ]
    },
    {
     "name": "stdout",
     "output_type": "stream",
     "text": [
      "Model Number: 926 with model GLM in generation 9 of 10\n",
      "Model Number: 927 with model SectionalMotif in generation 9 of 10\n",
      "Model Number: 928 with model UnivariateMotif in generation 9 of 10\n",
      "Model Number: 929 with model SeasonalNaive in generation 9 of 10\n",
      "Model Number: 930 with model ETS in generation 9 of 10\n",
      "Model Number: 931 with model BasicLinearModel in generation 9 of 10\n",
      "Template Eval Error: ValueError(\"regression_type=='User' but no future_regressor supplied\") in model 931 in generation 9: BasicLinearModel\n",
      "Model Number: 932 with model WindowRegression in generation 9 of 10\n",
      "Model Number: 933 with model Cassandra in generation 9 of 10\n",
      "Template Eval Error: Exception('Transformer ChangepointDetrend failed on fit from params ffill {\\'0\\': {\\'fillna\\': \\'ffill\\', \\'center\\': \\'median\\'}, \\'1\\': {\\'model\\': \\'Gamma\\', \\'changepoint_spacing\\': 60, \\'changepoint_distance_end\\': 360, \\'datepart_method\\': None}, \\'2\\': {\\'rows\\': 1, \\'lag\\': 1, \\'method\\': \\'additive\\', \\'strength\\': 1.0, \\'first_value_only\\': True, \\'threshold\\': 1, \\'threshold_method\\': \\'max\\'}, \\'3\\': {\\'model\\': \\'Gamma\\', \\'phi\\': 1, \\'window\\': None, \\'transform_dict\\': None}, \\'4\\': {}} with error ValueError(\"Some value(s) of y are out of the valid range of the loss \\'HalfGammaLoss\\'.\")') in model 933 in generation 9: Cassandra\n",
      "Model Number: 934 with model MetricMotif in generation 9 of 10\n",
      "Model Number: 935 with model SectionalMotif in generation 9 of 10\n",
      "Model Number: 936 with model SectionalMotif in generation 9 of 10\n",
      "Model Number: 937 with model MetricMotif in generation 9 of 10\n",
      "Model Number: 938 with model LastValueNaive in generation 9 of 10\n",
      "Model Number: 939 with model SeasonalityMotif in generation 9 of 10\n",
      "Model Number: 940 with model MetricMotif in generation 9 of 10\n",
      "Model Number: 941 with model SeasonalityMotif in generation 9 of 10\n"
     ]
    },
    {
     "name": "stderr",
     "output_type": "stream",
     "text": [
      "/home/zeus/miniconda3/envs/cloudspace/lib/python3.10/site-packages/sklearn/base.py:458: UserWarning: X has feature names, but StandardScaler was fitted without feature names\n",
      "  warnings.warn(\n",
      "/home/zeus/miniconda3/envs/cloudspace/lib/python3.10/site-packages/autots/tools/percentile.py:47: RuntimeWarning: All-NaN slice encountered\n",
      "  max_val = np.nanmax(arr)\n",
      "/home/zeus/miniconda3/envs/cloudspace/lib/python3.10/site-packages/numpy/core/fromnumeric.py:3504: RuntimeWarning: Mean of empty slice.\n",
      "  return _methods._mean(a, axis=axis, dtype=dtype,\n",
      "/home/zeus/miniconda3/envs/cloudspace/lib/python3.10/site-packages/numpy/core/_methods.py:121: RuntimeWarning: invalid value encountered in divide\n",
      "  ret = um.true_divide(\n"
     ]
    },
    {
     "name": "stdout",
     "output_type": "stream",
     "text": [
      "Template Eval Error: ValueError('Model SeasonalityMotif returned NaN for one or more series. fail_on_forecast_nan=True') in model 941 in generation 9: SeasonalityMotif\n",
      "Model Number: 942 with model DatepartRegression in generation 9 of 10\n",
      "Model Number: 943 with model ARDL in generation 9 of 10\n",
      "Model Number: 944 with model UnivariateMotif in generation 9 of 10\n",
      "Template Eval Error: ValueError('window shape cannot be larger than input array shape') in model 944 in generation 9: UnivariateMotif\n",
      "Model Number: 945 with model MetricMotif in generation 9 of 10\n",
      "Model Number: 946 with model SeasonalityMotif in generation 9 of 10\n",
      "Model Number: 947 with model ARDL in generation 9 of 10\n",
      "Model Number: 948 with model SectionalMotif in generation 9 of 10\n",
      "Model Number: 949 with model SeasonalityMotif in generation 9 of 10\n",
      "Model Number: 950 with model UnivariateMotif in generation 9 of 10\n",
      "Model Number: 951 with model GLS in generation 9 of 10\n",
      "Model Number: 952 with model SectionalMotif in generation 9 of 10\n",
      "Template Eval Error: Exception(\"Transformer Cointegration failed on fit from params time {'0': {'numtaps': 1024, 'cutoff_hz': 0.1, 'window': 'kaiser', 'sampling_frequency': 28, 'on_transform': True, 'on_inverse': False}, '1': {'rows': 1}, '2': {'det_order': -1, 'k_ar_diff': 0}, '3': {'method': 'remove', 'std_threshold': 3.5, 'fillna': 'rolling_mean_24'}} with error ValueError('Coint only works on multivarate series')\") in model 952 in generation 9: SectionalMotif\n",
      "Model Number: 953 with model LastValueNaive in generation 9 of 10\n",
      "Model Number: 954 with model BasicLinearModel in generation 9 of 10\n"
     ]
    },
    {
     "name": "stderr",
     "output_type": "stream",
     "text": [
      "/home/zeus/miniconda3/envs/cloudspace/lib/python3.10/site-packages/autots/tools/percentile.py:47: RuntimeWarning: All-NaN slice encountered\n",
      "  max_val = np.nanmax(arr)\n"
     ]
    },
    {
     "name": "stdout",
     "output_type": "stream",
     "text": [
      "Model Number: 955 with model Cassandra in generation 9 of 10\n",
      "Model Number: 956 with model BasicLinearModel in generation 9 of 10\n"
     ]
    },
    {
     "name": "stderr",
     "output_type": "stream",
     "text": [
      "/home/zeus/miniconda3/envs/cloudspace/lib/python3.10/site-packages/numpy/lib/function_base.py:2897: RuntimeWarning: invalid value encountered in divide\n",
      "  c /= stddev[:, None]\n",
      "/home/zeus/miniconda3/envs/cloudspace/lib/python3.10/site-packages/numpy/lib/function_base.py:2898: RuntimeWarning: invalid value encountered in divide\n",
      "  c /= stddev[None, :]\n",
      "/home/zeus/miniconda3/envs/cloudspace/lib/python3.10/site-packages/autots/tools/thresholding.py:204: RuntimeWarning: overflow encountered in scalar power\n",
      "  (1 + mean_perc_decrease) ** self.mean_weight\n",
      "/home/zeus/miniconda3/envs/cloudspace/lib/python3.10/site-packages/autots/models/basics.py:3595: RuntimeWarning: invalid value encountered in sqrt\n",
      "  self.sigma = np.sqrt(sse / (n - p))\n"
     ]
    },
    {
     "name": "stdout",
     "output_type": "stream",
     "text": [
      "Model Number: 957 with model SectionalMotif in generation 9 of 10\n",
      "Model Number: 958 with model SeasonalNaive in generation 9 of 10\n",
      "Model Number: 959 with model SectionalMotif in generation 9 of 10\n",
      "Template Eval Error: Exception(\"Transformer Cointegration failed on fit from params time {'0': {'rows': 1, 'lag': 7, 'method': 'additive', 'strength': 1.0, 'first_value_only': False, 'threshold': 10, 'threshold_method': 'mean'}, '1': {'det_order': -1, 'k_ar_diff': 0}} with error ValueError('Coint only works on multivarate series')\") in model 959 in generation 9: SectionalMotif\n",
      "Model Number: 960 with model WindowRegression in generation 9 of 10\n"
     ]
    },
    {
     "name": "stderr",
     "output_type": "stream",
     "text": [
      "/home/zeus/miniconda3/envs/cloudspace/lib/python3.10/site-packages/sklearn/base.py:458: UserWarning: X has feature names, but StandardScaler was fitted without feature names\n",
      "  warnings.warn(\n"
     ]
    },
    {
     "name": "stdout",
     "output_type": "stream",
     "text": [
      "Model Number: 961 with model BasicLinearModel in generation 9 of 10\n",
      "Model Number: 962 with model RRVAR in generation 9 of 10\n",
      "SVD did not converge, attempting more robust approach...\n",
      "Template Eval Error: Exception(\"Transformer KalmanSmoothing failed on fit from params pchip {'0': {'model_name': 'dynamic linear', 'state_transition': [[1, 1, 0, 0], [0, 1, 0, 0], [0, 0, 0.6, 1], [0, 0, 0.1, 0]], 'process_noise': [[0.9, 0, 0, 0], [0, 1.3, 0, 0], [0, 0, 0.0, 0], [0, 0, 0, 0]], 'observation_model': [[1, 0, 1, 0]], 'observation_noise': 0.25, 'em_iter': 10, 'on_transform': True, 'on_inverse': False}, '1': {'regression_model': {'model': 'ExtraTrees', 'model_params': {'n_estimators': 100, 'min_samples_leaf': 1, 'min_samples_split': 2, 'max_depth': None, 'criterion': 'friedman_mse', 'max_features': 1}}, 'datepart_method': [168, 'hour'], 'polynomial_degree': None, 'transform_dict': None, 'holiday_countries_used': True, 'lags': None, 'forward_lags': None}, '2': {}, '3': {}} with error LinAlgError('SVD did not converge')\") in model 962 in generation 9: RRVAR\n",
      "Model Number: 963 with model DatepartRegression in generation 9 of 10\n"
     ]
    },
    {
     "name": "stderr",
     "output_type": "stream",
     "text": [
      "/home/zeus/miniconda3/envs/cloudspace/lib/python3.10/site-packages/autots/tools/fast_kalman.py:1137: RuntimeWarning: overflow encountered in cast\n",
      "  result.smoothed.states.cov[:, j, :, :] = Ps\n",
      "/home/zeus/miniconda3/envs/cloudspace/lib/python3.10/site-packages/autots/tools/fast_kalman.py:1143: RuntimeWarning: overflow encountered in cast\n",
      "  result.smoothed.observations.cov[:, j, :, :] = obs_cov\n",
      "/home/zeus/miniconda3/envs/cloudspace/lib/python3.10/site-packages/autots/tools/fast_kalman.py:1354: RuntimeWarning: invalid value encountered in matmul\n",
      "  return np.matmul(A, np.swapaxes(B, -1, -2))\n"
     ]
    },
    {
     "name": "stdout",
     "output_type": "stream",
     "text": [
      "Model Number: 964 with model ETS in generation 9 of 10\n",
      "Model Number: 965 with model MetricMotif in generation 9 of 10\n",
      "Model Number: 966 with model GLM in generation 9 of 10\n",
      "Template Eval Error: Exception(\"Transformer HolidayTransformer failed on fit from params nearest {'0': {'threshold': 0.9, 'splash_threshold': None, 'use_dayofmonth_holidays': True, 'use_wkdom_holidays': True, 'use_wkdeom_holidays': False, 'use_lunar_holidays': False, 'use_lunar_weekday': False, 'use_islamic_holidays': False, 'use_hebrew_holidays': False, 'use_hindu_holidays': False, 'anomaly_detector_params': {'method': 'IQR', 'method_params': {'iqr_threshold': 3.0, 'iqr_quantiles': [0.25, 0.75]}, 'fillna': 'ffill', 'transform_dict': {'transformations': {'0': 'DatepartRegression'}, 'transformation_params': {'0': {'datepart_method': 'simple_3', 'regression_model': {'model': 'DecisionTree', 'model_params': {'max_depth': None, 'min_samples_split': 0.1}}}}}, 'isolated_only': False, 'on_inverse': False}, 'remove_excess_anomalies': True, 'impact': 'anomaly_score', 'regression_params': {}}, '1': {'rows': 1}, '2': {'model': 'Linear', 'changepoint_spacing': 120, 'changepoint_distance_end': 180, 'datepart_method': 'simple_2'}, '3': {'rows': 1, 'lag': 7, 'method': 'additive', 'strength': 1.0, 'first_value_only': False, 'threshold': 3, 'threshold_method': 'max'}} with error ValueError('more than 1 year of data is required for holiday detection.')\") in model 966 in generation 9: GLM\n",
      "Model Number: 967 with model AverageValueNaive in generation 9 of 10\n",
      "Model Number: 968 with model GLM in generation 9 of 10\n",
      "Model Number: 969 with model AverageValueNaive in generation 9 of 10\n",
      "Model Number: 970 with model UnivariateMotif in generation 9 of 10\n",
      "Model Number: 971 with model DatepartRegression in generation 9 of 10\n",
      "Model Number: 972 with model Cassandra in generation 9 of 10\n",
      "Template Eval Error: ValueError('more than 1 year of data is required for holiday detection.') in model 972 in generation 9: Cassandra\n",
      "Model Number: 973 with model GLM in generation 9 of 10\n",
      "Template Eval Error: ValueError('NaN, inf or invalid value detected in weights, estimation infeasible.') in model 973 in generation 9: GLM\n",
      "Model Number: 974 with model SectionalMotif in generation 9 of 10\n",
      "Template Eval Error: ValueError(\"regression_type=='User' but no future_regressor supplied\") in model 974 in generation 9: SectionalMotif\n",
      "Model Number: 975 with model ETS in generation 9 of 10\n",
      "Model Number: 976 with model UnivariateMotif in generation 9 of 10\n",
      "Model Number: 977 with model MetricMotif in generation 9 of 10\n",
      "Model Number: 978 with model UnivariateMotif in generation 9 of 10\n",
      "Model Number: 979 with model SeasonalityMotif in generation 9 of 10\n"
     ]
    },
    {
     "name": "stderr",
     "output_type": "stream",
     "text": [
      "/home/zeus/miniconda3/envs/cloudspace/lib/python3.10/site-packages/statsmodels/genmod/families/family.py:445: RuntimeWarning: divide by zero encountered in divide\n",
      "  endog_mu = self._clean(endog / mu)\n",
      "/home/zeus/miniconda3/envs/cloudspace/lib/python3.10/site-packages/statsmodels/genmod/families/family.py:143: RuntimeWarning: divide by zero encountered in divide\n",
      "  return 1. / (self.link.deriv(mu)**2 * self.variance(mu))\n"
     ]
    },
    {
     "name": "stdout",
     "output_type": "stream",
     "text": [
      "Model Number: 980 with model ARDL in generation 9 of 10\n",
      "Model Number: 981 with model WindowRegression in generation 9 of 10\n",
      "Model Number: 982 with model WindowRegression in generation 9 of 10\n",
      "Model Number: 983 with model WindowRegression in generation 9 of 10\n",
      "Model Number: 984 with model RRVAR in generation 9 of 10\n",
      "Model Number: 985 with model LastValueNaive in generation 9 of 10\n",
      "Model Number: 986 with model SeasonalityMotif in generation 9 of 10\n",
      "Model Number: 987 with model MetricMotif in generation 9 of 10\n",
      "Model Number: 988 with model AverageValueNaive in generation 9 of 10\n",
      "Model Number: 989 with model LastValueNaive in generation 9 of 10\n"
     ]
    },
    {
     "name": "stderr",
     "output_type": "stream",
     "text": [
      "/home/zeus/miniconda3/envs/cloudspace/lib/python3.10/site-packages/sklearn/base.py:458: UserWarning: X has feature names, but StandardScaler was fitted without feature names\n",
      "  warnings.warn(\n",
      "/home/zeus/miniconda3/envs/cloudspace/lib/python3.10/site-packages/sklearn/linear_model/_ridge.py:200: LinAlgWarning: Ill-conditioned matrix (rcond=1.00589e-24): result may not be accurate.\n",
      "  return linalg.solve(A, Xy, assume_a=\"pos\", overwrite_a=True).T\n"
     ]
    },
    {
     "name": "stdout",
     "output_type": "stream",
     "text": [
      "Model Number: 990 with model SeasonalNaive in generation 9 of 10\n",
      "Model Number: 991 with model SeasonalityMotif in generation 9 of 10\n",
      "Model Number: 992 with model DatepartRegression in generation 9 of 10\n",
      "Model Number: 993 with model BasicLinearModel in generation 9 of 10\n",
      "Model Number: 994 with model DatepartRegression in generation 9 of 10\n",
      "Model Number: 995 with model BasicLinearModel in generation 9 of 10\n",
      "New Generation: 10 of 10\n",
      "Model Number: 996 with model MetricMotif in generation 10 of 10\n",
      "Template Eval Error: Exception(\"Transformer HolidayTransformer failed on fit from params mean {'0': {}, '1': {'threshold': 0.8, 'splash_threshold': None, 'use_dayofmonth_holidays': True, 'use_wkdom_holidays': True, 'use_wkdeom_holidays': False, 'use_lunar_holidays': False, 'use_lunar_weekday': False, 'use_islamic_holidays': False, 'use_hebrew_holidays': False, 'use_hindu_holidays': False, 'anomaly_detector_params': {'method': 'nonparametric', 'method_params': {'p': None, 'z_init': 2.0, 'z_limit': 10, 'z_step': 0.5, 'inverse': False, 'max_contamination': 0.05, 'mean_weight': 25, 'sd_weight': 25, 'anomaly_count_weight': 1.0}, 'fillna': 'rolling_mean_24', 'transform_dict': {'fillna': 'nearest', 'transformations': {'0': 'QuantileTransformer'}, 'transformation_params': {'0': {'output_distribution': 'uniform', 'n_quantiles': 34}}}, 'isolated_only': True, 'on_inverse': False}, 'remove_excess_anomalies': True, 'impact': 'regression', 'regression_params': {}}} with error ValueError('more than 1 year of data is required for holiday detection.')\") in model 996 in generation 10: MetricMotif\n",
      "Model Number: 997 with model AverageValueNaive in generation 10 of 10\n",
      "Template Eval Error: Exception(\"Transformer BTCD failed on fit from params mean {'0': {'regression_model': {'model': 'FastRidge', 'model_params': {}}, 'max_lags': 1}, '1': {'lag_1': 7, 'method': 'LastValue'}, '2': {'lag': 2, 'fill': 'bfill'}, '3': {'lag': 1, 'fill': 'bfill'}, '4': {'rows': 1, 'lag': 28, 'method': 'additive', 'strength': 1.0, 'first_value_only': False, 'threshold': 10, 'threshold_method': 'mean'}} with error ValueError('BTCD only works on multivarate series')\") in model 997 in generation 10: AverageValueNaive\n",
      "Model Number: 998 with model MetricMotif in generation 10 of 10\n",
      "Model Number: 999 with model SectionalMotif in generation 10 of 10\n",
      "Model Number: 1000 with model GLM in generation 10 of 10\n",
      "Model Number: 1001 with model UnivariateMotif in generation 10 of 10\n",
      "Model Number: 1002 with model BasicLinearModel in generation 10 of 10\n"
     ]
    },
    {
     "name": "stderr",
     "output_type": "stream",
     "text": [
      "/home/zeus/miniconda3/envs/cloudspace/lib/python3.10/site-packages/autots/tools/thresholding.py:199: RuntimeWarning: divide by zero encountered in scalar divide\n",
      "  mean_perc_decrease = (\n"
     ]
    },
    {
     "name": "stdout",
     "output_type": "stream",
     "text": [
      "Model Number: 1003 with model AverageValueNaive in generation 10 of 10\n",
      "Model Number: 1004 with model WindowRegression in generation 10 of 10\n",
      "Model Number: 1005 with model SectionalMotif in generation 10 of 10\n",
      "Template Eval Error: ValueError(\"regression_type=='User' but no future_regressor supplied\") in model 1005 in generation 10: SectionalMotif\n",
      "Model Number: 1006 with model LastValueNaive in generation 10 of 10\n",
      "Model Number: 1007 with model LastValueNaive in generation 10 of 10\n",
      "Model Number: 1008 with model GLM in generation 10 of 10\n",
      "Template Eval Error: Exception(\"Transformer HolidayTransformer failed on fit from params nearest {'0': {'threshold': 0.8, 'splash_threshold': None, 'use_dayofmonth_holidays': True, 'use_wkdom_holidays': True, 'use_wkdeom_holidays': False, 'use_lunar_holidays': False, 'use_lunar_weekday': False, 'use_islamic_holidays': False, 'use_hebrew_holidays': False, 'use_hindu_holidays': False, 'anomaly_detector_params': {'method': 'zscore', 'method_params': {'distribution': 'gamma', 'alpha': 0.05}, 'fillna': 'rolling_mean_24', 'transform_dict': {'transformations': {'0': 'DatepartRegression'}, 'transformation_params': {'0': {'datepart_method': 'simple_3', 'regression_model': {'model': 'FastRidge', 'model_params': {}}}}}, 'isolated_only': False, 'on_inverse': False}, 'remove_excess_anomalies': True, 'impact': 'datepart_regression', 'regression_params': {'regression_model': {'model': 'ExtraTrees', 'model_params': {'n_estimators': 4, 'min_samples_leaf': 4, 'min_samples_split': 1.0, 'max_depth': 20, 'criterion': 'poisson', 'max_features': 1}}, 'datepart_method': ['db2_365.25_12_0.5', 'morlet_7_7_1'], 'polynomial_degree': None, 'transform_dict': {'fillna': None, 'transformations': {'0': 'AnomalyRemoval'}, 'transformation_params': {'0': {'method': 'zscore', 'transform_dict': {'transformations': {'0': 'DatepartRegression'}, 'transformation_params': {'0': {'datepart_method': 'simple_3', 'regression_model': {'model': 'ElasticNet', 'model_params': {}}}}}, 'method_params': {'distribution': 'uniform', 'alpha': 0.05}}}}, 'holiday_countries_used': False, 'lags': None, 'forward_lags': None}}, '1': {'rows': 1, 'lag': 7, 'method': 'multiplicative', 'strength': 1.0, 'first_value_only': False, 'threshold': 10, 'threshold_method': 'mean'}} with error ValueError('more than 1 year of data is required for holiday detection.')\") in model 1008 in generation 10: GLM\n",
      "Model Number: 1009 with model AverageValueNaive in generation 10 of 10\n",
      "Model Number: 1010 with model SectionalMotif in generation 10 of 10\n",
      "Model Number: 1011 with model AverageValueNaive in generation 10 of 10\n",
      "Model Number: 1012 with model SeasonalNaive in generation 10 of 10\n"
     ]
    },
    {
     "name": "stderr",
     "output_type": "stream",
     "text": [
      "/home/zeus/miniconda3/envs/cloudspace/lib/python3.10/site-packages/sklearn/base.py:458: UserWarning: X has feature names, but StandardScaler was fitted without feature names\n",
      "  warnings.warn(\n",
      "/home/zeus/miniconda3/envs/cloudspace/lib/python3.10/site-packages/sklearn/linear_model/_ridge.py:200: LinAlgWarning: Ill-conditioned matrix (rcond=1.00589e-24): result may not be accurate.\n",
      "  return linalg.solve(A, Xy, assume_a=\"pos\", overwrite_a=True).T\n"
     ]
    },
    {
     "name": "stdout",
     "output_type": "stream",
     "text": [
      "Model Number: 1013 with model AverageValueNaive in generation 10 of 10\n",
      "Model Number: 1014 with model SeasonalityMotif in generation 10 of 10\n",
      "Model Number: 1015 with model MetricMotif in generation 10 of 10\n",
      "Model Number: 1016 with model UnivariateMotif in generation 10 of 10\n",
      "Model Number: 1017 with model MetricMotif in generation 10 of 10\n",
      "Model Number: 1018 with model MetricMotif in generation 10 of 10\n",
      "Model Number: 1019 with model AverageValueNaive in generation 10 of 10\n",
      "Model Number: 1020 with model GLM in generation 10 of 10\n",
      "Template Eval Error: Exception(\"Transformer BTCD failed on fit from params nearest {'0': {}, '1': {'rows': 1, 'lag': 1, 'method': 'additive', 'strength': 1.0, 'first_value_only': True, 'threshold': 3, 'threshold_method': 'max'}, '2': {}, '3': {'output_distribution': 'uniform', 'n_quantiles': 34}, '4': {'regression_model': {'model': 'LinearRegression', 'model_params': {}}, 'max_lags': 1}, '5': {'discretization': 'upper', 'n_bins': 50}} with error ValueError('BTCD only works on multivarate series')\") in model 1020 in generation 10: GLM\n",
      "Model Number: 1021 with model SectionalMotif in generation 10 of 10\n",
      "Model Number: 1022 with model ARDL in generation 10 of 10\n",
      "Model Number: 1023 with model Cassandra in generation 10 of 10\n"
     ]
    },
    {
     "name": "stderr",
     "output_type": "stream",
     "text": [
      "/home/zeus/miniconda3/envs/cloudspace/lib/python3.10/site-packages/autots/tools/percentile.py:47: RuntimeWarning: All-NaN slice encountered\n",
      "  max_val = np.nanmax(arr)\n"
     ]
    },
    {
     "name": "stdout",
     "output_type": "stream",
     "text": [
      "Template Eval Error: ValueError('more than 1 year of data is required for holiday detection.') in model 1023 in generation 10: Cassandra\n",
      "Model Number: 1024 with model AverageValueNaive in generation 10 of 10\n",
      "Model Number: 1025 with model SectionalMotif in generation 10 of 10\n",
      "Model Number: 1026 with model SectionalMotif in generation 10 of 10\n",
      "Model Number: 1027 with model MetricMotif in generation 10 of 10\n",
      "Model Number: 1028 with model SeasonalityMotif in generation 10 of 10\n",
      "Model Number: 1029 with model LastValueNaive in generation 10 of 10\n",
      "Model Number: 1030 with model GLM in generation 10 of 10\n",
      "Model Number: 1031 with model DatepartRegression in generation 10 of 10\n",
      "Model Number: 1032 with model LastValueNaive in generation 10 of 10\n",
      "Model Number: 1033 with model AverageValueNaive in generation 10 of 10\n",
      "Template Eval Error: ValueError('Model AverageValueNaive returned improper forecast_length. Returned: 50 and requested: 52') in model 1033 in generation 10: AverageValueNaive\n",
      "Model Number: 1034 with model SectionalMotif in generation 10 of 10\n",
      "Model Number: 1035 with model UnivariateMotif in generation 10 of 10\n",
      "Template Eval Error: IndexError('index 3 is out of bounds for axis 0 with size 1') in model 1035 in generation 10: UnivariateMotif\n",
      "Model Number: 1036 with model WindowRegression in generation 10 of 10\n"
     ]
    },
    {
     "name": "stderr",
     "output_type": "stream",
     "text": [
      "/home/zeus/miniconda3/envs/cloudspace/lib/python3.10/site-packages/sklearn/linear_model/_coordinate_descent.py:628: ConvergenceWarning: Objective did not converge. You might want to increase the number of iterations, check the scale of the features or consider increasing regularisation. Duality gap: 0.000e+00, tolerance: 0.000e+00\n",
      "  model = cd_fast.enet_coordinate_descent(\n"
     ]
    },
    {
     "name": "stdout",
     "output_type": "stream",
     "text": [
      "Model Number: 1037 with model ConstantNaive in generation 10 of 10\n"
     ]
    },
    {
     "name": "stderr",
     "output_type": "stream",
     "text": [
      "/home/zeus/miniconda3/envs/cloudspace/lib/python3.10/site-packages/sklearn/base.py:458: UserWarning: X has feature names, but StandardScaler was fitted without feature names\n",
      "  warnings.warn(\n"
     ]
    },
    {
     "name": "stdout",
     "output_type": "stream",
     "text": [
      "Template Eval Error: Exception('Transformer DatepartRegression failed on fit from params akima {\\'0\\': {\\'rows\\': 1}, \\'1\\': {\\'constraint_method\\': \\'stdev\\', \\'constraint_direction\\': \\'upper\\', \\'constraint_regularization\\': 1.0, \\'constraint_value\\': 1.0, \\'bounds_only\\': False, \\'fillna\\': None}, \\'2\\': {\\'regression_model\\': {\\'model\\': \\'ElasticNetwork\\', \\'model_params\\': {\\'size\\': 2560, \\'l1\\': 0.0, \\'l2\\': 0.0, \\'epochs\\': 10, \\'batch_size\\': 32, \\'optimizer\\': \\'rmsprop\\', \\'loss\\': \\'mape\\'}}, \\'datepart_method\\': \\'recurring\\', \\'polynomial_degree\\': 2, \\'transform_dict\\': None, \\'holiday_countries_used\\': True, \\'lags\\': None, \\'forward_lags\\': 2}, \\'3\\': {\\'rows\\': 1, \\'lag\\': 7, \\'method\\': \\'additive\\', \\'strength\\': 1.0, \\'first_value_only\\': False, \\'threshold\\': 3, \\'threshold_method\\': \\'max\\'}} with error ModuleNotFoundError(\"No module named \\'tensorflow\\'\")') in model 1037 in generation 10: ConstantNaive\n",
      "Model Number: 1038 with model DatepartRegression in generation 10 of 10\n",
      "Model Number: 1039 with model UnivariateMotif in generation 10 of 10\n",
      "Model Number: 1040 with model SectionalMotif in generation 10 of 10\n",
      "Template Eval Error: ValueError('kth(=10) out of bounds (5)') in model 1040 in generation 10: SectionalMotif\n",
      "Model Number: 1041 with model UnivariateMotif in generation 10 of 10\n",
      "k too large for size of data in motif\n",
      "Template Eval Error: ValueError('kth(=23) out of bounds (23)') in model 1041 in generation 10: UnivariateMotif\n",
      "Model Number: 1042 with model GLS in generation 10 of 10\n",
      "Model Number: 1043 with model AverageValueNaive in generation 10 of 10\n",
      "Model Number: 1044 with model ETS in generation 10 of 10\n",
      "Model Number: 1045 with model Cassandra in generation 10 of 10\n",
      "Template Eval Error: Exception(\"Transformer Detrend failed on fit from params pchip {'0': {'model_name': 'MA', 'state_transition': [[1, 0], [1, 0]], 'process_noise': [[0.2, 0.0], [0.0, 0]], 'observation_model': [[1, 0.1]], 'observation_noise': 1.0, 'em_iter': 10, 'on_transform': True, 'on_inverse': False}, '1': {'model': 'Linear', 'phi': 1, 'window': None, 'transform_dict': {'fillna': None, 'transformations': {'0': 'AnomalyRemoval'}, 'transformation_params': {'0': {'method': 'zscore', 'transform_dict': {'transformations': {'0': 'DatepartRegression'}, 'transformation_params': {'0': {'datepart_method': 'simple_3', 'regression_model': {'model': 'ElasticNet', 'model_params': {}}}}}, 'method_params': {'distribution': 'uniform', 'alpha': 0.05}}}}}, '2': {'lag_1': 420, 'method': 'Median'}, '3': {'rows': 84, 'lag': 1, 'method': 'additive', 'strength': 0.5, 'first_value_only': False, 'threshold': 10, 'threshold_method': 'mean'}} with error ValueError('Input y contains NaN.')\") in model 1045 in generation 10: Cassandra\n",
      "Model Number: 1046 with model BasicLinearModel in generation 10 of 10\n"
     ]
    },
    {
     "name": "stderr",
     "output_type": "stream",
     "text": [
      "/home/zeus/miniconda3/envs/cloudspace/lib/python3.10/site-packages/autots/tools/thresholding.py:199: RuntimeWarning: divide by zero encountered in scalar divide\n",
      "  mean_perc_decrease = (\n"
     ]
    },
    {
     "name": "stdout",
     "output_type": "stream",
     "text": [
      "Model Number: 1047 with model AverageValueNaive in generation 10 of 10\n",
      "Model Number: 1048 with model MetricMotif in generation 10 of 10\n",
      "Model Number: 1049 with model ETS in generation 10 of 10\n",
      "Model Number: 1050 with model SeasonalNaive in generation 10 of 10\n",
      "Model Number: 1051 with model SeasonalityMotif in generation 10 of 10\n",
      "Template Eval Error: ValueError('Model SeasonalityMotif returned NaN for one or more series. fail_on_forecast_nan=True') in model 1051 in generation 10: SeasonalityMotif\n",
      "Model Number: 1052 with model BasicLinearModel in generation 10 of 10\n"
     ]
    },
    {
     "name": "stderr",
     "output_type": "stream",
     "text": [
      "/home/zeus/miniconda3/envs/cloudspace/lib/python3.10/site-packages/numpy/core/fromnumeric.py:3504: RuntimeWarning: Mean of empty slice.\n",
      "  return _methods._mean(a, axis=axis, dtype=dtype,\n",
      "/home/zeus/miniconda3/envs/cloudspace/lib/python3.10/site-packages/numpy/core/_methods.py:121: RuntimeWarning: invalid value encountered in divide\n",
      "  ret = um.true_divide(\n"
     ]
    },
    {
     "name": "stdout",
     "output_type": "stream",
     "text": [
      "Model Number: 1053 with model WindowRegression in generation 10 of 10\n",
      "Template Eval Error: Exception(\"Transformer Cointegration failed on fit from params ffill {'0': {'det_order': 0, 'k_ar_diff': 1}, '1': {}, '2': {'rows': 7, 'displacement_rows': 1, 'quantile': 1.0, 'decay_span': 2}} with error ValueError('Coint only works on multivarate series')\") in model 1053 in generation 10: WindowRegression\n",
      "Model Number: 1054 with model UnivariateMotif in generation 10 of 10\n",
      "Model Number: 1055 with model GLM in generation 10 of 10\n",
      "Model Number: 1056 with model SectionalMotif in generation 10 of 10\n",
      "Model Number: 1057 with model SectionalMotif in generation 10 of 10\n",
      "Model Number: 1058 with model BasicLinearModel in generation 10 of 10\n"
     ]
    },
    {
     "name": "stderr",
     "output_type": "stream",
     "text": [
      "/home/zeus/miniconda3/envs/cloudspace/lib/python3.10/site-packages/statsmodels/genmod/families/links.py:198: RuntimeWarning: overflow encountered in exp\n",
      "  t = np.exp(-z)\n"
     ]
    },
    {
     "name": "stdout",
     "output_type": "stream",
     "text": [
      "Model Number: 1059 with model Ensemble in generation 11 of Ensembles\n",
      "Model Number: 1073 with model Ensemble in generation 11 of Ensembles\n",
      "Model Number: 1087 with model Ensemble in generation 11 of Ensembles\n",
      "Model Number: 1101 with model Ensemble in generation 11 of Ensembles\n",
      "Model Number: 1115 with model Ensemble in generation 11 of Ensembles\n",
      "Model Number: 1129 with model Ensemble in generation 11 of Ensembles\n",
      "Model Number: 1143 with model Ensemble in generation 11 of Ensembles\n",
      "Model Number: 1157 with model Ensemble in generation 11 of Ensembles\n",
      "Validation Round: 1\n",
      "Model Number: 1 of 175 with model Ensemble for Validation 1\n",
      "Traceback (most recent call last):\n",
      "  File \"/home/zeus/miniconda3/envs/cloudspace/lib/python3.10/site-packages/autots/evaluator/auto_model.py\", line 1430, in model_forecast\n",
      "    df_forecast = model_forecast(\n",
      "  File \"/home/zeus/miniconda3/envs/cloudspace/lib/python3.10/site-packages/autots/evaluator/auto_model.py\", line 1566, in model_forecast\n",
      "    return model.predict(\n",
      "  File \"/home/zeus/miniconda3/envs/cloudspace/lib/python3.10/site-packages/autots/evaluator/auto_model.py\", line 913, in predict\n",
      "    df_forecast = self.model.predict(\n",
      "  File \"/home/zeus/miniconda3/envs/cloudspace/lib/python3.10/site-packages/autots/models/basics.py\", line 1263, in predict\n",
      "    x = sliding_window_view(\n",
      "  File \"/home/zeus/miniconda3/envs/cloudspace/lib/python3.10/site-packages/autots/tools/window_functions.py\", line 461, in sliding_window_view\n",
      "    return np.lib.stride_tricks.sliding_window_view(\n",
      "  File \"/home/zeus/miniconda3/envs/cloudspace/lib/python3.10/site-packages/numpy/lib/stride_tricks.py\", line 332, in sliding_window_view\n",
      "    raise ValueError(\n",
      "ValueError: window shape cannot be larger than input array shape\n",
      "\n",
      "FAILED: Ensemble BestN component 4 of 3 UnivariateMotif with error: ValueError('window shape cannot be larger than input array shape')\n",
      "📈 1 - Ensemble with avg smape 7.65: \n",
      "📈 2 - Ensemble with avg smape 7.64: \n",
      "3 - Ensemble with avg smape 7.71: \n",
      "4 - Ensemble with avg smape 7.7: \n",
      "5 - Ensemble with avg smape 13.25: \n",
      "6 - Ensemble with avg smape 8.08: \n",
      "7 - Ensemble with avg smape 7.95: \n",
      "8 - Ensemble with avg smape 8.02: \n",
      "9 - Ensemble with avg smape 7.65: \n",
      "10 - Ensemble with avg smape 8.02: \n",
      "11 - Ensemble with avg smape 7.65: \n",
      "12 - Ensemble with avg smape 16.21: \n",
      "13 - Ensemble with avg smape 15.78: \n",
      "14 - Ensemble with avg smape 12.78: \n",
      "Model Number: 15 of 175 with model Ensemble for Validation 1\n",
      "Traceback (most recent call last):\n",
      "  File \"/home/zeus/miniconda3/envs/cloudspace/lib/python3.10/site-packages/autots/evaluator/auto_model.py\", line 1430, in model_forecast\n",
      "    df_forecast = model_forecast(\n",
      "  File \"/home/zeus/miniconda3/envs/cloudspace/lib/python3.10/site-packages/autots/evaluator/auto_model.py\", line 1566, in model_forecast\n",
      "    return model.predict(\n",
      "  File \"/home/zeus/miniconda3/envs/cloudspace/lib/python3.10/site-packages/autots/evaluator/auto_model.py\", line 913, in predict\n",
      "    df_forecast = self.model.predict(\n",
      "  File \"/home/zeus/miniconda3/envs/cloudspace/lib/python3.10/site-packages/autots/models/basics.py\", line 1263, in predict\n",
      "    x = sliding_window_view(\n",
      "  File \"/home/zeus/miniconda3/envs/cloudspace/lib/python3.10/site-packages/autots/tools/window_functions.py\", line 461, in sliding_window_view\n",
      "    return np.lib.stride_tricks.sliding_window_view(\n",
      "  File \"/home/zeus/miniconda3/envs/cloudspace/lib/python3.10/site-packages/numpy/lib/stride_tricks.py\", line 332, in sliding_window_view\n",
      "    raise ValueError(\n",
      "ValueError: window shape cannot be larger than input array shape\n",
      "\n",
      "FAILED: Ensemble BestN component 4 of 3 UnivariateMotif with error: ValueError('window shape cannot be larger than input array shape')\n",
      "15 - Ensemble with avg smape 7.65: \n"
     ]
    },
    {
     "name": "stderr",
     "output_type": "stream",
     "text": [
      "/home/zeus/miniconda3/envs/cloudspace/lib/python3.10/site-packages/autots/tools/percentile.py:47: RuntimeWarning: All-NaN slice encountered\n",
      "  max_val = np.nanmax(arr)\n",
      "/home/zeus/miniconda3/envs/cloudspace/lib/python3.10/site-packages/autots/tools/percentile.py:47: RuntimeWarning: All-NaN slice encountered\n",
      "  max_val = np.nanmax(arr)\n"
     ]
    },
    {
     "name": "stdout",
     "output_type": "stream",
     "text": [
      "16 - Ensemble with avg smape 7.64: \n",
      "17 - Ensemble with avg smape 7.71: \n",
      "18 - Ensemble with avg smape 7.7: \n",
      "19 - Ensemble with avg smape 13.25: \n",
      "20 - Ensemble with avg smape 8.08: \n",
      "21 - Ensemble with avg smape 7.95: \n",
      "22 - Ensemble with avg smape 8.02: \n",
      "23 - Ensemble with avg smape 7.65: \n",
      "24 - Ensemble with avg smape 8.02: \n",
      "25 - Ensemble with avg smape 7.65: \n",
      "26 - Ensemble with avg smape 16.21: \n",
      "27 - Ensemble with avg smape 15.78: \n",
      "28 - Ensemble with avg smape 12.78: \n",
      "Model Number: 29 of 175 with model Ensemble for Validation 1\n",
      "Traceback (most recent call last):\n",
      "  File \"/home/zeus/miniconda3/envs/cloudspace/lib/python3.10/site-packages/autots/evaluator/auto_model.py\", line 1430, in model_forecast\n",
      "    df_forecast = model_forecast(\n",
      "  File \"/home/zeus/miniconda3/envs/cloudspace/lib/python3.10/site-packages/autots/evaluator/auto_model.py\", line 1566, in model_forecast\n",
      "    return model.predict(\n",
      "  File \"/home/zeus/miniconda3/envs/cloudspace/lib/python3.10/site-packages/autots/evaluator/auto_model.py\", line 913, in predict\n",
      "    df_forecast = self.model.predict(\n",
      "  File \"/home/zeus/miniconda3/envs/cloudspace/lib/python3.10/site-packages/autots/models/basics.py\", line 1263, in predict\n",
      "    x = sliding_window_view(\n",
      "  File \"/home/zeus/miniconda3/envs/cloudspace/lib/python3.10/site-packages/autots/tools/window_functions.py\", line 461, in sliding_window_view\n",
      "    return np.lib.stride_tricks.sliding_window_view(\n",
      "  File \"/home/zeus/miniconda3/envs/cloudspace/lib/python3.10/site-packages/numpy/lib/stride_tricks.py\", line 332, in sliding_window_view\n",
      "    raise ValueError(\n",
      "ValueError: window shape cannot be larger than input array shape\n",
      "\n",
      "FAILED: Ensemble BestN component 4 of 5 UnivariateMotif with error: ValueError('window shape cannot be larger than input array shape')\n"
     ]
    },
    {
     "name": "stderr",
     "output_type": "stream",
     "text": [
      "/home/zeus/miniconda3/envs/cloudspace/lib/python3.10/site-packages/autots/tools/percentile.py:47: RuntimeWarning: All-NaN slice encountered\n",
      "  max_val = np.nanmax(arr)\n",
      "/home/zeus/miniconda3/envs/cloudspace/lib/python3.10/site-packages/autots/tools/seasonal.py:896: RuntimeWarning: invalid value encountered in divide\n",
      "  scores = np.mean(np.abs(a - b) / divisor, axis=2)\n",
      "/home/zeus/miniconda3/envs/cloudspace/lib/python3.10/site-packages/autots/tools/seasonal.py:896: RuntimeWarning: invalid value encountered in divide\n",
      "  scores = np.mean(np.abs(a - b) / divisor, axis=2)\n",
      "/home/zeus/miniconda3/envs/cloudspace/lib/python3.10/site-packages/autots/tools/seasonal.py:896: RuntimeWarning: invalid value encountered in divide\n",
      "  scores = np.mean(np.abs(a - b) / divisor, axis=2)\n",
      "/home/zeus/miniconda3/envs/cloudspace/lib/python3.10/site-packages/autots/tools/percentile.py:47: RuntimeWarning: All-NaN slice encountered\n",
      "  max_val = np.nanmax(arr)\n"
     ]
    },
    {
     "name": "stdout",
     "output_type": "stream",
     "text": [
      "29 - Ensemble with avg smape 10.52: \n",
      "30 - Ensemble with avg smape 10.52: \n",
      "31 - Ensemble with avg smape 10.46: \n",
      "32 - Ensemble with avg smape 10.59: \n",
      "33 - Ensemble with avg smape 13.49: \n",
      "34 - Ensemble with avg smape 8.08: \n",
      "35 - Ensemble with avg smape 7.95: \n",
      "36 - Ensemble with avg smape 8.02: \n",
      "37 - Ensemble with avg smape 10.52: \n",
      "38 - Ensemble with avg smape 8.02: \n",
      "39 - Ensemble with avg smape 10.51: \n",
      "40 - Ensemble with avg smape 12.79: \n",
      "41 - Ensemble with avg smape 17.5: \n",
      "42 - Ensemble with avg smape 14.3: \n",
      "Model Number: 43 of 175 with model Ensemble for Validation 1\n",
      "43 - Ensemble with avg smape 7.74: \n",
      "44 - Ensemble with avg smape 7.74: \n",
      "45 - Ensemble with avg smape 7.78: \n",
      "46 - Ensemble with avg smape 7.76: \n",
      "47 - Ensemble with avg smape 13.25: \n",
      "48 - Ensemble with avg smape 8.08: \n",
      "49 - Ensemble with avg smape 7.95: \n",
      "50 - Ensemble with avg smape 8.02: \n",
      "51 - Ensemble with avg smape 7.74: \n",
      "52 - Ensemble with avg smape 8.02: \n",
      "53 - Ensemble with avg smape 7.73: \n",
      "54 - Ensemble with avg smape 16.31: \n",
      "55 - Ensemble with avg smape 15.74: \n",
      "56 - Ensemble with avg smape 12.75: \n",
      "Model Number: 57 of 175 with model Ensemble for Validation 1\n"
     ]
    },
    {
     "name": "stderr",
     "output_type": "stream",
     "text": [
      "/home/zeus/miniconda3/envs/cloudspace/lib/python3.10/site-packages/autots/tools/percentile.py:47: RuntimeWarning: All-NaN slice encountered\n",
      "  max_val = np.nanmax(arr)\n",
      "/home/zeus/miniconda3/envs/cloudspace/lib/python3.10/site-packages/autots/tools/seasonal.py:896: RuntimeWarning: invalid value encountered in divide\n",
      "  scores = np.mean(np.abs(a - b) / divisor, axis=2)\n",
      "/home/zeus/miniconda3/envs/cloudspace/lib/python3.10/site-packages/autots/tools/seasonal.py:896: RuntimeWarning: invalid value encountered in divide\n",
      "  scores = np.mean(np.abs(a - b) / divisor, axis=2)\n",
      "/home/zeus/miniconda3/envs/cloudspace/lib/python3.10/site-packages/autots/tools/seasonal.py:896: RuntimeWarning: invalid value encountered in divide\n",
      "  scores = np.mean(np.abs(a - b) / divisor, axis=2)\n",
      "/home/zeus/miniconda3/envs/cloudspace/lib/python3.10/site-packages/autots/tools/percentile.py:47: RuntimeWarning: All-NaN slice encountered\n",
      "  max_val = np.nanmax(arr)\n"
     ]
    },
    {
     "name": "stdout",
     "output_type": "stream",
     "text": [
      "57 - Ensemble with avg smape 7.75: \n",
      "58 - Ensemble with avg smape 7.75: \n",
      "59 - Ensemble with avg smape 7.79: \n",
      "60 - Ensemble with avg smape 7.76: \n",
      "61 - Ensemble with avg smape 13.25: \n",
      "62 - Ensemble with avg smape 8.06: \n",
      "63 - Ensemble with avg smape 7.93: \n",
      "64 - Ensemble with avg smape 8.02: \n",
      "65 - Ensemble with avg smape 7.75: \n",
      "66 - Ensemble with avg smape 8.02: \n",
      "67 - Ensemble with avg smape 7.74: \n",
      "68 - Ensemble with avg smape 16.33: \n",
      "69 - Ensemble with avg smape 15.74: \n",
      "70 - Ensemble with avg smape 12.75: \n",
      "Model Number: 71 of 175 with model Ensemble for Validation 1\n"
     ]
    },
    {
     "name": "stderr",
     "output_type": "stream",
     "text": [
      "/home/zeus/miniconda3/envs/cloudspace/lib/python3.10/site-packages/autots/tools/seasonal.py:896: RuntimeWarning: invalid value encountered in divide\n",
      "  scores = np.mean(np.abs(a - b) / divisor, axis=2)\n",
      "/home/zeus/miniconda3/envs/cloudspace/lib/python3.10/site-packages/autots/tools/seasonal.py:896: RuntimeWarning: invalid value encountered in divide\n",
      "  scores = np.mean(np.abs(a - b) / divisor, axis=2)\n",
      "/home/zeus/miniconda3/envs/cloudspace/lib/python3.10/site-packages/autots/tools/seasonal.py:896: RuntimeWarning: invalid value encountered in divide\n",
      "  scores = np.mean(np.abs(a - b) / divisor, axis=2)\n",
      "/home/zeus/miniconda3/envs/cloudspace/lib/python3.10/site-packages/autots/tools/percentile.py:47: RuntimeWarning: All-NaN slice encountered\n",
      "  max_val = np.nanmax(arr)\n"
     ]
    },
    {
     "name": "stdout",
     "output_type": "stream",
     "text": [
      "Traceback (most recent call last):\n",
      "  File \"/home/zeus/miniconda3/envs/cloudspace/lib/python3.10/site-packages/autots/evaluator/auto_model.py\", line 1430, in model_forecast\n",
      "    df_forecast = model_forecast(\n",
      "  File \"/home/zeus/miniconda3/envs/cloudspace/lib/python3.10/site-packages/autots/evaluator/auto_model.py\", line 1566, in model_forecast\n",
      "    return model.predict(\n",
      "  File \"/home/zeus/miniconda3/envs/cloudspace/lib/python3.10/site-packages/autots/evaluator/auto_model.py\", line 913, in predict\n",
      "    df_forecast = self.model.predict(\n",
      "  File \"/home/zeus/miniconda3/envs/cloudspace/lib/python3.10/site-packages/autots/models/basics.py\", line 1263, in predict\n",
      "    x = sliding_window_view(\n",
      "  File \"/home/zeus/miniconda3/envs/cloudspace/lib/python3.10/site-packages/autots/tools/window_functions.py\", line 461, in sliding_window_view\n",
      "    return np.lib.stride_tricks.sliding_window_view(\n",
      "  File \"/home/zeus/miniconda3/envs/cloudspace/lib/python3.10/site-packages/numpy/lib/stride_tricks.py\", line 332, in sliding_window_view\n",
      "    raise ValueError(\n",
      "ValueError: window shape cannot be larger than input array shape\n",
      "\n",
      "FAILED: Ensemble BestN component 4 of 3 UnivariateMotif with error: ValueError('window shape cannot be larger than input array shape')\n",
      "71 - Ensemble with avg smape 7.65: \n",
      "72 - Ensemble with avg smape 7.64: \n",
      "73 - Ensemble with avg smape 7.71: \n",
      "74 - Ensemble with avg smape 7.7: \n",
      "75 - Ensemble with avg smape 13.25: \n",
      "76 - Ensemble with avg smape 8.08: \n",
      "77 - Ensemble with avg smape 7.95: \n",
      "78 - Ensemble with avg smape 8.02: \n",
      "79 - Ensemble with avg smape 7.65: \n",
      "80 - Ensemble with avg smape 8.02: \n",
      "81 - Ensemble with avg smape 7.65: \n",
      "82 - Ensemble with avg smape 16.21: \n",
      "83 - Ensemble with avg smape 15.78: \n",
      "84 - Ensemble with avg smape 12.78: \n",
      "Model Number: 85 of 175 with model Ensemble for Validation 1\n",
      "Traceback (most recent call last):\n",
      "  File \"/home/zeus/miniconda3/envs/cloudspace/lib/python3.10/site-packages/autots/evaluator/auto_model.py\", line 1430, in model_forecast\n",
      "    df_forecast = model_forecast(\n",
      "  File \"/home/zeus/miniconda3/envs/cloudspace/lib/python3.10/site-packages/autots/evaluator/auto_model.py\", line 1566, in model_forecast\n",
      "    return model.predict(\n",
      "  File \"/home/zeus/miniconda3/envs/cloudspace/lib/python3.10/site-packages/autots/evaluator/auto_model.py\", line 913, in predict\n",
      "    df_forecast = self.model.predict(\n",
      "  File \"/home/zeus/miniconda3/envs/cloudspace/lib/python3.10/site-packages/autots/models/basics.py\", line 1263, in predict\n",
      "    x = sliding_window_view(\n",
      "  File \"/home/zeus/miniconda3/envs/cloudspace/lib/python3.10/site-packages/autots/tools/window_functions.py\", line 461, in sliding_window_view\n",
      "    return np.lib.stride_tricks.sliding_window_view(\n",
      "  File \"/home/zeus/miniconda3/envs/cloudspace/lib/python3.10/site-packages/numpy/lib/stride_tricks.py\", line 332, in sliding_window_view\n",
      "    raise ValueError(\n",
      "ValueError: window shape cannot be larger than input array shape\n",
      "\n",
      "FAILED: Ensemble BestN component 4 of 3 UnivariateMotif with error: ValueError('window shape cannot be larger than input array shape')\n",
      "85 - Ensemble with avg smape 7.65: \n",
      "86 - Ensemble with avg smape 7.64: \n",
      "87 - Ensemble with avg smape 7.71: \n",
      "88 - Ensemble with avg smape 7.7: \n",
      "89 - Ensemble with avg smape 13.25: \n",
      "90 - Ensemble with avg smape 8.08: \n",
      "91 - Ensemble with avg smape 7.95: \n",
      "92 - Ensemble with avg smape 8.02: \n",
      "93 - Ensemble with avg smape 7.65: \n",
      "94 - Ensemble with avg smape 8.02: \n",
      "95 - Ensemble with avg smape 7.65: \n",
      "96 - Ensemble with avg smape 16.21: \n",
      "97 - Ensemble with avg smape 15.78: \n",
      "98 - Ensemble with avg smape 12.78: \n",
      "Model Number: 99 of 175 with model Ensemble for Validation 1\n"
     ]
    },
    {
     "name": "stderr",
     "output_type": "stream",
     "text": [
      "/home/zeus/miniconda3/envs/cloudspace/lib/python3.10/site-packages/autots/tools/percentile.py:47: RuntimeWarning: All-NaN slice encountered\n",
      "  max_val = np.nanmax(arr)\n",
      "/home/zeus/miniconda3/envs/cloudspace/lib/python3.10/site-packages/autots/tools/percentile.py:47: RuntimeWarning: All-NaN slice encountered\n",
      "  max_val = np.nanmax(arr)\n"
     ]
    },
    {
     "name": "stdout",
     "output_type": "stream",
     "text": [
      "Traceback (most recent call last):\n",
      "  File \"/home/zeus/miniconda3/envs/cloudspace/lib/python3.10/site-packages/autots/evaluator/auto_model.py\", line 1430, in model_forecast\n",
      "    df_forecast = model_forecast(\n",
      "  File \"/home/zeus/miniconda3/envs/cloudspace/lib/python3.10/site-packages/autots/evaluator/auto_model.py\", line 1566, in model_forecast\n",
      "    return model.predict(\n",
      "  File \"/home/zeus/miniconda3/envs/cloudspace/lib/python3.10/site-packages/autots/evaluator/auto_model.py\", line 913, in predict\n",
      "    df_forecast = self.model.predict(\n",
      "  File \"/home/zeus/miniconda3/envs/cloudspace/lib/python3.10/site-packages/autots/models/basics.py\", line 1263, in predict\n",
      "    x = sliding_window_view(\n",
      "  File \"/home/zeus/miniconda3/envs/cloudspace/lib/python3.10/site-packages/autots/tools/window_functions.py\", line 461, in sliding_window_view\n",
      "    return np.lib.stride_tricks.sliding_window_view(\n",
      "  File \"/home/zeus/miniconda3/envs/cloudspace/lib/python3.10/site-packages/numpy/lib/stride_tricks.py\", line 332, in sliding_window_view\n",
      "    raise ValueError(\n",
      "ValueError: window shape cannot be larger than input array shape\n",
      "\n",
      "FAILED: Ensemble BestN component 4 of 3 UnivariateMotif with error: ValueError('window shape cannot be larger than input array shape')\n",
      "99 - Ensemble with avg smape 7.65: \n",
      "100 - Ensemble with avg smape 7.64: \n",
      "101 - Ensemble with avg smape 7.71: \n",
      "102 - Ensemble with avg smape 7.7: \n",
      "103 - Ensemble with avg smape 13.25: \n",
      "104 - Ensemble with avg smape 8.08: \n",
      "105 - Ensemble with avg smape 7.95: \n",
      "106 - Ensemble with avg smape 8.02: \n",
      "107 - Ensemble with avg smape 7.65: \n",
      "108 - Ensemble with avg smape 8.02: \n",
      "109 - Ensemble with avg smape 7.65: \n",
      "110 - Ensemble with avg smape 16.21: \n",
      "111 - Ensemble with avg smape 15.78: \n",
      "112 - Ensemble with avg smape 12.78: \n",
      "Model Number: 113 of 175 with model Ensemble for Validation 1\n",
      "Traceback (most recent call last):\n",
      "  File \"/home/zeus/miniconda3/envs/cloudspace/lib/python3.10/site-packages/autots/evaluator/auto_model.py\", line 1430, in model_forecast\n",
      "    df_forecast = model_forecast(\n",
      "  File \"/home/zeus/miniconda3/envs/cloudspace/lib/python3.10/site-packages/autots/evaluator/auto_model.py\", line 1566, in model_forecast\n",
      "    return model.predict(\n",
      "  File \"/home/zeus/miniconda3/envs/cloudspace/lib/python3.10/site-packages/autots/evaluator/auto_model.py\", line 913, in predict\n",
      "    df_forecast = self.model.predict(\n",
      "  File \"/home/zeus/miniconda3/envs/cloudspace/lib/python3.10/site-packages/autots/models/basics.py\", line 1263, in predict\n",
      "    x = sliding_window_view(\n",
      "  File \"/home/zeus/miniconda3/envs/cloudspace/lib/python3.10/site-packages/autots/tools/window_functions.py\", line 461, in sliding_window_view\n",
      "    return np.lib.stride_tricks.sliding_window_view(\n",
      "  File \"/home/zeus/miniconda3/envs/cloudspace/lib/python3.10/site-packages/numpy/lib/stride_tricks.py\", line 332, in sliding_window_view\n",
      "    raise ValueError(\n",
      "ValueError: window shape cannot be larger than input array shape\n",
      "\n",
      "FAILED: Ensemble BestN component 4 of 3 UnivariateMotif with error: ValueError('window shape cannot be larger than input array shape')\n",
      "113 - Ensemble with avg smape 7.65: \n",
      "114 - Ensemble with avg smape 7.64: \n",
      "115 - Ensemble with avg smape 7.71: \n",
      "116 - Ensemble with avg smape 7.7: \n",
      "117 - Ensemble with avg smape 13.25: \n",
      "118 - Ensemble with avg smape 8.08: \n",
      "119 - Ensemble with avg smape 7.95: \n",
      "120 - Ensemble with avg smape 8.02: \n",
      "121 - Ensemble with avg smape 7.65: \n",
      "122 - Ensemble with avg smape 8.02: \n",
      "123 - Ensemble with avg smape 7.65: \n",
      "124 - Ensemble with avg smape 16.21: \n",
      "125 - Ensemble with avg smape 15.78: \n",
      "126 - Ensemble with avg smape 12.78: \n",
      "Model Number: 127 of 175 with model Ensemble for Validation 1\n",
      "Traceback (most recent call last):\n",
      "  File \"/home/zeus/miniconda3/envs/cloudspace/lib/python3.10/site-packages/autots/evaluator/auto_model.py\", line 1430, in model_forecast\n",
      "    df_forecast = model_forecast(\n",
      "  File \"/home/zeus/miniconda3/envs/cloudspace/lib/python3.10/site-packages/autots/evaluator/auto_model.py\", line 1566, in model_forecast\n",
      "    return model.predict(\n",
      "  File \"/home/zeus/miniconda3/envs/cloudspace/lib/python3.10/site-packages/autots/evaluator/auto_model.py\", line 913, in predict\n",
      "    df_forecast = self.model.predict(\n",
      "  File \"/home/zeus/miniconda3/envs/cloudspace/lib/python3.10/site-packages/autots/models/basics.py\", line 1263, in predict\n",
      "    x = sliding_window_view(\n",
      "  File \"/home/zeus/miniconda3/envs/cloudspace/lib/python3.10/site-packages/autots/tools/window_functions.py\", line 461, in sliding_window_view\n",
      "    return np.lib.stride_tricks.sliding_window_view(\n",
      "  File \"/home/zeus/miniconda3/envs/cloudspace/lib/python3.10/site-packages/numpy/lib/stride_tricks.py\", line 332, in sliding_window_view\n",
      "    raise ValueError(\n",
      "ValueError: window shape cannot be larger than input array shape\n",
      "\n",
      "FAILED: Ensemble BestN component 4 of 5 UnivariateMotif with error: ValueError('window shape cannot be larger than input array shape')\n"
     ]
    },
    {
     "name": "stderr",
     "output_type": "stream",
     "text": [
      "/home/zeus/miniconda3/envs/cloudspace/lib/python3.10/site-packages/autots/tools/percentile.py:47: RuntimeWarning: All-NaN slice encountered\n",
      "  max_val = np.nanmax(arr)\n",
      "/home/zeus/miniconda3/envs/cloudspace/lib/python3.10/site-packages/autots/tools/percentile.py:47: RuntimeWarning: All-NaN slice encountered\n",
      "  max_val = np.nanmax(arr)\n",
      "/home/zeus/miniconda3/envs/cloudspace/lib/python3.10/site-packages/autots/tools/seasonal.py:896: RuntimeWarning: invalid value encountered in divide\n",
      "  scores = np.mean(np.abs(a - b) / divisor, axis=2)\n",
      "/home/zeus/miniconda3/envs/cloudspace/lib/python3.10/site-packages/autots/tools/seasonal.py:896: RuntimeWarning: invalid value encountered in divide\n",
      "  scores = np.mean(np.abs(a - b) / divisor, axis=2)\n",
      "/home/zeus/miniconda3/envs/cloudspace/lib/python3.10/site-packages/autots/tools/seasonal.py:896: RuntimeWarning: invalid value encountered in divide\n",
      "  scores = np.mean(np.abs(a - b) / divisor, axis=2)\n",
      "/home/zeus/miniconda3/envs/cloudspace/lib/python3.10/site-packages/autots/tools/percentile.py:47: RuntimeWarning: All-NaN slice encountered\n",
      "  max_val = np.nanmax(arr)\n"
     ]
    },
    {
     "name": "stdout",
     "output_type": "stream",
     "text": [
      "127 - Ensemble with avg smape 10.52: \n",
      "128 - Ensemble with avg smape 10.52: \n",
      "129 - Ensemble with avg smape 10.46: \n",
      "130 - Ensemble with avg smape 10.59: \n",
      "131 - Ensemble with avg smape 13.49: \n",
      "132 - Ensemble with avg smape 8.08: \n",
      "133 - Ensemble with avg smape 7.95: \n",
      "134 - Ensemble with avg smape 8.02: \n",
      "135 - Ensemble with avg smape 10.52: \n",
      "136 - Ensemble with avg smape 8.02: \n",
      "137 - Ensemble with avg smape 10.51: \n",
      "138 - Ensemble with avg smape 12.79: \n",
      "139 - Ensemble with avg smape 17.5: \n",
      "140 - Ensemble with avg smape 14.3: \n",
      "Model Number: 141 of 175 with model MetricMotif for Validation 1\n",
      "141 - MetricMotif with avg smape 7.8: \n",
      "Model Number: 142 of 175 with model AverageValueNaive for Validation 1\n",
      "📈 142 - AverageValueNaive with avg smape 7.49: \n",
      "Model Number: 143 of 175 with model UnivariateMotif for Validation 1\n",
      "Template Eval Error: ValueError('window shape cannot be larger than input array shape') in model 143 in generation 0: UnivariateMotif\n",
      "Model Number: 144 of 175 with model UnivariateMotif for Validation 1\n",
      "Template Eval Error: ValueError('window shape cannot be larger than input array shape') in model 144 in generation 0: UnivariateMotif\n",
      "Model Number: 145 of 175 with model UnivariateMotif for Validation 1\n",
      "Template Eval Error: ValueError('window shape cannot be larger than input array shape') in model 145 in generation 0: UnivariateMotif\n",
      "Model Number: 146 of 175 with model UnivariateMotif for Validation 1\n",
      "Template Eval Error: ValueError('window shape cannot be larger than input array shape') in model 146 in generation 0: UnivariateMotif\n",
      "Model Number: 147 of 175 with model UnivariateMotif for Validation 1\n",
      "Template Eval Error: ValueError('window shape cannot be larger than input array shape') in model 147 in generation 0: UnivariateMotif\n",
      "Model Number: 148 of 175 with model UnivariateMotif for Validation 1\n",
      "Template Eval Error: ValueError('window shape cannot be larger than input array shape') in model 148 in generation 0: UnivariateMotif\n",
      "Model Number: 149 of 175 with model UnivariateMotif for Validation 1\n",
      "Template Eval Error: ValueError('window shape cannot be larger than input array shape') in model 149 in generation 0: UnivariateMotif\n",
      "Model Number: 150 of 175 with model UnivariateMotif for Validation 1\n",
      "Template Eval Error: ValueError('window shape cannot be larger than input array shape') in model 150 in generation 0: UnivariateMotif\n",
      "Model Number: 151 of 175 with model UnivariateMotif for Validation 1\n",
      "Template Eval Error: ValueError('window shape cannot be larger than input array shape') in model 151 in generation 0: UnivariateMotif\n",
      "Model Number: 152 of 175 with model UnivariateMotif for Validation 1\n",
      "Template Eval Error: ValueError('window shape cannot be larger than input array shape') in model 152 in generation 0: UnivariateMotif\n",
      "Model Number: 153 of 175 with model SectionalMotif for Validation 1\n",
      "153 - SectionalMotif with avg smape 7.97: \n",
      "Model Number: 154 of 175 with model AverageValueNaive for Validation 1\n",
      "154 - AverageValueNaive with avg smape 7.52: \n",
      "Model Number: 155 of 175 with model AverageValueNaive for Validation 1\n",
      "155 - AverageValueNaive with avg smape 7.52: \n",
      "Model Number: 156 of 175 with model AverageValueNaive for Validation 1\n",
      "156 - AverageValueNaive with avg smape 7.52: \n",
      "Model Number: 157 of 175 with model AverageValueNaive for Validation 1\n",
      "157 - AverageValueNaive with avg smape 7.49: \n",
      "Model Number: 158 of 175 with model AverageValueNaive for Validation 1\n",
      "158 - AverageValueNaive with avg smape 7.49: \n",
      "Model Number: 159 of 175 with model AverageValueNaive for Validation 1\n",
      "159 - AverageValueNaive with avg smape 7.49: \n",
      "Model Number: 160 of 175 with model MetricMotif for Validation 1\n",
      "Template Eval Error: ValueError('window shape cannot be larger than input array shape') in model 160 in generation 0: MetricMotif\n",
      "Model Number: 161 of 175 with model SectionalMotif for Validation 1\n"
     ]
    },
    {
     "name": "stderr",
     "output_type": "stream",
     "text": [
      "/home/zeus/miniconda3/envs/cloudspace/lib/python3.10/site-packages/autots/tools/percentile.py:47: RuntimeWarning: All-NaN slice encountered\n",
      "  max_val = np.nanmax(arr)\n",
      "/home/zeus/miniconda3/envs/cloudspace/lib/python3.10/site-packages/autots/tools/seasonal.py:896: RuntimeWarning: invalid value encountered in divide\n",
      "  scores = np.mean(np.abs(a - b) / divisor, axis=2)\n",
      "/home/zeus/miniconda3/envs/cloudspace/lib/python3.10/site-packages/autots/tools/seasonal.py:896: RuntimeWarning: invalid value encountered in divide\n",
      "  scores = np.mean(np.abs(a - b) / divisor, axis=2)\n",
      "/home/zeus/miniconda3/envs/cloudspace/lib/python3.10/site-packages/autots/tools/seasonal.py:896: RuntimeWarning: invalid value encountered in divide\n",
      "  scores = np.mean(np.abs(a - b) / divisor, axis=2)\n",
      "/home/zeus/miniconda3/envs/cloudspace/lib/python3.10/site-packages/autots/tools/seasonal.py:896: RuntimeWarning: invalid value encountered in divide\n",
      "  scores = np.mean(np.abs(a - b) / divisor, axis=2)\n",
      "/home/zeus/miniconda3/envs/cloudspace/lib/python3.10/site-packages/autots/tools/seasonal.py:896: RuntimeWarning: invalid value encountered in divide\n",
      "  scores = np.mean(np.abs(a - b) / divisor, axis=2)\n",
      "/home/zeus/miniconda3/envs/cloudspace/lib/python3.10/site-packages/autots/tools/seasonal.py:896: RuntimeWarning: invalid value encountered in divide\n",
      "  scores = np.mean(np.abs(a - b) / divisor, axis=2)\n",
      "/home/zeus/miniconda3/envs/cloudspace/lib/python3.10/site-packages/autots/tools/seasonal.py:896: RuntimeWarning: invalid value encountered in divide\n",
      "  scores = np.mean(np.abs(a - b) / divisor, axis=2)\n",
      "/home/zeus/miniconda3/envs/cloudspace/lib/python3.10/site-packages/autots/tools/seasonal.py:896: RuntimeWarning: invalid value encountered in divide\n",
      "  scores = np.mean(np.abs(a - b) / divisor, axis=2)\n",
      "/home/zeus/miniconda3/envs/cloudspace/lib/python3.10/site-packages/autots/tools/seasonal.py:896: RuntimeWarning: invalid value encountered in divide\n",
      "  scores = np.mean(np.abs(a - b) / divisor, axis=2)\n"
     ]
    },
    {
     "name": "stdout",
     "output_type": "stream",
     "text": [
      "161 - SectionalMotif with avg smape 7.96: \n",
      "Model Number: 162 of 175 with model SectionalMotif for Validation 1\n",
      "162 - SectionalMotif with avg smape 7.96: \n",
      "Model Number: 163 of 175 with model MetricMotif for Validation 1\n",
      "Template Eval Error: ValueError('window shape cannot be larger than input array shape') in model 163 in generation 0: MetricMotif\n",
      "Model Number: 164 of 175 with model MetricMotif for Validation 1\n",
      "Template Eval Error: ValueError('window shape cannot be larger than input array shape') in model 164 in generation 0: MetricMotif\n",
      "Model Number: 165 of 175 with model MetricMotif for Validation 1\n",
      "Template Eval Error: ValueError('window shape cannot be larger than input array shape') in model 165 in generation 0: MetricMotif\n",
      "Model Number: 166 of 175 with model MetricMotif for Validation 1\n",
      "Template Eval Error: ValueError('window shape cannot be larger than input array shape') in model 166 in generation 0: MetricMotif\n",
      "Model Number: 167 of 175 with model AverageValueNaive for Validation 1\n",
      "167 - AverageValueNaive with avg smape 7.5: \n",
      "Model Number: 168 of 175 with model SectionalMotif for Validation 1\n",
      "168 - SectionalMotif with avg smape 7.92: \n",
      "Model Number: 169 of 175 with model SectionalMotif for Validation 1\n",
      "169 - SectionalMotif with avg smape 7.92: \n",
      "Model Number: 170 of 175 with model SectionalMotif for Validation 1\n",
      "170 - SectionalMotif with avg smape 7.92: \n",
      "Model Number: 171 of 175 with model SectionalMotif for Validation 1\n",
      "171 - SectionalMotif with avg smape 7.92: \n",
      "Model Number: 172 of 175 with model MetricMotif for Validation 1\n",
      "Template Eval Error: ValueError('window shape cannot be larger than input array shape') in model 172 in generation 0: MetricMotif\n",
      "Model Number: 173 of 175 with model AverageValueNaive for Validation 1\n",
      "173 - AverageValueNaive with avg smape 7.5: \n",
      "Model Number: 174 of 175 with model AverageValueNaive for Validation 1\n",
      "174 - AverageValueNaive with avg smape 7.49: \n",
      "Model Number: 175 of 175 with model MetricMotif for Validation 1\n",
      "Template Eval Error: ValueError('window shape cannot be larger than input array shape') in model 175 in generation 0: MetricMotif\n",
      "Model Number: 176 of 175 with model MetricMotif for Validation 1\n",
      "Template Eval Error: ValueError('window shape cannot be larger than input array shape') in model 176 in generation 0: MetricMotif\n",
      "Model Number: 177 of 175 with model SectionalMotif for Validation 1\n",
      "177 - SectionalMotif with avg smape 7.92: \n",
      "Model Number: 178 of 175 with model MetricMotif for Validation 1\n",
      "Template Eval Error: ValueError('window shape cannot be larger than input array shape') in model 178 in generation 0: MetricMotif\n",
      "Model Number: 179 of 175 with model SectionalMotif for Validation 1\n"
     ]
    },
    {
     "name": "stderr",
     "output_type": "stream",
     "text": [
      "/home/zeus/miniconda3/envs/cloudspace/lib/python3.10/site-packages/autots/tools/percentile.py:47: RuntimeWarning: All-NaN slice encountered\n",
      "  max_val = np.nanmax(arr)\n",
      "/home/zeus/miniconda3/envs/cloudspace/lib/python3.10/site-packages/autots/tools/seasonal.py:896: RuntimeWarning: invalid value encountered in divide\n",
      "  scores = np.mean(np.abs(a - b) / divisor, axis=2)\n",
      "/home/zeus/miniconda3/envs/cloudspace/lib/python3.10/site-packages/autots/tools/seasonal.py:896: RuntimeWarning: invalid value encountered in divide\n",
      "  scores = np.mean(np.abs(a - b) / divisor, axis=2)\n",
      "/home/zeus/miniconda3/envs/cloudspace/lib/python3.10/site-packages/autots/tools/seasonal.py:896: RuntimeWarning: invalid value encountered in divide\n",
      "  scores = np.mean(np.abs(a - b) / divisor, axis=2)\n",
      "/home/zeus/miniconda3/envs/cloudspace/lib/python3.10/site-packages/autots/tools/seasonal.py:896: RuntimeWarning: invalid value encountered in divide\n",
      "  scores = np.mean(np.abs(a - b) / divisor, axis=2)\n",
      "/home/zeus/miniconda3/envs/cloudspace/lib/python3.10/site-packages/autots/tools/seasonal.py:896: RuntimeWarning: invalid value encountered in divide\n",
      "  scores = np.mean(np.abs(a - b) / divisor, axis=2)\n",
      "/home/zeus/miniconda3/envs/cloudspace/lib/python3.10/site-packages/autots/tools/seasonal.py:896: RuntimeWarning: invalid value encountered in divide\n",
      "  scores = np.mean(np.abs(a - b) / divisor, axis=2)\n",
      "/home/zeus/miniconda3/envs/cloudspace/lib/python3.10/site-packages/autots/tools/seasonal.py:896: RuntimeWarning: invalid value encountered in divide\n",
      "  scores = np.mean(np.abs(a - b) / divisor, axis=2)\n",
      "/home/zeus/miniconda3/envs/cloudspace/lib/python3.10/site-packages/autots/tools/seasonal.py:896: RuntimeWarning: invalid value encountered in divide\n",
      "  scores = np.mean(np.abs(a - b) / divisor, axis=2)\n",
      "/home/zeus/miniconda3/envs/cloudspace/lib/python3.10/site-packages/autots/tools/seasonal.py:896: RuntimeWarning: invalid value encountered in divide\n",
      "  scores = np.mean(np.abs(a - b) / divisor, axis=2)\n",
      "/home/zeus/miniconda3/envs/cloudspace/lib/python3.10/site-packages/autots/tools/seasonal.py:896: RuntimeWarning: invalid value encountered in divide\n",
      "  scores = np.mean(np.abs(a - b) / divisor, axis=2)\n",
      "/home/zeus/miniconda3/envs/cloudspace/lib/python3.10/site-packages/autots/tools/seasonal.py:896: RuntimeWarning: invalid value encountered in divide\n",
      "  scores = np.mean(np.abs(a - b) / divisor, axis=2)\n",
      "/home/zeus/miniconda3/envs/cloudspace/lib/python3.10/site-packages/autots/tools/seasonal.py:896: RuntimeWarning: invalid value encountered in divide\n",
      "  scores = np.mean(np.abs(a - b) / divisor, axis=2)\n",
      "/home/zeus/miniconda3/envs/cloudspace/lib/python3.10/site-packages/autots/tools/percentile.py:47: RuntimeWarning: All-NaN slice encountered\n",
      "  max_val = np.nanmax(arr)\n",
      "/home/zeus/miniconda3/envs/cloudspace/lib/python3.10/site-packages/sklearn/neighbors/_classification.py:233: DataConversionWarning: A column-vector y was passed when a 1d array was expected. Please change the shape of y to (n_samples,), for example using ravel().\n",
      "  return self._fit(X, y)\n",
      "/home/zeus/miniconda3/envs/cloudspace/lib/python3.10/site-packages/autots/tools/seasonal.py:896: RuntimeWarning: invalid value encountered in divide\n",
      "  scores = np.mean(np.abs(a - b) / divisor, axis=2)\n",
      "/home/zeus/miniconda3/envs/cloudspace/lib/python3.10/site-packages/autots/tools/seasonal.py:896: RuntimeWarning: invalid value encountered in divide\n",
      "  scores = np.mean(np.abs(a - b) / divisor, axis=2)\n",
      "/home/zeus/miniconda3/envs/cloudspace/lib/python3.10/site-packages/autots/tools/seasonal.py:896: RuntimeWarning: invalid value encountered in divide\n",
      "  scores = np.mean(np.abs(a - b) / divisor, axis=2)\n",
      "/home/zeus/miniconda3/envs/cloudspace/lib/python3.10/site-packages/autots/tools/seasonal.py:896: RuntimeWarning: invalid value encountered in divide\n",
      "  scores = np.mean(np.abs(a - b) / divisor, axis=2)\n",
      "/home/zeus/miniconda3/envs/cloudspace/lib/python3.10/site-packages/autots/tools/seasonal.py:896: RuntimeWarning: invalid value encountered in divide\n",
      "  scores = np.mean(np.abs(a - b) / divisor, axis=2)\n",
      "/home/zeus/miniconda3/envs/cloudspace/lib/python3.10/site-packages/autots/tools/seasonal.py:896: RuntimeWarning: invalid value encountered in divide\n",
      "  scores = np.mean(np.abs(a - b) / divisor, axis=2)\n"
     ]
    },
    {
     "name": "stdout",
     "output_type": "stream",
     "text": [
      "179 - SectionalMotif with avg smape 7.96: \n",
      "Model Number: 180 of 175 with model ARDL for Validation 1\n"
     ]
    },
    {
     "name": "stderr",
     "output_type": "stream",
     "text": [
      "/home/zeus/miniconda3/envs/cloudspace/lib/python3.10/site-packages/autots/tools/percentile.py:47: RuntimeWarning: All-NaN slice encountered\n",
      "  max_val = np.nanmax(arr)\n"
     ]
    },
    {
     "name": "stdout",
     "output_type": "stream",
     "text": [
      "180 - ARDL with avg smape 30.82: \n",
      "Model Number: 181 of 175 with model SectionalMotif for Validation 1\n",
      "181 - SectionalMotif with avg smape 7.96: \n",
      "Model Number: 182 of 175 with model ARDL for Validation 1\n"
     ]
    },
    {
     "name": "stderr",
     "output_type": "stream",
     "text": [
      "/home/zeus/miniconda3/envs/cloudspace/lib/python3.10/site-packages/autots/tools/seasonal.py:896: RuntimeWarning: invalid value encountered in divide\n",
      "  scores = np.mean(np.abs(a - b) / divisor, axis=2)\n",
      "/home/zeus/miniconda3/envs/cloudspace/lib/python3.10/site-packages/autots/tools/seasonal.py:896: RuntimeWarning: invalid value encountered in divide\n",
      "  scores = np.mean(np.abs(a - b) / divisor, axis=2)\n",
      "/home/zeus/miniconda3/envs/cloudspace/lib/python3.10/site-packages/autots/tools/seasonal.py:896: RuntimeWarning: invalid value encountered in divide\n",
      "  scores = np.mean(np.abs(a - b) / divisor, axis=2)\n"
     ]
    },
    {
     "name": "stdout",
     "output_type": "stream",
     "text": [
      "182 - ARDL with avg smape 32.11: \n",
      "Model Number: 183 of 175 with model BasicLinearModel for Validation 1\n",
      "183 - BasicLinearModel with avg smape 7.67: \n",
      "Model Number: 184 of 175 with model WindowRegression for Validation 1\n",
      "Template Eval Error: ValueError('at least one array or dtype is required') in model 184 in generation 0: WindowRegression\n",
      "Model Number: 185 of 175 with model ConstantNaive for Validation 1\n",
      "185 - ConstantNaive with avg smape 7.74: \n",
      "Model Number: 186 of 175 with model BasicLinearModel for Validation 1\n"
     ]
    },
    {
     "name": "stderr",
     "output_type": "stream",
     "text": [
      "/home/zeus/miniconda3/envs/cloudspace/lib/python3.10/site-packages/autots/tools/thresholding.py:204: RuntimeWarning: overflow encountered in scalar power\n",
      "  (1 + mean_perc_decrease) ** self.mean_weight\n"
     ]
    },
    {
     "name": "stdout",
     "output_type": "stream",
     "text": [
      "186 - BasicLinearModel with avg smape 7.98: \n",
      "Model Number: 187 of 175 with model BasicLinearModel for Validation 1\n",
      "187 - BasicLinearModel with avg smape 8.05: \n",
      "Model Number: 188 of 175 with model BasicLinearModel for Validation 1\n",
      "188 - BasicLinearModel with avg smape 8.05: \n",
      "Model Number: 189 of 175 with model LastValueNaive for Validation 1\n",
      "189 - LastValueNaive with avg smape 7.9: \n",
      "Model Number: 190 of 175 with model LastValueNaive for Validation 1\n",
      "190 - LastValueNaive with avg smape 7.9: \n",
      "Model Number: 191 of 175 with model LastValueNaive for Validation 1\n",
      "191 - LastValueNaive with avg smape 7.9: \n",
      "Model Number: 192 of 175 with model LastValueNaive for Validation 1\n",
      "192 - LastValueNaive with avg smape 7.9: \n",
      "Model Number: 193 of 175 with model LastValueNaive for Validation 1\n",
      "193 - LastValueNaive with avg smape 8.0: \n",
      "Model Number: 194 of 175 with model LastValueNaive for Validation 1\n",
      "194 - LastValueNaive with avg smape 8.0: \n",
      "Model Number: 195 of 175 with model BasicLinearModel for Validation 1\n",
      "195 - BasicLinearModel with avg smape 7.92: \n",
      "Model Number: 196 of 175 with model LastValueNaive for Validation 1\n",
      "196 - LastValueNaive with avg smape 8.01: \n",
      "Model Number: 197 of 175 with model LastValueNaive for Validation 1\n",
      "197 - LastValueNaive with avg smape 8.01: \n",
      "Model Number: 198 of 175 with model LastValueNaive for Validation 1\n",
      "198 - LastValueNaive with avg smape 8.01: \n",
      "Model Number: 199 of 175 with model LastValueNaive for Validation 1\n",
      "199 - LastValueNaive with avg smape 8.01: \n",
      "Model Number: 200 of 175 with model Cassandra for Validation 1\n"
     ]
    },
    {
     "name": "stderr",
     "output_type": "stream",
     "text": [
      "/home/zeus/miniconda3/envs/cloudspace/lib/python3.10/site-packages/numpy/lib/function_base.py:2897: RuntimeWarning: invalid value encountered in divide\n",
      "  c /= stddev[:, None]\n",
      "/home/zeus/miniconda3/envs/cloudspace/lib/python3.10/site-packages/numpy/lib/function_base.py:2898: RuntimeWarning: invalid value encountered in divide\n",
      "  c /= stddev[None, :]\n",
      "/home/zeus/miniconda3/envs/cloudspace/lib/python3.10/site-packages/sklearn/base.py:458: UserWarning: X has feature names, but StandardScaler was fitted without feature names\n",
      "  warnings.warn(\n",
      "/home/zeus/miniconda3/envs/cloudspace/lib/python3.10/site-packages/sklearn/base.py:458: UserWarning: X has feature names, but StandardScaler was fitted without feature names\n",
      "  warnings.warn(\n",
      "/home/zeus/miniconda3/envs/cloudspace/lib/python3.10/site-packages/sklearn/base.py:458: UserWarning: X has feature names, but StandardScaler was fitted without feature names\n",
      "  warnings.warn(\n",
      "/home/zeus/miniconda3/envs/cloudspace/lib/python3.10/site-packages/sklearn/base.py:458: UserWarning: X has feature names, but StandardScaler was fitted without feature names\n",
      "  warnings.warn(\n",
      "/home/zeus/miniconda3/envs/cloudspace/lib/python3.10/site-packages/sklearn/base.py:458: UserWarning: X has feature names, but StandardScaler was fitted without feature names\n",
      "  warnings.warn(\n",
      "/home/zeus/miniconda3/envs/cloudspace/lib/python3.10/site-packages/sklearn/base.py:458: UserWarning: X has feature names, but StandardScaler was fitted without feature names\n",
      "  warnings.warn(\n",
      "/home/zeus/miniconda3/envs/cloudspace/lib/python3.10/site-packages/sklearn/base.py:458: UserWarning: X has feature names, but StandardScaler was fitted without feature names\n",
      "  warnings.warn(\n",
      "/home/zeus/miniconda3/envs/cloudspace/lib/python3.10/site-packages/sklearn/base.py:458: UserWarning: X has feature names, but StandardScaler was fitted without feature names\n",
      "  warnings.warn(\n",
      "/home/zeus/miniconda3/envs/cloudspace/lib/python3.10/site-packages/sklearn/base.py:458: UserWarning: X has feature names, but StandardScaler was fitted without feature names\n",
      "  warnings.warn(\n",
      "/home/zeus/miniconda3/envs/cloudspace/lib/python3.10/site-packages/sklearn/base.py:458: UserWarning: X has feature names, but StandardScaler was fitted without feature names\n",
      "  warnings.warn(\n",
      "/home/zeus/miniconda3/envs/cloudspace/lib/python3.10/site-packages/sklearn/base.py:458: UserWarning: X has feature names, but StandardScaler was fitted without feature names\n",
      "  warnings.warn(\n",
      "/home/zeus/miniconda3/envs/cloudspace/lib/python3.10/site-packages/sklearn/base.py:458: UserWarning: X has feature names, but StandardScaler was fitted without feature names\n",
      "  warnings.warn(\n",
      "/home/zeus/miniconda3/envs/cloudspace/lib/python3.10/site-packages/sklearn/base.py:458: UserWarning: X has feature names, but StandardScaler was fitted without feature names\n",
      "  warnings.warn(\n",
      "/home/zeus/miniconda3/envs/cloudspace/lib/python3.10/site-packages/sklearn/base.py:458: UserWarning: X has feature names, but StandardScaler was fitted without feature names\n",
      "  warnings.warn(\n",
      "/home/zeus/miniconda3/envs/cloudspace/lib/python3.10/site-packages/sklearn/base.py:458: UserWarning: X has feature names, but StandardScaler was fitted without feature names\n",
      "  warnings.warn(\n",
      "/home/zeus/miniconda3/envs/cloudspace/lib/python3.10/site-packages/sklearn/base.py:458: UserWarning: X has feature names, but StandardScaler was fitted without feature names\n",
      "  warnings.warn(\n",
      "/home/zeus/miniconda3/envs/cloudspace/lib/python3.10/site-packages/sklearn/base.py:458: UserWarning: X has feature names, but StandardScaler was fitted without feature names\n",
      "  warnings.warn(\n",
      "/home/zeus/miniconda3/envs/cloudspace/lib/python3.10/site-packages/sklearn/base.py:458: UserWarning: X has feature names, but StandardScaler was fitted without feature names\n",
      "  warnings.warn(\n",
      "/home/zeus/miniconda3/envs/cloudspace/lib/python3.10/site-packages/sklearn/base.py:458: UserWarning: X has feature names, but StandardScaler was fitted without feature names\n",
      "  warnings.warn(\n",
      "/home/zeus/miniconda3/envs/cloudspace/lib/python3.10/site-packages/sklearn/base.py:458: UserWarning: X has feature names, but StandardScaler was fitted without feature names\n",
      "  warnings.warn(\n",
      "/home/zeus/miniconda3/envs/cloudspace/lib/python3.10/site-packages/sklearn/base.py:458: UserWarning: X has feature names, but StandardScaler was fitted without feature names\n",
      "  warnings.warn(\n",
      "/home/zeus/miniconda3/envs/cloudspace/lib/python3.10/site-packages/sklearn/base.py:458: UserWarning: X has feature names, but StandardScaler was fitted without feature names\n",
      "  warnings.warn(\n",
      "/home/zeus/miniconda3/envs/cloudspace/lib/python3.10/site-packages/sklearn/base.py:458: UserWarning: X has feature names, but StandardScaler was fitted without feature names\n",
      "  warnings.warn(\n",
      "/home/zeus/miniconda3/envs/cloudspace/lib/python3.10/site-packages/sklearn/base.py:458: UserWarning: X has feature names, but StandardScaler was fitted without feature names\n",
      "  warnings.warn(\n",
      "/home/zeus/miniconda3/envs/cloudspace/lib/python3.10/site-packages/sklearn/base.py:458: UserWarning: X has feature names, but StandardScaler was fitted without feature names\n",
      "  warnings.warn(\n",
      "/home/zeus/miniconda3/envs/cloudspace/lib/python3.10/site-packages/sklearn/base.py:458: UserWarning: X has feature names, but StandardScaler was fitted without feature names\n",
      "  warnings.warn(\n",
      "/home/zeus/miniconda3/envs/cloudspace/lib/python3.10/site-packages/sklearn/base.py:458: UserWarning: X has feature names, but StandardScaler was fitted without feature names\n",
      "  warnings.warn(\n",
      "/home/zeus/miniconda3/envs/cloudspace/lib/python3.10/site-packages/sklearn/base.py:458: UserWarning: X has feature names, but StandardScaler was fitted without feature names\n",
      "  warnings.warn(\n",
      "/home/zeus/miniconda3/envs/cloudspace/lib/python3.10/site-packages/sklearn/base.py:458: UserWarning: X has feature names, but StandardScaler was fitted without feature names\n",
      "  warnings.warn(\n",
      "/home/zeus/miniconda3/envs/cloudspace/lib/python3.10/site-packages/sklearn/base.py:458: UserWarning: X has feature names, but StandardScaler was fitted without feature names\n",
      "  warnings.warn(\n",
      "/home/zeus/miniconda3/envs/cloudspace/lib/python3.10/site-packages/sklearn/base.py:458: UserWarning: X has feature names, but StandardScaler was fitted without feature names\n",
      "  warnings.warn(\n",
      "/home/zeus/miniconda3/envs/cloudspace/lib/python3.10/site-packages/sklearn/base.py:458: UserWarning: X has feature names, but StandardScaler was fitted without feature names\n",
      "  warnings.warn(\n",
      "/home/zeus/miniconda3/envs/cloudspace/lib/python3.10/site-packages/sklearn/base.py:458: UserWarning: X has feature names, but StandardScaler was fitted without feature names\n",
      "  warnings.warn(\n",
      "/home/zeus/miniconda3/envs/cloudspace/lib/python3.10/site-packages/sklearn/base.py:458: UserWarning: X has feature names, but StandardScaler was fitted without feature names\n",
      "  warnings.warn(\n",
      "/home/zeus/miniconda3/envs/cloudspace/lib/python3.10/site-packages/sklearn/base.py:458: UserWarning: X has feature names, but StandardScaler was fitted without feature names\n",
      "  warnings.warn(\n",
      "/home/zeus/miniconda3/envs/cloudspace/lib/python3.10/site-packages/sklearn/base.py:458: UserWarning: X has feature names, but StandardScaler was fitted without feature names\n",
      "  warnings.warn(\n",
      "/home/zeus/miniconda3/envs/cloudspace/lib/python3.10/site-packages/sklearn/base.py:458: UserWarning: X has feature names, but StandardScaler was fitted without feature names\n",
      "  warnings.warn(\n",
      "/home/zeus/miniconda3/envs/cloudspace/lib/python3.10/site-packages/sklearn/base.py:458: UserWarning: X has feature names, but StandardScaler was fitted without feature names\n",
      "  warnings.warn(\n",
      "/home/zeus/miniconda3/envs/cloudspace/lib/python3.10/site-packages/sklearn/base.py:458: UserWarning: X has feature names, but StandardScaler was fitted without feature names\n",
      "  warnings.warn(\n",
      "/home/zeus/miniconda3/envs/cloudspace/lib/python3.10/site-packages/sklearn/base.py:458: UserWarning: X has feature names, but StandardScaler was fitted without feature names\n",
      "  warnings.warn(\n",
      "/home/zeus/miniconda3/envs/cloudspace/lib/python3.10/site-packages/sklearn/base.py:458: UserWarning: X has feature names, but StandardScaler was fitted without feature names\n",
      "  warnings.warn(\n",
      "/home/zeus/miniconda3/envs/cloudspace/lib/python3.10/site-packages/sklearn/base.py:458: UserWarning: X has feature names, but StandardScaler was fitted without feature names\n",
      "  warnings.warn(\n",
      "/home/zeus/miniconda3/envs/cloudspace/lib/python3.10/site-packages/sklearn/base.py:458: UserWarning: X has feature names, but StandardScaler was fitted without feature names\n",
      "  warnings.warn(\n",
      "/home/zeus/miniconda3/envs/cloudspace/lib/python3.10/site-packages/sklearn/base.py:458: UserWarning: X has feature names, but StandardScaler was fitted without feature names\n",
      "  warnings.warn(\n",
      "/home/zeus/miniconda3/envs/cloudspace/lib/python3.10/site-packages/sklearn/base.py:458: UserWarning: X has feature names, but StandardScaler was fitted without feature names\n",
      "  warnings.warn(\n",
      "/home/zeus/miniconda3/envs/cloudspace/lib/python3.10/site-packages/sklearn/base.py:458: UserWarning: X has feature names, but StandardScaler was fitted without feature names\n",
      "  warnings.warn(\n",
      "/home/zeus/miniconda3/envs/cloudspace/lib/python3.10/site-packages/sklearn/base.py:458: UserWarning: X has feature names, but StandardScaler was fitted without feature names\n",
      "  warnings.warn(\n",
      "/home/zeus/miniconda3/envs/cloudspace/lib/python3.10/site-packages/sklearn/base.py:458: UserWarning: X has feature names, but StandardScaler was fitted without feature names\n",
      "  warnings.warn(\n",
      "/home/zeus/miniconda3/envs/cloudspace/lib/python3.10/site-packages/sklearn/base.py:458: UserWarning: X has feature names, but StandardScaler was fitted without feature names\n",
      "  warnings.warn(\n",
      "/home/zeus/miniconda3/envs/cloudspace/lib/python3.10/site-packages/sklearn/base.py:458: UserWarning: X has feature names, but StandardScaler was fitted without feature names\n",
      "  warnings.warn(\n",
      "/home/zeus/miniconda3/envs/cloudspace/lib/python3.10/site-packages/sklearn/base.py:458: UserWarning: X has feature names, but StandardScaler was fitted without feature names\n",
      "  warnings.warn(\n",
      "/home/zeus/miniconda3/envs/cloudspace/lib/python3.10/site-packages/sklearn/base.py:458: UserWarning: X has feature names, but StandardScaler was fitted without feature names\n",
      "  warnings.warn(\n"
     ]
    },
    {
     "name": "stdout",
     "output_type": "stream",
     "text": [
      "200 - Cassandra with avg smape 8.01: \n",
      "Model Number: 201 of 175 with model GLM for Validation 1\n",
      "201 - GLM with avg smape 8.01: \n",
      "Model Number: 202 of 175 with model GLM for Validation 1\n",
      "202 - GLM with avg smape 8.01: \n",
      "Model Number: 203 of 175 with model SeasonalityMotif for Validation 1\n",
      "Template Eval Error: Exception('Transformer ScipyFilter failed on fit from params ffill {\\'0\\': {\\'rows\\': 1, \\'lag\\': 1, \\'method\\': \\'additive\\', \\'strength\\': 1.0, \\'first_value_only\\': False, \\'threshold\\': 1, \\'threshold_method\\': \\'mean\\'}, \\'1\\': {}, \\'2\\': {\\'method\\': \\'savgol_filter\\', \\'method_args\\': {\\'window_length\\': 91, \\'polyorder\\': 1, \\'deriv\\': 0, \\'mode\\': \\'interp\\'}}} with error ValueError(\"If mode is \\'interp\\', window_length must be less than or equal to the size of x.\")') in model 203 in generation 0: SeasonalityMotif\n",
      "Model Number: 204 of 175 with model GLM for Validation 1\n",
      "204 - GLM with avg smape 8.02: \n",
      "Model Number: 205 of 175 with model GLS for Validation 1\n",
      "205 - GLS with avg smape 8.03: \n",
      "Model Number: 206 of 175 with model GLS for Validation 1\n"
     ]
    },
    {
     "name": "stderr",
     "output_type": "stream",
     "text": [
      "/home/zeus/miniconda3/envs/cloudspace/lib/python3.10/site-packages/statsmodels/genmod/families/links.py:198: RuntimeWarning: overflow encountered in exp\n",
      "  t = np.exp(-z)\n"
     ]
    },
    {
     "name": "stdout",
     "output_type": "stream",
     "text": [
      "206 - GLS with avg smape 8.03: \n",
      "Model Number: 207 of 175 with model GLM for Validation 1\n",
      "207 - GLM with avg smape 8.02: \n",
      "Model Number: 208 of 175 with model GLM for Validation 1\n",
      "208 - GLM with avg smape 8.07: \n",
      "Model Number: 209 of 175 with model ConstantNaive for Validation 1\n",
      "209 - ConstantNaive with avg smape 8.01: \n",
      "Model Number: 210 of 175 with model SeasonalityMotif for Validation 1\n",
      "prediction too long for indepedent=False, falling back on indepedent=True\n"
     ]
    },
    {
     "name": "stderr",
     "output_type": "stream",
     "text": [
      "/home/zeus/miniconda3/envs/cloudspace/lib/python3.10/site-packages/statsmodels/genmod/families/links.py:198: RuntimeWarning: overflow encountered in exp\n",
      "  t = np.exp(-z)\n",
      "/home/zeus/miniconda3/envs/cloudspace/lib/python3.10/site-packages/statsmodels/genmod/families/links.py:198: RuntimeWarning: overflow encountered in exp\n",
      "  t = np.exp(-z)\n",
      "/home/zeus/miniconda3/envs/cloudspace/lib/python3.10/site-packages/sklearn/decomposition/_fastica.py:576: UserWarning: Ignoring n_components with whiten=False.\n",
      "  warnings.warn(\"Ignoring n_components with whiten=False.\")\n",
      "/home/zeus/miniconda3/envs/cloudspace/lib/python3.10/site-packages/sklearn/decomposition/_fastica.py:128: ConvergenceWarning: FastICA did not converge. Consider increasing tolerance or the maximum number of iterations.\n",
      "  warnings.warn(\n"
     ]
    },
    {
     "name": "stdout",
     "output_type": "stream",
     "text": [
      "210 - SeasonalityMotif with avg smape 8.01: \n",
      "Model Number: 211 of 175 with model ConstantNaive for Validation 1\n",
      "211 - ConstantNaive with avg smape 8.01: \n",
      "Model Number: 212 of 175 with model DatepartRegression for Validation 1\n",
      "212 - DatepartRegression with avg smape 8.01: \n",
      "Model Number: 213 of 175 with model ConstantNaive for Validation 1\n",
      "213 - ConstantNaive with avg smape 8.02: \n",
      "Model Number: 214 of 175 with model GLM for Validation 1\n",
      "214 - GLM with avg smape 8.14: \n",
      "Model Number: 215 of 175 with model GLM for Validation 1\n",
      "215 - GLM with avg smape 8.14: \n",
      "Model Number: 216 of 175 with model DatepartRegression for Validation 1\n",
      "216 - DatepartRegression with avg smape 8.02: \n",
      "Model Number: 217 of 175 with model DatepartRegression for Validation 1\n",
      "217 - DatepartRegression with avg smape 8.02: \n",
      "Model Number: 218 of 175 with model WindowRegression for Validation 1\n",
      "Template Eval Error: ValueError('Found array with 0 sample(s) (shape=(0, 0)) while a minimum of 1 is required by MLPRegressor.') in model 218 in generation 0: WindowRegression\n",
      "Model Number: 219 of 175 with model SeasonalityMotif for Validation 1\n",
      "Template Eval Error: Exception('Transformer ScipyFilter failed on fit from params nearest {\\'0\\': {\\'rows\\': 1, \\'lag\\': 1, \\'method\\': \\'additive\\', \\'strength\\': 1.0, \\'first_value_only\\': False, \\'threshold\\': 1, \\'threshold_method\\': \\'mean\\'}, \\'1\\': {\\'method\\': \\'savgol_filter\\', \\'method_args\\': {\\'window_length\\': 91, \\'polyorder\\': 1, \\'deriv\\': 0, \\'mode\\': \\'interp\\'}}} with error ValueError(\"If mode is \\'interp\\', window_length must be less than or equal to the size of x.\")') in model 219 in generation 0: SeasonalityMotif\n",
      "Model Number: 220 of 175 with model ConstantNaive for Validation 1\n",
      "220 - ConstantNaive with avg smape 8.05: \n",
      "Model Number: 221 of 175 with model ConstantNaive for Validation 1\n",
      "221 - ConstantNaive with avg smape 8.05: \n",
      "Model Number: 222 of 175 with model ConstantNaive for Validation 1\n",
      "222 - ConstantNaive with avg smape 8.05: \n",
      "Model Number: 223 of 175 with model ConstantNaive for Validation 1\n",
      "223 - ConstantNaive with avg smape 8.05: \n",
      "Model Number: 224 of 175 with model ConstantNaive for Validation 1\n",
      "224 - ConstantNaive with avg smape 8.05: \n",
      "Model Number: 225 of 175 with model ETS for Validation 1\n",
      "225 - ETS with avg smape 8.01: \n",
      "Model Number: 226 of 175 with model SeasonalityMotif for Validation 1\n",
      "prediction too long for indepedent=False, falling back on indepedent=True\n",
      "226 - SeasonalityMotif with avg smape 8.04: \n",
      "Model Number: 227 of 175 with model DatepartRegression for Validation 1\n"
     ]
    },
    {
     "name": "stderr",
     "output_type": "stream",
     "text": [
      "/home/zeus/miniconda3/envs/cloudspace/lib/python3.10/site-packages/autots/tools/percentile.py:47: RuntimeWarning: All-NaN slice encountered\n",
      "  max_val = np.nanmax(arr)\n"
     ]
    },
    {
     "name": "stdout",
     "output_type": "stream",
     "text": [
      "227 - DatepartRegression with avg smape 8.02: \n",
      "Model Number: 228 of 175 with model BasicLinearModel for Validation 1\n",
      "228 - BasicLinearModel with avg smape 7.68: \n",
      "Model Number: 229 of 175 with model ETS for Validation 1\n",
      "229 - ETS with avg smape 8.02: \n",
      "Model Number: 230 of 175 with model SeasonalityMotif for Validation 1\n",
      "Template Eval Error: Exception('Transformer ScipyFilter failed on fit from params ffill {\\'0\\': {\\'rows\\': 1, \\'lag\\': 1, \\'method\\': \\'additive\\', \\'strength\\': 1.0, \\'first_value_only\\': False, \\'threshold\\': 1, \\'threshold_method\\': \\'mean\\'}, \\'1\\': {\\'algorithm\\': \\'deflation\\', \\'fun\\': \\'logcosh\\', \\'max_iter\\': 250, \\'whiten\\': \\'arbitrary-variance\\'}, \\'2\\': {\\'method\\': \\'savgol_filter\\', \\'method_args\\': {\\'window_length\\': 91, \\'polyorder\\': 1, \\'deriv\\': 0, \\'mode\\': \\'interp\\'}}, \\'3\\': {}} with error ValueError(\"If mode is \\'interp\\', window_length must be less than or equal to the size of x.\")') in model 230 in generation 0: SeasonalityMotif\n",
      "Model Number: 231 of 175 with model SeasonalityMotif for Validation 1\n",
      "Template Eval Error: Exception('Transformer ScipyFilter failed on fit from params ffill {\\'0\\': {\\'rows\\': 1, \\'lag\\': 7, \\'method\\': \\'additive\\', \\'strength\\': 1.0, \\'first_value_only\\': False, \\'threshold\\': 10, \\'threshold_method\\': \\'mean\\'}, \\'1\\': {\\'method\\': \\'savgol_filter\\', \\'method_args\\': {\\'window_length\\': 91, \\'polyorder\\': 1, \\'deriv\\': 0, \\'mode\\': \\'interp\\'}}} with error ValueError(\"If mode is \\'interp\\', window_length must be less than or equal to the size of x.\")') in model 231 in generation 0: SeasonalityMotif\n",
      "Model Number: 232 of 175 with model ETS for Validation 1\n",
      "232 - ETS with avg smape 8.01: \n",
      "Model Number: 233 of 175 with model ETS for Validation 1\n",
      "233 - ETS with avg smape 8.01: \n",
      "Model Number: 234 of 175 with model ETS for Validation 1\n",
      "234 - ETS with avg smape 8.01: \n",
      "Model Number: 235 of 175 with model ETS for Validation 1\n"
     ]
    },
    {
     "name": "stderr",
     "output_type": "stream",
     "text": [
      "/home/zeus/miniconda3/envs/cloudspace/lib/python3.10/site-packages/autots/tools/percentile.py:47: RuntimeWarning: All-NaN slice encountered\n",
      "  max_val = np.nanmax(arr)\n"
     ]
    },
    {
     "name": "stdout",
     "output_type": "stream",
     "text": [
      "235 - ETS with avg smape 8.01: \n",
      "Model Number: 236 of 175 with model DatepartRegression for Validation 1\n",
      "236 - DatepartRegression with avg smape 8.02: \n",
      "Model Number: 237 of 175 with model DatepartRegression for Validation 1\n",
      "237 - DatepartRegression with avg smape 8.02: \n",
      "Model Number: 238 of 175 with model SeasonalNaive for Validation 1\n",
      "238 - SeasonalNaive with avg smape 8.02: \n",
      "Model Number: 239 of 175 with model SeasonalNaive for Validation 1\n",
      "239 - SeasonalNaive with avg smape 8.02: \n",
      "Model Number: 240 of 175 with model SeasonalNaive for Validation 1\n",
      "240 - SeasonalNaive with avg smape 8.02: \n",
      "Model Number: 241 of 175 with model DatepartRegression for Validation 1\n",
      "241 - DatepartRegression with avg smape 8.03: \n",
      "Model Number: 242 of 175 with model DatepartRegression for Validation 1\n",
      "242 - DatepartRegression with avg smape 8.03: \n",
      "Model Number: 243 of 175 with model WindowRegression for Validation 1\n",
      "Template Eval Error: ValueError('at least one array or dtype is required') in model 243 in generation 0: WindowRegression\n",
      "Model Number: 244 of 175 with model WindowRegression for Validation 1\n",
      "Template Eval Error: ValueError('at least one array or dtype is required') in model 244 in generation 0: WindowRegression\n",
      "Model Number: 245 of 175 with model GLM for Validation 1\n",
      "245 - GLM with avg smape 8.03: \n",
      "Model Number: 246 of 175 with model GLM for Validation 1\n",
      "246 - GLM with avg smape 8.03: \n",
      "Model Number: 247 of 175 with model SeasonalityMotif for Validation 1\n",
      "prediction too long for indepedent=False, falling back on indepedent=True\n",
      "247 - SeasonalityMotif with avg smape 8.05: \n",
      "Model Number: 248 of 175 with model WindowRegression for Validation 1\n",
      "Template Eval Error: ValueError('at least one array or dtype is required') in model 248 in generation 0: WindowRegression\n",
      "Model Number: 249 of 175 with model SeasonalityMotif for Validation 1\n",
      "prediction too long for indepedent=False, falling back on indepedent=True\n",
      "Template Eval Error: ValueError('kth(=99) out of bounds (50)') in model 249 in generation 0: SeasonalityMotif\n",
      "Model Number: 250 of 175 with model BasicLinearModel for Validation 1\n",
      "250 - BasicLinearModel with avg smape 7.71: \n",
      "Model Number: 251 of 175 with model BasicLinearModel for Validation 1\n",
      "251 - BasicLinearModel with avg smape 7.71: \n",
      "Model Number: 252 of 175 with model SeasonalityMotif for Validation 1\n",
      "Template Eval Error: Exception('Transformer ScipyFilter failed on fit from params ffill {\\'0\\': {\\'rows\\': 1, \\'lag\\': 1, \\'method\\': \\'additive\\', \\'strength\\': 1.0, \\'first_value_only\\': False, \\'threshold\\': 1, \\'threshold_method\\': \\'mean\\'}, \\'1\\': {\\'algorithm\\': \\'deflation\\', \\'fun\\': \\'logcosh\\', \\'max_iter\\': 250, \\'whiten\\': \\'arbitrary-variance\\'}, \\'2\\': {\\'method\\': \\'savgol_filter\\', \\'method_args\\': {\\'window_length\\': 91, \\'polyorder\\': 1, \\'deriv\\': 0, \\'mode\\': \\'interp\\'}}, \\'3\\': {}, \\'4\\': {\\'theta_values\\': [0, 2]}} with error ValueError(\"If mode is \\'interp\\', window_length must be less than or equal to the size of x.\")') in model 252 in generation 0: SeasonalityMotif\n",
      "Model Number: 253 of 175 with model SeasonalityMotif for Validation 1\n",
      "Template Eval Error: Exception('Transformer ScipyFilter failed on fit from params ffill {\\'0\\': {\\'rows\\': 1, \\'lag\\': 1, \\'method\\': \\'additive\\', \\'strength\\': 1.0, \\'first_value_only\\': False, \\'threshold\\': 1, \\'threshold_method\\': \\'mean\\'}, \\'1\\': {\\'method\\': \\'savgol_filter\\', \\'method_args\\': {\\'window_length\\': 91, \\'polyorder\\': 1, \\'deriv\\': 0, \\'mode\\': \\'interp\\'}}} with error ValueError(\"If mode is \\'interp\\', window_length must be less than or equal to the size of x.\")') in model 253 in generation 0: SeasonalityMotif\n",
      "Model Number: 254 of 175 with model SeasonalNaive for Validation 1\n",
      "254 - SeasonalNaive with avg smape 8.05: \n",
      "Model Number: 255 of 175 with model SeasonalNaive for Validation 1\n",
      "255 - SeasonalNaive with avg smape 8.05: \n",
      "Model Number: 256 of 175 with model ConstantNaive for Validation 1\n",
      "256 - ConstantNaive with avg smape 8.14: \n",
      "Model Number: 257 of 175 with model WindowRegression for Validation 1\n",
      "Template Eval Error: ValueError(\"WindowRegression regression_type='user' requires numpy >= 1.20\") in model 257 in generation 0: WindowRegression\n",
      "Model Number: 258 of 175 with model GLM for Validation 1\n",
      "258 - GLM with avg smape 8.14: \n",
      "Model Number: 259 of 175 with model SeasonalNaive for Validation 1\n",
      "259 - SeasonalNaive with avg smape 7.92: \n",
      "Model Number: 260 of 175 with model ETS for Validation 1\n",
      "260 - ETS with avg smape 8.14: \n",
      "Model Number: 261 of 175 with model ETS for Validation 1\n",
      "261 - ETS with avg smape 8.14: \n",
      "Model Number: 262 of 175 with model DatepartRegression for Validation 1\n"
     ]
    },
    {
     "name": "stderr",
     "output_type": "stream",
     "text": [
      "/home/zeus/miniconda3/envs/cloudspace/lib/python3.10/site-packages/autots/tools/percentile.py:47: RuntimeWarning: All-NaN slice encountered\n",
      "  max_val = np.nanmax(arr)\n"
     ]
    },
    {
     "name": "stdout",
     "output_type": "stream",
     "text": [
      "262 - DatepartRegression with avg smape 8.15: \n",
      "Model Number: 263 of 175 with model ARDL for Validation 1\n",
      "263 - ARDL with avg smape 14.02: \n",
      "Model Number: 264 of 175 with model BasicLinearModel for Validation 1\n",
      "264 - BasicLinearModel with avg smape 8.02: \n",
      "Model Number: 265 of 175 with model SeasonalNaive for Validation 1\n",
      "265 - SeasonalNaive with avg smape 8.14: \n",
      "Model Number: 266 of 175 with model SeasonalNaive for Validation 1\n",
      "266 - SeasonalNaive with avg smape 8.19: \n",
      "Model Number: 267 of 175 with model BasicLinearModel for Validation 1\n",
      "267 - BasicLinearModel with avg smape 8.15: \n",
      "Model Number: 268 of 175 with model ETS for Validation 1\n",
      "268 - ETS with avg smape 8.01: \n",
      "Model Number: 269 of 175 with model SeasonalNaive for Validation 1\n",
      "269 - SeasonalNaive with avg smape 8.3: \n",
      "Model Number: 270 of 175 with model GLS for Validation 1\n",
      "270 - GLS with avg smape 12.71: \n",
      "Model Number: 271 of 175 with model GLS for Validation 1\n",
      "271 - GLS with avg smape 12.71: \n",
      "Model Number: 272 of 175 with model SeasonalNaive for Validation 1\n",
      "272 - SeasonalNaive with avg smape 8.05: \n",
      "Model Number: 273 of 175 with model WindowRegression for Validation 1\n",
      "Template Eval Error: Exception(\"Transformer AlignLastValue failed on fit from params ffill {'0': {'rows': 1, 'lag': 1, 'method': 'additive', 'strength': 0.2, 'first_value_only': False, 'threshold': 1, 'threshold_method': 'max'}, '1': {'rows': 1, 'lag': 84, 'method': 'additive', 'strength': 1.0, 'first_value_only': False, 'threshold': 10, 'threshold_method': 'max'}, '2': {}} with error IndexError('single positional indexer is out-of-bounds')\") in model 273 in generation 0: WindowRegression\n",
      "Model Number: 274 of 175 with model WindowRegression for Validation 1\n",
      "Template Eval Error: ValueError('at least one array or dtype is required') in model 274 in generation 0: WindowRegression\n",
      "Model Number: 275 of 175 with model ARDL for Validation 1\n",
      "275 - ARDL with avg smape 9.57: \n",
      "Model Number: 276 of 175 with model ETS for Validation 1\n",
      "276 - ETS with avg smape 8.01: \n",
      "Model Number: 277 of 175 with model ARDL for Validation 1\n",
      "277 - ARDL with avg smape 9.72: \n",
      "Model Number: 278 of 175 with model ARDL for Validation 1\n"
     ]
    },
    {
     "name": "stderr",
     "output_type": "stream",
     "text": [
      "/home/zeus/miniconda3/envs/cloudspace/lib/python3.10/site-packages/autots/tools/percentile.py:47: RuntimeWarning: All-NaN slice encountered\n",
      "  max_val = np.nanmax(arr)\n"
     ]
    },
    {
     "name": "stdout",
     "output_type": "stream",
     "text": [
      "278 - ARDL with avg smape 9.62: \n",
      "Model Number: 279 of 175 with model ARDL for Validation 1\n"
     ]
    },
    {
     "name": "stderr",
     "output_type": "stream",
     "text": [
      "/home/zeus/miniconda3/envs/cloudspace/lib/python3.10/site-packages/autots/tools/percentile.py:47: RuntimeWarning: All-NaN slice encountered\n",
      "  max_val = np.nanmax(arr)\n"
     ]
    },
    {
     "name": "stdout",
     "output_type": "stream",
     "text": [
      "279 - ARDL with avg smape 9.62: \n",
      "Model Number: 280 of 175 with model ARDL for Validation 1\n",
      "280 - ARDL with avg smape 9.62: \n",
      "Model Number: 281 of 175 with model WindowRegression for Validation 1\n",
      "281 - WindowRegression with avg smape 8.42: \n",
      "Model Number: 282 of 175 with model ARDL for Validation 1\n"
     ]
    },
    {
     "name": "stderr",
     "output_type": "stream",
     "text": [
      "/home/zeus/miniconda3/envs/cloudspace/lib/python3.10/site-packages/autots/tools/percentile.py:47: RuntimeWarning: All-NaN slice encountered\n",
      "  max_val = np.nanmax(arr)\n"
     ]
    },
    {
     "name": "stdout",
     "output_type": "stream",
     "text": [
      "282 - ARDL with avg smape 9.28: \n",
      "Model Number: 283 of 175 with model DatepartRegression for Validation 1\n",
      "283 - DatepartRegression with avg smape 8.62: \n",
      "Model Number: 284 of 175 with model ARDL for Validation 1\n"
     ]
    },
    {
     "name": "stderr",
     "output_type": "stream",
     "text": [
      "/home/zeus/miniconda3/envs/cloudspace/lib/python3.10/site-packages/sklearn/linear_model/_coordinate_descent.py:628: ConvergenceWarning: Objective did not converge. You might want to increase the number of iterations, check the scale of the features or consider increasing regularisation. Duality gap: 0.000e+00, tolerance: 0.000e+00\n",
      "  model = cd_fast.enet_coordinate_descent(\n",
      "/home/zeus/miniconda3/envs/cloudspace/lib/python3.10/site-packages/autots/tools/percentile.py:47: RuntimeWarning: All-NaN slice encountered\n",
      "  max_val = np.nanmax(arr)\n"
     ]
    },
    {
     "name": "stdout",
     "output_type": "stream",
     "text": [
      "284 - ARDL with avg smape 9.08: \n",
      "Model Number: 285 of 175 with model WindowRegression for Validation 1\n",
      "Template Eval Error: ValueError('at least one array or dtype is required') in model 285 in generation 0: WindowRegression\n",
      "Model Number: 286 of 175 with model GLS for Validation 1\n",
      "286 - GLS with avg smape 8.81: \n",
      "Model Number: 287 of 175 with model GLS for Validation 1\n",
      "287 - GLS with avg smape 8.54: \n",
      "Model Number: 288 of 175 with model GLS for Validation 1\n",
      "288 - GLS with avg smape 8.97: \n",
      "Model Number: 289 of 175 with model RRVAR for Validation 1\n",
      "289 - RRVAR with avg smape 9.11: \n",
      "Model Number: 290 of 175 with model RRVAR for Validation 1\n",
      "290 - RRVAR with avg smape 9.11: \n",
      "Model Number: 291 of 175 with model GLS for Validation 1\n",
      "291 - GLS with avg smape 8.03: \n",
      "Model Number: 292 of 175 with model GLS for Validation 1\n",
      "292 - GLS with avg smape 8.03: \n",
      "Model Number: 293 of 175 with model GLS for Validation 1\n",
      "293 - GLS with avg smape 8.03: \n",
      "Model Number: 294 of 175 with model FFT for Validation 1\n",
      "294 - FFT with avg smape 11.86: \n",
      "Model Number: 295 of 175 with model FFT for Validation 1\n",
      "295 - FFT with avg smape 15.25: \n",
      "Model Number: 296 of 175 with model Cassandra for Validation 1\n"
     ]
    },
    {
     "name": "stderr",
     "output_type": "stream",
     "text": [
      "/home/zeus/miniconda3/envs/cloudspace/lib/python3.10/site-packages/numpy/lib/function_base.py:2897: RuntimeWarning: invalid value encountered in divide\n",
      "  c /= stddev[:, None]\n",
      "/home/zeus/miniconda3/envs/cloudspace/lib/python3.10/site-packages/numpy/lib/function_base.py:2898: RuntimeWarning: invalid value encountered in divide\n",
      "  c /= stddev[None, :]\n",
      "/home/zeus/miniconda3/envs/cloudspace/lib/python3.10/site-packages/sklearn/base.py:458: UserWarning: X has feature names, but StandardScaler was fitted without feature names\n",
      "  warnings.warn(\n",
      "/home/zeus/miniconda3/envs/cloudspace/lib/python3.10/site-packages/sklearn/base.py:458: UserWarning: X has feature names, but StandardScaler was fitted without feature names\n",
      "  warnings.warn(\n",
      "/home/zeus/miniconda3/envs/cloudspace/lib/python3.10/site-packages/sklearn/base.py:458: UserWarning: X has feature names, but StandardScaler was fitted without feature names\n",
      "  warnings.warn(\n",
      "/home/zeus/miniconda3/envs/cloudspace/lib/python3.10/site-packages/sklearn/base.py:458: UserWarning: X has feature names, but StandardScaler was fitted without feature names\n",
      "  warnings.warn(\n",
      "/home/zeus/miniconda3/envs/cloudspace/lib/python3.10/site-packages/sklearn/base.py:458: UserWarning: X has feature names, but StandardScaler was fitted without feature names\n",
      "  warnings.warn(\n",
      "/home/zeus/miniconda3/envs/cloudspace/lib/python3.10/site-packages/sklearn/base.py:458: UserWarning: X has feature names, but StandardScaler was fitted without feature names\n",
      "  warnings.warn(\n",
      "/home/zeus/miniconda3/envs/cloudspace/lib/python3.10/site-packages/sklearn/base.py:458: UserWarning: X has feature names, but StandardScaler was fitted without feature names\n",
      "  warnings.warn(\n",
      "/home/zeus/miniconda3/envs/cloudspace/lib/python3.10/site-packages/sklearn/base.py:458: UserWarning: X has feature names, but StandardScaler was fitted without feature names\n",
      "  warnings.warn(\n",
      "/home/zeus/miniconda3/envs/cloudspace/lib/python3.10/site-packages/sklearn/base.py:458: UserWarning: X has feature names, but StandardScaler was fitted without feature names\n",
      "  warnings.warn(\n",
      "/home/zeus/miniconda3/envs/cloudspace/lib/python3.10/site-packages/sklearn/base.py:458: UserWarning: X has feature names, but StandardScaler was fitted without feature names\n",
      "  warnings.warn(\n",
      "/home/zeus/miniconda3/envs/cloudspace/lib/python3.10/site-packages/sklearn/base.py:458: UserWarning: X has feature names, but StandardScaler was fitted without feature names\n",
      "  warnings.warn(\n",
      "/home/zeus/miniconda3/envs/cloudspace/lib/python3.10/site-packages/sklearn/base.py:458: UserWarning: X has feature names, but StandardScaler was fitted without feature names\n",
      "  warnings.warn(\n",
      "/home/zeus/miniconda3/envs/cloudspace/lib/python3.10/site-packages/sklearn/base.py:458: UserWarning: X has feature names, but StandardScaler was fitted without feature names\n",
      "  warnings.warn(\n",
      "/home/zeus/miniconda3/envs/cloudspace/lib/python3.10/site-packages/sklearn/base.py:458: UserWarning: X has feature names, but StandardScaler was fitted without feature names\n",
      "  warnings.warn(\n",
      "/home/zeus/miniconda3/envs/cloudspace/lib/python3.10/site-packages/sklearn/base.py:458: UserWarning: X has feature names, but StandardScaler was fitted without feature names\n",
      "  warnings.warn(\n",
      "/home/zeus/miniconda3/envs/cloudspace/lib/python3.10/site-packages/sklearn/base.py:458: UserWarning: X has feature names, but StandardScaler was fitted without feature names\n",
      "  warnings.warn(\n",
      "/home/zeus/miniconda3/envs/cloudspace/lib/python3.10/site-packages/sklearn/base.py:458: UserWarning: X has feature names, but StandardScaler was fitted without feature names\n",
      "  warnings.warn(\n",
      "/home/zeus/miniconda3/envs/cloudspace/lib/python3.10/site-packages/sklearn/base.py:458: UserWarning: X has feature names, but StandardScaler was fitted without feature names\n",
      "  warnings.warn(\n",
      "/home/zeus/miniconda3/envs/cloudspace/lib/python3.10/site-packages/sklearn/base.py:458: UserWarning: X has feature names, but StandardScaler was fitted without feature names\n",
      "  warnings.warn(\n",
      "/home/zeus/miniconda3/envs/cloudspace/lib/python3.10/site-packages/sklearn/base.py:458: UserWarning: X has feature names, but StandardScaler was fitted without feature names\n",
      "  warnings.warn(\n",
      "/home/zeus/miniconda3/envs/cloudspace/lib/python3.10/site-packages/sklearn/base.py:458: UserWarning: X has feature names, but StandardScaler was fitted without feature names\n",
      "  warnings.warn(\n",
      "/home/zeus/miniconda3/envs/cloudspace/lib/python3.10/site-packages/sklearn/base.py:458: UserWarning: X has feature names, but StandardScaler was fitted without feature names\n",
      "  warnings.warn(\n",
      "/home/zeus/miniconda3/envs/cloudspace/lib/python3.10/site-packages/sklearn/base.py:458: UserWarning: X has feature names, but StandardScaler was fitted without feature names\n",
      "  warnings.warn(\n",
      "/home/zeus/miniconda3/envs/cloudspace/lib/python3.10/site-packages/sklearn/base.py:458: UserWarning: X has feature names, but StandardScaler was fitted without feature names\n",
      "  warnings.warn(\n",
      "/home/zeus/miniconda3/envs/cloudspace/lib/python3.10/site-packages/sklearn/base.py:458: UserWarning: X has feature names, but StandardScaler was fitted without feature names\n",
      "  warnings.warn(\n",
      "/home/zeus/miniconda3/envs/cloudspace/lib/python3.10/site-packages/sklearn/base.py:458: UserWarning: X has feature names, but StandardScaler was fitted without feature names\n",
      "  warnings.warn(\n",
      "/home/zeus/miniconda3/envs/cloudspace/lib/python3.10/site-packages/sklearn/base.py:458: UserWarning: X has feature names, but StandardScaler was fitted without feature names\n",
      "  warnings.warn(\n",
      "/home/zeus/miniconda3/envs/cloudspace/lib/python3.10/site-packages/sklearn/base.py:458: UserWarning: X has feature names, but StandardScaler was fitted without feature names\n",
      "  warnings.warn(\n",
      "/home/zeus/miniconda3/envs/cloudspace/lib/python3.10/site-packages/sklearn/base.py:458: UserWarning: X has feature names, but StandardScaler was fitted without feature names\n",
      "  warnings.warn(\n",
      "/home/zeus/miniconda3/envs/cloudspace/lib/python3.10/site-packages/sklearn/base.py:458: UserWarning: X has feature names, but StandardScaler was fitted without feature names\n",
      "  warnings.warn(\n",
      "/home/zeus/miniconda3/envs/cloudspace/lib/python3.10/site-packages/sklearn/base.py:458: UserWarning: X has feature names, but StandardScaler was fitted without feature names\n",
      "  warnings.warn(\n",
      "/home/zeus/miniconda3/envs/cloudspace/lib/python3.10/site-packages/sklearn/base.py:458: UserWarning: X has feature names, but StandardScaler was fitted without feature names\n",
      "  warnings.warn(\n",
      "/home/zeus/miniconda3/envs/cloudspace/lib/python3.10/site-packages/sklearn/base.py:458: UserWarning: X has feature names, but StandardScaler was fitted without feature names\n",
      "  warnings.warn(\n",
      "/home/zeus/miniconda3/envs/cloudspace/lib/python3.10/site-packages/sklearn/base.py:458: UserWarning: X has feature names, but StandardScaler was fitted without feature names\n",
      "  warnings.warn(\n",
      "/home/zeus/miniconda3/envs/cloudspace/lib/python3.10/site-packages/sklearn/base.py:458: UserWarning: X has feature names, but StandardScaler was fitted without feature names\n",
      "  warnings.warn(\n",
      "/home/zeus/miniconda3/envs/cloudspace/lib/python3.10/site-packages/sklearn/base.py:458: UserWarning: X has feature names, but StandardScaler was fitted without feature names\n",
      "  warnings.warn(\n",
      "/home/zeus/miniconda3/envs/cloudspace/lib/python3.10/site-packages/sklearn/base.py:458: UserWarning: X has feature names, but StandardScaler was fitted without feature names\n",
      "  warnings.warn(\n",
      "/home/zeus/miniconda3/envs/cloudspace/lib/python3.10/site-packages/sklearn/base.py:458: UserWarning: X has feature names, but StandardScaler was fitted without feature names\n",
      "  warnings.warn(\n",
      "/home/zeus/miniconda3/envs/cloudspace/lib/python3.10/site-packages/sklearn/base.py:458: UserWarning: X has feature names, but StandardScaler was fitted without feature names\n",
      "  warnings.warn(\n",
      "/home/zeus/miniconda3/envs/cloudspace/lib/python3.10/site-packages/sklearn/base.py:458: UserWarning: X has feature names, but StandardScaler was fitted without feature names\n",
      "  warnings.warn(\n",
      "/home/zeus/miniconda3/envs/cloudspace/lib/python3.10/site-packages/sklearn/base.py:458: UserWarning: X has feature names, but StandardScaler was fitted without feature names\n",
      "  warnings.warn(\n",
      "/home/zeus/miniconda3/envs/cloudspace/lib/python3.10/site-packages/sklearn/base.py:458: UserWarning: X has feature names, but StandardScaler was fitted without feature names\n",
      "  warnings.warn(\n",
      "/home/zeus/miniconda3/envs/cloudspace/lib/python3.10/site-packages/sklearn/base.py:458: UserWarning: X has feature names, but StandardScaler was fitted without feature names\n",
      "  warnings.warn(\n",
      "/home/zeus/miniconda3/envs/cloudspace/lib/python3.10/site-packages/sklearn/base.py:458: UserWarning: X has feature names, but StandardScaler was fitted without feature names\n",
      "  warnings.warn(\n",
      "/home/zeus/miniconda3/envs/cloudspace/lib/python3.10/site-packages/sklearn/base.py:458: UserWarning: X has feature names, but StandardScaler was fitted without feature names\n",
      "  warnings.warn(\n",
      "/home/zeus/miniconda3/envs/cloudspace/lib/python3.10/site-packages/sklearn/base.py:458: UserWarning: X has feature names, but StandardScaler was fitted without feature names\n",
      "  warnings.warn(\n",
      "/home/zeus/miniconda3/envs/cloudspace/lib/python3.10/site-packages/sklearn/base.py:458: UserWarning: X has feature names, but StandardScaler was fitted without feature names\n",
      "  warnings.warn(\n",
      "/home/zeus/miniconda3/envs/cloudspace/lib/python3.10/site-packages/sklearn/base.py:458: UserWarning: X has feature names, but StandardScaler was fitted without feature names\n",
      "  warnings.warn(\n",
      "/home/zeus/miniconda3/envs/cloudspace/lib/python3.10/site-packages/sklearn/base.py:458: UserWarning: X has feature names, but StandardScaler was fitted without feature names\n",
      "  warnings.warn(\n",
      "/home/zeus/miniconda3/envs/cloudspace/lib/python3.10/site-packages/sklearn/base.py:458: UserWarning: X has feature names, but StandardScaler was fitted without feature names\n",
      "  warnings.warn(\n",
      "/home/zeus/miniconda3/envs/cloudspace/lib/python3.10/site-packages/sklearn/base.py:458: UserWarning: X has feature names, but StandardScaler was fitted without feature names\n",
      "  warnings.warn(\n",
      "/home/zeus/miniconda3/envs/cloudspace/lib/python3.10/site-packages/sklearn/base.py:458: UserWarning: X has feature names, but StandardScaler was fitted without feature names\n",
      "  warnings.warn(\n",
      "/home/zeus/miniconda3/envs/cloudspace/lib/python3.10/site-packages/numpy/lib/function_base.py:2897: RuntimeWarning: invalid value encountered in divide\n",
      "  c /= stddev[:, None]\n",
      "/home/zeus/miniconda3/envs/cloudspace/lib/python3.10/site-packages/numpy/lib/function_base.py:2898: RuntimeWarning: invalid value encountered in divide\n",
      "  c /= stddev[None, :]\n",
      "/home/zeus/miniconda3/envs/cloudspace/lib/python3.10/site-packages/sklearn/base.py:458: UserWarning: X has feature names, but StandardScaler was fitted without feature names\n",
      "  warnings.warn(\n"
     ]
    },
    {
     "name": "stdout",
     "output_type": "stream",
     "text": [
      "296 - Cassandra with avg smape 9.11: \n",
      "Model Number: 297 of 175 with model Cassandra for Validation 1\n"
     ]
    },
    {
     "name": "stderr",
     "output_type": "stream",
     "text": [
      "/home/zeus/miniconda3/envs/cloudspace/lib/python3.10/site-packages/sklearn/base.py:458: UserWarning: X has feature names, but StandardScaler was fitted without feature names\n",
      "  warnings.warn(\n",
      "/home/zeus/miniconda3/envs/cloudspace/lib/python3.10/site-packages/sklearn/base.py:458: UserWarning: X has feature names, but StandardScaler was fitted without feature names\n",
      "  warnings.warn(\n",
      "/home/zeus/miniconda3/envs/cloudspace/lib/python3.10/site-packages/sklearn/base.py:458: UserWarning: X has feature names, but StandardScaler was fitted without feature names\n",
      "  warnings.warn(\n",
      "/home/zeus/miniconda3/envs/cloudspace/lib/python3.10/site-packages/sklearn/base.py:458: UserWarning: X has feature names, but StandardScaler was fitted without feature names\n",
      "  warnings.warn(\n",
      "/home/zeus/miniconda3/envs/cloudspace/lib/python3.10/site-packages/sklearn/base.py:458: UserWarning: X has feature names, but StandardScaler was fitted without feature names\n",
      "  warnings.warn(\n",
      "/home/zeus/miniconda3/envs/cloudspace/lib/python3.10/site-packages/sklearn/base.py:458: UserWarning: X has feature names, but StandardScaler was fitted without feature names\n",
      "  warnings.warn(\n",
      "/home/zeus/miniconda3/envs/cloudspace/lib/python3.10/site-packages/sklearn/base.py:458: UserWarning: X has feature names, but StandardScaler was fitted without feature names\n",
      "  warnings.warn(\n",
      "/home/zeus/miniconda3/envs/cloudspace/lib/python3.10/site-packages/sklearn/base.py:458: UserWarning: X has feature names, but StandardScaler was fitted without feature names\n",
      "  warnings.warn(\n",
      "/home/zeus/miniconda3/envs/cloudspace/lib/python3.10/site-packages/sklearn/base.py:458: UserWarning: X has feature names, but StandardScaler was fitted without feature names\n",
      "  warnings.warn(\n",
      "/home/zeus/miniconda3/envs/cloudspace/lib/python3.10/site-packages/sklearn/base.py:458: UserWarning: X has feature names, but StandardScaler was fitted without feature names\n",
      "  warnings.warn(\n",
      "/home/zeus/miniconda3/envs/cloudspace/lib/python3.10/site-packages/sklearn/base.py:458: UserWarning: X has feature names, but StandardScaler was fitted without feature names\n",
      "  warnings.warn(\n",
      "/home/zeus/miniconda3/envs/cloudspace/lib/python3.10/site-packages/sklearn/base.py:458: UserWarning: X has feature names, but StandardScaler was fitted without feature names\n",
      "  warnings.warn(\n",
      "/home/zeus/miniconda3/envs/cloudspace/lib/python3.10/site-packages/sklearn/base.py:458: UserWarning: X has feature names, but StandardScaler was fitted without feature names\n",
      "  warnings.warn(\n",
      "/home/zeus/miniconda3/envs/cloudspace/lib/python3.10/site-packages/sklearn/base.py:458: UserWarning: X has feature names, but StandardScaler was fitted without feature names\n",
      "  warnings.warn(\n",
      "/home/zeus/miniconda3/envs/cloudspace/lib/python3.10/site-packages/sklearn/base.py:458: UserWarning: X has feature names, but StandardScaler was fitted without feature names\n",
      "  warnings.warn(\n",
      "/home/zeus/miniconda3/envs/cloudspace/lib/python3.10/site-packages/sklearn/base.py:458: UserWarning: X has feature names, but StandardScaler was fitted without feature names\n",
      "  warnings.warn(\n",
      "/home/zeus/miniconda3/envs/cloudspace/lib/python3.10/site-packages/sklearn/base.py:458: UserWarning: X has feature names, but StandardScaler was fitted without feature names\n",
      "  warnings.warn(\n",
      "/home/zeus/miniconda3/envs/cloudspace/lib/python3.10/site-packages/sklearn/base.py:458: UserWarning: X has feature names, but StandardScaler was fitted without feature names\n",
      "  warnings.warn(\n",
      "/home/zeus/miniconda3/envs/cloudspace/lib/python3.10/site-packages/sklearn/base.py:458: UserWarning: X has feature names, but StandardScaler was fitted without feature names\n",
      "  warnings.warn(\n",
      "/home/zeus/miniconda3/envs/cloudspace/lib/python3.10/site-packages/sklearn/base.py:458: UserWarning: X has feature names, but StandardScaler was fitted without feature names\n",
      "  warnings.warn(\n",
      "/home/zeus/miniconda3/envs/cloudspace/lib/python3.10/site-packages/sklearn/base.py:458: UserWarning: X has feature names, but StandardScaler was fitted without feature names\n",
      "  warnings.warn(\n",
      "/home/zeus/miniconda3/envs/cloudspace/lib/python3.10/site-packages/sklearn/base.py:458: UserWarning: X has feature names, but StandardScaler was fitted without feature names\n",
      "  warnings.warn(\n",
      "/home/zeus/miniconda3/envs/cloudspace/lib/python3.10/site-packages/sklearn/base.py:458: UserWarning: X has feature names, but StandardScaler was fitted without feature names\n",
      "  warnings.warn(\n",
      "/home/zeus/miniconda3/envs/cloudspace/lib/python3.10/site-packages/sklearn/base.py:458: UserWarning: X has feature names, but StandardScaler was fitted without feature names\n",
      "  warnings.warn(\n",
      "/home/zeus/miniconda3/envs/cloudspace/lib/python3.10/site-packages/sklearn/base.py:458: UserWarning: X has feature names, but StandardScaler was fitted without feature names\n",
      "  warnings.warn(\n",
      "/home/zeus/miniconda3/envs/cloudspace/lib/python3.10/site-packages/sklearn/base.py:458: UserWarning: X has feature names, but StandardScaler was fitted without feature names\n",
      "  warnings.warn(\n",
      "/home/zeus/miniconda3/envs/cloudspace/lib/python3.10/site-packages/sklearn/base.py:458: UserWarning: X has feature names, but StandardScaler was fitted without feature names\n",
      "  warnings.warn(\n",
      "/home/zeus/miniconda3/envs/cloudspace/lib/python3.10/site-packages/sklearn/base.py:458: UserWarning: X has feature names, but StandardScaler was fitted without feature names\n",
      "  warnings.warn(\n",
      "/home/zeus/miniconda3/envs/cloudspace/lib/python3.10/site-packages/sklearn/base.py:458: UserWarning: X has feature names, but StandardScaler was fitted without feature names\n",
      "  warnings.warn(\n",
      "/home/zeus/miniconda3/envs/cloudspace/lib/python3.10/site-packages/sklearn/base.py:458: UserWarning: X has feature names, but StandardScaler was fitted without feature names\n",
      "  warnings.warn(\n",
      "/home/zeus/miniconda3/envs/cloudspace/lib/python3.10/site-packages/sklearn/base.py:458: UserWarning: X has feature names, but StandardScaler was fitted without feature names\n",
      "  warnings.warn(\n",
      "/home/zeus/miniconda3/envs/cloudspace/lib/python3.10/site-packages/sklearn/base.py:458: UserWarning: X has feature names, but StandardScaler was fitted without feature names\n",
      "  warnings.warn(\n",
      "/home/zeus/miniconda3/envs/cloudspace/lib/python3.10/site-packages/sklearn/base.py:458: UserWarning: X has feature names, but StandardScaler was fitted without feature names\n",
      "  warnings.warn(\n",
      "/home/zeus/miniconda3/envs/cloudspace/lib/python3.10/site-packages/sklearn/base.py:458: UserWarning: X has feature names, but StandardScaler was fitted without feature names\n",
      "  warnings.warn(\n",
      "/home/zeus/miniconda3/envs/cloudspace/lib/python3.10/site-packages/sklearn/base.py:458: UserWarning: X has feature names, but StandardScaler was fitted without feature names\n",
      "  warnings.warn(\n",
      "/home/zeus/miniconda3/envs/cloudspace/lib/python3.10/site-packages/sklearn/base.py:458: UserWarning: X has feature names, but StandardScaler was fitted without feature names\n",
      "  warnings.warn(\n",
      "/home/zeus/miniconda3/envs/cloudspace/lib/python3.10/site-packages/sklearn/base.py:458: UserWarning: X has feature names, but StandardScaler was fitted without feature names\n",
      "  warnings.warn(\n",
      "/home/zeus/miniconda3/envs/cloudspace/lib/python3.10/site-packages/sklearn/base.py:458: UserWarning: X has feature names, but StandardScaler was fitted without feature names\n",
      "  warnings.warn(\n",
      "/home/zeus/miniconda3/envs/cloudspace/lib/python3.10/site-packages/sklearn/base.py:458: UserWarning: X has feature names, but StandardScaler was fitted without feature names\n",
      "  warnings.warn(\n",
      "/home/zeus/miniconda3/envs/cloudspace/lib/python3.10/site-packages/sklearn/base.py:458: UserWarning: X has feature names, but StandardScaler was fitted without feature names\n",
      "  warnings.warn(\n",
      "/home/zeus/miniconda3/envs/cloudspace/lib/python3.10/site-packages/sklearn/base.py:458: UserWarning: X has feature names, but StandardScaler was fitted without feature names\n",
      "  warnings.warn(\n",
      "/home/zeus/miniconda3/envs/cloudspace/lib/python3.10/site-packages/sklearn/base.py:458: UserWarning: X has feature names, but StandardScaler was fitted without feature names\n",
      "  warnings.warn(\n",
      "/home/zeus/miniconda3/envs/cloudspace/lib/python3.10/site-packages/sklearn/base.py:458: UserWarning: X has feature names, but StandardScaler was fitted without feature names\n",
      "  warnings.warn(\n",
      "/home/zeus/miniconda3/envs/cloudspace/lib/python3.10/site-packages/sklearn/base.py:458: UserWarning: X has feature names, but StandardScaler was fitted without feature names\n",
      "  warnings.warn(\n",
      "/home/zeus/miniconda3/envs/cloudspace/lib/python3.10/site-packages/sklearn/base.py:458: UserWarning: X has feature names, but StandardScaler was fitted without feature names\n",
      "  warnings.warn(\n",
      "/home/zeus/miniconda3/envs/cloudspace/lib/python3.10/site-packages/sklearn/base.py:458: UserWarning: X has feature names, but StandardScaler was fitted without feature names\n",
      "  warnings.warn(\n",
      "/home/zeus/miniconda3/envs/cloudspace/lib/python3.10/site-packages/sklearn/base.py:458: UserWarning: X has feature names, but StandardScaler was fitted without feature names\n",
      "  warnings.warn(\n",
      "/home/zeus/miniconda3/envs/cloudspace/lib/python3.10/site-packages/sklearn/base.py:458: UserWarning: X has feature names, but StandardScaler was fitted without feature names\n",
      "  warnings.warn(\n",
      "/home/zeus/miniconda3/envs/cloudspace/lib/python3.10/site-packages/sklearn/base.py:458: UserWarning: X has feature names, but StandardScaler was fitted without feature names\n",
      "  warnings.warn(\n",
      "/home/zeus/miniconda3/envs/cloudspace/lib/python3.10/site-packages/sklearn/base.py:458: UserWarning: X has feature names, but StandardScaler was fitted without feature names\n",
      "  warnings.warn(\n",
      "/home/zeus/miniconda3/envs/cloudspace/lib/python3.10/site-packages/sklearn/base.py:458: UserWarning: X has feature names, but StandardScaler was fitted without feature names\n",
      "  warnings.warn(\n"
     ]
    },
    {
     "name": "stdout",
     "output_type": "stream",
     "text": [
      "297 - Cassandra with avg smape 9.08: \n",
      "Model Number: 298 of 175 with model Cassandra for Validation 1\n"
     ]
    },
    {
     "name": "stderr",
     "output_type": "stream",
     "text": [
      "/home/zeus/miniconda3/envs/cloudspace/lib/python3.10/site-packages/numpy/lib/function_base.py:2897: RuntimeWarning: invalid value encountered in divide\n",
      "  c /= stddev[:, None]\n",
      "/home/zeus/miniconda3/envs/cloudspace/lib/python3.10/site-packages/numpy/lib/function_base.py:2898: RuntimeWarning: invalid value encountered in divide\n",
      "  c /= stddev[None, :]\n"
     ]
    },
    {
     "name": "stdout",
     "output_type": "stream",
     "text": [
      "298 - Cassandra with avg smape 18.18: \n",
      "Model Number: 299 of 175 with model RRVAR for Validation 1\n",
      "299 - RRVAR with avg smape 13.05: \n",
      "Model Number: 300 of 175 with model RRVAR for Validation 1\n",
      "300 - RRVAR with avg smape 13.05: \n",
      "Model Number: 301 of 175 with model FFT for Validation 1\n",
      "301 - FFT with avg smape 27.71: \n",
      "Model Number: 302 of 175 with model FFT for Validation 1\n",
      "302 - FFT with avg smape 16.32: \n",
      "Model Number: 303 of 175 with model FFT for Validation 1\n",
      "303 - FFT with avg smape 16.43: \n",
      "Model Number: 304 of 175 with model FFT for Validation 1\n",
      "304 - FFT with avg smape 20.88: \n",
      "Model Number: 305 of 175 with model RRVAR for Validation 1\n",
      "305 - RRVAR with avg smape 20.9: \n",
      "Model Number: 1476 with model Ensemble in generation 12 of Ensembles\n",
      "Model Number: 1490 with model Ensemble in generation 12 of Ensembles\n",
      "Model Number: 1504 with model Ensemble in generation 12 of Ensembles\n",
      "Model Number: 1518 with model Ensemble in generation 12 of Ensembles\n",
      "Model Number: 1532 with model Ensemble in generation 12 of Ensembles\n",
      "Model Number: 1546 with model Ensemble in generation 12 of Ensembles\n",
      "Model Number: 1560 with model Ensemble in generation 12 of Ensembles\n",
      "Model Number: 1574 with model Ensemble in generation 12 of Ensembles\n",
      "Validation Round: 1\n",
      "Model Number: 1 of 8 with model Ensemble for Validation 1\n",
      "📈 1 - Ensemble with avg smape 7.49: \n",
      "2 - Ensemble with avg smape 7.49: \n",
      "3 - Ensemble with avg smape 7.62: \n",
      "4 - Ensemble with avg smape 7.62: \n",
      "5 - Ensemble with avg smape 13.26: \n",
      "6 - Ensemble with avg smape 8.08: \n",
      "7 - Ensemble with avg smape 8.01: \n",
      "8 - Ensemble with avg smape 8.01: \n",
      "9 - Ensemble with avg smape 7.49: \n",
      "10 - Ensemble with avg smape 8.01: \n",
      "11 - Ensemble with avg smape 7.57: \n",
      "12 - Ensemble with avg smape 16.04: \n",
      "13 - Ensemble with avg smape 15.83: \n",
      "14 - Ensemble with avg smape 12.82: \n",
      "Model Number: 15 of 8 with model Ensemble for Validation 1\n",
      "15 - Ensemble with avg smape 7.49: \n",
      "16 - Ensemble with avg smape 7.49: \n",
      "17 - Ensemble with avg smape 7.62: \n",
      "18 - Ensemble with avg smape 7.62: \n",
      "19 - Ensemble with avg smape 13.26: \n",
      "20 - Ensemble with avg smape 8.08: \n",
      "21 - Ensemble with avg smape 8.01: \n",
      "22 - Ensemble with avg smape 8.01: \n",
      "23 - Ensemble with avg smape 7.49: \n",
      "24 - Ensemble with avg smape 8.01: \n",
      "25 - Ensemble with avg smape 7.57: \n",
      "26 - Ensemble with avg smape 16.04: \n",
      "27 - Ensemble with avg smape 15.83: \n",
      "28 - Ensemble with avg smape 12.82: \n",
      "Model Number: 29 of 8 with model Ensemble for Validation 1\n",
      "29 - Ensemble with avg smape 7.78: \n",
      "30 - Ensemble with avg smape 7.78: \n",
      "31 - Ensemble with avg smape 7.82: \n",
      "32 - Ensemble with avg smape 7.78: \n",
      "33 - Ensemble with avg smape 13.25: \n",
      "34 - Ensemble with avg smape 8.06: \n",
      "35 - Ensemble with avg smape 7.93: \n",
      "36 - Ensemble with avg smape 8.02: \n",
      "37 - Ensemble with avg smape 7.78: \n",
      "38 - Ensemble with avg smape 8.02: \n",
      "39 - Ensemble with avg smape 7.76: \n",
      "40 - Ensemble with avg smape 16.35: \n",
      "41 - Ensemble with avg smape 15.72: \n",
      "42 - Ensemble with avg smape 12.73: \n",
      "Model Number: 43 of 8 with model Ensemble for Validation 1\n"
     ]
    },
    {
     "name": "stderr",
     "output_type": "stream",
     "text": [
      "/home/zeus/miniconda3/envs/cloudspace/lib/python3.10/site-packages/autots/tools/seasonal.py:896: RuntimeWarning: invalid value encountered in divide\n",
      "  scores = np.mean(np.abs(a - b) / divisor, axis=2)\n",
      "/home/zeus/miniconda3/envs/cloudspace/lib/python3.10/site-packages/autots/tools/seasonal.py:896: RuntimeWarning: invalid value encountered in divide\n",
      "  scores = np.mean(np.abs(a - b) / divisor, axis=2)\n",
      "/home/zeus/miniconda3/envs/cloudspace/lib/python3.10/site-packages/autots/tools/seasonal.py:896: RuntimeWarning: invalid value encountered in divide\n",
      "  scores = np.mean(np.abs(a - b) / divisor, axis=2)\n",
      "/home/zeus/miniconda3/envs/cloudspace/lib/python3.10/site-packages/autots/tools/seasonal.py:896: RuntimeWarning: invalid value encountered in divide\n",
      "  scores = np.mean(np.abs(a - b) / divisor, axis=2)\n",
      "/home/zeus/miniconda3/envs/cloudspace/lib/python3.10/site-packages/autots/tools/seasonal.py:896: RuntimeWarning: invalid value encountered in divide\n",
      "  scores = np.mean(np.abs(a - b) / divisor, axis=2)\n",
      "/home/zeus/miniconda3/envs/cloudspace/lib/python3.10/site-packages/autots/tools/seasonal.py:896: RuntimeWarning: invalid value encountered in divide\n",
      "  scores = np.mean(np.abs(a - b) / divisor, axis=2)\n",
      "/home/zeus/miniconda3/envs/cloudspace/lib/python3.10/site-packages/autots/tools/seasonal.py:896: RuntimeWarning: invalid value encountered in divide\n",
      "  scores = np.mean(np.abs(a - b) / divisor, axis=2)\n",
      "/home/zeus/miniconda3/envs/cloudspace/lib/python3.10/site-packages/autots/tools/seasonal.py:896: RuntimeWarning: invalid value encountered in divide\n",
      "  scores = np.mean(np.abs(a - b) / divisor, axis=2)\n",
      "/home/zeus/miniconda3/envs/cloudspace/lib/python3.10/site-packages/autots/tools/seasonal.py:896: RuntimeWarning: invalid value encountered in divide\n",
      "  scores = np.mean(np.abs(a - b) / divisor, axis=2)\n",
      "/home/zeus/miniconda3/envs/cloudspace/lib/python3.10/site-packages/autots/tools/seasonal.py:896: RuntimeWarning: invalid value encountered in divide\n",
      "  scores = np.mean(np.abs(a - b) / divisor, axis=2)\n",
      "/home/zeus/miniconda3/envs/cloudspace/lib/python3.10/site-packages/autots/tools/seasonal.py:896: RuntimeWarning: invalid value encountered in divide\n",
      "  scores = np.mean(np.abs(a - b) / divisor, axis=2)\n",
      "/home/zeus/miniconda3/envs/cloudspace/lib/python3.10/site-packages/autots/tools/seasonal.py:896: RuntimeWarning: invalid value encountered in divide\n",
      "  scores = np.mean(np.abs(a - b) / divisor, axis=2)\n"
     ]
    },
    {
     "name": "stdout",
     "output_type": "stream",
     "text": [
      "43 - Ensemble with avg smape 7.49: \n",
      "44 - Ensemble with avg smape 7.49: \n",
      "45 - Ensemble with avg smape 7.62: \n",
      "46 - Ensemble with avg smape 7.62: \n",
      "47 - Ensemble with avg smape 13.26: \n",
      "48 - Ensemble with avg smape 8.08: \n",
      "49 - Ensemble with avg smape 8.01: \n",
      "50 - Ensemble with avg smape 8.01: \n",
      "51 - Ensemble with avg smape 7.49: \n",
      "52 - Ensemble with avg smape 8.01: \n",
      "53 - Ensemble with avg smape 7.57: \n",
      "54 - Ensemble with avg smape 16.04: \n",
      "55 - Ensemble with avg smape 15.83: \n",
      "56 - Ensemble with avg smape 12.82: \n",
      "Model Number: 57 of 8 with model Ensemble for Validation 1\n",
      "57 - Ensemble with avg smape 7.68: \n",
      "58 - Ensemble with avg smape 7.68: \n",
      "59 - Ensemble with avg smape 7.76: \n",
      "60 - Ensemble with avg smape 7.73: \n",
      "61 - Ensemble with avg smape 13.25: \n",
      "62 - Ensemble with avg smape 8.08: \n"
     ]
    },
    {
     "name": "stderr",
     "output_type": "stream",
     "text": [
      "/home/zeus/miniconda3/envs/cloudspace/lib/python3.10/site-packages/autots/tools/percentile.py:47: RuntimeWarning: All-NaN slice encountered\n",
      "  max_val = np.nanmax(arr)\n",
      "/home/zeus/miniconda3/envs/cloudspace/lib/python3.10/site-packages/autots/tools/seasonal.py:896: RuntimeWarning: invalid value encountered in divide\n",
      "  scores = np.mean(np.abs(a - b) / divisor, axis=2)\n",
      "/home/zeus/miniconda3/envs/cloudspace/lib/python3.10/site-packages/autots/tools/seasonal.py:896: RuntimeWarning: invalid value encountered in divide\n",
      "  scores = np.mean(np.abs(a - b) / divisor, axis=2)\n",
      "/home/zeus/miniconda3/envs/cloudspace/lib/python3.10/site-packages/autots/tools/seasonal.py:896: RuntimeWarning: invalid value encountered in divide\n",
      "  scores = np.mean(np.abs(a - b) / divisor, axis=2)\n",
      "/home/zeus/miniconda3/envs/cloudspace/lib/python3.10/site-packages/autots/tools/percentile.py:47: RuntimeWarning: All-NaN slice encountered\n",
      "  max_val = np.nanmax(arr)\n"
     ]
    },
    {
     "name": "stdout",
     "output_type": "stream",
     "text": [
      "63 - Ensemble with avg smape 7.97: \n",
      "64 - Ensemble with avg smape 8.02: \n",
      "65 - Ensemble with avg smape 7.68: \n",
      "66 - Ensemble with avg smape 8.02: \n",
      "67 - Ensemble with avg smape 7.7: \n",
      "68 - Ensemble with avg smape 16.24: \n",
      "69 - Ensemble with avg smape 15.76: \n",
      "70 - Ensemble with avg smape 12.76: \n",
      "Model Number: 71 of 8 with model Ensemble for Validation 1\n",
      "71 - Ensemble with avg smape 7.75: \n",
      "72 - Ensemble with avg smape 7.75: \n",
      "73 - Ensemble with avg smape 7.81: \n",
      "74 - Ensemble with avg smape 7.76: \n"
     ]
    },
    {
     "name": "stderr",
     "output_type": "stream",
     "text": [
      "/home/zeus/miniconda3/envs/cloudspace/lib/python3.10/site-packages/autots/tools/percentile.py:47: RuntimeWarning: All-NaN slice encountered\n",
      "  max_val = np.nanmax(arr)\n",
      "/home/zeus/miniconda3/envs/cloudspace/lib/python3.10/site-packages/autots/tools/seasonal.py:896: RuntimeWarning: invalid value encountered in divide\n",
      "  scores = np.mean(np.abs(a - b) / divisor, axis=2)\n",
      "/home/zeus/miniconda3/envs/cloudspace/lib/python3.10/site-packages/autots/tools/seasonal.py:896: RuntimeWarning: invalid value encountered in divide\n",
      "  scores = np.mean(np.abs(a - b) / divisor, axis=2)\n",
      "/home/zeus/miniconda3/envs/cloudspace/lib/python3.10/site-packages/autots/tools/seasonal.py:896: RuntimeWarning: invalid value encountered in divide\n",
      "  scores = np.mean(np.abs(a - b) / divisor, axis=2)\n",
      "/home/zeus/miniconda3/envs/cloudspace/lib/python3.10/site-packages/autots/tools/percentile.py:47: RuntimeWarning: All-NaN slice encountered\n",
      "  max_val = np.nanmax(arr)\n",
      "/home/zeus/miniconda3/envs/cloudspace/lib/python3.10/site-packages/autots/tools/seasonal.py:896: RuntimeWarning: invalid value encountered in divide\n",
      "  scores = np.mean(np.abs(a - b) / divisor, axis=2)\n",
      "/home/zeus/miniconda3/envs/cloudspace/lib/python3.10/site-packages/autots/tools/seasonal.py:896: RuntimeWarning: invalid value encountered in divide\n",
      "  scores = np.mean(np.abs(a - b) / divisor, axis=2)\n",
      "/home/zeus/miniconda3/envs/cloudspace/lib/python3.10/site-packages/autots/tools/seasonal.py:896: RuntimeWarning: invalid value encountered in divide\n",
      "  scores = np.mean(np.abs(a - b) / divisor, axis=2)\n"
     ]
    },
    {
     "name": "stdout",
     "output_type": "stream",
     "text": [
      "75 - Ensemble with avg smape 13.24: \n",
      "76 - Ensemble with avg smape 8.08: \n",
      "77 - Ensemble with avg smape 7.95: \n",
      "78 - Ensemble with avg smape 8.02: \n",
      "79 - Ensemble with avg smape 7.75: \n",
      "80 - Ensemble with avg smape 8.02: \n",
      "81 - Ensemble with avg smape 7.75: \n",
      "82 - Ensemble with avg smape 16.33: \n",
      "83 - Ensemble with avg smape 15.73: \n",
      "84 - Ensemble with avg smape 12.74: \n",
      "Model Number: 85 of 8 with model Ensemble for Validation 1\n",
      "85 - Ensemble with avg smape 7.63: \n"
     ]
    },
    {
     "name": "stderr",
     "output_type": "stream",
     "text": [
      "/home/zeus/miniconda3/envs/cloudspace/lib/python3.10/site-packages/autots/tools/percentile.py:47: RuntimeWarning: All-NaN slice encountered\n",
      "  max_val = np.nanmax(arr)\n",
      "/home/zeus/miniconda3/envs/cloudspace/lib/python3.10/site-packages/autots/tools/seasonal.py:896: RuntimeWarning: invalid value encountered in divide\n",
      "  scores = np.mean(np.abs(a - b) / divisor, axis=2)\n",
      "/home/zeus/miniconda3/envs/cloudspace/lib/python3.10/site-packages/autots/tools/seasonal.py:896: RuntimeWarning: invalid value encountered in divide\n",
      "  scores = np.mean(np.abs(a - b) / divisor, axis=2)\n",
      "/home/zeus/miniconda3/envs/cloudspace/lib/python3.10/site-packages/autots/tools/seasonal.py:896: RuntimeWarning: invalid value encountered in divide\n",
      "  scores = np.mean(np.abs(a - b) / divisor, axis=2)\n",
      "/home/zeus/miniconda3/envs/cloudspace/lib/python3.10/site-packages/autots/tools/percentile.py:47: RuntimeWarning: All-NaN slice encountered\n",
      "  max_val = np.nanmax(arr)\n"
     ]
    },
    {
     "name": "stdout",
     "output_type": "stream",
     "text": [
      "86 - Ensemble with avg smape 7.63: \n",
      "87 - Ensemble with avg smape 7.71: \n",
      "88 - Ensemble with avg smape 7.7: \n",
      "89 - Ensemble with avg smape 13.25: \n",
      "90 - Ensemble with avg smape 8.08: \n",
      "91 - Ensemble with avg smape 7.97: \n",
      "92 - Ensemble with avg smape 8.02: \n",
      "93 - Ensemble with avg smape 7.63: \n",
      "94 - Ensemble with avg smape 8.02: \n",
      "95 - Ensemble with avg smape 7.65: \n",
      "96 - Ensemble with avg smape 16.2: \n",
      "97 - Ensemble with avg smape 15.78: \n",
      "98 - Ensemble with avg smape 12.78: \n",
      "Model Number: 99 of 8 with model Ensemble for Validation 1\n"
     ]
    },
    {
     "name": "stderr",
     "output_type": "stream",
     "text": [
      "/home/zeus/miniconda3/envs/cloudspace/lib/python3.10/site-packages/autots/tools/percentile.py:47: RuntimeWarning: All-NaN slice encountered\n",
      "  max_val = np.nanmax(arr)\n",
      "/home/zeus/miniconda3/envs/cloudspace/lib/python3.10/site-packages/autots/tools/percentile.py:47: RuntimeWarning: All-NaN slice encountered\n",
      "  max_val = np.nanmax(arr)\n",
      "/home/zeus/miniconda3/envs/cloudspace/lib/python3.10/site-packages/autots/tools/seasonal.py:896: RuntimeWarning: invalid value encountered in divide\n",
      "  scores = np.mean(np.abs(a - b) / divisor, axis=2)\n",
      "/home/zeus/miniconda3/envs/cloudspace/lib/python3.10/site-packages/autots/tools/seasonal.py:896: RuntimeWarning: invalid value encountered in divide\n",
      "  scores = np.mean(np.abs(a - b) / divisor, axis=2)\n",
      "/home/zeus/miniconda3/envs/cloudspace/lib/python3.10/site-packages/autots/tools/seasonal.py:896: RuntimeWarning: invalid value encountered in divide\n",
      "  scores = np.mean(np.abs(a - b) / divisor, axis=2)\n"
     ]
    },
    {
     "name": "stdout",
     "output_type": "stream",
     "text": [
      "99 - Ensemble with avg smape 7.68: \n",
      "100 - Ensemble with avg smape 7.68: \n",
      "101 - Ensemble with avg smape 7.76: \n",
      "102 - Ensemble with avg smape 7.73: \n",
      "103 - Ensemble with avg smape 13.25: \n",
      "104 - Ensemble with avg smape 8.08: \n",
      "105 - Ensemble with avg smape 7.97: \n",
      "106 - Ensemble with avg smape 8.02: \n",
      "107 - Ensemble with avg smape 7.68: \n",
      "108 - Ensemble with avg smape 8.02: \n",
      "109 - Ensemble with avg smape 7.7: \n",
      "110 - Ensemble with avg smape 16.24: \n",
      "111 - Ensemble with avg smape 15.76: \n",
      "112 - Ensemble with avg smape 12.76: \n"
     ]
    }
   ],
   "source": [
    "import pandas as pd\n",
    "import numpy as np\n",
    "from autots import AutoTS\n",
    "from sklearn.metrics import mean_absolute_error, mean_squared_error\n",
    "\n",
    "# Load data\n",
    "df = pd.read_csv(\"between_299_90_data.csv\", parse_dates=[\"date\"])\n",
    "\n",
    "# Convert date column to datetime\n",
    "df[\"date\"] = pd.to_datetime(df[\"date\"])\n",
    "\n",
    "# Replace 'user_id_value' with the actual user ID you want to filter\n",
    "user_id_value = \"64087abe6d4b2df660baa360f5041e2e3c05ed9d406e6d297d13c314c3f3ded5\"  # Example user ID\n",
    "\n",
    "# Filter data for the specific user\n",
    "user_data = df[df[\"profile_id\"] == user_id_value]\n",
    "\n",
    "# Extract year, month, and day\n",
    "user_data[\"year\"] = user_data[\"date\"].dt.year\n",
    "user_data[\"month\"] = user_data[\"date\"].dt.month\n",
    "user_data[\"day\"] = user_data[\"date\"].dt.day\n",
    "\n",
    "# Aggregate: Keep last follower count per day for each profile\n",
    "daily_df = (\n",
    "    user_data.sort_values([\"profile_id\", \"date\"])\n",
    "    .groupby([\"profile_id\", \"year\", \"month\", \"day\"])\n",
    "    .last()\n",
    "    .reset_index()\n",
    ")\n",
    "\n",
    "# Convert back to date format\n",
    "daily_df[\"date\"] = pd.to_datetime(daily_df[[\"year\", \"month\", \"day\"]])\n",
    "\n",
    "# Define the full date range (daily from Jan 2023 to Dec 2024)\n",
    "#full_date_range = pd.date_range(start=\"2023-01-01\", end=\"2024-12-31\", freq=\"D\")  # 'D' for daily\n",
    "\n",
    "# Drop unnecessary columns\n",
    "daily_df = daily_df[[\"date\", \"profile_id\", \"followers_num\"]]\n",
    "\n",
    "# Create a MultiIndex with all profiles and all days\n",
    "#full_index = pd.MultiIndex.from_product([unique_ids, full_date_range], names=[\"profile_id\", \"date\"])\n",
    "\n",
    "# Reindex the DataFrame to enforce this structure\n",
    "#daily_df = daily_df.set_index([\"profile_id\", \"date\"]).reindex(full_index).reset_index()\n",
    "\n",
    "# Randomly select 60 IDs\n",
    "#selected_ids = np.random.choice(unique_ids, size=60, replace=False)\n",
    "\n",
    "# Filter the DataFrame to include only the selected IDs\n",
    "#daily_df = daily_df[daily_df['profile_id'].isin(selected_ids)]\n",
    "\n",
    "# Verify the number of unique IDs in the filtered DataFrame\n",
    "#print(f\"Number of unique IDs in filtered DataFrame: {daily_df['profile_id'].nunique()}\")\n",
    "\n",
    "# Fill missing values\n",
    "daily_df.fillna(method='ffill', inplace=True)\n",
    "daily_df.fillna(method='bfill', inplace=True)\n",
    "daily_df.fillna(0, inplace=True)\n",
    "\n",
    "# # Split the data\n",
    "# train_df = daily_df[daily_df['date'] < '2024-07-01']\n",
    "# test_df = daily_df[daily_df['date'] >= '2024-07-01']\n",
    "\n",
    "# Sort data by date to ensure correct splitting\n",
    "daily_df = daily_df.sort_values(\"date\")\n",
    "\n",
    "# Find the total number of unique days\n",
    "unique_dates = daily_df[\"date\"].unique()\n",
    "\n",
    "# Determine the split index (75% of the data)\n",
    "split_index = int(len(unique_dates) * 0.75)\n",
    "\n",
    "# Get the corresponding date for the split\n",
    "split_date = unique_dates[split_index]  # This is the cutoff date\n",
    "\n",
    "# Perform the split dynamically\n",
    "train_df = daily_df[daily_df[\"date\"] < split_date]\n",
    "test_df = daily_df[daily_df[\"date\"] >= split_date]\n",
    "\n",
    "# Verify the split\n",
    "print(\"Train Data Range:\", train_df[\"date\"].min(), \"to\", train_df[\"date\"].max())\n",
    "print(\"Test Data Range:\", test_df[\"date\"].min(), \"to\", test_df[\"date\"].max())\n",
    "print(f\"Split Date: {split_date}, Total Unique Days: {len(unique_dates)}\")\n",
    "\n",
    "\n",
    "# Pivot and convert dates to daily format\n",
    "def prepare_for_autts(df):\n",
    "    df = df.pivot(index='date', columns='profile_id', values='followers_num')\n",
    "    df = df.fillna(method='ffill')\n",
    "    df.index = df.index.to_period('D').to_timestamp('D')  # Convert to daily timestamp\n",
    "    df = df.fillna(method='ffill')\n",
    "    return df\n",
    "\n",
    "train_df = prepare_for_autts(train_df)\n",
    "test_df = prepare_for_autts(test_df)\n",
    "\n",
    "# Ensure no missing values\n",
    "train_df.fillna(method='ffill', inplace=True)\n",
    "train_df.fillna(method='bfill', inplace=True)\n",
    "train_df.fillna(0, inplace=True)\n",
    "\n",
    "test_df.fillna(method='ffill', inplace=True)\n",
    "test_df.fillna(method='bfill', inplace=True)\n",
    "test_df.fillna(0, inplace=True)\n",
    "\n",
    "# ----- AUTOTS MODEL -----\n",
    "# Initialize and train the AutoTS model for daily forecasting\n",
    "model = AutoTS(\n",
    "    forecast_length=len(test_df),  \n",
    "    frequency='D',  # Daily frequency\n",
    "    ensemble='simple',\n",
    "    max_generations=10,\n",
    "    num_validations=3,\n",
    "    validation_method='backwards'\n",
    ")\n",
    "\n",
    "# Train the model\n",
    "model = model.fit(train_df)\n",
    "\n",
    "# Generate predictions\n",
    "predictions = model.predict(prediction_interval=0.95, fail_on_forecast_nan=False)\n",
    "forecast_df = predictions.forecast.fillna(0)\n",
    "\n",
    "common_index = forecast_df.index.intersection(test_df.index)\n",
    "forecast_df = forecast_df.loc[common_index]\n",
    "test_df_aligned = test_df.loc[common_index]\n",
    "\n",
    "# Align test data with predictions\n",
    "test_df_aligned = test_df.loc[forecast_df.index]\n",
    "\n",
    "# Evaluate AutoTS model\n",
    "evaluation_results_90 = []\n",
    "for profile_id in test_df_aligned.columns:\n",
    "    true_values = test_df_aligned[profile_id]\n",
    "    predicted_values = forecast_df[profile_id]\n",
    "    mae_autots = mean_absolute_error(true_values, predicted_values)\n",
    "    mse_autots = mean_squared_error(true_values, predicted_values)\n",
    "    evaluation_results_90.append({'Profile': profile_id, 'MAE_AutoTS_Daily': mae_autots, 'MSE_AutoTS_Daily': mse_autots})\n",
    "\n",
    "# Create a comparison DataFrame\n",
    "evaluation_df_90 = pd.DataFrame(evaluation_results_90)"
   ]
  },
  {
   "cell_type": "code",
   "execution_count": 5,
   "metadata": {},
   "outputs": [
    {
     "data": {
      "text/plain": [
       "[{'Profile': '64087abe6d4b2df660baa360f5041e2e3c05ed9d406e6d297d13c314c3f3ded5',\n",
       "  'MAE_AutoTS_Daily': 576092.9723340594,\n",
       "  'MSE_AutoTS_Daily': 5507612599481.65}]"
      ]
     },
     "execution_count": 5,
     "metadata": {},
     "output_type": "execute_result"
    }
   ],
   "source": [
    "evaluation_results_90"
   ]
  }
 ],
 "metadata": {
  "language_info": {
   "name": "python"
  }
 },
 "nbformat": 4,
 "nbformat_minor": 2
}
