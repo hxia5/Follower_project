{
 "cells": [
  {
   "cell_type": "code",
   "execution_count": 1,
   "metadata": {},
   "outputs": [
    {
     "name": "stdout",
     "output_type": "stream",
     "text": [
      "Train Data Range: 2023-01-01 00:00:00 to 2023-08-04 00:00:00\n",
      "Test Data Range: 2023-08-05 00:00:00 to 2024-10-15 00:00:00\n",
      "Split Date: 2023-08-05 00:00:00, Total Unique Days: 288\n",
      "Using 4 cpus for n_jobs.\n",
      "Data frequency is: D, used frequency is: D\n",
      "Too many training validations for length of data provided, decreasing num_validations to 1\n",
      "Model Number: 1 with model AverageValueNaive in generation 0 of 10\n",
      "Model Number: 2 with model AverageValueNaive in generation 0 of 10\n",
      "Model Number: 3 with model AverageValueNaive in generation 0 of 10\n"
     ]
    },
    {
     "name": "stderr",
     "output_type": "stream",
     "text": [
      "/tmp/ipykernel_81335/3274799494.py:19: SettingWithCopyWarning: \n",
      "A value is trying to be set on a copy of a slice from a DataFrame.\n",
      "Try using .loc[row_indexer,col_indexer] = value instead\n",
      "\n",
      "See the caveats in the documentation: https://pandas.pydata.org/pandas-docs/stable/user_guide/indexing.html#returning-a-view-versus-a-copy\n",
      "  user_data[\"year\"] = user_data[\"date\"].dt.year\n",
      "/tmp/ipykernel_81335/3274799494.py:20: SettingWithCopyWarning: \n",
      "A value is trying to be set on a copy of a slice from a DataFrame.\n",
      "Try using .loc[row_indexer,col_indexer] = value instead\n",
      "\n",
      "See the caveats in the documentation: https://pandas.pydata.org/pandas-docs/stable/user_guide/indexing.html#returning-a-view-versus-a-copy\n",
      "  user_data[\"month\"] = user_data[\"date\"].dt.month\n",
      "/tmp/ipykernel_81335/3274799494.py:21: SettingWithCopyWarning: \n",
      "A value is trying to be set on a copy of a slice from a DataFrame.\n",
      "Try using .loc[row_indexer,col_indexer] = value instead\n",
      "\n",
      "See the caveats in the documentation: https://pandas.pydata.org/pandas-docs/stable/user_guide/indexing.html#returning-a-view-versus-a-copy\n",
      "  user_data[\"day\"] = user_data[\"date\"].dt.day\n",
      "/tmp/ipykernel_81335/3274799494.py:56: FutureWarning: DataFrame.fillna with 'method' is deprecated and will raise in a future version. Use obj.ffill() or obj.bfill() instead.\n",
      "  daily_df.fillna(method='ffill', inplace=True)\n",
      "/tmp/ipykernel_81335/3274799494.py:57: FutureWarning: DataFrame.fillna with 'method' is deprecated and will raise in a future version. Use obj.ffill() or obj.bfill() instead.\n",
      "  daily_df.fillna(method='bfill', inplace=True)\n",
      "/tmp/ipykernel_81335/3274799494.py:89: FutureWarning: DataFrame.fillna with 'method' is deprecated and will raise in a future version. Use obj.ffill() or obj.bfill() instead.\n",
      "  df = df.fillna(method='ffill')\n",
      "/tmp/ipykernel_81335/3274799494.py:91: FutureWarning: DataFrame.fillna with 'method' is deprecated and will raise in a future version. Use obj.ffill() or obj.bfill() instead.\n",
      "  df = df.fillna(method='ffill')\n",
      "/tmp/ipykernel_81335/3274799494.py:89: FutureWarning: DataFrame.fillna with 'method' is deprecated and will raise in a future version. Use obj.ffill() or obj.bfill() instead.\n",
      "  df = df.fillna(method='ffill')\n",
      "/tmp/ipykernel_81335/3274799494.py:91: FutureWarning: DataFrame.fillna with 'method' is deprecated and will raise in a future version. Use obj.ffill() or obj.bfill() instead.\n",
      "  df = df.fillna(method='ffill')\n",
      "/tmp/ipykernel_81335/3274799494.py:98: FutureWarning: DataFrame.fillna with 'method' is deprecated and will raise in a future version. Use obj.ffill() or obj.bfill() instead.\n",
      "  train_df.fillna(method='ffill', inplace=True)\n",
      "/tmp/ipykernel_81335/3274799494.py:99: FutureWarning: DataFrame.fillna with 'method' is deprecated and will raise in a future version. Use obj.ffill() or obj.bfill() instead.\n",
      "  train_df.fillna(method='bfill', inplace=True)\n",
      "/tmp/ipykernel_81335/3274799494.py:102: FutureWarning: DataFrame.fillna with 'method' is deprecated and will raise in a future version. Use obj.ffill() or obj.bfill() instead.\n",
      "  test_df.fillna(method='ffill', inplace=True)\n",
      "/tmp/ipykernel_81335/3274799494.py:103: FutureWarning: DataFrame.fillna with 'method' is deprecated and will raise in a future version. Use obj.ffill() or obj.bfill() instead.\n",
      "  test_df.fillna(method='bfill', inplace=True)\n"
     ]
    },
    {
     "name": "stdout",
     "output_type": "stream",
     "text": [
      "Model Number: 4 with model DatepartRegression in generation 0 of 10\n",
      "Model Number: 5 with model DatepartRegression in generation 0 of 10\n",
      "Model Number: 6 with model DatepartRegression in generation 0 of 10\n"
     ]
    },
    {
     "name": "stderr",
     "output_type": "stream",
     "text": [
      "/home/zeus/miniconda3/envs/cloudspace/lib/python3.10/site-packages/sklearn/svm/_classes.py:32: FutureWarning: The default value of `dual` will change from `True` to `'auto'` in 1.5. Set the value of `dual` explicitly to suppress the warning.\n",
      "  warnings.warn(\n",
      "/home/zeus/miniconda3/envs/cloudspace/lib/python3.10/site-packages/sklearn/svm/_base.py:1250: ConvergenceWarning: Liblinear failed to converge, increase the number of iterations.\n",
      "  warnings.warn(\n",
      "/home/zeus/miniconda3/envs/cloudspace/lib/python3.10/site-packages/sklearn/neural_network/_multilayer_perceptron.py:546: ConvergenceWarning: lbfgs failed to converge (status=1):\n",
      "STOP: TOTAL NO. of ITERATIONS REACHED LIMIT.\n",
      "\n",
      "Increase the number of iterations (max_iter) or scale the data as shown in:\n",
      "    https://scikit-learn.org/stable/modules/preprocessing.html\n",
      "  self.n_iter_ = _check_optimize_result(\"lbfgs\", opt_res, self.max_iter)\n"
     ]
    },
    {
     "name": "stdout",
     "output_type": "stream",
     "text": [
      "Model Number: 7 with model DatepartRegression in generation 0 of 10\n",
      "Template Eval Error: ImportError('Tensorflow not available, install with pip install tensorflow.') in model 7 in generation 0: DatepartRegression\n",
      "Model Number: 8 with model ETS in generation 0 of 10\n",
      "Model Number: 9 with model ETS in generation 0 of 10\n",
      "Model Number: 10 with model GLM in generation 0 of 10\n",
      "Model Number: 11 with model GLM in generation 0 of 10\n",
      "Model Number: 12 with model GLS in generation 0 of 10\n",
      "Model Number: 13 with model GLS in generation 0 of 10\n",
      "Model Number: 14 with model LastValueNaive in generation 0 of 10\n",
      "Model Number: 15 with model LastValueNaive in generation 0 of 10\n",
      "Model Number: 16 with model LastValueNaive in generation 0 of 10\n",
      "Model Number: 17 with model LastValueNaive in generation 0 of 10\n",
      "Model Number: 18 with model SeasonalNaive in generation 0 of 10\n",
      "Model Number: 19 with model SeasonalNaive in generation 0 of 10\n",
      "Model Number: 20 with model SeasonalNaive in generation 0 of 10\n",
      "Model Number: 21 with model VAR in generation 0 of 10\n",
      "Template Eval Error: ValueError('Only gave one variable to VAR') in model 21 in generation 0: VAR\n",
      "Model Number: 22 with model VAR in generation 0 of 10\n",
      "Template Eval Error: ValueError('Only gave one variable to VAR') in model 22 in generation 0: VAR\n",
      "Model Number: 23 with model WindowRegression in generation 0 of 10\n",
      "Model Number: 24 with model ConstantNaive in generation 0 of 10\n",
      "Model Number: 25 with model FBProphet in generation 0 of 10\n",
      "Template Eval Error: ModuleNotFoundError(\"No module named 'fbprophet'\") in model 25 in generation 0: FBProphet\n",
      "Model Number: 26 with model DatepartRegression in generation 0 of 10\n",
      "Template Eval Error: ValueError(\"regression_type='User' but no future_regressor passed\") in model 26 in generation 0: DatepartRegression\n",
      "Model Number: 27 with model SeasonalNaive in generation 0 of 10\n"
     ]
    },
    {
     "name": "stderr",
     "output_type": "stream",
     "text": [
      "/home/zeus/miniconda3/envs/cloudspace/lib/python3.10/site-packages/sklearn/neural_network/_multilayer_perceptron.py:546: ConvergenceWarning: lbfgs failed to converge (status=1):\n",
      "STOP: TOTAL NO. of ITERATIONS REACHED LIMIT.\n",
      "\n",
      "Increase the number of iterations (max_iter) or scale the data as shown in:\n",
      "    https://scikit-learn.org/stable/modules/preprocessing.html\n",
      "  self.n_iter_ = _check_optimize_result(\"lbfgs\", opt_res, self.max_iter)\n"
     ]
    },
    {
     "name": "stdout",
     "output_type": "stream",
     "text": [
      "Model Number: 28 with model DatepartRegression in generation 0 of 10\n",
      "Model Number: 29 with model ETS in generation 0 of 10\n",
      "Model Number: 30 with model ARDL in generation 0 of 10\n",
      "Model Number: 31 with model UnivariateMotif in generation 0 of 10\n",
      "Model Number: 32 with model UnivariateMotif in generation 0 of 10\n",
      "Model Number: 33 with model SectionalMotif in generation 0 of 10\n",
      "Model Number: 34 with model SectionalMotif in generation 0 of 10\n",
      "Model Number: 35 with model FBProphet in generation 0 of 10\n",
      "Template Eval Error: ModuleNotFoundError(\"No module named 'fbprophet'\") in model 35 in generation 0: FBProphet\n",
      "Model Number: 36 with model SeasonalNaive in generation 0 of 10\n",
      "Model Number: 37 with model DatepartRegression in generation 0 of 10\n",
      "Model Number: 38 with model ARCH in generation 0 of 10\n",
      "Template Eval Error: ImportError('`arch` package must be installed from pip') in model 38 in generation 0: ARCH\n",
      "Model Number: 39 with model Cassandra in generation 0 of 10\n",
      "Template Eval Error: ValueError('more than 1 year of data is required for holiday detection.') in model 39 in generation 0: Cassandra\n",
      "Model Number: 40 with model SeasonalityMotif in generation 0 of 10\n",
      "Model Number: 41 with model Cassandra in generation 0 of 10\n",
      "Template Eval Error: ValueError('more than 1 year of data is required for holiday detection.') in model 41 in generation 0: Cassandra\n",
      "Model Number: 42 with model Cassandra in generation 0 of 10\n",
      "Template Eval Error: ValueError('more than 1 year of data is required for holiday detection.') in model 42 in generation 0: Cassandra\n",
      "Model Number: 43 with model Cassandra in generation 0 of 10\n",
      "Template Eval Error: ValueError('more than 1 year of data is required for holiday detection.') in model 43 in generation 0: Cassandra\n",
      "Model Number: 44 with model SectionalMotif in generation 0 of 10\n",
      "Model Number: 45 with model FBProphet in generation 0 of 10\n",
      "Template Eval Error: ModuleNotFoundError(\"No module named 'fbprophet'\") in model 45 in generation 0: FBProphet\n",
      "Model Number: 46 with model ARDL in generation 0 of 10\n",
      "Model Number: 47 with model FFT in generation 0 of 10\n",
      "Model Number: 48 with model BasicLinearModel in generation 0 of 10\n",
      "Model Number: 49 with model BasicLinearModel in generation 0 of 10\n",
      "Model Number: 50 with model SeasonalityMotif in generation 0 of 10\n",
      "Model Number: 51 with model ETS in generation 0 of 10\n",
      "Model Number: 52 with model FBProphet in generation 0 of 10\n",
      "Template Eval Error: ModuleNotFoundError(\"No module named 'fbprophet'\") in model 52 in generation 0: FBProphet\n",
      "Model Number: 53 with model GLM in generation 0 of 10\n",
      "Model Number: 54 with model UnivariateMotif in generation 0 of 10\n",
      "Model Number: 55 with model ARDL in generation 0 of 10\n",
      "Template Eval Error: ValueError(\"regression_type='User' but future_regressor not supplied\") in model 55 in generation 0: ARDL\n",
      "Model Number: 56 with model ARCH in generation 0 of 10\n",
      "Template Eval Error: ImportError('`arch` package must be installed from pip') in model 56 in generation 0: ARCH\n",
      "Model Number: 57 with model ConstantNaive in generation 0 of 10\n",
      "Model Number: 58 with model LastValueNaive in generation 0 of 10\n",
      "Model Number: 59 with model AverageValueNaive in generation 0 of 10\n",
      "Model Number: 60 with model GLS in generation 0 of 10\n",
      "Model Number: 61 with model SeasonalNaive in generation 0 of 10\n",
      "Model Number: 62 with model VAR in generation 0 of 10\n",
      "Template Eval Error: ValueError('Only gave one variable to VAR') in model 62 in generation 0: VAR\n",
      "Model Number: 63 with model WindowRegression in generation 0 of 10\n",
      "Model Number: 64 with model DatepartRegression in generation 0 of 10\n"
     ]
    },
    {
     "name": "stderr",
     "output_type": "stream",
     "text": [
      "/home/zeus/miniconda3/envs/cloudspace/lib/python3.10/site-packages/sklearn/base.py:458: UserWarning: X has feature names, but StandardScaler was fitted without feature names\n",
      "  warnings.warn(\n"
     ]
    },
    {
     "name": "stdout",
     "output_type": "stream",
     "text": [
      "Model Number: 65 with model SectionalMotif in generation 0 of 10\n",
      "Model Number: 66 with model RRVAR in generation 0 of 10\n",
      "Model Number: 67 with model MetricMotif in generation 0 of 10\n",
      "Model Number: 68 with model Cassandra in generation 0 of 10\n",
      "Template Eval Error: ValueError('Shape of passed values is (144, 2), indices imply (144, 1)') in model 68 in generation 0: Cassandra\n",
      "Model Number: 69 with model SeasonalityMotif in generation 0 of 10\n",
      "Model Number: 70 with model FFT in generation 0 of 10\n"
     ]
    },
    {
     "name": "stderr",
     "output_type": "stream",
     "text": [
      "/home/zeus/miniconda3/envs/cloudspace/lib/python3.10/site-packages/autots/tools/percentile.py:47: RuntimeWarning: All-NaN slice encountered\n",
      "  max_val = np.nanmax(arr)\n"
     ]
    },
    {
     "name": "stdout",
     "output_type": "stream",
     "text": [
      "Model Number: 71 with model BasicLinearModel in generation 0 of 10\n",
      "Model Number: 72 with model SectionalMotif in generation 0 of 10\n",
      "Model Number: 73 with model ARDL in generation 0 of 10\n",
      "Template Eval Error: ValueError(\"regression_type='User' but future_regressor not supplied\") in model 73 in generation 0: ARDL\n",
      "Model Number: 74 with model SeasonalityMotif in generation 0 of 10\n",
      "Model Number: 75 with model MetricMotif in generation 0 of 10\n",
      "Model Number: 76 with model ConstantNaive in generation 0 of 10\n",
      "Model Number: 77 with model UnivariateMotif in generation 0 of 10\n",
      "Template Eval Error: Exception(\"Transformer RobustScaler failed on fit from params pchip {'0': {'low': 6, 'high': 90, 'K': 1, 'lanczos_factor': False, 'return_diff': False, 'on_transform': True, 'on_inverse': False}, '1': {}, '2': {'rows': 1, 'lag': 1, 'method': 'additive', 'strength': 1.0, 'first_value_only': False, 'threshold': 10, 'threshold_method': 'max'}, '3': {'method': 100}, '4': {'window': None}, '5': {'decimals': 0, 'on_transform': True, 'on_inverse': False}} with error ValueError('Shape of passed values is (142, 1), indices imply (144, 1)')\") in model 77 in generation 0: UnivariateMotif\n",
      "Model Number: 78 with model SeasonalityMotif in generation 0 of 10\n",
      "Model Number: 79 with model MetricMotif in generation 0 of 10\n",
      "Model Number: 80 with model ARDL in generation 0 of 10\n",
      "Template Eval Error: ValueError(\"regression_type='User' but future_regressor not supplied\") in model 80 in generation 0: ARDL\n",
      "Model Number: 81 with model ARDL in generation 0 of 10\n",
      "Template Eval Error: ValueError(\"regression_type='User' but future_regressor not supplied\") in model 81 in generation 0: ARDL\n",
      "Model Number: 82 with model SeasonalNaive in generation 0 of 10\n",
      "Template Eval Error: Exception(\"Transformer HolidayTransformer failed on fit from params ffill {'0': {'part': 'trend', 'lamb': 129600}, '1': {'output_distribution': 'uniform', 'n_quantiles': 48}, '2': {}, '3': {'threshold': 0.9, 'splash_threshold': None, 'use_dayofmonth_holidays': True, 'use_wkdom_holidays': True, 'use_wkdeom_holidays': True, 'use_lunar_holidays': False, 'use_lunar_weekday': False, 'use_islamic_holidays': False, 'use_hebrew_holidays': False, 'use_hindu_holidays': True, 'anomaly_detector_params': {'method': 'minmax', 'method_params': {'alpha': 0.03}, 'fillna': 'mean', 'transform_dict': None, 'isolated_only': False, 'on_inverse': False}, 'remove_excess_anomalies': False, 'impact': 'datepart_regression', 'regression_params': {'regression_model': {'model': 'ElasticNet', 'model_params': {'l1_ratio': 0.5, 'fit_intercept': True, 'selection': 'cyclic', 'max_iter': 1000}}, 'datepart_method': 'expanded', 'polynomial_degree': None, 'transform_dict': None, 'holiday_countries_used': False, 'lags': None, 'forward_lags': 4}}, '4': {}} with error ValueError('more than 1 year of data is required for holiday detection.')\") in model 82 in generation 0: SeasonalNaive\n",
      "Model Number: 83 with model Cassandra in generation 0 of 10\n",
      "Template Eval Error: UnboundLocalError(\"local variable 'slope' referenced before assignment\") in model 83 in generation 0: Cassandra\n",
      "Model Number: 84 with model VAR in generation 0 of 10\n",
      "Template Eval Error: ValueError('Only gave one variable to VAR') in model 84 in generation 0: VAR\n",
      "Model Number: 85 with model SeasonalityMotif in generation 0 of 10\n",
      "Template Eval Error: ValueError('kth(=99) out of bounds (81)') in model 85 in generation 0: SeasonalityMotif\n",
      "Model Number: 86 with model DatepartRegression in generation 0 of 10\n",
      "Model Number: 87 with model SectionalMotif in generation 0 of 10\n",
      "Model Number: 88 with model RRVAR in generation 0 of 10\n",
      "Model Number: 89 with model VAR in generation 0 of 10\n",
      "Template Eval Error: LinAlgError('2-th leading minor of the array is not positive definite') in model 89 in generation 0: VAR\n",
      "Model Number: 90 with model VAR in generation 0 of 10\n",
      "Template Eval Error: ValueError('Only gave one variable to VAR') in model 90 in generation 0: VAR\n",
      "Model Number: 91 with model FBProphet in generation 0 of 10\n",
      "Template Eval Error: ModuleNotFoundError(\"No module named 'fbprophet'\") in model 91 in generation 0: FBProphet\n",
      "Model Number: 92 with model SeasonalityMotif in generation 0 of 10\n",
      "Model Number: 93 with model GLS in generation 0 of 10\n",
      "Model Number: 94 with model GLM in generation 0 of 10\n",
      "Template Eval Error: ValueError('regression_type=user and no future_regressor passed') in model 94 in generation 0: GLM\n",
      "Model Number: 95 with model GLM in generation 0 of 10\n",
      "Model Number: 96 with model LastValueNaive in generation 0 of 10\n",
      "Model Number: 97 with model VAR in generation 0 of 10\n",
      "Template Eval Error: ValueError('Only gave one variable to VAR') in model 97 in generation 0: VAR\n",
      "Model Number: 98 with model ETS in generation 0 of 10\n"
     ]
    },
    {
     "name": "stderr",
     "output_type": "stream",
     "text": [
      "/home/zeus/miniconda3/envs/cloudspace/lib/python3.10/site-packages/statsmodels/genmod/families/family.py:1367: ValueWarning: Negative binomial dispersion parameter alpha not set. Using default value alpha=1.0.\n",
      "  warnings.warn(\"Negative binomial dispersion parameter alpha not \"\n"
     ]
    },
    {
     "name": "stdout",
     "output_type": "stream",
     "text": [
      "Model Number: 99 with model Cassandra in generation 0 of 10\n",
      "Model Number: 100 with model SeasonalityMotif in generation 0 of 10\n",
      "Model Number: 101 with model SectionalMotif in generation 0 of 10\n"
     ]
    },
    {
     "name": "stderr",
     "output_type": "stream",
     "text": [
      "/home/zeus/miniconda3/envs/cloudspace/lib/python3.10/site-packages/numpy/lib/function_base.py:2897: RuntimeWarning: invalid value encountered in divide\n",
      "  c /= stddev[:, None]\n",
      "/home/zeus/miniconda3/envs/cloudspace/lib/python3.10/site-packages/numpy/lib/function_base.py:2898: RuntimeWarning: invalid value encountered in divide\n",
      "  c /= stddev[None, :]\n"
     ]
    },
    {
     "name": "stdout",
     "output_type": "stream",
     "text": [
      "Model Number: 102 with model GLS in generation 0 of 10\n",
      "Template Eval Error: ValueError(\"Model returned NaN due to a preprocessing transformer {'fillna': 'fake_date', 'transformations': {'0': 'AlignLastValue', '1': 'SeasonalDifference', '2': 'Log', '3': 'ClipOutliers', '4': 'CumSumTransformer'}, 'transformation_params': {'0': {'rows': 4, 'lag': 1, 'method': 'additive', 'strength': 1.0, 'first_value_only': False, 'threshold': None, 'threshold_method': 'max'}, '1': {'lag_1': 7, 'method': 20}, '2': {}, '3': {'method': 'clip', 'std_threshold': 4, 'fillna': None}, '4': {}}}. fail_on_forecast_nan=True\") in model 102 in generation 0: GLS\n",
      "Model Number: 103 with model GLS in generation 0 of 10\n",
      "Template Eval Error: Exception('Transformer PCA failed on fit from params zero {\\'0\\': {\\'method\\': \\'clip\\', \\'std_threshold\\': 3, \\'fillna\\': None}, \\'1\\': {\\'model\\': \\'GLS\\', \\'phi\\': 1, \\'window\\': None, \\'transform_dict\\': None}, \\'2\\': {\\'whiten\\': True, \\'n_components\\': 10}, \\'3\\': {\\'rows\\': 1, \\'lag\\': 1, \\'method\\': \\'additive\\', \\'strength\\': 1.0, \\'first_value_only\\': False, \\'threshold\\': None, \\'threshold_method\\': \\'mean\\'}} with error ValueError(\"n_components=10 must be between 0 and min(n_samples, n_features)=1 with svd_solver=\\'full\\'\")') in model 103 in generation 0: GLS\n",
      "Model Number: 104 with model ARCH in generation 0 of 10\n",
      "Template Eval Error: ImportError('`arch` package must be installed from pip') in model 104 in generation 0: ARCH\n",
      "Model Number: 105 with model SeasonalityMotif in generation 0 of 10\n",
      "Template Eval Error: Exception(\"Transformer HolidayTransformer failed on fit from params cubic {'0': {}, '1': {'threshold': 0.9, 'splash_threshold': 0.65, 'use_dayofmonth_holidays': True, 'use_wkdom_holidays': False, 'use_wkdeom_holidays': False, 'use_lunar_holidays': False, 'use_lunar_weekday': False, 'use_islamic_holidays': False, 'use_hebrew_holidays': False, 'use_hindu_holidays': False, 'anomaly_detector_params': {'method': 'zscore', 'method_params': {'distribution': 'chi2', 'alpha': 0.05}, 'fillna': 'ffill', 'transform_dict': None, 'isolated_only': False, 'on_inverse': False}, 'remove_excess_anomalies': True, 'impact': 'datepart_regression', 'regression_params': {'regression_model': {'model': 'ElasticNet', 'model_params': {'l1_ratio': 0.5, 'fit_intercept': True, 'selection': 'cyclic', 'max_iter': 1000}}, 'datepart_method': 'common_fourier', 'polynomial_degree': None, 'transform_dict': {'fillna': None, 'transformations': {'0': 'ScipyFilter'}, 'transformation_params': {'0': {'method': 'savgol_filter', 'method_args': {'window_length': 31, 'polyorder': 3, 'deriv': 0, 'mode': 'interp'}}}}, 'holiday_countries_used': False, 'lags': None, 'forward_lags': None}}, '2': {}, '3': {'window_size': 364, 'alpha': 2.2, 'grouping_forward_limit': 4, 'max_level_shifts': 10, 'alignment': 'rolling_diff_5nn'}, '4': {'lag': 7, 'fill': 'bfill'}, '5': {}} with error ValueError('more than 1 year of data is required for holiday detection.')\") in model 105 in generation 0: SeasonalityMotif\n",
      "Model Number: 106 with model LastValueNaive in generation 0 of 10\n",
      "Model Number: 107 with model BasicLinearModel in generation 0 of 10\n"
     ]
    },
    {
     "name": "stderr",
     "output_type": "stream",
     "text": [
      "/home/zeus/miniconda3/envs/cloudspace/lib/python3.10/site-packages/pandas/core/internals/blocks.py:366: RuntimeWarning: overflow encountered in exp\n",
      "  result = func(self.values, **kwargs)\n"
     ]
    },
    {
     "name": "stdout",
     "output_type": "stream",
     "text": [
      "Model Number: 108 with model LastValueNaive in generation 0 of 10\n",
      "Model Number: 109 with model AverageValueNaive in generation 0 of 10\n",
      "Model Number: 110 with model DatepartRegression in generation 0 of 10\n",
      "Model Number: 111 with model ETS in generation 0 of 10\n",
      "Model Number: 112 with model ARCH in generation 0 of 10\n",
      "Template Eval Error: ImportError('`arch` package must be installed from pip') in model 112 in generation 0: ARCH\n",
      "Model Number: 113 with model FFT in generation 0 of 10\n",
      "Model Number: 114 with model FBProphet in generation 0 of 10\n",
      "Template Eval Error: ModuleNotFoundError(\"No module named 'fbprophet'\") in model 114 in generation 0: FBProphet\n",
      "Model Number: 115 with model MetricMotif in generation 0 of 10\n",
      "Model Number: 116 with model UnivariateMotif in generation 0 of 10\n",
      "Model Number: 117 with model WindowRegression in generation 0 of 10\n",
      "Template Eval Error: Exception(\"Transformer HolidayTransformer failed on fit from params ffill {'0': {'rows': 1, 'lag': 1, 'method': 'additive', 'strength': 0.7, 'first_value_only': False, 'threshold': 10, 'threshold_method': 'mean'}, '1': {'threshold': 0.8, 'splash_threshold': None, 'use_dayofmonth_holidays': True, 'use_wkdom_holidays': True, 'use_wkdeom_holidays': False, 'use_lunar_holidays': False, 'use_lunar_weekday': True, 'use_islamic_holidays': False, 'use_hebrew_holidays': False, 'use_hindu_holidays': False, 'anomaly_detector_params': {'method': 'IQR', 'method_params': {'iqr_threshold': 2.0, 'iqr_quantiles': [0.25, 0.75]}, 'fillna': 'rolling_mean_24', 'transform_dict': {'fillna': None, 'transformations': {'0': 'ClipOutliers'}, 'transformation_params': {'0': {'method': 'clip', 'std_threshold': 6}}}, 'isolated_only': False, 'on_inverse': False}, 'remove_excess_anomalies': True, 'impact': 'datepart_regression', 'regression_params': {'regression_model': {'model': 'ElasticNet', 'model_params': {'l1_ratio': 0.5, 'fit_intercept': True, 'selection': 'cyclic', 'max_iter': 1000}}, 'datepart_method': 'simple', 'polynomial_degree': None, 'transform_dict': None, 'holiday_countries_used': False, 'lags': None, 'forward_lags': None}}} with error ValueError('more than 1 year of data is required for holiday detection.')\") in model 117 in generation 0: WindowRegression\n",
      "Model Number: 118 with model UnivariateMotif in generation 0 of 10\n",
      "Model Number: 119 with model ETS in generation 0 of 10\n",
      "Model Number: 120 with model LastValueNaive in generation 0 of 10\n",
      "Model Number: 121 with model Cassandra in generation 0 of 10\n",
      "Model Number: 122 with model SectionalMotif in generation 0 of 10\n",
      "Model Number: 123 with model DatepartRegression in generation 0 of 10\n",
      "Template Eval Error: ValueError(\"regression_type='User' but no future_regressor passed\") in model 123 in generation 0: DatepartRegression\n",
      "Model Number: 124 with model GLM in generation 0 of 10\n",
      "Model Number: 125 with model LastValueNaive in generation 0 of 10\n",
      "Model Number: 126 with model MetricMotif in generation 0 of 10\n",
      "Model Number: 127 with model FFT in generation 0 of 10\n",
      "Model Number: 128 with model MetricMotif in generation 0 of 10\n",
      "Model Number: 129 with model ETS in generation 0 of 10\n",
      "Model Number: 130 with model SeasonalityMotif in generation 0 of 10\n",
      "Model Number: 131 with model LastValueNaive in generation 0 of 10\n",
      "Model Number: 132 with model SectionalMotif in generation 0 of 10\n",
      "Template Eval Error: Exception(\"Transformer HolidayTransformer failed on fit from params zero {'0': {'constraint_method': 'last_window', 'constraint_direction': 'lower', 'constraint_regularization': 0.5, 'constraint_value': {'window': 10, 'threshold': -0.1}, 'bounds_only': False, 'fillna': None}, '1': {'model': 'Linear', 'phi': 1, 'window': None, 'transform_dict': None}, '2': {}, '3': {}, '4': {'threshold': 0.8, 'splash_threshold': 0.4, 'use_dayofmonth_holidays': True, 'use_wkdom_holidays': True, 'use_wkdeom_holidays': False, 'use_lunar_holidays': False, 'use_lunar_weekday': False, 'use_islamic_holidays': False, 'use_hebrew_holidays': False, 'use_hindu_holidays': False, 'anomaly_detector_params': {'method': 'mad', 'method_params': {'distribution': 'uniform', 'alpha': 0.05}, 'fillna': 'fake_date', 'transform_dict': {'transformations': {'0': 'DatepartRegression'}, 'transformation_params': {'0': {'datepart_method': 'simple_3', 'regression_model': {'model': 'DecisionTree', 'model_params': {'max_depth': None, 'min_samples_split': 0.1}}}}}, 'isolated_only': False, 'on_inverse': False}, 'remove_excess_anomalies': True, 'impact': 'regression', 'regression_params': {}}, '5': {'fixed': True, 'window': 7, 'macro_micro': False, 'center': True}} with error ValueError('more than 1 year of data is required for holiday detection.')\") in model 132 in generation 0: SectionalMotif\n",
      "Model Number: 133 with model ARDL in generation 0 of 10\n",
      "Template Eval Error: ValueError(\"regression_type='User' but future_regressor not supplied\") in model 133 in generation 0: ARDL\n",
      "Model Number: 134 with model FFT in generation 0 of 10\n",
      "Model Number: 135 with model SectionalMotif in generation 0 of 10\n",
      "Template Eval Error: Exception(\"Transformer Detrend failed on fit from params time {'0': {'method': 'clip', 'std_threshold': 4, 'fillna': None}, '1': {'model': 'Linear', 'phi': 1, 'window': None, 'transform_dict': {'fillna': None, 'transformations': {'0': 'AnomalyRemoval'}, 'transformation_params': {'0': {'method': 'zscore', 'transform_dict': {'transformations': {'0': 'DatepartRegression'}, 'transformation_params': {'0': {'datepart_method': 'simple_3', 'regression_model': {'model': 'ElasticNet', 'model_params': {}}}}}, 'method_params': {'distribution': 'uniform', 'alpha': 0.05}}}}}, '2': {'lag': 7, 'fill': 'bfill'}} with error ValueError('Input y contains NaN.')\") in model 135 in generation 0: SectionalMotif\n",
      "Model Number: 136 with model WindowRegression in generation 0 of 10\n",
      "Template Eval Error: ModuleNotFoundError(\"No module named 'lightgbm'\") in model 136 in generation 0: WindowRegression\n",
      "Model Number: 137 with model ARDL in generation 0 of 10\n",
      "Model Number: 138 with model GLS in generation 0 of 10\n",
      "Model Number: 139 with model ARDL in generation 0 of 10\n",
      "Model Number: 140 with model RRVAR in generation 0 of 10\n",
      "Model Number: 141 with model SeasonalityMotif in generation 0 of 10\n",
      "Model Number: 142 with model MetricMotif in generation 0 of 10\n",
      "Model Number: 143 with model ETS in generation 0 of 10\n",
      "Model Number: 144 with model ConstantNaive in generation 0 of 10\n",
      "Model Number: 145 with model UnivariateMotif in generation 0 of 10\n",
      "Model Number: 146 with model ETS in generation 0 of 10\n",
      "Model Number: 147 with model FFT in generation 0 of 10\n",
      "Model Number: 148 with model ARCH in generation 0 of 10\n",
      "Template Eval Error: ImportError('`arch` package must be installed from pip') in model 148 in generation 0: ARCH\n",
      "Model Number: 149 with model GLM in generation 0 of 10\n",
      "Template Eval Error: ValueError('The first guess on the deviance function returned a nan.  This could be a boundary  problem and should be reported.') in model 149 in generation 0: GLM\n",
      "Model Number: 150 with model ARCH in generation 0 of 10\n"
     ]
    },
    {
     "name": "stderr",
     "output_type": "stream",
     "text": [
      "/home/zeus/miniconda3/envs/cloudspace/lib/python3.10/site-packages/statsmodels/genmod/families/family.py:1650: RuntimeWarning: invalid value encountered in log\n",
      "  endog * np.log(endog / mu) + (mu - endog))\n"
     ]
    },
    {
     "name": "stdout",
     "output_type": "stream",
     "text": [
      "Template Eval Error: ImportError('`arch` package must be installed from pip') in model 150 in generation 0: ARCH\n",
      "Model Number: 151 with model ConstantNaive in generation 0 of 10\n",
      "Model Number: 152 with model FFT in generation 0 of 10\n",
      "Model Number: 153 with model LastValueNaive in generation 0 of 10\n",
      "Model Number: 154 with model ConstantNaive in generation 0 of 10\n",
      "Model Number: 155 with model MetricMotif in generation 0 of 10\n",
      "New Generation: 1 of 10\n",
      "Model Number: 156 with model GLS in generation 1 of 10\n",
      "SVD did not converge, attempting more robust approach...\n",
      "Template Eval Error: Exception(\"Transformer KalmanSmoothing failed on fit from params cubic {'0': {'lag_1': 12, 'method': 'LastValue'}, '1': {'rows': 7, 'lag': 1, 'method': 'additive', 'strength': 1.0, 'first_value_only': False, 'threshold': None, 'threshold_method': 'mean'}, '2': {'model_name': 'locallinear_weekly_fourier', 'state_transition': [[1.0, 1.0, 0.0, 0.0, 0.0, 0.0, 0.0, 0.0, 0.0, 0.0, 0.0, 0.0], [0.0, 1.0, 0.0, 0.0, 0.0, 0.0, 0.0, 0.0, 0.0, 0.0, 0.0, 0.0], [0.0, 0.0, 0.0, 1.0, 0.0, 0.0, 0.0, 0.0, 0.0, 0.0, 0.0, 0.0], [0.0, 0.0, 0.0, 0.0, 1.0, 0.0, 0.0, 0.0, 0.0, 0.0, 0.0, 0.0], [0.0, 0.0, 0.0, 0.0, 0.0, 1.0, 0.0, 0.0, 0.0, 0.0, 0.0, 0.0], [0.0, 0.0, 0.0, 0.0, 0.0, 0.0, 1.0, 0.0, 0.0, 0.0, 0.0, 0.0], [0.0, 0.0, 0.0, 0.0, 0.0, 0.0, 0.0, 1.0, 0.0, 0.0, 0.0, 0.0], [0.0, 0.0, -1.0, 0.0, 0.0, 0.0, 0.0, 0.0, 0.0, 0.0, 0.0, 0.0], [0.0, 0.0, 0.0, 0.0, 0.0, 0.0, 0.0, 0.0, 0.9998520419557735, 0.017201575418260506, 0.0, 0.0], [0.0, 0.0, 0.0, 0.0, 0.0, 0.0, 0.0, 0.0, -0.017201575418260506, 0.9998520419557735, 0.0, 0.0], [0.0, 0.0, 0.0, 0.0, 0.0, 0.0, 0.0, 0.0, 0.9994082116062598, 0.03439806061360801, 0.0, 0.0], [0.0, 0.0, 0.0, 0.0, 0.0, 0.0, 0.0, 0.0, -0.03439806061360801, 0.9994082116062598, 0.0, 0.0]], 'process_noise': [[0.01, 0.0, 0.0, 0.0, 0.0, 0.0, 0.0, 0.0, 0.0, 0.0, 0.0, 0.0], [0.0, 0.001, 0.0, 0.0, 0.0, 0.0, 0.0, 0.0, 0.0, 0.0, 0.0, 0.0], [0.0, 0.0, 0.01, 0.0, 0.0, 0.0, 0.0, 0.0, 0.0, 0.0, 0.0, 0.0], [0.0, 0.0, 0.0, 0.01, 0.0, 0.0, 0.0, 0.0, 0.0, 0.0, 0.0, 0.0], [0.0, 0.0, 0.0, 0.0, 0.01, 0.0, 0.0, 0.0, 0.0, 0.0, 0.0, 0.0], [0.0, 0.0, 0.0, 0.0, 0.0, 0.01, 0.0, 0.0, 0.0, 0.0, 0.0, 0.0], [0.0, 0.0, 0.0, 0.0, 0.0, 0.0, 0.01, 0.0, 0.0, 0.0, 0.0, 0.0], [0.0, 0.0, 0.0, 0.0, 0.0, 0.0, 0.0, 0.01, 0.0, 0.0, 0.0, 0.0], [0.0, 0.0, 0.0, 0.0, 0.0, 0.0, 0.0, 0.0, 0.01, 0.0, 0.0, 0.0], [0.0, 0.0, 0.0, 0.0, 0.0, 0.0, 0.0, 0.0, 0.0, 0.01, 0.0, 0.0], [0.0, 0.0, 0.0, 0.0, 0.0, 0.0, 0.0, 0.0, 0.0, 0.0, 0.01, 0.0], [0.0, 0.0, 0.0, 0.0, 0.0, 0.0, 0.0, 0.0, 0.0, 0.0, 0.0, 0.01]], 'observation_model': [[1.0, 0.0, 1.0, 1.0, 1.0, 1.0, 1.0, 1.0, 0.9998520419557735, 0.017201575418260506, 0.9994082116062598, 0.03439806061360801]], 'observation_noise': 0.1, 'em_iter': 30, 'on_transform': True, 'on_inverse': False}} with error LinAlgError('SVD did not converge')\") in model 156 in generation 1: GLS\n",
      "Model Number: 157 with model SeasonalityMotif in generation 1 of 10\n",
      "prediction too long for indepedent=False, falling back on indepedent=True\n"
     ]
    },
    {
     "name": "stderr",
     "output_type": "stream",
     "text": [
      "/home/zeus/miniconda3/envs/cloudspace/lib/python3.10/site-packages/autots/tools/fast_kalman.py:1137: RuntimeWarning: overflow encountered in cast\n",
      "  result.smoothed.states.cov[:, j, :, :] = Ps\n",
      "/home/zeus/miniconda3/envs/cloudspace/lib/python3.10/site-packages/autots/tools/fast_kalman.py:1143: RuntimeWarning: overflow encountered in cast\n",
      "  result.smoothed.observations.cov[:, j, :, :] = obs_cov\n",
      "/home/zeus/miniconda3/envs/cloudspace/lib/python3.10/site-packages/autots/tools/fast_kalman.py:1354: RuntimeWarning: invalid value encountered in matmul\n",
      "  return np.matmul(A, np.swapaxes(B, -1, -2))\n",
      "/home/zeus/miniconda3/envs/cloudspace/lib/python3.10/site-packages/autots/tools/fast_kalman.py:1341: RuntimeWarning: invalid value encountered in matmul\n",
      "  return np.matmul(A, B)\n"
     ]
    },
    {
     "name": "stdout",
     "output_type": "stream",
     "text": [
      "Model Number: 158 with model GLM in generation 1 of 10\n",
      "Model Number: 159 with model ConstantNaive in generation 1 of 10\n",
      "Model Number: 160 with model UnivariateMotif in generation 1 of 10\n",
      "Model Number: 161 with model SeasonalNaive in generation 1 of 10\n",
      "Model Number: 162 with model ARDL in generation 1 of 10\n",
      "Template Eval Error: Exception(\"Transformer RegressionFilter failed on fit from params linear {'0': {'sigma': 2, 'rolling_window': 90, 'run_order': 'season_first', 'regression_params': {'regression_model': {'model': 'ElasticNet', 'model_params': {'l1_ratio': 0.9, 'fit_intercept': True, 'selection': 'random', 'max_iter': 2000}}, 'datepart_method': 'simple_binarized', 'polynomial_degree': None, 'transform_dict': {'fillna': None, 'transformations': {'0': 'EWMAFilter'}, 'transformation_params': {'0': {'span': 7}}}, 'holiday_countries_used': True, 'lags': None, 'forward_lags': None}, 'holiday_params': {'threshold': 0.8, 'splash_threshold': None, 'use_dayofmonth_holidays': False, 'use_wkdom_holidays': True, 'use_wkdeom_holidays': False, 'use_lunar_holidays': False, 'use_lunar_weekday': False, 'use_islamic_holidays': False, 'use_hebrew_holidays': False, 'use_hindu_holidays': False, 'anomaly_detector_params': {'method': 'zscore', 'method_params': {'distribution': 'gamma', 'alpha': 0.05}, 'fillna': 'ffill', 'transform_dict': {'fillna': None, 'transformations': {'0': 'EWMAFilter'}, 'transformation_params': {'0': {'span': 7}}}, 'isolated_only': False, 'on_inverse': False}, 'remove_excess_anomalies': True, 'impact': 'datepart_regression', 'regression_params': {'regression_model': {'model': 'ElasticNet', 'model_params': {'l1_ratio': 0.9, 'fit_intercept': True, 'selection': 'random', 'max_iter': 2000}}, 'datepart_method': 'simple_binarized', 'polynomial_degree': None, 'transform_dict': {'fillna': None, 'transformations': {'0': 'EWMAFilter'}, 'transformation_params': {'0': {'span': 7}}}, 'holiday_countries_used': True, 'lags': None, 'forward_lags': None}}, 'trend_method': 'local_linear'}, '1': {}, '2': {}, '3': {'method': 0.2}, '4': {'fixed': False, 'window': 7, 'macro_micro': False, 'center': True}} with error ValueError('more than 1 year of data is required for holiday detection.')\") in model 162 in generation 1: ARDL\n",
      "Model Number: 163 with model LastValueNaive in generation 1 of 10\n",
      "Model Number: 164 with model ConstantNaive in generation 1 of 10\n",
      "Model Number: 165 with model GLS in generation 1 of 10\n",
      "Model Number: 166 with model WindowRegression in generation 1 of 10\n",
      "Model Number: 167 with model BasicLinearModel in generation 1 of 10\n",
      "Model Number: 168 with model Cassandra in generation 1 of 10\n",
      "Model Number: 169 with model SectionalMotif in generation 1 of 10\n",
      "Template Eval Error: Exception(\"Transformer SeasonalDifference failed on inverse from params nearest {'0': {'lag_1': 12, 'method': 5}, '1': {}, '2': {'fixed': False, 'window': 3, 'macro_micro': True, 'center': True}, '3': {'model': 'Poisson', 'phi': 1, 'window': None, 'transform_dict': None}, '4': {'part': 'trend', 'lamb': 104976000000}} with ValueError('Length mismatch: Expected axis has 1 elements, new values have 2 elements')\") in model 169 in generation 1: SectionalMotif\n",
      "Model Number: 170 with model AverageValueNaive in generation 1 of 10\n",
      "Model Number: 171 with model ConstantNaive in generation 1 of 10\n",
      "Template Eval Error: Exception(\"Transformer HolidayTransformer failed on fit from params ffill {'0': {}, '1': {'rows': 1, 'lag': 2, 'method': 'additive', 'strength': 0.7, 'first_value_only': False, 'threshold': None, 'threshold_method': 'max'}, '2': {'threshold': 1.0, 'splash_threshold': None, 'use_dayofmonth_holidays': True, 'use_wkdom_holidays': True, 'use_wkdeom_holidays': False, 'use_lunar_holidays': False, 'use_lunar_weekday': False, 'use_islamic_holidays': False, 'use_hebrew_holidays': False, 'use_hindu_holidays': False, 'anomaly_detector_params': {'method': 'mad', 'method_params': {'distribution': 'norm', 'alpha': 0.05}, 'fillna': 'ffill', 'transform_dict': {'transformations': {'0': 'DatepartRegression'}, 'transformation_params': {'0': {'datepart_method': 'simple_3', 'regression_model': {'model': 'ElasticNet', 'model_params': {}}}}}, 'isolated_only': False, 'on_inverse': False}, 'remove_excess_anomalies': True, 'impact': 'datepart_regression', 'regression_params': {'regression_model': {'model': 'RadiusRegressor', 'model_params': {}}, 'datepart_method': ['isoweek_binary', 'weekdayofmonth', 'daysinmonth'], 'polynomial_degree': None, 'transform_dict': None, 'holiday_countries_used': False, 'lags': None, 'forward_lags': None}}} with error ValueError('more than 1 year of data is required for holiday detection.')\") in model 171 in generation 1: ConstantNaive\n",
      "Model Number: 172 with model GLM in generation 1 of 10\n"
     ]
    },
    {
     "name": "stderr",
     "output_type": "stream",
     "text": [
      "/home/zeus/miniconda3/envs/cloudspace/lib/python3.10/site-packages/numpy/lib/function_base.py:2897: RuntimeWarning: invalid value encountered in divide\n",
      "  c /= stddev[:, None]\n",
      "/home/zeus/miniconda3/envs/cloudspace/lib/python3.10/site-packages/numpy/lib/function_base.py:2898: RuntimeWarning: invalid value encountered in divide\n",
      "  c /= stddev[None, :]\n"
     ]
    },
    {
     "name": "stdout",
     "output_type": "stream",
     "text": [
      "Model Number: 173 with model UnivariateMotif in generation 1 of 10\n",
      "Model Number: 174 with model LastValueNaive in generation 1 of 10\n",
      "Model Number: 175 with model LastValueNaive in generation 1 of 10\n",
      "Model Number: 176 with model LastValueNaive in generation 1 of 10\n",
      "Model Number: 177 with model RRVAR in generation 1 of 10\n",
      "Model Number: 178 with model MetricMotif in generation 1 of 10\n",
      "Model Number: 179 with model SeasonalNaive in generation 1 of 10\n",
      "Model Number: 180 with model GLS in generation 1 of 10\n",
      "Model Number: 181 with model MetricMotif in generation 1 of 10\n",
      "Template Eval Error: ValueError('window shape cannot be larger than input array shape') in model 181 in generation 1: MetricMotif\n",
      "Model Number: 182 with model SeasonalityMotif in generation 1 of 10\n",
      "Model Number: 183 with model BasicLinearModel in generation 1 of 10\n",
      "Template Eval Error: ValueError(\"regression_type=='User' but no future_regressor supplied\") in model 183 in generation 1: BasicLinearModel\n",
      "Model Number: 184 with model RRVAR in generation 1 of 10\n",
      "Model Number: 185 with model SeasonalityMotif in generation 1 of 10\n",
      "Model Number: 186 with model MetricMotif in generation 1 of 10\n",
      "Model Number: 187 with model ARDL in generation 1 of 10\n"
     ]
    },
    {
     "name": "stderr",
     "output_type": "stream",
     "text": [
      "/home/zeus/miniconda3/envs/cloudspace/lib/python3.10/site-packages/autots/tools/percentile.py:47: RuntimeWarning: All-NaN slice encountered\n",
      "  max_val = np.nanmax(arr)\n"
     ]
    },
    {
     "name": "stdout",
     "output_type": "stream",
     "text": [
      "Model Number: 188 with model SeasonalityMotif in generation 1 of 10\n",
      "Model Number: 189 with model AverageValueNaive in generation 1 of 10\n",
      "Template Eval Error: Exception(\"Transformer SeasonalDifference failed on fit from params ffill {'0': {'lag_1': 364, 'method': 2}, '1': {}, '2': {}} with error ValueError('cannot reshape array of size 144 into shape (0,364,newaxis)')\") in model 189 in generation 1: AverageValueNaive\n",
      "Model Number: 190 with model FFT in generation 1 of 10\n",
      "Model Number: 191 with model GLM in generation 1 of 10\n",
      "Model Number: 192 with model ETS in generation 1 of 10\n",
      "Model Number: 193 with model ETS in generation 1 of 10\n",
      "Model Number: 194 with model LastValueNaive in generation 1 of 10\n",
      "Model Number: 195 with model SectionalMotif in generation 1 of 10\n",
      "Model Number: 196 with model MetricMotif in generation 1 of 10\n",
      "Template Eval Error: Exception(\"Transformer BTCD failed on fit from params fake_date {'0': {'regression_model': {'model': 'FastRidge', 'model_params': {}}, 'max_lags': 1}, '1': {}} with error ValueError('BTCD only works on multivarate series')\") in model 196 in generation 1: MetricMotif\n",
      "Model Number: 197 with model LastValueNaive in generation 1 of 10\n",
      "Model Number: 198 with model MetricMotif in generation 1 of 10\n",
      "Template Eval Error: ValueError('kth(=14) out of bounds (9)') in model 198 in generation 1: MetricMotif\n",
      "Model Number: 199 with model DatepartRegression in generation 1 of 10\n"
     ]
    },
    {
     "name": "stderr",
     "output_type": "stream",
     "text": [
      "/home/zeus/miniconda3/envs/cloudspace/lib/python3.10/site-packages/autots/tools/seasonal.py:896: RuntimeWarning: invalid value encountered in divide\n",
      "  scores = np.mean(np.abs(a - b) / divisor, axis=2)\n",
      "/home/zeus/miniconda3/envs/cloudspace/lib/python3.10/site-packages/autots/tools/seasonal.py:896: RuntimeWarning: invalid value encountered in divide\n",
      "  scores = np.mean(np.abs(a - b) / divisor, axis=2)\n",
      "/home/zeus/miniconda3/envs/cloudspace/lib/python3.10/site-packages/autots/tools/seasonal.py:896: RuntimeWarning: invalid value encountered in divide\n",
      "  scores = np.mean(np.abs(a - b) / divisor, axis=2)\n"
     ]
    },
    {
     "name": "stdout",
     "output_type": "stream",
     "text": [
      "Model Number: 200 with model SeasonalNaive in generation 1 of 10\n",
      "Model Number: 201 with model FFT in generation 1 of 10\n",
      "Model Number: 202 with model UnivariateMotif in generation 1 of 10\n",
      "Model Number: 203 with model AverageValueNaive in generation 1 of 10\n",
      "Model Number: 204 with model ConstantNaive in generation 1 of 10\n",
      "Model Number: 205 with model GLS in generation 1 of 10\n",
      "Model Number: 206 with model AverageValueNaive in generation 1 of 10\n",
      "Model Number: 207 with model ARDL in generation 1 of 10\n",
      "Template Eval Error: Exception(\"Transformer Cointegration failed on fit from params cubic {'0': {'lag_1': 7, 'method': 'LastValue'}, '1': {'rows': 1, 'lag': 1, 'method': 'additive', 'strength': 1.0, 'first_value_only': False, 'threshold': 1, 'threshold_method': 'mean'}, '2': {'det_order': -1, 'k_ar_diff': 0}} with error ValueError('Coint only works on multivarate series')\") in model 207 in generation 1: ARDL\n",
      "Model Number: 208 with model MetricMotif in generation 1 of 10\n",
      "Model Number: 209 with model LastValueNaive in generation 1 of 10\n",
      "Model Number: 210 with model FFT in generation 1 of 10\n",
      "Model Number: 211 with model MetricMotif in generation 1 of 10\n",
      "Template Eval Error: ValueError('window shape cannot be larger than input array shape') in model 211 in generation 1: MetricMotif\n",
      "Model Number: 212 with model MetricMotif in generation 1 of 10\n",
      "Model Number: 213 with model MetricMotif in generation 1 of 10\n",
      "Model Number: 214 with model SectionalMotif in generation 1 of 10\n",
      "Model Number: 215 with model SeasonalityMotif in generation 1 of 10\n",
      "Model Number: 216 with model AverageValueNaive in generation 1 of 10\n",
      "Model Number: 217 with model BasicLinearModel in generation 1 of 10\n",
      "Template Eval Error: Exception(\"Transformer AlignLastValue failed on fit from params mean {'0': {'lag': 1, 'fill': 'zero'}, '1': {}, '2': {'rows': 1, 'lag': 168, 'method': 'multiplicative', 'strength': 0.2, 'first_value_only': False, 'threshold': 3, 'threshold_method': 'max'}, '3': {'method': 0.2}, '4': {}} with error IndexError('single positional indexer is out-of-bounds')\") in model 217 in generation 1: BasicLinearModel\n",
      "Model Number: 218 with model UnivariateMotif in generation 1 of 10\n",
      "Model Number: 219 with model SectionalMotif in generation 1 of 10\n",
      "Model Number: 220 with model DatepartRegression in generation 1 of 10\n",
      "Model Number: 221 with model Cassandra in generation 1 of 10\n",
      "Template Eval Error: AttributeError(\"'NoneType' object has no attribute 'scores'\") in model 221 in generation 1: Cassandra\n",
      "Model Number: 222 with model DatepartRegression in generation 1 of 10\n",
      "Template Eval Error: InvalidParameterError(\"The 'alpha' parameter of MLPRegressor must be a float in the range [0.0, inf). Got None instead.\") in model 222 in generation 1: DatepartRegression\n",
      "Model Number: 223 with model GLM in generation 1 of 10\n"
     ]
    },
    {
     "name": "stderr",
     "output_type": "stream",
     "text": [
      "/home/zeus/miniconda3/envs/cloudspace/lib/python3.10/site-packages/autots/tools/seasonal.py:896: RuntimeWarning: invalid value encountered in divide\n",
      "  scores = np.mean(np.abs(a - b) / divisor, axis=2)\n",
      "/home/zeus/miniconda3/envs/cloudspace/lib/python3.10/site-packages/autots/tools/seasonal.py:896: RuntimeWarning: invalid value encountered in divide\n",
      "  scores = np.mean(np.abs(a - b) / divisor, axis=2)\n",
      "/home/zeus/miniconda3/envs/cloudspace/lib/python3.10/site-packages/autots/tools/seasonal.py:896: RuntimeWarning: invalid value encountered in divide\n",
      "  scores = np.mean(np.abs(a - b) / divisor, axis=2)\n",
      "/home/zeus/miniconda3/envs/cloudspace/lib/python3.10/site-packages/sklearn/svm/_classes.py:32: FutureWarning: The default value of `dual` will change from `True` to `'auto'` in 1.5. Set the value of `dual` explicitly to suppress the warning.\n",
      "  warnings.warn(\n",
      "/home/zeus/miniconda3/envs/cloudspace/lib/python3.10/site-packages/sklearn/svm/_base.py:1250: ConvergenceWarning: Liblinear failed to converge, increase the number of iterations.\n",
      "  warnings.warn(\n"
     ]
    },
    {
     "name": "stdout",
     "output_type": "stream",
     "text": [
      "Model Number: 224 with model LastValueNaive in generation 1 of 10\n",
      "SVD did not converge, attempting more robust approach...\n",
      "Template Eval Error: Exception(\"Transformer KalmanSmoothing failed on fit from params akima {'0': {'model_name': 'local linear hidden state with seasonal 12', 'state_transition': [[1.0, 0.0, 0.0, 0.0, 0.0, 0.0, 0.0, 0.0, 0.0, 0.0, 0.0, 0.0, 0.0], [0.0, -1.0, -1.0, -1.0, -1.0, -1.0, -1.0, -1.0, -1.0, -1.0, -1.0, -1.0, 0.0], [0.0, 1.0, 0.0, 0.0, 0.0, 0.0, 0.0, 0.0, 0.0, 0.0, 0.0, 0.0, 0.0], [0.0, 0.0, 1.0, 0.0, 0.0, 0.0, 0.0, 0.0, 0.0, 0.0, 0.0, 0.0, 0.0], [0.0, 0.0, 0.0, 1.0, 0.0, 0.0, 0.0, 0.0, 0.0, 0.0, 0.0, 0.0, 0.0], [0.0, 0.0, 0.0, 0.0, 1.0, 0.0, 0.0, 0.0, 0.0, 0.0, 0.0, 0.0, 0.0], [0.0, 0.0, 0.0, 0.0, 0.0, 1.0, 0.0, 0.0, 0.0, 0.0, 0.0, 0.0, 0.0], [0.0, 0.0, 0.0, 0.0, 0.0, 0.0, 1.0, 0.0, 0.0, 0.0, 0.0, 0.0, 0.0], [0.0, 0.0, 0.0, 0.0, 0.0, 0.0, 0.0, 1.0, 0.0, 0.0, 0.0, 0.0, 0.0], [0.0, 0.0, 0.0, 0.0, 0.0, 0.0, 0.0, 0.0, 1.0, 0.0, 0.0, 0.0, 0.0], [0.0, 0.0, 0.0, 0.0, 0.0, 0.0, 0.0, 0.0, 0.0, 1.0, 0.0, 0.0, 0.0], [0.0, 0.0, 0.0, 0.0, 0.0, 0.0, 0.0, 0.0, 0.0, 0.0, 1.0, 0.0, 0.0], [0.0, 0.0, 0.0, 0.0, 0.0, 0.0, 0.0, 0.0, 0.0, 0.0, 0.0, 1.0, 0.0]], 'process_noise': [[0.0004, 0.0, 0.0, 0.0, 0.0, 0.0, 0.0, 0.0, 0.0, 0.0, 0.0, 0.0, 0.0], [0.0, 1e-08, 0.0, 0.0, 0.0, 0.0, 0.0, 0.0, 0.0, 0.0, 0.0, 0.0, 0.0], [0.0, 0.0, 0.0, 0.0, 0.0, 0.0, 0.0, 0.0, 0.0, 0.0, 0.0, 0.0, 0.0], [0.0, 0.0, 0.0, 0.0, 0.0, 0.0, 0.0, 0.0, 0.0, 0.0, 0.0, 0.0, 0.0], [0.0, 0.0, 0.0, 0.0, 0.0, 0.0, 0.0, 0.0, 0.0, 0.0, 0.0, 0.0, 0.0], [0.0, 0.0, 0.0, 0.0, 0.0, 0.0, 0.0, 0.0, 0.0, 0.0, 0.0, 0.0, 0.0], [0.0, 0.0, 0.0, 0.0, 0.0, 0.0, 0.0, 0.0, 0.0, 0.0, 0.0, 0.0, 0.0], [0.0, 0.0, 0.0, 0.0, 0.0, 0.0, 0.0, 0.0, 0.0, 0.0, 0.0, 0.0, 0.0], [0.0, 0.0, 0.0, 0.0, 0.0, 0.0, 0.0, 0.0, 0.0, 0.0, 0.0, 0.0, 0.0], [0.0, 0.0, 0.0, 0.0, 0.0, 0.0, 0.0, 0.0, 0.0, 0.0, 0.0, 0.0, 0.0], [0.0, 0.0, 0.0, 0.0, 0.0, 0.0, 0.0, 0.0, 0.0, 0.0, 0.0, 0.0, 0.0], [0.0, 0.0, 0.0, 0.0, 0.0, 0.0, 0.0, 0.0, 0.0, 0.0, 0.0, 0.0, 0.0], [0.0, 0.0, 0.0, 0.0, 0.0, 0.0, 0.0, 0.0, 0.0, 0.0, 0.0, 0.0, 0.0]], 'observation_model': [[1, 1, 0, 0, 0, 0, 0, 0, 0, 0, 0, 0, 0]], 'observation_noise': 0.04, 'em_iter': 10, 'on_transform': True, 'on_inverse': False}, '1': {}, '2': {'lag': 1, 'fill': 'zero'}, '3': {'fillna': 'mean', 'center': 'median'}} with error LinAlgError('SVD did not converge')\") in model 224 in generation 1: LastValueNaive\n",
      "Model Number: 225 with model AverageValueNaive in generation 1 of 10\n",
      "Model Number: 226 with model LastValueNaive in generation 1 of 10\n",
      "Model Number: 227 with model FFT in generation 1 of 10\n"
     ]
    },
    {
     "name": "stderr",
     "output_type": "stream",
     "text": [
      "/home/zeus/miniconda3/envs/cloudspace/lib/python3.10/site-packages/autots/tools/fast_kalman.py:1137: RuntimeWarning: overflow encountered in cast\n",
      "  result.smoothed.states.cov[:, j, :, :] = Ps\n",
      "/home/zeus/miniconda3/envs/cloudspace/lib/python3.10/site-packages/autots/tools/fast_kalman.py:1143: RuntimeWarning: overflow encountered in cast\n",
      "  result.smoothed.observations.cov[:, j, :, :] = obs_cov\n",
      "/home/zeus/miniconda3/envs/cloudspace/lib/python3.10/site-packages/autots/tools/fast_kalman.py:1354: RuntimeWarning: invalid value encountered in matmul\n",
      "  return np.matmul(A, np.swapaxes(B, -1, -2))\n",
      "/home/zeus/miniconda3/envs/cloudspace/lib/python3.10/site-packages/autots/tools/fast_kalman.py:1341: RuntimeWarning: invalid value encountered in matmul\n",
      "  return np.matmul(A, B)\n"
     ]
    },
    {
     "name": "stdout",
     "output_type": "stream",
     "text": [
      "Model Number: 228 with model UnivariateMotif in generation 1 of 10\n",
      "Model Number: 229 with model LastValueNaive in generation 1 of 10\n",
      "SVD did not converge, attempting more robust approach...\n",
      "Template Eval Error: Exception(\"Transformer KalmanSmoothing failed on fit from params median {'0': {'model_name': 'local linear hidden state with seasonal 12', 'state_transition': [[1.0, 0.0, 0.0, 0.0, 0.0, 0.0, 0.0, 0.0, 0.0, 0.0, 0.0, 0.0, 0.0], [0.0, -1.0, -1.0, -1.0, -1.0, -1.0, -1.0, -1.0, -1.0, -1.0, -1.0, -1.0, 0.0], [0.0, 1.0, 0.0, 0.0, 0.0, 0.0, 0.0, 0.0, 0.0, 0.0, 0.0, 0.0, 0.0], [0.0, 0.0, 1.0, 0.0, 0.0, 0.0, 0.0, 0.0, 0.0, 0.0, 0.0, 0.0, 0.0], [0.0, 0.0, 0.0, 1.0, 0.0, 0.0, 0.0, 0.0, 0.0, 0.0, 0.0, 0.0, 0.0], [0.0, 0.0, 0.0, 0.0, 1.0, 0.0, 0.0, 0.0, 0.0, 0.0, 0.0, 0.0, 0.0], [0.0, 0.0, 0.0, 0.0, 0.0, 1.0, 0.0, 0.0, 0.0, 0.0, 0.0, 0.0, 0.0], [0.0, 0.0, 0.0, 0.0, 0.0, 0.0, 1.0, 0.0, 0.0, 0.0, 0.0, 0.0, 0.0], [0.0, 0.0, 0.0, 0.0, 0.0, 0.0, 0.0, 1.0, 0.0, 0.0, 0.0, 0.0, 0.0], [0.0, 0.0, 0.0, 0.0, 0.0, 0.0, 0.0, 0.0, 1.0, 0.0, 0.0, 0.0, 0.0], [0.0, 0.0, 0.0, 0.0, 0.0, 0.0, 0.0, 0.0, 0.0, 1.0, 0.0, 0.0, 0.0], [0.0, 0.0, 0.0, 0.0, 0.0, 0.0, 0.0, 0.0, 0.0, 0.0, 1.0, 0.0, 0.0], [0.0, 0.0, 0.0, 0.0, 0.0, 0.0, 0.0, 0.0, 0.0, 0.0, 0.0, 1.0, 0.0]], 'process_noise': [[0.0004, 0.0, 0.0, 0.0, 0.0, 0.0, 0.0, 0.0, 0.0, 0.0, 0.0, 0.0, 0.0], [0.0, 1e-08, 0.0, 0.0, 0.0, 0.0, 0.0, 0.0, 0.0, 0.0, 0.0, 0.0, 0.0], [0.0, 0.0, 0.0, 0.0, 0.0, 0.0, 0.0, 0.0, 0.0, 0.0, 0.0, 0.0, 0.0], [0.0, 0.0, 0.0, 0.0, 0.0, 0.0, 0.0, 0.0, 0.0, 0.0, 0.0, 0.0, 0.0], [0.0, 0.0, 0.0, 0.0, 0.0, 0.0, 0.0, 0.0, 0.0, 0.0, 0.0, 0.0, 0.0], [0.0, 0.0, 0.0, 0.0, 0.0, 0.0, 0.0, 0.0, 0.0, 0.0, 0.0, 0.0, 0.0], [0.0, 0.0, 0.0, 0.0, 0.0, 0.0, 0.0, 0.0, 0.0, 0.0, 0.0, 0.0, 0.0], [0.0, 0.0, 0.0, 0.0, 0.0, 0.0, 0.0, 0.0, 0.0, 0.0, 0.0, 0.0, 0.0], [0.0, 0.0, 0.0, 0.0, 0.0, 0.0, 0.0, 0.0, 0.0, 0.0, 0.0, 0.0, 0.0], [0.0, 0.0, 0.0, 0.0, 0.0, 0.0, 0.0, 0.0, 0.0, 0.0, 0.0, 0.0, 0.0], [0.0, 0.0, 0.0, 0.0, 0.0, 0.0, 0.0, 0.0, 0.0, 0.0, 0.0, 0.0, 0.0], [0.0, 0.0, 0.0, 0.0, 0.0, 0.0, 0.0, 0.0, 0.0, 0.0, 0.0, 0.0, 0.0], [0.0, 0.0, 0.0, 0.0, 0.0, 0.0, 0.0, 0.0, 0.0, 0.0, 0.0, 0.0, 0.0]], 'observation_model': [[1, 1, 0, 0, 0, 0, 0, 0, 0, 0, 0, 0, 0]], 'observation_noise': 0.04, 'em_iter': 10, 'on_transform': True, 'on_inverse': False}, '1': {'model': 'GLS', 'phi': 1, 'window': None, 'transform_dict': {'fillna': None, 'transformations': {'0': 'EWMAFilter'}, 'transformation_params': {'0': {'span': 7}}}}, '2': {}, '3': {'fillna': 'mean', 'center': 'median'}, '4': {}} with error LinAlgError('SVD did not converge')\") in model 229 in generation 1: LastValueNaive\n",
      "Model Number: 230 with model SeasonalityMotif in generation 1 of 10\n",
      "Model Number: 231 with model AverageValueNaive in generation 1 of 10\n",
      "Model Number: 232 with model SeasonalNaive in generation 1 of 10\n",
      "Model Number: 233 with model AverageValueNaive in generation 1 of 10\n"
     ]
    },
    {
     "name": "stderr",
     "output_type": "stream",
     "text": [
      "/home/zeus/miniconda3/envs/cloudspace/lib/python3.10/site-packages/autots/tools/fast_kalman.py:1137: RuntimeWarning: overflow encountered in cast\n",
      "  result.smoothed.states.cov[:, j, :, :] = Ps\n",
      "/home/zeus/miniconda3/envs/cloudspace/lib/python3.10/site-packages/autots/tools/fast_kalman.py:1143: RuntimeWarning: overflow encountered in cast\n",
      "  result.smoothed.observations.cov[:, j, :, :] = obs_cov\n",
      "/home/zeus/miniconda3/envs/cloudspace/lib/python3.10/site-packages/autots/tools/fast_kalman.py:1354: RuntimeWarning: invalid value encountered in matmul\n",
      "  return np.matmul(A, np.swapaxes(B, -1, -2))\n",
      "/home/zeus/miniconda3/envs/cloudspace/lib/python3.10/site-packages/autots/tools/fast_kalman.py:1341: RuntimeWarning: invalid value encountered in matmul\n",
      "  return np.matmul(A, B)\n"
     ]
    },
    {
     "name": "stdout",
     "output_type": "stream",
     "text": [
      "Model Number: 234 with model GLM in generation 1 of 10\n",
      "Model Number: 235 with model SeasonalNaive in generation 1 of 10\n",
      "Model Number: 236 with model LastValueNaive in generation 1 of 10\n",
      "Template Eval Error: Exception('Transformer CenterSplit failed on fit from params rolling_mean {\\'0\\': {\\'rows\\': 1, \\'lag\\': 1, \\'method\\': \\'additive\\', \\'strength\\': 1.0, \\'first_value_only\\': False, \\'threshold\\': 10, \\'threshold_method\\': \\'max\\'}, \\'1\\': {\\'lag_1\\': 24, \\'method\\': \\'Mean\\'}, \\'2\\': {\\'fillna\\': \\'pchip\\', \\'center\\': \\'median\\'}, \\'3\\': {\\'fillna\\': \\'akima\\', \\'center\\': \\'zero\\'}, \\'4\\': {\\'window_size\\': 30, \\'alpha\\': 2.5, \\'grouping_forward_limit\\': 2, \\'max_level_shifts\\': 30, \\'alignment\\': \\'last_value\\'}} with error ValueError(\"columns overlap but no suffix specified: Index([\\'8b26cbbab26d33daba641fae9426d1bd25c1ad8e7abfe187a459512f5a8866e7_lltmicro\\'], dtype=\\'object\\', name=\\'profile_id\\')\")') in model 236 in generation 1: LastValueNaive\n",
      "Model Number: 237 with model GLS in generation 1 of 10\n",
      "Model Number: 238 with model LastValueNaive in generation 1 of 10\n",
      "Model Number: 239 with model DatepartRegression in generation 1 of 10\n",
      "Model Number: 240 with model SectionalMotif in generation 1 of 10\n",
      "Template Eval Error: Exception(\"Transformer HolidayTransformer failed on fit from params ffill {'0': {'threshold': 0.9, 'splash_threshold': None, 'use_dayofmonth_holidays': True, 'use_wkdom_holidays': True, 'use_wkdeom_holidays': False, 'use_lunar_holidays': True, 'use_lunar_weekday': False, 'use_islamic_holidays': True, 'use_hebrew_holidays': False, 'use_hindu_holidays': False, 'anomaly_detector_params': {'method': 'IQR', 'method_params': {'iqr_threshold': 3.0, 'iqr_quantiles': [0.25, 0.75]}, 'fillna': 'ffill', 'transform_dict': None, 'isolated_only': False, 'on_inverse': False}, 'remove_excess_anomalies': True, 'impact': 'anomaly_score', 'regression_params': {}}, '1': {'rows': 1, 'lag': 2, 'method': 'additive', 'strength': 1.0, 'first_value_only': False}, '2': {'lag_1': 12, 'method': 5}, '3': {'window_size': 30, 'alpha': 2.0, 'grouping_forward_limit': 4, 'max_level_shifts': 10, 'alignment': 'average'}, '4': {'output_distribution': 'uniform', 'n_quantiles': 1000}, '5': {'lag_1': 24, 'method': 'Mean'}} with error ValueError('more than 1 year of data is required for holiday detection.')\") in model 240 in generation 1: SectionalMotif\n",
      "Model Number: 241 with model SectionalMotif in generation 1 of 10\n",
      "Model Number: 242 with model BasicLinearModel in generation 1 of 10\n",
      "Model Number: 243 with model LastValueNaive in generation 1 of 10\n",
      "Model Number: 244 with model SeasonalityMotif in generation 1 of 10\n",
      "Template Eval Error: ValueError('Model SeasonalityMotif returned NaN for one or more series. fail_on_forecast_nan=True') in model 244 in generation 1: SeasonalityMotif\n",
      "Model Number: 245 with model SectionalMotif in generation 1 of 10\n",
      "Template Eval Error: ValueError('kth(=15) out of bounds (15)') in model 245 in generation 1: SectionalMotif\n",
      "Model Number: 246 with model MetricMotif in generation 1 of 10\n",
      "Model Number: 247 with model GLM in generation 1 of 10\n",
      "Template Eval Error: ValueError('regression_type=user and no future_regressor passed') in model 247 in generation 1: GLM\n",
      "Model Number: 248 with model Cassandra in generation 1 of 10\n",
      "Model Number: 249 with model SectionalMotif in generation 1 of 10\n",
      "Model Number: 250 with model GLM in generation 1 of 10\n",
      "Model Number: 251 with model AverageValueNaive in generation 1 of 10\n"
     ]
    },
    {
     "name": "stderr",
     "output_type": "stream",
     "text": [
      "/home/zeus/miniconda3/envs/cloudspace/lib/python3.10/site-packages/numpy/core/fromnumeric.py:3504: RuntimeWarning: Mean of empty slice.\n",
      "  return _methods._mean(a, axis=axis, dtype=dtype,\n",
      "/home/zeus/miniconda3/envs/cloudspace/lib/python3.10/site-packages/numpy/core/_methods.py:121: RuntimeWarning: invalid value encountered in divide\n",
      "  ret = um.true_divide(\n",
      "/home/zeus/miniconda3/envs/cloudspace/lib/python3.10/site-packages/statsmodels/genmod/families/family.py:1367: ValueWarning: Negative binomial dispersion parameter alpha not set. Using default value alpha=1.0.\n",
      "  warnings.warn(\"Negative binomial dispersion parameter alpha not \"\n",
      "/home/zeus/miniconda3/envs/cloudspace/lib/python3.10/site-packages/statsmodels/genmod/families/family.py:1402: RuntimeWarning: divide by zero encountered in divide\n",
      "  endog_mu = self._clean(endog / mu)\n"
     ]
    },
    {
     "name": "stdout",
     "output_type": "stream",
     "text": [
      "Model Number: 252 with model MetricMotif in generation 1 of 10\n",
      "Model Number: 253 with model SeasonalityMotif in generation 1 of 10\n",
      "Model Number: 254 with model FFT in generation 1 of 10\n",
      "Model Number: 255 with model GLS in generation 1 of 10\n",
      "Template Eval Error: Exception(\"Transformer AlignLastValue failed on fit from params linear {'0': {}, '1': {'rows': 7, 'lag': 2, 'method': 'additive', 'strength': 0.9, 'first_value_only': False, 'threshold': 10, 'threshold_method': 'max'}, '2': {'output_distribution': 'uniform', 'n_quantiles': 48}, '3': {'method': 0.9}, '4': {'rows': 1, 'lag': 168, 'method': 'additive', 'strength': 1.0, 'first_value_only': False, 'threshold': 10, 'threshold_method': 'mean'}, '5': {'fixed': True, 'window': 60, 'macro_micro': False, 'center': True}} with error IndexError('single positional indexer is out-of-bounds')\") in model 255 in generation 1: GLS\n",
      "Model Number: 256 with model SectionalMotif in generation 1 of 10\n",
      "Model Number: 257 with model SeasonalityMotif in generation 1 of 10\n",
      "Model Number: 258 with model RRVAR in generation 1 of 10\n",
      "Model Number: 259 with model MetricMotif in generation 1 of 10\n",
      "Model Number: 260 with model ConstantNaive in generation 1 of 10\n",
      "New Generation: 2 of 10\n",
      "Model Number: 261 with model SeasonalNaive in generation 2 of 10\n",
      "Model Number: 262 with model DatepartRegression in generation 2 of 10\n",
      "interpolating\n",
      "Template Eval Error: ValueError('Model DatepartRegression returned NaN for one or more series. fail_on_forecast_nan=True') in model 262 in generation 2: DatepartRegression\n",
      "Model Number: 263 with model SeasonalityMotif in generation 2 of 10\n",
      "Model Number: 264 with model GLS in generation 2 of 10\n"
     ]
    },
    {
     "name": "stderr",
     "output_type": "stream",
     "text": [
      "/home/zeus/miniconda3/envs/cloudspace/lib/python3.10/site-packages/sklearn/neighbors/_regression.py:500: UserWarning: One or more samples have no neighbors within specified radius; predicting NaN.\n",
      "  warnings.warn(empty_warning_msg)\n"
     ]
    },
    {
     "name": "stdout",
     "output_type": "stream",
     "text": [
      "Model Number: 265 with model GLM in generation 2 of 10\n",
      "Model Number: 266 with model AverageValueNaive in generation 2 of 10\n",
      "Model Number: 267 with model UnivariateMotif in generation 2 of 10\n",
      "Template Eval Error: ValueError('window shape cannot be larger than input array shape') in model 267 in generation 2: UnivariateMotif\n",
      "Model Number: 268 with model SectionalMotif in generation 2 of 10\n",
      "Model Number: 269 with model SeasonalityMotif in generation 2 of 10\n",
      "Model Number: 270 with model GLM in generation 2 of 10\n",
      "Model Number: 271 with model AverageValueNaive in generation 2 of 10\n",
      "Model Number: 272 with model DatepartRegression in generation 2 of 10\n"
     ]
    },
    {
     "name": "stderr",
     "output_type": "stream",
     "text": [
      "/home/zeus/miniconda3/envs/cloudspace/lib/python3.10/site-packages/autots/tools/seasonal.py:896: RuntimeWarning: invalid value encountered in divide\n",
      "  scores = np.mean(np.abs(a - b) / divisor, axis=2)\n",
      "/home/zeus/miniconda3/envs/cloudspace/lib/python3.10/site-packages/autots/tools/seasonal.py:896: RuntimeWarning: invalid value encountered in divide\n",
      "  scores = np.mean(np.abs(a - b) / divisor, axis=2)\n",
      "/home/zeus/miniconda3/envs/cloudspace/lib/python3.10/site-packages/autots/tools/seasonal.py:896: RuntimeWarning: invalid value encountered in divide\n",
      "  scores = np.mean(np.abs(a - b) / divisor, axis=2)\n"
     ]
    },
    {
     "name": "stdout",
     "output_type": "stream",
     "text": [
      "Model Number: 273 with model GLS in generation 2 of 10\n",
      "Model Number: 274 with model SeasonalityMotif in generation 2 of 10\n",
      "prediction too long for indepedent=False, falling back on indepedent=True\n",
      "Model Number: 275 with model SeasonalNaive in generation 2 of 10\n",
      "Model Number: 276 with model Cassandra in generation 2 of 10\n",
      "Model Number: 277 with model SeasonalityMotif in generation 2 of 10\n",
      "Model Number: 278 with model GLS in generation 2 of 10\n"
     ]
    },
    {
     "name": "stderr",
     "output_type": "stream",
     "text": [
      "/home/zeus/miniconda3/envs/cloudspace/lib/python3.10/site-packages/numpy/lib/function_base.py:2897: RuntimeWarning: invalid value encountered in divide\n",
      "  c /= stddev[:, None]\n",
      "/home/zeus/miniconda3/envs/cloudspace/lib/python3.10/site-packages/numpy/lib/function_base.py:2898: RuntimeWarning: invalid value encountered in divide\n",
      "  c /= stddev[None, :]\n"
     ]
    },
    {
     "name": "stdout",
     "output_type": "stream",
     "text": [
      "Model Number: 279 with model MetricMotif in generation 2 of 10\n",
      "Model Number: 280 with model RRVAR in generation 2 of 10\n",
      "Model Number: 281 with model MetricMotif in generation 2 of 10\n",
      "Model Number: 282 with model SeasonalityMotif in generation 2 of 10\n",
      "Model Number: 283 with model AverageValueNaive in generation 2 of 10\n",
      "Model Number: 284 with model Cassandra in generation 2 of 10\n"
     ]
    },
    {
     "name": "stderr",
     "output_type": "stream",
     "text": [
      "/home/zeus/miniconda3/envs/cloudspace/lib/python3.10/site-packages/numpy/lib/function_base.py:2897: RuntimeWarning: invalid value encountered in divide\n",
      "  c /= stddev[:, None]\n",
      "/home/zeus/miniconda3/envs/cloudspace/lib/python3.10/site-packages/numpy/lib/function_base.py:2898: RuntimeWarning: invalid value encountered in divide\n",
      "  c /= stddev[None, :]\n"
     ]
    },
    {
     "name": "stdout",
     "output_type": "stream",
     "text": [
      "Model Number: 285 with model GLM in generation 2 of 10\n",
      "Model Number: 286 with model AverageValueNaive in generation 2 of 10\n",
      "Model Number: 287 with model ETS in generation 2 of 10\n"
     ]
    },
    {
     "name": "stderr",
     "output_type": "stream",
     "text": [
      "/home/zeus/miniconda3/envs/cloudspace/lib/python3.10/site-packages/sklearn/linear_model/_ridge.py:200: LinAlgWarning: Ill-conditioned matrix (rcond=8.09705e-25): result may not be accurate.\n",
      "  return linalg.solve(A, Xy, assume_a=\"pos\", overwrite_a=True).T\n"
     ]
    },
    {
     "name": "stdout",
     "output_type": "stream",
     "text": [
      "Model Number: 288 with model UnivariateMotif in generation 2 of 10\n",
      "Model Number: 289 with model ETS in generation 2 of 10\n",
      "Model Number: 290 with model SeasonalityMotif in generation 2 of 10\n",
      "Model Number: 291 with model ETS in generation 2 of 10\n"
     ]
    },
    {
     "name": "stderr",
     "output_type": "stream",
     "text": [
      "/home/zeus/miniconda3/envs/cloudspace/lib/python3.10/site-packages/sklearn/neighbors/_classification.py:233: DataConversionWarning: A column-vector y was passed when a 1d array was expected. Please change the shape of y to (n_samples,), for example using ravel().\n",
      "  return self._fit(X, y)\n"
     ]
    },
    {
     "name": "stdout",
     "output_type": "stream",
     "text": [
      "Model Number: 292 with model GLS in generation 2 of 10\n",
      "Model Number: 293 with model AverageValueNaive in generation 2 of 10\n",
      "Model Number: 294 with model LastValueNaive in generation 2 of 10\n",
      "Model Number: 295 with model SeasonalNaive in generation 2 of 10\n",
      "Model Number: 296 with model SectionalMotif in generation 2 of 10\n",
      "Template Eval Error: ValueError('kth(=20) out of bounds (7)') in model 296 in generation 2: SectionalMotif\n",
      "Model Number: 297 with model SectionalMotif in generation 2 of 10\n",
      "Template Eval Error: ValueError('kth(=15) out of bounds (15)') in model 297 in generation 2: SectionalMotif\n",
      "Model Number: 298 with model ConstantNaive in generation 2 of 10\n",
      "Model Number: 299 with model SectionalMotif in generation 2 of 10\n",
      "Model Number: 300 with model GLM in generation 2 of 10\n",
      "Model Number: 301 with model SectionalMotif in generation 2 of 10\n",
      "Model Number: 302 with model SectionalMotif in generation 2 of 10\n",
      "Model Number: 303 with model DatepartRegression in generation 2 of 10\n"
     ]
    },
    {
     "name": "stderr",
     "output_type": "stream",
     "text": [
      "/home/zeus/miniconda3/envs/cloudspace/lib/python3.10/site-packages/statsmodels/genmod/families/family.py:1367: ValueWarning: Negative binomial dispersion parameter alpha not set. Using default value alpha=1.0.\n",
      "  warnings.warn(\"Negative binomial dispersion parameter alpha not \"\n",
      "/home/zeus/miniconda3/envs/cloudspace/lib/python3.10/site-packages/statsmodels/genmod/families/family.py:1402: RuntimeWarning: divide by zero encountered in divide\n",
      "  endog_mu = self._clean(endog / mu)\n",
      "/home/zeus/miniconda3/envs/cloudspace/lib/python3.10/site-packages/statsmodels/genmod/families/family.py:1406: RuntimeWarning: invalid value encountered in log\n",
      "  resid_dev -= endog_alpha * np.log(endog_alpha / mu_alpha)\n"
     ]
    },
    {
     "name": "stdout",
     "output_type": "stream",
     "text": [
      "Model Number: 304 with model ConstantNaive in generation 2 of 10\n",
      "Model Number: 305 with model AverageValueNaive in generation 2 of 10\n",
      "Model Number: 306 with model AverageValueNaive in generation 2 of 10\n",
      "Model Number: 307 with model MetricMotif in generation 2 of 10\n",
      "Template Eval Error: ValueError('kth(=14) out of bounds (9)') in model 307 in generation 2: MetricMotif\n",
      "Model Number: 308 with model SeasonalNaive in generation 2 of 10\n",
      "Model Number: 309 with model BasicLinearModel in generation 2 of 10\n",
      "Model Number: 310 with model RRVAR in generation 2 of 10\n",
      "Template Eval Error: Exception(\"Transformer RegressionFilter failed on fit from params mean {'0': {'method': 'clip', 'std_threshold': 3, 'fillna': None}, '1': {'sigma': 0.5, 'rolling_window': 90, 'run_order': 'season_first', 'regression_params': {'regression_model': {'model': 'ElasticNet', 'model_params': {'l1_ratio': 0.1, 'fit_intercept': True, 'selection': 'cyclic', 'max_iter': 1000}}, 'datepart_method': 'simple_2', 'polynomial_degree': 2, 'transform_dict': None, 'holiday_countries_used': True, 'lags': None, 'forward_lags': None}, 'holiday_params': {'threshold': 0.9, 'splash_threshold': None, 'use_dayofmonth_holidays': True, 'use_wkdom_holidays': True, 'use_wkdeom_holidays': False, 'use_lunar_holidays': False, 'use_lunar_weekday': False, 'use_islamic_holidays': False, 'use_hebrew_holidays': False, 'use_hindu_holidays': False, 'anomaly_detector_params': {'method': 'zscore', 'method_params': {'distribution': 'norm', 'alpha': 0.05}, 'fillna': 'ffill', 'transform_dict': {'fillna': 'rolling_mean_24', 'transformations': {'0': 'StandardScaler', '1': 'RegressionFilter'}, 'transformation_params': {'0': {}, '1': {'sigma': 1, 'rolling_window': 90, 'run_order': 'season_first', 'regression_params': {'regression_model': {'model': 'ElasticNet', 'model_params': {'l1_ratio': 0.5, 'fit_intercept': True, 'selection': 'cyclic', 'max_iter': 1000}}, 'datepart_method': 'simple', 'polynomial_degree': None, 'transform_dict': {'fillna': None, 'transformations': {'0': 'EWMAFilter'}, 'transformation_params': {'0': {'span': 7}}}, 'holiday_countries_used': False, 'lags': None, 'forward_lags': None}, 'holiday_params': None, 'trend_method': 'rolling_mean'}}}, 'isolated_only': False, 'on_inverse': False}, 'remove_excess_anomalies': False, 'impact': 'datepart_regression', 'regression_params': {'regression_model': {'model': 'ElasticNet', 'model_params': {'l1_ratio': 0.1, 'fit_intercept': True, 'selection': 'cyclic', 'max_iter': 1000}}, 'datepart_method': 'simple_2', 'polynomial_degree': 2, 'transform_dict': None, 'holiday_countries_used': True, 'lags': None, 'forward_lags': None}}, 'trend_method': 'local_linear'}, '2': {'method': 0.2}, '3': {'cutoff': 0.05, 'reverse': False, 'on_transform': True, 'on_inverse': False}} with error ValueError('more than 1 year of data is required for holiday detection.')\") in model 310 in generation 2: RRVAR\n",
      "Model Number: 311 with model GLM in generation 2 of 10\n",
      "Model Number: 312 with model MetricMotif in generation 2 of 10\n",
      "Template Eval Error: ValueError('kth(=9) out of bounds (9)') in model 312 in generation 2: MetricMotif\n",
      "Model Number: 313 with model ETS in generation 2 of 10\n",
      "Model Number: 314 with model MetricMotif in generation 2 of 10\n",
      "Model Number: 315 with model GLM in generation 2 of 10\n",
      "Template Eval Error: ValueError('The first guess on the deviance function returned a nan.  This could be a boundary  problem and should be reported.') in model 315 in generation 2: GLM\n",
      "Model Number: 316 with model ETS in generation 2 of 10\n",
      "Model Number: 317 with model ARDL in generation 2 of 10\n"
     ]
    },
    {
     "name": "stderr",
     "output_type": "stream",
     "text": [
      "/home/zeus/miniconda3/envs/cloudspace/lib/python3.10/site-packages/statsmodels/genmod/families/family.py:1367: ValueWarning: Negative binomial dispersion parameter alpha not set. Using default value alpha=1.0.\n",
      "  warnings.warn(\"Negative binomial dispersion parameter alpha not \"\n",
      "/home/zeus/miniconda3/envs/cloudspace/lib/python3.10/site-packages/statsmodels/genmod/families/family.py:1406: RuntimeWarning: invalid value encountered in log\n",
      "  resid_dev -= endog_alpha * np.log(endog_alpha / mu_alpha)\n"
     ]
    },
    {
     "name": "stdout",
     "output_type": "stream",
     "text": [
      "Model Number: 318 with model LastValueNaive in generation 2 of 10\n",
      "Model Number: 319 with model LastValueNaive in generation 2 of 10\n",
      "Model Number: 320 with model WindowRegression in generation 2 of 10\n",
      "Template Eval Error: ValueError(\"regression_type='User' but no future_regressor passed\") in model 320 in generation 2: WindowRegression\n",
      "Model Number: 321 with model DatepartRegression in generation 2 of 10\n",
      "Template Eval Error: ValueError(\"regression_type='User' but no future_regressor passed\") in model 321 in generation 2: DatepartRegression\n",
      "Model Number: 322 with model FFT in generation 2 of 10\n",
      "Model Number: 323 with model LastValueNaive in generation 2 of 10\n",
      "Model Number: 324 with model LastValueNaive in generation 2 of 10\n",
      "Template Eval Error: Exception(\"Transformer RegressionFilter failed on fit from params rolling_mean {'0': {'rows': 1, 'lag': 84, 'method': 'additive', 'strength': 1.0, 'first_value_only': False, 'threshold': 1, 'threshold_method': 'max'}, '1': {'rows': 1, 'lag': 1, 'method': 'additive', 'strength': 1.0, 'first_value_only': False, 'threshold': None, 'threshold_method': 'max'}, '2': {}, '3': {'sigma': 1.5, 'rolling_window': 90, 'run_order': 'season_first', 'regression_params': {'regression_model': {'model': 'DecisionTree', 'model_params': {'max_depth': 3, 'min_samples_split': 2}}, 'datepart_method': 'expanded_binarized', 'polynomial_degree': None, 'transform_dict': {'fillna': None, 'transformations': {'0': 'Discretize'}, 'transformation_params': {'0': {'discretization': 'center', 'n_bins': 20}}}, 'holiday_countries_used': True, 'lags': None, 'forward_lags': None}, 'holiday_params': {'threshold': 0.9, 'splash_threshold': None, 'use_dayofmonth_holidays': True, 'use_wkdom_holidays': True, 'use_wkdeom_holidays': True, 'use_lunar_holidays': False, 'use_lunar_weekday': False, 'use_islamic_holidays': False, 'use_hebrew_holidays': False, 'use_hindu_holidays': False, 'anomaly_detector_params': {'method': 'zscore', 'method_params': {'distribution': 'norm', 'alpha': 0.05}, 'fillna': 'linear', 'transform_dict': {'fillna': 'fake_date', 'transformations': {'0': 'AlignLastValue'}, 'transformation_params': {'0': {'rows': 1, 'lag': 1, 'method': 'additive', 'strength': 0.9, 'first_value_only': True, 'threshold': None, 'threshold_method': 'mean'}}}, 'isolated_only': False, 'on_inverse': False}, 'remove_excess_anomalies': True, 'impact': 'datepart_regression', 'regression_params': {'regression_model': {'model': 'DecisionTree', 'model_params': {'max_depth': 3, 'min_samples_split': 2}}, 'datepart_method': 'expanded_binarized', 'polynomial_degree': None, 'transform_dict': {'fillna': None, 'transformations': {'0': 'Discretize'}, 'transformation_params': {'0': {'discretization': 'center', 'n_bins': 20}}}, 'holiday_countries_used': True, 'lags': None, 'forward_lags': None}}, 'trend_method': 'local_linear'}} with error ValueError('more than 1 year of data is required for holiday detection.')\") in model 324 in generation 2: LastValueNaive\n",
      "Model Number: 325 with model BasicLinearModel in generation 2 of 10\n",
      "Model Number: 326 with model MetricMotif in generation 2 of 10\n",
      "Model Number: 327 with model BasicLinearModel in generation 2 of 10\n",
      "Model Number: 328 with model DatepartRegression in generation 2 of 10\n",
      "Model Number: 329 with model ETS in generation 2 of 10\n",
      "Model Number: 330 with model AverageValueNaive in generation 2 of 10\n",
      "Model Number: 331 with model SectionalMotif in generation 2 of 10\n",
      "Model Number: 332 with model SectionalMotif in generation 2 of 10\n",
      "Model Number: 333 with model LastValueNaive in generation 2 of 10\n",
      "Model Number: 334 with model ConstantNaive in generation 2 of 10\n",
      "SVD did not converge, attempting more robust approach...\n",
      "Template Eval Error: Exception(\"Transformer KalmanSmoothing failed on fit from params fake_date {'0': {'model_name': 'local linear hidden state with seasonal 7', 'state_transition': [[1.0, 0.0, 0.0, 0.0, 0.0, 0.0, 0.0, 0.0], [0.0, -1.0, -1.0, -1.0, -1.0, -1.0, -1.0, 0.0], [0.0, 1.0, 0.0, 0.0, 0.0, 0.0, 0.0, 0.0], [0.0, 0.0, 1.0, 0.0, 0.0, 0.0, 0.0, 0.0], [0.0, 0.0, 0.0, 1.0, 0.0, 0.0, 0.0, 0.0], [0.0, 0.0, 0.0, 0.0, 1.0, 0.0, 0.0, 0.0], [0.0, 0.0, 0.0, 0.0, 0.0, 1.0, 0.0, 0.0], [0.0, 0.0, 0.0, 0.0, 0.0, 0.0, 1.0, 0.0]], 'process_noise': [[0.0016, 0.0, 0.0, 0.0, 0.0, 0.0, 0.0, 0.0], [0.0, 1e-06, 0.0, 0.0, 0.0, 0.0, 0.0, 0.0], [0.0, 0.0, 0.0, 0.0, 0.0, 0.0, 0.0, 0.0], [0.0, 0.0, 0.0, 0.0, 0.0, 0.0, 0.0, 0.0], [0.0, 0.0, 0.0, 0.0, 0.0, 0.0, 0.0, 0.0], [0.0, 0.0, 0.0, 0.0, 0.0, 0.0, 0.0, 0.0], [0.0, 0.0, 0.0, 0.0, 0.0, 0.0, 0.0, 0.0], [0.0, 0.0, 0.0, 0.0, 0.0, 0.0, 0.0, 0.0]], 'observation_model': [[1, 1, 0, 0, 0, 0, 0, 0]], 'observation_noise': 1.0, 'em_iter': 10, 'on_transform': True, 'on_inverse': False}, '1': {'rolling_window': 0.1, 'n_tails': 360, 'n_future': 0.2, 'method': 'mean', 'macro_micro': False}} with error LinAlgError('SVD did not converge')\") in model 334 in generation 2: ConstantNaive\n",
      "Model Number: 335 with model LastValueNaive in generation 2 of 10\n",
      "Model Number: 336 with model GLM in generation 2 of 10\n"
     ]
    },
    {
     "name": "stderr",
     "output_type": "stream",
     "text": [
      "/home/zeus/miniconda3/envs/cloudspace/lib/python3.10/site-packages/autots/tools/seasonal.py:896: RuntimeWarning: invalid value encountered in divide\n",
      "  scores = np.mean(np.abs(a - b) / divisor, axis=2)\n",
      "/home/zeus/miniconda3/envs/cloudspace/lib/python3.10/site-packages/autots/tools/seasonal.py:896: RuntimeWarning: invalid value encountered in divide\n",
      "  scores = np.mean(np.abs(a - b) / divisor, axis=2)\n",
      "/home/zeus/miniconda3/envs/cloudspace/lib/python3.10/site-packages/autots/tools/seasonal.py:896: RuntimeWarning: invalid value encountered in divide\n",
      "  scores = np.mean(np.abs(a - b) / divisor, axis=2)\n",
      "/home/zeus/miniconda3/envs/cloudspace/lib/python3.10/site-packages/autots/tools/fast_kalman.py:1137: RuntimeWarning: overflow encountered in cast\n",
      "  result.smoothed.states.cov[:, j, :, :] = Ps\n",
      "/home/zeus/miniconda3/envs/cloudspace/lib/python3.10/site-packages/autots/tools/fast_kalman.py:1143: RuntimeWarning: overflow encountered in cast\n",
      "  result.smoothed.observations.cov[:, j, :, :] = obs_cov\n",
      "/home/zeus/miniconda3/envs/cloudspace/lib/python3.10/site-packages/autots/tools/fast_kalman.py:1354: RuntimeWarning: invalid value encountered in matmul\n",
      "  return np.matmul(A, np.swapaxes(B, -1, -2))\n",
      "/home/zeus/miniconda3/envs/cloudspace/lib/python3.10/site-packages/autots/tools/fast_kalman.py:1341: RuntimeWarning: invalid value encountered in matmul\n",
      "  return np.matmul(A, B)\n"
     ]
    },
    {
     "name": "stdout",
     "output_type": "stream",
     "text": [
      "Model Number: 337 with model BasicLinearModel in generation 2 of 10\n",
      "Model Number: 338 with model GLS in generation 2 of 10\n",
      "Model Number: 339 with model MetricMotif in generation 2 of 10\n",
      "Model Number: 340 with model ETS in generation 2 of 10\n",
      "Model Number: 341 with model MetricMotif in generation 2 of 10\n",
      "Template Eval Error: ValueError('kth(=14) out of bounds (9)') in model 341 in generation 2: MetricMotif\n",
      "Model Number: 342 with model AverageValueNaive in generation 2 of 10\n",
      "Model Number: 343 with model BasicLinearModel in generation 2 of 10\n",
      "Model Number: 344 with model AverageValueNaive in generation 2 of 10\n",
      "Model Number: 345 with model RRVAR in generation 2 of 10\n",
      "Model Number: 346 with model ARDL in generation 2 of 10\n",
      "Model Number: 347 with model LastValueNaive in generation 2 of 10\n",
      "Model Number: 348 with model FFT in generation 2 of 10\n",
      "Model Number: 349 with model UnivariateMotif in generation 2 of 10\n",
      "Model Number: 350 with model LastValueNaive in generation 2 of 10\n",
      "Model Number: 351 with model LastValueNaive in generation 2 of 10\n",
      "Model Number: 352 with model Cassandra in generation 2 of 10\n",
      "Model Number: 353 with model ConstantNaive in generation 2 of 10\n",
      "Model Number: 354 with model ConstantNaive in generation 2 of 10\n",
      "Model Number: 355 with model SeasonalityMotif in generation 2 of 10\n",
      "Model Number: 356 with model DatepartRegression in generation 2 of 10\n"
     ]
    },
    {
     "name": "stderr",
     "output_type": "stream",
     "text": [
      "/home/zeus/miniconda3/envs/cloudspace/lib/python3.10/site-packages/numpy/lib/function_base.py:2897: RuntimeWarning: invalid value encountered in divide\n",
      "  c /= stddev[:, None]\n",
      "/home/zeus/miniconda3/envs/cloudspace/lib/python3.10/site-packages/numpy/lib/function_base.py:2898: RuntimeWarning: invalid value encountered in divide\n",
      "  c /= stddev[None, :]\n",
      "/home/zeus/miniconda3/envs/cloudspace/lib/python3.10/site-packages/sklearn/linear_model/_coordinate_descent.py:628: ConvergenceWarning: Objective did not converge. You might want to increase the number of iterations, check the scale of the features or consider increasing regularisation. Duality gap: 1.452e+04, tolerance: 2.076e+01\n",
      "  model = cd_fast.enet_coordinate_descent(\n"
     ]
    },
    {
     "name": "stdout",
     "output_type": "stream",
     "text": [
      "Model Number: 357 with model SeasonalityMotif in generation 2 of 10\n",
      "Template Eval Error: Exception(\"Transformer Cointegration failed on fit from params pchip {'0': {'det_order': 0, 'k_ar_diff': 0}, '1': {'rows': 1, 'lag': 1, 'method': 'additive', 'strength': 1.0, 'first_value_only': False, 'threshold': 10, 'threshold_method': 'mean'}, '2': {'method': 0.2}, '3': {}} with error ValueError('Coint only works on multivarate series')\") in model 357 in generation 2: SeasonalityMotif\n",
      "Model Number: 358 with model SeasonalityMotif in generation 2 of 10\n",
      "Template Eval Error: Exception(\"Transformer FIRFilter failed on fit from params mean {'0': {'lag': 1, 'fill': 'zero'}, '1': {'rows': 24, 'lag': 1, 'method': 'additive', 'strength': 0.5, 'first_value_only': False, 'threshold': 10, 'threshold_method': 'max'}, '2': {'method': 0.2}, '3': {'numtaps': 256, 'cutoff_hz': 10, 'window': 'kaiser', 'sampling_frequency': 2, 'on_transform': True, 'on_inverse': False}} with error ValueError('Invalid cutoff frequency: frequencies must be greater than 0 and less than fs/2.')\") in model 358 in generation 2: SeasonalityMotif\n",
      "Model Number: 359 with model RRVAR in generation 2 of 10\n",
      "Model Number: 360 with model FFT in generation 2 of 10\n",
      "Model Number: 361 with model ETS in generation 2 of 10\n",
      "Model Number: 362 with model UnivariateMotif in generation 2 of 10\n",
      "Model Number: 363 with model GLS in generation 2 of 10\n",
      "Model Number: 364 with model RRVAR in generation 2 of 10\n",
      "Model Number: 365 with model SeasonalNaive in generation 2 of 10\n",
      "New Generation: 3 of 10\n",
      "Model Number: 366 with model RRVAR in generation 3 of 10\n",
      "Model Number: 367 with model AverageValueNaive in generation 3 of 10\n",
      "Model Number: 368 with model SeasonalNaive in generation 3 of 10\n",
      "Model Number: 369 with model GLS in generation 3 of 10\n",
      "Model Number: 370 with model Cassandra in generation 3 of 10\n",
      "Template Eval Error: ValueError('more than 1 year of data is required for holiday detection.') in model 370 in generation 3: Cassandra\n",
      "Model Number: 371 with model DatepartRegression in generation 3 of 10\n",
      "Model Number: 372 with model AverageValueNaive in generation 3 of 10\n",
      "Model Number: 373 with model SectionalMotif in generation 3 of 10\n",
      "Template Eval Error: ValueError('kth(=10) out of bounds (8)') in model 373 in generation 3: SectionalMotif\n",
      "Model Number: 374 with model SectionalMotif in generation 3 of 10\n",
      "Model Number: 375 with model GLM in generation 3 of 10\n",
      "Model Number: 376 with model LastValueNaive in generation 3 of 10\n",
      "Model Number: 377 with model MetricMotif in generation 3 of 10\n",
      "Model Number: 378 with model GLS in generation 3 of 10\n",
      "Model Number: 379 with model SeasonalityMotif in generation 3 of 10\n",
      "prediction too long for indepedent=False, falling back on indepedent=True\n",
      "Model Number: 380 with model LastValueNaive in generation 3 of 10\n",
      "Model Number: 381 with model SectionalMotif in generation 3 of 10\n",
      "Model Number: 382 with model FFT in generation 3 of 10\n",
      "Model Number: 383 with model AverageValueNaive in generation 3 of 10\n",
      "Model Number: 384 with model DatepartRegression in generation 3 of 10\n",
      "Model Number: 385 with model FFT in generation 3 of 10\n",
      "Model Number: 386 with model RRVAR in generation 3 of 10\n",
      "Model Number: 387 with model DatepartRegression in generation 3 of 10\n",
      "Model Number: 388 with model SectionalMotif in generation 3 of 10\n",
      "Template Eval Error: ValueError('kth(=10) out of bounds (8)') in model 388 in generation 3: SectionalMotif\n",
      "Model Number: 389 with model SeasonalNaive in generation 3 of 10\n",
      "Model Number: 390 with model LastValueNaive in generation 3 of 10\n",
      "Model Number: 391 with model RRVAR in generation 3 of 10\n",
      "Model Number: 392 with model DatepartRegression in generation 3 of 10\n",
      "Model Number: 393 with model UnivariateMotif in generation 3 of 10\n",
      "Template Eval Error: ValueError('window shape cannot be larger than input array shape') in model 393 in generation 3: UnivariateMotif\n",
      "Model Number: 394 with model FFT in generation 3 of 10\n",
      "Template Eval Error: Exception(\"Transformer BTCD failed on fit from params mean {'0': {'regression_model': {'model': 'LinearRegression', 'model_params': {}}, 'max_lags': 1}, '1': {}, '2': {'lag': 7, 'fill': 'bfill'}, '3': {'window': 100}, '4': {'rows': 1, 'lag': 1, 'method': 'additive', 'strength': 1.0, 'first_value_only': False, 'threshold': 1, 'threshold_method': 'mean'}} with error ValueError('BTCD only works on multivarate series')\") in model 394 in generation 3: FFT\n",
      "Model Number: 395 with model AverageValueNaive in generation 3 of 10\n",
      "Model Number: 396 with model ConstantNaive in generation 3 of 10\n"
     ]
    },
    {
     "name": "stderr",
     "output_type": "stream",
     "text": [
      "/home/zeus/miniconda3/envs/cloudspace/lib/python3.10/site-packages/sklearn/neighbors/_classification.py:233: DataConversionWarning: A column-vector y was passed when a 1d array was expected. Please change the shape of y to (n_samples,), for example using ravel().\n",
      "  return self._fit(X, y)\n"
     ]
    },
    {
     "name": "stdout",
     "output_type": "stream",
     "text": [
      "Model Number: 397 with model RRVAR in generation 3 of 10\n",
      "Model Number: 398 with model DatepartRegression in generation 3 of 10\n",
      "Template Eval Error: ValueError(\"regression_type='User' but no future_regressor passed\") in model 398 in generation 3: DatepartRegression\n",
      "Model Number: 399 with model Cassandra in generation 3 of 10\n",
      "Model Number: 400 with model SectionalMotif in generation 3 of 10\n",
      "Model Number: 401 with model AverageValueNaive in generation 3 of 10\n",
      "Model Number: 402 with model MetricMotif in generation 3 of 10\n",
      "Model Number: 403 with model MetricMotif in generation 3 of 10\n",
      "Model Number: 404 with model FFT in generation 3 of 10"
     ]
    },
    {
     "name": "stderr",
     "output_type": "stream",
     "text": [
      "/home/zeus/miniconda3/envs/cloudspace/lib/python3.10/site-packages/numpy/lib/function_base.py:2897: RuntimeWarning: invalid value encountered in divide\n",
      "  c /= stddev[:, None]\n",
      "/home/zeus/miniconda3/envs/cloudspace/lib/python3.10/site-packages/numpy/lib/function_base.py:2898: RuntimeWarning: invalid value encountered in divide\n",
      "  c /= stddev[None, :]\n"
     ]
    },
    {
     "name": "stdout",
     "output_type": "stream",
     "text": [
      "\n",
      "Model Number: 405 with model SeasonalNaive in generation 3 of 10\n",
      "Model Number: 406 with model GLM in generation 3 of 10\n",
      "Model Number: 407 with model DatepartRegression in generation 3 of 10\n"
     ]
    },
    {
     "name": "stderr",
     "output_type": "stream",
     "text": [
      "/home/zeus/miniconda3/envs/cloudspace/lib/python3.10/site-packages/statsmodels/genmod/families/family.py:1367: ValueWarning: Negative binomial dispersion parameter alpha not set. Using default value alpha=1.0.\n",
      "  warnings.warn(\"Negative binomial dispersion parameter alpha not \"\n"
     ]
    },
    {
     "name": "stdout",
     "output_type": "stream",
     "text": [
      "Model Number: 408 with model GLS in generation 3 of 10\n",
      "Model Number: 409 with model ETS in generation 3 of 10\n",
      "Model Number: 410 with model ARDL in generation 3 of 10\n",
      "Model Number: 411 with model SeasonalNaive in generation 3 of 10\n",
      "Model Number: 412 with model GLM in generation 3 of 10\n",
      "Template Eval Error: ValueError('regression_type=user and no future_regressor passed') in model 412 in generation 3: GLM\n",
      "Model Number: 413 with model SeasonalityMotif in generation 3 of 10\n",
      "Model Number: 414 with model DatepartRegression in generation 3 of 10\n",
      "Model Number: 415 with model AverageValueNaive in generation 3 of 10\n",
      "Model Number: 416 with model DatepartRegression in generation 3 of 10\n",
      "Template Eval Error: ValueError(\"regression_type='User' but no future_regressor passed\") in model 416 in generation 3: DatepartRegression\n",
      "Model Number: 417 with model BasicLinearModel in generation 3 of 10\n",
      "Model Number: 418 with model BasicLinearModel in generation 3 of 10\n",
      "Model Number: 419 with model SeasonalityMotif in generation 3 of 10\n",
      "Model Number: 420 with model SectionalMotif in generation 3 of 10\n",
      "Model Number: 421 with model AverageValueNaive in generation 3 of 10\n",
      "Model Number: 422 with model SectionalMotif in generation 3 of 10\n",
      "Model Number: 423 with model LastValueNaive in generation 3 of 10\n",
      "Model Number: 424 with model LastValueNaive in generation 3 of 10\n",
      "Model Number: 425 with model GLM in generation 3 of 10\n",
      "Model Number: 426 with model ETS in generation 3 of 10\n",
      "Model Number: 427 with model SeasonalNaive in generation 3 of 10\n",
      "Model Number: 428 with model MetricMotif in generation 3 of 10\n",
      "Model Number: 429 with model ETS in generation 3 of 10\n",
      "Model Number: 430 with model GLS in generation 3 of 10\n",
      "Model Number: 431 with model LastValueNaive in generation 3 of 10\n",
      "Model Number: 432 with model ConstantNaive in generation 3 of 10\n",
      "Model Number: 433 with model SeasonalityMotif in generation 3 of 10\n",
      "Model Number: 434 with model SectionalMotif in generation 3 of 10\n",
      "Template Eval Error: Exception(\"Transformer Detrend failed on fit from params fake_date {'0': {'model': 'Gamma', 'phi': 1, 'window': 10, 'transform_dict': None}, '1': {}, '2': {}, '3': {'threshold': 0.9, 'splash_threshold': None, 'use_dayofmonth_holidays': True, 'use_wkdom_holidays': True, 'use_wkdeom_holidays': False, 'use_lunar_holidays': True, 'use_lunar_weekday': False, 'use_islamic_holidays': False, 'use_hebrew_holidays': False, 'use_hindu_holidays': True, 'anomaly_detector_params': {'method': 'zscore', 'method_params': {'distribution': 'laplace', 'alpha': 0.05}, 'fillna': 'ffill', 'transform_dict': None, 'isolated_only': True, 'on_inverse': False}, 'remove_excess_anomalies': True, 'impact': 'anomaly_score', 'regression_params': {}}, '4': {'model': 'Linear', 'phi': 1, 'window': None, 'transform_dict': {'fillna': None, 'transformations': {'0': 'ClipOutliers'}, 'transformation_params': {'0': {'method': 'clip', 'std_threshold': 4}}}}, '5': {'lag': 1, 'fill': 'bfill'}} with error ValueError('Found input variables with inconsistent numbers of samples: [10, 144]')\") in model 434 in generation 3: SectionalMotif\n",
      "Model Number: 435 with model ETS in generation 3 of 10\n",
      "Model Number: 436 with model RRVAR in generation 3 of 10\n",
      "Model Number: 437 with model Cassandra in generation 3 of 10\n",
      "Template Eval Error: UnboundLocalError(\"local variable 'slope' referenced before assignment\") in model 437 in generation 3: Cassandra\n",
      "Model Number: 438 with model SectionalMotif in generation 3 of 10\n",
      "Model Number: 439 with model LastValueNaive in generation 3 of 10\n",
      "Model Number: 440 with model MetricMotif in generation 3 of 10\n",
      "Model Number: 441 with model MetricMotif in generation 3 of 10\n",
      "Model Number: 442 with model RRVAR in generation 3 of 10\n",
      "Model Number: 443 with model ConstantNaive in generation 3 of 10\n",
      "Model Number: 444 with model DatepartRegression in generation 3 of 10\n"
     ]
    },
    {
     "name": "stderr",
     "output_type": "stream",
     "text": [
      "/home/zeus/miniconda3/envs/cloudspace/lib/python3.10/site-packages/numpy/lib/function_base.py:2897: RuntimeWarning: invalid value encountered in divide\n",
      "  c /= stddev[:, None]\n",
      "/home/zeus/miniconda3/envs/cloudspace/lib/python3.10/site-packages/numpy/lib/function_base.py:2898: RuntimeWarning: invalid value encountered in divide\n",
      "  c /= stddev[None, :]\n"
     ]
    },
    {
     "name": "stdout",
     "output_type": "stream",
     "text": [
      "Model Number: 445 with model Cassandra in generation 3 of 10\n",
      "Template Eval Error: ValueError('more than 1 year of data is required for holiday detection.') in model 445 in generation 3: Cassandra\n",
      "Model Number: 446 with model DatepartRegression in generation 3 of 10\n",
      "Model Number: 447 with model AverageValueNaive in generation 3 of 10\n",
      "Model Number: 448 with model UnivariateMotif in generation 3 of 10\n",
      "Model Number: 449 with model RRVAR in generation 3 of 10\n",
      "Model Number: 450 with model ETS in generation 3 of 10\n",
      "Model Number: 451 with model RRVAR in generation 3 of 10\n",
      "Model Number: 452 with model GLS in generation 3 of 10\n",
      "Model Number: 453 with model ConstantNaive in generation 3 of 10\n",
      "Model Number: 454 with model BasicLinearModel in generation 3 of 10\n",
      "Model Number: 455 with model DatepartRegression in generation 3 of 10\n",
      "Template Eval Error: InvalidParameterError(\"The 'alpha' parameter of MLPRegressor must be a float in the range [0.0, inf). Got None instead.\") in model 455 in generation 3: DatepartRegression\n",
      "Model Number: 456 with model SectionalMotif in generation 3 of 10\n",
      "Model Number: 457 with model AverageValueNaive in generation 3 of 10\n",
      "Model Number: 458 with model SeasonalNaive in generation 3 of 10\n",
      "Model Number: 459 with model ETS in generation 3 of 10\n",
      "Model Number: 460 with model UnivariateMotif in generation 3 of 10\n",
      "Model Number: 461 with model MetricMotif in generation 3 of 10\n",
      "Model Number: 462 with model MetricMotif in generation 3 of 10\n",
      "Model Number: 463 with model SeasonalityMotif in generation 3 of 10\n",
      "Template Eval Error: Exception(\"Transformer Cointegration failed on fit from params ffill {'0': {'det_order': -1, 'k_ar_diff': 2}} with error ValueError('Coint only works on multivarate series')\") in model 463 in generation 3: SeasonalityMotif\n",
      "Model Number: 464 with model ETS in generation 3 of 10\n"
     ]
    },
    {
     "name": "stderr",
     "output_type": "stream",
     "text": [
      "/home/zeus/miniconda3/envs/cloudspace/lib/python3.10/site-packages/sklearn/neighbors/_classification.py:233: DataConversionWarning: A column-vector y was passed when a 1d array was expected. Please change the shape of y to (n_samples,), for example using ravel().\n",
      "  return self._fit(X, y)\n"
     ]
    },
    {
     "name": "stdout",
     "output_type": "stream",
     "text": [
      "Model Number: 465 with model AverageValueNaive in generation 3 of 10\n",
      "Model Number: 466 with model MetricMotif in generation 3 of 10\n",
      "Template Eval Error: Exception(\"Transformer HolidayTransformer failed on fit from params nearest {'0': {'threshold': 1.0, 'splash_threshold': None, 'use_dayofmonth_holidays': True, 'use_wkdom_holidays': True, 'use_wkdeom_holidays': False, 'use_lunar_holidays': False, 'use_lunar_weekday': False, 'use_islamic_holidays': False, 'use_hebrew_holidays': False, 'use_hindu_holidays': False, 'anomaly_detector_params': {'method': 'zscore', 'method_params': {'distribution': 'uniform', 'alpha': 0.05}, 'fillna': 'mean', 'transform_dict': {'fillna': None, 'transformations': {'0': 'EWMAFilter'}, 'transformation_params': {'0': {'span': 7}}}, 'isolated_only': False, 'on_inverse': False}, 'remove_excess_anomalies': True, 'impact': 'anomaly_score', 'regression_params': {}}, '1': {'model_name': 'local linear stochastic seasonal dummy', 'state_transition': [[1, 0, 0, 0], [0, -1, -1, -1], [0, 1, 0, 0], [0, 0, 1, 0]], 'process_noise': [[1, 0, 0, 0], [0, 1, 0, 0], [0, 0, 0, 0], [0, 0, 0, 0]], 'observation_model': [[1, 1, 0, 0]], 'observation_noise': 0.25, 'em_iter': 10, 'on_transform': False, 'on_inverse': True}, '2': {}, '3': {'lag': 1, 'fill': 'zero'}} with error ValueError('more than 1 year of data is required for holiday detection.')\") in model 466 in generation 3: MetricMotif\n",
      "Model Number: 467 with model LastValueNaive in generation 3 of 10\n",
      "Model Number: 468 with model MetricMotif in generation 3 of 10\n",
      "Model Number: 469 with model SeasonalityMotif in generation 3 of 10\n",
      "Model Number: 470 with model LastValueNaive in generation 3 of 10\n",
      "New Generation: 4 of 10\n",
      "Model Number: 471 with model ConstantNaive in generation 4 of 10\n",
      "Model Number: 472 with model SeasonalityMotif in generation 4 of 10\n",
      "Template Eval Error: Exception(\"Transformer FIRFilter failed on fit from params mean {'0': {'model': 'Linear', 'phi': 1, 'window': None, 'transform_dict': {'fillna': None, 'transformations': {'0': 'ScipyFilter'}, 'transformation_params': {'0': {'method': 'savgol_filter', 'method_args': {'window_length': 31, 'polyorder': 3, 'deriv': 0, 'mode': 'interp'}}}}}, '1': {'numtaps': 128, 'cutoff_hz': 10, 'window': 'hamming', 'sampling_frequency': 2, 'on_transform': True, 'on_inverse': False}, '2': {'method': 0.2}, '3': {'theta_values': [0.2, 1.8]}} with error ValueError('Invalid cutoff frequency: frequencies must be greater than 0 and less than fs/2.')\") in model 472 in generation 4: SeasonalityMotif\n",
      "Model Number: 473 with model AverageValueNaive in generation 4 of 10\n",
      "Model Number: 474 with model SeasonalNaive in generation 4 of 10\n",
      "Model Number: 475 with model ETS in generation 4 of 10\n",
      "Model Number: 476 with model SeasonalNaive in generation 4 of 10\n",
      "Model Number: 477 with model SeasonalityMotif in generation 4 of 10\n",
      "prediction too long for indepedent=False, falling back on indepedent=True\n",
      "Model Number: 478 with model SeasonalityMotif in generation 4 of 10\n",
      "prediction too long for indepedent=False, falling back on indepedent=True\n",
      "Model Number: 479 with model LastValueNaive in generation 4 of 10\n",
      "Model Number: 480 with model RRVAR in generation 4 of 10\n",
      "Model Number: 481 with model DatepartRegression in generation 4 of 10\n",
      "Model Number: 482 with model BasicLinearModel in generation 4 of 10\n",
      "Model Number: 483 with model ETS in generation 4 of 10\n",
      "Model Number: 484 with model LastValueNaive in generation 4 of 10\n",
      "Template Eval Error: Exception(\"Transformer Cointegration failed on fit from params ffill_mean_biased {'0': {'det_order': 1, 'k_ar_diff': 0}, '1': {'fixed': True, 'window': 16, 'macro_micro': False, 'center': False}, '2': {'lag': 2, 'fill': 'bfill'}} with error ValueError('Coint only works on multivarate series')\") in model 484 in generation 4: LastValueNaive\n",
      "Model Number: 485 with model GLS in generation 4 of 10\n",
      "Model Number: 486 with model SeasonalityMotif in generation 4 of 10\n",
      "prediction too long for indepedent=False, falling back on indepedent=True\n",
      "Model Number: 487 with model LastValueNaive in generation 4 of 10\n",
      "Model Number: 488 with model BasicLinearModel in generation 4 of 10\n",
      "Model Number: 489 with model SeasonalNaive in generation 4 of 10\n",
      "Model Number: 490 with model SeasonalityMotif in generation 4 of 10\n",
      "prediction too long for indepedent=False, falling back on indepedent=True\n",
      "Model Number: 491 with model AverageValueNaive in generation 4 of 10\n",
      "Model Number: 492 with model DatepartRegression in generation 4 of 10\n",
      "Model Number: 493 with model UnivariateMotif in generation 4 of 10\n",
      "Template Eval Error: ValueError('window shape cannot be larger than input array shape') in model 493 in generation 4: UnivariateMotif\n",
      "Model Number: 494 with model GLS in generation 4 of 10\n",
      "Model Number: 495 with model BasicLinearModel in generation 4 of 10\n",
      "Model Number: 496 with model SectionalMotif in generation 4 of 10\n",
      "Model Number: 497 with model MetricMotif in generation 4 of 10\n",
      "Model Number: 498 with model GLS in generation 4 of 10\n",
      "Model Number: 499 with model RRVAR in generation 4 of 10\n",
      "Model Number: 500 with model DatepartRegression in generation 4 of 10\n",
      "Template Eval Error: ValueError(\"regression_type='User' but no future_regressor passed\") in model 500 in generation 4: DatepartRegression\n",
      "Model Number: 501 with model SeasonalNaive in generation 4 of 10\n",
      "Model Number: 502 with model MetricMotif in generation 4 of 10\n",
      "Model Number: 503 with model ETS in generation 4 of 10\n",
      "Model Number: 504 with model RRVAR in generation 4 of 10\n",
      "Model Number: 505 with model UnivariateMotif in generation 4 of 10\n",
      "Model Number: 506 with model RRVAR in generation 4 of 10\n"
     ]
    },
    {
     "name": "stderr",
     "output_type": "stream",
     "text": [
      "/home/zeus/miniconda3/envs/cloudspace/lib/python3.10/site-packages/sklearn/neighbors/_classification.py:233: DataConversionWarning: A column-vector y was passed when a 1d array was expected. Please change the shape of y to (n_samples,), for example using ravel().\n",
      "  return self._fit(X, y)\n"
     ]
    },
    {
     "name": "stdout",
     "output_type": "stream",
     "text": [
      "Model Number: 507 with model SeasonalNaive in generation 4 of 10\n",
      "Model Number: 508 with model DatepartRegression in generation 4 of 10\n",
      "Template Eval Error: ValueError(\"regression_type='User' but no future_regressor passed\") in model 508 in generation 4: DatepartRegression\n",
      "Model Number: 509 with model FFT in generation 4 of 10\n",
      "Model Number: 510 with model MetricMotif in generation 4 of 10\n",
      "Model Number: 511 with model SectionalMotif in generation 4 of 10\n",
      "Model Number: 512 with model ETS in generation 4 of 10\n",
      "Model Number: 513 with model FFT in generation 4 of 10\n",
      "Model Number: 514 with model ETS in generation 4 of 10\n",
      "Model Number: 515 with model ETS in generation 4 of 10\n",
      "Model Number: 516 with model AverageValueNaive in generation 4 of 10\n",
      "Template Eval Error: Exception(\"Transformer FIRFilter failed on fit from params rolling_mean {'0': {'numtaps': 64, 'cutoff_hz': 10, 'window': 'blackman', 'sampling_frequency': 12, 'on_transform': True, 'on_inverse': False}, '1': {'window': 10}, '2': {'rows': 1, 'lag': 7, 'method': 'additive', 'strength': 1.0, 'first_value_only': False, 'threshold': None, 'threshold_method': 'mean'}, '3': {'model': 'GLS', 'phi': 1, 'window': None, 'transform_dict': None}, '4': {'part': 'trend', 'lamb': 1600}} with error ValueError('Invalid cutoff frequency: frequencies must be greater than 0 and less than fs/2.')\") in model 516 in generation 4: AverageValueNaive\n",
      "Model Number: 517 with model AverageValueNaive in generation 4 of 10\n",
      "Model Number: 518 with model RRVAR in generation 4 of 10\n"
     ]
    },
    {
     "name": "stderr",
     "output_type": "stream",
     "text": [
      "/home/zeus/miniconda3/envs/cloudspace/lib/python3.10/site-packages/sklearn/neighbors/_classification.py:233: DataConversionWarning: A column-vector y was passed when a 1d array was expected. Please change the shape of y to (n_samples,), for example using ravel().\n",
      "  return self._fit(X, y)\n"
     ]
    },
    {
     "name": "stdout",
     "output_type": "stream",
     "text": [
      "Model Number: 519 with model RRVAR in generation 4 of 10\n",
      "Model Number: 520 with model ARDL in generation 4 of 10\n",
      "Model Number: 521 with model BasicLinearModel in generation 4 of 10\n",
      "Model Number: 522 with model SectionalMotif in generation 4 of 10\n",
      "Model Number: 523 with model SeasonalNaive in generation 4 of 10\n",
      "Model Number: 524 with model FFT in generation 4 of 10\n",
      "Model Number: 525 with model SeasonalNaive in generation 4 of 10\n",
      "Model Number: 526 with model SectionalMotif in generation 4 of 10\n",
      "Model Number: 527 with model SectionalMotif in generation 4 of 10\n",
      "Model Number: 528 with model AverageValueNaive in generation 4 of 10\n",
      "Model Number: 529 with model FFT in generation 4 of 10\n",
      "Model Number: 530 with model AverageValueNaive in generation 4 of 10\n",
      "Model Number: 531 with model SeasonalityMotif in generation 4 of 10\n",
      "Model Number: 532 with model ARDL in generation 4 of 10\n",
      "Model Number: 533 with model MetricMotif in generation 4 of 10\n",
      "Template Eval Error: ValueError('kth(=14) out of bounds (9)') in model 533 in generation 4: MetricMotif\n",
      "Model Number: 534 with model LastValueNaive in generation 4 of 10\n",
      "Model Number: 535 with model SeasonalityMotif in generation 4 of 10\n",
      "prediction too long for indepedent=False, falling back on indepedent=True\n",
      "Model Number: 536 with model AverageValueNaive in generation 4 of 10\n",
      "Model Number: 537 with model FFT in generation 4 of 10\n",
      "Model Number: 538 with model UnivariateMotif in generation 4 of 10\n",
      "Model Number: 539 with model BasicLinearModel in generation 4 of 10\n",
      "Model Number: 540 with model AverageValueNaive in generation 4 of 10\n",
      "Model Number: 541 with model MetricMotif in generation 4 of 10\n",
      "Model Number: 542 with model DatepartRegression in generation 4 of 10\n"
     ]
    },
    {
     "name": "stderr",
     "output_type": "stream",
     "text": [
      "/home/zeus/miniconda3/envs/cloudspace/lib/python3.10/site-packages/sklearn/neighbors/_classification.py:233: DataConversionWarning: A column-vector y was passed when a 1d array was expected. Please change the shape of y to (n_samples,), for example using ravel().\n",
      "  return self._fit(X, y)\n"
     ]
    },
    {
     "name": "stdout",
     "output_type": "stream",
     "text": [
      "Template Eval Error: InvalidParameterError(\"The 'alpha' parameter of MLPRegressor must be a float in the range [0.0, inf). Got None instead.\") in model 542 in generation 4: DatepartRegression\n",
      "Model Number: 543 with model GLS in generation 4 of 10\n",
      "Model Number: 544 with model LastValueNaive in generation 4 of 10\n",
      "Model Number: 545 with model DatepartRegression in generation 4 of 10\n",
      "Template Eval Error: ValueError(\"regression_type='User' but no future_regressor passed\") in model 545 in generation 4: DatepartRegression\n",
      "Model Number: 546 with model SectionalMotif in generation 4 of 10\n",
      "Model Number: 547 with model DatepartRegression in generation 4 of 10\n",
      "Model Number: 548 with model AverageValueNaive in generation 4 of 10\n",
      "Model Number: 549 with model GLS in generation 4 of 10\n"
     ]
    },
    {
     "name": "stderr",
     "output_type": "stream",
     "text": [
      "/home/zeus/miniconda3/envs/cloudspace/lib/python3.10/site-packages/sklearn/linear_model/_coordinate_descent.py:628: ConvergenceWarning: Objective did not converge. You might want to increase the number of iterations, check the scale of the features or consider increasing regularisation. Duality gap: 4.691e+02, tolerance: 1.719e+00\n",
      "  model = cd_fast.enet_coordinate_descent(\n"
     ]
    },
    {
     "name": "stdout",
     "output_type": "stream",
     "text": [
      "Model Number: 550 with model SeasonalNaive in generation 4 of 10\n",
      "Model Number: 551 with model ETS in generation 4 of 10\n",
      "Model Number: 552 with model RRVAR in generation 4 of 10\n",
      "Model Number: 553 with model DatepartRegression in generation 4 of 10\n",
      "Template Eval Error: Exception(\"Transformer ReplaceConstant failed on fit from params quadratic {'0': {'lag_1': 28, 'method': 2}, '1': {'constant': 0, 'reintroduction_model': {'model': 'xgboost', 'model_params': {'booster': 'gbtree', 'max_depth': 3, 'eta': 0.03, 'min_child_weight': 1, 'subsample': 1, 'colsample_bylevel': 1, 'reg_alpha': 0, 'reg_lambda': 1, 'n_estimators': 10}, 'datepart_method': ['isoweek_binary', 'month', 'dayofweek']}, 'fillna': None}, '2': {'method': 0.2}} with error ValueError('Invalid classes inferred from unique values of `y`.  Expected: [0], got [1]')\") in model 553 in generation 4: DatepartRegression\n",
      "Model Number: 554 with model LastValueNaive in generation 4 of 10\n",
      "Model Number: 555 with model DatepartRegression in generation 4 of 10\n",
      "Model Number: 556 with model DatepartRegression in generation 4 of 10\n",
      "interpolating\n",
      "Template Eval Error: ValueError('Model DatepartRegression returned NaN for one or more series. fail_on_forecast_nan=True') in model 556 in generation 4: DatepartRegression\n",
      "Model Number: 557 with model AverageValueNaive in generation 4 of 10\n",
      "Model Number: 558 with model ConstantNaive in generation 4 of 10\n",
      "Model Number: 559 with model Cassandra in generation 4 of 10\n",
      "Template Eval Error: ValueError('more than 1 year of data is required for holiday detection.') in model 559 in generation 4: Cassandra\n",
      "Model Number: 560 with model SeasonalNaive in generation 4 of 10\n"
     ]
    },
    {
     "name": "stderr",
     "output_type": "stream",
     "text": [
      "/home/zeus/miniconda3/envs/cloudspace/lib/python3.10/site-packages/sklearn/neighbors/_regression.py:500: UserWarning: One or more samples have no neighbors within specified radius; predicting NaN.\n",
      "  warnings.warn(empty_warning_msg)\n",
      "/home/zeus/miniconda3/envs/cloudspace/lib/python3.10/site-packages/sklearn/linear_model/_ridge.py:200: LinAlgWarning: Ill-conditioned matrix (rcond=8.09705e-25): result may not be accurate.\n",
      "  return linalg.solve(A, Xy, assume_a=\"pos\", overwrite_a=True).T\n",
      "/home/zeus/miniconda3/envs/cloudspace/lib/python3.10/site-packages/statsmodels/genmod/families/family.py:1367: ValueWarning: Negative binomial dispersion parameter alpha not set. Using default value alpha=1.0.\n",
      "  warnings.warn(\"Negative binomial dispersion parameter alpha not \"\n"
     ]
    },
    {
     "name": "stdout",
     "output_type": "stream",
     "text": [
      "Model Number: 561 with model DatepartRegression in generation 4 of 10\n",
      "Template Eval Error: Exception(\"Transformer ReplaceConstant failed on fit from params zero {'0': {'lag': 1, 'fill': 'zero'}, '1': {'constant': 1, 'reintroduction_model': {'model': 'xgboost', 'model_params': {'booster': 'gbtree', 'colsample_bylevel': 0.54, 'learning_rate': 0.0125, 'max_depth': 11, 'min_child_weight': 0.0127203, 'n_estimators': 319}, 'datepart_method': ['dayofweek', [365.25, 24]]}, 'fillna': 'linear'}, '2': {}, '3': {'method': 0.2}} with error ValueError('Invalid classes inferred from unique values of `y`.  Expected: [0], got [1]')\") in model 561 in generation 4: DatepartRegression\n",
      "Model Number: 562 with model GLM in generation 4 of 10\n",
      "Model Number: 563 with model Cassandra in generation 4 of 10\n",
      "Template Eval Error: ValueError('Incompatible dimension for X and Y matrices: X.shape[1] == 7 while Y.shape[1] == 14') in model 563 in generation 4: Cassandra\n",
      "Model Number: 564 with model ConstantNaive in generation 4 of 10\n",
      "Model Number: 565 with model WindowRegression in generation 4 of 10\n",
      "Template Eval Error: ModuleNotFoundError(\"No module named 'lightgbm'\") in model 565 in generation 4: WindowRegression\n",
      "Model Number: 566 with model ETS in generation 4 of 10\n",
      "Model Number: 567 with model FFT in generation 4 of 10\n",
      "Model Number: 568 with model MetricMotif in generation 4 of 10\n",
      "Template Eval Error: ValueError('kth(=14) out of bounds (9)') in model 568 in generation 4: MetricMotif\n",
      "Model Number: 569 with model ConstantNaive in generation 4 of 10\n",
      "Model Number: 570 with model FFT in generation 4 of 10\n",
      "Model Number: 571 with model RRVAR in generation 4 of 10\n",
      "Model Number: 572 with model LastValueNaive in generation 4 of 10\n",
      "Model Number: 573 with model AverageValueNaive in generation 4 of 10\n",
      "Model Number: 574 with model LastValueNaive in generation 4 of 10\n",
      "Template Eval Error: Exception(\"Transformer Detrend failed on fit from params cubic {'0': {'numtaps': 128, 'cutoff_hz': 0.01, 'window': 'hann', 'sampling_frequency': 4, 'on_transform': True, 'on_inverse': False}, '1': {'window_size': 90, 'alpha': 2.0, 'grouping_forward_limit': 5, 'max_level_shifts': 3, 'alignment': 'rolling_diff'}, '2': {'method': 'clip', 'std_threshold': 5, 'fillna': None}, '3': {'fillna': 'ffill', 'center': 'zero'}, '4': {'model': 'Linear', 'phi': 0.998, 'window': None, 'transform_dict': {'fillna': None, 'transformations': {'0': 'AnomalyRemoval'}, 'transformation_params': {'0': {'method': 'zscore', 'transform_dict': {'transformations': {'0': 'DatepartRegression'}, 'transformation_params': {'0': {'datepart_method': 'simple_3', 'regression_model': {'model': 'ElasticNet', 'model_params': {}}}}}, 'method_params': {'distribution': 'uniform', 'alpha': 0.05}}}}}} with error ValueError('Input y contains NaN.')\") in model 574 in generation 4: LastValueNaive\n",
      "Model Number: 575 with model LastValueNaive in generation 4 of 10\n",
      "New Generation: 5 of 10\n",
      "Model Number: 576 with model AverageValueNaive in generation 5 of 10\n",
      "Model Number: 577 with model ETS in generation 5 of 10\n",
      "Model Number: 578 with model LastValueNaive in generation 5 of 10\n",
      "Model Number: 579 with model BasicLinearModel in generation 5 of 10\n",
      "Model Number: 580 with model SectionalMotif in generation 5 of 10\n",
      "Model Number: 581 with model DatepartRegression in generation 5 of 10\n",
      "Model Number: 582 with model FFT in generation 5 of 10\n"
     ]
    },
    {
     "name": "stderr",
     "output_type": "stream",
     "text": [
      "/home/zeus/miniconda3/envs/cloudspace/lib/python3.10/site-packages/autots/tools/seasonal.py:896: RuntimeWarning: invalid value encountered in divide\n",
      "  scores = np.mean(np.abs(a - b) / divisor, axis=2)\n",
      "/home/zeus/miniconda3/envs/cloudspace/lib/python3.10/site-packages/autots/tools/seasonal.py:896: RuntimeWarning: invalid value encountered in divide\n",
      "  scores = np.mean(np.abs(a - b) / divisor, axis=2)\n",
      "/home/zeus/miniconda3/envs/cloudspace/lib/python3.10/site-packages/autots/tools/seasonal.py:896: RuntimeWarning: invalid value encountered in divide\n",
      "  scores = np.mean(np.abs(a - b) / divisor, axis=2)\n"
     ]
    },
    {
     "name": "stdout",
     "output_type": "stream",
     "text": [
      "Model Number: 583 with model SeasonalNaive in generation 5 of 10\n",
      "Model Number: 584 with model ConstantNaive in generation 5 of 10\n",
      "Model Number: 585 with model BasicLinearModel in generation 5 of 10\n",
      "Model Number: 586 with model RRVAR in generation 5 of 10\n",
      "Model Number: 587 with model BasicLinearModel in generation 5 of 10\n",
      "Model Number: 588 with model DatepartRegression in generation 5 of 10\n",
      "Model Number: 589 with model ConstantNaive in generation 5 of 10\n",
      "Template Eval Error: Exception(\"Transformer BTCD failed on fit from params mean {'0': {'rows': 1, 'lag': 2, 'method': 'additive', 'strength': 1.0, 'first_value_only': False, 'threshold': 10, 'threshold_method': 'max'}, '1': {'decimals': 0, 'on_transform': False, 'on_inverse': True}, '2': {'regression_model': {'model': 'LinearRegression', 'model_params': {}}, 'max_lags': 1}, '3': {'rows': 5}} with error ValueError('BTCD only works on multivarate series')\") in model 589 in generation 5: ConstantNaive\n",
      "Model Number: 590 with model SeasonalityMotif in generation 5 of 10\n",
      "prediction too long for indepedent=False, falling back on indepedent=True\n",
      "Model Number: 591 with model LastValueNaive in generation 5 of 10\n",
      "Model Number: 592 with model SectionalMotif in generation 5 of 10\n",
      "Model Number: 593 with model SectionalMotif in generation 5 of 10\n",
      "Model Number: 594 with model RRVAR in generation 5 of 10\n",
      "Model Number: 595 with model RRVAR in generation 5 of 10\n"
     ]
    },
    {
     "name": "stderr",
     "output_type": "stream",
     "text": [
      "/home/zeus/miniconda3/envs/cloudspace/lib/python3.10/site-packages/autots/tools/seasonal.py:896: RuntimeWarning: invalid value encountered in divide\n",
      "  scores = np.mean(np.abs(a - b) / divisor, axis=2)\n",
      "/home/zeus/miniconda3/envs/cloudspace/lib/python3.10/site-packages/autots/tools/seasonal.py:896: RuntimeWarning: invalid value encountered in divide\n",
      "  scores = np.mean(np.abs(a - b) / divisor, axis=2)\n",
      "/home/zeus/miniconda3/envs/cloudspace/lib/python3.10/site-packages/autots/tools/seasonal.py:896: RuntimeWarning: invalid value encountered in divide\n",
      "  scores = np.mean(np.abs(a - b) / divisor, axis=2)\n"
     ]
    },
    {
     "name": "stdout",
     "output_type": "stream",
     "text": [
      "Model Number: 596 with model SeasonalityMotif in generation 5 of 10\n",
      "Model Number: 597 with model RRVAR in generation 5 of 10\n",
      "Model Number: 598 with model GLM in generation 5 of 10\n",
      "Template Eval Error: Exception(\"Transformer RegressionFilter failed on fit from params zero {'0': {'sigma': 3, 'rolling_window': 90, 'run_order': 'trend_first', 'regression_params': {'regression_model': {'model': 'ElasticNet', 'model_params': {'l1_ratio': 0.5, 'fit_intercept': True, 'selection': 'cyclic', 'max_iter': 1000}}, 'datepart_method': 'recurring', 'polynomial_degree': 2, 'transform_dict': {'fillna': None, 'transformations': {'0': 'EWMAFilter'}, 'transformation_params': {'0': {'span': 2}}}, 'holiday_countries_used': False, 'lags': None, 'forward_lags': None}, 'holiday_params': {'threshold': 0.8, 'splash_threshold': None, 'use_dayofmonth_holidays': True, 'use_wkdom_holidays': True, 'use_wkdeom_holidays': False, 'use_lunar_holidays': False, 'use_lunar_weekday': False, 'use_islamic_holidays': False, 'use_hebrew_holidays': False, 'use_hindu_holidays': True, 'anomaly_detector_params': {'method': 'minmax', 'method_params': {'alpha': 0.03}, 'fillna': 'ffill', 'transform_dict': None, 'isolated_only': False, 'on_inverse': False}, 'remove_excess_anomalies': True, 'impact': 'datepart_regression', 'regression_params': {'regression_model': {'model': 'ElasticNet', 'model_params': {'l1_ratio': 0.5, 'fit_intercept': True, 'selection': 'cyclic', 'max_iter': 1000}}, 'datepart_method': 'recurring', 'polynomial_degree': 2, 'transform_dict': {'fillna': None, 'transformations': {'0': 'EWMAFilter'}, 'transformation_params': {'0': {'span': 2}}}, 'holiday_countries_used': False, 'lags': None, 'forward_lags': None}}, 'trend_method': 'local_linear'}, '1': {}, '2': {'method': 'rolling_zscore', 'method_params': {'distribution': 'gamma', 'alpha': 0.05, 'rolling_periods': 300, 'center': False}, 'fillna': 'fake_date', 'transform_dict': {'fillna': None, 'transformations': {'0': 'EWMAFilter'}, 'transformation_params': {'0': {'span': 7}}}, 'isolated_only': True, 'on_inverse': True}} with error ValueError('more than 1 year of data is required for holiday detection.')\") in model 598 in generation 5: GLM\n",
      "Model Number: 599 with model DatepartRegression in generation 5 of 10\n",
      "Model Number: 600 with model SeasonalNaive in generation 5 of 10\n"
     ]
    },
    {
     "name": "stderr",
     "output_type": "stream",
     "text": [
      "/home/zeus/miniconda3/envs/cloudspace/lib/python3.10/site-packages/sklearn/linear_model/_coordinate_descent.py:628: ConvergenceWarning: Objective did not converge. You might want to increase the number of iterations, check the scale of the features or consider increasing regularisation. Duality gap: 3.877e+02, tolerance: 1.474e+00\n",
      "  model = cd_fast.enet_coordinate_descent(\n"
     ]
    },
    {
     "name": "stdout",
     "output_type": "stream",
     "text": [
      "Model Number: 601 with model AverageValueNaive in generation 5 of 10\n",
      "Model Number: 602 with model BasicLinearModel in generation 5 of 10\n",
      "Model Number: 603 with model MetricMotif in generation 5 of 10\n",
      "Model Number: 604 with model BasicLinearModel in generation 5 of 10\n"
     ]
    },
    {
     "name": "stderr",
     "output_type": "stream",
     "text": [
      "/home/zeus/miniconda3/envs/cloudspace/lib/python3.10/site-packages/autots/tools/percentile.py:47: RuntimeWarning: All-NaN slice encountered\n",
      "  max_val = np.nanmax(arr)\n"
     ]
    },
    {
     "name": "stdout",
     "output_type": "stream",
     "text": [
      "Model Number: 605 with model Cassandra in generation 5 of 10\n",
      "Model Number: 606 with model DatepartRegression in generation 5 of 10\n"
     ]
    },
    {
     "name": "stderr",
     "output_type": "stream",
     "text": [
      "/home/zeus/miniconda3/envs/cloudspace/lib/python3.10/site-packages/numpy/lib/function_base.py:2897: RuntimeWarning: invalid value encountered in divide\n",
      "  c /= stddev[:, None]\n",
      "/home/zeus/miniconda3/envs/cloudspace/lib/python3.10/site-packages/numpy/lib/function_base.py:2898: RuntimeWarning: invalid value encountered in divide\n",
      "  c /= stddev[None, :]\n"
     ]
    },
    {
     "name": "stdout",
     "output_type": "stream",
     "text": [
      "Model Number: 607 with model AverageValueNaive in generation 5 of 10\n",
      "Model Number: 608 with model GLM in generation 5 of 10\n",
      "Model Number: 609 with model LastValueNaive in generation 5 of 10\n",
      "Model Number: 610 with model AverageValueNaive in generation 5 of 10\n",
      "Model Number: 611 with model LastValueNaive in generation 5 of 10\n",
      "Template Eval Error: Exception(\"Transformer Cointegration failed on fit from params linear {'0': {}, '1': {'det_order': 1, 'k_ar_diff': 2}, '2': {'rows': 1, 'lag': 1, 'method': 'additive', 'strength': 1.0, 'first_value_only': True, 'threshold': None, 'threshold_method': 'mean'}, '3': {'span': 7}} with error ValueError('Coint only works on multivarate series')\") in model 611 in generation 5: LastValueNaive\n",
      "Model Number: 612 with model SectionalMotif in generation 5 of 10\n",
      "Model Number: 613 with model UnivariateMotif in generation 5 of 10\n",
      "Template Eval Error: Exception(\"Transformer HolidayTransformer failed on fit from params ffill {'0': {'rows': 1, 'lag': 2, 'method': 'additive', 'strength': 1.0, 'first_value_only': False, 'threshold': 10, 'threshold_method': 'mean'}, '1': {'lag_1': 7, 'method': 'LastValue'}, '2': {'threshold': 0.7, 'splash_threshold': None, 'use_dayofmonth_holidays': True, 'use_wkdom_holidays': True, 'use_wkdeom_holidays': False, 'use_lunar_holidays': False, 'use_lunar_weekday': False, 'use_islamic_holidays': False, 'use_hebrew_holidays': False, 'use_hindu_holidays': False, 'anomaly_detector_params': {'method': 'zscore', 'method_params': {'distribution': 'uniform', 'alpha': 0.05}, 'fillna': 'ffill', 'transform_dict': None, 'isolated_only': False, 'on_inverse': False}, 'remove_excess_anomalies': True, 'impact': 'anomaly_score', 'regression_params': {}}} with error ValueError('more than 1 year of data is required for holiday detection.')\") in model 613 in generation 5: UnivariateMotif\n",
      "Model Number: 614 with model UnivariateMotif in generation 5 of 10\n",
      "Model Number: 615 with model AverageValueNaive in generation 5 of 10\n",
      "Model Number: 616 with model SeasonalityMotif in generation 5 of 10\n",
      "prediction too long for indepedent=False, falling back on indepedent=True\n"
     ]
    },
    {
     "name": "stderr",
     "output_type": "stream",
     "text": [
      "/home/zeus/miniconda3/envs/cloudspace/lib/python3.10/site-packages/autots/tools/seasonal.py:896: RuntimeWarning: invalid value encountered in divide\n",
      "  scores = np.mean(np.abs(a - b) / divisor, axis=2)\n",
      "/home/zeus/miniconda3/envs/cloudspace/lib/python3.10/site-packages/autots/tools/seasonal.py:896: RuntimeWarning: invalid value encountered in divide\n",
      "  scores = np.mean(np.abs(a - b) / divisor, axis=2)\n",
      "/home/zeus/miniconda3/envs/cloudspace/lib/python3.10/site-packages/autots/tools/seasonal.py:896: RuntimeWarning: invalid value encountered in divide\n",
      "  scores = np.mean(np.abs(a - b) / divisor, axis=2)\n"
     ]
    },
    {
     "name": "stdout",
     "output_type": "stream",
     "text": [
      "Model Number: 617 with model GLS in generation 5 of 10\n",
      "Model Number: 618 with model FFT in generation 5 of 10\n",
      "Template Eval Error: Exception(\"Transformer Cointegration failed on fit from params zero {'0': {'lag': 1, 'fill': 'zero'}, '1': {}, '2': {'method': 'remove', 'std_threshold': 4, 'fillna': 'rolling_mean_24'}, '3': {'span': 84}, '4': {'det_order': 0, 'k_ar_diff': 2}, '5': {'window_size': 90, 'alpha': 2.5, 'grouping_forward_limit': 5, 'max_level_shifts': 3, 'alignment': 'average'}} with error ValueError('Coint only works on multivarate series')\") in model 618 in generation 5: FFT\n",
      "Model Number: 619 with model LastValueNaive in generation 5 of 10\n",
      "Model Number: 620 with model ETS in generation 5 of 10\n",
      "Model Number: 621 with model SectionalMotif in generation 5 of 10\n",
      "Model Number: 622 with model LastValueNaive in generation 5 of 10\n",
      "Template Eval Error: Exception('Transformer PCA failed on fit from params fake_date {\\'0\\': {\\'lag\\': 1, \\'fill\\': \\'zero\\'}, \\'1\\': {\\'whiten\\': True, \\'n_components\\': 10}, \\'2\\': {}, \\'3\\': {\\'span\\': 84}} with error ValueError(\"n_components=10 must be between 0 and min(n_samples, n_features)=1 with svd_solver=\\'full\\'\")') in model 622 in generation 5: LastValueNaive\n",
      "Model Number: 623 with model SeasonalityMotif in generation 5 of 10\n",
      "Model Number: 624 with model AverageValueNaive in generation 5 of 10\n",
      "Model Number: 625 with model SeasonalNaive in generation 5 of 10\n",
      "Model Number: 626 with model MetricMotif in generation 5 of 10\n",
      "Model Number: 627 with model DatepartRegression in generation 5 of 10\n",
      "Model Number: 628 with model ETS in generation 5 of 10\n",
      "Model Number: 629 with model RRVAR in generation 5 of 10\n",
      "Model Number: 630 with model ConstantNaive in generation 5 of 10\n",
      "Model Number: 631 with model SeasonalityMotif in generation 5 of 10\n",
      "Model Number: 632 with model Cassandra in generation 5 of 10\n",
      "Model Number: 633 with model ARDL in generation 5 of 10\n",
      "Model Number: 634 with model SeasonalityMotif in generation 5 of 10\n"
     ]
    },
    {
     "name": "stderr",
     "output_type": "stream",
     "text": [
      "/home/zeus/miniconda3/envs/cloudspace/lib/python3.10/site-packages/numpy/lib/function_base.py:2897: RuntimeWarning: invalid value encountered in divide\n",
      "  c /= stddev[:, None]\n",
      "/home/zeus/miniconda3/envs/cloudspace/lib/python3.10/site-packages/numpy/lib/function_base.py:2898: RuntimeWarning: invalid value encountered in divide\n",
      "  c /= stddev[None, :]\n"
     ]
    },
    {
     "name": "stdout",
     "output_type": "stream",
     "text": [
      "Template Eval Error: Exception('Transformer DatepartRegression failed on fit from params mean {\\'0\\': {}, \\'1\\': {}, \\'2\\': {\\'regression_model\\': {\\'model\\': \\'MLP\\', \\'model_params\\': {\\'hidden_layer_sizes\\': [72, 36, 72], \\'max_iter\\': 1000, \\'activation\\': \\'relu\\', \\'solver\\': \\'lbfgs\\', \\'early_stopping\\': False, \\'learning_rate_init\\': 0.001, \\'alpha\\': None}}, \\'datepart_method\\': \\'expanded\\', \\'polynomial_degree\\': None, \\'transform_dict\\': {\\'fillna\\': \\'fake_date\\', \\'transformations\\': {\\'0\\': \\'EWMAFilter\\', \\'1\\': \\'Log\\'}, \\'transformation_params\\': {\\'0\\': {\\'span\\': 3}, \\'1\\': {}}}, \\'holiday_countries_used\\': True, \\'lags\\': 4, \\'forward_lags\\': None}, \\'3\\': {\\'low\\': 28, \\'high\\': 364, \\'K\\': 1, \\'lanczos_factor\\': False, \\'return_diff\\': True, \\'on_transform\\': True, \\'on_inverse\\': False}, \\'4\\': {\\'rows\\': 1, \\'lag\\': 1, \\'method\\': \\'multiplicative\\', \\'strength\\': 0.2, \\'first_value_only\\': False, \\'threshold\\': 10, \\'threshold_method\\': \\'max\\'}} with error InvalidParameterError(\"The \\'alpha\\' parameter of MLPRegressor must be a float in the range [0.0, inf). Got None instead.\")') in model 634 in generation 5: SeasonalityMotif\n",
      "Model Number: 635 with model AverageValueNaive in generation 5 of 10\n",
      "Model Number: 636 with model ETS in generation 5 of 10\n",
      "Model Number: 637 with model SeasonalNaive in generation 5 of 10\n",
      "Model Number: 638 with model ConstantNaive in generation 5 of 10\n",
      "Model Number: 639 with model SeasonalityMotif in generation 5 of 10\n",
      "prediction too long for indepedent=False, falling back on indepedent=True\n",
      "Model Number: 640 with model LastValueNaive in generation 5 of 10\n",
      "Model Number: 641 with model MetricMotif in generation 5 of 10\n",
      "Model Number: 642 with model GLS in generation 5 of 10\n",
      "Model Number: 643 with model GLM in generation 5 of 10\n",
      "Template Eval Error: ValueError('NaN, inf or invalid value detected in weights, estimation infeasible.') in model 643 in generation 5: GLM\n",
      "Model Number: 644 with model GLM in generation 5 of 10\n",
      "Template Eval Error: ValueError('NaN, inf or invalid value detected in weights, estimation infeasible.') in model 644 in generation 5: GLM\n",
      "Model Number: 645 with model GLS in generation 5 of 10\n",
      "Model Number: 646 with model ARDL in generation 5 of 10\n",
      "Model Number: 647 with model LastValueNaive in generation 5 of 10\n",
      "Model Number: 648 with model MetricMotif in generation 5 of 10\n",
      "Model Number: 649 with model SeasonalNaive in generation 5 of 10\n"
     ]
    },
    {
     "name": "stderr",
     "output_type": "stream",
     "text": [
      "/home/zeus/miniconda3/envs/cloudspace/lib/python3.10/site-packages/statsmodels/genmod/families/family.py:1367: ValueWarning: Negative binomial dispersion parameter alpha not set. Using default value alpha=1.0.\n",
      "  warnings.warn(\"Negative binomial dispersion parameter alpha not \"\n",
      "/home/zeus/miniconda3/envs/cloudspace/lib/python3.10/site-packages/statsmodels/genmod/families/family.py:1402: RuntimeWarning: divide by zero encountered in divide\n",
      "  endog_mu = self._clean(endog / mu)\n",
      "/home/zeus/miniconda3/envs/cloudspace/lib/python3.10/site-packages/statsmodels/genmod/families/family.py:1406: RuntimeWarning: invalid value encountered in log\n",
      "  resid_dev -= endog_alpha * np.log(endog_alpha / mu_alpha)\n",
      "/home/zeus/miniconda3/envs/cloudspace/lib/python3.10/site-packages/statsmodels/genmod/families/links.py:527: RuntimeWarning: overflow encountered in exp\n",
      "  return np.exp(z)\n",
      "/home/zeus/miniconda3/envs/cloudspace/lib/python3.10/site-packages/statsmodels/genmod/families/family.py:1406: RuntimeWarning: divide by zero encountered in log\n",
      "  resid_dev -= endog_alpha * np.log(endog_alpha / mu_alpha)\n",
      "/home/zeus/miniconda3/envs/cloudspace/lib/python3.10/site-packages/statsmodels/genmod/families/family.py:143: RuntimeWarning: invalid value encountered in multiply\n",
      "  return 1. / (self.link.deriv(mu)**2 * self.variance(mu))\n",
      "/home/zeus/miniconda3/envs/cloudspace/lib/python3.10/site-packages/statsmodels/genmod/generalized_linear_model.py:1328: RuntimeWarning: invalid value encountered in multiply\n",
      "  wlsendog = (lin_pred + self.family.link.deriv(mu) * (self.endog-mu)\n",
      "/home/zeus/miniconda3/envs/cloudspace/lib/python3.10/site-packages/statsmodels/genmod/families/family.py:1367: ValueWarning: Negative binomial dispersion parameter alpha not set. Using default value alpha=1.0.\n",
      "  warnings.warn(\"Negative binomial dispersion parameter alpha not \"\n",
      "/home/zeus/miniconda3/envs/cloudspace/lib/python3.10/site-packages/statsmodels/genmod/families/family.py:1402: RuntimeWarning: divide by zero encountered in divide\n",
      "  endog_mu = self._clean(endog / mu)\n",
      "/home/zeus/miniconda3/envs/cloudspace/lib/python3.10/site-packages/statsmodels/genmod/families/family.py:1406: RuntimeWarning: invalid value encountered in log\n",
      "  resid_dev -= endog_alpha * np.log(endog_alpha / mu_alpha)\n",
      "/home/zeus/miniconda3/envs/cloudspace/lib/python3.10/site-packages/statsmodels/genmod/families/links.py:527: RuntimeWarning: overflow encountered in exp\n",
      "  return np.exp(z)\n",
      "/home/zeus/miniconda3/envs/cloudspace/lib/python3.10/site-packages/statsmodels/genmod/families/family.py:1406: RuntimeWarning: divide by zero encountered in log\n",
      "  resid_dev -= endog_alpha * np.log(endog_alpha / mu_alpha)\n",
      "/home/zeus/miniconda3/envs/cloudspace/lib/python3.10/site-packages/numpy/core/fromnumeric.py:88: RuntimeWarning: invalid value encountered in reduce\n",
      "  return ufunc.reduce(obj, axis, dtype, out, **passkwargs)\n",
      "/home/zeus/miniconda3/envs/cloudspace/lib/python3.10/site-packages/statsmodels/genmod/families/family.py:143: RuntimeWarning: invalid value encountered in multiply\n",
      "  return 1. / (self.link.deriv(mu)**2 * self.variance(mu))\n",
      "/home/zeus/miniconda3/envs/cloudspace/lib/python3.10/site-packages/statsmodels/genmod/generalized_linear_model.py:1328: RuntimeWarning: invalid value encountered in multiply\n",
      "  wlsendog = (lin_pred + self.family.link.deriv(mu) * (self.endog-mu)\n"
     ]
    },
    {
     "name": "stdout",
     "output_type": "stream",
     "text": [
      "Model Number: 650 with model RRVAR in generation 5 of 10\n",
      "Model Number: 651 with model SectionalMotif in generation 5 of 10\n",
      "Model Number: 652 with model ConstantNaive in generation 5 of 10\n",
      "Model Number: 653 with model GLM in generation 5 of 10\n",
      "Model Number: 654 with model AverageValueNaive in generation 5 of 10\n",
      "Model Number: 655 with model SeasonalityMotif in generation 5 of 10\n",
      "prediction too long for indepedent=False, falling back on indepedent=True\n",
      "Model Number: 656 with model GLS in generation 5 of 10\n"
     ]
    },
    {
     "name": "stderr",
     "output_type": "stream",
     "text": [
      "/home/zeus/miniconda3/envs/cloudspace/lib/python3.10/site-packages/autots/tools/seasonal.py:896: RuntimeWarning: invalid value encountered in divide\n",
      "  scores = np.mean(np.abs(a - b) / divisor, axis=2)\n",
      "/home/zeus/miniconda3/envs/cloudspace/lib/python3.10/site-packages/autots/tools/seasonal.py:896: RuntimeWarning: invalid value encountered in divide\n",
      "  scores = np.mean(np.abs(a - b) / divisor, axis=2)\n",
      "/home/zeus/miniconda3/envs/cloudspace/lib/python3.10/site-packages/autots/tools/seasonal.py:896: RuntimeWarning: invalid value encountered in divide\n",
      "  scores = np.mean(np.abs(a - b) / divisor, axis=2)\n",
      "/home/zeus/miniconda3/envs/cloudspace/lib/python3.10/site-packages/statsmodels/genmod/families/family.py:1367: ValueWarning: Negative binomial dispersion parameter alpha not set. Using default value alpha=1.0.\n",
      "  warnings.warn(\"Negative binomial dispersion parameter alpha not \"\n"
     ]
    },
    {
     "name": "stdout",
     "output_type": "stream",
     "text": [
      "Model Number: 657 with model ARDL in generation 5 of 10\n",
      "Model Number: 658 with model ETS in generation 5 of 10\n",
      "Model Number: 659 with model RRVAR in generation 5 of 10\n",
      "New Generation: 6 of 10\n",
      "Model Number: 660 with model RRVAR in generation 6 of 10\n",
      "Model Number: 661 with model AverageValueNaive in generation 6 of 10\n",
      "Model Number: 662 with model SectionalMotif in generation 6 of 10\n",
      "Template Eval Error: ValueError(\"regression_type=='User' but no future_regressor supplied\") in model 662 in generation 6: SectionalMotif\n",
      "Model Number: 663 with model SeasonalNaive in generation 6 of 10\n",
      "Model Number: 664 with model MetricMotif in generation 6 of 10\n",
      "Model Number: 665 with model BasicLinearModel in generation 6 of 10\n",
      "Model Number: 666 with model ConstantNaive in generation 6 of 10\n",
      "Model Number: 667 with model AverageValueNaive in generation 6 of 10\n",
      "Model Number: 668 with model MetricMotif in generation 6 of 10\n",
      "Model Number: 669 with model LastValueNaive in generation 6 of 10\n",
      "Model Number: 670 with model BasicLinearModel in generation 6 of 10\n",
      "Model Number: 671 with model SectionalMotif in generation 6 of 10\n",
      "Model Number: 672 with model Cassandra in generation 6 of 10\n",
      "Template Eval Error: TypeError('Cannot infer number of levels from empty list') in model 672 in generation 6: Cassandra\n",
      "Model Number: 673 with model GLM in generation 6 of 10\n",
      "Model Number: 674 with model AverageValueNaive in generation 6 of 10\n",
      "Model Number: 675 with model DatepartRegression in generation 6 of 10\n"
     ]
    },
    {
     "name": "stderr",
     "output_type": "stream",
     "text": [
      "/home/zeus/miniconda3/envs/cloudspace/lib/python3.10/site-packages/numpy/lib/function_base.py:2897: RuntimeWarning: invalid value encountered in divide\n",
      "  c /= stddev[:, None]\n",
      "/home/zeus/miniconda3/envs/cloudspace/lib/python3.10/site-packages/numpy/lib/function_base.py:2898: RuntimeWarning: invalid value encountered in divide\n",
      "  c /= stddev[None, :]\n",
      "/home/zeus/miniconda3/envs/cloudspace/lib/python3.10/site-packages/statsmodels/genmod/families/links.py:198: RuntimeWarning: overflow encountered in exp\n",
      "  t = np.exp(-z)\n"
     ]
    },
    {
     "name": "stdout",
     "output_type": "stream",
     "text": [
      "Model Number: 676 with model DatepartRegression in generation 6 of 10\n",
      "Template Eval Error: Exception(\"Transformer FIRFilter failed on fit from params ffill_mean_biased {'0': {'numtaps': 256, 'cutoff_hz': 5, 'window': 'blackman', 'sampling_frequency': 9, 'on_transform': True, 'on_inverse': False}, '1': {'numtaps': 256, 'cutoff_hz': 0.01, 'window': 'hamming', 'sampling_frequency': 28, 'on_transform': True, 'on_inverse': False}, '2': {'constraint_method': 'historic_growth', 'constraint_direction': 'lower', 'constraint_regularization': 1.0, 'constraint_value': {'threshold': 1.0}, 'bounds_only': False, 'fillna': None}, '3': {'span': 84}} with error ValueError('Invalid cutoff frequency: frequencies must be greater than 0 and less than fs/2.')\") in model 676 in generation 6: DatepartRegression\n",
      "Model Number: 677 with model ETS in generation 6 of 10\n",
      "Model Number: 678 with model SeasonalNaive in generation 6 of 10\n",
      "Model Number: 679 with model ETS in generation 6 of 10\n",
      "Model Number: 680 with model DatepartRegression in generation 6 of 10\n",
      "Template Eval Error: ValueError(\"regression_type='User' but no future_regressor passed\") in model 680 in generation 6: DatepartRegression\n",
      "Model Number: 681 with model DatepartRegression in generation 6 of 10\n",
      "Model Number: 682 with model MetricMotif in generation 6 of 10\n",
      "Model Number: 683 with model SeasonalityMotif in generation 6 of 10\n",
      "prediction too long for indepedent=False, falling back on indepedent=True\n",
      "Model Number: 684 with model SeasonalityMotif in generation 6 of 10\n"
     ]
    },
    {
     "name": "stderr",
     "output_type": "stream",
     "text": [
      "/home/zeus/miniconda3/envs/cloudspace/lib/python3.10/site-packages/sklearn/linear_model/_coordinate_descent.py:628: ConvergenceWarning: Objective did not converge. You might want to increase the number of iterations, check the scale of the features or consider increasing regularisation. Duality gap: 4.067e-03, tolerance: 9.581e-04\n",
      "  model = cd_fast.enet_coordinate_descent(\n"
     ]
    },
    {
     "name": "stdout",
     "output_type": "stream",
     "text": [
      "prediction too long for indepedent=False, falling back on indepedent=True\n",
      "Model Number: 685 with model ETS in generation 6 of 10\n",
      "Model Number: 686 with model LastValueNaive in generation 6 of 10\n",
      "Model Number: 687 with model RRVAR in generation 6 of 10\n",
      "Model Number: 688 with model RRVAR in generation 6 of 10\n",
      "Model Number: 689 with model ConstantNaive in generation 6 of 10\n",
      "Model Number: 690 with model MetricMotif in generation 6 of 10\n",
      "Model Number: 691 with model SeasonalityMotif in generation 6 of 10\n",
      "Model Number: 692 with model BasicLinearModel in generation 6 of 10\n",
      "Model Number: 693 with model DatepartRegression in generation 6 of 10\n",
      "Model Number: 694 with model SectionalMotif in generation 6 of 10\n",
      "Model Number: 695 with model GLS in generation 6 of 10\n",
      "Model Number: 696 with model SeasonalityMotif in generation 6 of 10\n",
      "prediction too long for indepedent=False, falling back on indepedent=True\n",
      "Model Number: 697 with model GLM in generation 6 of 10\n",
      "Template Eval Error: ValueError('NaN, inf or invalid value detected in weights, estimation infeasible.') in model 697 in generation 6: GLM\n",
      "Model Number: 698 with model FFT in generation 6 of 10\n",
      "Model Number: 699 with model MetricMotif in generation 6 of 10\n",
      "Model Number: 700 with model DatepartRegression in generation 6 of 10\n",
      "Template Eval Error: Exception(\"Transformer HolidayTransformer failed on fit from params rolling_mean {'0': {'method': 'remove', 'std_threshold': 1, 'fillna': 'mean'}, '1': {'threshold': 0.9, 'splash_threshold': None, 'use_dayofmonth_holidays': True, 'use_wkdom_holidays': True, 'use_wkdeom_holidays': False, 'use_lunar_holidays': False, 'use_lunar_weekday': False, 'use_islamic_holidays': False, 'use_hebrew_holidays': True, 'use_hindu_holidays': True, 'anomaly_detector_params': {'method': 'minmax', 'method_params': {'alpha': 0.05}, 'fillna': 'rolling_mean_24', 'transform_dict': None, 'isolated_only': True, 'on_inverse': False}, 'remove_excess_anomalies': True, 'impact': 'datepart_regression', 'regression_params': {'regression_model': {'model': 'MLP', 'model_params': {'hidden_layer_sizes': [32, 64, 32], 'max_iter': 250, 'activation': 'tanh', 'solver': 'sgd', 'early_stopping': False, 'learning_rate_init': 0.001, 'alpha': 0.1}}, 'datepart_method': ['common_fourier'], 'polynomial_degree': None, 'transform_dict': None, 'holiday_countries_used': False, 'lags': None, 'forward_lags': None}}, '2': {'constraint_method': 'historic_growth', 'constraint_direction': 'lower', 'constraint_regularization': 1.0, 'constraint_value': {'threshold': 1.0}, 'bounds_only': False, 'fillna': None}, '3': {'rows': 168, 'lag': 168, 'method': 'additive', 'strength': 1.0, 'first_value_only': False, 'threshold': 3, 'threshold_method': 'max'}, '4': {}} with error ValueError('more than 1 year of data is required for holiday detection.')\") in model 700 in generation 6: DatepartRegression\n",
      "Model Number: 701 with model MetricMotif in generation 6 of 10\n",
      "Model Number: 702 with model ETS in generation 6 of 10\n"
     ]
    },
    {
     "name": "stderr",
     "output_type": "stream",
     "text": [
      "/home/zeus/miniconda3/envs/cloudspace/lib/python3.10/site-packages/statsmodels/genmod/families/family.py:1367: ValueWarning: Negative binomial dispersion parameter alpha not set. Using default value alpha=1.0.\n",
      "  warnings.warn(\"Negative binomial dispersion parameter alpha not \"\n",
      "/home/zeus/miniconda3/envs/cloudspace/lib/python3.10/site-packages/statsmodels/genmod/families/links.py:527: RuntimeWarning: overflow encountered in exp\n",
      "  return np.exp(z)\n",
      "/home/zeus/miniconda3/envs/cloudspace/lib/python3.10/site-packages/statsmodels/genmod/families/family.py:1406: RuntimeWarning: divide by zero encountered in log\n",
      "  resid_dev -= endog_alpha * np.log(endog_alpha / mu_alpha)\n",
      "/home/zeus/miniconda3/envs/cloudspace/lib/python3.10/site-packages/statsmodels/genmod/families/family.py:143: RuntimeWarning: invalid value encountered in multiply\n",
      "  return 1. / (self.link.deriv(mu)**2 * self.variance(mu))\n",
      "/home/zeus/miniconda3/envs/cloudspace/lib/python3.10/site-packages/statsmodels/genmod/generalized_linear_model.py:1328: RuntimeWarning: invalid value encountered in multiply\n",
      "  wlsendog = (lin_pred + self.family.link.deriv(mu) * (self.endog-mu)\n"
     ]
    },
    {
     "name": "stdout",
     "output_type": "stream",
     "text": [
      "Model Number: 703 with model ARDL in generation 6 of 10\n",
      "Model Number: 704 with model LastValueNaive in generation 6 of 10\n",
      "Model Number: 705 with model BasicLinearModel in generation 6 of 10\n",
      "Model Number: 706 with model GLS in generation 6 of 10\n",
      "Model Number: 707 with model DatepartRegression in generation 6 of 10\n",
      "Template Eval Error: Exception(\"Transformer FIRFilter failed on fit from params ffill_mean_biased {'0': {'numtaps': 256, 'cutoff_hz': 5, 'window': 'blackman', 'sampling_frequency': 9, 'on_transform': True, 'on_inverse': False}, '1': {}, '2': {'constraint_method': 'historic_growth', 'constraint_direction': 'lower', 'constraint_regularization': 1.0, 'constraint_value': {'threshold': 1.0}, 'bounds_only': False, 'fillna': None}, '3': {'rows': 1, 'lag': 1, 'method': 'additive', 'strength': 1.0, 'first_value_only': False, 'threshold': 1, 'threshold_method': 'mean'}} with error ValueError('Invalid cutoff frequency: frequencies must be greater than 0 and less than fs/2.')\") in model 707 in generation 6: DatepartRegression\n",
      "Model Number: 708 with model AverageValueNaive in generation 6 of 10\n",
      "Model Number: 709 with model BasicLinearModel in generation 6 of 10\n",
      "Model Number: 710 with model ConstantNaive in generation 6 of 10\n",
      "Model Number: 711 with model LastValueNaive in generation 6 of 10\n",
      "Model Number: 712 with model SeasonalNaive in generation 6 of 10\n",
      "Model Number: 713 with model ConstantNaive in generation 6 of 10\n",
      "Model Number: 714 with model ETS in generation 6 of 10\n",
      "Model Number: 715 with model LastValueNaive in generation 6 of 10\n",
      "Model Number: 716 with model RRVAR in generation 6 of 10\n",
      "Model Number: 717 with model DatepartRegression in generation 6 of 10\n",
      "Template Eval Error: ValueError(\"regression_type='User' but no future_regressor passed\") in model 717 in generation 6: DatepartRegression\n",
      "Model Number: 718 with model ConstantNaive in generation 6 of 10\n",
      "Model Number: 719 with model FFT in generation 6 of 10\n",
      "Model Number: 720 with model BasicLinearModel in generation 6 of 10\n"
     ]
    },
    {
     "name": "stderr",
     "output_type": "stream",
     "text": [
      "/home/zeus/miniconda3/envs/cloudspace/lib/python3.10/site-packages/sklearn/svm/_classes.py:32: FutureWarning: The default value of `dual` will change from `True` to `'auto'` in 1.5. Set the value of `dual` explicitly to suppress the warning.\n",
      "  warnings.warn(\n"
     ]
    },
    {
     "name": "stdout",
     "output_type": "stream",
     "text": [
      "Model Number: 721 with model SeasonalNaive in generation 6 of 10\n",
      "Template Eval Error: Exception(\"Transformer Cointegration failed on fit from params zero {'0': {'lag': 1, 'fill': 'zero'}, '1': {'det_order': 1, 'k_ar_diff': 2}, '2': {'rolling_window': 0.05, 'n_tails': 0.05, 'n_future': 90, 'method': 'mean', 'macro_micro': True}, '3': {}, '4': {'lag': 1, 'fill': 'zero'}} with error ValueError('Coint only works on multivarate series')\") in model 721 in generation 6: SeasonalNaive\n",
      "Model Number: 722 with model SeasonalNaive in generation 6 of 10\n",
      "Model Number: 723 with model SeasonalityMotif in generation 6 of 10\n",
      "prediction too long for indepedent=False, falling back on indepedent=True\n",
      "Model Number: 724 with model Cassandra in generation 6 of 10\n",
      "Template Eval Error: ValueError('negative dimensions are not allowed') in model 724 in generation 6: Cassandra\n",
      "Model Number: 725 with model SectionalMotif in generation 6 of 10\n",
      "Model Number: 726 with model SeasonalityMotif in generation 6 of 10\n"
     ]
    },
    {
     "name": "stderr",
     "output_type": "stream",
     "text": [
      "/home/zeus/miniconda3/envs/cloudspace/lib/python3.10/site-packages/sklearn/neighbors/_classification.py:233: DataConversionWarning: A column-vector y was passed when a 1d array was expected. Please change the shape of y to (n_samples,), for example using ravel().\n",
      "  return self._fit(X, y)\n",
      "/home/zeus/miniconda3/envs/cloudspace/lib/python3.10/site-packages/sklearn/neighbors/_classification.py:233: DataConversionWarning: A column-vector y was passed when a 1d array was expected. Please change the shape of y to (n_samples,), for example using ravel().\n",
      "  return self._fit(X, y)\n",
      "/home/zeus/miniconda3/envs/cloudspace/lib/python3.10/site-packages/autots/tools/seasonal.py:896: RuntimeWarning: invalid value encountered in divide\n",
      "  scores = np.mean(np.abs(a - b) / divisor, axis=2)\n",
      "/home/zeus/miniconda3/envs/cloudspace/lib/python3.10/site-packages/autots/tools/seasonal.py:896: RuntimeWarning: invalid value encountered in divide\n",
      "  scores = np.mean(np.abs(a - b) / divisor, axis=2)\n",
      "/home/zeus/miniconda3/envs/cloudspace/lib/python3.10/site-packages/autots/tools/seasonal.py:896: RuntimeWarning: invalid value encountered in divide\n",
      "  scores = np.mean(np.abs(a - b) / divisor, axis=2)\n"
     ]
    },
    {
     "name": "stdout",
     "output_type": "stream",
     "text": [
      "prediction too long for indepedent=False, falling back on indepedent=True\n",
      "Model Number: 727 with model ARDL in generation 6 of 10\n",
      "Model Number: 728 with model AverageValueNaive in generation 6 of 10\n",
      "Model Number: 729 with model SectionalMotif in generation 6 of 10\n",
      "Template Eval Error: ValueError('kth(=20) out of bounds (15)') in model 729 in generation 6: SectionalMotif\n",
      "Model Number: 730 with model RRVAR in generation 6 of 10\n",
      "Template Eval Error: Exception(\"Transformer HolidayTransformer failed on fit from params zero {'0': {'model': 'GLS', 'phi': 1, 'window': 900, 'transform_dict': {'fillna': None, 'transformations': {'0': 'EWMAFilter'}, 'transformation_params': {'0': {'span': 7}}}}, '1': {'method': 'savgol_filter', 'method_args': {'window_length': 7, 'polyorder': 1, 'deriv': 0, 'mode': 'nearest'}}, '2': {'threshold': 0.9, 'splash_threshold': None, 'use_dayofmonth_holidays': True, 'use_wkdom_holidays': False, 'use_wkdeom_holidays': False, 'use_lunar_holidays': False, 'use_lunar_weekday': False, 'use_islamic_holidays': False, 'use_hebrew_holidays': False, 'use_hindu_holidays': False, 'anomaly_detector_params': {'method': 'zscore', 'method_params': {'distribution': 'chi2', 'alpha': 0.05}, 'fillna': 'ffill', 'transform_dict': {'fillna': 'ffill', 'transformations': {'0': 'MaxAbsScaler'}, 'transformation_params': {'0': {}}}, 'isolated_only': False, 'on_inverse': False}, 'remove_excess_anomalies': True, 'impact': 'anomaly_score', 'regression_params': {}}, '3': {'model': 'Tweedie', 'changepoint_spacing': 180, 'changepoint_distance_end': 5040, 'datepart_method': 'simple_2'}} with error ValueError('more than 1 year of data is required for holiday detection.')\") in model 730 in generation 6: RRVAR\n",
      "Model Number: 731 with model SectionalMotif in generation 6 of 10\n",
      "Model Number: 732 with model AverageValueNaive in generation 6 of 10\n",
      "Model Number: 733 with model BasicLinearModel in generation 6 of 10\n",
      "Model Number: 734 with model AverageValueNaive in generation 6 of 10\n",
      "Model Number: 735 with model MetricMotif in generation 6 of 10\n",
      "Model Number: 736 with model MetricMotif in generation 6 of 10\n",
      "Model Number: 737 with model DatepartRegression in generation 6 of 10\n",
      "Model Number: 738 with model RRVAR in generation 6 of 10\n",
      "Model Number: 739 with model LastValueNaive in generation 6 of 10\n",
      "Model Number: 740 with model SeasonalityMotif in generation 6 of 10\n",
      "Model Number: 741 with model SeasonalNaive in generation 6 of 10\n",
      "Template Eval Error: Exception(\"Transformer Cointegration failed on fit from params rolling_mean {'0': {'lag': 1, 'fill': 'zero'}, '1': {'det_order': 1, 'k_ar_diff': 2}, '2': {'rolling_window': 0.05, 'n_tails': 0.05, 'n_future': 90, 'method': 'mean', 'macro_micro': True}, '3': {'span': 84}, '4': {'lag': 1, 'fill': 'zero'}} with error ValueError('Coint only works on multivarate series')\") in model 741 in generation 6: SeasonalNaive\n",
      "Model Number: 742 with model MetricMotif in generation 6 of 10\n",
      "Model Number: 743 with model SeasonalityMotif in generation 6 of 10\n",
      "Template Eval Error: Exception(\"Transformer Cointegration failed on fit from params ffill_mean_biased {'0': {'rows': 7}, '1': {'det_order': -1, 'k_ar_diff': 0}, '2': {'low': 28, 'high': 364, 'K': 1, 'lanczos_factor': False, 'return_diff': True, 'on_transform': True, 'on_inverse': False}, '3': {'rows': 1, 'lag': 1, 'method': 'multiplicative', 'strength': 0.2, 'first_value_only': False, 'threshold': 10, 'threshold_method': 'max'}, '4': {'lag': 1, 'fill': 'bfill'}} with error ValueError('Coint only works on multivarate series')\") in model 743 in generation 6: SeasonalityMotif\n",
      "New Generation: 7 of 10\n",
      "Model Number: 744 with model ETS in generation 7 of 10\n",
      "Template Eval Error: Exception(\"Transformer Cointegration failed on fit from params ffill {'0': {'det_order': 0, 'k_ar_diff': 1}, '1': {'rows': 1, 'lag': 1, 'method': 'additive', 'strength': 1.0, 'first_value_only': False, 'threshold': 10, 'threshold_method': 'max'}} with error ValueError('Coint only works on multivarate series')\") in model 744 in generation 7: ETS\n",
      "Model Number: 745 with model DatepartRegression in generation 7 of 10\n",
      "Model Number: 746 with model AverageValueNaive in generation 7 of 10\n",
      "Template Eval Error: Exception(\"Transformer LocalLinearTrend failed on fit from params ffill {'0': {'window_size': 7, 'alpha': 2.5, 'grouping_forward_limit': 6, 'max_level_shifts': 5, 'alignment': 'last_value'}, '1': {'discretization': 'upper', 'n_bins': 10}, '2': {'window_size': 30, 'alpha': 2.5, 'grouping_forward_limit': 4, 'max_level_shifts': 5, 'alignment': 'rolling_diff_5nn'}, '3': {'rows': 84, 'lag': 1, 'method': 'multiplicative', 'strength': 0.7, 'first_value_only': False, 'threshold': 10, 'threshold_method': 'mean'}, '4': {'method': 0.3}, '5': {'rolling_window': 360, 'n_tails': 0.1, 'n_future': 0.2, 'method': 'median', 'macro_micro': True}} with error ValueError('negative dimensions are not allowed')\") in model 746 in generation 7: AverageValueNaive\n",
      "Model Number: 747 with model SectionalMotif in generation 7 of 10\n",
      "Model Number: 748 with model BasicLinearModel in generation 7 of 10\n",
      "Model Number: 749 with model MetricMotif in generation 7 of 10\n"
     ]
    },
    {
     "name": "stderr",
     "output_type": "stream",
     "text": [
      "/home/zeus/miniconda3/envs/cloudspace/lib/python3.10/site-packages/sklearn/linear_model/_coordinate_descent.py:628: ConvergenceWarning: Objective did not converge. You might want to increase the number of iterations, check the scale of the features or consider increasing regularisation. Duality gap: 5.807e+00, tolerance: 2.800e-03\n",
      "  model = cd_fast.enet_coordinate_descent(\n"
     ]
    },
    {
     "name": "stdout",
     "output_type": "stream",
     "text": [
      "Model Number: 750 with model RRVAR in generation 7 of 10\n",
      "Model Number: 751 with model GLS in generation 7 of 10\n",
      "Model Number: 752 with model ETS in generation 7 of 10\n",
      "Model Number: 753 with model SeasonalNaive in generation 7 of 10\n",
      "Model Number: 754 with model MetricMotif in generation 7 of 10\n",
      "Model Number: 755 with model RRVAR in generation 7 of 10\n",
      "Model Number: 756 with model SeasonalityMotif in generation 7 of 10\n",
      "prediction too long for indepedent=False, falling back on indepedent=True\n",
      "Model Number: 757 with model ConstantNaive in generation 7 of 10\n",
      "Model Number: 758 with model LastValueNaive in generation 7 of 10\n",
      "Model Number: 759 with model SeasonalNaive in generation 7 of 10\n",
      "Model Number: 760 with model BasicLinearModel in generation 7 of 10\n",
      "Model Number: 761 with model RRVAR in generation 7 of 10\n",
      "Model Number: 762 with model BasicLinearModel in generation 7 of 10\n",
      "Model Number: 763 with model SectionalMotif in generation 7 of 10\n",
      "Model Number: 764 with model SeasonalNaive in generation 7 of 10\n",
      "Template Eval Error: Exception(\"Transformer Cointegration failed on fit from params mean {'0': {'det_order': 1, 'k_ar_diff': 1}, '1': {'method': 0.2}, '2': {'rows': 1, 'lag': 1, 'method': 'additive', 'strength': 1.0, 'first_value_only': False, 'threshold': 1, 'threshold_method': 'max'}} with error ValueError('Coint only works on multivarate series')\") in model 764 in generation 7: SeasonalNaive\n",
      "Model Number: 765 with model SeasonalityMotif in generation 7 of 10\n",
      "prediction too long for indepedent=False, falling back on indepedent=True\n",
      "Model Number: 766 with model ConstantNaive in generation 7 of 10\n",
      "Model Number: 767 with model UnivariateMotif in generation 7 of 10\n",
      "Template Eval Error: Exception(\"Transformer BTCD failed on fit from params KNNImputer {'0': {'output_distribution': 'uniform', 'n_quantiles': 100}, '1': {}, '2': {}, '3': {'regression_model': {'model': 'LinearRegression', 'model_params': {}}, 'max_lags': 1}} with error ValueError('BTCD only works on multivarate series')\") in model 767 in generation 7: UnivariateMotif\n",
      "Model Number: 768 with model BasicLinearModel in generation 7 of 10\n",
      "Model Number: 769 with model AverageValueNaive in generation 7 of 10\n",
      "Model Number: 770 with model MetricMotif in generation 7 of 10\n",
      "Model Number: 771 with model AverageValueNaive in generation 7 of 10\n",
      "Model Number: 772 with model SeasonalityMotif in generation 7 of 10\n",
      "prediction too long for indepedent=False, falling back on indepedent=True\n",
      "Model Number: 773 with model Cassandra in generation 7 of 10\n",
      "Model Number: 774 with model LastValueNaive in generation 7 of 10\n",
      "Model Number: 775 with model FFT in generation 7 of 10\n"
     ]
    },
    {
     "name": "stderr",
     "output_type": "stream",
     "text": [
      "/home/zeus/miniconda3/envs/cloudspace/lib/python3.10/site-packages/numpy/lib/function_base.py:2897: RuntimeWarning: invalid value encountered in divide\n",
      "  c /= stddev[:, None]\n",
      "/home/zeus/miniconda3/envs/cloudspace/lib/python3.10/site-packages/numpy/lib/function_base.py:2898: RuntimeWarning: invalid value encountered in divide\n",
      "  c /= stddev[None, :]\n"
     ]
    },
    {
     "name": "stdout",
     "output_type": "stream",
     "text": [
      "Model Number: 776 with model SectionalMotif in generation 7 of 10\n",
      "Model Number: 777 with model ARDL in generation 7 of 10\n",
      "Template Eval Error: ValueError(\"ARDL series 8b26cbbab26d33daba641fae9426d1bd25c1ad8e7abfe187a459512f5a8866e7 failed with error IndexError('tuple index out of range') exog train None and predict None\") in model 777 in generation 7: ARDL\n",
      "Model Number: 778 with model LastValueNaive in generation 7 of 10\n",
      "Model Number: 779 with model DatepartRegression in generation 7 of 10\n",
      "Model Number: 780 with model ConstantNaive in generation 7 of 10\n",
      "Model Number: 781 with model LastValueNaive in generation 7 of 10\n",
      "Model Number: 782 with model DatepartRegression in generation 7 of 10\n",
      "Model Number: 783 with model FFT in generation 7 of 10\n",
      "Model Number: 784 with model GLM in generation 7 of 10\n",
      "Model Number: 785 with model ETS in generation 7 of 10\n"
     ]
    },
    {
     "name": "stderr",
     "output_type": "stream",
     "text": [
      "/home/zeus/miniconda3/envs/cloudspace/lib/python3.10/site-packages/statsmodels/genmod/families/family.py:1367: ValueWarning: Negative binomial dispersion parameter alpha not set. Using default value alpha=1.0.\n",
      "  warnings.warn(\"Negative binomial dispersion parameter alpha not \"\n",
      "/home/zeus/miniconda3/envs/cloudspace/lib/python3.10/site-packages/sklearn/neighbors/_classification.py:233: DataConversionWarning: A column-vector y was passed when a 1d array was expected. Please change the shape of y to (n_samples,), for example using ravel().\n",
      "  return self._fit(X, y)\n"
     ]
    },
    {
     "name": "stdout",
     "output_type": "stream",
     "text": [
      "Model Number: 786 with model GLS in generation 7 of 10\n",
      "Model Number: 787 with model DatepartRegression in generation 7 of 10\n",
      "Template Eval Error: ValueError(\"regression_type='User' but no future_regressor passed\") in model 787 in generation 7: DatepartRegression\n",
      "Model Number: 788 with model RRVAR in generation 7 of 10\n",
      "Model Number: 789 with model AverageValueNaive in generation 7 of 10\n",
      "Model Number: 790 with model ConstantNaive in generation 7 of 10\n",
      "Model Number: 791 with model SeasonalityMotif in generation 7 of 10\n",
      "Template Eval Error: Exception(\"Transformer Detrend failed on fit from params median {'0': {'method': 'savgol_filter', 'method_args': {'window_length': 7, 'polyorder': 1, 'deriv': 0, 'mode': 'nearest'}}, '1': {}, '2': {'method': 0.2}, '3': {}, '4': {'model': 'Poisson', 'phi': 1, 'window': 10, 'transform_dict': {'fillna': None, 'transformations': {'0': 'ScipyFilter'}, 'transformation_params': {'0': {'method': 'savgol_filter', 'method_args': {'window_length': 31, 'polyorder': 3, 'deriv': 0, 'mode': 'interp'}}}}}} with error Exception('Transformer ScipyFilter failed on fit')\") in model 791 in generation 7: SeasonalityMotif\n",
      "Model Number: 792 with model RRVAR in generation 7 of 10\n",
      "Model Number: 793 with model FFT in generation 7 of 10\n",
      "Model Number: 794 with model DatepartRegression in generation 7 of 10\n",
      "Model Number: 795 with model AverageValueNaive in generation 7 of 10\n",
      "Model Number: 796 with model LastValueNaive in generation 7 of 10\n",
      "Model Number: 797 with model DatepartRegression in generation 7 of 10\n",
      "Template Eval Error: ValueError(\"regression_type='User' but no future_regressor passed\") in model 797 in generation 7: DatepartRegression\n",
      "Model Number: 798 with model AverageValueNaive in generation 7 of 10\n",
      "Model Number: 799 with model SectionalMotif in generation 7 of 10\n",
      "Model Number: 800 with model MetricMotif in generation 7 of 10\n",
      "Template Eval Error: IndexError('index 21 is out of bounds for axis 0 with size 14') in model 800 in generation 7: MetricMotif\n",
      "Model Number: 801 with model ETS in generation 7 of 10\n",
      "Model Number: 802 with model ARDL in generation 7 of 10\n",
      "Template Eval Error: ValueError(\"regression_type='User' but future_regressor not supplied\") in model 802 in generation 7: ARDL\n",
      "Model Number: 803 with model SectionalMotif in generation 7 of 10\n",
      "Model Number: 804 with model DatepartRegression in generation 7 of 10\n",
      "Template Eval Error: ValueError(\"regression_type='User' but no future_regressor passed\") in model 804 in generation 7: DatepartRegression\n",
      "Model Number: 805 with model GLS in generation 7 of 10\n"
     ]
    },
    {
     "name": "stderr",
     "output_type": "stream",
     "text": [
      "/home/zeus/miniconda3/envs/cloudspace/lib/python3.10/site-packages/autots/tools/seasonal.py:896: RuntimeWarning: invalid value encountered in divide\n",
      "  scores = np.mean(np.abs(a - b) / divisor, axis=2)\n",
      "/home/zeus/miniconda3/envs/cloudspace/lib/python3.10/site-packages/autots/tools/seasonal.py:896: RuntimeWarning: invalid value encountered in divide\n",
      "  scores = np.mean(np.abs(a - b) / divisor, axis=2)\n",
      "/home/zeus/miniconda3/envs/cloudspace/lib/python3.10/site-packages/autots/tools/seasonal.py:896: RuntimeWarning: invalid value encountered in divide\n",
      "  scores = np.mean(np.abs(a - b) / divisor, axis=2)\n"
     ]
    },
    {
     "name": "stdout",
     "output_type": "stream",
     "text": [
      "Model Number: 806 with model ARDL in generation 7 of 10\n",
      "Model Number: 807 with model DatepartRegression in generation 7 of 10\n",
      "Model Number: 808 with model ARDL in generation 7 of 10\n",
      "Template Eval Error: ValueError(\"ARDL series 8b26cbbab26d33daba641fae9426d1bd25c1ad8e7abfe187a459512f5a8866e7 failed with error ValueError('The number of regressors (6) including deterministics, lags of the endog, lags of the exogenous, and fixed regressors is larger than the sample available for estimation (3).') exog train             holiday_flag_US\\ndate                       \\n2023-05-20              0.0\\n2023-05-21              0.0\\n2023-05-22              0.0\\n2023-05-23              0.0\\n2023-05-24              0.0 and predict             holiday_flag_US\\n2023-05-25              0.0\\n2023-05-26              0.0\\n2023-05-27              0.0\\n2023-05-28              0.0\\n2023-05-29              1.0\\n...                     ...\\n2023-07-31              0.0\\n2023-08-01              0.0\\n2023-08-02              0.0\\n2023-08-03              0.0\\n2023-08-04              0.0\\n\\n[72 rows x 1 columns]\") in model 808 in generation 7: ARDL\n",
      "Model Number: 809 with model BasicLinearModel in generation 7 of 10\n"
     ]
    },
    {
     "name": "stderr",
     "output_type": "stream",
     "text": [
      "/home/zeus/miniconda3/envs/cloudspace/lib/python3.10/site-packages/sklearn/neighbors/_regression.py:500: UserWarning: One or more samples have no neighbors within specified radius; predicting NaN.\n",
      "  warnings.warn(empty_warning_msg)\n",
      "/home/zeus/miniconda3/envs/cloudspace/lib/python3.10/site-packages/sklearn/neighbors/_regression.py:500: UserWarning: One or more samples have no neighbors within specified radius; predicting NaN.\n",
      "  warnings.warn(empty_warning_msg)\n"
     ]
    },
    {
     "name": "stdout",
     "output_type": "stream",
     "text": [
      "Template Eval Error: ValueError(\"Model returned NaN due to a preprocessing transformer {'fillna': 'zero', 'transformations': {'0': 'DifferencedTransformer', '1': 'DatepartRegression', '2': 'Log', '3': 'EWMAFilter'}, 'transformation_params': {'0': {'lag': 1, 'fill': 'zero'}, '1': {'regression_model': {'model': 'RadiusRegressor', 'model_params': {}}, 'datepart_method': [52, 'quarter'], 'polynomial_degree': None, 'transform_dict': None, 'holiday_countries_used': True, 'lags': None, 'forward_lags': None}, '2': {}, '3': {'span': 84}}}. fail_on_forecast_nan=True\") in model 809 in generation 7: BasicLinearModel\n",
      "Model Number: 810 with model SeasonalNaive in generation 7 of 10\n",
      "Template Eval Error: Exception(\"Transformer BTCD failed on fit from params akima {'0': {'low': 6, 'high': 32, 'K': 6, 'lanczos_factor': False, 'return_diff': True, 'on_transform': True, 'on_inverse': False}, '1': {}, '2': {'window_size': 120, 'alpha': 3.0, 'grouping_forward_limit': 2, 'max_level_shifts': 3, 'alignment': 'rolling_diff_3nn'}, '3': {'lag_1': 28, 'method': 2}, '4': {'regression_model': {'model': 'FastRidge', 'model_params': {}}, 'max_lags': 1}} with error ValueError('BTCD only works on multivarate series')\") in model 810 in generation 7: SeasonalNaive\n",
      "Model Number: 811 with model ETS in generation 7 of 10\n",
      "Model Number: 812 with model LastValueNaive in generation 7 of 10\n",
      "Model Number: 813 with model SeasonalityMotif in generation 7 of 10\n",
      "prediction too long for indepedent=False, falling back on indepedent=True\n",
      "Model Number: 814 with model AverageValueNaive in generation 7 of 10\n"
     ]
    },
    {
     "name": "stderr",
     "output_type": "stream",
     "text": [
      "/home/zeus/miniconda3/envs/cloudspace/lib/python3.10/site-packages/sklearn/neighbors/_regression.py:500: UserWarning: One or more samples have no neighbors within specified radius; predicting NaN.\n",
      "  warnings.warn(empty_warning_msg)\n"
     ]
    },
    {
     "name": "stdout",
     "output_type": "stream",
     "text": [
      "Model Number: 815 with model SeasonalNaive in generation 7 of 10\n",
      "Model Number: 816 with model LastValueNaive in generation 7 of 10\n",
      "Model Number: 817 with model RRVAR in generation 7 of 10\n",
      "Model Number: 818 with model FFT in generation 7 of 10\n",
      "Model Number: 819 with model ETS in generation 7 of 10\n",
      "Model Number: 820 with model ETS in generation 7 of 10\n"
     ]
    },
    {
     "name": "stderr",
     "output_type": "stream",
     "text": [
      "/home/zeus/miniconda3/envs/cloudspace/lib/python3.10/site-packages/sklearn/neighbors/_classification.py:233: DataConversionWarning: A column-vector y was passed when a 1d array was expected. Please change the shape of y to (n_samples,), for example using ravel().\n",
      "  return self._fit(X, y)\n"
     ]
    },
    {
     "name": "stdout",
     "output_type": "stream",
     "text": [
      "Model Number: 821 with model SectionalMotif in generation 7 of 10\n",
      "Model Number: 822 with model ETS in generation 7 of 10\n",
      "Model Number: 823 with model AverageValueNaive in generation 7 of 10\n"
     ]
    },
    {
     "name": "stderr",
     "output_type": "stream",
     "text": [
      "/home/zeus/miniconda3/envs/cloudspace/lib/python3.10/site-packages/autots/tools/seasonal.py:896: RuntimeWarning: invalid value encountered in divide\n",
      "  scores = np.mean(np.abs(a - b) / divisor, axis=2)\n",
      "/home/zeus/miniconda3/envs/cloudspace/lib/python3.10/site-packages/autots/tools/seasonal.py:896: RuntimeWarning: invalid value encountered in divide\n",
      "  scores = np.mean(np.abs(a - b) / divisor, axis=2)\n",
      "/home/zeus/miniconda3/envs/cloudspace/lib/python3.10/site-packages/autots/tools/seasonal.py:896: RuntimeWarning: invalid value encountered in divide\n",
      "  scores = np.mean(np.abs(a - b) / divisor, axis=2)\n"
     ]
    },
    {
     "name": "stdout",
     "output_type": "stream",
     "text": [
      "Model Number: 824 with model DatepartRegression in generation 7 of 10\n",
      "Model Number: 825 with model AverageValueNaive in generation 7 of 10\n",
      "Model Number: 826 with model SeasonalNaive in generation 7 of 10\n",
      "Template Eval Error: Exception(\"Transformer Cointegration failed on fit from params pchip {'0': {'det_order': 1, 'k_ar_diff': 1}, '1': {'low': 12, 'high': 32, 'K': 12, 'lanczos_factor': False, 'return_diff': True, 'on_transform': True, 'on_inverse': False}, '2': {'method': 0.2}, '3': {'rows': 1, 'lag': 1, 'method': 'additive', 'strength': 1.0, 'first_value_only': False, 'threshold': 1, 'threshold_method': 'max'}} with error ValueError('Coint only works on multivarate series')\") in model 826 in generation 7: SeasonalNaive\n",
      "Model Number: 827 with model BasicLinearModel in generation 7 of 10\n"
     ]
    },
    {
     "name": "stderr",
     "output_type": "stream",
     "text": [
      "/home/zeus/miniconda3/envs/cloudspace/lib/python3.10/site-packages/sklearn/neighbors/_regression.py:500: UserWarning: One or more samples have no neighbors within specified radius; predicting NaN.\n",
      "  warnings.warn(empty_warning_msg)\n",
      "/home/zeus/miniconda3/envs/cloudspace/lib/python3.10/site-packages/sklearn/neighbors/_regression.py:500: UserWarning: One or more samples have no neighbors within specified radius; predicting NaN.\n",
      "  warnings.warn(empty_warning_msg)\n"
     ]
    },
    {
     "name": "stdout",
     "output_type": "stream",
     "text": [
      "Template Eval Error: ValueError(\"Model returned NaN due to a preprocessing transformer {'fillna': 'pchip', 'transformations': {'0': 'PositiveShift', '1': 'DatepartRegression', '2': 'Log', '3': 'ClipOutliers'}, 'transformation_params': {'0': {}, '1': {'regression_model': {'model': 'RadiusRegressor', 'model_params': {}}, 'datepart_method': [52, 'quarter'], 'polynomial_degree': None, 'transform_dict': None, 'holiday_countries_used': True, 'lags': None, 'forward_lags': None}, '2': {}, '3': {'method': 'clip', 'std_threshold': 3, 'fillna': None}}}. fail_on_forecast_nan=True\") in model 827 in generation 7: BasicLinearModel\n",
      "New Generation: 8 of 10\n",
      "Model Number: 828 with model MetricMotif in generation 8 of 10\n",
      "Template Eval Error: ValueError('window shape cannot be larger than input array shape') in model 828 in generation 8: MetricMotif\n",
      "Model Number: 829 with model SectionalMotif in generation 8 of 10\n"
     ]
    },
    {
     "name": "stderr",
     "output_type": "stream",
     "text": [
      "/home/zeus/miniconda3/envs/cloudspace/lib/python3.10/site-packages/sklearn/neighbors/_regression.py:500: UserWarning: One or more samples have no neighbors within specified radius; predicting NaN.\n",
      "  warnings.warn(empty_warning_msg)\n",
      "/home/zeus/miniconda3/envs/cloudspace/lib/python3.10/site-packages/autots/tools/seasonal.py:896: RuntimeWarning: invalid value encountered in divide\n",
      "  scores = np.mean(np.abs(a - b) / divisor, axis=2)\n",
      "/home/zeus/miniconda3/envs/cloudspace/lib/python3.10/site-packages/autots/tools/seasonal.py:896: RuntimeWarning: invalid value encountered in divide\n",
      "  scores = np.mean(np.abs(a - b) / divisor, axis=2)\n",
      "/home/zeus/miniconda3/envs/cloudspace/lib/python3.10/site-packages/autots/tools/seasonal.py:896: RuntimeWarning: invalid value encountered in divide\n",
      "  scores = np.mean(np.abs(a - b) / divisor, axis=2)\n"
     ]
    },
    {
     "name": "stdout",
     "output_type": "stream",
     "text": [
      "Model Number: 830 with model BasicLinearModel in generation 8 of 10\n",
      "Model Number: 831 with model ConstantNaive in generation 8 of 10\n",
      "Model Number: 832 with model FFT in generation 8 of 10\n",
      "Model Number: 833 with model SectionalMotif in generation 8 of 10\n",
      "Model Number: 834 with model BasicLinearModel in generation 8 of 10\n",
      "Model Number: 835 with model SeasonalityMotif in generation 8 of 10\n",
      "Template Eval Error: ValueError('Model SeasonalityMotif returned NaN for one or more series. fail_on_forecast_nan=True') in model 835 in generation 8: SeasonalityMotif\n",
      "Model Number: 836 with model RRVAR in generation 8 of 10\n",
      "Model Number: 837 with model MetricMotif in generation 8 of 10\n",
      "Model Number: 838 with model BasicLinearModel in generation 8 of 10\n",
      "Model Number: 839 with model AverageValueNaive in generation 8 of 10\n",
      "Model Number: 840 with model BasicLinearModel in generation 8 of 10\n"
     ]
    },
    {
     "name": "stderr",
     "output_type": "stream",
     "text": [
      "/home/zeus/miniconda3/envs/cloudspace/lib/python3.10/site-packages/numpy/core/fromnumeric.py:3504: RuntimeWarning: Mean of empty slice.\n",
      "  return _methods._mean(a, axis=axis, dtype=dtype,\n",
      "/home/zeus/miniconda3/envs/cloudspace/lib/python3.10/site-packages/numpy/core/_methods.py:121: RuntimeWarning: invalid value encountered in divide\n",
      "  ret = um.true_divide(\n"
     ]
    },
    {
     "name": "stdout",
     "output_type": "stream",
     "text": [
      "Model Number: 841 with model ARDL in generation 8 of 10\n",
      "Model Number: 842 with model BasicLinearModel in generation 8 of 10\n",
      "Model Number: 843 with model FFT in generation 8 of 10\n",
      "Model Number: 844 with model SeasonalityMotif in generation 8 of 10\n",
      "prediction too long for indepedent=False, falling back on indepedent=True\n",
      "Model Number: 845 with model DatepartRegression in generation 8 of 10\n",
      "Model Number: 846 with model AverageValueNaive in generation 8 of 10\n",
      "Model Number: 847 with model DatepartRegression in generation 8 of 10\n",
      "Model Number: 848 with model BasicLinearModel in generation 8 of 10\n",
      "Model Number: 849 with model ConstantNaive in generation 8 of 10\n"
     ]
    },
    {
     "name": "stderr",
     "output_type": "stream",
     "text": [
      "/home/zeus/miniconda3/envs/cloudspace/lib/python3.10/site-packages/sklearn/linear_model/_coordinate_descent.py:628: ConvergenceWarning: Objective did not converge. You might want to increase the number of iterations, check the scale of the features or consider increasing regularisation. Duality gap: 9.461e-02, tolerance: 2.800e-03\n",
      "  model = cd_fast.enet_coordinate_descent(\n"
     ]
    },
    {
     "name": "stdout",
     "output_type": "stream",
     "text": [
      "Model Number: 850 with model AverageValueNaive in generation 8 of 10\n",
      "Model Number: 851 with model ConstantNaive in generation 8 of 10\n",
      "Template Eval Error: Exception(\"Transformer FIRFilter failed on fit from params quadratic {'0': {'method': 'IsolationForest', 'method_params': {'contamination': 'auto', 'n_estimators': 100, 'max_features': 1.0, 'bootstrap': False}, 'fillna': 'linear', 'transform_dict': {'fillna': None, 'transformations': {'0': 'EWMAFilter'}, 'transformation_params': {'0': {'span': 7}}}, 'isolated_only': False, 'on_inverse': False}, '1': {'window': None}, '2': {'rows': 7, 'lag': 7, 'method': 'additive', 'strength': 1.0, 'first_value_only': False, 'threshold': 10, 'threshold_method': 'mean'}, '3': {'numtaps': 128, 'cutoff_hz': 50, 'window': 'hann', 'sampling_frequency': 52, 'on_transform': True, 'on_inverse': False}} with error ValueError('Invalid cutoff frequency: frequencies must be greater than 0 and less than fs/2.')\") in model 851 in generation 8: ConstantNaive\n",
      "Model Number: 852 with model ETS in generation 8 of 10\n",
      "Model Number: 853 with model DatepartRegression in generation 8 of 10\n",
      "Model Number: 854 with model SeasonalityMotif in generation 8 of 10\n",
      "Template Eval Error: Exception(\"Transformer BTCD failed on fit from params zero {'0': {'regression_model': {'model': 'FastRidge', 'model_params': {}}, 'max_lags': 1}, '1': {}, '2': {'method': 0.2}} with error ValueError('BTCD only works on multivarate series')\") in model 854 in generation 8: SeasonalityMotif\n",
      "Model Number: 855 with model DatepartRegression in generation 8 of 10\n",
      "Model Number: 856 with model SeasonalNaive in generation 8 of 10\n",
      "Model Number: 857 with model GLS in generation 8 of 10\n",
      "Model Number: 858 with model AverageValueNaive in generation 8 of 10\n",
      "Model Number: 859 with model RRVAR in generation 8 of 10\n",
      "Model Number: 860 with model ARDL in generation 8 of 10\n",
      "Model Number: 861 with model AverageValueNaive in generation 8 of 10\n",
      "Model Number: 862 with model ARDL in generation 8 of 10\n",
      "Template Eval Error: ValueError(\"ARDL series 8b26cbbab26d33daba641fae9426d1bd25c1ad8e7abfe187a459512f5a8866e7 failed with error ValueError('The number of regressors (60) including deterministics, lags of the endog, lags of the exogenous, and fixed regressors is larger than the sample available for estimation (27).') exog train             weekend  quarter      epoch  month_1  month_2  month_3  month_4  \\\\\\ndate                                                                          \\n2023-04-27        0        2  2460061.5      0.0      0.0      0.0      1.0   \\n2023-04-28        0        2  2460062.5      0.0      0.0      0.0      1.0   \\n2023-04-29        1        2  2460063.5      0.0      0.0      0.0      1.0   \\n2023-04-30        1        2  2460064.5      0.0      0.0      0.0      1.0   \\n2023-05-01        0        2  2460065.5      0.0      0.0      0.0      0.0   \\n2023-05-02        0        2  2460066.5      0.0      0.0      0.0      0.0   \\n2023-05-03        0        2  2460067.5      0.0      0.0      0.0      0.0   \\n2023-05-04        0        2  2460068.5      0.0      0.0      0.0      0.0   \\n2023-05-05        0        2  2460069.5      0.0      0.0      0.0      0.0   \\n2023-05-06        1        2  2460070.5      0.0      0.0      0.0      0.0   \\n2023-05-07        1        2  2460071.5      0.0      0.0      0.0      0.0   \\n2023-05-08        0        2  2460072.5      0.0      0.0      0.0      0.0   \\n2023-05-09        0        2  2460073.5      0.0      0.0      0.0      0.0   \\n2023-05-10        0        2  2460074.5      0.0      0.0      0.0      0.0   \\n2023-05-11        0        2  2460075.5      0.0      0.0      0.0      0.0   \\n2023-05-12        0        2  2460076.5      0.0      0.0      0.0      0.0   \\n2023-05-13        1        2  2460077.5      0.0      0.0      0.0      0.0   \\n2023-05-14        1        2  2460078.5      0.0      0.0      0.0      0.0   \\n2023-05-15        0        2  2460079.5      0.0      0.0      0.0      0.0   \\n2023-05-16        0        2  2460080.5      0.0      0.0      0.0      0.0   \\n2023-05-17        0        2  2460081.5      0.0      0.0      0.0      0.0   \\n2023-05-18        0        2  2460082.5      0.0      0.0      0.0      0.0   \\n2023-05-19        0        2  2460083.5      0.0      0.0      0.0      0.0   \\n2023-05-20        1        2  2460084.5      0.0      0.0      0.0      0.0   \\n2023-05-21        1        2  2460085.5      0.0      0.0      0.0      0.0   \\n2023-05-22        0        2  2460086.5      0.0      0.0      0.0      0.0   \\n2023-05-23        0        2  2460087.5      0.0      0.0      0.0      0.0   \\n2023-05-24        0        2  2460088.5      0.0      0.0      0.0      0.0   \\n\\n            month_5  month_6  month_7  ...  day_27  day_28  day_29  day_30  \\\\\\ndate                                   ...                                   \\n2023-04-27      0.0      0.0      0.0  ...     1.0     0.0     0.0     0.0   \\n2023-04-28      0.0      0.0      0.0  ...     0.0     1.0     0.0     0.0   \\n2023-04-29      0.0      0.0      0.0  ...     0.0     0.0     1.0     0.0   \\n2023-04-30      0.0      0.0      0.0  ...     0.0     0.0     0.0     1.0   \\n2023-05-01      1.0      0.0      0.0  ...     0.0     0.0     0.0     0.0   \\n2023-05-02      1.0      0.0      0.0  ...     0.0     0.0     0.0     0.0   \\n2023-05-03      1.0      0.0      0.0  ...     0.0     0.0     0.0     0.0   \\n2023-05-04      1.0      0.0      0.0  ...     0.0     0.0     0.0     0.0   \\n2023-05-05      1.0      0.0      0.0  ...     0.0     0.0     0.0     0.0   \\n2023-05-06      1.0      0.0      0.0  ...     0.0     0.0     0.0     0.0   \\n2023-05-07      1.0      0.0      0.0  ...     0.0     0.0     0.0     0.0   \\n2023-05-08      1.0      0.0      0.0  ...     0.0     0.0     0.0     0.0   \\n2023-05-09      1.0      0.0      0.0  ...     0.0     0.0     0.0     0.0   \\n2023-05-10      1.0      0.0      0.0  ...     0.0     0.0     0.0     0.0   \\n2023-05-11      1.0      0.0      0.0  ...     0.0     0.0     0.0     0.0   \\n2023-05-12      1.0      0.0      0.0  ...     0.0     0.0     0.0     0.0   \\n2023-05-13      1.0      0.0      0.0  ...     0.0     0.0     0.0     0.0   \\n2023-05-14      1.0      0.0      0.0  ...     0.0     0.0     0.0     0.0   \\n2023-05-15      1.0      0.0      0.0  ...     0.0     0.0     0.0     0.0   \\n2023-05-16      1.0      0.0      0.0  ...     0.0     0.0     0.0     0.0   \\n2023-05-17      1.0      0.0      0.0  ...     0.0     0.0     0.0     0.0   \\n2023-05-18      1.0      0.0      0.0  ...     0.0     0.0     0.0     0.0   \\n2023-05-19      1.0      0.0      0.0  ...     0.0     0.0     0.0     0.0   \\n2023-05-20      1.0      0.0      0.0  ...     0.0     0.0     0.0     0.0   \\n2023-05-21      1.0      0.0      0.0  ...     0.0     0.0     0.0     0.0   \\n2023-05-22      1.0      0.0      0.0  ...     0.0     0.0     0.0     0.0   \\n2023-05-23      1.0      0.0      0.0  ...     0.0     0.0     0.0     0.0   \\n2023-05-24      1.0      0.0      0.0  ...     0.0     0.0     0.0     0.0   \\n\\n            day_31  weekdayofmonth_1  weekdayofmonth_2  weekdayofmonth_3  \\\\\\ndate                                                                       \\n2023-04-27     0.0               0.0               0.0               0.0   \\n2023-04-28     0.0               0.0               0.0               0.0   \\n2023-04-29     0.0               0.0               0.0               0.0   \\n2023-04-30     0.0               0.0               0.0               0.0   \\n2023-05-01     0.0               1.0               0.0               0.0   \\n2023-05-02     0.0               1.0               0.0               0.0   \\n2023-05-03     0.0               1.0               0.0               0.0   \\n2023-05-04     0.0               1.0               0.0               0.0   \\n2023-05-05     0.0               1.0               0.0               0.0   \\n2023-05-06     0.0               1.0               0.0               0.0   \\n2023-05-07     0.0               1.0               0.0               0.0   \\n2023-05-08     0.0               0.0               1.0               0.0   \\n2023-05-09     0.0               0.0               1.0               0.0   \\n2023-05-10     0.0               0.0               1.0               0.0   \\n2023-05-11     0.0               0.0               1.0               0.0   \\n2023-05-12     0.0               0.0               1.0               0.0   \\n2023-05-13     0.0               0.0               1.0               0.0   \\n2023-05-14     0.0               0.0               1.0               0.0   \\n2023-05-15     0.0               0.0               0.0               1.0   \\n2023-05-16     0.0               0.0               0.0               1.0   \\n2023-05-17     0.0               0.0               0.0               1.0   \\n2023-05-18     0.0               0.0               0.0               1.0   \\n2023-05-19     0.0               0.0               0.0               1.0   \\n2023-05-20     0.0               0.0               0.0               1.0   \\n2023-05-21     0.0               0.0               0.0               1.0   \\n2023-05-22     0.0               0.0               0.0               0.0   \\n2023-05-23     0.0               0.0               0.0               0.0   \\n2023-05-24     0.0               0.0               0.0               0.0   \\n\\n            weekdayofmonth_4  weekdayofmonth_5  \\ndate                                            \\n2023-04-27               1.0               0.0  \\n2023-04-28               1.0               0.0  \\n2023-04-29               0.0               1.0  \\n2023-04-30               0.0               1.0  \\n2023-05-01               0.0               0.0  \\n2023-05-02               0.0               0.0  \\n2023-05-03               0.0               0.0  \\n2023-05-04               0.0               0.0  \\n2023-05-05               0.0               0.0  \\n2023-05-06               0.0               0.0  \\n2023-05-07               0.0               0.0  \\n2023-05-08               0.0               0.0  \\n2023-05-09               0.0               0.0  \\n2023-05-10               0.0               0.0  \\n2023-05-11               0.0               0.0  \\n2023-05-12               0.0               0.0  \\n2023-05-13               0.0               0.0  \\n2023-05-14               0.0               0.0  \\n2023-05-15               0.0               0.0  \\n2023-05-16               0.0               0.0  \\n2023-05-17               0.0               0.0  \\n2023-05-18               0.0               0.0  \\n2023-05-19               0.0               0.0  \\n2023-05-20               0.0               0.0  \\n2023-05-21               0.0               0.0  \\n2023-05-22               1.0               0.0  \\n2023-05-23               1.0               0.0  \\n2023-05-24               1.0               0.0  \\n\\n[28 rows x 58 columns] and predict             weekend  quarter      epoch  month_1  month_2  month_3  month_4  \\\\\\n2023-05-25        0        2  2460089.5      0.0      0.0      0.0      0.0   \\n2023-05-26        0        2  2460090.5      0.0      0.0      0.0      0.0   \\n2023-05-27        1        2  2460091.5      0.0      0.0      0.0      0.0   \\n2023-05-28        1        2  2460092.5      0.0      0.0      0.0      0.0   \\n2023-05-29        0        2  2460093.5      0.0      0.0      0.0      0.0   \\n...             ...      ...        ...      ...      ...      ...      ...   \\n2023-07-31        0        3  2460156.5      0.0      0.0      0.0      0.0   \\n2023-08-01        0        3  2460157.5      0.0      0.0      0.0      0.0   \\n2023-08-02        0        3  2460158.5      0.0      0.0      0.0      0.0   \\n2023-08-03        0        3  2460159.5      0.0      0.0      0.0      0.0   \\n2023-08-04        0        3  2460160.5      0.0      0.0      0.0      0.0   \\n\\n            month_5  month_6  month_7  ...  day_27  day_28  day_29  day_30  \\\\\\n2023-05-25      1.0      0.0      0.0  ...     0.0     0.0     0.0     0.0   \\n2023-05-26      1.0      0.0      0.0  ...     0.0     0.0     0.0     0.0   \\n2023-05-27      1.0      0.0      0.0  ...     1.0     0.0     0.0     0.0   \\n2023-05-28      1.0      0.0      0.0  ...     0.0     1.0     0.0     0.0   \\n2023-05-29      1.0      0.0      0.0  ...     0.0     0.0     1.0     0.0   \\n...             ...      ...      ...  ...     ...     ...     ...     ...   \\n2023-07-31      0.0      0.0      1.0  ...     0.0     0.0     0.0     0.0   \\n2023-08-01      0.0      0.0      0.0  ...     0.0     0.0     0.0     0.0   \\n2023-08-02      0.0      0.0      0.0  ...     0.0     0.0     0.0     0.0   \\n2023-08-03      0.0      0.0      0.0  ...     0.0     0.0     0.0     0.0   \\n2023-08-04      0.0      0.0      0.0  ...     0.0     0.0     0.0     0.0   \\n\\n            day_31  weekdayofmonth_1  weekdayofmonth_2  weekdayofmonth_3  \\\\\\n2023-05-25     0.0               0.0               0.0               0.0   \\n2023-05-26     0.0               0.0               0.0               0.0   \\n2023-05-27     0.0               0.0               0.0               0.0   \\n2023-05-28     0.0               0.0               0.0               0.0   \\n2023-05-29     0.0               0.0               0.0               0.0   \\n...            ...               ...               ...               ...   \\n2023-07-31     1.0               0.0               0.0               0.0   \\n2023-08-01     0.0               1.0               0.0               0.0   \\n2023-08-02     0.0               1.0               0.0               0.0   \\n2023-08-03     0.0               1.0               0.0               0.0   \\n2023-08-04     0.0               1.0               0.0               0.0   \\n\\n            weekdayofmonth_4  weekdayofmonth_5  \\n2023-05-25               1.0               0.0  \\n2023-05-26               1.0               0.0  \\n2023-05-27               1.0               0.0  \\n2023-05-28               1.0               0.0  \\n2023-05-29               0.0               1.0  \\n...                      ...               ...  \\n2023-07-31               0.0               1.0  \\n2023-08-01               0.0               0.0  \\n2023-08-02               0.0               0.0  \\n2023-08-03               0.0               0.0  \\n2023-08-04               0.0               0.0  \\n\\n[72 rows x 58 columns]\") in model 862 in generation 8: ARDL\n",
      "Model Number: 863 with model FFT in generation 8 of 10\n",
      "Model Number: 864 with model FFT in generation 8 of 10\n"
     ]
    },
    {
     "name": "stderr",
     "output_type": "stream",
     "text": [
      "/home/zeus/miniconda3/envs/cloudspace/lib/python3.10/site-packages/sklearn/decomposition/_fastica.py:576: UserWarning: Ignoring n_components with whiten=False.\n",
      "  warnings.warn(\"Ignoring n_components with whiten=False.\")\n",
      "/home/zeus/miniconda3/envs/cloudspace/lib/python3.10/site-packages/sklearn/decomposition/_fastica.py:128: ConvergenceWarning: FastICA did not converge. Consider increasing tolerance or the maximum number of iterations.\n",
      "  warnings.warn(\n",
      "/home/zeus/miniconda3/envs/cloudspace/lib/python3.10/site-packages/sklearn/neighbors/_classification.py:233: DataConversionWarning: A column-vector y was passed when a 1d array was expected. Please change the shape of y to (n_samples,), for example using ravel().\n",
      "  return self._fit(X, y)\n"
     ]
    },
    {
     "name": "stdout",
     "output_type": "stream",
     "text": [
      "Model Number: 865 with model DatepartRegression in generation 8 of 10\n",
      "Template Eval Error: ImportError('Tensorflow not available, install with pip install tensorflow.') in model 865 in generation 8: DatepartRegression\n",
      "Model Number: 866 with model SeasonalNaive in generation 8 of 10\n",
      "Model Number: 867 with model SeasonalNaive in generation 8 of 10\n",
      "Model Number: 868 with model DatepartRegression in generation 8 of 10\n",
      "Model Number: 869 with model ConstantNaive in generation 8 of 10\n",
      "Template Eval Error: Exception(\"Transformer BTCD failed on fit from params ffill {'0': {'constant': 0, 'reintroduction_model': {'model': 'KNN', 'model_params': {'n_neighbors': 5, 'weights': 'uniform', 'p': 2, 'leaf_size': 30}, 'datepart_method': [168, 'hour']}, 'fillna': 'ffill'}, '1': {'regression_model': {'model': 'FastRidge', 'model_params': {}}, 'max_lags': 1}, '2': {}} with error ValueError('BTCD only works on multivarate series')\") in model 869 in generation 8: ConstantNaive\n",
      "Model Number: 870 with model GLS in generation 8 of 10\n",
      "Model Number: 871 with model DatepartRegression in generation 8 of 10\n"
     ]
    },
    {
     "name": "stderr",
     "output_type": "stream",
     "text": [
      "/home/zeus/miniconda3/envs/cloudspace/lib/python3.10/site-packages/sklearn/neighbors/_classification.py:233: DataConversionWarning: A column-vector y was passed when a 1d array was expected. Please change the shape of y to (n_samples,), for example using ravel().\n",
      "  return self._fit(X, y)\n"
     ]
    },
    {
     "name": "stdout",
     "output_type": "stream",
     "text": [
      "Model Number: 872 with model SeasonalityMotif in generation 8 of 10\n",
      "prediction too long for indepedent=False, falling back on indepedent=True\n",
      "Model Number: 873 with model AverageValueNaive in generation 8 of 10\n",
      "Model Number: 874 with model GLS in generation 8 of 10\n",
      "Model Number: 875 with model SeasonalNaive in generation 8 of 10\n",
      "Model Number: 876 with model DatepartRegression in generation 8 of 10\n",
      "Model Number: 877 with model SectionalMotif in generation 8 of 10\n",
      "Model Number: 878 with model LastValueNaive in generation 8 of 10\n",
      "Model Number: 879 with model SectionalMotif in generation 8 of 10\n",
      "Template Eval Error: ValueError('kth(=5) out of bounds (3)') in model 879 in generation 8: SectionalMotif\n",
      "Model Number: 880 with model ARDL in generation 8 of 10\n",
      "Model Number: 881 with model AverageValueNaive in generation 8 of 10\n",
      "Model Number: 882 with model RRVAR in generation 8 of 10\n",
      "Model Number: 883 with model RRVAR in generation 8 of 10\n",
      "Model Number: 884 with model FFT in generation 8 of 10\n",
      "Template Eval Error: ValueError('Model FFT returned NaN for one or more series. fail_on_forecast_nan=True') in model 884 in generation 8: FFT\n",
      "Model Number: 885 with model LastValueNaive in generation 8 of 10\n",
      "Model Number: 886 with model LastValueNaive in generation 8 of 10\n",
      "Template Eval Error: Exception(\"Transformer HolidayTransformer failed on fit from params barycentric {'0': {'decimals': 0, 'on_transform': False, 'on_inverse': True}, '1': {'method': 0.2}, '2': {'method': 'rolling_zscore', 'method_params': {'distribution': 'norm', 'alpha': 0.05, 'rolling_periods': 28, 'center': True}, 'fillna': 'ffill', 'transform_dict': {'transformations': {'0': 'DifferencedTransformer'}, 'transformation_params': {'0': {}}}, 'isolated_only': False, 'on_inverse': False}, '3': {'lag_1': 168, 'method': 'LastValue'}, '4': {'threshold': 0.7, 'splash_threshold': None, 'use_dayofmonth_holidays': True, 'use_wkdom_holidays': True, 'use_wkdeom_holidays': False, 'use_lunar_holidays': False, 'use_lunar_weekday': False, 'use_islamic_holidays': False, 'use_hebrew_holidays': False, 'use_hindu_holidays': False, 'anomaly_detector_params': {'method': 'med_diff', 'method_params': {'distribution': 'beta', 'alpha': 0.05}, 'fillna': 'linear', 'transform_dict': {'fillna': 'ffill', 'transformations': {'0': 'DifferencedTransformer', '1': 'Constraint'}, 'transformation_params': {'0': {'lag': 1, 'fill': 'zero'}, '1': {'constraint_method': 'quantile', 'constraint_direction': 'lower', 'constraint_regularization': 0.2, 'constraint_value': 0.01, 'bounds_only': False, 'fillna': None}}}, 'isolated_only': False, 'on_inverse': False}, 'remove_excess_anomalies': True, 'impact': 'anomaly_score', 'regression_params': {}}} with error ValueError('more than 1 year of data is required for holiday detection.')\") in model 886 in generation 8: LastValueNaive\n",
      "Model Number: 887 with model SeasonalityMotif in generation 8 of 10\n",
      "prediction too long for indepedent=False, falling back on indepedent=True\n",
      "Model Number: 888 with model RRVAR in generation 8 of 10\n"
     ]
    },
    {
     "name": "stderr",
     "output_type": "stream",
     "text": [
      "/home/zeus/miniconda3/envs/cloudspace/lib/python3.10/site-packages/autots/tools/window_functions.py:605: RuntimeWarning: invalid value encountered in divide\n",
      "  slope = (sxy - sx * sy) / (sx2 - sx**2)\n"
     ]
    },
    {
     "name": "stdout",
     "output_type": "stream",
     "text": [
      "Model Number: 889 with model RRVAR in generation 8 of 10\n",
      "Model Number: 890 with model ETS in generation 8 of 10\n",
      "Model Number: 891 with model SectionalMotif in generation 8 of 10\n",
      "Model Number: 892 with model RRVAR in generation 8 of 10\n",
      "Model Number: 893 with model GLM in generation 8 of 10\n",
      "Model Number: 894 with model GLS in generation 8 of 10\n",
      "Model Number: 895 with model SeasonalityMotif in generation 8 of 10\n",
      "Template Eval Error: Exception(\"Transformer BTCD failed on fit from params ffill {'0': {'regression_model': {'model': 'LinearRegression', 'model_params': {}}, 'max_lags': 1}, '1': {'rows': 24, 'lag': 1, 'method': 'additive', 'strength': 0.5, 'first_value_only': False, 'threshold': 10, 'threshold_method': 'max'}, '2': {'method': 0.2}, '3': {'method': 0.9}, '4': {'rows': 5}} with error ValueError('BTCD only works on multivarate series')\") in model 895 in generation 8: SeasonalityMotif\n",
      "Model Number: 896 with model ConstantNaive in generation 8 of 10\n",
      "Model Number: 897 with model SeasonalNaive in generation 8 of 10\n"
     ]
    },
    {
     "name": "stderr",
     "output_type": "stream",
     "text": [
      "/home/zeus/miniconda3/envs/cloudspace/lib/python3.10/site-packages/sklearn/linear_model/_ridge.py:200: LinAlgWarning: Ill-conditioned matrix (rcond=8.09705e-25): result may not be accurate.\n",
      "  return linalg.solve(A, Xy, assume_a=\"pos\", overwrite_a=True).T\n",
      "/home/zeus/miniconda3/envs/cloudspace/lib/python3.10/site-packages/statsmodels/genmod/families/family.py:1367: ValueWarning: Negative binomial dispersion parameter alpha not set. Using default value alpha=1.0.\n",
      "  warnings.warn(\"Negative binomial dispersion parameter alpha not \"\n"
     ]
    },
    {
     "name": "stdout",
     "output_type": "stream",
     "text": [
      "Model Number: 898 with model FFT in generation 8 of 10\n",
      "Model Number: 899 with model GLS in generation 8 of 10\n",
      "Model Number: 900 with model DatepartRegression in generation 8 of 10\n",
      "Model Number: 901 with model DatepartRegression in generation 8 of 10\n",
      "Model Number: 902 with model SectionalMotif in generation 8 of 10\n",
      "Template Eval Error: ValueError('XA and XB must have the same number of columns (i.e. feature dimension.)') in model 902 in generation 8: SectionalMotif\n",
      "Model Number: 903 with model DatepartRegression in generation 8 of 10\n",
      "Template Eval Error: Exception(\"Transformer HolidayTransformer failed on fit from params rolling_mean {'0': {'threshold': 0.7, 'splash_threshold': None, 'use_dayofmonth_holidays': True, 'use_wkdom_holidays': True, 'use_wkdeom_holidays': False, 'use_lunar_holidays': False, 'use_lunar_weekday': False, 'use_islamic_holidays': False, 'use_hebrew_holidays': False, 'use_hindu_holidays': False, 'anomaly_detector_params': {'method': 'IQR', 'method_params': {'iqr_threshold': 2.0, 'iqr_quantiles': [0.4, 0.6]}, 'fillna': 'rolling_mean_24', 'transform_dict': None, 'isolated_only': False, 'on_inverse': False}, 'remove_excess_anomalies': False, 'impact': 'anomaly_score', 'regression_params': {}}, '1': {'rows': 24, 'lag': 1, 'method': 'additive', 'strength': 0.5, 'first_value_only': False, 'threshold': 10, 'threshold_method': 'max'}, '2': {'method': 0.2}, '3': {'lag': 1, 'fill': 'bfill'}, '4': {'constant': 0, 'reintroduction_model': {'model': 'KNN', 'model_params': {'n_neighbors': 5, 'weights': 'uniform', 'p': 2, 'leaf_size': 30}, 'datepart_method': [168, 'hour']}, 'fillna': 'akima'}} with error ValueError('more than 1 year of data is required for holiday detection.')\") in model 903 in generation 8: DatepartRegression\n",
      "Model Number: 904 with model SeasonalityMotif in generation 8 of 10\n",
      "prediction too long for indepedent=False, falling back on indepedent=True\n",
      "Model Number: 905 with model AverageValueNaive in generation 8 of 10\n",
      "Model Number: 906 with model ARDL in generation 8 of 10\n",
      "Template Eval Error: Exception('Transformer PCA failed on fit from params zero {\\'0\\': {\\'window_size\\': 30, \\'alpha\\': 3.5, \\'grouping_forward_limit\\': 6, \\'max_level_shifts\\': 5, \\'alignment\\': \\'last_value\\'}, \\'1\\': {\\'whiten\\': False, \\'n_components\\': 4}, \\'2\\': {\\'rows\\': 7, \\'lag\\': 1, \\'method\\': \\'multiplicative\\', \\'strength\\': 0.9, \\'first_value_only\\': False, \\'threshold\\': None, \\'threshold_method\\': \\'mean\\'}, \\'3\\': {}} with error ValueError(\"n_components=4 must be between 0 and min(n_samples, n_features)=1 with svd_solver=\\'full\\'\")') in model 906 in generation 8: ARDL\n",
      "Model Number: 907 with model BasicLinearModel in generation 8 of 10\n"
     ]
    },
    {
     "name": "stderr",
     "output_type": "stream",
     "text": [
      "/home/zeus/miniconda3/envs/cloudspace/lib/python3.10/site-packages/sklearn/linear_model/_coordinate_descent.py:628: ConvergenceWarning: Objective did not converge. You might want to increase the number of iterations, check the scale of the features or consider increasing regularisation. Duality gap: 4.272e+02, tolerance: 1.012e+01\n",
      "  model = cd_fast.enet_coordinate_descent(\n",
      "/home/zeus/miniconda3/envs/cloudspace/lib/python3.10/site-packages/autots/models/basics.py:3595: RuntimeWarning: invalid value encountered in sqrt\n",
      "  self.sigma = np.sqrt(sse / (n - p))\n"
     ]
    },
    {
     "name": "stdout",
     "output_type": "stream",
     "text": [
      "Model Number: 908 with model FFT in generation 8 of 10\n",
      "Model Number: 909 with model Cassandra in generation 8 of 10\n",
      "Template Eval Error: ValueError('more than 1 year of data is required for holiday detection.') in model 909 in generation 8: Cassandra\n",
      "Model Number: 910 with model FFT in generation 8 of 10\n",
      "Model Number: 911 with model SeasonalityMotif in generation 8 of 10\n",
      "prediction too long for indepedent=False, falling back on indepedent=True\n",
      "New Generation: 9 of 10\n",
      "Model Number: 912 with model ETS in generation 9 of 10\n",
      "Model Number: 913 with model FFT in generation 9 of 10\n",
      "Model Number: 914 with model AverageValueNaive in generation 9 of 10\n"
     ]
    },
    {
     "name": "stderr",
     "output_type": "stream",
     "text": [
      "/home/zeus/miniconda3/envs/cloudspace/lib/python3.10/site-packages/sklearn/decomposition/_fastica.py:576: UserWarning: Ignoring n_components with whiten=False.\n",
      "  warnings.warn(\"Ignoring n_components with whiten=False.\")\n"
     ]
    },
    {
     "name": "stdout",
     "output_type": "stream",
     "text": [
      "Model Number: 915 with model Cassandra in generation 9 of 10\n",
      "Template Eval Error: TypeError('Cannot infer number of levels from empty list') in model 915 in generation 9: Cassandra\n",
      "Model Number: 916 with model SeasonalNaive in generation 9 of 10\n",
      "Model Number: 917 with model DatepartRegression in generation 9 of 10\n",
      "Template Eval Error: ValueError(\"regression_type='User' but no future_regressor passed\") in model 917 in generation 9: DatepartRegression\n",
      "Model Number: 918 with model SectionalMotif in generation 9 of 10\n",
      "Model Number: 919 with model AverageValueNaive in generation 9 of 10\n",
      "Model Number: 920 with model SeasonalNaive in generation 9 of 10\n",
      "Template Eval Error: Exception(\"Transformer DatepartRegression failed on fit from params zero {'0': {'lag': 1, 'fill': 'zero'}, '1': {}, '2': {'method': 0.2}, '3': {'regression_model': {'model': 'ElasticNet', 'model_params': {'l1_ratio': 0.5, 'fit_intercept': True, 'selection': 'cyclic', 'max_iter': 2000}}, 'datepart_method': 'expanded', 'polynomial_degree': None, 'transform_dict': {'fillna': None, 'transformations': {'0': 'ScipyFilter'}, 'transformation_params': {'0': {'method': 'savgol_filter', 'method_args': {'window_length': 31, 'polyorder': 3, 'deriv': 0, 'mode': 'interp'}}}}, 'holiday_countries_used': False, 'lags': None, 'forward_lags': None}} with error Exception('Transformer ScipyFilter failed on fit')\") in model 920 in generation 9: SeasonalNaive\n",
      "Model Number: 921 with model Cassandra in generation 9 of 10\n",
      "Template Eval Error: ValueError('more than 1 year of data is required for holiday detection.') in model 921 in generation 9: Cassandra\n",
      "Model Number: 922 with model GLM in generation 9 of 10\n"
     ]
    },
    {
     "name": "stderr",
     "output_type": "stream",
     "text": [
      "/home/zeus/miniconda3/envs/cloudspace/lib/python3.10/site-packages/numpy/lib/function_base.py:2897: RuntimeWarning: invalid value encountered in divide\n",
      "  c /= stddev[:, None]\n",
      "/home/zeus/miniconda3/envs/cloudspace/lib/python3.10/site-packages/numpy/lib/function_base.py:2898: RuntimeWarning: invalid value encountered in divide\n",
      "  c /= stddev[None, :]\n",
      "/home/zeus/miniconda3/envs/cloudspace/lib/python3.10/site-packages/statsmodels/genmod/families/links.py:198: RuntimeWarning: overflow encountered in exp\n",
      "  t = np.exp(-z)\n"
     ]
    },
    {
     "name": "stdout",
     "output_type": "stream",
     "text": [
      "Model Number: 923 with model MetricMotif in generation 9 of 10\n",
      "Model Number: 924 with model DatepartRegression in generation 9 of 10\n",
      "Model Number: 925 with model MetricMotif in generation 9 of 10\n",
      "Model Number: 926 with model FFT in generation 9 of 10\n"
     ]
    },
    {
     "name": "stderr",
     "output_type": "stream",
     "text": [
      "/home/zeus/miniconda3/envs/cloudspace/lib/python3.10/site-packages/sklearn/linear_model/_coordinate_descent.py:628: ConvergenceWarning: Objective did not converge. You might want to increase the number of iterations, check the scale of the features or consider increasing regularisation. Duality gap: 4.272e+02, tolerance: 1.012e+01\n",
      "  model = cd_fast.enet_coordinate_descent(\n"
     ]
    },
    {
     "name": "stdout",
     "output_type": "stream",
     "text": [
      "Model Number: 927 with model DatepartRegression in generation 9 of 10\n",
      "Template Eval Error: ValueError(\"regression_type='User' but no future_regressor passed\") in model 927 in generation 9: DatepartRegression\n",
      "Model Number: 928 with model SectionalMotif in generation 9 of 10\n",
      "Model Number: 929 with model FFT in generation 9 of 10\n",
      "Model Number: 930 with model ARDL in generation 9 of 10\n"
     ]
    },
    {
     "name": "stderr",
     "output_type": "stream",
     "text": [
      "/home/zeus/miniconda3/envs/cloudspace/lib/python3.10/site-packages/autots/tools/seasonal.py:896: RuntimeWarning: invalid value encountered in divide\n",
      "  scores = np.mean(np.abs(a - b) / divisor, axis=2)\n",
      "/home/zeus/miniconda3/envs/cloudspace/lib/python3.10/site-packages/autots/tools/seasonal.py:896: RuntimeWarning: invalid value encountered in divide\n",
      "  scores = np.mean(np.abs(a - b) / divisor, axis=2)\n",
      "/home/zeus/miniconda3/envs/cloudspace/lib/python3.10/site-packages/autots/tools/seasonal.py:896: RuntimeWarning: invalid value encountered in divide\n",
      "  scores = np.mean(np.abs(a - b) / divisor, axis=2)\n"
     ]
    },
    {
     "name": "stdout",
     "output_type": "stream",
     "text": [
      "Model Number: 931 with model BasicLinearModel in generation 9 of 10\n",
      "Template Eval Error: ValueError(\"regression_type=='User' but no future_regressor supplied\") in model 931 in generation 9: BasicLinearModel\n",
      "Model Number: 932 with model BasicLinearModel in generation 9 of 10\n",
      "Template Eval Error: Exception(\"Transformer RegressionFilter failed on fit from params ffill {'0': {'sigma': 1, 'rolling_window': 90, 'run_order': 'season_first', 'regression_params': {'regression_model': {'model': 'DecisionTree', 'model_params': {'max_depth': 3, 'min_samples_split': 1.0}}, 'datepart_method': 'expanded', 'polynomial_degree': None, 'transform_dict': {'fillna': None, 'transformations': {'0': 'EWMAFilter'}, 'transformation_params': {'0': {'span': 2}}}, 'holiday_countries_used': False, 'lags': None, 'forward_lags': 3}, 'holiday_params': {'threshold': 0.9, 'splash_threshold': None, 'use_dayofmonth_holidays': True, 'use_wkdom_holidays': True, 'use_wkdeom_holidays': False, 'use_lunar_holidays': False, 'use_lunar_weekday': False, 'use_islamic_holidays': False, 'use_hebrew_holidays': False, 'use_hindu_holidays': True, 'anomaly_detector_params': {'method': 'minmax', 'method_params': {'alpha': 0.05}, 'fillna': 'linear', 'transform_dict': None, 'isolated_only': False, 'on_inverse': False}, 'remove_excess_anomalies': True, 'impact': 'datepart_regression', 'regression_params': {'regression_model': {'model': 'DecisionTree', 'model_params': {'max_depth': 3, 'min_samples_split': 1.0}}, 'datepart_method': 'expanded', 'polynomial_degree': None, 'transform_dict': {'fillna': None, 'transformations': {'0': 'EWMAFilter'}, 'transformation_params': {'0': {'span': 2}}}, 'holiday_countries_used': False, 'lags': None, 'forward_lags': 3}}, 'trend_method': 'local_linear'}, '1': {'discretization': 'sklearn-quantile', 'n_bins': 20}, '2': {'window_size': 30, 'alpha': 3.5, 'grouping_forward_limit': 3, 'max_level_shifts': 5, 'alignment': 'average'}} with error ValueError('more than 1 year of data is required for holiday detection.')\") in model 932 in generation 9: BasicLinearModel\n",
      "Model Number: 933 with model RRVAR in generation 9 of 10\n",
      "Model Number: 934 with model ARDL in generation 9 of 10\n",
      "Model Number: 935 with model FFT in generation 9 of 10\n",
      "Model Number: 936 with model SeasonalityMotif in generation 9 of 10\n",
      "prediction too long for indepedent=False, falling back on indepedent=True\n",
      "Model Number: 937 with model RRVAR in generation 9 of 10\n",
      "Model Number: 938 with model RRVAR in generation 9 of 10\n",
      "Model Number: 939 with model ETS in generation 9 of 10\n",
      "Model Number: 940 with model DatepartRegression in generation 9 of 10\n",
      "Template Eval Error: ValueError(\"regression_type='User' but no future_regressor passed\") in model 940 in generation 9: DatepartRegression\n",
      "Model Number: 941 with model AverageValueNaive in generation 9 of 10\n",
      "Model Number: 942 with model LastValueNaive in generation 9 of 10\n",
      "Model Number: 943 with model ETS in generation 9 of 10\n",
      "Model Number: 944 with model SectionalMotif in generation 9 of 10\n",
      "Model Number: 945 with model GLS in generation 9 of 10\n",
      "Template Eval Error: Exception(\"Transformer BTCD failed on fit from params mean {'0': {'regression_model': {'model': 'LinearRegression', 'model_params': {}}, 'max_lags': 2}, '1': {'lag_1': 28, 'method': 'LastValue'}, '2': {'method': 0.2}, '3': {'method': 'savgol_filter', 'method_args': {'window_length': 91, 'polyorder': 4, 'deriv': 0, 'mode': 'nearest'}}} with error ValueError('BTCD only works on multivarate series')\") in model 945 in generation 9: GLS\n",
      "Model Number: 946 with model GLS in generation 9 of 10\n",
      "Model Number: 947 with model FFT in generation 9 of 10\n"
     ]
    },
    {
     "name": "stderr",
     "output_type": "stream",
     "text": [
      "/home/zeus/miniconda3/envs/cloudspace/lib/python3.10/site-packages/autots/tools/seasonal.py:896: RuntimeWarning: invalid value encountered in divide\n",
      "  scores = np.mean(np.abs(a - b) / divisor, axis=2)\n",
      "/home/zeus/miniconda3/envs/cloudspace/lib/python3.10/site-packages/autots/tools/seasonal.py:896: RuntimeWarning: invalid value encountered in divide\n",
      "  scores = np.mean(np.abs(a - b) / divisor, axis=2)\n",
      "/home/zeus/miniconda3/envs/cloudspace/lib/python3.10/site-packages/autots/tools/seasonal.py:896: RuntimeWarning: invalid value encountered in divide\n",
      "  scores = np.mean(np.abs(a - b) / divisor, axis=2)\n"
     ]
    },
    {
     "name": "stdout",
     "output_type": "stream",
     "text": [
      "Model Number: 948 with model SeasonalNaive in generation 9 of 10\n",
      "Model Number: 949 with model AverageValueNaive in generation 9 of 10\n",
      "Template Eval Error: Exception(\"Transformer HolidayTransformer failed on fit from params nearest {'0': {'threshold': 0.9, 'splash_threshold': 0.4, 'use_dayofmonth_holidays': True, 'use_wkdom_holidays': False, 'use_wkdeom_holidays': False, 'use_lunar_holidays': True, 'use_lunar_weekday': False, 'use_islamic_holidays': False, 'use_hebrew_holidays': False, 'use_hindu_holidays': False, 'anomaly_detector_params': {'method': 'rolling_zscore', 'method_params': {'distribution': 'norm', 'alpha': 0.2, 'rolling_periods': 28, 'center': False}, 'fillna': 'ffill', 'transform_dict': {'fillna': None, 'transformations': {'0': 'ClipOutliers'}, 'transformation_params': {'0': {'method': 'clip', 'std_threshold': 6}}}, 'isolated_only': False, 'on_inverse': False}, 'remove_excess_anomalies': True, 'impact': 'anomaly_score', 'regression_params': {}}, '1': {'window_size': 90, 'alpha': 3.0, 'grouping_forward_limit': 6, 'max_level_shifts': 30, 'alignment': 'average'}} with error ValueError('more than 1 year of data is required for holiday detection.')\") in model 949 in generation 9: AverageValueNaive\n",
      "Model Number: 950 with model GLM in generation 9 of 10\n",
      "Template Eval Error: ValueError('The first guess on the deviance function returned a nan.  This could be a boundary  problem and should be reported.') in model 950 in generation 9: GLM\n",
      "Model Number: 951 with model ARDL in generation 9 of 10\n"
     ]
    },
    {
     "name": "stderr",
     "output_type": "stream",
     "text": [
      "/home/zeus/miniconda3/envs/cloudspace/lib/python3.10/site-packages/statsmodels/genmod/families/family.py:1367: ValueWarning: Negative binomial dispersion parameter alpha not set. Using default value alpha=1.0.\n",
      "  warnings.warn(\"Negative binomial dispersion parameter alpha not \"\n",
      "/home/zeus/miniconda3/envs/cloudspace/lib/python3.10/site-packages/statsmodels/genmod/families/family.py:1406: RuntimeWarning: invalid value encountered in log\n",
      "  resid_dev -= endog_alpha * np.log(endog_alpha / mu_alpha)\n"
     ]
    },
    {
     "name": "stdout",
     "output_type": "stream",
     "text": [
      "Template Eval Error: ValueError(\"ARDL series 8b26cbbab26d33daba641fae9426d1bd25c1ad8e7abfe187a459512f5a8866e7 failed with error ValueError('The number of regressors (5) including deterministics, lags of the endog, lags of the exogenous, and fixed regressors is larger than the sample available for estimation (3).') exog train             holiday_flag_US\\ndate                       \\n2023-05-20              0.0\\n2023-05-21              0.0\\n2023-05-22              0.0\\n2023-05-23              0.0\\n2023-05-24              0.0 and predict             holiday_flag_US\\n2023-05-25              0.0\\n2023-05-26              0.0\\n2023-05-27              0.0\\n2023-05-28              0.0\\n2023-05-29              1.0\\n...                     ...\\n2023-07-31              0.0\\n2023-08-01              0.0\\n2023-08-02              0.0\\n2023-08-03              0.0\\n2023-08-04              0.0\\n\\n[72 rows x 1 columns]\") in model 951 in generation 9: ARDL\n",
      "Model Number: 952 with model GLS in generation 9 of 10\n",
      "Model Number: 953 with model ConstantNaive in generation 9 of 10\n",
      "Model Number: 954 with model RRVAR in generation 9 of 10\n",
      "Model Number: 955 with model SectionalMotif in generation 9 of 10\n",
      "Template Eval Error: Exception(\"Transformer Cointegration failed on fit from params ffill {'0': {'det_order': 0, 'k_ar_diff': 0}, '1': {}, '2': {'method': 0.2}, '3': {'span': 84}} with error ValueError('Coint only works on multivarate series')\") in model 955 in generation 9: SectionalMotif\n",
      "Model Number: 956 with model GLS in generation 9 of 10\n",
      "Model Number: 957 with model SeasonalityMotif in generation 9 of 10\n",
      "prediction too long for indepedent=False, falling back on indepedent=True\n",
      "Model Number: 958 with model BasicLinearModel in generation 9 of 10\n",
      "Template Eval Error: ValueError(\"regression_type=='User' but no future_regressor supplied\") in model 958 in generation 9: BasicLinearModel\n",
      "Model Number: 959 with model Cassandra in generation 9 of 10\n",
      "Model Number: 960 with model DatepartRegression in generation 9 of 10\n"
     ]
    },
    {
     "name": "stderr",
     "output_type": "stream",
     "text": [
      "/home/zeus/miniconda3/envs/cloudspace/lib/python3.10/site-packages/numpy/lib/function_base.py:2897: RuntimeWarning: invalid value encountered in divide\n",
      "  c /= stddev[:, None]\n",
      "/home/zeus/miniconda3/envs/cloudspace/lib/python3.10/site-packages/numpy/lib/function_base.py:2898: RuntimeWarning: invalid value encountered in divide\n",
      "  c /= stddev[None, :]\n",
      "/home/zeus/miniconda3/envs/cloudspace/lib/python3.10/site-packages/sklearn/linear_model/_coordinate_descent.py:628: ConvergenceWarning: Objective did not converge. You might want to increase the number of iterations, check the scale of the features or consider increasing regularisation. Duality gap: 6.833e+00, tolerance: 1.440e-02\n",
      "  model = cd_fast.enet_coordinate_descent(\n"
     ]
    },
    {
     "name": "stdout",
     "output_type": "stream",
     "text": [
      "Model Number: 961 with model SeasonalNaive in generation 9 of 10\n",
      "Model Number: 962 with model RRVAR in generation 9 of 10\n",
      "Model Number: 963 with model SeasonalityMotif in generation 9 of 10\n",
      "Model Number: 964 with model BasicLinearModel in generation 9 of 10\n",
      "Template Eval Error: Exception(\"Transformer RegressionFilter failed on fit from params ffill {'0': {'sigma': 1, 'rolling_window': 90, 'run_order': 'season_first', 'regression_params': {'regression_model': {'model': 'DecisionTree', 'model_params': {'max_depth': 3, 'min_samples_split': 1.0}}, 'datepart_method': 'expanded', 'polynomial_degree': None, 'transform_dict': {'fillna': None, 'transformations': {'0': 'EWMAFilter'}, 'transformation_params': {'0': {'span': 2}}}, 'holiday_countries_used': False, 'lags': None, 'forward_lags': 3}, 'holiday_params': {'threshold': 0.9, 'splash_threshold': None, 'use_dayofmonth_holidays': True, 'use_wkdom_holidays': True, 'use_wkdeom_holidays': False, 'use_lunar_holidays': False, 'use_lunar_weekday': False, 'use_islamic_holidays': False, 'use_hebrew_holidays': False, 'use_hindu_holidays': True, 'anomaly_detector_params': {'method': 'minmax', 'method_params': {'alpha': 0.05}, 'fillna': 'linear', 'transform_dict': None, 'isolated_only': False, 'on_inverse': False}, 'remove_excess_anomalies': True, 'impact': 'datepart_regression', 'regression_params': {'regression_model': {'model': 'DecisionTree', 'model_params': {'max_depth': 3, 'min_samples_split': 1.0}}, 'datepart_method': 'expanded', 'polynomial_degree': None, 'transform_dict': {'fillna': None, 'transformations': {'0': 'EWMAFilter'}, 'transformation_params': {'0': {'span': 2}}}, 'holiday_countries_used': False, 'lags': None, 'forward_lags': 3}}, 'trend_method': 'local_linear'}, '1': {'rows': 24, 'lag': 1, 'method': 'additive', 'strength': 0.5, 'first_value_only': False, 'threshold': 10, 'threshold_method': 'max'}, '2': {'method': 0.2}, '3': {'span': 84}} with error ValueError('more than 1 year of data is required for holiday detection.')\") in model 964 in generation 9: BasicLinearModel\n",
      "Model Number: 965 with model GLS in generation 9 of 10\n",
      "Model Number: 966 with model ARDL in generation 9 of 10\n",
      "Model Number: 967 with model DatepartRegression in generation 9 of 10\n",
      "Model Number: 968 with model AverageValueNaive in generation 9 of 10\n",
      "Model Number: 969 with model DatepartRegression in generation 9 of 10\n",
      "Model Number: 970 with model RRVAR in generation 9 of 10\n",
      "Model Number: 971 with model SeasonalityMotif in generation 9 of 10\n",
      "Template Eval Error: Exception(\"Transformer RegressionFilter failed on fit from params quadratic {'0': {}, '1': {'sigma': 2, 'rolling_window': 90, 'run_order': 'trend_first', 'regression_params': {'regression_model': {'model': 'ElasticNet', 'model_params': {'l1_ratio': 0.5, 'fit_intercept': True, 'selection': 'cyclic', 'max_iter': 1000}}, 'datepart_method': 'simple_poly', 'polynomial_degree': None, 'transform_dict': None, 'holiday_countries_used': True, 'lags': None, 'forward_lags': 2}, 'holiday_params': {'threshold': 0.9, 'splash_threshold': None, 'use_dayofmonth_holidays': True, 'use_wkdom_holidays': True, 'use_wkdeom_holidays': False, 'use_lunar_holidays': False, 'use_lunar_weekday': False, 'use_islamic_holidays': False, 'use_hebrew_holidays': False, 'use_hindu_holidays': False, 'anomaly_detector_params': {'method': 'med_diff', 'method_params': {'distribution': 'laplace', 'alpha': 0.05}, 'fillna': 'ffill', 'transform_dict': {'fillna': None, 'transformations': {'0': 'EWMAFilter'}, 'transformation_params': {'0': {'span': 7}}}, 'isolated_only': False, 'on_inverse': False}, 'remove_excess_anomalies': True, 'impact': 'datepart_regression', 'regression_params': {'regression_model': {'model': 'ElasticNet', 'model_params': {'l1_ratio': 0.5, 'fit_intercept': True, 'selection': 'cyclic', 'max_iter': 1000}}, 'datepart_method': 'simple_poly', 'polynomial_degree': None, 'transform_dict': None, 'holiday_countries_used': True, 'lags': None, 'forward_lags': 2}}, 'trend_method': 'rolling_mean'}, '2': {'method': 'zscore', 'method_params': {'distribution': 'uniform', 'alpha': 0.05}, 'fillna': 'ffill', 'transform_dict': {'transformations': {'0': 'DatepartRegression'}, 'transformation_params': {'0': {'datepart_method': 'simple_3', 'regression_model': {'model': 'ElasticNet', 'model_params': {}}}}}, 'isolated_only': False, 'on_inverse': False}} with error ValueError('more than 1 year of data is required for holiday detection.')\") in model 971 in generation 9: SeasonalityMotif\n",
      "Model Number: 972 with model FFT in generation 9 of 10\n",
      "Model Number: 973 with model ConstantNaive in generation 9 of 10\n",
      "Template Eval Error: Exception(\"Transformer HolidayTransformer failed on fit from params mean {'0': {'threshold': 0.9, 'splash_threshold': None, 'use_dayofmonth_holidays': True, 'use_wkdom_holidays': True, 'use_wkdeom_holidays': False, 'use_lunar_holidays': False, 'use_lunar_weekday': False, 'use_islamic_holidays': False, 'use_hebrew_holidays': False, 'use_hindu_holidays': False, 'anomaly_detector_params': {'method': 'zscore', 'method_params': {'distribution': 'chi2', 'alpha': 0.12}, 'fillna': 'ffill', 'transform_dict': {'fillna': None, 'transformations': {'0': 'ClipOutliers'}, 'transformation_params': {'0': {'method': 'clip', 'std_threshold': 6}}}, 'isolated_only': False, 'on_inverse': False}, 'remove_excess_anomalies': True, 'impact': 'anomaly_score', 'regression_params': {}}, '1': {'lag_1': 12, 'method': 'LastValue'}, '2': {}} with error ValueError('more than 1 year of data is required for holiday detection.')\") in model 973 in generation 9: ConstantNaive\n",
      "Model Number: 974 with model RRVAR in generation 9 of 10\n",
      "Model Number: 975 with model BasicLinearModel in generation 9 of 10\n",
      "Model Number: 976 with model ConstantNaive in generation 9 of 10\n",
      "Model Number: 977 with model AverageValueNaive in generation 9 of 10\n",
      "Model Number: 978 with model AverageValueNaive in generation 9 of 10\n",
      "Model Number: 979 with model AverageValueNaive in generation 9 of 10\n",
      "Model Number: 980 with model SectionalMotif in generation 9 of 10\n",
      "Model Number: 981 with model FFT in generation 9 of 10\n"
     ]
    },
    {
     "name": "stderr",
     "output_type": "stream",
     "text": [
      "/home/zeus/miniconda3/envs/cloudspace/lib/python3.10/site-packages/autots/tools/seasonal.py:896: RuntimeWarning: invalid value encountered in divide\n",
      "  scores = np.mean(np.abs(a - b) / divisor, axis=2)\n",
      "/home/zeus/miniconda3/envs/cloudspace/lib/python3.10/site-packages/autots/tools/seasonal.py:896: RuntimeWarning: invalid value encountered in divide\n",
      "  scores = np.mean(np.abs(a - b) / divisor, axis=2)\n",
      "/home/zeus/miniconda3/envs/cloudspace/lib/python3.10/site-packages/autots/tools/seasonal.py:896: RuntimeWarning: invalid value encountered in divide\n",
      "  scores = np.mean(np.abs(a - b) / divisor, axis=2)\n"
     ]
    },
    {
     "name": "stdout",
     "output_type": "stream",
     "text": [
      "Model Number: 982 with model RRVAR in generation 9 of 10\n",
      "Model Number: 983 with model SeasonalNaive in generation 9 of 10\n",
      "Model Number: 984 with model SectionalMotif in generation 9 of 10\n",
      "Model Number: 985 with model BasicLinearModel in generation 9 of 10\n"
     ]
    },
    {
     "name": "stderr",
     "output_type": "stream",
     "text": [
      "/home/zeus/miniconda3/envs/cloudspace/lib/python3.10/site-packages/autots/tools/seasonal.py:896: RuntimeWarning: invalid value encountered in divide\n",
      "  scores = np.mean(np.abs(a - b) / divisor, axis=2)\n",
      "/home/zeus/miniconda3/envs/cloudspace/lib/python3.10/site-packages/autots/tools/seasonal.py:896: RuntimeWarning: invalid value encountered in divide\n",
      "  scores = np.mean(np.abs(a - b) / divisor, axis=2)\n",
      "/home/zeus/miniconda3/envs/cloudspace/lib/python3.10/site-packages/autots/tools/seasonal.py:896: RuntimeWarning: invalid value encountered in divide\n",
      "  scores = np.mean(np.abs(a - b) / divisor, axis=2)\n"
     ]
    },
    {
     "name": "stdout",
     "output_type": "stream",
     "text": [
      "Model Number: 986 with model SectionalMotif in generation 9 of 10\n",
      "Model Number: 987 with model BasicLinearModel in generation 9 of 10\n",
      "Template Eval Error: Exception(\"Transformer Cointegration failed on fit from params median {'0': {'cutoff': 0.005, 'reverse': False, 'on_transform': True, 'on_inverse': False}, '1': {'det_order': -1, 'k_ar_diff': 1}, '2': {'method': 0.5}} with error ValueError('Coint only works on multivarate series')\") in model 987 in generation 9: BasicLinearModel\n",
      "Model Number: 988 with model SeasonalNaive in generation 9 of 10\n",
      "Model Number: 989 with model ETS in generation 9 of 10\n",
      "Model Number: 990 with model ConstantNaive in generation 9 of 10\n",
      "Model Number: 991 with model ConstantNaive in generation 9 of 10\n",
      "Model Number: 992 with model SeasonalityMotif in generation 9 of 10\n",
      "Model Number: 993 with model UnivariateMotif in generation 9 of 10\n",
      "Model Number: 994 with model SectionalMotif in generation 9 of 10\n",
      "Model Number: 995 with model RRVAR in generation 9 of 10\n"
     ]
    },
    {
     "name": "stderr",
     "output_type": "stream",
     "text": [
      "/home/zeus/miniconda3/envs/cloudspace/lib/python3.10/site-packages/autots/tools/seasonal.py:896: RuntimeWarning: invalid value encountered in divide\n",
      "  scores = np.mean(np.abs(a - b) / divisor, axis=2)\n",
      "/home/zeus/miniconda3/envs/cloudspace/lib/python3.10/site-packages/autots/tools/seasonal.py:896: RuntimeWarning: invalid value encountered in divide\n",
      "  scores = np.mean(np.abs(a - b) / divisor, axis=2)\n",
      "/home/zeus/miniconda3/envs/cloudspace/lib/python3.10/site-packages/autots/tools/seasonal.py:896: RuntimeWarning: invalid value encountered in divide\n",
      "  scores = np.mean(np.abs(a - b) / divisor, axis=2)\n"
     ]
    },
    {
     "name": "stdout",
     "output_type": "stream",
     "text": [
      "New Generation: 10 of 10\n",
      "Model Number: 996 with model AverageValueNaive in generation 10 of 10\n",
      "Model Number: 997 with model SectionalMotif in generation 10 of 10\n",
      "Model Number: 998 with model RRVAR in generation 10 of 10\n",
      "Model Number: 999 with model SectionalMotif in generation 10 of 10\n",
      "Template Eval Error: ValueError(\"regression_type=='User' but no future_regressor supplied\") in model 999 in generation 10: SectionalMotif\n",
      "Model Number: 1000 with model FFT in generation 10 of 10\n",
      "Model Number: 1001 with model RRVAR in generation 10 of 10\n",
      "Model Number: 1002 with model SeasonalNaive in generation 10 of 10\n",
      "Model Number: 1003 with model ARDL in generation 10 of 10\n",
      "Model Number: 1004 with model SectionalMotif in generation 10 of 10\n",
      "Model Number: 1005 with model SeasonalityMotif in generation 10 of 10\n"
     ]
    },
    {
     "name": "stderr",
     "output_type": "stream",
     "text": [
      "/home/zeus/miniconda3/envs/cloudspace/lib/python3.10/site-packages/autots/tools/seasonal.py:896: RuntimeWarning: invalid value encountered in divide\n",
      "  scores = np.mean(np.abs(a - b) / divisor, axis=2)\n",
      "/home/zeus/miniconda3/envs/cloudspace/lib/python3.10/site-packages/autots/tools/seasonal.py:896: RuntimeWarning: invalid value encountered in divide\n",
      "  scores = np.mean(np.abs(a - b) / divisor, axis=2)\n",
      "/home/zeus/miniconda3/envs/cloudspace/lib/python3.10/site-packages/autots/tools/seasonal.py:896: RuntimeWarning: invalid value encountered in divide\n",
      "  scores = np.mean(np.abs(a - b) / divisor, axis=2)\n",
      "/home/zeus/miniconda3/envs/cloudspace/lib/python3.10/site-packages/sklearn/neighbors/_regression.py:500: UserWarning: One or more samples have no neighbors within specified radius; predicting NaN.\n",
      "  warnings.warn(empty_warning_msg)\n",
      "/home/zeus/miniconda3/envs/cloudspace/lib/python3.10/site-packages/sklearn/neighbors/_regression.py:500: UserWarning: One or more samples have no neighbors within specified radius; predicting NaN.\n",
      "  warnings.warn(empty_warning_msg)\n",
      "/home/zeus/miniconda3/envs/cloudspace/lib/python3.10/site-packages/sklearn/neighbors/_regression.py:500: UserWarning: One or more samples have no neighbors within specified radius; predicting NaN.\n",
      "  warnings.warn(empty_warning_msg)\n"
     ]
    },
    {
     "name": "stdout",
     "output_type": "stream",
     "text": [
      "Template Eval Error: ValueError(\"Model returned NaN due to a preprocessing transformer {'fillna': 'fake_date', 'transformations': {'0': 'SeasonalDifference', '1': 'SeasonalDifference', '2': 'ReplaceConstant', '3': 'BKBandpassFilter', '4': 'DatepartRegression'}, 'transformation_params': {'0': {'lag_1': 364, 'method': 'Median'}, '1': {'lag_1': 52, 'method': 'Mean'}, '2': {'constant': 0, 'reintroduction_model': None, 'fillna': 'linear'}, '3': {'low': 6, 'high': 32, 'K': 1, 'lanczos_factor': False, 'return_diff': True, 'on_transform': True, 'on_inverse': False}, '4': {'regression_model': {'model': 'RadiusRegressor', 'model_params': {}}, 'datepart_method': 'simple_binarized', 'polynomial_degree': None, 'transform_dict': None, 'holiday_countries_used': True, 'lags': None, 'forward_lags': None}}}. fail_on_forecast_nan=True\") in model 1005 in generation 10: SeasonalityMotif\n",
      "Model Number: 1006 with model AverageValueNaive in generation 10 of 10\n",
      "Model Number: 1007 with model SectionalMotif in generation 10 of 10\n",
      "Model Number: 1008 with model SeasonalityMotif in generation 10 of 10\n",
      "prediction too long for indepedent=False, falling back on indepedent=True\n",
      "Model Number: 1009 with model AverageValueNaive in generation 10 of 10\n",
      "Model Number: 1010 with model RRVAR in generation 10 of 10\n",
      "Model Number: 1011 with model AverageValueNaive in generation 10 of 10\n",
      "Model Number: 1012 with model SectionalMotif in generation 10 of 10\n",
      "Model Number: 1013 with model GLS in generation 10 of 10\n",
      "Model Number: 1014 with model SeasonalityMotif in generation 10 of 10\n",
      "prediction too long for indepedent=False, falling back on indepedent=True\n",
      "Model Number: 1015 with model ETS in generation 10 of 10\n"
     ]
    },
    {
     "name": "stderr",
     "output_type": "stream",
     "text": [
      "/home/zeus/miniconda3/envs/cloudspace/lib/python3.10/site-packages/sklearn/neighbors/_classification.py:233: DataConversionWarning: A column-vector y was passed when a 1d array was expected. Please change the shape of y to (n_samples,), for example using ravel().\n",
      "  return self._fit(X, y)\n"
     ]
    },
    {
     "name": "stdout",
     "output_type": "stream",
     "text": [
      "Model Number: 1016 with model SectionalMotif in generation 10 of 10\n",
      "Model Number: 1017 with model BasicLinearModel in generation 10 of 10\n",
      "Model Number: 1018 with model BasicLinearModel in generation 10 of 10\n",
      "Model Number: 1019 with model SeasonalNaive in generation 10 of 10\n",
      "Model Number: 1020 with model SectionalMotif in generation 10 of 10\n",
      "Model Number: 1021 with model SectionalMotif in generation 10 of 10\n",
      "Model Number: 1022 with model AverageValueNaive in generation 10 of 10\n"
     ]
    },
    {
     "name": "stderr",
     "output_type": "stream",
     "text": [
      "/home/zeus/miniconda3/envs/cloudspace/lib/python3.10/site-packages/sklearn/neighbors/_classification.py:233: DataConversionWarning: A column-vector y was passed when a 1d array was expected. Please change the shape of y to (n_samples,), for example using ravel().\n",
      "  return self._fit(X, y)\n",
      "/home/zeus/miniconda3/envs/cloudspace/lib/python3.10/site-packages/autots/tools/seasonal.py:896: RuntimeWarning: invalid value encountered in divide\n",
      "  scores = np.mean(np.abs(a - b) / divisor, axis=2)\n",
      "/home/zeus/miniconda3/envs/cloudspace/lib/python3.10/site-packages/autots/tools/seasonal.py:896: RuntimeWarning: invalid value encountered in divide\n",
      "  scores = np.mean(np.abs(a - b) / divisor, axis=2)\n",
      "/home/zeus/miniconda3/envs/cloudspace/lib/python3.10/site-packages/autots/tools/seasonal.py:896: RuntimeWarning: invalid value encountered in divide\n",
      "  scores = np.mean(np.abs(a - b) / divisor, axis=2)\n",
      "/home/zeus/miniconda3/envs/cloudspace/lib/python3.10/site-packages/autots/tools/seasonal.py:896: RuntimeWarning: invalid value encountered in divide\n",
      "  scores = np.mean(np.abs(a - b) / divisor, axis=2)\n",
      "/home/zeus/miniconda3/envs/cloudspace/lib/python3.10/site-packages/autots/tools/seasonal.py:896: RuntimeWarning: invalid value encountered in divide\n",
      "  scores = np.mean(np.abs(a - b) / divisor, axis=2)\n",
      "/home/zeus/miniconda3/envs/cloudspace/lib/python3.10/site-packages/autots/tools/seasonal.py:896: RuntimeWarning: invalid value encountered in divide\n",
      "  scores = np.mean(np.abs(a - b) / divisor, axis=2)\n"
     ]
    },
    {
     "name": "stdout",
     "output_type": "stream",
     "text": [
      "Model Number: 1023 with model SeasonalNaive in generation 10 of 10\n",
      "Model Number: 1024 with model RRVAR in generation 10 of 10\n"
     ]
    },
    {
     "name": "stderr",
     "output_type": "stream",
     "text": [
      "/home/zeus/miniconda3/envs/cloudspace/lib/python3.10/site-packages/sklearn/neighbors/_classification.py:233: DataConversionWarning: A column-vector y was passed when a 1d array was expected. Please change the shape of y to (n_samples,), for example using ravel().\n",
      "  return self._fit(X, y)\n"
     ]
    },
    {
     "name": "stdout",
     "output_type": "stream",
     "text": [
      "Model Number: 1025 with model DatepartRegression in generation 10 of 10\n",
      "Template Eval Error: ValueError(\"regression_type='User' but no future_regressor passed\") in model 1025 in generation 10: DatepartRegression\n",
      "Model Number: 1026 with model SeasonalityMotif in generation 10 of 10\n",
      "prediction too long for indepedent=False, falling back on indepedent=True\n",
      "Model Number: 1027 with model ETS in generation 10 of 10\n",
      "Model Number: 1028 with model ConstantNaive in generation 10 of 10\n",
      "Model Number: 1029 with model DatepartRegression in generation 10 of 10\n",
      "Model Number: 1030 with model GLS in generation 10 of 10\n",
      "Model Number: 1031 with model RRVAR in generation 10 of 10\n",
      "Model Number: 1032 with model FFT in generation 10 of 10\n",
      "Model Number: 1033 with model DatepartRegression in generation 10 of 10\n",
      "Template Eval Error: Exception(\"Transformer HolidayTransformer failed on fit from params pchip {'0': {'method': 'zscore', 'method_params': {'distribution': 'norm', 'alpha': 0.1}, 'fillna': 'ffill', 'transform_dict': {'transformations': {'0': 'DatepartRegression'}, 'transformation_params': {'0': {'datepart_method': 'simple_3', 'regression_model': {'model': 'FastRidge', 'model_params': {}}}}}, 'isolated_only': False, 'on_inverse': False}, '1': {'lag_1': 28, 'method': 5}, '2': {'threshold': 0.9, 'splash_threshold': None, 'use_dayofmonth_holidays': True, 'use_wkdom_holidays': True, 'use_wkdeom_holidays': False, 'use_lunar_holidays': False, 'use_lunar_weekday': False, 'use_islamic_holidays': False, 'use_hebrew_holidays': False, 'use_hindu_holidays': False, 'anomaly_detector_params': {'method': 'zscore', 'method_params': {'distribution': 'norm', 'alpha': 0.03}, 'fillna': 'rolling_mean_24', 'transform_dict': {'transformations': {'0': 'DatepartRegression'}, 'transformation_params': {'0': {'datepart_method': 'simple_3', 'regression_model': {'model': 'ElasticNet', 'model_params': {}}}}}, 'isolated_only': False, 'on_inverse': False}, 'remove_excess_anomalies': True, 'impact': 'anomaly_score', 'regression_params': {}}, '3': {'rows': 1, 'lag': 1, 'method': 'additive', 'strength': 1.0, 'first_value_only': False, 'threshold': 3, 'threshold_method': 'mean'}} with error ValueError('more than 1 year of data is required for holiday detection.')\") in model 1033 in generation 10: DatepartRegression\n",
      "Model Number: 1034 with model SeasonalNaive in generation 10 of 10\n",
      "Model Number: 1035 with model MetricMotif in generation 10 of 10\n",
      "Model Number: 1036 with model SeasonalityMotif in generation 10 of 10\n",
      "Model Number: 1037 with model SeasonalNaive in generation 10 of 10\n"
     ]
    },
    {
     "name": "stderr",
     "output_type": "stream",
     "text": [
      "/home/zeus/miniconda3/envs/cloudspace/lib/python3.10/site-packages/sklearn/linear_model/_ridge.py:200: LinAlgWarning: Ill-conditioned matrix (rcond=8.09705e-25): result may not be accurate.\n",
      "  return linalg.solve(A, Xy, assume_a=\"pos\", overwrite_a=True).T\n"
     ]
    },
    {
     "name": "stdout",
     "output_type": "stream",
     "text": [
      "Model Number: 1038 with model FFT in generation 10 of 10\n",
      "Model Number: 1039 with model AverageValueNaive in generation 10 of 10\n",
      "Model Number: 1040 with model ARDL in generation 10 of 10\n",
      "Model Number: 1041 with model ETS in generation 10 of 10\n",
      "Model Number: 1042 with model MetricMotif in generation 10 of 10\n",
      "Model Number: 1043 with model SeasonalityMotif in generation 10 of 10\n",
      "prediction too long for indepedent=False, falling back on indepedent=True\n",
      "Model Number: 1044 with model FFT in generation 10 of 10\n",
      "Model Number: 1045 with model BasicLinearModel in generation 10 of 10\n",
      "Model Number: 1046 with model SeasonalityMotif in generation 10 of 10\n",
      "prediction too long for indepedent=False, falling back on indepedent=True\n",
      "Model Number: 1047 with model GLS in generation 10 of 10\n",
      "Model Number: 1048 with model ARDL in generation 10 of 10\n",
      "Template Eval Error: ValueError(\"ARDL series 8b26cbbab26d33daba641fae9426d1bd25c1ad8e7abfe187a459512f5a8866e7 failed with error ValueError('The number of regressors (46) including deterministics, lags of the endog, lags of the exogenous, and fixed regressors is larger than the sample available for estimation (7).') exog train             day  weekend      epoch  month_1  month_2  month_3  month_4  \\\\\\ndate                                                                      \\n2023-05-17   17        0  2460081.5      0.0      0.0      0.0      0.0   \\n2023-05-18   18        0  2460082.5      0.0      0.0      0.0      0.0   \\n2023-05-19   19        0  2460083.5      0.0      0.0      0.0      0.0   \\n2023-05-20   20        1  2460084.5      0.0      0.0      0.0      0.0   \\n2023-05-21   21        1  2460085.5      0.0      0.0      0.0      0.0   \\n2023-05-22   22        0  2460086.5      0.0      0.0      0.0      0.0   \\n2023-05-23   23        0  2460087.5      0.0      0.0      0.0      0.0   \\n2023-05-24   24        0  2460088.5      0.0      0.0      0.0      0.0   \\n\\n            month_5  month_6  month_7  ...  month_10  month_11  month_12  \\\\\\ndate                                   ...                                 \\n2023-05-17      1.0      0.0      0.0  ...       0.0       0.0       0.0   \\n2023-05-18      1.0      0.0      0.0  ...       0.0       0.0       0.0   \\n2023-05-19      1.0      0.0      0.0  ...       0.0       0.0       0.0   \\n2023-05-20      1.0      0.0      0.0  ...       0.0       0.0       0.0   \\n2023-05-21      1.0      0.0      0.0  ...       0.0       0.0       0.0   \\n2023-05-22      1.0      0.0      0.0  ...       0.0       0.0       0.0   \\n2023-05-23      1.0      0.0      0.0  ...       0.0       0.0       0.0   \\n2023-05-24      1.0      0.0      0.0  ...       0.0       0.0       0.0   \\n\\n            weekday_0  weekday_1  weekday_2  weekday_3  weekday_4  weekday_5  \\\\\\ndate                                                                           \\n2023-05-17        0.0        0.0        1.0        0.0        0.0        0.0   \\n2023-05-18        0.0        0.0        0.0        1.0        0.0        0.0   \\n2023-05-19        0.0        0.0        0.0        0.0        1.0        0.0   \\n2023-05-20        0.0        0.0        0.0        0.0        0.0        1.0   \\n2023-05-21        0.0        0.0        0.0        0.0        0.0        0.0   \\n2023-05-22        1.0        0.0        0.0        0.0        0.0        0.0   \\n2023-05-23        0.0        1.0        0.0        0.0        0.0        0.0   \\n2023-05-24        0.0        0.0        1.0        0.0        0.0        0.0   \\n\\n            weekday_6  \\ndate                   \\n2023-05-17        0.0  \\n2023-05-18        0.0  \\n2023-05-19        0.0  \\n2023-05-20        0.0  \\n2023-05-21        1.0  \\n2023-05-22        0.0  \\n2023-05-23        0.0  \\n2023-05-24        0.0  \\n\\n[8 rows x 22 columns] and predict             day  weekend      epoch  month_1  month_2  month_3  month_4  \\\\\\n2023-05-25   25        0  2460089.5      0.0      0.0      0.0      0.0   \\n2023-05-26   26        0  2460090.5      0.0      0.0      0.0      0.0   \\n2023-05-27   27        1  2460091.5      0.0      0.0      0.0      0.0   \\n2023-05-28   28        1  2460092.5      0.0      0.0      0.0      0.0   \\n2023-05-29   29        0  2460093.5      0.0      0.0      0.0      0.0   \\n...         ...      ...        ...      ...      ...      ...      ...   \\n2023-07-31   31        0  2460156.5      0.0      0.0      0.0      0.0   \\n2023-08-01    1        0  2460157.5      0.0      0.0      0.0      0.0   \\n2023-08-02    2        0  2460158.5      0.0      0.0      0.0      0.0   \\n2023-08-03    3        0  2460159.5      0.0      0.0      0.0      0.0   \\n2023-08-04    4        0  2460160.5      0.0      0.0      0.0      0.0   \\n\\n            month_5  month_6  month_7  ...  month_10  month_11  month_12  \\\\\\n2023-05-25      1.0      0.0      0.0  ...       0.0       0.0       0.0   \\n2023-05-26      1.0      0.0      0.0  ...       0.0       0.0       0.0   \\n2023-05-27      1.0      0.0      0.0  ...       0.0       0.0       0.0   \\n2023-05-28      1.0      0.0      0.0  ...       0.0       0.0       0.0   \\n2023-05-29      1.0      0.0      0.0  ...       0.0       0.0       0.0   \\n...             ...      ...      ...  ...       ...       ...       ...   \\n2023-07-31      0.0      0.0      1.0  ...       0.0       0.0       0.0   \\n2023-08-01      0.0      0.0      0.0  ...       0.0       0.0       0.0   \\n2023-08-02      0.0      0.0      0.0  ...       0.0       0.0       0.0   \\n2023-08-03      0.0      0.0      0.0  ...       0.0       0.0       0.0   \\n2023-08-04      0.0      0.0      0.0  ...       0.0       0.0       0.0   \\n\\n            weekday_0  weekday_1  weekday_2  weekday_3  weekday_4  weekday_5  \\\\\\n2023-05-25        0.0        0.0        0.0        1.0        0.0        0.0   \\n2023-05-26        0.0        0.0        0.0        0.0        1.0        0.0   \\n2023-05-27        0.0        0.0        0.0        0.0        0.0        1.0   \\n2023-05-28        0.0        0.0        0.0        0.0        0.0        0.0   \\n2023-05-29        1.0        0.0        0.0        0.0        0.0        0.0   \\n...               ...        ...        ...        ...        ...        ...   \\n2023-07-31        1.0        0.0        0.0        0.0        0.0        0.0   \\n2023-08-01        0.0        1.0        0.0        0.0        0.0        0.0   \\n2023-08-02        0.0        0.0        1.0        0.0        0.0        0.0   \\n2023-08-03        0.0        0.0        0.0        1.0        0.0        0.0   \\n2023-08-04        0.0        0.0        0.0        0.0        1.0        0.0   \\n\\n            weekday_6  \\n2023-05-25        0.0  \\n2023-05-26        0.0  \\n2023-05-27        0.0  \\n2023-05-28        1.0  \\n2023-05-29        0.0  \\n...               ...  \\n2023-07-31        0.0  \\n2023-08-01        0.0  \\n2023-08-02        0.0  \\n2023-08-03        0.0  \\n2023-08-04        0.0  \\n\\n[72 rows x 22 columns]\") in model 1048 in generation 10: ARDL\n",
      "Model Number: 1049 with model DatepartRegression in generation 10 of 10\n",
      "Template Eval Error: ValueError(\"regression_type='User' but no future_regressor passed\") in model 1049 in generation 10: DatepartRegression\n",
      "Model Number: 1050 with model SeasonalNaive in generation 10 of 10\n",
      "Model Number: 1051 with model AverageValueNaive in generation 10 of 10\n",
      "Template Eval Error: Exception(\"Transformer BTCD failed on fit from params ffill {'0': {'method': 'hilbert', 'method_args': None}, '1': {'regression_model': {'model': 'LinearRegression', 'model_params': {}}, 'max_lags': 1}, '2': {'method': 0.2}} with error ValueError('BTCD only works on multivarate series')\") in model 1051 in generation 10: AverageValueNaive\n",
      "Model Number: 1052 with model ETS in generation 10 of 10\n",
      "Model Number: 1053 with model DatepartRegression in generation 10 of 10\n",
      "Model Number: 1054 with model MetricMotif in generation 10 of 10\n",
      "Model Number: 1055 with model DatepartRegression in generation 10 of 10\n",
      "Model Number: 1056 with model SeasonalityMotif in generation 10 of 10\n"
     ]
    },
    {
     "name": "stderr",
     "output_type": "stream",
     "text": [
      "/home/zeus/miniconda3/envs/cloudspace/lib/python3.10/site-packages/sklearn/neighbors/_regression.py:500: UserWarning: One or more samples have no neighbors within specified radius; predicting NaN.\n",
      "  warnings.warn(empty_warning_msg)\n",
      "/home/zeus/miniconda3/envs/cloudspace/lib/python3.10/site-packages/sklearn/neighbors/_regression.py:500: UserWarning: One or more samples have no neighbors within specified radius; predicting NaN.\n",
      "  warnings.warn(empty_warning_msg)\n"
     ]
    },
    {
     "name": "stdout",
     "output_type": "stream",
     "text": [
      "Template Eval Error: ValueError(\"Model returned NaN due to a preprocessing transformer {'fillna': 'rolling_mean', 'transformations': {'0': 'DifferencedTransformer', '1': 'SeasonalDifference', '2': 'ReplaceConstant', '3': 'DatepartRegression'}, 'transformation_params': {'0': {'lag': 1, 'fill': 'bfill'}, '1': {'lag_1': 52, 'method': 'Mean'}, '2': {'constant': 0, 'reintroduction_model': None, 'fillna': 'linear'}, '3': {'regression_model': {'model': 'RadiusRegressor', 'model_params': {}}, 'datepart_method': 'simple_binarized', 'polynomial_degree': None, 'transform_dict': None, 'holiday_countries_used': True, 'lags': None, 'forward_lags': None}}}. fail_on_forecast_nan=True\") in model 1056 in generation 10: SeasonalityMotif\n",
      "Model Number: 1057 with model DatepartRegression in generation 10 of 10\n"
     ]
    },
    {
     "name": "stderr",
     "output_type": "stream",
     "text": [
      "/home/zeus/miniconda3/envs/cloudspace/lib/python3.10/site-packages/sklearn/neighbors/_regression.py:500: UserWarning: One or more samples have no neighbors within specified radius; predicting NaN.\n",
      "  warnings.warn(empty_warning_msg)\n"
     ]
    },
    {
     "name": "stdout",
     "output_type": "stream",
     "text": [
      "Model Number: 1058 with model FFT in generation 10 of 10\n",
      "Model Number: 1059 with model Ensemble in generation 11 of Ensembles\n",
      "Model Number: 1073 with model Ensemble in generation 11 of Ensembles\n",
      "Model Number: 1087 with model Ensemble in generation 11 of Ensembles\n",
      "Model Number: 1101 with model Ensemble in generation 11 of Ensembles\n"
     ]
    },
    {
     "name": "stderr",
     "output_type": "stream",
     "text": [
      "/home/zeus/miniconda3/envs/cloudspace/lib/python3.10/site-packages/sklearn/linear_model/_coordinate_descent.py:628: ConvergenceWarning: Objective did not converge. You might want to increase the number of iterations, check the scale of the features or consider increasing regularisation. Duality gap: 4.691e+02, tolerance: 1.719e+00\n",
      "  model = cd_fast.enet_coordinate_descent(\n"
     ]
    },
    {
     "name": "stdout",
     "output_type": "stream",
     "text": [
      "Model Number: 1115 with model Ensemble in generation 11 of Ensembles\n"
     ]
    },
    {
     "name": "stderr",
     "output_type": "stream",
     "text": [
      "/home/zeus/miniconda3/envs/cloudspace/lib/python3.10/site-packages/sklearn/linear_model/_coordinate_descent.py:628: ConvergenceWarning: Objective did not converge. You might want to increase the number of iterations, check the scale of the features or consider increasing regularisation. Duality gap: 1.452e+04, tolerance: 2.076e+01\n",
      "  model = cd_fast.enet_coordinate_descent(\n"
     ]
    },
    {
     "name": "stdout",
     "output_type": "stream",
     "text": [
      "Model Number: 1129 with model Ensemble in generation 11 of Ensembles\n"
     ]
    },
    {
     "name": "stderr",
     "output_type": "stream",
     "text": [
      "/home/zeus/miniconda3/envs/cloudspace/lib/python3.10/site-packages/sklearn/linear_model/_coordinate_descent.py:628: ConvergenceWarning: Objective did not converge. You might want to increase the number of iterations, check the scale of the features or consider increasing regularisation. Duality gap: 1.452e+04, tolerance: 2.076e+01\n",
      "  model = cd_fast.enet_coordinate_descent(\n",
      "/home/zeus/miniconda3/envs/cloudspace/lib/python3.10/site-packages/autots/tools/seasonal.py:896: RuntimeWarning: invalid value encountered in divide\n",
      "  scores = np.mean(np.abs(a - b) / divisor, axis=2)\n",
      "/home/zeus/miniconda3/envs/cloudspace/lib/python3.10/site-packages/autots/tools/seasonal.py:896: RuntimeWarning: invalid value encountered in divide\n",
      "  scores = np.mean(np.abs(a - b) / divisor, axis=2)\n",
      "/home/zeus/miniconda3/envs/cloudspace/lib/python3.10/site-packages/autots/tools/seasonal.py:896: RuntimeWarning: invalid value encountered in divide\n",
      "  scores = np.mean(np.abs(a - b) / divisor, axis=2)\n"
     ]
    },
    {
     "name": "stdout",
     "output_type": "stream",
     "text": [
      "Model Number: 1143 with model Ensemble in generation 11 of Ensembles\n"
     ]
    },
    {
     "name": "stderr",
     "output_type": "stream",
     "text": [
      "/home/zeus/miniconda3/envs/cloudspace/lib/python3.10/site-packages/sklearn/linear_model/_coordinate_descent.py:628: ConvergenceWarning: Objective did not converge. You might want to increase the number of iterations, check the scale of the features or consider increasing regularisation. Duality gap: 1.452e+04, tolerance: 2.076e+01\n",
      "  model = cd_fast.enet_coordinate_descent(\n",
      "/home/zeus/miniconda3/envs/cloudspace/lib/python3.10/site-packages/autots/tools/seasonal.py:896: RuntimeWarning: invalid value encountered in divide\n",
      "  scores = np.mean(np.abs(a - b) / divisor, axis=2)\n",
      "/home/zeus/miniconda3/envs/cloudspace/lib/python3.10/site-packages/autots/tools/seasonal.py:896: RuntimeWarning: invalid value encountered in divide\n",
      "  scores = np.mean(np.abs(a - b) / divisor, axis=2)\n",
      "/home/zeus/miniconda3/envs/cloudspace/lib/python3.10/site-packages/autots/tools/seasonal.py:896: RuntimeWarning: invalid value encountered in divide\n",
      "  scores = np.mean(np.abs(a - b) / divisor, axis=2)\n"
     ]
    },
    {
     "name": "stdout",
     "output_type": "stream",
     "text": [
      "Model Number: 1157 with model Ensemble in generation 11 of Ensembles\n"
     ]
    },
    {
     "name": "stderr",
     "output_type": "stream",
     "text": [
      "/home/zeus/miniconda3/envs/cloudspace/lib/python3.10/site-packages/sklearn/linear_model/_coordinate_descent.py:628: ConvergenceWarning: Objective did not converge. You might want to increase the number of iterations, check the scale of the features or consider increasing regularisation. Duality gap: 1.452e+04, tolerance: 2.076e+01\n",
      "  model = cd_fast.enet_coordinate_descent(\n",
      "/home/zeus/miniconda3/envs/cloudspace/lib/python3.10/site-packages/autots/tools/seasonal.py:896: RuntimeWarning: invalid value encountered in divide\n",
      "  scores = np.mean(np.abs(a - b) / divisor, axis=2)\n",
      "/home/zeus/miniconda3/envs/cloudspace/lib/python3.10/site-packages/autots/tools/seasonal.py:896: RuntimeWarning: invalid value encountered in divide\n",
      "  scores = np.mean(np.abs(a - b) / divisor, axis=2)\n",
      "/home/zeus/miniconda3/envs/cloudspace/lib/python3.10/site-packages/autots/tools/seasonal.py:896: RuntimeWarning: invalid value encountered in divide\n",
      "  scores = np.mean(np.abs(a - b) / divisor, axis=2)\n"
     ]
    },
    {
     "name": "stdout",
     "output_type": "stream",
     "text": [
      "Validation Round: 1\n",
      "Model Number: 1 of 176 with model Ensemble for Validation 1\n"
     ]
    },
    {
     "name": "stderr",
     "output_type": "stream",
     "text": [
      "/home/zeus/miniconda3/envs/cloudspace/lib/python3.10/site-packages/sklearn/linear_model/_coordinate_descent.py:628: ConvergenceWarning: Objective did not converge. You might want to increase the number of iterations, check the scale of the features or consider increasing regularisation. Duality gap: 9.008e+03, tolerance: 2.349e+02\n",
      "  model = cd_fast.enet_coordinate_descent(\n"
     ]
    },
    {
     "name": "stdout",
     "output_type": "stream",
     "text": [
      "📈 1 - Ensemble with avg smape 11.12: \n",
      "2 - Ensemble with avg smape 11.12: \n",
      "📈 3 - Ensemble with avg smape 10.97: \n",
      "4 - Ensemble with avg smape 11.1: \n",
      "5 - Ensemble with avg smape 11.19: \n",
      "6 - Ensemble with avg smape 11.34: \n",
      "7 - Ensemble with avg smape 11.07: \n",
      "8 - Ensemble with avg smape 11.07: \n",
      "9 - Ensemble with avg smape 11.12: \n",
      "10 - Ensemble with avg smape 11.14: \n",
      "11 - Ensemble with avg smape 11.02: \n",
      "12 - Ensemble with avg smape 11.1: \n",
      "13 - Ensemble with avg smape 18.7: \n",
      "📈 14 - Ensemble with avg smape 10.71: \n",
      "Model Number: 15 of 176 with model Ensemble for Validation 1\n"
     ]
    },
    {
     "name": "stderr",
     "output_type": "stream",
     "text": [
      "/home/zeus/miniconda3/envs/cloudspace/lib/python3.10/site-packages/autots/tools/seasonal.py:896: RuntimeWarning: invalid value encountered in divide\n",
      "  scores = np.mean(np.abs(a - b) / divisor, axis=2)\n",
      "/home/zeus/miniconda3/envs/cloudspace/lib/python3.10/site-packages/autots/tools/seasonal.py:896: RuntimeWarning: invalid value encountered in divide\n",
      "  scores = np.mean(np.abs(a - b) / divisor, axis=2)\n",
      "/home/zeus/miniconda3/envs/cloudspace/lib/python3.10/site-packages/autots/tools/seasonal.py:896: RuntimeWarning: invalid value encountered in divide\n",
      "  scores = np.mean(np.abs(a - b) / divisor, axis=2)\n",
      "/home/zeus/miniconda3/envs/cloudspace/lib/python3.10/site-packages/sklearn/linear_model/_coordinate_descent.py:628: ConvergenceWarning: Objective did not converge. You might want to increase the number of iterations, check the scale of the features or consider increasing regularisation. Duality gap: 7.608e+03, tolerance: 4.570e+01\n",
      "  model = cd_fast.enet_coordinate_descent(\n"
     ]
    },
    {
     "name": "stdout",
     "output_type": "stream",
     "text": [
      "📈 15 - Ensemble with avg smape 10.48: \n",
      "16 - Ensemble with avg smape 10.48: \n",
      "17 - Ensemble with avg smape 10.63: \n",
      "18 - Ensemble with avg smape 10.55: \n",
      "19 - Ensemble with avg smape 11.19: \n",
      "20 - Ensemble with avg smape 11.34: \n",
      "21 - Ensemble with avg smape 11.07: \n",
      "22 - Ensemble with avg smape 11.07: \n",
      "23 - Ensemble with avg smape 10.48: \n",
      "24 - Ensemble with avg smape 11.14: \n",
      "25 - Ensemble with avg smape 10.57: \n",
      "26 - Ensemble with avg smape 10.5: \n",
      "27 - Ensemble with avg smape 18.14: \n",
      "📈 28 - Ensemble with avg smape 10.37: \n",
      "Model Number: 29 of 176 with model Ensemble for Validation 1\n",
      "SectionalMotif using fallout\n"
     ]
    },
    {
     "name": "stderr",
     "output_type": "stream",
     "text": [
      "/home/zeus/miniconda3/envs/cloudspace/lib/python3.10/site-packages/sklearn/linear_model/_coordinate_descent.py:628: ConvergenceWarning: Objective did not converge. You might want to increase the number of iterations, check the scale of the features or consider increasing regularisation. Duality gap: 9.008e+03, tolerance: 2.349e+02\n",
      "  model = cd_fast.enet_coordinate_descent(\n",
      "/home/zeus/miniconda3/envs/cloudspace/lib/python3.10/site-packages/autots/tools/seasonal.py:896: RuntimeWarning: invalid value encountered in divide\n",
      "  scores = np.mean(np.abs(a - b) / divisor, axis=2)\n",
      "/home/zeus/miniconda3/envs/cloudspace/lib/python3.10/site-packages/autots/tools/seasonal.py:896: RuntimeWarning: invalid value encountered in divide\n",
      "  scores = np.mean(np.abs(a - b) / divisor, axis=2)\n",
      "/home/zeus/miniconda3/envs/cloudspace/lib/python3.10/site-packages/autots/tools/seasonal.py:896: RuntimeWarning: invalid value encountered in divide\n",
      "  scores = np.mean(np.abs(a - b) / divisor, axis=2)\n"
     ]
    },
    {
     "name": "stdout",
     "output_type": "stream",
     "text": [
      "29 - Ensemble with avg smape 10.73: \n",
      "30 - Ensemble with avg smape 10.73: \n",
      "31 - Ensemble with avg smape 10.64: \n",
      "32 - Ensemble with avg smape 10.7: \n",
      "33 - Ensemble with avg smape 11.19: \n",
      "34 - Ensemble with avg smape 11.34: \n",
      "35 - Ensemble with avg smape 11.07: \n",
      "36 - Ensemble with avg smape 11.07: \n",
      "37 - Ensemble with avg smape 10.73: \n",
      "38 - Ensemble with avg smape 11.14: \n",
      "39 - Ensemble with avg smape 10.66: \n",
      "40 - Ensemble with avg smape 10.71: \n",
      "41 - Ensemble with avg smape 18.5: \n",
      "42 - Ensemble with avg smape 10.54: \n",
      "Model Number: 43 of 176 with model Ensemble for Validation 1\n",
      "SectionalMotif using fallout\n"
     ]
    },
    {
     "name": "stderr",
     "output_type": "stream",
     "text": [
      "/home/zeus/miniconda3/envs/cloudspace/lib/python3.10/site-packages/sklearn/linear_model/_coordinate_descent.py:628: ConvergenceWarning: Objective did not converge. You might want to increase the number of iterations, check the scale of the features or consider increasing regularisation. Duality gap: 9.008e+03, tolerance: 2.349e+02\n",
      "  model = cd_fast.enet_coordinate_descent(\n",
      "/home/zeus/miniconda3/envs/cloudspace/lib/python3.10/site-packages/autots/tools/seasonal.py:896: RuntimeWarning: invalid value encountered in divide\n",
      "  scores = np.mean(np.abs(a - b) / divisor, axis=2)\n",
      "/home/zeus/miniconda3/envs/cloudspace/lib/python3.10/site-packages/autots/tools/seasonal.py:896: RuntimeWarning: invalid value encountered in divide\n",
      "  scores = np.mean(np.abs(a - b) / divisor, axis=2)\n",
      "/home/zeus/miniconda3/envs/cloudspace/lib/python3.10/site-packages/autots/tools/seasonal.py:896: RuntimeWarning: invalid value encountered in divide\n",
      "  scores = np.mean(np.abs(a - b) / divisor, axis=2)\n"
     ]
    },
    {
     "name": "stdout",
     "output_type": "stream",
     "text": [
      "43 - Ensemble with avg smape 10.75: \n",
      "44 - Ensemble with avg smape 10.75: \n",
      "45 - Ensemble with avg smape 10.61: \n",
      "46 - Ensemble with avg smape 10.74: \n",
      "47 - Ensemble with avg smape 11.19: \n",
      "48 - Ensemble with avg smape 11.34: \n",
      "49 - Ensemble with avg smape 11.07: \n",
      "50 - Ensemble with avg smape 11.07: \n",
      "51 - Ensemble with avg smape 10.75: \n",
      "52 - Ensemble with avg smape 11.14: \n",
      "53 - Ensemble with avg smape 10.65: \n",
      "54 - Ensemble with avg smape 10.73: \n",
      "55 - Ensemble with avg smape 18.51: \n",
      "56 - Ensemble with avg smape 10.54: \n",
      "Model Number: 57 of 176 with model Ensemble for Validation 1\n",
      "SectionalMotif using fallout\n"
     ]
    },
    {
     "name": "stderr",
     "output_type": "stream",
     "text": [
      "/home/zeus/miniconda3/envs/cloudspace/lib/python3.10/site-packages/sklearn/linear_model/_coordinate_descent.py:628: ConvergenceWarning: Objective did not converge. You might want to increase the number of iterations, check the scale of the features or consider increasing regularisation. Duality gap: 9.008e+03, tolerance: 2.349e+02\n",
      "  model = cd_fast.enet_coordinate_descent(\n",
      "/home/zeus/miniconda3/envs/cloudspace/lib/python3.10/site-packages/autots/tools/seasonal.py:896: RuntimeWarning: invalid value encountered in divide\n",
      "  scores = np.mean(np.abs(a - b) / divisor, axis=2)\n",
      "/home/zeus/miniconda3/envs/cloudspace/lib/python3.10/site-packages/autots/tools/seasonal.py:896: RuntimeWarning: invalid value encountered in divide\n",
      "  scores = np.mean(np.abs(a - b) / divisor, axis=2)\n",
      "/home/zeus/miniconda3/envs/cloudspace/lib/python3.10/site-packages/autots/tools/seasonal.py:896: RuntimeWarning: invalid value encountered in divide\n",
      "  scores = np.mean(np.abs(a - b) / divisor, axis=2)\n"
     ]
    },
    {
     "name": "stdout",
     "output_type": "stream",
     "text": [
      "57 - Ensemble with avg smape 10.79: \n",
      "58 - Ensemble with avg smape 10.79: \n",
      "59 - Ensemble with avg smape 10.65: \n",
      "60 - Ensemble with avg smape 10.78: \n",
      "61 - Ensemble with avg smape 11.19: \n",
      "62 - Ensemble with avg smape 11.34: \n",
      "63 - Ensemble with avg smape 11.07: \n",
      "64 - Ensemble with avg smape 11.07: \n",
      "65 - Ensemble with avg smape 10.79: \n",
      "66 - Ensemble with avg smape 11.14: \n",
      "67 - Ensemble with avg smape 10.69: \n",
      "68 - Ensemble with avg smape 10.76: \n",
      "69 - Ensemble with avg smape 18.53: \n",
      "70 - Ensemble with avg smape 10.56: \n",
      "Model Number: 71 of 176 with model Ensemble for Validation 1\n",
      "71 - Ensemble with avg smape 11.26: \n",
      "72 - Ensemble with avg smape 11.26: \n",
      "73 - Ensemble with avg smape 11.14: \n",
      "74 - Ensemble with avg smape 11.22: \n",
      "75 - Ensemble with avg smape 11.19: \n",
      "76 - Ensemble with avg smape 11.34: \n",
      "77 - Ensemble with avg smape 11.07: \n",
      "78 - Ensemble with avg smape 11.07: \n",
      "79 - Ensemble with avg smape 11.26: \n",
      "80 - Ensemble with avg smape 11.14: \n",
      "81 - Ensemble with avg smape 11.17: \n",
      "82 - Ensemble with avg smape 11.23: \n",
      "83 - Ensemble with avg smape 18.77: \n",
      "84 - Ensemble with avg smape 10.79: \n",
      "Model Number: 85 of 176 with model Ensemble for Validation 1\n",
      "85 - Ensemble with avg smape 11.26: \n",
      "86 - Ensemble with avg smape 11.26: \n",
      "87 - Ensemble with avg smape 11.14: \n",
      "88 - Ensemble with avg smape 11.22: \n",
      "89 - Ensemble with avg smape 11.19: \n",
      "90 - Ensemble with avg smape 11.34: \n",
      "91 - Ensemble with avg smape 11.07: \n",
      "92 - Ensemble with avg smape 11.07: \n",
      "93 - Ensemble with avg smape 11.26: \n",
      "94 - Ensemble with avg smape 11.14: \n",
      "95 - Ensemble with avg smape 11.17: \n",
      "96 - Ensemble with avg smape 11.23: \n",
      "97 - Ensemble with avg smape 18.77: \n",
      "98 - Ensemble with avg smape 10.79: \n",
      "Model Number: 99 of 176 with model Ensemble for Validation 1\n",
      "99 - Ensemble with avg smape 11.26: \n",
      "100 - Ensemble with avg smape 11.26: \n",
      "101 - Ensemble with avg smape 11.14: \n",
      "102 - Ensemble with avg smape 11.22: \n",
      "103 - Ensemble with avg smape 11.19: \n",
      "104 - Ensemble with avg smape 11.34: \n",
      "105 - Ensemble with avg smape 11.07: \n",
      "106 - Ensemble with avg smape 11.07: \n",
      "107 - Ensemble with avg smape 11.26: \n",
      "108 - Ensemble with avg smape 11.14: \n",
      "109 - Ensemble with avg smape 11.17: \n",
      "110 - Ensemble with avg smape 11.23: \n",
      "111 - Ensemble with avg smape 18.77: \n",
      "112 - Ensemble with avg smape 10.79: \n",
      "Model Number: 113 of 176 with model Ensemble for Validation 1\n",
      "113 - Ensemble with avg smape 11.26: \n",
      "114 - Ensemble with avg smape 11.26: \n",
      "115 - Ensemble with avg smape 11.14: \n",
      "116 - Ensemble with avg smape 11.22: \n",
      "117 - Ensemble with avg smape 11.19: \n",
      "118 - Ensemble with avg smape 11.34: \n",
      "119 - Ensemble with avg smape 11.07: \n",
      "120 - Ensemble with avg smape 11.07: \n",
      "121 - Ensemble with avg smape 11.26: \n",
      "122 - Ensemble with avg smape 11.14: \n",
      "123 - Ensemble with avg smape 11.17: \n",
      "124 - Ensemble with avg smape 11.23: \n",
      "125 - Ensemble with avg smape 18.77: \n",
      "126 - Ensemble with avg smape 10.79: \n",
      "Model Number: 127 of 176 with model RRVAR for Validation 1\n",
      "127 - RRVAR with avg smape 11.26: \n",
      "Model Number: 128 of 176 with model RRVAR for Validation 1\n",
      "128 - RRVAR with avg smape 11.26: \n",
      "Model Number: 129 of 176 with model Ensemble for Validation 1\n",
      "129 - Ensemble with avg smape 11.26: \n",
      "130 - Ensemble with avg smape 11.26: \n",
      "131 - Ensemble with avg smape 11.14: \n",
      "132 - Ensemble with avg smape 11.22: \n",
      "133 - Ensemble with avg smape 11.19: \n",
      "134 - Ensemble with avg smape 11.34: \n",
      "135 - Ensemble with avg smape 11.07: \n",
      "136 - Ensemble with avg smape 11.07: \n",
      "137 - Ensemble with avg smape 11.26: \n",
      "138 - Ensemble with avg smape 11.14: \n",
      "139 - Ensemble with avg smape 11.17: \n",
      "140 - Ensemble with avg smape 11.23: \n",
      "141 - Ensemble with avg smape 18.77: \n",
      "142 - Ensemble with avg smape 10.79: \n",
      "Model Number: 143 of 176 with model RRVAR for Validation 1\n",
      "143 - RRVAR with avg smape 11.26: \n",
      "Model Number: 144 of 176 with model RRVAR for Validation 1\n",
      "144 - RRVAR with avg smape 11.76: \n",
      "Model Number: 145 of 176 with model RRVAR for Validation 1\n",
      "145 - RRVAR with avg smape 11.76: \n",
      "Model Number: 146 of 176 with model RRVAR for Validation 1\n",
      "146 - RRVAR with avg smape 11.76: \n",
      "Model Number: 147 of 176 with model RRVAR for Validation 1\n",
      "147 - RRVAR with avg smape 11.76: \n",
      "Model Number: 148 of 176 with model DatepartRegression for Validation 1\n",
      "148 - DatepartRegression with avg smape 11.86: \n",
      "Model Number: 149 of 176 with model GLS for Validation 1\n",
      "149 - GLS with avg smape 10.37: \n"
     ]
    },
    {
     "name": "stderr",
     "output_type": "stream",
     "text": [
      "/home/zeus/miniconda3/envs/cloudspace/lib/python3.10/site-packages/sklearn/linear_model/_coordinate_descent.py:628: ConvergenceWarning: Objective did not converge. You might want to increase the number of iterations, check the scale of the features or consider increasing regularisation. Duality gap: 9.008e+03, tolerance: 2.349e+02\n",
      "  model = cd_fast.enet_coordinate_descent(\n"
     ]
    },
    {
     "name": "stdout",
     "output_type": "stream",
     "text": [
      "Model Number: 150 of 176 with model GLS for Validation 1\n",
      "150 - GLS with avg smape 10.37: \n",
      "Model Number: 151 of 176 with model GLS for Validation 1\n",
      "151 - GLS with avg smape 10.37: \n",
      "Model Number: 152 of 176 with model SectionalMotif for Validation 1\n",
      "SectionalMotif using fallout\n",
      "152 - SectionalMotif with avg smape 10.37: \n",
      "Model Number: 153 of 176 with model DatepartRegression for Validation 1\n",
      "153 - DatepartRegression with avg smape 10.45: \n",
      "Model Number: 154 of 176 with model DatepartRegression for Validation 1\n"
     ]
    },
    {
     "name": "stderr",
     "output_type": "stream",
     "text": [
      "/home/zeus/miniconda3/envs/cloudspace/lib/python3.10/site-packages/autots/tools/seasonal.py:896: RuntimeWarning: invalid value encountered in divide\n",
      "  scores = np.mean(np.abs(a - b) / divisor, axis=2)\n",
      "/home/zeus/miniconda3/envs/cloudspace/lib/python3.10/site-packages/autots/tools/seasonal.py:896: RuntimeWarning: invalid value encountered in divide\n",
      "  scores = np.mean(np.abs(a - b) / divisor, axis=2)\n",
      "/home/zeus/miniconda3/envs/cloudspace/lib/python3.10/site-packages/autots/tools/seasonal.py:896: RuntimeWarning: invalid value encountered in divide\n",
      "  scores = np.mean(np.abs(a - b) / divisor, axis=2)\n",
      "/home/zeus/miniconda3/envs/cloudspace/lib/python3.10/site-packages/sklearn/linear_model/_coordinate_descent.py:628: ConvergenceWarning: Objective did not converge. You might want to increase the number of iterations, check the scale of the features or consider increasing regularisation. Duality gap: 2.663e+02, tolerance: 1.659e+02\n",
      "  model = cd_fast.enet_coordinate_descent(\n",
      "/home/zeus/miniconda3/envs/cloudspace/lib/python3.10/site-packages/sklearn/linear_model/_coordinate_descent.py:628: ConvergenceWarning: Objective did not converge. You might want to increase the number of iterations, check the scale of the features or consider increasing regularisation. Duality gap: 2.663e+02, tolerance: 1.659e+02\n",
      "  model = cd_fast.enet_coordinate_descent(\n"
     ]
    },
    {
     "name": "stdout",
     "output_type": "stream",
     "text": [
      "154 - DatepartRegression with avg smape 10.45: \n",
      "Model Number: 155 of 176 with model SeasonalNaive for Validation 1\n",
      "155 - SeasonalNaive with avg smape 10.37: \n",
      "Model Number: 156 of 176 with model SeasonalityMotif for Validation 1\n",
      "prediction too long for indepedent=False, falling back on indepedent=True\n",
      "156 - SeasonalityMotif with avg smape 10.37: \n",
      "Model Number: 157 of 176 with model DatepartRegression for Validation 1\n",
      "157 - DatepartRegression with avg smape 10.38: \n",
      "Model Number: 158 of 176 with model AverageValueNaive for Validation 1\n",
      "158 - AverageValueNaive with avg smape 10.37: \n",
      "Model Number: 159 of 176 with model SectionalMotif for Validation 1\n",
      "SectionalMotif using fallout\n",
      "159 - SectionalMotif with avg smape 10.38: \n",
      "Model Number: 160 of 176 with model DatepartRegression for Validation 1\n"
     ]
    },
    {
     "name": "stderr",
     "output_type": "stream",
     "text": [
      "/home/zeus/miniconda3/envs/cloudspace/lib/python3.10/site-packages/sklearn/linear_model/_coordinate_descent.py:628: ConvergenceWarning: Objective did not converge. You might want to increase the number of iterations, check the scale of the features or consider increasing regularisation. Duality gap: 2.640e+02, tolerance: 3.308e+00\n",
      "  model = cd_fast.enet_coordinate_descent(\n",
      "/home/zeus/miniconda3/envs/cloudspace/lib/python3.10/site-packages/autots/tools/seasonal.py:896: RuntimeWarning: invalid value encountered in divide\n",
      "  scores = np.mean(np.abs(a - b) / divisor, axis=2)\n",
      "/home/zeus/miniconda3/envs/cloudspace/lib/python3.10/site-packages/autots/tools/seasonal.py:896: RuntimeWarning: invalid value encountered in divide\n",
      "  scores = np.mean(np.abs(a - b) / divisor, axis=2)\n",
      "/home/zeus/miniconda3/envs/cloudspace/lib/python3.10/site-packages/autots/tools/seasonal.py:896: RuntimeWarning: invalid value encountered in divide\n",
      "  scores = np.mean(np.abs(a - b) / divisor, axis=2)\n"
     ]
    },
    {
     "name": "stdout",
     "output_type": "stream",
     "text": [
      "160 - DatepartRegression with avg smape 10.55: \n",
      "Model Number: 161 of 176 with model AverageValueNaive for Validation 1\n",
      "161 - AverageValueNaive with avg smape 10.71: \n",
      "Model Number: 162 of 176 with model SectionalMotif for Validation 1\n",
      "162 - SectionalMotif with avg smape 10.41: \n",
      "Model Number: 163 of 176 with model FFT for Validation 1\n",
      "📈 163 - FFT with avg smape 10.36: \n",
      "Model Number: 164 of 176 with model FFT for Validation 1\n",
      "164 - FFT with avg smape 10.37: \n",
      "Model Number: 165 of 176 with model AverageValueNaive for Validation 1\n"
     ]
    },
    {
     "name": "stderr",
     "output_type": "stream",
     "text": [
      "/home/zeus/miniconda3/envs/cloudspace/lib/python3.10/site-packages/autots/tools/seasonal.py:896: RuntimeWarning: invalid value encountered in divide\n",
      "  scores = np.mean(np.abs(a - b) / divisor, axis=2)\n",
      "/home/zeus/miniconda3/envs/cloudspace/lib/python3.10/site-packages/autots/tools/seasonal.py:896: RuntimeWarning: invalid value encountered in divide\n",
      "  scores = np.mean(np.abs(a - b) / divisor, axis=2)\n",
      "/home/zeus/miniconda3/envs/cloudspace/lib/python3.10/site-packages/autots/tools/seasonal.py:896: RuntimeWarning: invalid value encountered in divide\n",
      "  scores = np.mean(np.abs(a - b) / divisor, axis=2)\n"
     ]
    },
    {
     "name": "stdout",
     "output_type": "stream",
     "text": [
      "165 - AverageValueNaive with avg smape 10.46: \n",
      "Model Number: 166 of 176 with model AverageValueNaive for Validation 1\n",
      "166 - AverageValueNaive with avg smape 10.37: \n",
      "Model Number: 167 of 176 with model AverageValueNaive for Validation 1\n",
      "167 - AverageValueNaive with avg smape 10.37: \n",
      "Model Number: 168 of 176 with model SectionalMotif for Validation 1\n",
      "Template Eval Error: ValueError('kth(=10) out of bounds (8)') in model 168 in generation 0: SectionalMotif\n",
      "Model Number: 169 of 176 with model AverageValueNaive for Validation 1\n",
      "169 - AverageValueNaive with avg smape 10.37: \n",
      "Model Number: 170 of 176 with model DatepartRegression for Validation 1\n",
      "170 - DatepartRegression with avg smape 10.77: \n",
      "Model Number: 171 of 176 with model AverageValueNaive for Validation 1\n",
      "171 - AverageValueNaive with avg smape 10.37: \n",
      "Model Number: 172 of 176 with model SeasonalityMotif for Validation 1\n",
      "prediction too long for indepedent=False, falling back on indepedent=True\n",
      "Template Eval Error: ValueError('kth(=19) out of bounds (14)') in model 172 in generation 0: SeasonalityMotif\n",
      "Model Number: 173 of 176 with model RRVAR for Validation 1\n"
     ]
    },
    {
     "name": "stderr",
     "output_type": "stream",
     "text": [
      "/home/zeus/miniconda3/envs/cloudspace/lib/python3.10/site-packages/sklearn/linear_model/_coordinate_descent.py:628: ConvergenceWarning: Objective did not converge. You might want to increase the number of iterations, check the scale of the features or consider increasing regularisation. Duality gap: 7.608e+03, tolerance: 4.570e+01\n",
      "  model = cd_fast.enet_coordinate_descent(\n"
     ]
    },
    {
     "name": "stdout",
     "output_type": "stream",
     "text": [
      "173 - RRVAR with avg smape 10.37: \n",
      "Model Number: 174 of 176 with model DatepartRegression for Validation 1\n",
      "174 - DatepartRegression with avg smape 10.37: \n",
      "Model Number: 175 of 176 with model AverageValueNaive for Validation 1\n",
      "175 - AverageValueNaive with avg smape 10.44: \n",
      "Model Number: 176 of 176 with model SeasonalityMotif for Validation 1\n",
      "prediction too long for indepedent=False, falling back on indepedent=True\n",
      "176 - SeasonalityMotif with avg smape 10.37: \n",
      "Model Number: 177 of 176 with model SeasonalityMotif for Validation 1\n",
      "prediction too long for indepedent=False, falling back on indepedent=True\n",
      "177 - SeasonalityMotif with avg smape 10.37: \n",
      "Model Number: 178 of 176 with model AverageValueNaive for Validation 1\n",
      "178 - AverageValueNaive with avg smape 10.37: \n",
      "Model Number: 179 of 176 with model AverageValueNaive for Validation 1\n",
      "179 - AverageValueNaive with avg smape 10.37: \n",
      "Model Number: 180 of 176 with model SeasonalityMotif for Validation 1\n",
      "prediction too long for indepedent=False, falling back on indepedent=True\n",
      "Template Eval Error: ValueError('kth(=19) out of bounds (14)') in model 180 in generation 0: SeasonalityMotif\n",
      "Model Number: 181 of 176 with model SeasonalityMotif for Validation 1\n",
      "prediction too long for indepedent=False, falling back on indepedent=True\n",
      "Template Eval Error: ValueError('kth(=19) out of bounds (14)') in model 181 in generation 0: SeasonalityMotif\n",
      "Model Number: 182 of 176 with model SeasonalityMotif for Validation 1\n",
      "prediction too long for indepedent=False, falling back on indepedent=True\n",
      "Template Eval Error: ValueError('kth(=19) out of bounds (14)') in model 182 in generation 0: SeasonalityMotif\n",
      "Model Number: 183 of 176 with model MetricMotif for Validation 1\n",
      "183 - MetricMotif with avg smape 10.55: \n",
      "Model Number: 184 of 176 with model SectionalMotif for Validation 1\n",
      "Template Eval Error: ValueError('kth(=10) out of bounds (8)') in model 184 in generation 0: SectionalMotif\n",
      "Model Number: 185 of 176 with model ETS for Validation 1\n",
      "185 - ETS with avg smape 10.41: \n",
      "Model Number: 186 of 176 with model SeasonalNaive for Validation 1\n",
      "186 - SeasonalNaive with avg smape 10.37: \n",
      "Model Number: 187 of 176 with model RRVAR for Validation 1\n",
      "187 - RRVAR with avg smape 10.37: \n",
      "Model Number: 188 of 176 with model RRVAR for Validation 1\n",
      "188 - RRVAR with avg smape 10.37: \n",
      "Model Number: 189 of 176 with model DatepartRegression for Validation 1\n",
      "189 - DatepartRegression with avg smape 12.36: \n",
      "Model Number: 190 of 176 with model SeasonalNaive for Validation 1\n"
     ]
    },
    {
     "name": "stderr",
     "output_type": "stream",
     "text": [
      "/home/zeus/miniconda3/envs/cloudspace/lib/python3.10/site-packages/sklearn/linear_model/_coordinate_descent.py:628: ConvergenceWarning: Objective did not converge. You might want to increase the number of iterations, check the scale of the features or consider increasing regularisation. Duality gap: 9.468e-01, tolerance: 1.400e-03\n",
      "  model = cd_fast.enet_coordinate_descent(\n"
     ]
    },
    {
     "name": "stdout",
     "output_type": "stream",
     "text": [
      "190 - SeasonalNaive with avg smape 10.4: \n",
      "Model Number: 191 of 176 with model DatepartRegression for Validation 1\n",
      "191 - DatepartRegression with avg smape 10.4: \n",
      "Model Number: 192 of 176 with model GLS for Validation 1\n",
      "192 - GLS with avg smape 10.4: \n",
      "Model Number: 193 of 176 with model SeasonalNaive for Validation 1\n",
      "193 - SeasonalNaive with avg smape 10.4: \n",
      "Model Number: 194 of 176 with model SeasonalNaive for Validation 1\n",
      "194 - SeasonalNaive with avg smape 10.4: \n",
      "Model Number: 195 of 176 with model SeasonalityMotif for Validation 1\n",
      "prediction too long for indepedent=False, falling back on indepedent=True\n",
      "Template Eval Error: ValueError('kth(=19) out of bounds (14)') in model 195 in generation 0: SeasonalityMotif\n",
      "Model Number: 196 of 176 with model FFT for Validation 1\n",
      "196 - FFT with avg smape 10.4: \n",
      "Model Number: 197 of 176 with model FFT for Validation 1\n",
      "197 - FFT with avg smape 10.37: \n",
      "Model Number: 198 of 176 with model SeasonalNaive for Validation 1\n",
      "198 - SeasonalNaive with avg smape 10.38: \n",
      "Model Number: 199 of 176 with model SeasonalityMotif for Validation 1\n",
      "prediction too long for indepedent=False, falling back on indepedent=True\n",
      "Template Eval Error: ValueError('kth(=19) out of bounds (14)') in model 199 in generation 0: SeasonalityMotif\n",
      "Model Number: 200 of 176 with model BasicLinearModel for Validation 1\n",
      "200 - BasicLinearModel with avg smape 10.57: \n",
      "Model Number: 201 of 176 with model SeasonalNaive for Validation 1\n",
      "201 - SeasonalNaive with avg smape 10.38: \n",
      "Model Number: 202 of 176 with model ETS for Validation 1\n",
      "202 - ETS with avg smape 10.38: \n",
      "Model Number: 203 of 176 with model ETS for Validation 1\n",
      "203 - ETS with avg smape 10.38: \n",
      "Model Number: 204 of 176 with model ETS for Validation 1\n",
      "204 - ETS with avg smape 10.38: \n",
      "Model Number: 205 of 176 with model ETS for Validation 1\n",
      "205 - ETS with avg smape 10.38: \n",
      "Model Number: 206 of 176 with model SeasonalNaive for Validation 1\n",
      "206 - SeasonalNaive with avg smape 10.41: \n",
      "Model Number: 207 of 176 with model SeasonalityMotif for Validation 1\n",
      "prediction too long for indepedent=False, falling back on indepedent=True\n",
      "Template Eval Error: ValueError('kth(=19) out of bounds (14)') in model 207 in generation 0: SeasonalityMotif\n",
      "Model Number: 208 of 176 with model ETS for Validation 1\n",
      "208 - ETS with avg smape 10.4: \n",
      "Model Number: 209 of 176 with model ETS for Validation 1\n",
      "209 - ETS with avg smape 10.4: \n",
      "Model Number: 210 of 176 with model ETS for Validation 1\n",
      "210 - ETS with avg smape 10.39: \n",
      "Model Number: 211 of 176 with model DatepartRegression for Validation 1\n",
      "211 - DatepartRegression with avg smape 10.37: \n",
      "Model Number: 212 of 176 with model FFT for Validation 1\n",
      "212 - FFT with avg smape 10.38: \n",
      "Model Number: 213 of 176 with model FFT for Validation 1\n",
      "213 - FFT with avg smape 10.38: \n",
      "Model Number: 214 of 176 with model GLS for Validation 1\n",
      "214 - GLS with avg smape 10.38: \n",
      "Model Number: 215 of 176 with model BasicLinearModel for Validation 1\n",
      "215 - BasicLinearModel with avg smape 10.43: \n",
      "Model Number: 216 of 176 with model SeasonalNaive for Validation 1\n",
      "216 - SeasonalNaive with avg smape 10.38: \n",
      "Model Number: 217 of 176 with model SeasonalNaive for Validation 1\n",
      "217 - SeasonalNaive with avg smape 10.38: \n",
      "Model Number: 218 of 176 with model SectionalMotif for Validation 1\n",
      "218 - SectionalMotif with avg smape 10.37: \n",
      "Model Number: 219 of 176 with model ARDL for Validation 1\n",
      "219 - ARDL with avg smape 10.62: \n",
      "Model Number: 220 of 176 with model SectionalMotif for Validation 1\n",
      "Template Eval Error: ValueError('kth(=10) out of bounds (8)') in model 220 in generation 0: SectionalMotif\n",
      "Model Number: 221 of 176 with model MetricMotif for Validation 1\n",
      "Template Eval Error: ValueError('kth(=14) out of bounds (1)') in model 221 in generation 0: MetricMotif\n",
      "Model Number: 222 of 176 with model SectionalMotif for Validation 1\n",
      "Template Eval Error: ValueError('kth(=10) out of bounds (8)') in model 222 in generation 0: SectionalMotif\n",
      "Model Number: 223 of 176 with model ConstantNaive for Validation 1\n",
      "223 - ConstantNaive with avg smape 10.38: \n",
      "Model Number: 224 of 176 with model ConstantNaive for Validation 1\n",
      "224 - ConstantNaive with avg smape 10.38: \n",
      "Model Number: 225 of 176 with model ConstantNaive for Validation 1\n",
      "225 - ConstantNaive with avg smape 10.38: \n",
      "Model Number: 226 of 176 with model SectionalMotif for Validation 1\n",
      "Template Eval Error: ValueError('kth(=10) out of bounds (8)') in model 226 in generation 0: SectionalMotif\n",
      "Model Number: 227 of 176 with model SectionalMotif for Validation 1\n",
      "227 - SectionalMotif with avg smape 10.38: \n",
      "Model Number: 228 of 176 with model GLS for Validation 1\n",
      "228 - GLS with avg smape 10.4: \n"
     ]
    },
    {
     "name": "stderr",
     "output_type": "stream",
     "text": [
      "/home/zeus/miniconda3/envs/cloudspace/lib/python3.10/site-packages/autots/tools/seasonal.py:896: RuntimeWarning: invalid value encountered in divide\n",
      "  scores = np.mean(np.abs(a - b) / divisor, axis=2)\n",
      "/home/zeus/miniconda3/envs/cloudspace/lib/python3.10/site-packages/autots/tools/seasonal.py:896: RuntimeWarning: invalid value encountered in divide\n",
      "  scores = np.mean(np.abs(a - b) / divisor, axis=2)\n",
      "/home/zeus/miniconda3/envs/cloudspace/lib/python3.10/site-packages/autots/tools/seasonal.py:896: RuntimeWarning: invalid value encountered in divide\n",
      "  scores = np.mean(np.abs(a - b) / divisor, axis=2)\n",
      "/home/zeus/miniconda3/envs/cloudspace/lib/python3.10/site-packages/autots/tools/seasonal.py:896: RuntimeWarning: invalid value encountered in divide\n",
      "  scores = np.mean(np.abs(a - b) / divisor, axis=2)\n",
      "/home/zeus/miniconda3/envs/cloudspace/lib/python3.10/site-packages/autots/tools/seasonal.py:896: RuntimeWarning: invalid value encountered in divide\n",
      "  scores = np.mean(np.abs(a - b) / divisor, axis=2)\n",
      "/home/zeus/miniconda3/envs/cloudspace/lib/python3.10/site-packages/autots/tools/seasonal.py:896: RuntimeWarning: invalid value encountered in divide\n",
      "  scores = np.mean(np.abs(a - b) / divisor, axis=2)\n"
     ]
    },
    {
     "name": "stdout",
     "output_type": "stream",
     "text": [
      "Model Number: 229 of 176 with model GLS for Validation 1\n",
      "229 - GLS with avg smape 10.4: \n",
      "Model Number: 230 of 176 with model BasicLinearModel for Validation 1\n",
      "230 - BasicLinearModel with avg smape 10.93: \n",
      "Model Number: 231 of 176 with model BasicLinearModel for Validation 1\n",
      "231 - BasicLinearModel with avg smape 10.47: \n",
      "Model Number: 232 of 176 with model MetricMotif for Validation 1\n",
      "232 - MetricMotif with avg smape 10.54: \n",
      "Model Number: 233 of 176 with model ConstantNaive for Validation 1\n",
      "233 - ConstantNaive with avg smape 10.64: \n",
      "Model Number: 234 of 176 with model ARDL for Validation 1\n",
      "234 - ARDL with avg smape 11.32: \n",
      "Model Number: 235 of 176 with model ETS for Validation 1\n",
      "235 - ETS with avg smape 10.43: \n",
      "Model Number: 236 of 176 with model ARDL for Validation 1\n",
      "236 - ARDL with avg smape 10.58: \n",
      "Model Number: 237 of 176 with model LastValueNaive for Validation 1\n",
      "237 - LastValueNaive with avg smape 10.89: \n",
      "Model Number: 238 of 176 with model LastValueNaive for Validation 1\n",
      "238 - LastValueNaive with avg smape 10.89: \n",
      "Model Number: 239 of 176 with model ARDL for Validation 1\n",
      "239 - ARDL with avg smape 10.39: \n",
      "Model Number: 240 of 176 with model FFT for Validation 1\n",
      "240 - FFT with avg smape 10.43: \n",
      "Model Number: 241 of 176 with model ARDL for Validation 1\n",
      "241 - ARDL with avg smape 10.39: \n",
      "Model Number: 242 of 176 with model FFT for Validation 1\n",
      "242 - FFT with avg smape 11.51: \n",
      "Model Number: 243 of 176 with model ETS for Validation 1\n",
      "243 - ETS with avg smape 10.43: \n",
      "Model Number: 244 of 176 with model FFT for Validation 1\n",
      "244 - FFT with avg smape 10.43: \n",
      "Model Number: 245 of 176 with model BasicLinearModel for Validation 1\n",
      "245 - BasicLinearModel with avg smape 10.59: \n",
      "Model Number: 246 of 176 with model BasicLinearModel for Validation 1\n",
      "246 - BasicLinearModel with avg smape 11.49: \n",
      "Model Number: 247 of 176 with model MetricMotif for Validation 1\n",
      "247 - MetricMotif with avg smape 10.82: \n",
      "Model Number: 248 of 176 with model ConstantNaive for Validation 1\n",
      "248 - ConstantNaive with avg smape 10.37: \n",
      "Model Number: 249 of 176 with model ARDL for Validation 1\n"
     ]
    },
    {
     "name": "stderr",
     "output_type": "stream",
     "text": [
      "/home/zeus/miniconda3/envs/cloudspace/lib/python3.10/site-packages/autots/models/basics.py:3595: RuntimeWarning: invalid value encountered in sqrt\n",
      "  self.sigma = np.sqrt(sse / (n - p))\n",
      "/home/zeus/miniconda3/envs/cloudspace/lib/python3.10/site-packages/autots/models/basics.py:3595: RuntimeWarning: invalid value encountered in sqrt\n",
      "  self.sigma = np.sqrt(sse / (n - p))\n"
     ]
    },
    {
     "name": "stdout",
     "output_type": "stream",
     "text": [
      "249 - ARDL with avg smape 10.62: \n",
      "Model Number: 250 of 176 with model ARDL for Validation 1\n",
      "250 - ARDL with avg smape 10.62: \n",
      "Model Number: 251 of 176 with model MetricMotif for Validation 1\n",
      "251 - MetricMotif with avg smape 10.39: \n",
      "Model Number: 252 of 176 with model FFT for Validation 1\n",
      "252 - FFT with avg smape 10.91: \n",
      "Model Number: 253 of 176 with model LastValueNaive for Validation 1\n",
      "253 - LastValueNaive with avg smape 11.07: \n",
      "Model Number: 254 of 176 with model LastValueNaive for Validation 1\n",
      "254 - LastValueNaive with avg smape 11.07: \n",
      "Model Number: 255 of 176 with model LastValueNaive for Validation 1\n",
      "255 - LastValueNaive with avg smape 11.07: \n",
      "Model Number: 256 of 176 with model MetricMotif for Validation 1\n",
      "Template Eval Error: ValueError('kth(=14) out of bounds (5)') in model 256 in generation 0: MetricMotif\n",
      "Model Number: 257 of 176 with model BasicLinearModel for Validation 1\n",
      "257 - BasicLinearModel with avg smape 11.08: \n",
      "Model Number: 258 of 176 with model MetricMotif for Validation 1\n",
      "Template Eval Error: ValueError('kth(=14) out of bounds (1)') in model 258 in generation 0: MetricMotif\n",
      "Model Number: 259 of 176 with model LastValueNaive for Validation 1\n",
      "259 - LastValueNaive with avg smape 11.07: \n",
      "Model Number: 260 of 176 with model LastValueNaive for Validation 1\n",
      "260 - LastValueNaive with avg smape 11.07: \n",
      "Model Number: 261 of 176 with model LastValueNaive for Validation 1\n"
     ]
    },
    {
     "name": "stderr",
     "output_type": "stream",
     "text": [
      "/home/zeus/miniconda3/envs/cloudspace/lib/python3.10/site-packages/sklearn/neighbors/_classification.py:233: DataConversionWarning: A column-vector y was passed when a 1d array was expected. Please change the shape of y to (n_samples,), for example using ravel().\n",
      "  return self._fit(X, y)\n",
      "/home/zeus/miniconda3/envs/cloudspace/lib/python3.10/site-packages/autots/models/basics.py:3595: RuntimeWarning: invalid value encountered in sqrt\n",
      "  self.sigma = np.sqrt(sse / (n - p))\n"
     ]
    },
    {
     "name": "stdout",
     "output_type": "stream",
     "text": [
      "261 - LastValueNaive with avg smape 11.07: \n",
      "Model Number: 262 of 176 with model LastValueNaive for Validation 1\n",
      "262 - LastValueNaive with avg smape 11.07: \n",
      "Model Number: 263 of 176 with model LastValueNaive for Validation 1\n",
      "263 - LastValueNaive with avg smape 11.07: \n",
      "Model Number: 264 of 176 with model MetricMotif for Validation 1\n",
      "264 - MetricMotif with avg smape 10.96: \n",
      "Model Number: 265 of 176 with model MetricMotif for Validation 1\n",
      "Template Eval Error: ValueError('kth(=9) out of bounds (1)') in model 265 in generation 0: MetricMotif\n",
      "Model Number: 266 of 176 with model MetricMotif for Validation 1\n",
      "266 - MetricMotif with avg smape 11.08: \n",
      "Model Number: 267 of 176 with model ConstantNaive for Validation 1\n",
      "267 - ConstantNaive with avg smape 11.07: \n",
      "Model Number: 268 of 176 with model ConstantNaive for Validation 1\n",
      "268 - ConstantNaive with avg smape 11.07: \n",
      "Model Number: 269 of 176 with model ConstantNaive for Validation 1\n",
      "269 - ConstantNaive with avg smape 11.07: \n",
      "Model Number: 270 of 176 with model ConstantNaive for Validation 1\n",
      "270 - ConstantNaive with avg smape 11.11: \n",
      "Model Number: 271 of 176 with model ConstantNaive for Validation 1\n",
      "271 - ConstantNaive with avg smape 11.07: \n",
      "Model Number: 272 of 176 with model BasicLinearModel for Validation 1\n",
      "272 - BasicLinearModel with avg smape 11.07: \n",
      "Model Number: 273 of 176 with model GLM for Validation 1\n",
      "273 - GLM with avg smape 10.36: \n",
      "Model Number: 274 of 176 with model BasicLinearModel for Validation 1\n"
     ]
    },
    {
     "name": "stderr",
     "output_type": "stream",
     "text": [
      "/home/zeus/miniconda3/envs/cloudspace/lib/python3.10/site-packages/statsmodels/genmod/families/family.py:1367: ValueWarning: Negative binomial dispersion parameter alpha not set. Using default value alpha=1.0.\n",
      "  warnings.warn(\"Negative binomial dispersion parameter alpha not \"\n"
     ]
    },
    {
     "name": "stdout",
     "output_type": "stream",
     "text": [
      "274 - BasicLinearModel with avg smape 11.12: \n",
      "Model Number: 275 of 176 with model GLS for Validation 1\n",
      "275 - GLS with avg smape 11.24: \n",
      "Model Number: 276 of 176 with model BasicLinearModel for Validation 1\n",
      "276 - BasicLinearModel with avg smape 11.09: \n",
      "Model Number: 277 of 176 with model Cassandra for Validation 1\n",
      "277 - Cassandra with avg smape 11.31: \n",
      "Model Number: 278 of 176 with model GLS for Validation 1\n",
      "278 - GLS with avg smape 11.24: \n",
      "Model Number: 279 of 176 with model GLS for Validation 1\n"
     ]
    },
    {
     "name": "stderr",
     "output_type": "stream",
     "text": [
      "/home/zeus/miniconda3/envs/cloudspace/lib/python3.10/site-packages/numpy/lib/function_base.py:2897: RuntimeWarning: invalid value encountered in divide\n",
      "  c /= stddev[:, None]\n",
      "/home/zeus/miniconda3/envs/cloudspace/lib/python3.10/site-packages/numpy/lib/function_base.py:2898: RuntimeWarning: invalid value encountered in divide\n",
      "  c /= stddev[None, :]\n"
     ]
    },
    {
     "name": "stdout",
     "output_type": "stream",
     "text": [
      "279 - GLS with avg smape 11.44: \n",
      "Model Number: 280 of 176 with model ARDL for Validation 1\n",
      "Template Eval Error: ValueError(\"ARDL series 8b26cbbab26d33daba641fae9426d1bd25c1ad8e7abfe187a459512f5a8866e7 failed with error ValueError('The number of regressors (3) including deterministics, lags of the endog, lags of the exogenous, and fixed regressors is larger than the sample available for estimation (1).') exog train None and predict None\") in model 280 in generation 0: ARDL\n",
      "Model Number: 281 of 176 with model Cassandra for Validation 1\n",
      "281 - Cassandra with avg smape 10.45: \n",
      "Model Number: 282 of 176 with model GLM for Validation 1\n",
      "282 - GLM with avg smape 10.42: \n",
      "Model Number: 283 of 176 with model ARDL for Validation 1\n"
     ]
    },
    {
     "name": "stderr",
     "output_type": "stream",
     "text": [
      "/home/zeus/miniconda3/envs/cloudspace/lib/python3.10/site-packages/numpy/lib/function_base.py:2897: RuntimeWarning: invalid value encountered in divide\n",
      "  c /= stddev[:, None]\n",
      "/home/zeus/miniconda3/envs/cloudspace/lib/python3.10/site-packages/numpy/lib/function_base.py:2898: RuntimeWarning: invalid value encountered in divide\n",
      "  c /= stddev[None, :]\n",
      "/home/zeus/miniconda3/envs/cloudspace/lib/python3.10/site-packages/statsmodels/genmod/families/family.py:1367: ValueWarning: Negative binomial dispersion parameter alpha not set. Using default value alpha=1.0.\n",
      "  warnings.warn(\"Negative binomial dispersion parameter alpha not \"\n",
      "/home/zeus/miniconda3/envs/cloudspace/lib/python3.10/site-packages/statsmodels/genmod/families/family.py:1402: RuntimeWarning: divide by zero encountered in divide\n",
      "  endog_mu = self._clean(endog / mu)\n"
     ]
    },
    {
     "name": "stdout",
     "output_type": "stream",
     "text": [
      "Template Eval Error: ValueError(\"ARDL series 8b26cbbab26d33daba641fae9426d1bd25c1ad8e7abfe187a459512f5a8866e7 failed with error ValueError('The number of regressors (3) including deterministics, lags of the endog, lags of the exogenous, and fixed regressors is larger than the sample available for estimation (1).') exog train             holiday_flag_US\\ndate                       \\n2023-03-12              0.0\\n2023-03-13              0.0 and predict             holiday_flag_US\\n2023-03-14              0.0\\n2023-03-15              0.0\\n2023-03-16              0.0\\n2023-03-17              0.0\\n2023-03-18              0.0\\n...                     ...\\n2023-05-20              0.0\\n2023-05-21              0.0\\n2023-05-22              0.0\\n2023-05-23              0.0\\n2023-05-24              0.0\\n\\n[72 rows x 1 columns]\") in model 283 in generation 0: ARDL\n",
      "Model Number: 284 of 176 with model Cassandra for Validation 1\n",
      "284 - Cassandra with avg smape 10.57: \n",
      "Model Number: 285 of 176 with model GLM for Validation 1\n"
     ]
    },
    {
     "name": "stderr",
     "output_type": "stream",
     "text": [
      "/home/zeus/miniconda3/envs/cloudspace/lib/python3.10/site-packages/numpy/lib/function_base.py:2897: RuntimeWarning: invalid value encountered in divide\n",
      "  c /= stddev[:, None]\n",
      "/home/zeus/miniconda3/envs/cloudspace/lib/python3.10/site-packages/numpy/lib/function_base.py:2898: RuntimeWarning: invalid value encountered in divide\n",
      "  c /= stddev[None, :]\n",
      "/home/zeus/miniconda3/envs/cloudspace/lib/python3.10/site-packages/statsmodels/genmod/families/family.py:1367: ValueWarning: Negative binomial dispersion parameter alpha not set. Using default value alpha=1.0.\n",
      "  warnings.warn(\"Negative binomial dispersion parameter alpha not \"\n",
      "/home/zeus/miniconda3/envs/cloudspace/lib/python3.10/site-packages/statsmodels/genmod/families/family.py:1402: RuntimeWarning: divide by zero encountered in divide\n",
      "  endog_mu = self._clean(endog / mu)\n"
     ]
    },
    {
     "name": "stdout",
     "output_type": "stream",
     "text": [
      "285 - GLM with avg smape 10.42: \n",
      "Model Number: 286 of 176 with model GLM for Validation 1\n",
      "286 - GLM with avg smape 11.12: \n",
      "Model Number: 287 of 176 with model GLM for Validation 1\n"
     ]
    },
    {
     "name": "stderr",
     "output_type": "stream",
     "text": [
      "/home/zeus/miniconda3/envs/cloudspace/lib/python3.10/site-packages/sklearn/linear_model/_ridge.py:200: LinAlgWarning: Ill-conditioned matrix (rcond=1.65589e-24): result may not be accurate.\n",
      "  return linalg.solve(A, Xy, assume_a=\"pos\", overwrite_a=True).T\n"
     ]
    },
    {
     "name": "stdout",
     "output_type": "stream",
     "text": [
      "287 - GLM with avg smape 11.13: \n",
      "Model Number: 288 of 176 with model Cassandra for Validation 1\n",
      "288 - Cassandra with avg smape 11.0: \n",
      "Model Number: 289 of 176 with model UnivariateMotif for Validation 1\n",
      "Template Eval Error: ValueError('window shape cannot be larger than input array shape') in model 289 in generation 0: UnivariateMotif\n",
      "Model Number: 290 of 176 with model GLM for Validation 1\n",
      "290 - GLM with avg smape 12.01: \n",
      "Model Number: 291 of 176 with model GLM for Validation 1\n"
     ]
    },
    {
     "name": "stderr",
     "output_type": "stream",
     "text": [
      "/home/zeus/miniconda3/envs/cloudspace/lib/python3.10/site-packages/numpy/lib/function_base.py:2897: RuntimeWarning: invalid value encountered in divide\n",
      "  c /= stddev[:, None]\n",
      "/home/zeus/miniconda3/envs/cloudspace/lib/python3.10/site-packages/numpy/lib/function_base.py:2898: RuntimeWarning: invalid value encountered in divide\n",
      "  c /= stddev[None, :]\n"
     ]
    },
    {
     "name": "stdout",
     "output_type": "stream",
     "text": [
      "291 - GLM with avg smape 12.01: \n",
      "Model Number: 292 of 176 with model GLM for Validation 1\n",
      "292 - GLM with avg smape 11.12: \n",
      "Model Number: 293 of 176 with model UnivariateMotif for Validation 1\n",
      "Template Eval Error: ValueError('window shape cannot be larger than input array shape') in model 293 in generation 0: UnivariateMotif\n",
      "Model Number: 294 of 176 with model GLM for Validation 1\n",
      "294 - GLM with avg smape 12.01: \n",
      "Model Number: 295 of 176 with model Cassandra for Validation 1\n",
      "295 - Cassandra with avg smape 12.17: \n",
      "Model Number: 296 of 176 with model Cassandra for Validation 1\n"
     ]
    },
    {
     "name": "stderr",
     "output_type": "stream",
     "text": [
      "/home/zeus/miniconda3/envs/cloudspace/lib/python3.10/site-packages/numpy/lib/function_base.py:2897: RuntimeWarning: invalid value encountered in divide\n",
      "  c /= stddev[:, None]\n",
      "/home/zeus/miniconda3/envs/cloudspace/lib/python3.10/site-packages/numpy/lib/function_base.py:2898: RuntimeWarning: invalid value encountered in divide\n",
      "  c /= stddev[None, :]\n",
      "/home/zeus/miniconda3/envs/cloudspace/lib/python3.10/site-packages/numpy/lib/function_base.py:2897: RuntimeWarning: invalid value encountered in divide\n",
      "  c /= stddev[:, None]\n",
      "/home/zeus/miniconda3/envs/cloudspace/lib/python3.10/site-packages/numpy/lib/function_base.py:2898: RuntimeWarning: invalid value encountered in divide\n",
      "  c /= stddev[None, :]\n"
     ]
    },
    {
     "name": "stdout",
     "output_type": "stream",
     "text": [
      "296 - Cassandra with avg smape 12.21: \n",
      "Model Number: 297 of 176 with model GLM for Validation 1\n",
      "297 - GLM with avg smape 10.41: \n",
      "Model Number: 298 of 176 with model UnivariateMotif for Validation 1\n",
      "Template Eval Error: ValueError('window shape cannot be larger than input array shape') in model 298 in generation 0: UnivariateMotif\n",
      "Model Number: 299 of 176 with model Cassandra for Validation 1\n",
      "299 - Cassandra with avg smape 10.4: \n",
      "Model Number: 300 of 176 with model UnivariateMotif for Validation 1\n",
      "Template Eval Error: ValueError('window shape cannot be larger than input array shape') in model 300 in generation 0: UnivariateMotif\n",
      "Model Number: 301 of 176 with model UnivariateMotif for Validation 1\n",
      "Template Eval Error: ValueError('window shape cannot be larger than input array shape') in model 301 in generation 0: UnivariateMotif\n",
      "Model Number: 302 of 176 with model Cassandra for Validation 1\n"
     ]
    },
    {
     "name": "stderr",
     "output_type": "stream",
     "text": [
      "/home/zeus/miniconda3/envs/cloudspace/lib/python3.10/site-packages/numpy/lib/function_base.py:2897: RuntimeWarning: invalid value encountered in divide\n",
      "  c /= stddev[:, None]\n",
      "/home/zeus/miniconda3/envs/cloudspace/lib/python3.10/site-packages/numpy/lib/function_base.py:2898: RuntimeWarning: invalid value encountered in divide\n",
      "  c /= stddev[None, :]\n",
      "/home/zeus/miniconda3/envs/cloudspace/lib/python3.10/site-packages/numpy/lib/function_base.py:2897: RuntimeWarning: invalid value encountered in divide\n",
      "  c /= stddev[:, None]\n",
      "/home/zeus/miniconda3/envs/cloudspace/lib/python3.10/site-packages/numpy/lib/function_base.py:2898: RuntimeWarning: invalid value encountered in divide\n",
      "  c /= stddev[None, :]\n"
     ]
    },
    {
     "name": "stdout",
     "output_type": "stream",
     "text": [
      "302 - Cassandra with avg smape 10.39: \n",
      "Model Number: 303 of 176 with model UnivariateMotif for Validation 1\n",
      "Template Eval Error: ValueError('window shape cannot be larger than input array shape') in model 303 in generation 0: UnivariateMotif\n",
      "Model Number: 304 of 176 with model UnivariateMotif for Validation 1\n",
      "Template Eval Error: ValueError('window shape cannot be larger than input array shape') in model 304 in generation 0: UnivariateMotif\n",
      "Model Number: 305 of 176 with model ARDL for Validation 1\n",
      "305 - ARDL with avg smape 10.47: \n",
      "Model Number: 306 of 176 with model UnivariateMotif for Validation 1\n",
      "Template Eval Error: ValueError('window shape cannot be larger than input array shape') in model 306 in generation 0: UnivariateMotif\n",
      "Model Number: 1477 with model Ensemble in generation 12 of Ensembles\n"
     ]
    },
    {
     "name": "stderr",
     "output_type": "stream",
     "text": [
      "/home/zeus/miniconda3/envs/cloudspace/lib/python3.10/site-packages/statsmodels/genmod/families/family.py:1367: ValueWarning: Negative binomial dispersion parameter alpha not set. Using default value alpha=1.0.\n",
      "  warnings.warn(\"Negative binomial dispersion parameter alpha not \"\n",
      "/home/zeus/miniconda3/envs/cloudspace/lib/python3.10/site-packages/sklearn/linear_model/_coordinate_descent.py:628: ConvergenceWarning: Objective did not converge. You might want to increase the number of iterations, check the scale of the features or consider increasing regularisation. Duality gap: 4.691e+02, tolerance: 1.719e+00\n",
      "  model = cd_fast.enet_coordinate_descent(\n"
     ]
    },
    {
     "name": "stdout",
     "output_type": "stream",
     "text": [
      "Model Number: 1491 with model Ensemble in generation 12 of Ensembles\n"
     ]
    },
    {
     "name": "stderr",
     "output_type": "stream",
     "text": [
      "/home/zeus/miniconda3/envs/cloudspace/lib/python3.10/site-packages/statsmodels/genmod/families/family.py:1367: ValueWarning: Negative binomial dispersion parameter alpha not set. Using default value alpha=1.0.\n",
      "  warnings.warn(\"Negative binomial dispersion parameter alpha not \"\n",
      "/home/zeus/miniconda3/envs/cloudspace/lib/python3.10/site-packages/sklearn/linear_model/_coordinate_descent.py:628: ConvergenceWarning: Objective did not converge. You might want to increase the number of iterations, check the scale of the features or consider increasing regularisation. Duality gap: 4.691e+02, tolerance: 1.719e+00\n",
      "  model = cd_fast.enet_coordinate_descent(\n",
      "/home/zeus/miniconda3/envs/cloudspace/lib/python3.10/site-packages/sklearn/linear_model/_coordinate_descent.py:628: ConvergenceWarning: Objective did not converge. You might want to increase the number of iterations, check the scale of the features or consider increasing regularisation. Duality gap: 4.691e+02, tolerance: 1.719e+00\n",
      "  model = cd_fast.enet_coordinate_descent(\n",
      "/home/zeus/miniconda3/envs/cloudspace/lib/python3.10/site-packages/sklearn/linear_model/_coordinate_descent.py:628: ConvergenceWarning: Objective did not converge. You might want to increase the number of iterations, check the scale of the features or consider increasing regularisation. Duality gap: 4.691e+02, tolerance: 1.719e+00\n",
      "  model = cd_fast.enet_coordinate_descent(\n"
     ]
    },
    {
     "name": "stdout",
     "output_type": "stream",
     "text": [
      "Model Number: 1505 with model Ensemble in generation 12 of Ensembles\n"
     ]
    },
    {
     "name": "stderr",
     "output_type": "stream",
     "text": [
      "/home/zeus/miniconda3/envs/cloudspace/lib/python3.10/site-packages/sklearn/linear_model/_coordinate_descent.py:628: ConvergenceWarning: Objective did not converge. You might want to increase the number of iterations, check the scale of the features or consider increasing regularisation. Duality gap: 5.807e+00, tolerance: 2.800e-03\n",
      "  model = cd_fast.enet_coordinate_descent(\n"
     ]
    },
    {
     "name": "stdout",
     "output_type": "stream",
     "text": [
      "Model Number: 1519 with model Ensemble in generation 12 of Ensembles\n"
     ]
    },
    {
     "name": "stderr",
     "output_type": "stream",
     "text": [
      "/home/zeus/miniconda3/envs/cloudspace/lib/python3.10/site-packages/sklearn/linear_model/_coordinate_descent.py:628: ConvergenceWarning: Objective did not converge. You might want to increase the number of iterations, check the scale of the features or consider increasing regularisation. Duality gap: 5.807e+00, tolerance: 2.800e-03\n",
      "  model = cd_fast.enet_coordinate_descent(\n",
      "/home/zeus/miniconda3/envs/cloudspace/lib/python3.10/site-packages/sklearn/linear_model/_coordinate_descent.py:628: ConvergenceWarning: Objective did not converge. You might want to increase the number of iterations, check the scale of the features or consider increasing regularisation. Duality gap: 4.691e+02, tolerance: 1.719e+00\n",
      "  model = cd_fast.enet_coordinate_descent(\n"
     ]
    },
    {
     "name": "stdout",
     "output_type": "stream",
     "text": [
      "Model Number: 1533 with model Ensemble in generation 12 of Ensembles\n"
     ]
    },
    {
     "name": "stderr",
     "output_type": "stream",
     "text": [
      "/home/zeus/miniconda3/envs/cloudspace/lib/python3.10/site-packages/statsmodels/genmod/families/family.py:1367: ValueWarning: Negative binomial dispersion parameter alpha not set. Using default value alpha=1.0.\n",
      "  warnings.warn(\"Negative binomial dispersion parameter alpha not \"\n",
      "/home/zeus/miniconda3/envs/cloudspace/lib/python3.10/site-packages/sklearn/linear_model/_coordinate_descent.py:628: ConvergenceWarning: Objective did not converge. You might want to increase the number of iterations, check the scale of the features or consider increasing regularisation. Duality gap: 4.691e+02, tolerance: 1.719e+00\n",
      "  model = cd_fast.enet_coordinate_descent(\n"
     ]
    },
    {
     "name": "stdout",
     "output_type": "stream",
     "text": [
      "Model Number: 1547 with model Ensemble in generation 12 of Ensembles\n"
     ]
    },
    {
     "name": "stderr",
     "output_type": "stream",
     "text": [
      "/home/zeus/miniconda3/envs/cloudspace/lib/python3.10/site-packages/statsmodels/genmod/families/family.py:1367: ValueWarning: Negative binomial dispersion parameter alpha not set. Using default value alpha=1.0.\n",
      "  warnings.warn(\"Negative binomial dispersion parameter alpha not \"\n",
      "/home/zeus/miniconda3/envs/cloudspace/lib/python3.10/site-packages/sklearn/linear_model/_coordinate_descent.py:628: ConvergenceWarning: Objective did not converge. You might want to increase the number of iterations, check the scale of the features or consider increasing regularisation. Duality gap: 4.691e+02, tolerance: 1.719e+00\n",
      "  model = cd_fast.enet_coordinate_descent(\n"
     ]
    },
    {
     "name": "stdout",
     "output_type": "stream",
     "text": [
      "Model Number: 1561 with model Ensemble in generation 12 of Ensembles\n"
     ]
    },
    {
     "name": "stderr",
     "output_type": "stream",
     "text": [
      "/home/zeus/miniconda3/envs/cloudspace/lib/python3.10/site-packages/statsmodels/genmod/families/family.py:1367: ValueWarning: Negative binomial dispersion parameter alpha not set. Using default value alpha=1.0.\n",
      "  warnings.warn(\"Negative binomial dispersion parameter alpha not \"\n",
      "/home/zeus/miniconda3/envs/cloudspace/lib/python3.10/site-packages/sklearn/linear_model/_coordinate_descent.py:628: ConvergenceWarning: Objective did not converge. You might want to increase the number of iterations, check the scale of the features or consider increasing regularisation. Duality gap: 4.691e+02, tolerance: 1.719e+00\n",
      "  model = cd_fast.enet_coordinate_descent(\n"
     ]
    },
    {
     "name": "stdout",
     "output_type": "stream",
     "text": [
      "Model Number: 1575 with model Ensemble in generation 12 of Ensembles\n"
     ]
    },
    {
     "name": "stderr",
     "output_type": "stream",
     "text": [
      "/home/zeus/miniconda3/envs/cloudspace/lib/python3.10/site-packages/statsmodels/genmod/families/family.py:1367: ValueWarning: Negative binomial dispersion parameter alpha not set. Using default value alpha=1.0.\n",
      "  warnings.warn(\"Negative binomial dispersion parameter alpha not \"\n",
      "/home/zeus/miniconda3/envs/cloudspace/lib/python3.10/site-packages/sklearn/linear_model/_coordinate_descent.py:628: ConvergenceWarning: Objective did not converge. You might want to increase the number of iterations, check the scale of the features or consider increasing regularisation. Duality gap: 4.691e+02, tolerance: 1.719e+00\n",
      "  model = cd_fast.enet_coordinate_descent(\n"
     ]
    },
    {
     "name": "stdout",
     "output_type": "stream",
     "text": [
      "Validation Round: 1\n",
      "Model Number: 1 of 8 with model Ensemble for Validation 1\n"
     ]
    },
    {
     "name": "stderr",
     "output_type": "stream",
     "text": [
      "/home/zeus/miniconda3/envs/cloudspace/lib/python3.10/site-packages/statsmodels/genmod/families/family.py:1367: ValueWarning: Negative binomial dispersion parameter alpha not set. Using default value alpha=1.0.\n",
      "  warnings.warn(\"Negative binomial dispersion parameter alpha not \"\n",
      "/home/zeus/miniconda3/envs/cloudspace/lib/python3.10/site-packages/statsmodels/genmod/families/family.py:1402: RuntimeWarning: divide by zero encountered in divide\n",
      "  endog_mu = self._clean(endog / mu)\n",
      "/home/zeus/miniconda3/envs/cloudspace/lib/python3.10/site-packages/autots/tools/seasonal.py:896: RuntimeWarning: invalid value encountered in divide\n",
      "  scores = np.mean(np.abs(a - b) / divisor, axis=2)\n",
      "/home/zeus/miniconda3/envs/cloudspace/lib/python3.10/site-packages/autots/tools/seasonal.py:896: RuntimeWarning: invalid value encountered in divide\n",
      "  scores = np.mean(np.abs(a - b) / divisor, axis=2)\n",
      "/home/zeus/miniconda3/envs/cloudspace/lib/python3.10/site-packages/autots/tools/seasonal.py:896: RuntimeWarning: invalid value encountered in divide\n",
      "  scores = np.mean(np.abs(a - b) / divisor, axis=2)\n",
      "/home/zeus/miniconda3/envs/cloudspace/lib/python3.10/site-packages/sklearn/linear_model/_coordinate_descent.py:628: ConvergenceWarning: Objective did not converge. You might want to increase the number of iterations, check the scale of the features or consider increasing regularisation. Duality gap: 7.608e+03, tolerance: 4.570e+01\n",
      "  model = cd_fast.enet_coordinate_descent(\n"
     ]
    },
    {
     "name": "stdout",
     "output_type": "stream",
     "text": [
      "📈 1 - Ensemble with avg smape 10.37: \n",
      "2 - Ensemble with avg smape 10.37: \n",
      "3 - Ensemble with avg smape 10.45: \n",
      "4 - Ensemble with avg smape 10.48: \n",
      "5 - Ensemble with avg smape 11.19: \n",
      "6 - Ensemble with avg smape 11.34: \n",
      "7 - Ensemble with avg smape 11.07: \n",
      "8 - Ensemble with avg smape 11.07: \n",
      "9 - Ensemble with avg smape 10.37: \n",
      "10 - Ensemble with avg smape 11.14: \n",
      "11 - Ensemble with avg smape 10.4: \n",
      "12 - Ensemble with avg smape 10.37: \n",
      "13 - Ensemble with avg smape 18.23: \n",
      "14 - Ensemble with avg smape 10.37: \n",
      "Model Number: 15 of 8 with model Ensemble for Validation 1\n"
     ]
    },
    {
     "name": "stderr",
     "output_type": "stream",
     "text": [
      "/home/zeus/miniconda3/envs/cloudspace/lib/python3.10/site-packages/statsmodels/genmod/families/family.py:1367: ValueWarning: Negative binomial dispersion parameter alpha not set. Using default value alpha=1.0.\n",
      "  warnings.warn(\"Negative binomial dispersion parameter alpha not \"\n",
      "/home/zeus/miniconda3/envs/cloudspace/lib/python3.10/site-packages/statsmodels/genmod/families/family.py:1402: RuntimeWarning: divide by zero encountered in divide\n",
      "  endog_mu = self._clean(endog / mu)\n",
      "/home/zeus/miniconda3/envs/cloudspace/lib/python3.10/site-packages/autots/tools/seasonal.py:896: RuntimeWarning: invalid value encountered in divide\n",
      "  scores = np.mean(np.abs(a - b) / divisor, axis=2)\n",
      "/home/zeus/miniconda3/envs/cloudspace/lib/python3.10/site-packages/autots/tools/seasonal.py:896: RuntimeWarning: invalid value encountered in divide\n",
      "  scores = np.mean(np.abs(a - b) / divisor, axis=2)\n",
      "/home/zeus/miniconda3/envs/cloudspace/lib/python3.10/site-packages/autots/tools/seasonal.py:896: RuntimeWarning: invalid value encountered in divide\n",
      "  scores = np.mean(np.abs(a - b) / divisor, axis=2)\n",
      "/home/zeus/miniconda3/envs/cloudspace/lib/python3.10/site-packages/sklearn/linear_model/_coordinate_descent.py:628: ConvergenceWarning: Objective did not converge. You might want to increase the number of iterations, check the scale of the features or consider increasing regularisation. Duality gap: 7.608e+03, tolerance: 4.570e+01\n",
      "  model = cd_fast.enet_coordinate_descent(\n",
      "/home/zeus/miniconda3/envs/cloudspace/lib/python3.10/site-packages/autots/tools/seasonal.py:896: RuntimeWarning: invalid value encountered in divide\n",
      "  scores = np.mean(np.abs(a - b) / divisor, axis=2)\n",
      "/home/zeus/miniconda3/envs/cloudspace/lib/python3.10/site-packages/autots/tools/seasonal.py:896: RuntimeWarning: invalid value encountered in divide\n",
      "  scores = np.mean(np.abs(a - b) / divisor, axis=2)\n",
      "/home/zeus/miniconda3/envs/cloudspace/lib/python3.10/site-packages/autots/tools/seasonal.py:896: RuntimeWarning: invalid value encountered in divide\n",
      "  scores = np.mean(np.abs(a - b) / divisor, axis=2)\n",
      "/home/zeus/miniconda3/envs/cloudspace/lib/python3.10/site-packages/sklearn/linear_model/_coordinate_descent.py:628: ConvergenceWarning: Objective did not converge. You might want to increase the number of iterations, check the scale of the features or consider increasing regularisation. Duality gap: 7.608e+03, tolerance: 4.570e+01\n",
      "  model = cd_fast.enet_coordinate_descent(\n",
      "/home/zeus/miniconda3/envs/cloudspace/lib/python3.10/site-packages/autots/tools/seasonal.py:896: RuntimeWarning: invalid value encountered in divide\n",
      "  scores = np.mean(np.abs(a - b) / divisor, axis=2)\n",
      "/home/zeus/miniconda3/envs/cloudspace/lib/python3.10/site-packages/autots/tools/seasonal.py:896: RuntimeWarning: invalid value encountered in divide\n",
      "  scores = np.mean(np.abs(a - b) / divisor, axis=2)\n",
      "/home/zeus/miniconda3/envs/cloudspace/lib/python3.10/site-packages/autots/tools/seasonal.py:896: RuntimeWarning: invalid value encountered in divide\n",
      "  scores = np.mean(np.abs(a - b) / divisor, axis=2)\n",
      "/home/zeus/miniconda3/envs/cloudspace/lib/python3.10/site-packages/sklearn/linear_model/_coordinate_descent.py:628: ConvergenceWarning: Objective did not converge. You might want to increase the number of iterations, check the scale of the features or consider increasing regularisation. Duality gap: 7.608e+03, tolerance: 4.570e+01\n",
      "  model = cd_fast.enet_coordinate_descent(\n"
     ]
    },
    {
     "name": "stdout",
     "output_type": "stream",
     "text": [
      "15 - Ensemble with avg smape 10.39: \n",
      "16 - Ensemble with avg smape 10.39: \n",
      "17 - Ensemble with avg smape 10.45: \n",
      "18 - Ensemble with avg smape 10.5: \n",
      "19 - Ensemble with avg smape 11.19: \n",
      "20 - Ensemble with avg smape 11.34: \n",
      "21 - Ensemble with avg smape 11.07: \n",
      "22 - Ensemble with avg smape 11.07: \n",
      "23 - Ensemble with avg smape 10.39: \n",
      "24 - Ensemble with avg smape 11.14: \n",
      "25 - Ensemble with avg smape 10.42: \n",
      "26 - Ensemble with avg smape 10.39: \n",
      "27 - Ensemble with avg smape 18.23: \n",
      "28 - Ensemble with avg smape 10.37: \n",
      "Model Number: 29 of 8 with model Ensemble for Validation 1\n"
     ]
    },
    {
     "name": "stderr",
     "output_type": "stream",
     "text": [
      "/home/zeus/miniconda3/envs/cloudspace/lib/python3.10/site-packages/sklearn/linear_model/_coordinate_descent.py:628: ConvergenceWarning: Objective did not converge. You might want to increase the number of iterations, check the scale of the features or consider increasing regularisation. Duality gap: 9.468e-01, tolerance: 1.400e-03\n",
      "  model = cd_fast.enet_coordinate_descent(\n"
     ]
    },
    {
     "name": "stdout",
     "output_type": "stream",
     "text": [
      "29 - Ensemble with avg smape 10.99: \n",
      "30 - Ensemble with avg smape 10.99: \n",
      "31 - Ensemble with avg smape 10.84: \n",
      "32 - Ensemble with avg smape 10.98: \n",
      "33 - Ensemble with avg smape 11.19: \n",
      "34 - Ensemble with avg smape 11.34: \n",
      "35 - Ensemble with avg smape 11.07: \n",
      "36 - Ensemble with avg smape 11.07: \n",
      "37 - Ensemble with avg smape 10.99: \n",
      "38 - Ensemble with avg smape 11.14: \n",
      "39 - Ensemble with avg smape 10.89: \n",
      "40 - Ensemble with avg smape 10.96: \n",
      "41 - Ensemble with avg smape 18.63: \n",
      "42 - Ensemble with avg smape 10.65: \n",
      "Model Number: 43 of 8 with model Ensemble for Validation 1\n"
     ]
    },
    {
     "name": "stderr",
     "output_type": "stream",
     "text": [
      "/home/zeus/miniconda3/envs/cloudspace/lib/python3.10/site-packages/sklearn/linear_model/_coordinate_descent.py:628: ConvergenceWarning: Objective did not converge. You might want to increase the number of iterations, check the scale of the features or consider increasing regularisation. Duality gap: 9.468e-01, tolerance: 1.400e-03\n",
      "  model = cd_fast.enet_coordinate_descent(\n",
      "/home/zeus/miniconda3/envs/cloudspace/lib/python3.10/site-packages/autots/tools/seasonal.py:896: RuntimeWarning: invalid value encountered in divide\n",
      "  scores = np.mean(np.abs(a - b) / divisor, axis=2)\n",
      "/home/zeus/miniconda3/envs/cloudspace/lib/python3.10/site-packages/autots/tools/seasonal.py:896: RuntimeWarning: invalid value encountered in divide\n",
      "  scores = np.mean(np.abs(a - b) / divisor, axis=2)\n",
      "/home/zeus/miniconda3/envs/cloudspace/lib/python3.10/site-packages/autots/tools/seasonal.py:896: RuntimeWarning: invalid value encountered in divide\n",
      "  scores = np.mean(np.abs(a - b) / divisor, axis=2)\n",
      "/home/zeus/miniconda3/envs/cloudspace/lib/python3.10/site-packages/sklearn/linear_model/_coordinate_descent.py:628: ConvergenceWarning: Objective did not converge. You might want to increase the number of iterations, check the scale of the features or consider increasing regularisation. Duality gap: 7.608e+03, tolerance: 4.570e+01\n",
      "  model = cd_fast.enet_coordinate_descent(\n"
     ]
    },
    {
     "name": "stdout",
     "output_type": "stream",
     "text": [
      "43 - Ensemble with avg smape 10.38: \n",
      "44 - Ensemble with avg smape 10.38: \n",
      "45 - Ensemble with avg smape 10.41: \n",
      "46 - Ensemble with avg smape 10.46: \n",
      "47 - Ensemble with avg smape 11.19: \n",
      "48 - Ensemble with avg smape 11.34: \n",
      "49 - Ensemble with avg smape 11.07: \n",
      "50 - Ensemble with avg smape 11.07: \n",
      "51 - Ensemble with avg smape 10.38: \n",
      "52 - Ensemble with avg smape 11.14: \n",
      "53 - Ensemble with avg smape 10.38: \n",
      "54 - Ensemble with avg smape 10.37: \n",
      "55 - Ensemble with avg smape 18.26: \n",
      "56 - Ensemble with avg smape 10.38: \n",
      "Model Number: 57 of 8 with model Ensemble for Validation 1\n"
     ]
    },
    {
     "name": "stderr",
     "output_type": "stream",
     "text": [
      "/home/zeus/miniconda3/envs/cloudspace/lib/python3.10/site-packages/statsmodels/genmod/families/family.py:1367: ValueWarning: Negative binomial dispersion parameter alpha not set. Using default value alpha=1.0.\n",
      "  warnings.warn(\"Negative binomial dispersion parameter alpha not \"\n",
      "/home/zeus/miniconda3/envs/cloudspace/lib/python3.10/site-packages/statsmodels/genmod/families/family.py:1402: RuntimeWarning: divide by zero encountered in divide\n",
      "  endog_mu = self._clean(endog / mu)\n",
      "/home/zeus/miniconda3/envs/cloudspace/lib/python3.10/site-packages/autots/tools/seasonal.py:896: RuntimeWarning: invalid value encountered in divide\n",
      "  scores = np.mean(np.abs(a - b) / divisor, axis=2)\n",
      "/home/zeus/miniconda3/envs/cloudspace/lib/python3.10/site-packages/autots/tools/seasonal.py:896: RuntimeWarning: invalid value encountered in divide\n",
      "  scores = np.mean(np.abs(a - b) / divisor, axis=2)\n",
      "/home/zeus/miniconda3/envs/cloudspace/lib/python3.10/site-packages/autots/tools/seasonal.py:896: RuntimeWarning: invalid value encountered in divide\n",
      "  scores = np.mean(np.abs(a - b) / divisor, axis=2)\n",
      "/home/zeus/miniconda3/envs/cloudspace/lib/python3.10/site-packages/sklearn/linear_model/_coordinate_descent.py:628: ConvergenceWarning: Objective did not converge. You might want to increase the number of iterations, check the scale of the features or consider increasing regularisation. Duality gap: 7.608e+03, tolerance: 4.570e+01\n",
      "  model = cd_fast.enet_coordinate_descent(\n"
     ]
    },
    {
     "name": "stdout",
     "output_type": "stream",
     "text": [
      "57 - Ensemble with avg smape 10.37: \n",
      "58 - Ensemble with avg smape 10.37: \n",
      "59 - Ensemble with avg smape 10.45: \n",
      "60 - Ensemble with avg smape 10.48: \n",
      "61 - Ensemble with avg smape 11.19: \n",
      "62 - Ensemble with avg smape 11.34: \n",
      "63 - Ensemble with avg smape 11.07: \n",
      "64 - Ensemble with avg smape 11.07: \n",
      "65 - Ensemble with avg smape 10.37: \n",
      "66 - Ensemble with avg smape 11.14: \n",
      "67 - Ensemble with avg smape 10.4: \n",
      "68 - Ensemble with avg smape 10.37: \n",
      "69 - Ensemble with avg smape 18.23: \n",
      "70 - Ensemble with avg smape 10.37: \n",
      "Model Number: 71 of 8 with model Ensemble for Validation 1\n"
     ]
    },
    {
     "name": "stderr",
     "output_type": "stream",
     "text": [
      "/home/zeus/miniconda3/envs/cloudspace/lib/python3.10/site-packages/statsmodels/genmod/families/family.py:1367: ValueWarning: Negative binomial dispersion parameter alpha not set. Using default value alpha=1.0.\n",
      "  warnings.warn(\"Negative binomial dispersion parameter alpha not \"\n",
      "/home/zeus/miniconda3/envs/cloudspace/lib/python3.10/site-packages/statsmodels/genmod/families/family.py:1402: RuntimeWarning: divide by zero encountered in divide\n",
      "  endog_mu = self._clean(endog / mu)\n",
      "/home/zeus/miniconda3/envs/cloudspace/lib/python3.10/site-packages/autots/tools/seasonal.py:896: RuntimeWarning: invalid value encountered in divide\n",
      "  scores = np.mean(np.abs(a - b) / divisor, axis=2)\n",
      "/home/zeus/miniconda3/envs/cloudspace/lib/python3.10/site-packages/autots/tools/seasonal.py:896: RuntimeWarning: invalid value encountered in divide\n",
      "  scores = np.mean(np.abs(a - b) / divisor, axis=2)\n",
      "/home/zeus/miniconda3/envs/cloudspace/lib/python3.10/site-packages/autots/tools/seasonal.py:896: RuntimeWarning: invalid value encountered in divide\n",
      "  scores = np.mean(np.abs(a - b) / divisor, axis=2)\n",
      "/home/zeus/miniconda3/envs/cloudspace/lib/python3.10/site-packages/sklearn/linear_model/_coordinate_descent.py:628: ConvergenceWarning: Objective did not converge. You might want to increase the number of iterations, check the scale of the features or consider increasing regularisation. Duality gap: 7.608e+03, tolerance: 4.570e+01\n",
      "  model = cd_fast.enet_coordinate_descent(\n"
     ]
    },
    {
     "name": "stdout",
     "output_type": "stream",
     "text": [
      "71 - Ensemble with avg smape 10.37: \n",
      "72 - Ensemble with avg smape 10.37: \n",
      "73 - Ensemble with avg smape 10.43: \n",
      "74 - Ensemble with avg smape 10.48: \n",
      "75 - Ensemble with avg smape 11.19: \n",
      "76 - Ensemble with avg smape 11.34: \n",
      "77 - Ensemble with avg smape 11.07: \n",
      "78 - Ensemble with avg smape 11.07: \n",
      "79 - Ensemble with avg smape 10.37: \n",
      "80 - Ensemble with avg smape 11.14: \n",
      "81 - Ensemble with avg smape 10.39: \n",
      "82 - Ensemble with avg smape 10.37: \n",
      "83 - Ensemble with avg smape 18.24: \n",
      "84 - Ensemble with avg smape 10.37: \n",
      "Model Number: 85 of 8 with model Ensemble for Validation 1\n"
     ]
    },
    {
     "name": "stderr",
     "output_type": "stream",
     "text": [
      "/home/zeus/miniconda3/envs/cloudspace/lib/python3.10/site-packages/statsmodels/genmod/families/family.py:1367: ValueWarning: Negative binomial dispersion parameter alpha not set. Using default value alpha=1.0.\n",
      "  warnings.warn(\"Negative binomial dispersion parameter alpha not \"\n",
      "/home/zeus/miniconda3/envs/cloudspace/lib/python3.10/site-packages/statsmodels/genmod/families/family.py:1402: RuntimeWarning: divide by zero encountered in divide\n",
      "  endog_mu = self._clean(endog / mu)\n",
      "/home/zeus/miniconda3/envs/cloudspace/lib/python3.10/site-packages/autots/tools/seasonal.py:896: RuntimeWarning: invalid value encountered in divide\n",
      "  scores = np.mean(np.abs(a - b) / divisor, axis=2)\n",
      "/home/zeus/miniconda3/envs/cloudspace/lib/python3.10/site-packages/autots/tools/seasonal.py:896: RuntimeWarning: invalid value encountered in divide\n",
      "  scores = np.mean(np.abs(a - b) / divisor, axis=2)\n",
      "/home/zeus/miniconda3/envs/cloudspace/lib/python3.10/site-packages/autots/tools/seasonal.py:896: RuntimeWarning: invalid value encountered in divide\n",
      "  scores = np.mean(np.abs(a - b) / divisor, axis=2)\n",
      "/home/zeus/miniconda3/envs/cloudspace/lib/python3.10/site-packages/sklearn/linear_model/_coordinate_descent.py:628: ConvergenceWarning: Objective did not converge. You might want to increase the number of iterations, check the scale of the features or consider increasing regularisation. Duality gap: 7.608e+03, tolerance: 4.570e+01\n",
      "  model = cd_fast.enet_coordinate_descent(\n"
     ]
    },
    {
     "name": "stdout",
     "output_type": "stream",
     "text": [
      "85 - Ensemble with avg smape 10.37: \n",
      "86 - Ensemble with avg smape 10.37: \n",
      "87 - Ensemble with avg smape 10.44: \n",
      "88 - Ensemble with avg smape 10.48: \n",
      "89 - Ensemble with avg smape 11.19: \n",
      "90 - Ensemble with avg smape 11.34: \n",
      "91 - Ensemble with avg smape 11.07: \n",
      "92 - Ensemble with avg smape 11.07: \n",
      "93 - Ensemble with avg smape 10.37: \n",
      "94 - Ensemble with avg smape 11.14: \n",
      "95 - Ensemble with avg smape 10.4: \n",
      "96 - Ensemble with avg smape 10.37: \n",
      "97 - Ensemble with avg smape 18.23: \n",
      "98 - Ensemble with avg smape 10.37: \n",
      "Model Number: 99 of 8 with model Ensemble for Validation 1\n"
     ]
    },
    {
     "name": "stderr",
     "output_type": "stream",
     "text": [
      "/home/zeus/miniconda3/envs/cloudspace/lib/python3.10/site-packages/statsmodels/genmod/families/family.py:1367: ValueWarning: Negative binomial dispersion parameter alpha not set. Using default value alpha=1.0.\n",
      "  warnings.warn(\"Negative binomial dispersion parameter alpha not \"\n",
      "/home/zeus/miniconda3/envs/cloudspace/lib/python3.10/site-packages/statsmodels/genmod/families/family.py:1402: RuntimeWarning: divide by zero encountered in divide\n",
      "  endog_mu = self._clean(endog / mu)\n",
      "/home/zeus/miniconda3/envs/cloudspace/lib/python3.10/site-packages/autots/tools/seasonal.py:896: RuntimeWarning: invalid value encountered in divide\n",
      "  scores = np.mean(np.abs(a - b) / divisor, axis=2)\n",
      "/home/zeus/miniconda3/envs/cloudspace/lib/python3.10/site-packages/autots/tools/seasonal.py:896: RuntimeWarning: invalid value encountered in divide\n",
      "  scores = np.mean(np.abs(a - b) / divisor, axis=2)\n",
      "/home/zeus/miniconda3/envs/cloudspace/lib/python3.10/site-packages/autots/tools/seasonal.py:896: RuntimeWarning: invalid value encountered in divide\n",
      "  scores = np.mean(np.abs(a - b) / divisor, axis=2)\n",
      "/home/zeus/miniconda3/envs/cloudspace/lib/python3.10/site-packages/sklearn/linear_model/_coordinate_descent.py:628: ConvergenceWarning: Objective did not converge. You might want to increase the number of iterations, check the scale of the features or consider increasing regularisation. Duality gap: 7.608e+03, tolerance: 4.570e+01\n",
      "  model = cd_fast.enet_coordinate_descent(\n"
     ]
    },
    {
     "name": "stdout",
     "output_type": "stream",
     "text": [
      "99 - Ensemble with avg smape 10.37: \n",
      "100 - Ensemble with avg smape 10.37: \n",
      "101 - Ensemble with avg smape 10.45: \n",
      "102 - Ensemble with avg smape 10.48: \n",
      "103 - Ensemble with avg smape 11.19: \n",
      "104 - Ensemble with avg smape 11.34: \n",
      "105 - Ensemble with avg smape 11.07: \n",
      "106 - Ensemble with avg smape 11.07: \n",
      "107 - Ensemble with avg smape 10.37: \n",
      "108 - Ensemble with avg smape 11.14: \n",
      "109 - Ensemble with avg smape 10.4: \n",
      "110 - Ensemble with avg smape 10.37: \n",
      "111 - Ensemble with avg smape 18.23: \n",
      "112 - Ensemble with avg smape 10.37: \n"
     ]
    }
   ],
   "source": [
    "import pandas as pd\n",
    "import numpy as np\n",
    "from autots import AutoTS\n",
    "from sklearn.metrics import mean_absolute_error, mean_squared_error\n",
    "\n",
    "# Load data\n",
    "df = pd.read_csv(\"between_299_90_data.csv\", parse_dates=[\"date\"])\n",
    "\n",
    "# Convert date column to datetime\n",
    "df[\"date\"] = pd.to_datetime(df[\"date\"])\n",
    "\n",
    "# Replace 'user_id_value' with the actual user ID you want to filter\n",
    "user_id_value = \"8b26cbbab26d33daba641fae9426d1bd25c1ad8e7abfe187a459512f5a8866e7\"  # Example user ID\n",
    "\n",
    "# Filter data for the specific user\n",
    "user_data = df[df[\"profile_id\"] == user_id_value]\n",
    "\n",
    "# Extract year, month, and day\n",
    "user_data[\"year\"] = user_data[\"date\"].dt.year\n",
    "user_data[\"month\"] = user_data[\"date\"].dt.month\n",
    "user_data[\"day\"] = user_data[\"date\"].dt.day\n",
    "\n",
    "# Aggregate: Keep last follower count per day for each profile\n",
    "daily_df = (\n",
    "    user_data.sort_values([\"profile_id\", \"date\"])\n",
    "    .groupby([\"profile_id\", \"year\", \"month\", \"day\"])\n",
    "    .last()\n",
    "    .reset_index()\n",
    ")\n",
    "\n",
    "# Convert back to date format\n",
    "daily_df[\"date\"] = pd.to_datetime(daily_df[[\"year\", \"month\", \"day\"]])\n",
    "\n",
    "# Define the full date range (daily from Jan 2023 to Dec 2024)\n",
    "#full_date_range = pd.date_range(start=\"2023-01-01\", end=\"2024-12-31\", freq=\"D\")  # 'D' for daily\n",
    "\n",
    "# Drop unnecessary columns\n",
    "daily_df = daily_df[[\"date\", \"profile_id\", \"followers_num\"]]\n",
    "\n",
    "# Create a MultiIndex with all profiles and all days\n",
    "#full_index = pd.MultiIndex.from_product([unique_ids, full_date_range], names=[\"profile_id\", \"date\"])\n",
    "\n",
    "# Reindex the DataFrame to enforce this structure\n",
    "#daily_df = daily_df.set_index([\"profile_id\", \"date\"]).reindex(full_index).reset_index()\n",
    "\n",
    "# Randomly select 60 IDs\n",
    "#selected_ids = np.random.choice(unique_ids, size=60, replace=False)\n",
    "\n",
    "# Filter the DataFrame to include only the selected IDs\n",
    "#daily_df = daily_df[daily_df['profile_id'].isin(selected_ids)]\n",
    "\n",
    "# Verify the number of unique IDs in the filtered DataFrame\n",
    "#print(f\"Number of unique IDs in filtered DataFrame: {daily_df['profile_id'].nunique()}\")\n",
    "\n",
    "# Fill missing values\n",
    "daily_df.fillna(method='ffill', inplace=True)\n",
    "daily_df.fillna(method='bfill', inplace=True)\n",
    "daily_df.fillna(0, inplace=True)\n",
    "\n",
    "# # Split the data\n",
    "# train_df = daily_df[daily_df['date'] < '2024-07-01']\n",
    "# test_df = daily_df[daily_df['date'] >= '2024-07-01']\n",
    "\n",
    "# Sort data by date to ensure correct splitting\n",
    "daily_df = daily_df.sort_values(\"date\")\n",
    "\n",
    "# Find the total number of unique days\n",
    "unique_dates = daily_df[\"date\"].unique()\n",
    "\n",
    "# Determine the split index (75% of the data)\n",
    "split_index = int(len(unique_dates) * 0.75)\n",
    "\n",
    "# Get the corresponding date for the split\n",
    "split_date = unique_dates[split_index]  # This is the cutoff date\n",
    "\n",
    "# Perform the split dynamically\n",
    "train_df = daily_df[daily_df[\"date\"] < split_date]\n",
    "test_df = daily_df[daily_df[\"date\"] >= split_date]\n",
    "\n",
    "# Verify the split\n",
    "print(\"Train Data Range:\", train_df[\"date\"].min(), \"to\", train_df[\"date\"].max())\n",
    "print(\"Test Data Range:\", test_df[\"date\"].min(), \"to\", test_df[\"date\"].max())\n",
    "print(f\"Split Date: {split_date}, Total Unique Days: {len(unique_dates)}\")\n",
    "\n",
    "\n",
    "# Pivot and convert dates to daily format\n",
    "def prepare_for_autts(df):\n",
    "    df = df.pivot(index='date', columns='profile_id', values='followers_num')\n",
    "    df = df.fillna(method='ffill')\n",
    "    df.index = df.index.to_period('D').to_timestamp('D')  # Convert to daily timestamp\n",
    "    df = df.fillna(method='ffill')\n",
    "    return df\n",
    "\n",
    "train_df = prepare_for_autts(train_df)\n",
    "test_df = prepare_for_autts(test_df)\n",
    "\n",
    "# Ensure no missing values\n",
    "train_df.fillna(method='ffill', inplace=True)\n",
    "train_df.fillna(method='bfill', inplace=True)\n",
    "train_df.fillna(0, inplace=True)\n",
    "\n",
    "test_df.fillna(method='ffill', inplace=True)\n",
    "test_df.fillna(method='bfill', inplace=True)\n",
    "test_df.fillna(0, inplace=True)\n",
    "\n",
    "# ----- AUTOTS MODEL -----\n",
    "# Initialize and train the AutoTS model for daily forecasting\n",
    "model = AutoTS(\n",
    "    forecast_length=len(test_df),  \n",
    "    frequency='D',  # Daily frequency\n",
    "    ensemble='simple',\n",
    "    max_generations=10,\n",
    "    num_validations=3,\n",
    "    validation_method='backwards'\n",
    ")\n",
    "\n",
    "# Train the model\n",
    "model = model.fit(train_df)\n",
    "\n",
    "# Generate predictions\n",
    "predictions = model.predict(prediction_interval=0.95, fail_on_forecast_nan=False)\n",
    "forecast_df = predictions.forecast.fillna(0)\n",
    "\n",
    "common_index = forecast_df.index.intersection(test_df.index)\n",
    "forecast_df = forecast_df.loc[common_index]\n",
    "test_df_aligned = test_df.loc[common_index]\n",
    "\n",
    "# Align test data with predictions\n",
    "test_df_aligned = test_df.loc[forecast_df.index]\n",
    "\n",
    "# Evaluate AutoTS model\n",
    "evaluation_results_90 = []\n",
    "for profile_id in test_df_aligned.columns:\n",
    "    true_values = test_df_aligned[profile_id]\n",
    "    predicted_values = forecast_df[profile_id]\n",
    "    mae_autots = mean_absolute_error(true_values, predicted_values)\n",
    "    mse_autots = mean_squared_error(true_values, predicted_values)\n",
    "    evaluation_results_90.append({'Profile': profile_id, 'MAE_AutoTS_Daily': mae_autots, 'MSE_AutoTS_Daily': mse_autots})\n",
    "\n",
    "# Create a comparison DataFrame\n",
    "evaluation_df_90 = pd.DataFrame(evaluation_results_90)"
   ]
  },
  {
   "cell_type": "code",
   "execution_count": 2,
   "metadata": {},
   "outputs": [
    {
     "data": {
      "text/plain": [
       "[{'Profile': '8b26cbbab26d33daba641fae9426d1bd25c1ad8e7abfe187a459512f5a8866e7',\n",
       "  'MAE_AutoTS_Daily': 1878505.0863176002,\n",
       "  'MSE_AutoTS_Daily': 3940686154692.1245}]"
      ]
     },
     "execution_count": 2,
     "metadata": {},
     "output_type": "execute_result"
    }
   ],
   "source": [
    "evaluation_results_90"
   ]
  },
  {
   "cell_type": "code",
   "execution_count": 3,
   "metadata": {},
   "outputs": [
    {
     "name": "stdout",
     "output_type": "stream",
     "text": [
      "Train Data Range: 2023-01-01 00:00:00 to 2023-08-04 00:00:00\n",
      "Test Data Range: 2023-08-05 00:00:00 to 2024-10-15 00:00:00\n",
      "Split Date: 2023-08-05 00:00:00, Total Unique Days: 288\n",
      "Using 4 cpus for n_jobs.\n",
      "Data frequency is: D, used frequency is: D\n",
      "Too many training validations for length of data provided, decreasing num_validations to 1\n",
      "Model Number: 1 with model AverageValueNaive in generation 0 of 10\n",
      "Model Number: 2 with model AverageValueNaive in generation 0 of 10\n",
      "Model Number: 3 with model AverageValueNaive in generation 0 of 10\n",
      "Model Number: 4 with model DatepartRegression in generation 0 of 10\n"
     ]
    },
    {
     "name": "stderr",
     "output_type": "stream",
     "text": [
      "/tmp/ipykernel_81335/2315399121.py:19: SettingWithCopyWarning: \n",
      "A value is trying to be set on a copy of a slice from a DataFrame.\n",
      "Try using .loc[row_indexer,col_indexer] = value instead\n",
      "\n",
      "See the caveats in the documentation: https://pandas.pydata.org/pandas-docs/stable/user_guide/indexing.html#returning-a-view-versus-a-copy\n",
      "  user_data[\"year\"] = user_data[\"date\"].dt.year\n",
      "/tmp/ipykernel_81335/2315399121.py:20: SettingWithCopyWarning: \n",
      "A value is trying to be set on a copy of a slice from a DataFrame.\n",
      "Try using .loc[row_indexer,col_indexer] = value instead\n",
      "\n",
      "See the caveats in the documentation: https://pandas.pydata.org/pandas-docs/stable/user_guide/indexing.html#returning-a-view-versus-a-copy\n",
      "  user_data[\"month\"] = user_data[\"date\"].dt.month\n",
      "/tmp/ipykernel_81335/2315399121.py:21: SettingWithCopyWarning: \n",
      "A value is trying to be set on a copy of a slice from a DataFrame.\n",
      "Try using .loc[row_indexer,col_indexer] = value instead\n",
      "\n",
      "See the caveats in the documentation: https://pandas.pydata.org/pandas-docs/stable/user_guide/indexing.html#returning-a-view-versus-a-copy\n",
      "  user_data[\"day\"] = user_data[\"date\"].dt.day\n",
      "/tmp/ipykernel_81335/2315399121.py:56: FutureWarning: DataFrame.fillna with 'method' is deprecated and will raise in a future version. Use obj.ffill() or obj.bfill() instead.\n",
      "  daily_df.fillna(method='ffill', inplace=True)\n",
      "/tmp/ipykernel_81335/2315399121.py:57: FutureWarning: DataFrame.fillna with 'method' is deprecated and will raise in a future version. Use obj.ffill() or obj.bfill() instead.\n",
      "  daily_df.fillna(method='bfill', inplace=True)\n",
      "/tmp/ipykernel_81335/2315399121.py:89: FutureWarning: DataFrame.fillna with 'method' is deprecated and will raise in a future version. Use obj.ffill() or obj.bfill() instead.\n",
      "  df = df.fillna(method='ffill')\n",
      "/tmp/ipykernel_81335/2315399121.py:91: FutureWarning: DataFrame.fillna with 'method' is deprecated and will raise in a future version. Use obj.ffill() or obj.bfill() instead.\n",
      "  df = df.fillna(method='ffill')\n",
      "/tmp/ipykernel_81335/2315399121.py:89: FutureWarning: DataFrame.fillna with 'method' is deprecated and will raise in a future version. Use obj.ffill() or obj.bfill() instead.\n",
      "  df = df.fillna(method='ffill')\n",
      "/tmp/ipykernel_81335/2315399121.py:91: FutureWarning: DataFrame.fillna with 'method' is deprecated and will raise in a future version. Use obj.ffill() or obj.bfill() instead.\n",
      "  df = df.fillna(method='ffill')\n",
      "/tmp/ipykernel_81335/2315399121.py:98: FutureWarning: DataFrame.fillna with 'method' is deprecated and will raise in a future version. Use obj.ffill() or obj.bfill() instead.\n",
      "  train_df.fillna(method='ffill', inplace=True)\n",
      "/tmp/ipykernel_81335/2315399121.py:99: FutureWarning: DataFrame.fillna with 'method' is deprecated and will raise in a future version. Use obj.ffill() or obj.bfill() instead.\n",
      "  train_df.fillna(method='bfill', inplace=True)\n",
      "/tmp/ipykernel_81335/2315399121.py:102: FutureWarning: DataFrame.fillna with 'method' is deprecated and will raise in a future version. Use obj.ffill() or obj.bfill() instead.\n",
      "  test_df.fillna(method='ffill', inplace=True)\n",
      "/tmp/ipykernel_81335/2315399121.py:103: FutureWarning: DataFrame.fillna with 'method' is deprecated and will raise in a future version. Use obj.ffill() or obj.bfill() instead.\n",
      "  test_df.fillna(method='bfill', inplace=True)\n"
     ]
    },
    {
     "name": "stdout",
     "output_type": "stream",
     "text": [
      "Model Number: 5 with model DatepartRegression in generation 0 of 10\n",
      "Model Number: 6 with model DatepartRegression in generation 0 of 10\n"
     ]
    },
    {
     "name": "stderr",
     "output_type": "stream",
     "text": [
      "/home/zeus/miniconda3/envs/cloudspace/lib/python3.10/site-packages/sklearn/svm/_classes.py:32: FutureWarning: The default value of `dual` will change from `True` to `'auto'` in 1.5. Set the value of `dual` explicitly to suppress the warning.\n",
      "  warnings.warn(\n",
      "/home/zeus/miniconda3/envs/cloudspace/lib/python3.10/site-packages/sklearn/svm/_base.py:1250: ConvergenceWarning: Liblinear failed to converge, increase the number of iterations.\n",
      "  warnings.warn(\n"
     ]
    },
    {
     "name": "stdout",
     "output_type": "stream",
     "text": [
      "Model Number: 7 with model DatepartRegression in generation 0 of 10\n",
      "Template Eval Error: ImportError('Tensorflow not available, install with pip install tensorflow.') in model 7 in generation 0: DatepartRegression\n",
      "Model Number: 8 with model ETS in generation 0 of 10\n"
     ]
    },
    {
     "name": "stderr",
     "output_type": "stream",
     "text": [
      "/home/zeus/miniconda3/envs/cloudspace/lib/python3.10/site-packages/sklearn/neural_network/_multilayer_perceptron.py:546: ConvergenceWarning: lbfgs failed to converge (status=1):\n",
      "STOP: TOTAL NO. of ITERATIONS REACHED LIMIT.\n",
      "\n",
      "Increase the number of iterations (max_iter) or scale the data as shown in:\n",
      "    https://scikit-learn.org/stable/modules/preprocessing.html\n",
      "  self.n_iter_ = _check_optimize_result(\"lbfgs\", opt_res, self.max_iter)\n"
     ]
    },
    {
     "name": "stdout",
     "output_type": "stream",
     "text": [
      "Model Number: 9 with model ETS in generation 0 of 10\n",
      "Model Number: 10 with model GLM in generation 0 of 10\n",
      "Model Number: 11 with model GLM in generation 0 of 10\n",
      "Model Number: 12 with model GLS in generation 0 of 10\n",
      "Model Number: 13 with model GLS in generation 0 of 10\n",
      "Model Number: 14 with model LastValueNaive in generation 0 of 10\n",
      "Model Number: 15 with model LastValueNaive in generation 0 of 10\n",
      "Model Number: 16 with model LastValueNaive in generation 0 of 10\n",
      "Model Number: 17 with model LastValueNaive in generation 0 of 10\n",
      "Model Number: 18 with model SeasonalNaive in generation 0 of 10\n",
      "Model Number: 19 with model SeasonalNaive in generation 0 of 10\n",
      "Model Number: 20 with model SeasonalNaive in generation 0 of 10\n",
      "Model Number: 21 with model VAR in generation 0 of 10\n",
      "Template Eval Error: ValueError('Only gave one variable to VAR') in model 21 in generation 0: VAR\n",
      "Model Number: 22 with model VAR in generation 0 of 10\n",
      "Template Eval Error: ValueError('Only gave one variable to VAR') in model 22 in generation 0: VAR\n",
      "Model Number: 23 with model WindowRegression in generation 0 of 10\n",
      "Model Number: 24 with model ConstantNaive in generation 0 of 10\n",
      "Model Number: 25 with model FBProphet in generation 0 of 10\n",
      "Template Eval Error: ModuleNotFoundError(\"No module named 'fbprophet'\") in model 25 in generation 0: FBProphet\n",
      "Model Number: 26 with model DatepartRegression in generation 0 of 10\n",
      "Template Eval Error: ValueError(\"regression_type='User' but no future_regressor passed\") in model 26 in generation 0: DatepartRegression\n",
      "Model Number: 27 with model SeasonalNaive in generation 0 of 10\n"
     ]
    },
    {
     "name": "stderr",
     "output_type": "stream",
     "text": [
      "/home/zeus/miniconda3/envs/cloudspace/lib/python3.10/site-packages/sklearn/neural_network/_multilayer_perceptron.py:546: ConvergenceWarning: lbfgs failed to converge (status=1):\n",
      "STOP: TOTAL NO. of ITERATIONS REACHED LIMIT.\n",
      "\n",
      "Increase the number of iterations (max_iter) or scale the data as shown in:\n",
      "    https://scikit-learn.org/stable/modules/preprocessing.html\n",
      "  self.n_iter_ = _check_optimize_result(\"lbfgs\", opt_res, self.max_iter)\n"
     ]
    },
    {
     "name": "stdout",
     "output_type": "stream",
     "text": [
      "Model Number: 28 with model DatepartRegression in generation 0 of 10\n",
      "Model Number: 29 with model ETS in generation 0 of 10\n",
      "Model Number: 30 with model ARDL in generation 0 of 10\n",
      "Model Number: 31 with model UnivariateMotif in generation 0 of 10\n",
      "Model Number: 32 with model UnivariateMotif in generation 0 of 10\n",
      "Model Number: 33 with model SectionalMotif in generation 0 of 10\n",
      "Model Number: 34 with model SectionalMotif in generation 0 of 10\n",
      "Model Number: 35 with model FBProphet in generation 0 of 10\n",
      "Template Eval Error: ModuleNotFoundError(\"No module named 'fbprophet'\") in model 35 in generation 0: FBProphet\n",
      "Model Number: 36 with model SeasonalNaive in generation 0 of 10\n",
      "Model Number: 37 with model DatepartRegression in generation 0 of 10\n",
      "Model Number: 38 with model ARCH in generation 0 of 10\n",
      "Template Eval Error: ImportError('`arch` package must be installed from pip') in model 38 in generation 0: ARCH\n",
      "Model Number: 39 with model Cassandra in generation 0 of 10\n",
      "Template Eval Error: ValueError('more than 1 year of data is required for holiday detection.') in model 39 in generation 0: Cassandra\n",
      "Model Number: 40 with model SeasonalityMotif in generation 0 of 10\n",
      "Model Number: 41 with model Cassandra in generation 0 of 10\n",
      "Template Eval Error: ValueError('more than 1 year of data is required for holiday detection.') in model 41 in generation 0: Cassandra\n",
      "Model Number: 42 with model Cassandra in generation 0 of 10\n",
      "Template Eval Error: ValueError('more than 1 year of data is required for holiday detection.') in model 42 in generation 0: Cassandra\n",
      "Model Number: 43 with model Cassandra in generation 0 of 10\n",
      "Template Eval Error: ValueError('more than 1 year of data is required for holiday detection.') in model 43 in generation 0: Cassandra\n",
      "Model Number: 44 with model SectionalMotif in generation 0 of 10\n",
      "Model Number: 45 with model FBProphet in generation 0 of 10\n",
      "Template Eval Error: ModuleNotFoundError(\"No module named 'fbprophet'\") in model 45 in generation 0: FBProphet\n",
      "Model Number: 46 with model ARDL in generation 0 of 10\n",
      "Model Number: 47 with model FFT in generation 0 of 10\n",
      "Model Number: 48 with model BasicLinearModel in generation 0 of 10\n",
      "Model Number: 49 with model BasicLinearModel in generation 0 of 10\n",
      "Model Number: 50 with model SeasonalityMotif in generation 0 of 10\n",
      "Model Number: 51 with model ETS in generation 0 of 10\n",
      "Model Number: 52 with model FBProphet in generation 0 of 10\n",
      "Template Eval Error: ModuleNotFoundError(\"No module named 'fbprophet'\") in model 52 in generation 0: FBProphet\n",
      "Model Number: 53 with model GLM in generation 0 of 10\n",
      "Model Number: 54 with model UnivariateMotif in generation 0 of 10\n",
      "Model Number: 55 with model ARDL in generation 0 of 10\n",
      "Template Eval Error: ValueError(\"regression_type='User' but future_regressor not supplied\") in model 55 in generation 0: ARDL\n",
      "Model Number: 56 with model ARCH in generation 0 of 10\n",
      "Template Eval Error: ImportError('`arch` package must be installed from pip') in model 56 in generation 0: ARCH\n",
      "Model Number: 57 with model ConstantNaive in generation 0 of 10\n",
      "Model Number: 58 with model LastValueNaive in generation 0 of 10\n",
      "Model Number: 59 with model AverageValueNaive in generation 0 of 10\n",
      "Model Number: 60 with model GLS in generation 0 of 10\n",
      "Model Number: 61 with model SeasonalNaive in generation 0 of 10\n",
      "Model Number: 62 with model VAR in generation 0 of 10\n",
      "Template Eval Error: ValueError('Only gave one variable to VAR') in model 62 in generation 0: VAR\n",
      "Model Number: 63 with model WindowRegression in generation 0 of 10\n",
      "Model Number: 64 with model DatepartRegression in generation 0 of 10\n"
     ]
    },
    {
     "name": "stderr",
     "output_type": "stream",
     "text": [
      "/home/zeus/miniconda3/envs/cloudspace/lib/python3.10/site-packages/sklearn/base.py:458: UserWarning: X has feature names, but StandardScaler was fitted without feature names\n",
      "  warnings.warn(\n"
     ]
    },
    {
     "name": "stdout",
     "output_type": "stream",
     "text": [
      "Model Number: 65 with model SectionalMotif in generation 0 of 10\n",
      "Model Number: 66 with model RRVAR in generation 0 of 10\n",
      "Model Number: 67 with model MetricMotif in generation 0 of 10\n",
      "Model Number: 68 with model Cassandra in generation 0 of 10\n",
      "Template Eval Error: ValueError('Shape of passed values is (144, 2), indices imply (144, 1)') in model 68 in generation 0: Cassandra\n",
      "Model Number: 69 with model SeasonalityMotif in generation 0 of 10\n",
      "Model Number: 70 with model FFT in generation 0 of 10\n"
     ]
    },
    {
     "name": "stderr",
     "output_type": "stream",
     "text": [
      "/home/zeus/miniconda3/envs/cloudspace/lib/python3.10/site-packages/autots/tools/percentile.py:47: RuntimeWarning: All-NaN slice encountered\n",
      "  max_val = np.nanmax(arr)\n"
     ]
    },
    {
     "name": "stdout",
     "output_type": "stream",
     "text": [
      "Model Number: 71 with model BasicLinearModel in generation 0 of 10\n",
      "Model Number: 72 with model SectionalMotif in generation 0 of 10\n",
      "Model Number: 73 with model ARDL in generation 0 of 10\n",
      "Template Eval Error: ValueError(\"regression_type='User' but future_regressor not supplied\") in model 73 in generation 0: ARDL\n",
      "Model Number: 74 with model SeasonalityMotif in generation 0 of 10\n",
      "Model Number: 75 with model MetricMotif in generation 0 of 10\n",
      "Model Number: 76 with model ConstantNaive in generation 0 of 10\n",
      "Model Number: 77 with model UnivariateMotif in generation 0 of 10\n",
      "Template Eval Error: Exception(\"Transformer RobustScaler failed on fit from params pchip {'0': {'low': 6, 'high': 90, 'K': 1, 'lanczos_factor': False, 'return_diff': False, 'on_transform': True, 'on_inverse': False}, '1': {}, '2': {'rows': 1, 'lag': 1, 'method': 'additive', 'strength': 1.0, 'first_value_only': False, 'threshold': 10, 'threshold_method': 'max'}, '3': {'method': 100}, '4': {'window': None}, '5': {'decimals': 0, 'on_transform': True, 'on_inverse': False}} with error ValueError('Shape of passed values is (142, 1), indices imply (144, 1)')\") in model 77 in generation 0: UnivariateMotif\n",
      "Model Number: 78 with model SeasonalityMotif in generation 0 of 10\n",
      "Model Number: 79 with model MetricMotif in generation 0 of 10\n",
      "Model Number: 80 with model ARDL in generation 0 of 10\n",
      "Template Eval Error: ValueError(\"regression_type='User' but future_regressor not supplied\") in model 80 in generation 0: ARDL\n",
      "Model Number: 81 with model ARDL in generation 0 of 10\n",
      "Template Eval Error: ValueError(\"regression_type='User' but future_regressor not supplied\") in model 81 in generation 0: ARDL\n",
      "Model Number: 82 with model SeasonalNaive in generation 0 of 10\n",
      "Template Eval Error: Exception(\"Transformer HolidayTransformer failed on fit from params ffill {'0': {'part': 'trend', 'lamb': 129600}, '1': {'output_distribution': 'uniform', 'n_quantiles': 48}, '2': {}, '3': {'threshold': 0.9, 'splash_threshold': None, 'use_dayofmonth_holidays': True, 'use_wkdom_holidays': True, 'use_wkdeom_holidays': True, 'use_lunar_holidays': False, 'use_lunar_weekday': False, 'use_islamic_holidays': False, 'use_hebrew_holidays': False, 'use_hindu_holidays': True, 'anomaly_detector_params': {'method': 'minmax', 'method_params': {'alpha': 0.03}, 'fillna': 'mean', 'transform_dict': None, 'isolated_only': False, 'on_inverse': False}, 'remove_excess_anomalies': False, 'impact': 'datepart_regression', 'regression_params': {'regression_model': {'model': 'ElasticNet', 'model_params': {'l1_ratio': 0.5, 'fit_intercept': True, 'selection': 'cyclic', 'max_iter': 1000}}, 'datepart_method': 'expanded', 'polynomial_degree': None, 'transform_dict': None, 'holiday_countries_used': False, 'lags': None, 'forward_lags': 4}}, '4': {}} with error ValueError('more than 1 year of data is required for holiday detection.')\") in model 82 in generation 0: SeasonalNaive\n",
      "Model Number: 83 with model Cassandra in generation 0 of 10\n",
      "Template Eval Error: UnboundLocalError(\"local variable 'slope' referenced before assignment\") in model 83 in generation 0: Cassandra\n",
      "Model Number: 84 with model VAR in generation 0 of 10\n",
      "Template Eval Error: ValueError('Only gave one variable to VAR') in model 84 in generation 0: VAR\n",
      "Model Number: 85 with model SeasonalityMotif in generation 0 of 10\n",
      "Template Eval Error: ValueError('kth(=99) out of bounds (81)') in model 85 in generation 0: SeasonalityMotif\n",
      "Model Number: 86 with model DatepartRegression in generation 0 of 10\n",
      "Model Number: 87 with model SectionalMotif in generation 0 of 10\n",
      "Model Number: 88 with model RRVAR in generation 0 of 10\n",
      "Model Number: 89 with model VAR in generation 0 of 10\n",
      "Template Eval Error: LinAlgError('2-th leading minor of the array is not positive definite') in model 89 in generation 0: VAR\n",
      "Model Number: 90 with model VAR in generation 0 of 10\n",
      "Template Eval Error: ValueError('Only gave one variable to VAR') in model 90 in generation 0: VAR\n",
      "Model Number: 91 with model FBProphet in generation 0 of 10\n",
      "Template Eval Error: ModuleNotFoundError(\"No module named 'fbprophet'\") in model 91 in generation 0: FBProphet\n",
      "Model Number: 92 with model SeasonalityMotif in generation 0 of 10\n",
      "Model Number: 93 with model GLS in generation 0 of 10\n",
      "Model Number: 94 with model GLM in generation 0 of 10\n",
      "Template Eval Error: ValueError('regression_type=user and no future_regressor passed') in model 94 in generation 0: GLM\n",
      "Model Number: 95 with model GLM in generation 0 of 10\n",
      "Model Number: 96 with model LastValueNaive in generation 0 of 10\n",
      "Model Number: 97 with model VAR in generation 0 of 10\n",
      "Template Eval Error: ValueError('Only gave one variable to VAR') in model 97 in generation 0: VAR\n",
      "Model Number: 98 with model ETS in generation 0 of 10\n"
     ]
    },
    {
     "name": "stderr",
     "output_type": "stream",
     "text": [
      "/home/zeus/miniconda3/envs/cloudspace/lib/python3.10/site-packages/statsmodels/genmod/families/family.py:1367: ValueWarning: Negative binomial dispersion parameter alpha not set. Using default value alpha=1.0.\n",
      "  warnings.warn(\"Negative binomial dispersion parameter alpha not \"\n"
     ]
    },
    {
     "name": "stdout",
     "output_type": "stream",
     "text": [
      "Model Number: 99 with model Cassandra in generation 0 of 10\n",
      "Model Number: 100 with model SeasonalityMotif in generation 0 of 10\n",
      "Model Number: 101 with model SectionalMotif in generation 0 of 10\n",
      "Model Number: 102 with model GLS in generation 0 of 10\n"
     ]
    },
    {
     "name": "stderr",
     "output_type": "stream",
     "text": [
      "/home/zeus/miniconda3/envs/cloudspace/lib/python3.10/site-packages/numpy/lib/function_base.py:2897: RuntimeWarning: invalid value encountered in divide\n",
      "  c /= stddev[:, None]\n",
      "/home/zeus/miniconda3/envs/cloudspace/lib/python3.10/site-packages/numpy/lib/function_base.py:2898: RuntimeWarning: invalid value encountered in divide\n",
      "  c /= stddev[None, :]\n"
     ]
    },
    {
     "name": "stdout",
     "output_type": "stream",
     "text": [
      "Template Eval Error: ValueError(\"Model returned NaN due to a preprocessing transformer {'fillna': 'fake_date', 'transformations': {'0': 'AlignLastValue', '1': 'SeasonalDifference', '2': 'Log', '3': 'ClipOutliers', '4': 'CumSumTransformer'}, 'transformation_params': {'0': {'rows': 4, 'lag': 1, 'method': 'additive', 'strength': 1.0, 'first_value_only': False, 'threshold': None, 'threshold_method': 'max'}, '1': {'lag_1': 7, 'method': 20}, '2': {}, '3': {'method': 'clip', 'std_threshold': 4, 'fillna': None}, '4': {}}}. fail_on_forecast_nan=True\") in model 102 in generation 0: GLS\n",
      "Model Number: 103 with model GLS in generation 0 of 10\n",
      "Template Eval Error: Exception('Transformer PCA failed on fit from params zero {\\'0\\': {\\'method\\': \\'clip\\', \\'std_threshold\\': 3, \\'fillna\\': None}, \\'1\\': {\\'model\\': \\'GLS\\', \\'phi\\': 1, \\'window\\': None, \\'transform_dict\\': None}, \\'2\\': {\\'whiten\\': True, \\'n_components\\': 10}, \\'3\\': {\\'rows\\': 1, \\'lag\\': 1, \\'method\\': \\'additive\\', \\'strength\\': 1.0, \\'first_value_only\\': False, \\'threshold\\': None, \\'threshold_method\\': \\'mean\\'}} with error ValueError(\"n_components=10 must be between 0 and min(n_samples, n_features)=1 with svd_solver=\\'full\\'\")') in model 103 in generation 0: GLS\n",
      "Model Number: 104 with model ARCH in generation 0 of 10\n",
      "Template Eval Error: ImportError('`arch` package must be installed from pip') in model 104 in generation 0: ARCH\n",
      "Model Number: 105 with model SeasonalityMotif in generation 0 of 10\n",
      "Template Eval Error: Exception(\"Transformer HolidayTransformer failed on fit from params cubic {'0': {}, '1': {'threshold': 0.9, 'splash_threshold': 0.65, 'use_dayofmonth_holidays': True, 'use_wkdom_holidays': False, 'use_wkdeom_holidays': False, 'use_lunar_holidays': False, 'use_lunar_weekday': False, 'use_islamic_holidays': False, 'use_hebrew_holidays': False, 'use_hindu_holidays': False, 'anomaly_detector_params': {'method': 'zscore', 'method_params': {'distribution': 'chi2', 'alpha': 0.05}, 'fillna': 'ffill', 'transform_dict': None, 'isolated_only': False, 'on_inverse': False}, 'remove_excess_anomalies': True, 'impact': 'datepart_regression', 'regression_params': {'regression_model': {'model': 'ElasticNet', 'model_params': {'l1_ratio': 0.5, 'fit_intercept': True, 'selection': 'cyclic', 'max_iter': 1000}}, 'datepart_method': 'common_fourier', 'polynomial_degree': None, 'transform_dict': {'fillna': None, 'transformations': {'0': 'ScipyFilter'}, 'transformation_params': {'0': {'method': 'savgol_filter', 'method_args': {'window_length': 31, 'polyorder': 3, 'deriv': 0, 'mode': 'interp'}}}}, 'holiday_countries_used': False, 'lags': None, 'forward_lags': None}}, '2': {}, '3': {'window_size': 364, 'alpha': 2.2, 'grouping_forward_limit': 4, 'max_level_shifts': 10, 'alignment': 'rolling_diff_5nn'}, '4': {'lag': 7, 'fill': 'bfill'}, '5': {}} with error ValueError('more than 1 year of data is required for holiday detection.')\") in model 105 in generation 0: SeasonalityMotif\n",
      "Model Number: 106 with model LastValueNaive in generation 0 of 10\n",
      "Model Number: 107 with model BasicLinearModel in generation 0 of 10\n"
     ]
    },
    {
     "name": "stderr",
     "output_type": "stream",
     "text": [
      "/home/zeus/miniconda3/envs/cloudspace/lib/python3.10/site-packages/pandas/core/internals/blocks.py:366: RuntimeWarning: overflow encountered in exp\n",
      "  result = func(self.values, **kwargs)\n"
     ]
    },
    {
     "name": "stdout",
     "output_type": "stream",
     "text": [
      "Model Number: 108 with model LastValueNaive in generation 0 of 10\n",
      "Model Number: 109 with model AverageValueNaive in generation 0 of 10\n",
      "Model Number: 110 with model DatepartRegression in generation 0 of 10\n",
      "Model Number: 111 with model ETS in generation 0 of 10\n",
      "Model Number: 112 with model ARCH in generation 0 of 10\n",
      "Template Eval Error: ImportError('`arch` package must be installed from pip') in model 112 in generation 0: ARCH\n",
      "Model Number: 113 with model FFT in generation 0 of 10\n",
      "Model Number: 114 with model FBProphet in generation 0 of 10\n",
      "Template Eval Error: ModuleNotFoundError(\"No module named 'fbprophet'\") in model 114 in generation 0: FBProphet\n",
      "Model Number: 115 with model MetricMotif in generation 0 of 10\n",
      "Model Number: 116 with model UnivariateMotif in generation 0 of 10\n",
      "Model Number: 117 with model WindowRegression in generation 0 of 10\n",
      "Template Eval Error: Exception(\"Transformer HolidayTransformer failed on fit from params ffill {'0': {'rows': 1, 'lag': 1, 'method': 'additive', 'strength': 0.7, 'first_value_only': False, 'threshold': 10, 'threshold_method': 'mean'}, '1': {'threshold': 0.8, 'splash_threshold': None, 'use_dayofmonth_holidays': True, 'use_wkdom_holidays': True, 'use_wkdeom_holidays': False, 'use_lunar_holidays': False, 'use_lunar_weekday': True, 'use_islamic_holidays': False, 'use_hebrew_holidays': False, 'use_hindu_holidays': False, 'anomaly_detector_params': {'method': 'IQR', 'method_params': {'iqr_threshold': 2.0, 'iqr_quantiles': [0.25, 0.75]}, 'fillna': 'rolling_mean_24', 'transform_dict': {'fillna': None, 'transformations': {'0': 'ClipOutliers'}, 'transformation_params': {'0': {'method': 'clip', 'std_threshold': 6}}}, 'isolated_only': False, 'on_inverse': False}, 'remove_excess_anomalies': True, 'impact': 'datepart_regression', 'regression_params': {'regression_model': {'model': 'ElasticNet', 'model_params': {'l1_ratio': 0.5, 'fit_intercept': True, 'selection': 'cyclic', 'max_iter': 1000}}, 'datepart_method': 'simple', 'polynomial_degree': None, 'transform_dict': None, 'holiday_countries_used': False, 'lags': None, 'forward_lags': None}}} with error ValueError('more than 1 year of data is required for holiday detection.')\") in model 117 in generation 0: WindowRegression\n",
      "Model Number: 118 with model UnivariateMotif in generation 0 of 10\n",
      "Model Number: 119 with model ETS in generation 0 of 10\n",
      "Model Number: 120 with model LastValueNaive in generation 0 of 10\n",
      "Model Number: 121 with model Cassandra in generation 0 of 10\n",
      "Model Number: 122 with model SectionalMotif in generation 0 of 10\n",
      "Model Number: 123 with model DatepartRegression in generation 0 of 10\n",
      "Template Eval Error: ValueError(\"regression_type='User' but no future_regressor passed\") in model 123 in generation 0: DatepartRegression\n",
      "Model Number: 124 with model GLM in generation 0 of 10\n",
      "Model Number: 125 with model LastValueNaive in generation 0 of 10\n",
      "Model Number: 126 with model MetricMotif in generation 0 of 10\n",
      "Model Number: 127 with model FFT in generation 0 of 10\n",
      "Model Number: 128 with model MetricMotif in generation 0 of 10\n",
      "Model Number: 129 with model ETS in generation 0 of 10\n",
      "Model Number: 130 with model SeasonalityMotif in generation 0 of 10\n",
      "Model Number: 131 with model LastValueNaive in generation 0 of 10\n",
      "Model Number: 132 with model SectionalMotif in generation 0 of 10\n",
      "Template Eval Error: Exception(\"Transformer HolidayTransformer failed on fit from params zero {'0': {'constraint_method': 'last_window', 'constraint_direction': 'lower', 'constraint_regularization': 0.5, 'constraint_value': {'window': 10, 'threshold': -0.1}, 'bounds_only': False, 'fillna': None}, '1': {'model': 'Linear', 'phi': 1, 'window': None, 'transform_dict': None}, '2': {}, '3': {}, '4': {'threshold': 0.8, 'splash_threshold': 0.4, 'use_dayofmonth_holidays': True, 'use_wkdom_holidays': True, 'use_wkdeom_holidays': False, 'use_lunar_holidays': False, 'use_lunar_weekday': False, 'use_islamic_holidays': False, 'use_hebrew_holidays': False, 'use_hindu_holidays': False, 'anomaly_detector_params': {'method': 'mad', 'method_params': {'distribution': 'uniform', 'alpha': 0.05}, 'fillna': 'fake_date', 'transform_dict': {'transformations': {'0': 'DatepartRegression'}, 'transformation_params': {'0': {'datepart_method': 'simple_3', 'regression_model': {'model': 'DecisionTree', 'model_params': {'max_depth': None, 'min_samples_split': 0.1}}}}}, 'isolated_only': False, 'on_inverse': False}, 'remove_excess_anomalies': True, 'impact': 'regression', 'regression_params': {}}, '5': {'fixed': True, 'window': 7, 'macro_micro': False, 'center': True}} with error ValueError('more than 1 year of data is required for holiday detection.')\") in model 132 in generation 0: SectionalMotif\n",
      "Model Number: 133 with model ARDL in generation 0 of 10\n",
      "Template Eval Error: ValueError(\"regression_type='User' but future_regressor not supplied\") in model 133 in generation 0: ARDL\n",
      "Model Number: 134 with model FFT in generation 0 of 10\n",
      "Model Number: 135 with model SectionalMotif in generation 0 of 10\n",
      "Template Eval Error: Exception(\"Transformer Detrend failed on fit from params time {'0': {'method': 'clip', 'std_threshold': 4, 'fillna': None}, '1': {'model': 'Linear', 'phi': 1, 'window': None, 'transform_dict': {'fillna': None, 'transformations': {'0': 'AnomalyRemoval'}, 'transformation_params': {'0': {'method': 'zscore', 'transform_dict': {'transformations': {'0': 'DatepartRegression'}, 'transformation_params': {'0': {'datepart_method': 'simple_3', 'regression_model': {'model': 'ElasticNet', 'model_params': {}}}}}, 'method_params': {'distribution': 'uniform', 'alpha': 0.05}}}}}, '2': {'lag': 7, 'fill': 'bfill'}} with error ValueError('Input y contains NaN.')\") in model 135 in generation 0: SectionalMotif\n",
      "Model Number: 136 with model WindowRegression in generation 0 of 10\n",
      "Template Eval Error: ModuleNotFoundError(\"No module named 'lightgbm'\") in model 136 in generation 0: WindowRegression\n",
      "Model Number: 137 with model ARDL in generation 0 of 10\n",
      "Model Number: 138 with model GLS in generation 0 of 10\n",
      "Model Number: 139 with model ARDL in generation 0 of 10\n",
      "Model Number: 140 with model RRVAR in generation 0 of 10\n",
      "Model Number: 141 with model SeasonalityMotif in generation 0 of 10\n",
      "Model Number: 142 with model MetricMotif in generation 0 of 10\n",
      "Model Number: 143 with model ETS in generation 0 of 10\n",
      "Model Number: 144 with model ConstantNaive in generation 0 of 10\n",
      "Model Number: 145 with model UnivariateMotif in generation 0 of 10\n",
      "Model Number: 146 with model ETS in generation 0 of 10\n",
      "Model Number: 147 with model FFT in generation 0 of 10\n",
      "Model Number: 148 with model ARCH in generation 0 of 10\n",
      "Template Eval Error: ImportError('`arch` package must be installed from pip') in model 148 in generation 0: ARCH\n",
      "Model Number: 149 with model GLM in generation 0 of 10\n",
      "Template Eval Error: ValueError('The first guess on the deviance function returned a nan.  This could be a boundary  problem and should be reported.') in model 149 in generation 0: GLM\n",
      "Model Number: 150 with model ARCH in generation 0 of 10\n"
     ]
    },
    {
     "name": "stderr",
     "output_type": "stream",
     "text": [
      "/home/zeus/miniconda3/envs/cloudspace/lib/python3.10/site-packages/statsmodels/genmod/families/family.py:1650: RuntimeWarning: invalid value encountered in log\n",
      "  endog * np.log(endog / mu) + (mu - endog))\n"
     ]
    },
    {
     "name": "stdout",
     "output_type": "stream",
     "text": [
      "Template Eval Error: ImportError('`arch` package must be installed from pip') in model 150 in generation 0: ARCH\n",
      "Model Number: 151 with model ConstantNaive in generation 0 of 10\n",
      "Model Number: 152 with model FFT in generation 0 of 10\n",
      "Model Number: 153 with model LastValueNaive in generation 0 of 10\n",
      "Model Number: 154 with model ConstantNaive in generation 0 of 10\n",
      "Model Number: 155 with model MetricMotif in generation 0 of 10\n",
      "New Generation: 1 of 10\n",
      "Model Number: 156 with model AverageValueNaive in generation 1 of 10\n",
      "Template Eval Error: ValueError('Model AverageValueNaive returned NaN for one or more series. fail_on_forecast_nan=True') in model 156 in generation 1: AverageValueNaive\n",
      "Model Number: 157 with model RRVAR in generation 1 of 10\n",
      "Model Number: 158 with model ETS in generation 1 of 10\n"
     ]
    },
    {
     "name": "stderr",
     "output_type": "stream",
     "text": [
      "/home/zeus/miniconda3/envs/cloudspace/lib/python3.10/site-packages/sklearn/linear_model/_coordinate_descent.py:628: ConvergenceWarning: Objective did not converge. You might want to increase the number of iterations, check the scale of the features or consider increasing regularisation. Duality gap: 1.116e+14, tolerance: 2.347e+10\n",
      "  model = cd_fast.enet_coordinate_descent(\n",
      "/home/zeus/miniconda3/envs/cloudspace/lib/python3.10/site-packages/numpy/core/fromnumeric.py:3504: RuntimeWarning: Mean of empty slice.\n",
      "  return _methods._mean(a, axis=axis, dtype=dtype,\n",
      "/home/zeus/miniconda3/envs/cloudspace/lib/python3.10/site-packages/numpy/core/_methods.py:121: RuntimeWarning: invalid value encountered in divide\n",
      "  ret = um.true_divide(\n"
     ]
    },
    {
     "name": "stdout",
     "output_type": "stream",
     "text": [
      "Model Number: 159 with model LastValueNaive in generation 1 of 10\n",
      "Model Number: 160 with model ETS in generation 1 of 10\n",
      "Model Number: 161 with model MetricMotif in generation 1 of 10\n",
      "Model Number: 162 with model SeasonalNaive in generation 1 of 10\n",
      "Model Number: 163 with model UnivariateMotif in generation 1 of 10\n",
      "Template Eval Error: ValueError('window shape cannot be larger than input array shape') in model 163 in generation 1: UnivariateMotif\n",
      "Model Number: 164 with model ETS in generation 1 of 10\n"
     ]
    },
    {
     "name": "stderr",
     "output_type": "stream",
     "text": [
      "/home/zeus/miniconda3/envs/cloudspace/lib/python3.10/site-packages/sklearn/linear_model/_ridge.py:200: LinAlgWarning: Ill-conditioned matrix (rcond=8.09705e-25): result may not be accurate.\n",
      "  return linalg.solve(A, Xy, assume_a=\"pos\", overwrite_a=True).T\n"
     ]
    },
    {
     "name": "stdout",
     "output_type": "stream",
     "text": [
      "Model Number: 165 with model LastValueNaive in generation 1 of 10\n",
      "Model Number: 166 with model AverageValueNaive in generation 1 of 10\n",
      "Model Number: 167 with model ARDL in generation 1 of 10\n",
      "Model Number: 168 with model AverageValueNaive in generation 1 of 10\n",
      "Model Number: 169 with model WindowRegression in generation 1 of 10\n",
      "Template Eval Error: ValueError('Found array with 0 sample(s) (shape=(0, 0)) while a minimum of 1 is required by MLPRegressor.') in model 169 in generation 1: WindowRegression\n",
      "Model Number: 170 with model FFT in generation 1 of 10\n",
      "Model Number: 171 with model GLM in generation 1 of 10\n",
      "Model Number: 172 with model GLS in generation 1 of 10\n",
      "Model Number: 173 with model MetricMotif in generation 1 of 10\n",
      "Model Number: 174 with model MetricMotif in generation 1 of 10\n",
      "Model Number: 175 with model SeasonalityMotif in generation 1 of 10\n",
      "Model Number: 176 with model LastValueNaive in generation 1 of 10\n",
      "Template Eval Error: Exception(\"Transformer AlignLastValue failed on fit from params fake_date {'0': {}, '1': {'method': 0.3}, '2': {'rows': 1, 'lag': 84, 'method': 'additive', 'strength': 1.0, 'first_value_only': False, 'threshold': 1, 'threshold_method': 'max'}, '3': {'method': 100}, '4': {'lag_1': 2, 'method': 'Mean'}, '5': {}} with error IndexError('single positional indexer is out-of-bounds')\") in model 176 in generation 1: LastValueNaive\n",
      "Model Number: 177 with model ETS in generation 1 of 10\n",
      "Model Number: 178 with model LastValueNaive in generation 1 of 10\n",
      "Model Number: 179 with model LastValueNaive in generation 1 of 10\n",
      "Model Number: 180 with model WindowRegression in generation 1 of 10\n",
      "Template Eval Error: ValueError('at least one array or dtype is required') in model 180 in generation 1: WindowRegression\n",
      "Model Number: 181 with model AverageValueNaive in generation 1 of 10\n",
      "Model Number: 182 with model RRVAR in generation 1 of 10\n",
      "Model Number: 183 with model RRVAR in generation 1 of 10\n"
     ]
    },
    {
     "name": "stderr",
     "output_type": "stream",
     "text": [
      "/home/zeus/miniconda3/envs/cloudspace/lib/python3.10/site-packages/autots/tools/percentile.py:47: RuntimeWarning: All-NaN slice encountered\n",
      "  max_val = np.nanmax(arr)\n"
     ]
    },
    {
     "name": "stdout",
     "output_type": "stream",
     "text": [
      "Model Number: 184 with model BasicLinearModel in generation 1 of 10\n",
      "Model Number: 185 with model GLM in generation 1 of 10\n",
      "Template Eval Error: ValueError('The first guess on the deviance function returned a nan.  This could be a boundary  problem and should be reported.') in model 185 in generation 1: GLM\n",
      "Model Number: 186 with model UnivariateMotif in generation 1 of 10\n",
      "Model Number: 187 with model GLM in generation 1 of 10\n"
     ]
    },
    {
     "name": "stderr",
     "output_type": "stream",
     "text": [
      "/home/zeus/miniconda3/envs/cloudspace/lib/python3.10/site-packages/statsmodels/genmod/families/family.py:1367: ValueWarning: Negative binomial dispersion parameter alpha not set. Using default value alpha=1.0.\n",
      "  warnings.warn(\"Negative binomial dispersion parameter alpha not \"\n",
      "/home/zeus/miniconda3/envs/cloudspace/lib/python3.10/site-packages/statsmodels/genmod/families/family.py:1406: RuntimeWarning: invalid value encountered in log\n",
      "  resid_dev -= endog_alpha * np.log(endog_alpha / mu_alpha)\n",
      "/home/zeus/miniconda3/envs/cloudspace/lib/python3.10/site-packages/statsmodels/genmod/families/links.py:198: RuntimeWarning: overflow encountered in exp\n",
      "  t = np.exp(-z)\n"
     ]
    },
    {
     "name": "stdout",
     "output_type": "stream",
     "text": [
      "Model Number: 188 with model SeasonalNaive in generation 1 of 10\n",
      "Model Number: 189 with model LastValueNaive in generation 1 of 10\n",
      "Model Number: 190 with model GLS in generation 1 of 10\n",
      "Model Number: 191 with model LastValueNaive in generation 1 of 10\n",
      "Model Number: 192 with model GLS in generation 1 of 10\n",
      "Model Number: 193 with model MetricMotif in generation 1 of 10\n",
      "Model Number: 194 with model AverageValueNaive in generation 1 of 10\n",
      "Model Number: 195 with model LastValueNaive in generation 1 of 10\n",
      "Template Eval Error: Exception(\"Transformer AlignLastValue failed on fit from params rolling_mean {'0': {'window_size': 30, 'alpha': 3.5, 'grouping_forward_limit': 5, 'max_level_shifts': 10, 'alignment': 'rolling_diff'}, '1': {'rows': 1, 'lag': 168, 'method': 'additive', 'strength': 1.0, 'first_value_only': False, 'threshold': None, 'threshold_method': 'mean'}, '2': {'sigma': 1, 'rolling_window': 90, 'run_order': 'season_first', 'regression_params': {'regression_model': {'model': 'ElasticNet', 'model_params': {'l1_ratio': 0.1, 'fit_intercept': True, 'selection': 'cyclic', 'max_iter': 1000}}, 'datepart_method': 'expanded_binarized', 'polynomial_degree': None, 'transform_dict': {'fillna': None, 'transformations': {'0': 'Discretize'}, 'transformation_params': {'0': {'discretization': 'center', 'n_bins': 20}}}, 'holiday_countries_used': False, 'lags': None, 'forward_lags': 1}, 'holiday_params': {'threshold': 0.8, 'splash_threshold': None, 'use_dayofmonth_holidays': True, 'use_wkdom_holidays': True, 'use_wkdeom_holidays': True, 'use_lunar_holidays': False, 'use_lunar_weekday': False, 'use_islamic_holidays': False, 'use_hebrew_holidays': False, 'use_hindu_holidays': False, 'anomaly_detector_params': {'method': 'zscore', 'method_params': {'distribution': 'norm', 'alpha': 0.14}, 'fillna': 'ffill', 'transform_dict': {'fillna': None, 'transformations': {'0': 'ClipOutliers'}, 'transformation_params': {'0': {'method': 'clip', 'std_threshold': 6}}}, 'isolated_only': False, 'on_inverse': False}, 'remove_excess_anomalies': True, 'impact': 'datepart_regression', 'regression_params': {'regression_model': {'model': 'ElasticNet', 'model_params': {'l1_ratio': 0.1, 'fit_intercept': True, 'selection': 'cyclic', 'max_iter': 1000}}, 'datepart_method': 'expanded_binarized', 'polynomial_degree': None, 'transform_dict': {'fillna': None, 'transformations': {'0': 'Discretize'}, 'transformation_params': {'0': {'discretization': 'center', 'n_bins': 20}}}, 'holiday_countries_used': False, 'lags': None, 'forward_lags': 1}}, 'trend_method': 'local_linear'}, '3': {}} with error IndexError('single positional indexer is out-of-bounds')\") in model 195 in generation 1: LastValueNaive\n",
      "Model Number: 196 with model FFT in generation 1 of 10\n",
      "Model Number: 197 with model SeasonalityMotif in generation 1 of 10\n",
      "Model Number: 198 with model SeasonalityMotif in generation 1 of 10\n",
      "Template Eval Error: Exception(\"Transformer HolidayTransformer failed on fit from params fake_date {'0': {'theta_values': [0.6, 1.4]}, '1': {'method': 0.2}, '2': {}, '3': {'threshold': 0.8, 'splash_threshold': None, 'use_dayofmonth_holidays': True, 'use_wkdom_holidays': True, 'use_wkdeom_holidays': False, 'use_lunar_holidays': False, 'use_lunar_weekday': False, 'use_islamic_holidays': False, 'use_hebrew_holidays': False, 'use_hindu_holidays': False, 'anomaly_detector_params': {'method': 'zscore', 'method_params': {'distribution': 'norm', 'alpha': 0.03}, 'fillna': 'ffill', 'transform_dict': None, 'isolated_only': True, 'on_inverse': False}, 'remove_excess_anomalies': True, 'impact': 'median_value', 'regression_params': {}}, '4': {'n_harmonics': 10, 'detrend': 'quadratic'}, '5': {}} with error ValueError('more than 1 year of data is required for holiday detection.')\") in model 198 in generation 1: SeasonalityMotif\n",
      "Model Number: 199 with model SeasonalityMotif in generation 1 of 10\n",
      "Template Eval Error: Exception(\"Transformer ReplaceConstant failed on fit from params time {'0': {'constant': 1, 'reintroduction_model': {'model': 'SGD', 'model_params': {}, 'datepart_method': 'simple'}, 'fillna': 'pchip'}, '1': {'lag': 1, 'fill': 'bfill'}, '2': {}, '3': {'rows': None, 'displacement_rows': 1, 'quantile': 1.0, 'decay_span': None}, '4': {'n_harmonics': 10, 'detrend': 'quadratic'}, '5': {}} with error ValueError('The number of classes has to be greater than one; got 1 class')\") in model 199 in generation 1: SeasonalityMotif\n",
      "Model Number: 200 with model GLM in generation 1 of 10\n",
      "Template Eval Error: Exception('Transformer DatepartRegression failed on fit from params ffill_mean_biased {\\'0\\': {\\'discretization\\': \\'sklearn-uniform\\', \\'n_bins\\': 5}, \\'1\\': {\\'theta_values\\': [0.2, 1.8]}, \\'2\\': {\\'regression_model\\': {\\'model\\': \\'MLP\\', \\'model_params\\': {\\'hidden_layer_sizes\\': [72, 36, 72], \\'max_iter\\': 500, \\'activation\\': \\'logistic\\', \\'solver\\': \\'lbfgs\\', \\'early_stopping\\': False, \\'learning_rate_init\\': 0.001, \\'alpha\\': None}}, \\'datepart_method\\': \\'lunar_phase\\', \\'polynomial_degree\\': None, \\'transform_dict\\': None, \\'holiday_countries_used\\': False, \\'lags\\': 4, \\'forward_lags\\': None}} with error InvalidParameterError(\"The \\'alpha\\' parameter of MLPRegressor must be a float in the range [0.0, inf). Got None instead.\")') in model 200 in generation 1: GLM\n",
      "Model Number: 201 with model GLM in generation 1 of 10\n",
      "Model Number: 202 with model DatepartRegression in generation 1 of 10\n"
     ]
    },
    {
     "name": "stderr",
     "output_type": "stream",
     "text": [
      "/home/zeus/miniconda3/envs/cloudspace/lib/python3.10/site-packages/sklearn/utils/validation.py:1183: DataConversionWarning: A column-vector y was passed when a 1d array was expected. Please change the shape of y to (n_samples, ), for example using ravel().\n",
      "  y = column_or_1d(y, warn=True)\n",
      "/home/zeus/miniconda3/envs/cloudspace/lib/python3.10/site-packages/sklearn/svm/_classes.py:32: FutureWarning: The default value of `dual` will change from `True` to `'auto'` in 1.5. Set the value of `dual` explicitly to suppress the warning.\n",
      "  warnings.warn(\n"
     ]
    },
    {
     "name": "stdout",
     "output_type": "stream",
     "text": [
      "Model Number: 203 with model RRVAR in generation 1 of 10\n",
      "Model Number: 204 with model SeasonalNaive in generation 1 of 10\n",
      "Model Number: 205 with model ETS in generation 1 of 10\n",
      "Model Number: 206 with model MetricMotif in generation 1 of 10\n",
      "Template Eval Error: ValueError('kth(=14) out of bounds (9)') in model 206 in generation 1: MetricMotif\n",
      "Model Number: 207 with model LastValueNaive in generation 1 of 10\n",
      "Model Number: 208 with model AverageValueNaive in generation 1 of 10\n",
      "Model Number: 209 with model SeasonalityMotif in generation 1 of 10\n",
      "Model Number: 210 with model AverageValueNaive in generation 1 of 10\n",
      "Model Number: 211 with model ETS in generation 1 of 10\n",
      "Model Number: 212 with model LastValueNaive in generation 1 of 10\n",
      "Model Number: 213 with model FFT in generation 1 of 10\n",
      "Model Number: 214 with model UnivariateMotif in generation 1 of 10\n",
      "Model Number: 215 with model ARDL in generation 1 of 10\n",
      "Model Number: 216 with model LastValueNaive in generation 1 of 10\n",
      "Model Number: 217 with model ARDL in generation 1 of 10\n",
      "Model Number: 218 with model SectionalMotif in generation 1 of 10\n",
      "Model Number: 219 with model GLS in generation 1 of 10\n",
      "Model Number: 220 with model SeasonalityMotif in generation 1 of 10\n",
      "SVD did not converge, attempting more robust approach...\n",
      "Template Eval Error: Exception(\"Transformer KalmanSmoothing failed on fit from params fake_date {'0': {'model_name': 'local linear hidden state with seasonal 7', 'state_transition': [[1.0, 0.0, 0.0, 0.0, 0.0, 0.0, 0.0, 0.0], [0.0, -1.0, -1.0, -1.0, -1.0, -1.0, -1.0, 0.0], [0.0, 1.0, 0.0, 0.0, 0.0, 0.0, 0.0, 0.0], [0.0, 0.0, 1.0, 0.0, 0.0, 0.0, 0.0, 0.0], [0.0, 0.0, 0.0, 1.0, 0.0, 0.0, 0.0, 0.0], [0.0, 0.0, 0.0, 0.0, 1.0, 0.0, 0.0, 0.0], [0.0, 0.0, 0.0, 0.0, 0.0, 1.0, 0.0, 0.0], [0.0, 0.0, 0.0, 0.0, 0.0, 0.0, 1.0, 0.0]], 'process_noise': [[0.0016, 0.0, 0.0, 0.0, 0.0, 0.0, 0.0, 0.0], [0.0, 1e-08, 0.0, 0.0, 0.0, 0.0, 0.0, 0.0], [0.0, 0.0, 0.0, 0.0, 0.0, 0.0, 0.0, 0.0], [0.0, 0.0, 0.0, 0.0, 0.0, 0.0, 0.0, 0.0], [0.0, 0.0, 0.0, 0.0, 0.0, 0.0, 0.0, 0.0], [0.0, 0.0, 0.0, 0.0, 0.0, 0.0, 0.0, 0.0], [0.0, 0.0, 0.0, 0.0, 0.0, 0.0, 0.0, 0.0], [0.0, 0.0, 0.0, 0.0, 0.0, 0.0, 0.0, 0.0]], 'observation_model': [[1, 1, 0, 0, 0, 0, 0, 0]], 'observation_noise': 0.04, 'em_iter': 10, 'on_transform': True, 'on_inverse': False}, '1': {'rows': 7, 'displacement_rows': 1, 'quantile': 1.0, 'decay_span': 3}, '2': {}, '3': {'rows': 1, 'lag': 1, 'method': 'additive', 'strength': 1.0, 'first_value_only': False, 'threshold': 1, 'threshold_method': 'max'}, '4': {'n_harmonics': 10, 'detrend': 'quadratic'}, '5': {}} with error LinAlgError('SVD did not converge')\") in model 220 in generation 1: SeasonalityMotif\n",
      "Model Number: 221 with model SeasonalityMotif in generation 1 of 10\n",
      "Model Number: 222 with model ETS in generation 1 of 10\n"
     ]
    },
    {
     "name": "stderr",
     "output_type": "stream",
     "text": [
      "/home/zeus/miniconda3/envs/cloudspace/lib/python3.10/site-packages/autots/tools/fast_kalman.py:1137: RuntimeWarning: overflow encountered in cast\n",
      "  result.smoothed.states.cov[:, j, :, :] = Ps\n",
      "/home/zeus/miniconda3/envs/cloudspace/lib/python3.10/site-packages/autots/tools/fast_kalman.py:1143: RuntimeWarning: overflow encountered in cast\n",
      "  result.smoothed.observations.cov[:, j, :, :] = obs_cov\n",
      "/home/zeus/miniconda3/envs/cloudspace/lib/python3.10/site-packages/autots/tools/fast_kalman.py:1354: RuntimeWarning: invalid value encountered in matmul\n",
      "  return np.matmul(A, np.swapaxes(B, -1, -2))\n",
      "/home/zeus/miniconda3/envs/cloudspace/lib/python3.10/site-packages/autots/tools/fast_kalman.py:1341: RuntimeWarning: invalid value encountered in matmul\n",
      "  return np.matmul(A, B)\n",
      "/home/zeus/miniconda3/envs/cloudspace/lib/python3.10/site-packages/sklearn/svm/_classes.py:32: FutureWarning: The default value of `dual` will change from `True` to `'auto'` in 1.5. Set the value of `dual` explicitly to suppress the warning.\n",
      "  warnings.warn(\n",
      "/home/zeus/miniconda3/envs/cloudspace/lib/python3.10/site-packages/sklearn/svm/_base.py:1250: ConvergenceWarning: Liblinear failed to converge, increase the number of iterations.\n",
      "  warnings.warn(\n"
     ]
    },
    {
     "name": "stdout",
     "output_type": "stream",
     "text": [
      "Model Number: 223 with model DatepartRegression in generation 1 of 10\n",
      "Model Number: 224 with model ConstantNaive in generation 1 of 10\n",
      "Model Number: 225 with model SeasonalityMotif in generation 1 of 10\n",
      "Model Number: 226 with model ConstantNaive in generation 1 of 10\n",
      "Model Number: 227 with model FFT in generation 1 of 10\n",
      "Model Number: 228 with model ConstantNaive in generation 1 of 10\n",
      "Model Number: 229 with model MetricMotif in generation 1 of 10\n",
      "Model Number: 230 with model LastValueNaive in generation 1 of 10\n",
      "Model Number: 231 with model SeasonalityMotif in generation 1 of 10\n",
      "Template Eval Error: Exception(\"Transformer HolidayTransformer failed on fit from params ffill_mean_biased {'0': {'theta_values': [0.6, 1.4]}, '1': {'fixed': True, 'window': 364, 'macro_micro': False, 'center': True}, '2': {}, '3': {'threshold': 0.8, 'splash_threshold': None, 'use_dayofmonth_holidays': True, 'use_wkdom_holidays': True, 'use_wkdeom_holidays': False, 'use_lunar_holidays': False, 'use_lunar_weekday': False, 'use_islamic_holidays': False, 'use_hebrew_holidays': False, 'use_hindu_holidays': False, 'anomaly_detector_params': {'method': 'zscore', 'method_params': {'distribution': 'norm', 'alpha': 0.03}, 'fillna': 'ffill', 'transform_dict': None, 'isolated_only': True, 'on_inverse': False}, 'remove_excess_anomalies': True, 'impact': 'median_value', 'regression_params': {}}, '4': {'n_harmonics': 10, 'detrend': 'quadratic'}} with error ValueError('more than 1 year of data is required for holiday detection.')\") in model 231 in generation 1: SeasonalityMotif\n",
      "Model Number: 232 with model SeasonalNaive in generation 1 of 10\n",
      "Model Number: 233 with model FFT in generation 1 of 10\n",
      "Model Number: 234 with model SectionalMotif in generation 1 of 10\n",
      "Model Number: 235 with model ETS in generation 1 of 10\n",
      "Model Number: 236 with model LastValueNaive in generation 1 of 10\n",
      "Model Number: 237 with model GLM in generation 1 of 10\n",
      "Model Number: 238 with model RRVAR in generation 1 of 10\n",
      "Model Number: 239 with model SeasonalNaive in generation 1 of 10\n",
      "Template Eval Error: Exception(\"Transformer BTCD failed on fit from params ffill {'0': {'regression_model': {'model': 'LinearRegression', 'model_params': {}}, 'max_lags': 2}, '1': {'method': 'clip', 'std_threshold': 2, 'fillna': None}} with error ValueError('BTCD only works on multivarate series')\") in model 239 in generation 1: SeasonalNaive\n",
      "Model Number: 240 with model SectionalMotif in generation 1 of 10\n",
      "Model Number: 241 with model SectionalMotif in generation 1 of 10\n",
      "Template Eval Error: ValueError('kth(=10) out of bounds (3)') in model 241 in generation 1: SectionalMotif\n",
      "Model Number: 242 with model GLS in generation 1 of 10\n",
      "Model Number: 243 with model SectionalMotif in generation 1 of 10\n",
      "Template Eval Error: ValueError(\"regression_type=='User' but no future_regressor supplied\") in model 243 in generation 1: SectionalMotif\n",
      "Model Number: 244 with model SeasonalityMotif in generation 1 of 10\n",
      "Model Number: 245 with model SectionalMotif in generation 1 of 10\n",
      "Model Number: 246 with model SectionalMotif in generation 1 of 10\n",
      "Model Number: 247 with model MetricMotif in generation 1 of 10\n",
      "Model Number: 248 with model ConstantNaive in generation 1 of 10\n",
      "Model Number: 249 with model GLM in generation 1 of 10\n",
      "Model Number: 250 with model ConstantNaive in generation 1 of 10\n",
      "Model Number: 251 with model SeasonalNaive in generation 1 of 10\n",
      "Model Number: 252 with model SectionalMotif in generation 1 of 10\n",
      "Template Eval Error: ValueError('kth(=15) out of bounds (12)') in model 252 in generation 1: SectionalMotif\n",
      "Model Number: 253 with model UnivariateMotif in generation 1 of 10\n",
      "Model Number: 254 with model GLS in generation 1 of 10\n",
      "Model Number: 255 with model SectionalMotif in generation 1 of 10\n",
      "Model Number: 256 with model GLS in generation 1 of 10\n",
      "Model Number: 257 with model SeasonalityMotif in generation 1 of 10\n",
      "Model Number: 258 with model ETS in generation 1 of 10\n",
      "Model Number: 259 with model GLM in generation 1 of 10\n",
      "Template Eval Error: ValueError('The first guess on the deviance function returned a nan.  This could be a boundary  problem and should be reported.') in model 259 in generation 1: GLM\n",
      "Model Number: 260 with model AverageValueNaive in generation 1 of 10\n",
      "New Generation: 2 of 10\n",
      "Model Number: 261 with model GLS in generation 2 of 10\n",
      "Template Eval Error: Exception('Transformer PCA failed on fit from params median {\\'0\\': {\\'method\\': \\'clip\\', \\'std_threshold\\': 3.5, \\'fillna\\': None}, \\'1\\': {\\'lag_1\\': 60, \\'method\\': 5}, \\'2\\': {\\'model\\': \\'Linear\\', \\'phi\\': 1, \\'window\\': None, \\'transform_dict\\': {\\'fillna\\': None, \\'transformations\\': {\\'0\\': \\'bkfilter\\'}, \\'transformation_params\\': {\\'0\\': {}}}}, \\'3\\': {}, \\'4\\': {\\'whiten\\': True, \\'n_components\\': 10}} with error ValueError(\"n_components=10 must be between 0 and min(n_samples, n_features)=1 with svd_solver=\\'full\\'\")') in model 261 in generation 2: GLS\n",
      "Model Number: 262 with model SeasonalityMotif in generation 2 of 10\n"
     ]
    },
    {
     "name": "stderr",
     "output_type": "stream",
     "text": [
      "/home/zeus/miniconda3/envs/cloudspace/lib/python3.10/site-packages/statsmodels/genmod/families/family.py:1367: ValueWarning: Negative binomial dispersion parameter alpha not set. Using default value alpha=1.0.\n",
      "  warnings.warn(\"Negative binomial dispersion parameter alpha not \"\n",
      "/home/zeus/miniconda3/envs/cloudspace/lib/python3.10/site-packages/statsmodels/genmod/families/family.py:1406: RuntimeWarning: invalid value encountered in log\n",
      "  resid_dev -= endog_alpha * np.log(endog_alpha / mu_alpha)\n",
      "/home/zeus/miniconda3/envs/cloudspace/lib/python3.10/site-packages/sklearn/neighbors/_classification.py:233: DataConversionWarning: A column-vector y was passed when a 1d array was expected. Please change the shape of y to (n_samples,), for example using ravel().\n",
      "  return self._fit(X, y)\n"
     ]
    },
    {
     "name": "stdout",
     "output_type": "stream",
     "text": [
      "Model Number: 263 with model LastValueNaive in generation 2 of 10\n",
      "Model Number: 264 with model SeasonalityMotif in generation 2 of 10\n",
      "Model Number: 265 with model ConstantNaive in generation 2 of 10\n",
      "Model Number: 266 with model GLM in generation 2 of 10\n",
      "Model Number: 267 with model SeasonalityMotif in generation 2 of 10\n",
      "Model Number: 268 with model GLS in generation 2 of 10\n",
      "Model Number: 269 with model SeasonalNaive in generation 2 of 10\n",
      "Model Number: 270 with model BasicLinearModel in generation 2 of 10\n",
      "Model Number: 271 with model MetricMotif in generation 2 of 10\n",
      "Model Number: 272 with model ConstantNaive in generation 2 of 10\n",
      "Model Number: 273 with model GLM in generation 2 of 10\n",
      "Model Number: 274 with model BasicLinearModel in generation 2 of 10\n",
      "Model Number: 275 with model FFT in generation 2 of 10\n",
      "Model Number: 276 with model GLM in generation 2 of 10\n",
      "Model Number: 277 with model SeasonalNaive in generation 2 of 10\n",
      "Model Number: 278 with model DatepartRegression in generation 2 of 10\n",
      "Model Number: 279 with model GLM in generation 2 of 10\n",
      "Model Number: 280 with model LastValueNaive in generation 2 of 10\n",
      "Model Number: 281 with model BasicLinearModel in generation 2 of 10\n",
      "Model Number: 282 with model ETS in generation 2 of 10\n",
      "Model Number: 283 with model LastValueNaive in generation 2 of 10\n",
      "Model Number: 284 with model ETS in generation 2 of 10\n",
      "Model Number: 285 with model AverageValueNaive in generation 2 of 10\n",
      "Model Number: 286 with model DatepartRegression in generation 2 of 10\n",
      "Model Number: 287 with model MetricMotif in generation 2 of 10\n",
      "Model Number: 288 with model ARDL in generation 2 of 10\n",
      "Template Eval Error: ValueError(\"regression_type='User' but future_regressor not supplied\") in model 288 in generation 2: ARDL\n",
      "Model Number: 289 with model LastValueNaive in generation 2 of 10\n",
      "Model Number: 290 with model GLS in generation 2 of 10\n",
      "Template Eval Error: Exception(\"Transformer BTCD failed on fit from params ffill_mean_biased {'0': {'rows': 2, 'lag': 7, 'method': 'multiplicative', 'strength': 1.0, 'first_value_only': True, 'threshold': 10, 'threshold_method': 'mean'}, '1': {}, '2': {'model': 'middle', 'decimals': 2, 'on_transform': True, 'on_inverse': True}, '3': {'regression_model': {'model': 'LinearRegression', 'model_params': {}}, 'max_lags': 2}} with error ValueError('BTCD only works on multivarate series')\") in model 290 in generation 2: GLS\n",
      "Model Number: 291 with model ARDL in generation 2 of 10\n",
      "Model Number: 292 with model SeasonalityMotif in generation 2 of 10\n",
      "Model Number: 293 with model DatepartRegression in generation 2 of 10\n",
      "Model Number: 294 with model SeasonalNaive in generation 2 of 10\n",
      "Model Number: 295 with model RRVAR in generation 2 of 10\n",
      "Model Number: 296 with model MetricMotif in generation 2 of 10\n",
      "Model Number: 297 with model LastValueNaive in generation 2 of 10\n",
      "Model Number: 298 with model ConstantNaive in generation 2 of 10\n",
      "Model Number: 299 with model SeasonalNaive in generation 2 of 10\n",
      "Model Number: 300 with model GLM in generation 2 of 10\n",
      "Model Number: 301 with model SeasonalityMotif in generation 2 of 10\n",
      "Model Number: 302 with model ConstantNaive in generation 2 of 10\n",
      "Model Number: 303 with model GLS in generation 2 of 10\n",
      "Model Number: 304 with model SectionalMotif in generation 2 of 10\n",
      "Template Eval Error: Exception(\"Transformer BTCD failed on fit from params ffill {'0': {'regression_model': {'model': 'FastRidge', 'model_params': {}}, 'max_lags': 2}, '1': {'rows': 1, 'lag': 2, 'method': 'additive', 'strength': 1.0, 'first_value_only': False}, '2': {}, '3': {'window_size': 30, 'alpha': 2.0, 'grouping_forward_limit': 4, 'max_level_shifts': 10, 'alignment': 'average'}} with error ValueError('BTCD only works on multivarate series')\") in model 304 in generation 2: SectionalMotif\n",
      "Model Number: 305 with model ConstantNaive in generation 2 of 10\n",
      "Model Number: 306 with model DatepartRegression in generation 2 of 10\n",
      "Template Eval Error: ValueError(\"regression_type='User' but no future_regressor passed\") in model 306 in generation 2: DatepartRegression\n",
      "Model Number: 307 with model SeasonalNaive in generation 2 of 10\n",
      "Model Number: 308 with model BasicLinearModel in generation 2 of 10\n",
      "Model Number: 309 with model ConstantNaive in generation 2 of 10\n",
      "Model Number: 310 with model SeasonalNaive in generation 2 of 10\n",
      "Model Number: 311 with model AverageValueNaive in generation 2 of 10\n",
      "Model Number: 312 with model MetricMotif in generation 2 of 10\n",
      "Model Number: 313 with model ETS in generation 2 of 10\n",
      "Model Number: 314 with model MetricMotif in generation 2 of 10\n",
      "Model Number: 315 with model SectionalMotif in generation 2 of 10\n",
      "Model Number: 316 with model ConstantNaive in generation 2 of 10\n",
      "Model Number: 317 with model SectionalMotif in generation 2 of 10\n",
      "Model Number: 318 with model SeasonalityMotif in generation 2 of 10\n",
      "Model Number: 319 with model GLS in generation 2 of 10\n",
      "Model Number: 320 with model MetricMotif in generation 2 of 10\n",
      "Model Number: 321 with model SeasonalNaive in generation 2 of 10\n",
      "Model Number: 322 with model GLS in generation 2 of 10\n",
      "Model Number: 323 with model LastValueNaive in generation 2 of 10\n",
      "Model Number: 324 with model SectionalMotif in generation 2 of 10\n",
      "Model Number: 325 with model AverageValueNaive in generation 2 of 10\n",
      "Model Number: 326 with model MetricMotif in generation 2 of 10\n",
      "Model Number: 327 with model RRVAR in generation 2 of 10\n",
      "Model Number: 328 with model ETS in generation 2 of 10\n",
      "Model Number: 329 with model ARDL in generation 2 of 10\n",
      "Model Number: 330 with model RRVAR in generation 2 of 10\n",
      "Model Number: 331 with model SeasonalityMotif in generation 2 of 10\n",
      "Model Number: 332 with model LastValueNaive in generation 2 of 10\n",
      "Model Number: 333 with model FFT in generation 2 of 10\n",
      "Model Number: 334 with model LastValueNaive in generation 2 of 10\n",
      "Model Number: 335 with model ARDL in generation 2 of 10\n",
      "Template Eval Error: Exception(\"Transformer SinTrend failed on fit from params zero {'0': {'model_name': 'randomly generated_original', 'state_transition': [[1, 0, 0, 0], [0, 1, 0, 0], [0, 0, 0, 0], [0, 0, 0, 1]], 'process_noise': [[0.0, 0.0, 0.0, 0.0], [0.0, 0.0, 0.0, 0.0], [0.0, 0.0, 0.0, 0.0], [0.0, 0.0, 0.0, 0.0]], 'observation_model': [[1, 1, 0, 0]], 'observation_noise': 1.0, 'em_iter': 10, 'on_transform': True, 'on_inverse': False}, '1': {'window': None}, '2': {}, '3': {'center': 'median'}} with error RuntimeError('Optimal parameters not found: Number of calls to function has reached maxfev = 10000.')\") in model 335 in generation 2: ARDL\n",
      "Model Number: 336 with model GLM in generation 2 of 10\n",
      "Model Number: 337 with model ETS in generation 2 of 10\n",
      "Model Number: 338 with model MetricMotif in generation 2 of 10\n"
     ]
    },
    {
     "name": "stderr",
     "output_type": "stream",
     "text": [
      "/home/zeus/miniconda3/envs/cloudspace/lib/python3.10/site-packages/statsmodels/genmod/families/family.py:1367: ValueWarning: Negative binomial dispersion parameter alpha not set. Using default value alpha=1.0.\n",
      "  warnings.warn(\"Negative binomial dispersion parameter alpha not \"\n"
     ]
    },
    {
     "name": "stdout",
     "output_type": "stream",
     "text": [
      "Model Number: 339 with model ETS in generation 2 of 10\n",
      "Model Number: 340 with model DatepartRegression in generation 2 of 10\n",
      "interpolating\n",
      "Template Eval Error: ValueError('Model DatepartRegression returned NaN for one or more series. fail_on_forecast_nan=True') in model 340 in generation 2: DatepartRegression\n",
      "Model Number: 341 with model UnivariateMotif in generation 2 of 10\n",
      "Model Number: 342 with model GLM in generation 2 of 10\n"
     ]
    },
    {
     "name": "stderr",
     "output_type": "stream",
     "text": [
      "/home/zeus/miniconda3/envs/cloudspace/lib/python3.10/site-packages/sklearn/neighbors/_regression.py:500: UserWarning: One or more samples have no neighbors within specified radius; predicting NaN.\n",
      "  warnings.warn(empty_warning_msg)\n"
     ]
    },
    {
     "name": "stdout",
     "output_type": "stream",
     "text": [
      "Model Number: 343 with model ConstantNaive in generation 2 of 10\n",
      "Model Number: 344 with model RRVAR in generation 2 of 10\n",
      "Model Number: 345 with model MetricMotif in generation 2 of 10\n",
      "Model Number: 346 with model GLS in generation 2 of 10\n",
      "Model Number: 347 with model ARDL in generation 2 of 10\n",
      "Template Eval Error: ValueError(\"regression_type='User' but future_regressor not supplied\") in model 347 in generation 2: ARDL\n",
      "Model Number: 348 with model SeasonalNaive in generation 2 of 10\n",
      "Model Number: 349 with model ARDL in generation 2 of 10\n",
      "Model Number: 350 with model SeasonalityMotif in generation 2 of 10\n",
      "Model Number: 351 with model MetricMotif in generation 2 of 10\n",
      "Model Number: 352 with model AverageValueNaive in generation 2 of 10\n",
      "Model Number: 353 with model ConstantNaive in generation 2 of 10\n",
      "Model Number: 354 with model SectionalMotif in generation 2 of 10\n",
      "Model Number: 355 with model MetricMotif in generation 2 of 10\n",
      "Model Number: 356 with model RRVAR in generation 2 of 10\n",
      "Model Number: 357 with model SeasonalityMotif in generation 2 of 10\n",
      "Model Number: 358 with model GLM in generation 2 of 10\n",
      "Model Number: 359 with model LastValueNaive in generation 2 of 10\n",
      "Model Number: 360 with model ConstantNaive in generation 2 of 10\n",
      "Model Number: 361 with model SectionalMotif in generation 2 of 10\n",
      "Template Eval Error: Exception(\"Transformer Cointegration failed on fit from params rolling_mean {'0': {'constant': 0, 'reintroduction_model': {'model': 'KNN', 'model_params': {'n_neighbors': 3, 'weights': 'uniform', 'p': 2, 'leaf_size': 30}, 'datepart_method': 'expanded_binarized'}, 'fillna': None}, '1': {'rows': 1, 'lag': 7, 'method': 'additive', 'strength': 1.0, 'first_value_only': False, 'threshold': 3, 'threshold_method': 'mean'}, '2': {'method': 'remove', 'std_threshold': 4.5, 'fillna': 'mean'}, '3': {'det_order': 0, 'k_ar_diff': 2}} with error ValueError('Coint only works on multivarate series')\") in model 361 in generation 2: SectionalMotif\n",
      "Model Number: 362 with model BasicLinearModel in generation 2 of 10\n"
     ]
    },
    {
     "name": "stderr",
     "output_type": "stream",
     "text": [
      "/home/zeus/miniconda3/envs/cloudspace/lib/python3.10/site-packages/sklearn/neighbors/_classification.py:233: DataConversionWarning: A column-vector y was passed when a 1d array was expected. Please change the shape of y to (n_samples,), for example using ravel().\n",
      "  return self._fit(X, y)\n"
     ]
    },
    {
     "name": "stdout",
     "output_type": "stream",
     "text": [
      "Model Number: 363 with model ETS in generation 2 of 10\n",
      "Model Number: 364 with model DatepartRegression in generation 2 of 10\n",
      "Model Number: 365 with model AverageValueNaive in generation 2 of 10\n",
      "New Generation: 3 of 10\n"
     ]
    },
    {
     "name": "stderr",
     "output_type": "stream",
     "text": [
      "/home/zeus/miniconda3/envs/cloudspace/lib/python3.10/site-packages/sklearn/svm/_classes.py:32: FutureWarning: The default value of `dual` will change from `True` to `'auto'` in 1.5. Set the value of `dual` explicitly to suppress the warning.\n",
      "  warnings.warn(\n"
     ]
    },
    {
     "name": "stdout",
     "output_type": "stream",
     "text": [
      "Model Number: 366 with model GLM in generation 3 of 10\n"
     ]
    },
    {
     "name": "stderr",
     "output_type": "stream",
     "text": [
      "/home/zeus/miniconda3/envs/cloudspace/lib/python3.10/site-packages/numpy/core/fromnumeric.py:59: RuntimeWarning: overflow encountered in accumulate\n",
      "  return bound(*args, **kwds)\n",
      "/home/zeus/miniconda3/envs/cloudspace/lib/python3.10/site-packages/numpy/core/fromnumeric.py:59: RuntimeWarning: overflow encountered in accumulate\n",
      "  return bound(*args, **kwds)\n"
     ]
    },
    {
     "name": "stdout",
     "output_type": "stream",
     "text": [
      "Model Number: 367 with model ARDL in generation 3 of 10\n",
      "Model Number: 368 with model ARDL in generation 3 of 10\n",
      "Model Number: 369 with model DatepartRegression in generation 3 of 10\n"
     ]
    },
    {
     "name": "stderr",
     "output_type": "stream",
     "text": [
      "/home/zeus/miniconda3/envs/cloudspace/lib/python3.10/site-packages/sklearn/neighbors/_classification.py:233: DataConversionWarning: A column-vector y was passed when a 1d array was expected. Please change the shape of y to (n_samples,), for example using ravel().\n",
      "  return self._fit(X, y)\n"
     ]
    },
    {
     "name": "stdout",
     "output_type": "stream",
     "text": [
      "SVD did not converge, attempting more robust approach...\n",
      "Template Eval Error: Exception(\"Transformer KalmanSmoothing failed on fit from params mean {'0': {'rows': 7, 'lag': 1, 'method': 'additive', 'strength': 1.0, 'first_value_only': False, 'threshold': 1, 'threshold_method': 'mean'}, '1': {}, '2': {'model_name': 'locallinear_weekly_fourier', 'state_transition': [[1.0, 1.0, 0.0, 0.0, 0.0, 0.0, 0.0, 0.0, 0.0, 0.0, 0.0, 0.0, 0.0, 0.0], [0.0, 1.0, 0.0, 0.0, 0.0, 0.0, 0.0, 0.0, 0.0, 0.0, 0.0, 0.0, 0.0, 0.0], [0.0, 0.0, 0.0, 1.0, 0.0, 0.0, 0.0, 0.0, 0.0, 0.0, 0.0, 0.0, 0.0, 0.0], [0.0, 0.0, 0.0, 0.0, 1.0, 0.0, 0.0, 0.0, 0.0, 0.0, 0.0, 0.0, 0.0, 0.0], [0.0, 0.0, 0.0, 0.0, 0.0, 1.0, 0.0, 0.0, 0.0, 0.0, 0.0, 0.0, 0.0, 0.0], [0.0, 0.0, 0.0, 0.0, 0.0, 0.0, 1.0, 0.0, 0.0, 0.0, 0.0, 0.0, 0.0, 0.0], [0.0, 0.0, 0.0, 0.0, 0.0, 0.0, 0.0, 1.0, 0.0, 0.0, 0.0, 0.0, 0.0, 0.0], [0.0, 0.0, -1.0, 0.0, 0.0, 0.0, 0.0, 0.0, 0.0, 0.0, 0.0, 0.0, 0.0, 0.0], [0.0, 0.0, 0.0, 0.0, 0.0, 0.0, 0.0, 0.0, 0.9998520419557735, 0.017201575418260506, 0.0, 0.0, 0.0, 0.0], [0.0, 0.0, 0.0, 0.0, 0.0, 0.0, 0.0, 0.0, -0.017201575418260506, 0.9998520419557735, 0.0, 0.0, 0.0, 0.0], [0.0, 0.0, 0.0, 0.0, 0.0, 0.0, 0.0, 0.0, 0.9994082116062598, 0.03439806061360801, 0.0, 0.0, 0.0, 0.0], [0.0, 0.0, 0.0, 0.0, 0.0, 0.0, 0.0, 0.0, -0.03439806061360801, 0.9994082116062598, 0.0, 0.0, 0.0, 0.0], [0.0, 0.0, 0.0, 0.0, 0.0, 0.0, 0.0, 0.0, 0.9986686402879997, 0.051584366869408364, 0.0, 0.0, 0.0, 0.0], [0.0, 0.0, 0.0, 0.0, 0.0, 0.0, 0.0, 0.0, -0.051584366869408364, 0.9986686402879997, 0.0, 0.0, 0.0, 0.0]], 'process_noise': [[0.01, 0.0, 0.0, 0.0, 0.0, 0.0, 0.0, 0.0, 0.0, 0.0, 0.0, 0.0, 0.0, 0.0], [0.0, 0.001, 0.0, 0.0, 0.0, 0.0, 0.0, 0.0, 0.0, 0.0, 0.0, 0.0, 0.0, 0.0], [0.0, 0.0, 0.01, 0.0, 0.0, 0.0, 0.0, 0.0, 0.0, 0.0, 0.0, 0.0, 0.0, 0.0], [0.0, 0.0, 0.0, 0.01, 0.0, 0.0, 0.0, 0.0, 0.0, 0.0, 0.0, 0.0, 0.0, 0.0], [0.0, 0.0, 0.0, 0.0, 0.01, 0.0, 0.0, 0.0, 0.0, 0.0, 0.0, 0.0, 0.0, 0.0], [0.0, 0.0, 0.0, 0.0, 0.0, 0.01, 0.0, 0.0, 0.0, 0.0, 0.0, 0.0, 0.0, 0.0], [0.0, 0.0, 0.0, 0.0, 0.0, 0.0, 0.01, 0.0, 0.0, 0.0, 0.0, 0.0, 0.0, 0.0], [0.0, 0.0, 0.0, 0.0, 0.0, 0.0, 0.0, 0.01, 0.0, 0.0, 0.0, 0.0, 0.0, 0.0], [0.0, 0.0, 0.0, 0.0, 0.0, 0.0, 0.0, 0.0, 0.01, 0.0, 0.0, 0.0, 0.0, 0.0], [0.0, 0.0, 0.0, 0.0, 0.0, 0.0, 0.0, 0.0, 0.0, 0.01, 0.0, 0.0, 0.0, 0.0], [0.0, 0.0, 0.0, 0.0, 0.0, 0.0, 0.0, 0.0, 0.0, 0.0, 0.01, 0.0, 0.0, 0.0], [0.0, 0.0, 0.0, 0.0, 0.0, 0.0, 0.0, 0.0, 0.0, 0.0, 0.0, 0.01, 0.0, 0.0], [0.0, 0.0, 0.0, 0.0, 0.0, 0.0, 0.0, 0.0, 0.0, 0.0, 0.0, 0.0, 0.01, 0.0], [0.0, 0.0, 0.0, 0.0, 0.0, 0.0, 0.0, 0.0, 0.0, 0.0, 0.0, 0.0, 0.0, 0.01]], 'observation_model': [[1.0, 0.0, 1.0, 1.0, 1.0, 1.0, 1.0, 1.0, 0.9998520419557735, 0.017201575418260506, 0.9994082116062598, 0.03439806061360801, 0.9986686402879997, 0.051584366869408364]], 'observation_noise': 0.01, 'em_iter': 30, 'on_transform': True, 'on_inverse': False}, '3': {'window_size': 30, 'alpha': 2.5, 'grouping_forward_limit': 5, 'max_level_shifts': 5, 'alignment': 'average'}} with error LinAlgError('SVD did not converge')\") in model 369 in generation 3: DatepartRegression\n",
      "Model Number: 370 with model SeasonalNaive in generation 3 of 10\n",
      "Model Number: 371 with model LastValueNaive in generation 3 of 10\n",
      "Model Number: 372 with model AverageValueNaive in generation 3 of 10\n"
     ]
    },
    {
     "name": "stderr",
     "output_type": "stream",
     "text": [
      "/home/zeus/miniconda3/envs/cloudspace/lib/python3.10/site-packages/autots/tools/fast_kalman.py:1137: RuntimeWarning: overflow encountered in cast\n",
      "  result.smoothed.states.cov[:, j, :, :] = Ps\n",
      "/home/zeus/miniconda3/envs/cloudspace/lib/python3.10/site-packages/autots/tools/fast_kalman.py:1143: RuntimeWarning: overflow encountered in cast\n",
      "  result.smoothed.observations.cov[:, j, :, :] = obs_cov\n",
      "/home/zeus/miniconda3/envs/cloudspace/lib/python3.10/site-packages/autots/tools/fast_kalman.py:1354: RuntimeWarning: overflow encountered in matmul\n",
      "  return np.matmul(A, np.swapaxes(B, -1, -2))\n",
      "/home/zeus/miniconda3/envs/cloudspace/lib/python3.10/site-packages/autots/tools/fast_kalman.py:1341: RuntimeWarning: overflow encountered in matmul\n",
      "  return np.matmul(A, B)\n",
      "/home/zeus/miniconda3/envs/cloudspace/lib/python3.10/site-packages/autots/tools/fast_kalman.py:1341: RuntimeWarning: invalid value encountered in matmul\n",
      "  return np.matmul(A, B)\n",
      "/home/zeus/miniconda3/envs/cloudspace/lib/python3.10/site-packages/autots/tools/fast_kalman.py:1354: RuntimeWarning: invalid value encountered in matmul\n",
      "  return np.matmul(A, np.swapaxes(B, -1, -2))\n",
      "/home/zeus/miniconda3/envs/cloudspace/lib/python3.10/site-packages/autots/tools/fast_kalman.py:1359: RuntimeWarning: overflow encountered in multiply\n",
      "  return a * b.transpose((0, 2, 1))\n"
     ]
    },
    {
     "name": "stdout",
     "output_type": "stream",
     "text": [
      "Model Number: 373 with model BasicLinearModel in generation 3 of 10\n",
      "Model Number: 374 with model ARDL in generation 3 of 10\n",
      "Model Number: 375 with model BasicLinearModel in generation 3 of 10\n",
      "Model Number: 376 with model SeasonalNaive in generation 3 of 10\n",
      "Model Number: 377 with model SeasonalityMotif in generation 3 of 10\n",
      "Model Number: 378 with model ETS in generation 3 of 10\n",
      "Model Number: 379 with model GLS in generation 3 of 10\n",
      "SVD did not converge, attempting more robust approach...\n",
      "Template Eval Error: Exception(\"Transformer KalmanSmoothing failed on fit from params ffill {'0': {'model_name': 'local linear hidden state with seasonal 12', 'state_transition': [[1.0, 0.0, 0.0, 0.0, 0.0, 0.0, 0.0, 0.0, 0.0, 0.0, 0.0, 0.0, 0.0], [0.0, -1.0, -1.0, -1.0, -1.0, -1.0, -1.0, -1.0, -1.0, -1.0, -1.0, -1.0, 0.0], [0.0, 1.0, 0.0, 0.0, 0.0, 0.0, 0.0, 0.0, 0.0, 0.0, 0.0, 0.0, 0.0], [0.0, 0.0, 1.0, 0.0, 0.0, 0.0, 0.0, 0.0, 0.0, 0.0, 0.0, 0.0, 0.0], [0.0, 0.0, 0.0, 1.0, 0.0, 0.0, 0.0, 0.0, 0.0, 0.0, 0.0, 0.0, 0.0], [0.0, 0.0, 0.0, 0.0, 1.0, 0.0, 0.0, 0.0, 0.0, 0.0, 0.0, 0.0, 0.0], [0.0, 0.0, 0.0, 0.0, 0.0, 1.0, 0.0, 0.0, 0.0, 0.0, 0.0, 0.0, 0.0], [0.0, 0.0, 0.0, 0.0, 0.0, 0.0, 1.0, 0.0, 0.0, 0.0, 0.0, 0.0, 0.0], [0.0, 0.0, 0.0, 0.0, 0.0, 0.0, 0.0, 1.0, 0.0, 0.0, 0.0, 0.0, 0.0], [0.0, 0.0, 0.0, 0.0, 0.0, 0.0, 0.0, 0.0, 1.0, 0.0, 0.0, 0.0, 0.0], [0.0, 0.0, 0.0, 0.0, 0.0, 0.0, 0.0, 0.0, 0.0, 1.0, 0.0, 0.0, 0.0], [0.0, 0.0, 0.0, 0.0, 0.0, 0.0, 0.0, 0.0, 0.0, 0.0, 1.0, 0.0, 0.0], [0.0, 0.0, 0.0, 0.0, 0.0, 0.0, 0.0, 0.0, 0.0, 0.0, 0.0, 1.0, 0.0]], 'process_noise': [[1.0, 0.0, 0.0, 0.0, 0.0, 0.0, 0.0, 0.0, 0.0, 0.0, 0.0, 0.0, 0.0], [0.0, 1e-08, 0.0, 0.0, 0.0, 0.0, 0.0, 0.0, 0.0, 0.0, 0.0, 0.0, 0.0], [0.0, 0.0, 0.0, 0.0, 0.0, 0.0, 0.0, 0.0, 0.0, 0.0, 0.0, 0.0, 0.0], [0.0, 0.0, 0.0, 0.0, 0.0, 0.0, 0.0, 0.0, 0.0, 0.0, 0.0, 0.0, 0.0], [0.0, 0.0, 0.0, 0.0, 0.0, 0.0, 0.0, 0.0, 0.0, 0.0, 0.0, 0.0, 0.0], [0.0, 0.0, 0.0, 0.0, 0.0, 0.0, 0.0, 0.0, 0.0, 0.0, 0.0, 0.0, 0.0], [0.0, 0.0, 0.0, 0.0, 0.0, 0.0, 0.0, 0.0, 0.0, 0.0, 0.0, 0.0, 0.0], [0.0, 0.0, 0.0, 0.0, 0.0, 0.0, 0.0, 0.0, 0.0, 0.0, 0.0, 0.0, 0.0], [0.0, 0.0, 0.0, 0.0, 0.0, 0.0, 0.0, 0.0, 0.0, 0.0, 0.0, 0.0, 0.0], [0.0, 0.0, 0.0, 0.0, 0.0, 0.0, 0.0, 0.0, 0.0, 0.0, 0.0, 0.0, 0.0], [0.0, 0.0, 0.0, 0.0, 0.0, 0.0, 0.0, 0.0, 0.0, 0.0, 0.0, 0.0, 0.0], [0.0, 0.0, 0.0, 0.0, 0.0, 0.0, 0.0, 0.0, 0.0, 0.0, 0.0, 0.0, 0.0], [0.0, 0.0, 0.0, 0.0, 0.0, 0.0, 0.0, 0.0, 0.0, 0.0, 0.0, 0.0, 0.0]], 'observation_model': [[1, 1, 0, 0, 0, 0, 0, 0, 0, 0, 0, 0, 0]], 'observation_noise': 0.04, 'em_iter': 10, 'on_transform': True, 'on_inverse': False}, '1': {'method': 0.3}, '2': {}, '3': {'lag_1': 12, 'method': 'Median'}, '4': {'rows': 1, 'lag': 1, 'method': 'additive', 'strength': 1.0, 'first_value_only': False, 'threshold': None, 'threshold_method': 'mean'}} with error LinAlgError('SVD did not converge')\") in model 379 in generation 3: GLS\n",
      "Model Number: 380 with model MetricMotif in generation 3 of 10\n",
      "Model Number: 381 with model SeasonalityMotif in generation 3 of 10\n",
      "Model Number: 382 with model GLM in generation 3 of 10\n",
      "Template Eval Error: Exception(\"Transformer Detrend failed on fit from params zero {'0': {'sigma': 1, 'rolling_window': 90, 'run_order': 'season_first', 'regression_params': {'regression_model': {'model': 'DecisionTree', 'model_params': {'max_depth': None, 'min_samples_split': 2}}, 'datepart_method': 'simple', 'polynomial_degree': 2, 'transform_dict': {'fillna': None, 'transformations': {'0': 'EWMAFilter'}, 'transformation_params': {'0': {'span': 2}}}, 'holiday_countries_used': False, 'lags': 3, 'forward_lags': 1}, 'holiday_params': None, 'trend_method': 'local_linear'}, '1': {'model': 'Poisson', 'phi': 1, 'window': 90, 'transform_dict': None}, '2': {}, '3': {'rows': 1, 'lag': 1, 'method': 'additive', 'strength': 1.0, 'first_value_only': False, 'threshold': 1, 'threshold_method': 'mean'}} with error ValueError('Found input variables with inconsistent numbers of samples: [90, 144]')\") in model 382 in generation 3: GLM\n",
      "Model Number: 383 with model RRVAR in generation 3 of 10\n"
     ]
    },
    {
     "name": "stderr",
     "output_type": "stream",
     "text": [
      "/home/zeus/miniconda3/envs/cloudspace/lib/python3.10/site-packages/autots/tools/fast_kalman.py:1137: RuntimeWarning: overflow encountered in cast\n",
      "  result.smoothed.states.cov[:, j, :, :] = Ps\n",
      "/home/zeus/miniconda3/envs/cloudspace/lib/python3.10/site-packages/autots/tools/fast_kalman.py:1143: RuntimeWarning: overflow encountered in cast\n",
      "  result.smoothed.observations.cov[:, j, :, :] = obs_cov\n",
      "/home/zeus/miniconda3/envs/cloudspace/lib/python3.10/site-packages/autots/tools/fast_kalman.py:1354: RuntimeWarning: invalid value encountered in matmul\n",
      "  return np.matmul(A, np.swapaxes(B, -1, -2))\n",
      "/home/zeus/miniconda3/envs/cloudspace/lib/python3.10/site-packages/autots/tools/fast_kalman.py:1341: RuntimeWarning: invalid value encountered in matmul\n",
      "  return np.matmul(A, B)\n"
     ]
    },
    {
     "name": "stdout",
     "output_type": "stream",
     "text": [
      "Model Number: 384 with model FFT in generation 3 of 10\n",
      "Model Number: 385 with model ConstantNaive in generation 3 of 10\n",
      "Model Number: 386 with model GLM in generation 3 of 10\n",
      "Model Number: 387 with model GLM in generation 3 of 10\n",
      "Model Number: 388 with model ConstantNaive in generation 3 of 10\n"
     ]
    },
    {
     "name": "stderr",
     "output_type": "stream",
     "text": [
      "/home/zeus/miniconda3/envs/cloudspace/lib/python3.10/site-packages/statsmodels/genmod/families/links.py:198: RuntimeWarning: overflow encountered in exp\n",
      "  t = np.exp(-z)\n"
     ]
    },
    {
     "name": "stdout",
     "output_type": "stream",
     "text": [
      "Model Number: 389 with model DatepartRegression in generation 3 of 10\n",
      "Model Number: 390 with model ConstantNaive in generation 3 of 10\n",
      "Model Number: 391 with model ConstantNaive in generation 3 of 10\n",
      "Model Number: 392 with model DatepartRegression in generation 3 of 10\n"
     ]
    },
    {
     "name": "stderr",
     "output_type": "stream",
     "text": [
      "/home/zeus/miniconda3/envs/cloudspace/lib/python3.10/site-packages/sklearn/svm/_classes.py:32: FutureWarning: The default value of `dual` will change from `True` to `'auto'` in 1.5. Set the value of `dual` explicitly to suppress the warning.\n",
      "  warnings.warn(\n",
      "/home/zeus/miniconda3/envs/cloudspace/lib/python3.10/site-packages/sklearn/svm/_base.py:1250: ConvergenceWarning: Liblinear failed to converge, increase the number of iterations.\n",
      "  warnings.warn(\n",
      "/home/zeus/miniconda3/envs/cloudspace/lib/python3.10/site-packages/sklearn/svm/_classes.py:32: FutureWarning: The default value of `dual` will change from `True` to `'auto'` in 1.5. Set the value of `dual` explicitly to suppress the warning.\n",
      "  warnings.warn(\n"
     ]
    },
    {
     "name": "stdout",
     "output_type": "stream",
     "text": [
      "Model Number: 393 with model MetricMotif in generation 3 of 10\n",
      "Model Number: 394 with model ConstantNaive in generation 3 of 10\n",
      "Model Number: 395 with model GLS in generation 3 of 10\n",
      "Model Number: 396 with model LastValueNaive in generation 3 of 10\n",
      "Model Number: 397 with model BasicLinearModel in generation 3 of 10\n",
      "Model Number: 398 with model SeasonalNaive in generation 3 of 10\n",
      "Model Number: 399 with model AverageValueNaive in generation 3 of 10\n",
      "Model Number: 400 with model SectionalMotif in generation 3 of 10\n",
      "Model Number: 401 with model SeasonalityMotif in generation 3 of 10\n",
      "Model Number: 402 with model GLS in generation 3 of 10\n",
      "Model Number: 403 with model SeasonalNaive in generation 3 of 10\n",
      "Model Number: 404 with model LastValueNaive in generation 3 of 10\n",
      "Model Number: 405 with model GLM in generation 3 of 10\n",
      "Model Number: 406 with model ETS in generation 3 of 10\n",
      "Model Number: 407 with model AverageValueNaive in generation 3 of 10\n",
      "Template Eval Error: Exception(\"Transformer Cointegration failed on fit from params ffill {'0': {'span': 12}, '1': {}, '2': {'rows': 1, 'lag': 1, 'method': 'additive', 'strength': 1.0, 'first_value_only': False, 'threshold': 10, 'threshold_method': 'mean'}, '3': {'det_order': 1, 'k_ar_diff': 0}} with error ValueError('Coint only works on multivarate series')\") in model 407 in generation 3: AverageValueNaive\n",
      "Model Number: 408 with model BasicLinearModel in generation 3 of 10\n",
      "Model Number: 409 with model SeasonalityMotif in generation 3 of 10\n",
      "Model Number: 410 with model ETS in generation 3 of 10\n",
      "Model Number: 411 with model RRVAR in generation 3 of 10\n",
      "Model Number: 412 with model LastValueNaive in generation 3 of 10\n",
      "Model Number: 413 with model LastValueNaive in generation 3 of 10\n",
      "Model Number: 414 with model MetricMotif in generation 3 of 10\n",
      "Template Eval Error: Exception(\"Transformer Cointegration failed on fit from params akima {'0': {}, '1': {'lag_1': 24, 'method': 'Mean'}, '2': {'det_order': -1, 'k_ar_diff': 2}, '3': {'lag': 2, 'fill': 'zero'}} with error ValueError('Coint only works on multivarate series')\") in model 414 in generation 3: MetricMotif\n",
      "Model Number: 415 with model SeasonalNaive in generation 3 of 10\n",
      "Model Number: 416 with model RRVAR in generation 3 of 10\n",
      "Model Number: 417 with model MetricMotif in generation 3 of 10\n",
      "Model Number: 418 with model SeasonalNaive in generation 3 of 10\n",
      "Model Number: 419 with model ConstantNaive in generation 3 of 10\n",
      "Model Number: 420 with model AverageValueNaive in generation 3 of 10\n",
      "Model Number: 421 with model ETS in generation 3 of 10\n",
      "Model Number: 422 with model ETS in generation 3 of 10\n",
      "Template Eval Error: Exception(\"Transformer ReplaceConstant failed on fit from params ffill {'0': {'theta_values': [0.6, 1.4]}, '1': {'constant': 0, 'reintroduction_model': {'model': 'xgboost', 'model_params': {'booster': 'gbtree', 'max_depth': 2, 'eta': 0.03, 'min_child_weight': 5, 'subsample': 1, 'colsample_bylevel': 0.5, 'reg_alpha': 0, 'reg_lambda': 1, 'n_estimators': 100}, 'datepart_method': 'recurring'}, 'fillna': 'linear'}, '2': {}, '3': {'rows': 1, 'lag': 1, 'method': 'additive', 'strength': 1.0, 'first_value_only': False, 'threshold': 1, 'threshold_method': 'max'}, '4': {'n_harmonics': 10, 'detrend': 'quadratic'}} with error ValueError('Invalid classes inferred from unique values of `y`.  Expected: [0], got [1]')\") in model 422 in generation 3: ETS\n",
      "Model Number: 423 with model GLM in generation 3 of 10\n",
      "Model Number: 424 with model SeasonalityMotif in generation 3 of 10\n",
      "Model Number: 425 with model UnivariateMotif in generation 3 of 10\n",
      "Model Number: 426 with model SeasonalNaive in generation 3 of 10\n",
      "Model Number: 427 with model SeasonalityMotif in generation 3 of 10\n",
      "Model Number: 428 with model GLM in generation 3 of 10\n",
      "Template Eval Error: ValueError('regression_type=user and no future_regressor passed') in model 428 in generation 3: GLM\n",
      "Model Number: 429 with model LastValueNaive in generation 3 of 10\n",
      "Model Number: 430 with model SeasonalNaive in generation 3 of 10\n",
      "Model Number: 431 with model MetricMotif in generation 3 of 10\n",
      "Model Number: 432 with model SectionalMotif in generation 3 of 10\n",
      "Template Eval Error: ValueError(\"regression_type=='User' but no future_regressor supplied\") in model 432 in generation 3: SectionalMotif\n",
      "Model Number: 433 with model SeasonalityMotif in generation 3 of 10\n",
      "Model Number: 434 with model GLS in generation 3 of 10\n"
     ]
    },
    {
     "name": "stderr",
     "output_type": "stream",
     "text": [
      "/home/zeus/miniconda3/envs/cloudspace/lib/python3.10/site-packages/sklearn/linear_model/_ridge.py:200: LinAlgWarning: Ill-conditioned matrix (rcond=8.09705e-25): result may not be accurate.\n",
      "  return linalg.solve(A, Xy, assume_a=\"pos\", overwrite_a=True).T\n"
     ]
    },
    {
     "name": "stdout",
     "output_type": "stream",
     "text": [
      "Model Number: 435 with model ConstantNaive in generation 3 of 10\n",
      "Model Number: 436 with model LastValueNaive in generation 3 of 10\n",
      "Model Number: 437 with model GLM in generation 3 of 10\n",
      "Model Number: 438 with model MetricMotif in generation 3 of 10\n",
      "Model Number: 439 with model LastValueNaive in generation 3 of 10\n",
      "Model Number: 440 with model SeasonalNaive in generation 3 of 10\n",
      "Model Number: 441 with model DatepartRegression in generation 3 of 10\n",
      "Model Number: 442 with model RRVAR in generation 3 of 10\n"
     ]
    },
    {
     "name": "stderr",
     "output_type": "stream",
     "text": [
      "/home/zeus/miniconda3/envs/cloudspace/lib/python3.10/site-packages/sklearn/svm/_classes.py:32: FutureWarning: The default value of `dual` will change from `True` to `'auto'` in 1.5. Set the value of `dual` explicitly to suppress the warning.\n",
      "  warnings.warn(\n",
      "/home/zeus/miniconda3/envs/cloudspace/lib/python3.10/site-packages/sklearn/svm/_base.py:1250: ConvergenceWarning: Liblinear failed to converge, increase the number of iterations.\n",
      "  warnings.warn(\n"
     ]
    },
    {
     "name": "stdout",
     "output_type": "stream",
     "text": [
      "Model Number: 443 with model SeasonalNaive in generation 3 of 10\n",
      "Model Number: 444 with model ETS in generation 3 of 10\n",
      "Model Number: 445 with model LastValueNaive in generation 3 of 10\n",
      "Model Number: 446 with model ARDL in generation 3 of 10\n"
     ]
    },
    {
     "name": "stderr",
     "output_type": "stream",
     "text": [
      "/home/zeus/miniconda3/envs/cloudspace/lib/python3.10/site-packages/sklearn/neighbors/_classification.py:233: DataConversionWarning: A column-vector y was passed when a 1d array was expected. Please change the shape of y to (n_samples,), for example using ravel().\n",
      "  return self._fit(X, y)\n"
     ]
    },
    {
     "name": "stdout",
     "output_type": "stream",
     "text": [
      "Model Number: 447 with model SeasonalNaive in generation 3 of 10\n",
      "Model Number: 448 with model GLS in generation 3 of 10\n",
      "Model Number: 449 with model ETS in generation 3 of 10\n",
      "Model Number: 450 with model ConstantNaive in generation 3 of 10\n",
      "Model Number: 451 with model ARDL in generation 3 of 10\n",
      "Model Number: 452 with model RRVAR in generation 3 of 10\n",
      "Model Number: 453 with model DatepartRegression in generation 3 of 10\n",
      "Template Eval Error: ValueError(\"regression_type='User' but no future_regressor passed\") in model 453 in generation 3: DatepartRegression\n",
      "Model Number: 454 with model ARDL in generation 3 of 10\n",
      "Model Number: 455 with model SeasonalityMotif in generation 3 of 10\n",
      "Model Number: 456 with model DatepartRegression in generation 3 of 10\n",
      "Model Number: 457 with model UnivariateMotif in generation 3 of 10\n",
      "Model Number: 458 with model LastValueNaive in generation 3 of 10\n"
     ]
    },
    {
     "name": "stderr",
     "output_type": "stream",
     "text": [
      "/home/zeus/miniconda3/envs/cloudspace/lib/python3.10/site-packages/sklearn/svm/_classes.py:32: FutureWarning: The default value of `dual` will change from `True` to `'auto'` in 1.5. Set the value of `dual` explicitly to suppress the warning.\n",
      "  warnings.warn(\n",
      "/home/zeus/miniconda3/envs/cloudspace/lib/python3.10/site-packages/sklearn/svm/_base.py:1250: ConvergenceWarning: Liblinear failed to converge, increase the number of iterations.\n",
      "  warnings.warn(\n"
     ]
    },
    {
     "name": "stdout",
     "output_type": "stream",
     "text": [
      "Model Number: 459 with model GLS in generation 3 of 10\n",
      "Template Eval Error: Exception(\"Transformer SinTrend failed on fit from params ffill {'0': {'model_name': 'randomly generated_original', 'state_transition': [[1, 0, 0, 0], [0, 1, 0, 0], [0, 0, 0, 0], [0, 0, 0, 1]], 'process_noise': [[0.0, 0.0, 0.0, 0.0], [0.0, 0.0, 0.0, 0.0], [0.0, 0.0, 0.0, 0.0], [0.0, 0.0, 0.0, 0.0]], 'observation_model': [[1, 1, 0, 0]], 'observation_noise': 1.0, 'em_iter': 10, 'on_transform': True, 'on_inverse': False}, '1': {'window': None}, '2': {}, '3': {}, '4': {}} with error RuntimeError('Optimal parameters not found: Number of calls to function has reached maxfev = 10000.')\") in model 459 in generation 3: GLS\n",
      "Model Number: 460 with model GLS in generation 3 of 10\n",
      "Template Eval Error: Exception('Transformer DatepartRegression failed on fit from params piecewise_polynomial {\\'0\\': {\\'method\\': \\'clip\\', \\'std_threshold\\': 2, \\'fillna\\': None}, \\'1\\': {\\'window\\': None}, \\'2\\': {\\'lag_1\\': 7, \\'method\\': 20}, \\'3\\': {\\'output_distribution\\': \\'uniform\\', \\'n_quantiles\\': 48}, \\'4\\': {\\'regression_model\\': {\\'model\\': \\'ElasticNetwork\\', \\'model_params\\': {\\'size\\': 2560, \\'l1\\': 0.0001, \\'l2\\': 0.0, \\'epochs\\': 20, \\'batch_size\\': 16, \\'optimizer\\': \\'adam\\', \\'loss\\': \\'Huber\\'}}, \\'datepart_method\\': [\\'morlet_365.25_12_12\\', \\'ricker_7_7_1\\'], \\'polynomial_degree\\': None, \\'transform_dict\\': None, \\'holiday_countries_used\\': True, \\'lags\\': 1, \\'forward_lags\\': None}} with error ModuleNotFoundError(\"No module named \\'tensorflow\\'\")') in model 460 in generation 3: GLS\n",
      "Model Number: 461 with model WindowRegression in generation 3 of 10\n",
      "Template Eval Error: Exception(\"Transformer ReplaceConstant failed on fit from params zero {'0': {}, '1': {}, '2': {'constant': 0, 'reintroduction_model': {'model': 'xgboost', 'model_params': {'base_score': 0.5, 'booster': 'gbtree', 'colsample_bylevel': 0.692, 'learning_rate': 0.022, 'max_bin': 256, 'max_depth': 14, 'max_leaves': 0, 'min_child_weight': 0.024, 'n_estimators': 162}, 'datepart_method': 'simple_binarized'}, 'fillna': 'linear'}} with error ValueError('Invalid classes inferred from unique values of `y`.  Expected: [0], got [1]')\") in model 461 in generation 3: WindowRegression\n",
      "Model Number: 462 with model ETS in generation 3 of 10\n",
      "Model Number: 463 with model GLS in generation 3 of 10\n",
      "Model Number: 464 with model AverageValueNaive in generation 3 of 10\n",
      "Model Number: 465 with model RRVAR in generation 3 of 10\n",
      "Model Number: 466 with model MetricMotif in generation 3 of 10\n",
      "Model Number: 467 with model MetricMotif in generation 3 of 10\n",
      "Model Number: 468 with model MetricMotif in generation 3 of 10\n",
      "Model Number: 469 with model ARDL in generation 3 of 10\n",
      "Model Number: 470 with model LastValueNaive in generation 3 of 10\n",
      "New Generation: 4 of 10\n",
      "Model Number: 471 with model ConstantNaive in generation 4 of 10\n",
      "Model Number: 472 with model DatepartRegression in generation 4 of 10\n",
      "Model Number: 473 with model MetricMotif in generation 4 of 10\n"
     ]
    },
    {
     "name": "stderr",
     "output_type": "stream",
     "text": [
      "/home/zeus/miniconda3/envs/cloudspace/lib/python3.10/site-packages/sklearn/svm/_classes.py:32: FutureWarning: The default value of `dual` will change from `True` to `'auto'` in 1.5. Set the value of `dual` explicitly to suppress the warning.\n",
      "  warnings.warn(\n"
     ]
    },
    {
     "name": "stdout",
     "output_type": "stream",
     "text": [
      "Model Number: 474 with model LastValueNaive in generation 4 of 10\n",
      "Model Number: 475 with model MetricMotif in generation 4 of 10\n",
      "Model Number: 476 with model SeasonalityMotif in generation 4 of 10\n",
      "Model Number: 477 with model LastValueNaive in generation 4 of 10\n",
      "Model Number: 478 with model GLS in generation 4 of 10\n"
     ]
    },
    {
     "name": "stderr",
     "output_type": "stream",
     "text": [
      "/home/zeus/miniconda3/envs/cloudspace/lib/python3.10/site-packages/sklearn/neighbors/_classification.py:233: DataConversionWarning: A column-vector y was passed when a 1d array was expected. Please change the shape of y to (n_samples,), for example using ravel().\n",
      "  return self._fit(X, y)\n"
     ]
    },
    {
     "name": "stdout",
     "output_type": "stream",
     "text": [
      "Model Number: 479 with model GLM in generation 4 of 10\n",
      "Model Number: 480 with model ConstantNaive in generation 4 of 10\n"
     ]
    },
    {
     "name": "stderr",
     "output_type": "stream",
     "text": [
      "/home/zeus/miniconda3/envs/cloudspace/lib/python3.10/site-packages/statsmodels/genmod/families/links.py:198: RuntimeWarning: overflow encountered in exp\n",
      "  t = np.exp(-z)\n"
     ]
    },
    {
     "name": "stdout",
     "output_type": "stream",
     "text": [
      "Model Number: 481 with model SectionalMotif in generation 4 of 10\n",
      "Model Number: 482 with model LastValueNaive in generation 4 of 10\n",
      "Model Number: 483 with model ConstantNaive in generation 4 of 10\n",
      "Model Number: 484 with model LastValueNaive in generation 4 of 10\n",
      "Model Number: 485 with model LastValueNaive in generation 4 of 10\n",
      "Model Number: 486 with model ETS in generation 4 of 10\n",
      "Model Number: 487 with model ARDL in generation 4 of 10\n",
      "Model Number: 488 with model SeasonalNaive in generation 4 of 10\n",
      "Model Number: 489 with model GLM in generation 4 of 10\n",
      "Model Number: 490 with model RRVAR in generation 4 of 10\n",
      "Model Number: 491 with model ConstantNaive in generation 4 of 10\n",
      "Model Number: 492 with model GLS in generation 4 of 10\n"
     ]
    },
    {
     "name": "stderr",
     "output_type": "stream",
     "text": [
      "/home/zeus/miniconda3/envs/cloudspace/lib/python3.10/site-packages/statsmodels/genmod/families/links.py:198: RuntimeWarning: overflow encountered in exp\n",
      "  t = np.exp(-z)\n"
     ]
    },
    {
     "name": "stdout",
     "output_type": "stream",
     "text": [
      "Model Number: 493 with model SeasonalityMotif in generation 4 of 10\n",
      "Model Number: 494 with model SectionalMotif in generation 4 of 10\n",
      "Model Number: 495 with model ETS in generation 4 of 10\n",
      "Model Number: 496 with model SeasonalityMotif in generation 4 of 10\n",
      "Model Number: 497 with model ConstantNaive in generation 4 of 10\n",
      "Model Number: 498 with model GLM in generation 4 of 10\n",
      "Model Number: 499 with model DatepartRegression in generation 4 of 10\n",
      "Template Eval Error: Exception(\"Transformer SinTrend failed on fit from params ffill {'0': {'model_name': 'randomly generated_original', 'state_transition': [[1, 0, 0, 0], [0, 1, 0, 0], [0, 0, 0, 0], [0, 0, 0, 1]], 'process_noise': [[0.0, 0.0, 0.0, 0.0], [0.0, 0.0, 0.0, 0.0], [0.0, 0.0, 0.0, 0.0], [0.0, 0.0, 0.0, 0.0]], 'observation_model': [[1, 1, 0, 0]], 'observation_noise': 1.0, 'em_iter': 10, 'on_transform': True, 'on_inverse': False}, '1': {}, '2': {'cutoff': 0.1, 'reverse': False, 'on_transform': True, 'on_inverse': True}, '3': {'rows': 1, 'lag': 7, 'method': 'additive', 'strength': 1.0, 'first_value_only': False, 'threshold': None, 'threshold_method': 'max'}, '4': {'method': 'zscore', 'method_params': {'distribution': 'laplace', 'alpha': 0.05}, 'fillna': None, 'transform_dict': {'fillna': None, 'transformations': {'0': 'ClipOutliers'}, 'transformation_params': {'0': {'method': 'clip', 'std_threshold': 6}}}, 'isolated_only': False, 'on_inverse': False}} with error RuntimeError('Optimal parameters not found: Number of calls to function has reached maxfev = 10000.')\") in model 499 in generation 4: DatepartRegression\n",
      "Model Number: 500 with model GLS in generation 4 of 10\n",
      "Model Number: 501 with model ConstantNaive in generation 4 of 10\n",
      "Model Number: 502 with model ETS in generation 4 of 10\n",
      "Model Number: 503 with model LastValueNaive in generation 4 of 10\n",
      "Model Number: 504 with model GLM in generation 4 of 10\n",
      "Model Number: 505 with model SeasonalNaive in generation 4 of 10\n",
      "Model Number: 506 with model MetricMotif in generation 4 of 10\n"
     ]
    },
    {
     "name": "stderr",
     "output_type": "stream",
     "text": [
      "/home/zeus/miniconda3/envs/cloudspace/lib/python3.10/site-packages/statsmodels/genmod/families/links.py:198: RuntimeWarning: overflow encountered in exp\n",
      "  t = np.exp(-z)\n"
     ]
    },
    {
     "name": "stdout",
     "output_type": "stream",
     "text": [
      "Model Number: 507 with model ARDL in generation 4 of 10\n",
      "Model Number: 508 with model SeasonalNaive in generation 4 of 10\n",
      "Model Number: 509 with model ETS in generation 4 of 10\n",
      "Model Number: 510 with model SeasonalNaive in generation 4 of 10\n",
      "Model Number: 511 with model SeasonalNaive in generation 4 of 10\n",
      "Model Number: 512 with model LastValueNaive in generation 4 of 10\n",
      "Model Number: 513 with model SeasonalNaive in generation 4 of 10\n",
      "Model Number: 514 with model MetricMotif in generation 4 of 10\n",
      "Model Number: 515 with model ETS in generation 4 of 10\n",
      "Template Eval Error: Exception(\"Transformer AlignLastValue failed on fit from params ffill {'0': {}, '1': {'method': 0.2}, '2': {'rows': 1, 'lag': 84, 'method': 'multiplicative', 'strength': 0.2, 'first_value_only': False, 'threshold': 1, 'threshold_method': 'max'}, '3': {'lag': 1, 'fill': 'bfill'}} with error IndexError('single positional indexer is out-of-bounds')\") in model 515 in generation 4: ETS\n",
      "Model Number: 516 with model ARDL in generation 4 of 10\n",
      "Model Number: 517 with model AverageValueNaive in generation 4 of 10\n",
      "Model Number: 518 with model ARDL in generation 4 of 10\n",
      "Model Number: 519 with model ARDL in generation 4 of 10\n",
      "Model Number: 520 with model ETS in generation 4 of 10\n",
      "Model Number: 521 with model SeasonalityMotif in generation 4 of 10\n",
      "Model Number: 522 with model MetricMotif in generation 4 of 10\n",
      "Model Number: 523 with model GLM in generation 4 of 10\n",
      "Model Number: 524 with model AverageValueNaive in generation 4 of 10\n",
      "Model Number: 525 with model SeasonalityMotif in generation 4 of 10\n",
      "Model Number: 526 with model FFT in generation 4 of 10\n"
     ]
    },
    {
     "name": "stderr",
     "output_type": "stream",
     "text": [
      "/home/zeus/miniconda3/envs/cloudspace/lib/python3.10/site-packages/statsmodels/genmod/families/links.py:198: RuntimeWarning: overflow encountered in exp\n",
      "  t = np.exp(-z)\n"
     ]
    },
    {
     "name": "stdout",
     "output_type": "stream",
     "text": [
      "Model Number: 527 with model UnivariateMotif in generation 4 of 10\n",
      "Template Eval Error: ValueError('window shape cannot be larger than input array shape') in model 527 in generation 4: UnivariateMotif\n",
      "Model Number: 528 with model GLS in generation 4 of 10\n",
      "Template Eval Error: Exception(\"Transformer HolidayTransformer failed on fit from params ffill {'0': {'threshold': 0.8, 'splash_threshold': None, 'use_dayofmonth_holidays': True, 'use_wkdom_holidays': True, 'use_wkdeom_holidays': False, 'use_lunar_holidays': False, 'use_lunar_weekday': False, 'use_islamic_holidays': False, 'use_hebrew_holidays': False, 'use_hindu_holidays': False, 'anomaly_detector_params': {'method': 'IQR', 'method_params': {'iqr_threshold': 2.0, 'iqr_quantiles': [0.25, 0.75]}, 'fillna': 'ffill', 'transform_dict': {'transformations': {'0': 'DifferencedTransformer'}, 'transformation_params': {'0': {}}}, 'isolated_only': False, 'on_inverse': False}, 'remove_excess_anomalies': True, 'impact': 'anomaly_score', 'regression_params': {}}, '1': {'rows': 168, 'lag': 1, 'method': 'additive', 'strength': 1.0, 'first_value_only': True, 'threshold': 3, 'threshold_method': 'max'}, '2': {'window_size': 364, 'alpha': 3.5, 'grouping_forward_limit': 5, 'max_level_shifts': 8, 'alignment': 'average'}, '3': {}, '4': {}, '5': {}} with error ValueError('more than 1 year of data is required for holiday detection.')\") in model 528 in generation 4: GLS\n",
      "Model Number: 529 with model GLS in generation 4 of 10\n",
      "Template Eval Error: Exception(\"Transformer HolidayTransformer failed on fit from params ffill {'0': {'threshold': 0.9, 'splash_threshold': None, 'use_dayofmonth_holidays': True, 'use_wkdom_holidays': True, 'use_wkdeom_holidays': False, 'use_lunar_holidays': False, 'use_lunar_weekday': False, 'use_islamic_holidays': False, 'use_hebrew_holidays': False, 'use_hindu_holidays': False, 'anomaly_detector_params': {'method': 'IQR', 'method_params': {'iqr_threshold': 2.5, 'iqr_quantiles': [0.25, 0.75]}, 'fillna': 'rolling_mean_24', 'transform_dict': {'fillna': 'rolling_mean_24', 'transformations': {'0': 'MinMaxScaler'}, 'transformation_params': {'0': {}}}, 'isolated_only': False, 'on_inverse': False}, 'remove_excess_anomalies': True, 'impact': 'datepart_regression', 'regression_params': {'regression_model': {'model': 'DecisionTree', 'model_params': {'max_depth': 3, 'min_samples_split': 2}}, 'datepart_method': 'simple_poly', 'polynomial_degree': None, 'transform_dict': None, 'holiday_countries_used': False, 'lags': None, 'forward_lags': None}}, '1': {'method': 0.2}, '2': {}, '3': {}, '4': {}} with error ValueError('more than 1 year of data is required for holiday detection.')\") in model 529 in generation 4: GLS\n",
      "Model Number: 530 with model LastValueNaive in generation 4 of 10\n",
      "Model Number: 531 with model ARDL in generation 4 of 10\n",
      "Model Number: 532 with model GLS in generation 4 of 10\n",
      "Model Number: 533 with model LastValueNaive in generation 4 of 10\n",
      "Model Number: 534 with model LastValueNaive in generation 4 of 10\n",
      "Model Number: 535 with model SeasonalNaive in generation 4 of 10\n",
      "Template Eval Error: Exception(\"Transformer ReplaceConstant failed on fit from params cubic {'0': {'constant': 0, 'reintroduction_model': {'model': 'xgboost', 'model_params': {'booster': 'gbtree', 'colsample_bylevel': 0.54, 'learning_rate': 0.0125, 'max_depth': 11, 'min_child_weight': 0.0127203, 'n_estimators': 319}, 'datepart_method': [52, 'quarter']}, 'fillna': None}, '1': {'part': 'trend', 'lamb': 104976000000}} with error ValueError('Invalid classes inferred from unique values of `y`.  Expected: [0], got [1]')\") in model 535 in generation 4: SeasonalNaive\n",
      "Model Number: 536 with model MetricMotif in generation 4 of 10\n",
      "Model Number: 537 with model ConstantNaive in generation 4 of 10\n",
      "Model Number: 538 with model SeasonalNaive in generation 4 of 10\n",
      "Model Number: 539 with model DatepartRegression in generation 4 of 10\n",
      "Template Eval Error: ValueError(\"regression_type='User' but no future_regressor passed\") in model 539 in generation 4: DatepartRegression\n",
      "Model Number: 540 with model ETS in generation 4 of 10\n",
      "Model Number: 541 with model ConstantNaive in generation 4 of 10\n",
      "Model Number: 542 with model ConstantNaive in generation 4 of 10\n",
      "Model Number: 543 with model AverageValueNaive in generation 4 of 10\n",
      "Model Number: 544 with model LastValueNaive in generation 4 of 10\n",
      "Model Number: 545 with model SeasonalityMotif in generation 4 of 10\n",
      "Model Number: 546 with model MetricMotif in generation 4 of 10\n",
      "Model Number: 547 with model RRVAR in generation 4 of 10\n",
      "Model Number: 548 with model AverageValueNaive in generation 4 of 10\n",
      "Model Number: 549 with model MetricMotif in generation 4 of 10\n",
      "Model Number: 550 with model SeasonalNaive in generation 4 of 10\n",
      "Model Number: 551 with model GLM in generation 4 of 10\n",
      "Model Number: 552 with model ETS in generation 4 of 10\n",
      "Template Eval Error: Exception(\"Transformer BTCD failed on fit from params zero {'0': {'model_name': 'randomly generated_original', 'state_transition': [[1, 0, 0, 0], [0, 1, 0, 0], [0, 0, 0, 0], [0, 0, 0, 1]], 'process_noise': [[0.0, 0.0, 0.0, 0.0], [0.0, 0.0, 0.0, 0.0], [0.0, 0.0, 0.0, 0.0], [0.0, 0.0, 0.0, 0.0]], 'observation_model': [[1, 1, 0, 0]], 'observation_noise': 1.0, 'em_iter': 10, 'on_transform': True, 'on_inverse': False}, '1': {'regression_model': {'model': 'LinearRegression', 'model_params': {}}, 'max_lags': 1}, '2': {'method': 'savgol_filter', 'method_args': {'window_length': 7, 'polyorder': 2, 'deriv': 0, 'mode': 'interp'}}, '3': {'method': 0.3}} with error ValueError('BTCD only works on multivarate series')\") in model 552 in generation 4: ETS\n",
      "Model Number: 553 with model DatepartRegression in generation 4 of 10\n",
      "Model Number: 554 with model SeasonalNaive in generation 4 of 10\n",
      "Model Number: 555 with model UnivariateMotif in generation 4 of 10\n",
      "Model Number: 556 with model RRVAR in generation 4 of 10\n",
      "Model Number: 557 with model SeasonalityMotif in generation 4 of 10\n",
      "Model Number: 558 with model SeasonalityMotif in generation 4 of 10\n",
      "Model Number: 559 with model MetricMotif in generation 4 of 10\n",
      "Model Number: 560 with model MetricMotif in generation 4 of 10\n",
      "Model Number: 561 with model ETS in generation 4 of 10\n",
      "Model Number: 562 with model MetricMotif in generation 4 of 10\n",
      "Model Number: 563 with model ARDL in generation 4 of 10\n",
      "Model Number: 564 with model SeasonalNaive in generation 4 of 10\n",
      "Model Number: 565 with model BasicLinearModel in generation 4 of 10\n",
      "Model Number: 566 with model MetricMotif in generation 4 of 10\n",
      "Model Number: 567 with model BasicLinearModel in generation 4 of 10\n",
      "Model Number: 568 with model GLM in generation 4 of 10\n",
      "Model Number: 569 with model ARDL in generation 4 of 10\n",
      "Model Number: 570 with model GLS in generation 4 of 10\n",
      "Model Number: 571 with model GLS in generation 4 of 10\n",
      "Model Number: 572 with model GLM in generation 4 of 10\n",
      "Template Eval Error: ValueError('NaN, inf or invalid value detected in weights, estimation infeasible.') in model 572 in generation 4: GLM\n",
      "Model Number: 573 with model GLS in generation 4 of 10\n",
      "Template Eval Error: Exception(\"Transformer ReplaceConstant failed on fit from params ffill {'0': {'theta_values': [0.6, 1.4]}, '1': {'constant': 1, 'reintroduction_model': {'model': 'xgboost', 'model_params': {'booster': 'gbtree', 'colsample_bylevel': 0.54, 'learning_rate': 0.0125, 'max_depth': 11, 'min_child_weight': 0.0127203, 'n_estimators': 319}, 'datepart_method': ['dayofweek', [365.25, 24]]}, 'fillna': 'linear'}, '2': {}, '3': {'rows': None, 'displacement_rows': 1, 'quantile': 1.0, 'decay_span': None}, '4': {}} with error ValueError('Invalid classes inferred from unique values of `y`.  Expected: [0], got [1]')\") in model 573 in generation 4: GLS\n",
      "Model Number: 574 with model ETS in generation 4 of 10\n"
     ]
    },
    {
     "name": "stderr",
     "output_type": "stream",
     "text": [
      "/home/zeus/miniconda3/envs/cloudspace/lib/python3.10/site-packages/statsmodels/genmod/families/family.py:445: RuntimeWarning: divide by zero encountered in divide\n",
      "  endog_mu = self._clean(endog / mu)\n",
      "/home/zeus/miniconda3/envs/cloudspace/lib/python3.10/site-packages/statsmodels/genmod/families/family.py:143: RuntimeWarning: divide by zero encountered in divide\n",
      "  return 1. / (self.link.deriv(mu)**2 * self.variance(mu))\n"
     ]
    },
    {
     "name": "stdout",
     "output_type": "stream",
     "text": [
      "Model Number: 575 with model SectionalMotif in generation 4 of 10\n",
      "New Generation: 5 of 10\n",
      "Model Number: 576 with model SeasonalNaive in generation 5 of 10\n",
      "Model Number: 577 with model DatepartRegression in generation 5 of 10\n",
      "Model Number: 578 with model UnivariateMotif in generation 5 of 10\n",
      "Template Eval Error: Exception('Transformer ChangepointDetrend failed on fit from params rolling_mean {\\'0\\': {\\'constraint_method\\': \\'round\\', \\'constraint_direction\\': \\'upper\\', \\'constraint_regularization\\': 1.0, \\'constraint_value\\': 0, \\'bounds_only\\': True, \\'fillna\\': None}, \\'1\\': {\\'rows\\': 1, \\'lag\\': 1, \\'method\\': \\'additive\\', \\'strength\\': 0.2, \\'first_value_only\\': False, \\'threshold\\': 10, \\'threshold_method\\': \\'mean\\'}, \\'2\\': {\\'model\\': \\'GLS\\', \\'phi\\': 0.999, \\'window\\': None, \\'transform_dict\\': None}, \\'3\\': {\\'model\\': \\'Tweedie\\', \\'changepoint_spacing\\': 360, \\'changepoint_distance_end\\': 90, \\'datepart_method\\': \\'simple\\'}, \\'4\\': {}} with error ValueError(\"Some value(s) of y are out of the valid range of the loss \\'HalfTweedieLoss\\'.\")') in model 578 in generation 5: UnivariateMotif\n",
      "Model Number: 579 with model ConstantNaive in generation 5 of 10\n",
      "Model Number: 580 with model BasicLinearModel in generation 5 of 10\n",
      "Model Number: 581 with model RRVAR in generation 5 of 10\n",
      "Model Number: 582 with model SeasonalNaive in generation 5 of 10\n",
      "Model Number: 583 with model SectionalMotif in generation 5 of 10\n",
      "Model Number: 584 with model GLS in generation 5 of 10\n",
      "Model Number: 585 with model ETS in generation 5 of 10\n",
      "Model Number: 586 with model SeasonalNaive in generation 5 of 10\n",
      "Model Number: 587 with model MetricMotif in generation 5 of 10\n",
      "Model Number: 588 with model ETS in generation 5 of 10\n",
      "Model Number: 589 with model AverageValueNaive in generation 5 of 10\n",
      "Model Number: 590 with model MetricMotif in generation 5 of 10\n",
      "Template Eval Error: IndexError('index 137 is out of bounds for axis 0 with size 72') in model 590 in generation 5: MetricMotif\n",
      "Model Number: 591 with model SeasonalityMotif in generation 5 of 10\n",
      "Model Number: 592 with model ETS in generation 5 of 10\n",
      "Model Number: 593 with model BasicLinearModel in generation 5 of 10\n",
      "Model Number: 594 with model MetricMotif in generation 5 of 10\n",
      "Model Number: 595 with model RRVAR in generation 5 of 10\n",
      "Model Number: 596 with model SeasonalityMotif in generation 5 of 10\n",
      "Model Number: 597 with model AverageValueNaive in generation 5 of 10\n",
      "Model Number: 598 with model ETS in generation 5 of 10\n",
      "Model Number: 599 with model SeasonalNaive in generation 5 of 10\n",
      "Model Number: 600 with model GLM in generation 5 of 10\n",
      "Model Number: 601 with model ARDL in generation 5 of 10\n",
      "Model Number: 602 with model ConstantNaive in generation 5 of 10\n",
      "Model Number: 603 with model SeasonalityMotif in generation 5 of 10\n",
      "Model Number: 604 with model SectionalMotif in generation 5 of 10\n",
      "Model Number: 605 with model ETS in generation 5 of 10\n",
      "Model Number: 606 with model GLM in generation 5 of 10\n",
      "Model Number: 607 with model AverageValueNaive in generation 5 of 10\n",
      "Model Number: 608 with model ETS in generation 5 of 10\n",
      "Model Number: 609 with model SeasonalNaive in generation 5 of 10\n",
      "Model Number: 610 with model ARDL in generation 5 of 10\n",
      "Model Number: 611 with model LastValueNaive in generation 5 of 10\n",
      "Model Number: 612 with model SeasonalityMotif in generation 5 of 10\n",
      "Model Number: 613 with model GLS in generation 5 of 10\n",
      "Model Number: 614 with model ARDL in generation 5 of 10\n",
      "Model Number: 615 with model AverageValueNaive in generation 5 of 10\n",
      "Model Number: 616 with model ConstantNaive in generation 5 of 10\n",
      "Model Number: 617 with model LastValueNaive in generation 5 of 10\n",
      "Model Number: 618 with model ARDL in generation 5 of 10\n",
      "Model Number: 619 with model LastValueNaive in generation 5 of 10\n",
      "Model Number: 620 with model SeasonalityMotif in generation 5 of 10\n",
      "Model Number: 621 with model ETS in generation 5 of 10\n",
      "Model Number: 622 with model LastValueNaive in generation 5 of 10\n",
      "Model Number: 623 with model SectionalMotif in generation 5 of 10\n",
      "Model Number: 624 with model SeasonalNaive in generation 5 of 10\n",
      "Model Number: 625 with model AverageValueNaive in generation 5 of 10\n",
      "Template Eval Error: Exception(\"Transformer BTCD failed on fit from params fake_date {'0': {'regression_model': {'model': 'FastRidge', 'model_params': {}}, 'max_lags': 1}, '1': {}, '2': {}} with error ValueError('BTCD only works on multivarate series')\") in model 625 in generation 5: AverageValueNaive\n",
      "Model Number: 626 with model LastValueNaive in generation 5 of 10\n",
      "Model Number: 627 with model SeasonalNaive in generation 5 of 10\n",
      "Model Number: 628 with model BasicLinearModel in generation 5 of 10\n",
      "Model Number: 629 with model SeasonalNaive in generation 5 of 10\n",
      "Model Number: 630 with model MetricMotif in generation 5 of 10\n",
      "Model Number: 631 with model MetricMotif in generation 5 of 10\n",
      "Model Number: 632 with model GLS in generation 5 of 10\n",
      "Model Number: 633 with model SeasonalNaive in generation 5 of 10\n",
      "Model Number: 634 with model MetricMotif in generation 5 of 10\n",
      "Model Number: 635 with model GLM in generation 5 of 10\n",
      "Model Number: 636 with model AverageValueNaive in generation 5 of 10\n",
      "Model Number: 637 with model BasicLinearModel in generation 5 of 10\n",
      "Model Number: 638 with model GLM in generation 5 of 10\n",
      "Model Number: 639 with model AverageValueNaive in generation 5 of 10\n"
     ]
    },
    {
     "name": "stderr",
     "output_type": "stream",
     "text": [
      "/home/zeus/miniconda3/envs/cloudspace/lib/python3.10/site-packages/statsmodels/genmod/families/links.py:198: RuntimeWarning: overflow encountered in exp\n",
      "  t = np.exp(-z)\n"
     ]
    },
    {
     "name": "stdout",
     "output_type": "stream",
     "text": [
      "Model Number: 640 with model SeasonalNaive in generation 5 of 10\n",
      "Model Number: 641 with model LastValueNaive in generation 5 of 10\n",
      "Model Number: 642 with model UnivariateMotif in generation 5 of 10\n",
      "Model Number: 643 with model MetricMotif in generation 5 of 10\n",
      "Model Number: 644 with model ConstantNaive in generation 5 of 10\n",
      "Model Number: 645 with model DatepartRegression in generation 5 of 10\n"
     ]
    },
    {
     "name": "stderr",
     "output_type": "stream",
     "text": [
      "/home/zeus/miniconda3/envs/cloudspace/lib/python3.10/site-packages/autots/tools/percentile.py:47: RuntimeWarning: All-NaN slice encountered\n",
      "  max_val = np.nanmax(arr)\n",
      "/home/zeus/miniconda3/envs/cloudspace/lib/python3.10/site-packages/sklearn/svm/_classes.py:32: FutureWarning: The default value of `dual` will change from `True` to `'auto'` in 1.5. Set the value of `dual` explicitly to suppress the warning.\n",
      "  warnings.warn(\n",
      "/home/zeus/miniconda3/envs/cloudspace/lib/python3.10/site-packages/sklearn/svm/_classes.py:32: FutureWarning: The default value of `dual` will change from `True` to `'auto'` in 1.5. Set the value of `dual` explicitly to suppress the warning.\n",
      "  warnings.warn(\n",
      "/home/zeus/miniconda3/envs/cloudspace/lib/python3.10/site-packages/sklearn/svm/_base.py:1250: ConvergenceWarning: Liblinear failed to converge, increase the number of iterations.\n",
      "  warnings.warn(\n",
      "/home/zeus/miniconda3/envs/cloudspace/lib/python3.10/site-packages/sklearn/svm/_base.py:1250: ConvergenceWarning: Liblinear failed to converge, increase the number of iterations.\n",
      "  warnings.warn(\n"
     ]
    },
    {
     "name": "stdout",
     "output_type": "stream",
     "text": [
      "Model Number: 646 with model ETS in generation 5 of 10\n",
      "Template Eval Error: Exception(\"Transformer Cointegration failed on fit from params quadratic {'0': {'model_name': 'randomly generated_original', 'state_transition': [[1, 0, 0, 0], [0, 1, 0, 0], [0, 0, 0, 0], [0, 0, 0, 1]], 'process_noise': [[0.0, 0.0, 0.0, 0.0], [0.0, 0.0, 0.0, 0.0], [0.0, 0.0, 0.0, 0.0], [0.0, 0.0, 0.0, 0.0]], 'observation_model': [[1, 1, 0, 0]], 'observation_noise': 1.0, 'em_iter': 10, 'on_transform': True, 'on_inverse': False}, '1': {'det_order': 1, 'k_ar_diff': 2}} with error ValueError('Coint only works on multivarate series')\") in model 646 in generation 5: ETS\n",
      "Model Number: 647 with model ConstantNaive in generation 5 of 10\n",
      "Model Number: 648 with model ETS in generation 5 of 10\n",
      "Model Number: 649 with model MetricMotif in generation 5 of 10\n",
      "Model Number: 650 with model ConstantNaive in generation 5 of 10\n",
      "Model Number: 651 with model GLM in generation 5 of 10\n",
      "Model Number: 652 with model GLM in generation 5 of 10\n",
      "Model Number: 653 with model GLM in generation 5 of 10\n",
      "Model Number: 654 with model RRVAR in generation 5 of 10\n",
      "Model Number: 655 with model SeasonalNaive in generation 5 of 10\n",
      "Model Number: 656 with model SectionalMotif in generation 5 of 10\n",
      "Model Number: 657 with model ConstantNaive in generation 5 of 10\n",
      "Model Number: 658 with model LastValueNaive in generation 5 of 10\n",
      "Model Number: 659 with model AverageValueNaive in generation 5 of 10\n",
      "New Generation: 6 of 10\n",
      "Model Number: 660 with model SeasonalityMotif in generation 6 of 10\n",
      "Model Number: 661 with model BasicLinearModel in generation 6 of 10\n",
      "Model Number: 662 with model ConstantNaive in generation 6 of 10\n",
      "Model Number: 663 with model GLS in generation 6 of 10\n",
      "Model Number: 664 with model GLS in generation 6 of 10\n",
      "Model Number: 665 with model ARDL in generation 6 of 10\n"
     ]
    },
    {
     "name": "stderr",
     "output_type": "stream",
     "text": [
      "/home/zeus/miniconda3/envs/cloudspace/lib/python3.10/site-packages/autots/tools/percentile.py:47: RuntimeWarning: All-NaN slice encountered\n",
      "  max_val = np.nanmax(arr)\n"
     ]
    },
    {
     "name": "stdout",
     "output_type": "stream",
     "text": [
      "Model Number: 666 with model MetricMotif in generation 6 of 10\n",
      "Model Number: 667 with model GLS in generation 6 of 10\n",
      "Model Number: 668 with model MetricMotif in generation 6 of 10\n",
      "Model Number: 669 with model SeasonalityMotif in generation 6 of 10\n",
      "Model Number: 670 with model MetricMotif in generation 6 of 10\n",
      "Model Number: 671 with model SeasonalNaive in generation 6 of 10\n",
      "Model Number: 672 with model DatepartRegression in generation 6 of 10\n",
      "Template Eval Error: ModuleNotFoundError(\"No module named 'tensorflow'\") in model 672 in generation 6: DatepartRegression\n",
      "Model Number: 673 with model LastValueNaive in generation 6 of 10\n",
      "Model Number: 674 with model AverageValueNaive in generation 6 of 10\n",
      "Model Number: 675 with model ARDL in generation 6 of 10\n",
      "Template Eval Error: ValueError(\"regression_type='User' but future_regressor not supplied\") in model 675 in generation 6: ARDL\n",
      "Model Number: 676 with model SeasonalityMotif in generation 6 of 10\n",
      "Model Number: 677 with model RRVAR in generation 6 of 10\n",
      "Model Number: 678 with model ConstantNaive in generation 6 of 10\n",
      "Model Number: 679 with model AverageValueNaive in generation 6 of 10\n",
      "Model Number: 680 with model ARDL in generation 6 of 10\n",
      "Template Eval Error: ValueError(\"regression_type='User' but future_regressor not supplied\") in model 680 in generation 6: ARDL\n",
      "Model Number: 681 with model SectionalMotif in generation 6 of 10\n",
      "Model Number: 682 with model ARDL in generation 6 of 10\n",
      "Template Eval Error: Exception(\"Transformer HolidayTransformer failed on fit from params linear {'0': {'method': 'butter', 'method_args': {'N': 4, 'btype': 'lowpass', 'analog': False, 'output': 'sos', 'Wn': 0.5}}, '1': {'rows': 1, 'lag': 1, 'method': 'additive', 'strength': 0.9, 'first_value_only': True, 'threshold': 10, 'threshold_method': 'max'}, '2': {'threshold': 0.9, 'splash_threshold': None, 'use_dayofmonth_holidays': True, 'use_wkdom_holidays': True, 'use_wkdeom_holidays': False, 'use_lunar_holidays': False, 'use_lunar_weekday': False, 'use_islamic_holidays': False, 'use_hebrew_holidays': False, 'use_hindu_holidays': False, 'anomaly_detector_params': {'method': 'minmax', 'method_params': {'alpha': 0.03}, 'fillna': 'ffill', 'transform_dict': {'fillna': None, 'transformations': {'0': 'ClipOutliers'}, 'transformation_params': {'0': {'method': 'clip', 'std_threshold': 6}}}, 'isolated_only': False, 'on_inverse': False}, 'remove_excess_anomalies': True, 'impact': 'datepart_regression', 'regression_params': {'regression_model': {'model': 'DecisionTree', 'model_params': {'max_depth': None, 'min_samples_split': 2}}, 'datepart_method': ['weekdayofmonth', 168, 'is_quarter_end'], 'polynomial_degree': None, 'transform_dict': None, 'holiday_countries_used': False, 'lags': None, 'forward_lags': None}}, '3': {'rows': 1, 'lag': 1, 'method': 'additive', 'strength': 1.0, 'first_value_only': False, 'threshold': None, 'threshold_method': 'max'}} with error ValueError('more than 1 year of data is required for holiday detection.')\") in model 682 in generation 6: ARDL\n",
      "Model Number: 683 with model SeasonalNaive in generation 6 of 10\n",
      "Model Number: 684 with model GLM in generation 6 of 10\n",
      "Model Number: 685 with model SeasonalityMotif in generation 6 of 10\n",
      "Model Number: 686 with model ETS in generation 6 of 10\n"
     ]
    },
    {
     "name": "stderr",
     "output_type": "stream",
     "text": [
      "/home/zeus/miniconda3/envs/cloudspace/lib/python3.10/site-packages/statsmodels/genmod/families/links.py:198: RuntimeWarning: overflow encountered in exp\n",
      "  t = np.exp(-z)\n"
     ]
    },
    {
     "name": "stdout",
     "output_type": "stream",
     "text": [
      "Model Number: 687 with model ConstantNaive in generation 6 of 10\n"
     ]
    },
    {
     "name": "stderr",
     "output_type": "stream",
     "text": [
      "/home/zeus/miniconda3/envs/cloudspace/lib/python3.10/site-packages/autots/tools/percentile.py:47: RuntimeWarning: All-NaN slice encountered\n",
      "  max_val = np.nanmax(arr)\n"
     ]
    },
    {
     "name": "stdout",
     "output_type": "stream",
     "text": [
      "Model Number: 688 with model BasicLinearModel in generation 6 of 10\n",
      "Model Number: 689 with model DatepartRegression in generation 6 of 10\n",
      "Model Number: 690 with model ARDL in generation 6 of 10\n"
     ]
    },
    {
     "name": "stderr",
     "output_type": "stream",
     "text": [
      "/home/zeus/miniconda3/envs/cloudspace/lib/python3.10/site-packages/sklearn/neighbors/_classification.py:233: DataConversionWarning: A column-vector y was passed when a 1d array was expected. Please change the shape of y to (n_samples,), for example using ravel().\n",
      "  return self._fit(X, y)\n"
     ]
    },
    {
     "name": "stdout",
     "output_type": "stream",
     "text": [
      "Model Number: 691 with model ARDL in generation 6 of 10\n",
      "Model Number: 692 with model SeasonalityMotif in generation 6 of 10\n",
      "Model Number: 693 with model DatepartRegression in generation 6 of 10\n",
      "Model Number: 694 with model GLM in generation 6 of 10\n",
      "Model Number: 695 with model SeasonalNaive in generation 6 of 10\n"
     ]
    },
    {
     "name": "stderr",
     "output_type": "stream",
     "text": [
      "/home/zeus/miniconda3/envs/cloudspace/lib/python3.10/site-packages/sklearn/svm/_classes.py:32: FutureWarning: The default value of `dual` will change from `True` to `'auto'` in 1.5. Set the value of `dual` explicitly to suppress the warning.\n",
      "  warnings.warn(\n"
     ]
    },
    {
     "name": "stdout",
     "output_type": "stream",
     "text": [
      "Model Number: 696 with model WindowRegression in generation 6 of 10\n",
      "Template Eval Error: ModuleNotFoundError(\"No module named 'lightgbm'\") in model 696 in generation 6: WindowRegression\n",
      "Model Number: 697 with model AverageValueNaive in generation 6 of 10\n",
      "Model Number: 698 with model RRVAR in generation 6 of 10\n",
      "Model Number: 699 with model Cassandra in generation 6 of 10\n",
      "Template Eval Error: ValueError('The covariance matrix of the support data is equal to 0, try to increase support_fraction') in model 699 in generation 6: Cassandra\n",
      "Model Number: 700 with model GLM in generation 6 of 10\n",
      "Template Eval Error: ValueError('regression_type=user and no future_regressor passed') in model 700 in generation 6: GLM\n",
      "Model Number: 701 with model MetricMotif in generation 6 of 10\n"
     ]
    },
    {
     "name": "stderr",
     "output_type": "stream",
     "text": [
      "/home/zeus/miniconda3/envs/cloudspace/lib/python3.10/site-packages/numpy/lib/function_base.py:2897: RuntimeWarning: invalid value encountered in divide\n",
      "  c /= stddev[:, None]\n",
      "/home/zeus/miniconda3/envs/cloudspace/lib/python3.10/site-packages/numpy/lib/function_base.py:2898: RuntimeWarning: invalid value encountered in divide\n",
      "  c /= stddev[None, :]\n"
     ]
    },
    {
     "name": "stdout",
     "output_type": "stream",
     "text": [
      "Model Number: 702 with model UnivariateMotif in generation 6 of 10\n",
      "Model Number: 703 with model GLM in generation 6 of 10\n",
      "Model Number: 704 with model GLS in generation 6 of 10\n"
     ]
    },
    {
     "name": "stderr",
     "output_type": "stream",
     "text": [
      "/home/zeus/miniconda3/envs/cloudspace/lib/python3.10/site-packages/statsmodels/genmod/families/family.py:1367: ValueWarning: Negative binomial dispersion parameter alpha not set. Using default value alpha=1.0.\n",
      "  warnings.warn(\"Negative binomial dispersion parameter alpha not \"\n"
     ]
    },
    {
     "name": "stdout",
     "output_type": "stream",
     "text": [
      "Model Number: 705 with model ETS in generation 6 of 10\n",
      "Model Number: 706 with model LastValueNaive in generation 6 of 10\n",
      "Model Number: 707 with model LastValueNaive in generation 6 of 10\n",
      "Model Number: 708 with model AverageValueNaive in generation 6 of 10\n",
      "Model Number: 709 with model UnivariateMotif in generation 6 of 10\n"
     ]
    },
    {
     "name": "stderr",
     "output_type": "stream",
     "text": [
      "/home/zeus/miniconda3/envs/cloudspace/lib/python3.10/site-packages/sklearn/neighbors/_classification.py:233: DataConversionWarning: A column-vector y was passed when a 1d array was expected. Please change the shape of y to (n_samples,), for example using ravel().\n",
      "  return self._fit(X, y)\n"
     ]
    },
    {
     "name": "stdout",
     "output_type": "stream",
     "text": [
      "Model Number: 710 with model GLM in generation 6 of 10\n",
      "Model Number: 711 with model SectionalMotif in generation 6 of 10\n",
      "Model Number: 712 with model LastValueNaive in generation 6 of 10\n",
      "Model Number: 713 with model GLM in generation 6 of 10\n"
     ]
    },
    {
     "name": "stderr",
     "output_type": "stream",
     "text": [
      "/home/zeus/miniconda3/envs/cloudspace/lib/python3.10/site-packages/statsmodels/genmod/families/links.py:198: RuntimeWarning: overflow encountered in exp\n",
      "  t = np.exp(-z)\n"
     ]
    },
    {
     "name": "stdout",
     "output_type": "stream",
     "text": [
      "Model Number: 714 with model ConstantNaive in generation 6 of 10\n",
      "Model Number: 715 with model MetricMotif in generation 6 of 10\n",
      "Model Number: 716 with model SeasonalNaive in generation 6 of 10\n",
      "Model Number: 717 with model MetricMotif in generation 6 of 10\n",
      "Model Number: 718 with model ConstantNaive in generation 6 of 10\n",
      "Model Number: 719 with model ConstantNaive in generation 6 of 10\n",
      "Model Number: 720 with model SeasonalNaive in generation 6 of 10\n",
      "Template Eval Error: Exception(\"Transformer RegressionFilter failed on fit from params ffill {'0': {'sigma': 2, 'rolling_window': 90, 'run_order': 'season_first', 'regression_params': {'regression_model': {'model': 'DecisionTree', 'model_params': {'max_depth': 9, 'min_samples_split': 2}}, 'datepart_method': 'common_fourier', 'polynomial_degree': None, 'transform_dict': None, 'holiday_countries_used': True, 'lags': None, 'forward_lags': 3}, 'holiday_params': {'threshold': 1.0, 'splash_threshold': None, 'use_dayofmonth_holidays': False, 'use_wkdom_holidays': True, 'use_wkdeom_holidays': False, 'use_lunar_holidays': False, 'use_lunar_weekday': False, 'use_islamic_holidays': False, 'use_hebrew_holidays': False, 'use_hindu_holidays': True, 'anomaly_detector_params': {'method': 'minmax', 'method_params': {'alpha': 0.03}, 'fillna': 'ffill', 'transform_dict': {'fillna': None, 'transformations': {'0': 'EWMAFilter'}, 'transformation_params': {'0': {'span': 7}}}, 'isolated_only': False, 'on_inverse': False}, 'remove_excess_anomalies': True, 'impact': 'datepart_regression', 'regression_params': {'regression_model': {'model': 'DecisionTree', 'model_params': {'max_depth': 9, 'min_samples_split': 2}}, 'datepart_method': 'common_fourier', 'polynomial_degree': None, 'transform_dict': None, 'holiday_countries_used': True, 'lags': None, 'forward_lags': 3}}, 'trend_method': 'rolling_mean'}, '1': {'whiten': False, 'n_components': 100}} with error ValueError('more than 1 year of data is required for holiday detection.')\") in model 720 in generation 6: SeasonalNaive\n",
      "Model Number: 721 with model ETS in generation 6 of 10\n",
      "Model Number: 722 with model ETS in generation 6 of 10\n",
      "Model Number: 723 with model RRVAR in generation 6 of 10\n",
      "Model Number: 724 with model SeasonalNaive in generation 6 of 10\n",
      "Template Eval Error: Exception(\"Transformer HolidayTransformer failed on fit from params zero {'0': {'rows': 1, 'lag': 1, 'method': 'additive', 'strength': 0.9, 'first_value_only': False, 'threshold': None, 'threshold_method': 'max'}, '1': {'threshold': 0.8, 'splash_threshold': None, 'use_dayofmonth_holidays': True, 'use_wkdom_holidays': True, 'use_wkdeom_holidays': False, 'use_lunar_holidays': False, 'use_lunar_weekday': False, 'use_islamic_holidays': False, 'use_hebrew_holidays': False, 'use_hindu_holidays': False, 'anomaly_detector_params': {'method': 'rolling_zscore', 'method_params': {'distribution': 'norm', 'alpha': 0.05, 'rolling_periods': 90, 'center': True}, 'fillna': 'linear', 'transform_dict': None, 'isolated_only': False, 'on_inverse': False}, 'remove_excess_anomalies': True, 'impact': 'anomaly_score', 'regression_params': {}}, '2': {'rows': 2}} with error ValueError('more than 1 year of data is required for holiday detection.')\") in model 724 in generation 6: SeasonalNaive\n",
      "Model Number: 725 with model MetricMotif in generation 6 of 10\n",
      "Model Number: 726 with model BasicLinearModel in generation 6 of 10\n",
      "Model Number: 727 with model ARDL in generation 6 of 10\n",
      "Model Number: 728 with model LastValueNaive in generation 6 of 10\n",
      "Model Number: 729 with model AverageValueNaive in generation 6 of 10\n",
      "Model Number: 730 with model SectionalMotif in generation 6 of 10\n",
      "Model Number: 731 with model GLS in generation 6 of 10\n",
      "Model Number: 732 with model ETS in generation 6 of 10\n",
      "Template Eval Error: Exception(\"Transformer RegressionFilter failed on fit from params ffill_mean_biased {'0': {'fixed': False, 'window': 420, 'macro_micro': False, 'center': False}, '1': {}, '2': {'sigma': 1, 'rolling_window': 90, 'run_order': 'season_first', 'regression_params': {'regression_model': {'model': 'ElasticNet', 'model_params': {'l1_ratio': 0.1, 'fit_intercept': False, 'selection': 'cyclic', 'max_iter': 1000}}, 'datepart_method': 'recurring', 'polynomial_degree': None, 'transform_dict': {'fillna': None, 'transformations': {'0': 'EWMAFilter'}, 'transformation_params': {'0': {'span': 2}}}, 'holiday_countries_used': False, 'lags': None, 'forward_lags': None}, 'holiday_params': {'threshold': 1.0, 'splash_threshold': None, 'use_dayofmonth_holidays': True, 'use_wkdom_holidays': False, 'use_wkdeom_holidays': False, 'use_lunar_holidays': False, 'use_lunar_weekday': False, 'use_islamic_holidays': False, 'use_hebrew_holidays': False, 'use_hindu_holidays': False, 'anomaly_detector_params': {'method': 'IQR', 'method_params': {'iqr_threshold': 2.5, 'iqr_quantiles': [0.25, 0.75]}, 'fillna': 'fake_date', 'transform_dict': {'fillna': 'rolling_mean_24', 'transformations': {'0': 'PositiveShift'}, 'transformation_params': {'0': {}}}, 'isolated_only': False, 'on_inverse': False}, 'remove_excess_anomalies': True, 'impact': 'datepart_regression', 'regression_params': {'regression_model': {'model': 'ElasticNet', 'model_params': {'l1_ratio': 0.1, 'fit_intercept': False, 'selection': 'cyclic', 'max_iter': 1000}}, 'datepart_method': 'recurring', 'polynomial_degree': None, 'transform_dict': {'fillna': None, 'transformations': {'0': 'EWMAFilter'}, 'transformation_params': {'0': {'span': 2}}}, 'holiday_countries_used': False, 'lags': None, 'forward_lags': None}}, 'trend_method': 'local_linear'}, '3': {'constant': 1, 'reintroduction_model': None, 'fillna': 'akima'}} with error ValueError('more than 1 year of data is required for holiday detection.')\") in model 732 in generation 6: ETS\n",
      "Model Number: 733 with model DatepartRegression in generation 6 of 10\n",
      "Template Eval Error: ValueError(\"regression_type='User' but no future_regressor passed\") in model 733 in generation 6: DatepartRegression\n",
      "Model Number: 734 with model GLM in generation 6 of 10\n",
      "Model Number: 735 with model ETS in generation 6 of 10\n",
      "Model Number: 736 with model LastValueNaive in generation 6 of 10\n"
     ]
    },
    {
     "name": "stderr",
     "output_type": "stream",
     "text": [
      "/home/zeus/miniconda3/envs/cloudspace/lib/python3.10/site-packages/statsmodels/genmod/families/links.py:198: RuntimeWarning: overflow encountered in exp\n",
      "  t = np.exp(-z)\n"
     ]
    },
    {
     "name": "stdout",
     "output_type": "stream",
     "text": [
      "Model Number: 737 with model ConstantNaive in generation 6 of 10\n",
      "Model Number: 738 with model SeasonalityMotif in generation 6 of 10\n",
      "Model Number: 739 with model SeasonalNaive in generation 6 of 10\n",
      "Model Number: 740 with model GLS in generation 6 of 10\n",
      "Model Number: 741 with model DatepartRegression in generation 6 of 10\n",
      "Model Number: 742 with model ETS in generation 6 of 10\n",
      "Model Number: 743 with model GLM in generation 6 of 10\n",
      "New Generation: 7 of 10\n"
     ]
    },
    {
     "name": "stderr",
     "output_type": "stream",
     "text": [
      "/home/zeus/miniconda3/envs/cloudspace/lib/python3.10/site-packages/statsmodels/genmod/families/family.py:1367: ValueWarning: Negative binomial dispersion parameter alpha not set. Using default value alpha=1.0.\n",
      "  warnings.warn(\"Negative binomial dispersion parameter alpha not \"\n"
     ]
    },
    {
     "name": "stdout",
     "output_type": "stream",
     "text": [
      "Model Number: 744 with model GLM in generation 7 of 10\n",
      "Template Eval Error: ValueError('The first guess on the deviance function returned a nan.  This could be a boundary  problem and should be reported.') in model 744 in generation 7: GLM\n",
      "Model Number: 745 with model GLM in generation 7 of 10\n",
      "Template Eval Error: Exception('Transformer ChangepointDetrend failed on fit from params rolling_mean_24 {\\'0\\': {\\'output_distribution\\': \\'normal\\', \\'n_quantiles\\': 100}, \\'1\\': {\\'model\\': \\'Gamma\\', \\'changepoint_spacing\\': 5040, \\'changepoint_distance_end\\': 5040, \\'datepart_method\\': None}, \\'2\\': {}, \\'3\\': {\\'method\\': 0.8}, \\'4\\': {}, \\'5\\': {}} with error ValueError(\"Some value(s) of y are out of the valid range of the loss \\'HalfGammaLoss\\'.\")') in model 745 in generation 7: GLM\n",
      "Model Number: 746 with model SeasonalityMotif in generation 7 of 10\n",
      "Model Number: 747 with model GLS in generation 7 of 10\n",
      "Model Number: 748 with model SeasonalNaive in generation 7 of 10\n"
     ]
    },
    {
     "name": "stderr",
     "output_type": "stream",
     "text": [
      "/home/zeus/miniconda3/envs/cloudspace/lib/python3.10/site-packages/statsmodels/genmod/families/family.py:1367: ValueWarning: Negative binomial dispersion parameter alpha not set. Using default value alpha=1.0.\n",
      "  warnings.warn(\"Negative binomial dispersion parameter alpha not \"\n",
      "/home/zeus/miniconda3/envs/cloudspace/lib/python3.10/site-packages/statsmodels/genmod/families/family.py:1406: RuntimeWarning: invalid value encountered in log\n",
      "  resid_dev -= endog_alpha * np.log(endog_alpha / mu_alpha)\n"
     ]
    },
    {
     "name": "stdout",
     "output_type": "stream",
     "text": [
      "Model Number: 749 with model ETS in generation 7 of 10\n",
      "Model Number: 750 with model ETS in generation 7 of 10\n",
      "Model Number: 751 with model FFT in generation 7 of 10\n",
      "Model Number: 752 with model ConstantNaive in generation 7 of 10\n",
      "Model Number: 753 with model RRVAR in generation 7 of 10\n",
      "Model Number: 754 with model ARDL in generation 7 of 10\n",
      "Template Eval Error: ValueError(\"regression_type='User' but future_regressor not supplied\") in model 754 in generation 7: ARDL\n",
      "Model Number: 755 with model BasicLinearModel in generation 7 of 10\n"
     ]
    },
    {
     "name": "stderr",
     "output_type": "stream",
     "text": [
      "/home/zeus/miniconda3/envs/cloudspace/lib/python3.10/site-packages/sklearn/neighbors/_classification.py:233: DataConversionWarning: A column-vector y was passed when a 1d array was expected. Please change the shape of y to (n_samples,), for example using ravel().\n",
      "  return self._fit(X, y)\n"
     ]
    },
    {
     "name": "stdout",
     "output_type": "stream",
     "text": [
      "Model Number: 756 with model AverageValueNaive in generation 7 of 10\n",
      "Model Number: 757 with model ConstantNaive in generation 7 of 10\n",
      "Model Number: 758 with model ConstantNaive in generation 7 of 10\n",
      "Model Number: 759 with model DatepartRegression in generation 7 of 10\n",
      "Model Number: 760 with model Cassandra in generation 7 of 10\n",
      "Model Number: 761 with model AverageValueNaive in generation 7 of 10\n"
     ]
    },
    {
     "name": "stderr",
     "output_type": "stream",
     "text": [
      "/home/zeus/miniconda3/envs/cloudspace/lib/python3.10/site-packages/numpy/lib/function_base.py:2897: RuntimeWarning: invalid value encountered in divide\n",
      "  c /= stddev[:, None]\n",
      "/home/zeus/miniconda3/envs/cloudspace/lib/python3.10/site-packages/numpy/lib/function_base.py:2898: RuntimeWarning: invalid value encountered in divide\n",
      "  c /= stddev[None, :]\n"
     ]
    },
    {
     "name": "stdout",
     "output_type": "stream",
     "text": [
      "Model Number: 762 with model LastValueNaive in generation 7 of 10\n",
      "Model Number: 763 with model AverageValueNaive in generation 7 of 10\n",
      "Model Number: 764 with model MetricMotif in generation 7 of 10\n",
      "Model Number: 765 with model SeasonalNaive in generation 7 of 10\n",
      "Model Number: 766 with model GLM in generation 7 of 10\n",
      "Model Number: 767 with model SeasonalityMotif in generation 7 of 10\n",
      "Model Number: 768 with model BasicLinearModel in generation 7 of 10\n",
      "Model Number: 769 with model SeasonalityMotif in generation 7 of 10\n",
      "Model Number: 770 with model BasicLinearModel in generation 7 of 10\n",
      "Model Number: 771 with model MetricMotif in generation 7 of 10\n",
      "Model Number: 772 with model Cassandra in generation 7 of 10\n",
      "Template Eval Error: ValueError('more than 1 year of data is required for holiday detection.') in model 772 in generation 7: Cassandra\n",
      "Model Number: 773 with model DatepartRegression in generation 7 of 10\n",
      "Model Number: 774 with model ETS in generation 7 of 10\n",
      "Model Number: 775 with model GLM in generation 7 of 10\n",
      "Model Number: 776 with model DatepartRegression in generation 7 of 10\n",
      "Template Eval Error: Exception(\"Transformer Cointegration failed on fit from params zero {'0': {'constant': 0, 'reintroduction_model': {'model': 'KNN', 'model_params': {'n_neighbors': 5, 'weights': 'uniform', 'p': 2, 'leaf_size': 30}, 'datepart_method': [168, 'hour']}, 'fillna': 'mean'}, '1': {'det_order': 1, 'k_ar_diff': 2}, '2': {'output_distribution': 'uniform', 'n_quantiles': 48}} with error ValueError('Coint only works on multivarate series')\") in model 776 in generation 7: DatepartRegression\n",
      "Model Number: 777 with model SeasonalNaive in generation 7 of 10\n"
     ]
    },
    {
     "name": "stderr",
     "output_type": "stream",
     "text": [
      "/home/zeus/miniconda3/envs/cloudspace/lib/python3.10/site-packages/statsmodels/genmod/families/family.py:1367: ValueWarning: Negative binomial dispersion parameter alpha not set. Using default value alpha=1.0.\n",
      "  warnings.warn(\"Negative binomial dispersion parameter alpha not \"\n",
      "/home/zeus/miniconda3/envs/cloudspace/lib/python3.10/site-packages/statsmodels/genmod/families/family.py:1367: ValueWarning: Negative binomial dispersion parameter alpha not set. Using default value alpha=1.0.\n",
      "  warnings.warn(\"Negative binomial dispersion parameter alpha not \"\n",
      "/home/zeus/miniconda3/envs/cloudspace/lib/python3.10/site-packages/sklearn/neighbors/_classification.py:233: DataConversionWarning: A column-vector y was passed when a 1d array was expected. Please change the shape of y to (n_samples,), for example using ravel().\n",
      "  return self._fit(X, y)\n"
     ]
    },
    {
     "name": "stdout",
     "output_type": "stream",
     "text": [
      "Model Number: 778 with model GLS in generation 7 of 10\n",
      "Model Number: 779 with model FFT in generation 7 of 10\n",
      "SVD did not converge, attempting more robust approach...\n",
      "Template Eval Error: Exception(\"Transformer KalmanSmoothing failed on fit from params ffill {'0': {'model_name': 'ucm_deterministictrend_seasonal7', 'state_transition': [[1, 1, 0, 0, 0, 0, 0, 0], [0, 1, 0, 0, 0, 0, 0, 0], [0, 0, 1, 0, 0, 0, 0, 0], [0, 0, 0, 1, 0, 0, 0, 0], [0, 0, 0, 0, 1, 0, 0, 0], [0, 0, 0, 0, 0, 1, 0, 0], [0, 0, 0, 0, 0, 0, 1, 0], [0, 0, -1, -1, -1, -1, -1, -1]], 'process_noise': [[0.001, 0, 0, 0, 0, 0, 0, 0], [0, 0.001, 0, 0, 0, 0, 0, 0], [0, 0, 0.001, 0, 0, 0, 0, 0], [0, 0, 0, 0.001, 0, 0, 0, 0], [0, 0, 0, 0, 0.001, 0, 0, 0], [0, 0, 0, 0, 0, 0.001, 0, 0], [0, 0, 0, 0, 0, 0, 0.001, 0], [0, 0, 0, 0, 0, 0, 0, 0]], 'observation_model': [[1, 0, 1, 1, 1, 1, 1, 1]], 'observation_noise': 0.1, 'em_iter': 10, 'on_transform': True, 'on_inverse': False}, '1': {'discretization': 'upper', 'n_bins': 20}} with error LinAlgError('SVD did not converge')\") in model 779 in generation 7: FFT\n",
      "Model Number: 780 with model ARDL in generation 7 of 10\n"
     ]
    },
    {
     "name": "stderr",
     "output_type": "stream",
     "text": [
      "/home/zeus/miniconda3/envs/cloudspace/lib/python3.10/site-packages/autots/tools/fast_kalman.py:1137: RuntimeWarning: overflow encountered in cast\n",
      "  result.smoothed.states.cov[:, j, :, :] = Ps\n",
      "/home/zeus/miniconda3/envs/cloudspace/lib/python3.10/site-packages/autots/tools/fast_kalman.py:1143: RuntimeWarning: overflow encountered in cast\n",
      "  result.smoothed.observations.cov[:, j, :, :] = obs_cov\n",
      "/home/zeus/miniconda3/envs/cloudspace/lib/python3.10/site-packages/autots/tools/fast_kalman.py:1354: RuntimeWarning: overflow encountered in matmul\n",
      "  return np.matmul(A, np.swapaxes(B, -1, -2))\n",
      "/home/zeus/miniconda3/envs/cloudspace/lib/python3.10/site-packages/autots/tools/fast_kalman.py:1341: RuntimeWarning: invalid value encountered in matmul\n",
      "  return np.matmul(A, B)\n",
      "/home/zeus/miniconda3/envs/cloudspace/lib/python3.10/site-packages/autots/tools/fast_kalman.py:1354: RuntimeWarning: invalid value encountered in matmul\n",
      "  return np.matmul(A, np.swapaxes(B, -1, -2))\n",
      "/home/zeus/miniconda3/envs/cloudspace/lib/python3.10/site-packages/autots/tools/fast_kalman.py:1341: RuntimeWarning: overflow encountered in matmul\n",
      "  return np.matmul(A, B)\n",
      "/home/zeus/miniconda3/envs/cloudspace/lib/python3.10/site-packages/autots/tools/fast_kalman.py:1359: RuntimeWarning: overflow encountered in multiply\n",
      "  return a * b.transpose((0, 2, 1))\n"
     ]
    },
    {
     "name": "stdout",
     "output_type": "stream",
     "text": [
      "Model Number: 781 with model ETS in generation 7 of 10\n",
      "Model Number: 782 with model UnivariateMotif in generation 7 of 10\n",
      "Model Number: 783 with model GLM in generation 7 of 10\n",
      "Model Number: 784 with model SeasonalNaive in generation 7 of 10\n",
      "Model Number: 785 with model LastValueNaive in generation 7 of 10\n",
      "Model Number: 786 with model LastValueNaive in generation 7 of 10\n",
      "Model Number: 787 with model AverageValueNaive in generation 7 of 10\n",
      "Template Eval Error: Exception(\"Transformer HolidayTransformer failed on fit from params ffill {'0': {'decimals': 2, 'on_transform': True, 'on_inverse': False}, '1': {'threshold': 0.8, 'splash_threshold': None, 'use_dayofmonth_holidays': True, 'use_wkdom_holidays': True, 'use_wkdeom_holidays': True, 'use_lunar_holidays': False, 'use_lunar_weekday': False, 'use_islamic_holidays': True, 'use_hebrew_holidays': False, 'use_hindu_holidays': False, 'anomaly_detector_params': {'method': 'rolling_zscore', 'method_params': {'distribution': 'norm', 'alpha': 0.05, 'rolling_periods': 300, 'center': True}, 'fillna': 'ffill', 'transform_dict': None, 'isolated_only': False, 'on_inverse': False}, 'remove_excess_anomalies': True, 'impact': 'anomaly_score', 'regression_params': {}}, '2': {}, '3': {'constant': 0, 'reintroduction_model': {'model': 'xgboost', 'model_params': {'booster': 'gblinear', 'max_depth': 6, 'eta': 1.0, 'min_child_weight': 10, 'subsample': 1, 'colsample_bylevel': 1, 'reg_alpha': 0, 'reg_lambda': 1}, 'datepart_method': ['dayofyear', 'isoweek_binary', 24]}, 'fillna': None}} with error ValueError('more than 1 year of data is required for holiday detection.')\") in model 787 in generation 7: AverageValueNaive\n",
      "Model Number: 788 with model LastValueNaive in generation 7 of 10\n",
      "Model Number: 789 with model SeasonalNaive in generation 7 of 10\n",
      "Model Number: 790 with model GLS in generation 7 of 10\n"
     ]
    },
    {
     "name": "stderr",
     "output_type": "stream",
     "text": [
      "/home/zeus/miniconda3/envs/cloudspace/lib/python3.10/site-packages/sklearn/decomposition/_pca.py:543: RuntimeWarning: invalid value encountered in divide\n",
      "  explained_variance_ratio_ = explained_variance_ / total_var\n"
     ]
    },
    {
     "name": "stdout",
     "output_type": "stream",
     "text": [
      "Model Number: 791 with model RRVAR in generation 7 of 10\n",
      "Model Number: 792 with model SeasonalNaive in generation 7 of 10\n",
      "Model Number: 793 with model RRVAR in generation 7 of 10\n",
      "Model Number: 794 with model ARDL in generation 7 of 10\n",
      "Model Number: 795 with model SeasonalityMotif in generation 7 of 10\n",
      "Model Number: 796 with model ARDL in generation 7 of 10\n",
      "Model Number: 797 with model GLS in generation 7 of 10\n",
      "Model Number: 798 with model ETS in generation 7 of 10\n",
      "Template Eval Error: Exception(\"Transformer Cointegration failed on fit from params ffill {'0': {}, '1': {'det_order': 1, 'k_ar_diff': 1}, '2': {}, '3': {}} with error ValueError('Coint only works on multivarate series')\") in model 798 in generation 7: ETS\n",
      "Model Number: 799 with model MetricMotif in generation 7 of 10\n",
      "Model Number: 800 with model SectionalMotif in generation 7 of 10\n",
      "Model Number: 801 with model LastValueNaive in generation 7 of 10\n",
      "Model Number: 802 with model MetricMotif in generation 7 of 10\n",
      "Model Number: 803 with model LastValueNaive in generation 7 of 10\n",
      "Model Number: 804 with model ConstantNaive in generation 7 of 10\n",
      "Model Number: 805 with model RRVAR in generation 7 of 10\n",
      "Model Number: 806 with model UnivariateMotif in generation 7 of 10\n",
      "Model Number: 807 with model ConstantNaive in generation 7 of 10\n",
      "Model Number: 808 with model MetricMotif in generation 7 of 10\n",
      "Model Number: 809 with model MetricMotif in generation 7 of 10\n",
      "Model Number: 810 with model ConstantNaive in generation 7 of 10\n",
      "Model Number: 811 with model SeasonalityMotif in generation 7 of 10\n",
      "Model Number: 812 with model ConstantNaive in generation 7 of 10\n",
      "Model Number: 813 with model GLM in generation 7 of 10\n",
      "Template Eval Error: ValueError('NaN, inf or invalid value detected in weights, estimation infeasible.') in model 813 in generation 7: GLM\n",
      "Model Number: 814 with model ETS in generation 7 of 10\n",
      "Model Number: 815 with model SeasonalityMotif in generation 7 of 10\n"
     ]
    },
    {
     "name": "stderr",
     "output_type": "stream",
     "text": [
      "/home/zeus/miniconda3/envs/cloudspace/lib/python3.10/site-packages/statsmodels/genmod/families/family.py:445: RuntimeWarning: divide by zero encountered in divide\n",
      "  endog_mu = self._clean(endog / mu)\n",
      "/home/zeus/miniconda3/envs/cloudspace/lib/python3.10/site-packages/statsmodels/genmod/families/family.py:143: RuntimeWarning: divide by zero encountered in divide\n",
      "  return 1. / (self.link.deriv(mu)**2 * self.variance(mu))\n"
     ]
    },
    {
     "name": "stdout",
     "output_type": "stream",
     "text": [
      "Model Number: 816 with model SeasonalNaive in generation 7 of 10\n",
      "Model Number: 817 with model RRVAR in generation 7 of 10\n",
      "Model Number: 818 with model GLM in generation 7 of 10\n",
      "Model Number: 819 with model ConstantNaive in generation 7 of 10\n",
      "Model Number: 820 with model SeasonalNaive in generation 7 of 10\n",
      "Model Number: 821 with model SeasonalityMotif in generation 7 of 10\n",
      "Model Number: 822 with model BasicLinearModel in generation 7 of 10\n",
      "Model Number: 823 with model FFT in generation 7 of 10\n",
      "Model Number: 824 with model AverageValueNaive in generation 7 of 10\n",
      "Model Number: 825 with model SeasonalNaive in generation 7 of 10\n",
      "Model Number: 826 with model SeasonalityMotif in generation 7 of 10\n",
      "Model Number: 827 with model AverageValueNaive in generation 7 of 10\n",
      "New Generation: 8 of 10\n",
      "Model Number: 828 with model GLM in generation 8 of 10\n",
      "Template Eval Error: Exception(\"Transformer Cointegration failed on fit from params cubic {'0': {'output_distribution': 'normal', 'n_quantiles': 100}, '1': {}, '2': {'rows': 2}, '3': {'det_order': 0, 'k_ar_diff': 1}, '4': {}} with error ValueError('Coint only works on multivarate series')\") in model 828 in generation 8: GLM\n",
      "Model Number: 829 with model ARDL in generation 8 of 10\n",
      "Model Number: 830 with model SeasonalNaive in generation 8 of 10\n",
      "Model Number: 831 with model BasicLinearModel in generation 8 of 10\n",
      "Model Number: 832 with model MetricMotif in generation 8 of 10\n",
      "Template Eval Error: Exception(\"Transformer BTCD failed on fit from params barycentric {'0': {'regression_model': {'model': 'LinearRegression', 'model_params': {}}, 'max_lags': 1}, '1': {'rows': 1, 'lag': 1, 'method': 'additive', 'strength': 1.0, 'first_value_only': False, 'threshold': None, 'threshold_method': 'mean'}, '2': {'lag': 1, 'fill': 'bfill'}, '3': {}} with error ValueError('BTCD only works on multivarate series')\") in model 832 in generation 8: MetricMotif\n",
      "Model Number: 833 with model ARDL in generation 8 of 10\n",
      "Model Number: 834 with model GLM in generation 8 of 10\n",
      "Model Number: 835 with model GLM in generation 8 of 10\n",
      "Template Eval Error: ValueError('NaN, inf or invalid value detected in weights, estimation infeasible.') in model 835 in generation 8: GLM\n",
      "Model Number: 836 with model SectionalMotif in generation 8 of 10\n",
      "Model Number: 837 with model SeasonalityMotif in generation 8 of 10\n",
      "Model Number: 838 with model UnivariateMotif in generation 8 of 10\n",
      "Model Number: 839 with model ETS in generation 8 of 10\n",
      "Model Number: 840 with model LastValueNaive in generation 8 of 10\n"
     ]
    },
    {
     "name": "stderr",
     "output_type": "stream",
     "text": [
      "/home/zeus/miniconda3/envs/cloudspace/lib/python3.10/site-packages/statsmodels/genmod/families/family.py:445: RuntimeWarning: divide by zero encountered in divide\n",
      "  endog_mu = self._clean(endog / mu)\n",
      "/home/zeus/miniconda3/envs/cloudspace/lib/python3.10/site-packages/statsmodels/genmod/families/family.py:143: RuntimeWarning: divide by zero encountered in divide\n",
      "  return 1. / (self.link.deriv(mu)**2 * self.variance(mu))\n"
     ]
    },
    {
     "name": "stdout",
     "output_type": "stream",
     "text": [
      "Model Number: 841 with model GLM in generation 8 of 10\n",
      "Model Number: 842 with model SeasonalityMotif in generation 8 of 10\n"
     ]
    },
    {
     "name": "stderr",
     "output_type": "stream",
     "text": [
      "/home/zeus/miniconda3/envs/cloudspace/lib/python3.10/site-packages/statsmodels/genmod/generalized_linear_model.py:1342: PerfectSeparationWarning: Perfect separation or prediction detected, parameter may not be identified\n",
      "  warnings.warn(msg, category=PerfectSeparationWarning)\n",
      "/home/zeus/miniconda3/envs/cloudspace/lib/python3.10/site-packages/statsmodels/genmod/generalized_linear_model.py:1342: PerfectSeparationWarning: Perfect separation or prediction detected, parameter may not be identified\n",
      "  warnings.warn(msg, category=PerfectSeparationWarning)\n",
      "/home/zeus/miniconda3/envs/cloudspace/lib/python3.10/site-packages/statsmodels/genmod/generalized_linear_model.py:1342: PerfectSeparationWarning: Perfect separation or prediction detected, parameter may not be identified\n",
      "  warnings.warn(msg, category=PerfectSeparationWarning)\n",
      "/home/zeus/miniconda3/envs/cloudspace/lib/python3.10/site-packages/statsmodels/genmod/generalized_linear_model.py:1342: PerfectSeparationWarning: Perfect separation or prediction detected, parameter may not be identified\n",
      "  warnings.warn(msg, category=PerfectSeparationWarning)\n",
      "/home/zeus/miniconda3/envs/cloudspace/lib/python3.10/site-packages/statsmodels/genmod/generalized_linear_model.py:1342: PerfectSeparationWarning: Perfect separation or prediction detected, parameter may not be identified\n",
      "  warnings.warn(msg, category=PerfectSeparationWarning)\n",
      "/home/zeus/miniconda3/envs/cloudspace/lib/python3.10/site-packages/statsmodels/genmod/generalized_linear_model.py:1342: PerfectSeparationWarning: Perfect separation or prediction detected, parameter may not be identified\n",
      "  warnings.warn(msg, category=PerfectSeparationWarning)\n",
      "/home/zeus/miniconda3/envs/cloudspace/lib/python3.10/site-packages/statsmodels/genmod/generalized_linear_model.py:1342: PerfectSeparationWarning: Perfect separation or prediction detected, parameter may not be identified\n",
      "  warnings.warn(msg, category=PerfectSeparationWarning)\n",
      "/home/zeus/miniconda3/envs/cloudspace/lib/python3.10/site-packages/statsmodels/genmod/generalized_linear_model.py:1342: PerfectSeparationWarning: Perfect separation or prediction detected, parameter may not be identified\n",
      "  warnings.warn(msg, category=PerfectSeparationWarning)\n"
     ]
    },
    {
     "name": "stdout",
     "output_type": "stream",
     "text": [
      "Model Number: 843 with model MetricMotif in generation 8 of 10\n",
      "Model Number: 844 with model SeasonalityMotif in generation 8 of 10\n",
      "Model Number: 845 with model AverageValueNaive in generation 8 of 10\n",
      "Model Number: 846 with model SectionalMotif in generation 8 of 10\n",
      "Model Number: 847 with model SeasonalNaive in generation 8 of 10\n",
      "Model Number: 848 with model BasicLinearModel in generation 8 of 10\n",
      "Model Number: 849 with model GLM in generation 8 of 10\n",
      "Template Eval Error: Exception('Transformer DatepartRegression failed on fit from params rolling_mean {\\'0\\': {\\'regression_model\\': {\\'model\\': \\'MLP\\', \\'model_params\\': {\\'hidden_layer_sizes\\': [2560], \\'max_iter\\': 1000, \\'activation\\': \\'tanh\\', \\'solver\\': \\'lbfgs\\', \\'early_stopping\\': False, \\'learning_rate_init\\': 0.001, \\'alpha\\': None}}, \\'datepart_method\\': \\'expanded\\', \\'polynomial_degree\\': None, \\'transform_dict\\': None, \\'holiday_countries_used\\': True, \\'lags\\': None, \\'forward_lags\\': None}, \\'1\\': {\\'window\\': None}, \\'2\\': {\\'rows\\': 2}, \\'3\\': {}} with error InvalidParameterError(\"The \\'alpha\\' parameter of MLPRegressor must be a float in the range [0.0, inf). Got None instead.\")') in model 849 in generation 8: GLM\n",
      "Model Number: 850 with model LastValueNaive in generation 8 of 10\n",
      "Model Number: 851 with model ARDL in generation 8 of 10\n",
      "Model Number: 852 with model ARDL in generation 8 of 10\n",
      "Model Number: 853 with model SeasonalityMotif in generation 8 of 10\n",
      "Model Number: 854 with model SeasonalityMotif in generation 8 of 10\n",
      "Model Number: 855 with model SeasonalityMotif in generation 8 of 10\n",
      "Model Number: 856 with model DatepartRegression in generation 8 of 10\n",
      "Model Number: 857 with model AverageValueNaive in generation 8 of 10\n",
      "Model Number: 858 with model ETS in generation 8 of 10\n",
      "Model Number: 859 with model RRVAR in generation 8 of 10\n",
      "Model Number: 860 with model ETS in generation 8 of 10\n",
      "Model Number: 861 with model ConstantNaive in generation 8 of 10\n",
      "Model Number: 862 with model ETS in generation 8 of 10\n",
      "Template Eval Error: Exception(\"Transformer BTCD failed on fit from params zero {'0': {'output_distribution': 'normal', 'n_quantiles': 100}, '1': {'output_distribution': 'normal', 'n_quantiles': 48}, '2': {'method': 'zscore', 'method_params': {'distribution': 'chi2', 'alpha': 0.14}, 'fillna': 'mean', 'transform_dict': {'fillna': None, 'transformations': {'0': 'EWMAFilter'}, 'transformation_params': {'0': {'span': 7}}}, 'isolated_only': False, 'on_inverse': False}, '3': {}, '4': {'output_distribution': 'uniform', 'n_quantiles': 100}, '5': {'regression_model': {'model': 'FastRidge', 'model_params': {}}, 'max_lags': 2}} with error ValueError('BTCD only works on multivarate series')\") in model 862 in generation 8: ETS\n",
      "Model Number: 863 with model LastValueNaive in generation 8 of 10\n",
      "Model Number: 864 with model ConstantNaive in generation 8 of 10\n"
     ]
    },
    {
     "name": "stderr",
     "output_type": "stream",
     "text": [
      "/home/zeus/miniconda3/envs/cloudspace/lib/python3.10/site-packages/autots/tools/percentile.py:47: RuntimeWarning: All-NaN slice encountered\n",
      "  max_val = np.nanmax(arr)\n"
     ]
    },
    {
     "name": "stdout",
     "output_type": "stream",
     "text": [
      "Model Number: 865 with model MetricMotif in generation 8 of 10\n",
      "Model Number: 866 with model ConstantNaive in generation 8 of 10\n",
      "Model Number: 867 with model ConstantNaive in generation 8 of 10\n",
      "Model Number: 868 with model GLM in generation 8 of 10\n",
      "Model Number: 869 with model DatepartRegression in generation 8 of 10\n",
      "Template Eval Error: Exception(\"Transformer BTCD failed on fit from params zero {'0': {'method': 'butter', 'method_args': {'N': 3, 'btype': 'lowpass', 'analog': False, 'output': 'sos', 'Wn': 0.0027472527472527475}}, '1': {}, '2': {'numtaps': 64, 'cutoff_hz': 0.1, 'window': 'tukey', 'sampling_frequency': 12, 'on_transform': True, 'on_inverse': False}, '3': {'regression_model': {'model': 'LinearRegression', 'model_params': {}}, 'max_lags': 1}} with error ValueError('BTCD only works on multivarate series')\") in model 869 in generation 8: DatepartRegression\n",
      "Model Number: 870 with model SeasonalNaive in generation 8 of 10\n"
     ]
    },
    {
     "name": "stderr",
     "output_type": "stream",
     "text": [
      "/home/zeus/miniconda3/envs/cloudspace/lib/python3.10/site-packages/statsmodels/genmod/generalized_linear_model.py:1342: PerfectSeparationWarning: Perfect separation or prediction detected, parameter may not be identified\n",
      "  warnings.warn(msg, category=PerfectSeparationWarning)\n",
      "/home/zeus/miniconda3/envs/cloudspace/lib/python3.10/site-packages/statsmodels/genmod/generalized_linear_model.py:1342: PerfectSeparationWarning: Perfect separation or prediction detected, parameter may not be identified\n",
      "  warnings.warn(msg, category=PerfectSeparationWarning)\n",
      "/home/zeus/miniconda3/envs/cloudspace/lib/python3.10/site-packages/statsmodels/genmod/generalized_linear_model.py:1342: PerfectSeparationWarning: Perfect separation or prediction detected, parameter may not be identified\n",
      "  warnings.warn(msg, category=PerfectSeparationWarning)\n",
      "/home/zeus/miniconda3/envs/cloudspace/lib/python3.10/site-packages/statsmodels/genmod/generalized_linear_model.py:1342: PerfectSeparationWarning: Perfect separation or prediction detected, parameter may not be identified\n",
      "  warnings.warn(msg, category=PerfectSeparationWarning)\n",
      "/home/zeus/miniconda3/envs/cloudspace/lib/python3.10/site-packages/statsmodels/genmod/generalized_linear_model.py:1342: PerfectSeparationWarning: Perfect separation or prediction detected, parameter may not be identified\n",
      "  warnings.warn(msg, category=PerfectSeparationWarning)\n",
      "/home/zeus/miniconda3/envs/cloudspace/lib/python3.10/site-packages/statsmodels/genmod/generalized_linear_model.py:1342: PerfectSeparationWarning: Perfect separation or prediction detected, parameter may not be identified\n",
      "  warnings.warn(msg, category=PerfectSeparationWarning)\n"
     ]
    },
    {
     "name": "stdout",
     "output_type": "stream",
     "text": [
      "Model Number: 871 with model GLM in generation 8 of 10\n"
     ]
    },
    {
     "name": "stderr",
     "output_type": "stream",
     "text": [
      "/home/zeus/miniconda3/envs/cloudspace/lib/python3.10/site-packages/statsmodels/genmod/families/family.py:1367: ValueWarning: Negative binomial dispersion parameter alpha not set. Using default value alpha=1.0.\n",
      "  warnings.warn(\"Negative binomial dispersion parameter alpha not \"\n",
      "/home/zeus/miniconda3/envs/cloudspace/lib/python3.10/site-packages/statsmodels/genmod/families/family.py:1402: RuntimeWarning: divide by zero encountered in divide\n",
      "  endog_mu = self._clean(endog / mu)\n"
     ]
    },
    {
     "name": "stdout",
     "output_type": "stream",
     "text": [
      "Model Number: 872 with model ConstantNaive in generation 8 of 10\n",
      "Model Number: 873 with model AverageValueNaive in generation 8 of 10\n"
     ]
    },
    {
     "name": "stderr",
     "output_type": "stream",
     "text": [
      "/home/zeus/miniconda3/envs/cloudspace/lib/python3.10/site-packages/autots/tools/percentile.py:47: RuntimeWarning: All-NaN slice encountered\n",
      "  max_val = np.nanmax(arr)\n"
     ]
    },
    {
     "name": "stdout",
     "output_type": "stream",
     "text": [
      "Model Number: 874 with model DatepartRegression in generation 8 of 10\n",
      "Model Number: 875 with model FFT in generation 8 of 10\n",
      "Model Number: 876 with model BasicLinearModel in generation 8 of 10\n",
      "Template Eval Error: Exception('Transformer PCA failed on fit from params rolling_mean_24 {\\'0\\': {\\'whiten\\': False, \\'n_components\\': 10}, \\'1\\': {\\'lag\\': 1, \\'fill\\': \\'zero\\'}, \\'2\\': {\\'rows\\': 1, \\'lag\\': 1, \\'method\\': \\'additive\\', \\'strength\\': 0.2, \\'first_value_only\\': False, \\'threshold\\': 1, \\'threshold_method\\': \\'max\\'}, \\'3\\': {\\'window_size\\': 30, \\'alpha\\': 4.0, \\'grouping_forward_limit\\': 3, \\'max_level_shifts\\': 10, \\'alignment\\': \\'last_value\\'}, \\'4\\': {\\'rows\\': 1, \\'displacement_rows\\': 1, \\'quantile\\': 1.0, \\'decay_span\\': None}} with error ValueError(\"n_components=10 must be between 0 and min(n_samples, n_features)=1 with svd_solver=\\'full\\'\")') in model 876 in generation 8: BasicLinearModel\n",
      "Model Number: 877 with model ConstantNaive in generation 8 of 10\n",
      "Model Number: 878 with model ConstantNaive in generation 8 of 10\n",
      "Model Number: 879 with model DatepartRegression in generation 8 of 10\n",
      "Model Number: 880 with model ETS in generation 8 of 10\n"
     ]
    },
    {
     "name": "stderr",
     "output_type": "stream",
     "text": [
      "/home/zeus/miniconda3/envs/cloudspace/lib/python3.10/site-packages/sklearn/svm/_classes.py:32: FutureWarning: The default value of `dual` will change from `True` to `'auto'` in 1.5. Set the value of `dual` explicitly to suppress the warning.\n",
      "  warnings.warn(\n"
     ]
    },
    {
     "name": "stdout",
     "output_type": "stream",
     "text": [
      "Model Number: 881 with model AverageValueNaive in generation 8 of 10\n",
      "Model Number: 882 with model GLS in generation 8 of 10\n",
      "Model Number: 883 with model SeasonalityMotif in generation 8 of 10\n",
      "Model Number: 884 with model BasicLinearModel in generation 8 of 10\n",
      "Model Number: 885 with model AverageValueNaive in generation 8 of 10\n",
      "Model Number: 886 with model SectionalMotif in generation 8 of 10\n",
      "Model Number: 887 with model SectionalMotif in generation 8 of 10\n",
      "Model Number: 888 with model GLS in generation 8 of 10\n",
      "Model Number: 889 with model AverageValueNaive in generation 8 of 10\n",
      "Model Number: 890 with model MetricMotif in generation 8 of 10\n",
      "Model Number: 891 with model FFT in generation 8 of 10\n",
      "Model Number: 892 with model LastValueNaive in generation 8 of 10\n",
      "Model Number: 893 with model MetricMotif in generation 8 of 10\n",
      "Model Number: 894 with model AverageValueNaive in generation 8 of 10\n",
      "Model Number: 895 with model SeasonalNaive in generation 8 of 10\n",
      "Model Number: 896 with model GLM in generation 8 of 10\n",
      "Model Number: 897 with model SectionalMotif in generation 8 of 10\n",
      "Model Number: 898 with model MetricMotif in generation 8 of 10\n",
      "Model Number: 899 with model ConstantNaive in generation 8 of 10\n",
      "Model Number: 900 with model LastValueNaive in generation 8 of 10\n",
      "Model Number: 901 with model UnivariateMotif in generation 8 of 10\n",
      "Model Number: 902 with model SeasonalityMotif in generation 8 of 10\n",
      "Model Number: 903 with model GLS in generation 8 of 10\n",
      "Model Number: 904 with model SeasonalityMotif in generation 8 of 10\n",
      "Model Number: 905 with model ConstantNaive in generation 8 of 10\n",
      "Model Number: 906 with model LastValueNaive in generation 8 of 10\n",
      "Model Number: 907 with model GLM in generation 8 of 10\n",
      "Model Number: 908 with model GLS in generation 8 of 10\n"
     ]
    },
    {
     "name": "stderr",
     "output_type": "stream",
     "text": [
      "/home/zeus/miniconda3/envs/cloudspace/lib/python3.10/site-packages/statsmodels/genmod/families/links.py:198: RuntimeWarning: overflow encountered in exp\n",
      "  t = np.exp(-z)\n"
     ]
    },
    {
     "name": "stdout",
     "output_type": "stream",
     "text": [
      "Model Number: 909 with model SeasonalNaive in generation 8 of 10\n",
      "Model Number: 910 with model AverageValueNaive in generation 8 of 10\n",
      "Model Number: 911 with model ConstantNaive in generation 8 of 10\n",
      "New Generation: 9 of 10\n",
      "Model Number: 912 with model GLS in generation 9 of 10\n"
     ]
    },
    {
     "name": "stderr",
     "output_type": "stream",
     "text": [
      "/home/zeus/miniconda3/envs/cloudspace/lib/python3.10/site-packages/autots/tools/percentile.py:47: RuntimeWarning: All-NaN slice encountered\n",
      "  max_val = np.nanmax(arr)\n"
     ]
    },
    {
     "name": "stdout",
     "output_type": "stream",
     "text": [
      "Model Number: 913 with model AverageValueNaive in generation 9 of 10\n",
      "Model Number: 914 with model UnivariateMotif in generation 9 of 10\n",
      "Model Number: 915 with model GLM in generation 9 of 10\n",
      "Template Eval Error: ValueError('The first guess on the deviance function returned a nan.  This could be a boundary  problem and should be reported.') in model 915 in generation 9: GLM\n",
      "Model Number: 916 with model ConstantNaive in generation 9 of 10\n"
     ]
    },
    {
     "name": "stderr",
     "output_type": "stream",
     "text": [
      "/home/zeus/miniconda3/envs/cloudspace/lib/python3.10/site-packages/statsmodels/genmod/families/family.py:1367: ValueWarning: Negative binomial dispersion parameter alpha not set. Using default value alpha=1.0.\n",
      "  warnings.warn(\"Negative binomial dispersion parameter alpha not \"\n",
      "/home/zeus/miniconda3/envs/cloudspace/lib/python3.10/site-packages/statsmodels/genmod/families/family.py:1406: RuntimeWarning: invalid value encountered in log\n",
      "  resid_dev -= endog_alpha * np.log(endog_alpha / mu_alpha)\n"
     ]
    },
    {
     "name": "stdout",
     "output_type": "stream",
     "text": [
      "Model Number: 917 with model AverageValueNaive in generation 9 of 10\n",
      "Model Number: 918 with model Cassandra in generation 9 of 10\n",
      "Template Eval Error: ValueError('more than 1 year of data is required for holiday detection.') in model 918 in generation 9: Cassandra\n",
      "Model Number: 919 with model SectionalMotif in generation 9 of 10\n",
      "Template Eval Error: Exception('Transformer ChangepointDetrend failed on fit from params cubic {\\'0\\': {}, \\'1\\': {}, \\'2\\': {\\'model\\': \\'Poisson\\', \\'changepoint_spacing\\': 180, \\'changepoint_distance_end\\': 90, \\'datepart_method\\': \\'common_fourier_rw\\'}, \\'3\\': {}} with error ValueError(\"Some value(s) of y are out of the valid range of the loss \\'HalfPoissonLoss\\'.\")') in model 919 in generation 9: SectionalMotif\n",
      "Model Number: 920 with model FFT in generation 9 of 10\n",
      "Model Number: 921 with model FFT in generation 9 of 10\n",
      "Model Number: 922 with model UnivariateMotif in generation 9 of 10\n",
      "Model Number: 923 with model ARDL in generation 9 of 10\n",
      "Template Eval Error: ValueError(\"ARDL series 8b26cbbab26d33daba641fae9426d1bd25c1ad8e7abfe187a459512f5a8866e7 failed with error ValueError('The number of regressors (277) including deterministics, lags of the endog, lags of the exogenous, and fixed regressors is larger than the sample available for estimation (142).') exog train              dp0  dp1        dp2  dp3  dp4  dp5  dp6  dp7  dp8  dp9  ...  \\\\\\ndate                                                                 ...   \\n2023-01-01   1.0  1.0  2459945.5  1.0  0.0  0.0  0.0  0.0  0.0  0.0  ...   \\n2023-01-02   2.0  0.0  2459946.5  1.0  0.0  0.0  0.0  0.0  0.0  0.0  ...   \\n2023-01-03   3.0  0.0  2459947.5  1.0  0.0  0.0  0.0  0.0  0.0  0.0  ...   \\n2023-01-04   4.0  0.0  2459948.5  1.0  0.0  0.0  0.0  0.0  0.0  0.0  ...   \\n2023-01-05   5.0  0.0  2459949.5  1.0  0.0  0.0  0.0  0.0  0.0  0.0  ...   \\n...          ...  ...        ...  ...  ...  ...  ...  ...  ...  ...  ...   \\n2023-05-20  20.0  1.0  2460084.5  0.0  0.0  0.0  0.0  1.0  0.0  0.0  ...   \\n2023-05-21  21.0  1.0  2460085.5  0.0  0.0  0.0  0.0  1.0  0.0  0.0  ...   \\n2023-05-22  22.0  0.0  2460086.5  0.0  0.0  0.0  0.0  1.0  0.0  0.0  ...   \\n2023-05-23  23.0  0.0  2460087.5  0.0  0.0  0.0  0.0  1.0  0.0  0.0  ...   \\n2023-05-24  24.0  0.0  2460088.5  0.0  0.0  0.0  0.0  1.0  0.0  0.0  ...   \\n\\n            dp265  dp266  dp267  dp268  dp269  dp270  dp271  dp272  dp273  \\\\\\ndate                                                                        \\n2023-01-01    0.0    0.0    0.0    0.0    0.0    0.0    0.0    0.0    0.0   \\n2023-01-02    0.0    0.0    0.0    0.0    0.0    0.0    0.0    0.0    0.0   \\n2023-01-03    0.0    0.0    0.0    0.0    0.0    0.0    0.0    0.0    0.0   \\n2023-01-04    0.0    0.0    0.0    0.0    0.0    0.0    0.0    0.0    0.0   \\n2023-01-05    1.0    0.0    0.0    0.0    0.0    0.0    0.0    0.0    0.0   \\n...           ...    ...    ...    ...    ...    ...    ...    ...    ...   \\n2023-05-20    0.0    0.0    0.0    0.0    0.0    0.0    0.0    1.0    0.0   \\n2023-05-21    0.0    0.0    0.0    0.0    0.0    0.0    0.0    0.0    0.0   \\n2023-05-22    0.0    0.0    0.0    0.0    0.0    0.0    0.0    0.0    0.0   \\n2023-05-23    0.0    0.0    0.0    0.0    0.0    0.0    0.0    0.0    0.0   \\n2023-05-24    0.0    0.0    0.0    0.0    0.0    0.0    0.0    0.0    0.0   \\n\\n            dp274  \\ndate               \\n2023-01-01    1.0  \\n2023-01-02    0.0  \\n2023-01-03    0.0  \\n2023-01-04    0.0  \\n2023-01-05    0.0  \\n...           ...  \\n2023-05-20    0.0  \\n2023-05-21    1.0  \\n2023-05-22    0.0  \\n2023-05-23    0.0  \\n2023-05-24    0.0  \\n\\n[144 rows x 275 columns] and predict              dp0  dp1        dp2  dp3  dp4  dp5  dp6  dp7  dp8  dp9  ...  \\\\\\n2023-05-25  25.0  0.0  2460089.5  0.0  0.0  0.0  0.0  1.0  0.0  0.0  ...   \\n2023-05-26  26.0  0.0  2460090.5  0.0  0.0  0.0  0.0  1.0  0.0  0.0  ...   \\n2023-05-27  27.0  1.0  2460091.5  0.0  0.0  0.0  0.0  1.0  0.0  0.0  ...   \\n2023-05-28  28.0  1.0  2460092.5  0.0  0.0  0.0  0.0  1.0  0.0  0.0  ...   \\n2023-05-29  29.0  0.0  2460093.5  0.0  0.0  0.0  0.0  1.0  0.0  0.0  ...   \\n...          ...  ...        ...  ...  ...  ...  ...  ...  ...  ...  ...   \\n2023-07-31  31.0  0.0  2460156.5  0.0  0.0  0.0  0.0  0.0  0.0  1.0  ...   \\n2023-08-01   1.0  0.0  2460157.5  0.0  0.0  0.0  0.0  0.0  0.0  0.0  ...   \\n2023-08-02   2.0  0.0  2460158.5  0.0  0.0  0.0  0.0  0.0  0.0  0.0  ...   \\n2023-08-03   3.0  0.0  2460159.5  0.0  0.0  0.0  0.0  0.0  0.0  0.0  ...   \\n2023-08-04   4.0  0.0  2460160.5  0.0  0.0  0.0  0.0  0.0  0.0  0.0  ...   \\n\\n            dp265  dp266  dp267  dp268  dp269  dp270  dp271  dp272  dp273  \\\\\\n2023-05-25    1.0    0.0    0.0    0.0    0.0    0.0    0.0    0.0    0.0   \\n2023-05-26    0.0    0.0    0.0    0.0    1.0    0.0    0.0    0.0    0.0   \\n2023-05-27    0.0    0.0    0.0    0.0    0.0    0.0    0.0    1.0    0.0   \\n2023-05-28    0.0    0.0    0.0    0.0    0.0    0.0    0.0    0.0    0.0   \\n2023-05-29    0.0    0.0    0.0    0.0    0.0    0.0    0.0    0.0    0.0   \\n...           ...    ...    ...    ...    ...    ...    ...    ...    ...   \\n2023-07-31    0.0    0.0    0.0    0.0    0.0    0.0    0.0    0.0    0.0   \\n2023-08-01    0.0    0.0    0.0    0.0    0.0    0.0    0.0    0.0    0.0   \\n2023-08-02    0.0    0.0    0.0    0.0    0.0    0.0    0.0    0.0    0.0   \\n2023-08-03    1.0    0.0    0.0    0.0    0.0    0.0    0.0    0.0    0.0   \\n2023-08-04    0.0    0.0    0.0    0.0    1.0    0.0    0.0    0.0    0.0   \\n\\n            dp274  \\n2023-05-25    0.0  \\n2023-05-26    0.0  \\n2023-05-27    0.0  \\n2023-05-28    1.0  \\n2023-05-29    0.0  \\n...           ...  \\n2023-07-31    0.0  \\n2023-08-01    0.0  \\n2023-08-02    0.0  \\n2023-08-03    0.0  \\n2023-08-04    0.0  \\n\\n[72 rows x 275 columns]\") in model 923 in generation 9: ARDL\n",
      "Model Number: 924 with model GLS in generation 9 of 10\n",
      "Model Number: 925 with model SeasonalityMotif in generation 9 of 10\n",
      "Model Number: 926 with model GLM in generation 9 of 10\n",
      "Model Number: 927 with model SeasonalNaive in generation 9 of 10\n",
      "Model Number: 928 with model MetricMotif in generation 9 of 10\n",
      "Model Number: 929 with model AverageValueNaive in generation 9 of 10\n",
      "Model Number: 930 with model SeasonalityMotif in generation 9 of 10\n",
      "Model Number: 931 with model MetricMotif in generation 9 of 10\n",
      "Model Number: 932 with model LastValueNaive in generation 9 of 10\n",
      "Model Number: 933 with model DatepartRegression in generation 9 of 10\n"
     ]
    },
    {
     "name": "stderr",
     "output_type": "stream",
     "text": [
      "/home/zeus/miniconda3/envs/cloudspace/lib/python3.10/site-packages/sklearn/svm/_classes.py:32: FutureWarning: The default value of `dual` will change from `True` to `'auto'` in 1.5. Set the value of `dual` explicitly to suppress the warning.\n",
      "  warnings.warn(\n",
      "/home/zeus/miniconda3/envs/cloudspace/lib/python3.10/site-packages/sklearn/svm/_base.py:1250: ConvergenceWarning: Liblinear failed to converge, increase the number of iterations.\n",
      "  warnings.warn(\n"
     ]
    },
    {
     "name": "stdout",
     "output_type": "stream",
     "text": [
      "Model Number: 934 with model SeasonalityMotif in generation 9 of 10\n",
      "Model Number: 935 with model RRVAR in generation 9 of 10\n",
      "Model Number: 936 with model ARDL in generation 9 of 10\n",
      "Model Number: 937 with model ConstantNaive in generation 9 of 10\n",
      "Model Number: 938 with model BasicLinearModel in generation 9 of 10\n",
      "Model Number: 939 with model GLM in generation 9 of 10\n",
      "Model Number: 940 with model WindowRegression in generation 9 of 10\n",
      "Model Number: 941 with model GLS in generation 9 of 10\n",
      "Model Number: 942 with model AverageValueNaive in generation 9 of 10\n"
     ]
    },
    {
     "name": "stderr",
     "output_type": "stream",
     "text": [
      "/home/zeus/miniconda3/envs/cloudspace/lib/python3.10/site-packages/sklearn/base.py:458: UserWarning: X has feature names, but StandardScaler was fitted without feature names\n",
      "  warnings.warn(\n"
     ]
    },
    {
     "name": "stdout",
     "output_type": "stream",
     "text": [
      "Model Number: 943 with model GLS in generation 9 of 10\n",
      "Model Number: 944 with model MetricMotif in generation 9 of 10\n",
      "Model Number: 945 with model AverageValueNaive in generation 9 of 10\n",
      "Template Eval Error: Exception('Transformer PCA failed on fit from params ffill {\\'0\\': {\\'discretization\\': \\'sklearn-uniform\\', \\'n_bins\\': 20}, \\'1\\': {\\'whiten\\': True, \\'n_components\\': 10}, \\'2\\': {\\'fillna\\': \\'ffill\\', \\'center\\': \\'median\\'}} with error ValueError(\"n_components=10 must be between 0 and min(n_samples, n_features)=1 with svd_solver=\\'full\\'\")') in model 945 in generation 9: AverageValueNaive\n",
      "Model Number: 946 with model SeasonalityMotif in generation 9 of 10\n",
      "Template Eval Error: Exception(\"Transformer BTCD failed on fit from params quadratic {'0': {'rows': 1, 'lag': 1, 'method': 'additive', 'strength': 1.0, 'first_value_only': False, 'threshold': 1, 'threshold_method': 'max'}, '1': {'regression_model': {'model': 'FastRidge', 'model_params': {}}, 'max_lags': 2}, '2': {'decimals': 1, 'on_transform': True, 'on_inverse': False}} with error ValueError('BTCD only works on multivarate series')\") in model 946 in generation 9: SeasonalityMotif\n",
      "Model Number: 947 with model LastValueNaive in generation 9 of 10\n",
      "Model Number: 948 with model LastValueNaive in generation 9 of 10\n",
      "Model Number: 949 with model ARDL in generation 9 of 10\n",
      "Model Number: 950 with model LastValueNaive in generation 9 of 10\n",
      "Model Number: 951 with model GLM in generation 9 of 10\n",
      "Template Eval Error: ValueError('The first guess on the deviance function returned a nan.  This could be a boundary  problem and should be reported.') in model 951 in generation 9: GLM\n",
      "Model Number: 952 with model RRVAR in generation 9 of 10\n",
      "Model Number: 953 with model ConstantNaive in generation 9 of 10\n",
      "Model Number: 954 with model RRVAR in generation 9 of 10\n"
     ]
    },
    {
     "name": "stderr",
     "output_type": "stream",
     "text": [
      "/home/zeus/miniconda3/envs/cloudspace/lib/python3.10/site-packages/statsmodels/genmod/families/family.py:1367: ValueWarning: Negative binomial dispersion parameter alpha not set. Using default value alpha=1.0.\n",
      "  warnings.warn(\"Negative binomial dispersion parameter alpha not \"\n",
      "/home/zeus/miniconda3/envs/cloudspace/lib/python3.10/site-packages/statsmodels/genmod/families/family.py:1406: RuntimeWarning: invalid value encountered in log\n",
      "  resid_dev -= endog_alpha * np.log(endog_alpha / mu_alpha)\n"
     ]
    },
    {
     "name": "stdout",
     "output_type": "stream",
     "text": [
      "Model Number: 955 with model MetricMotif in generation 9 of 10\n",
      "Model Number: 956 with model SeasonalityMotif in generation 9 of 10\n",
      "Model Number: 957 with model SectionalMotif in generation 9 of 10\n",
      "Model Number: 958 with model ConstantNaive in generation 9 of 10\n",
      "Model Number: 959 with model AverageValueNaive in generation 9 of 10\n",
      "Model Number: 960 with model ARDL in generation 9 of 10\n",
      "Model Number: 961 with model GLM in generation 9 of 10\n",
      "Model Number: 962 with model BasicLinearModel in generation 9 of 10\n"
     ]
    },
    {
     "name": "stderr",
     "output_type": "stream",
     "text": [
      "/home/zeus/miniconda3/envs/cloudspace/lib/python3.10/site-packages/statsmodels/genmod/families/family.py:1367: ValueWarning: Negative binomial dispersion parameter alpha not set. Using default value alpha=1.0.\n",
      "  warnings.warn(\"Negative binomial dispersion parameter alpha not \"\n"
     ]
    },
    {
     "name": "stdout",
     "output_type": "stream",
     "text": [
      "Model Number: 963 with model ETS in generation 9 of 10\n",
      "Model Number: 964 with model LastValueNaive in generation 9 of 10\n",
      "Model Number: 965 with model SeasonalityMotif in generation 9 of 10\n",
      "Model Number: 966 with model ARDL in generation 9 of 10\n",
      "Model Number: 967 with model AverageValueNaive in generation 9 of 10\n",
      "Model Number: 968 with model DatepartRegression in generation 9 of 10\n",
      "Template Eval Error: ValueError(\"regression_type='User' but no future_regressor passed\") in model 968 in generation 9: DatepartRegression\n",
      "Model Number: 969 with model AverageValueNaive in generation 9 of 10\n",
      "Model Number: 970 with model SeasonalNaive in generation 9 of 10\n",
      "Model Number: 971 with model LastValueNaive in generation 9 of 10\n",
      "Model Number: 972 with model GLS in generation 9 of 10\n",
      "Model Number: 973 with model GLS in generation 9 of 10\n",
      "Model Number: 974 with model MetricMotif in generation 9 of 10\n",
      "Model Number: 975 with model FFT in generation 9 of 10\n",
      "Model Number: 976 with model LastValueNaive in generation 9 of 10\n",
      "Model Number: 977 with model UnivariateMotif in generation 9 of 10\n",
      "Model Number: 978 with model ConstantNaive in generation 9 of 10\n",
      "Model Number: 979 with model ETS in generation 9 of 10\n",
      "Model Number: 980 with model FFT in generation 9 of 10\n",
      "Model Number: 981 with model ETS in generation 9 of 10\n",
      "Model Number: 982 with model UnivariateMotif in generation 9 of 10\n",
      "Model Number: 983 with model SeasonalNaive in generation 9 of 10\n",
      "Model Number: 984 with model MetricMotif in generation 9 of 10\n",
      "Template Eval Error: Exception(\"Transformer Cointegration failed on fit from params zero {'0': {'method': 'clip', 'std_threshold': 4, 'fillna': None}, '1': {'det_order': 1, 'k_ar_diff': 2}, '2': {'sigma': 2, 'rolling_window': 90, 'run_order': 'season_first', 'regression_params': {'regression_model': {'model': 'ElasticNet', 'model_params': {'l1_ratio': 0.5, 'fit_intercept': True, 'selection': 'cyclic', 'max_iter': 1000}}, 'datepart_method': 'common_fourier', 'polynomial_degree': None, 'transform_dict': {'fillna': None, 'transformations': {'0': 'ScipyFilter'}, 'transformation_params': {'0': {'method': 'savgol_filter', 'method_args': {'window_length': 31, 'polyorder': 3, 'deriv': 0, 'mode': 'interp'}}}}, 'holiday_countries_used': False, 'lags': None, 'forward_lags': None}, 'holiday_params': {'threshold': 0.9, 'splash_threshold': None, 'use_dayofmonth_holidays': True, 'use_wkdom_holidays': True, 'use_wkdeom_holidays': False, 'use_lunar_holidays': False, 'use_lunar_weekday': False, 'use_islamic_holidays': False, 'use_hebrew_holidays': False, 'use_hindu_holidays': False, 'anomaly_detector_params': {'method': 'rolling_zscore', 'method_params': {'distribution': 'chi2', 'alpha': 0.05, 'rolling_periods': 28, 'center': False}, 'fillna': 'ffill', 'transform_dict': None, 'isolated_only': False, 'on_inverse': False}, 'remove_excess_anomalies': True, 'impact': 'datepart_regression', 'regression_params': {'regression_model': {'model': 'ElasticNet', 'model_params': {'l1_ratio': 0.5, 'fit_intercept': True, 'selection': 'cyclic', 'max_iter': 1000}}, 'datepart_method': 'common_fourier', 'polynomial_degree': None, 'transform_dict': {'fillna': None, 'transformations': {'0': 'ScipyFilter'}, 'transformation_params': {'0': {'method': 'savgol_filter', 'method_args': {'window_length': 31, 'polyorder': 3, 'deriv': 0, 'mode': 'interp'}}}}, 'holiday_countries_used': False, 'lags': None, 'forward_lags': None}}, 'trend_method': 'local_linear'}, '3': {}} with error ValueError('Coint only works on multivarate series')\") in model 984 in generation 9: MetricMotif\n",
      "Model Number: 985 with model SeasonalNaive in generation 9 of 10\n",
      "Model Number: 986 with model ETS in generation 9 of 10\n",
      "Model Number: 987 with model RRVAR in generation 9 of 10\n",
      "Model Number: 988 with model MetricMotif in generation 9 of 10\n",
      "Model Number: 989 with model ETS in generation 9 of 10\n",
      "Model Number: 990 with model SeasonalityMotif in generation 9 of 10\n",
      "Model Number: 991 with model SeasonalityMotif in generation 9 of 10\n",
      "Model Number: 992 with model UnivariateMotif in generation 9 of 10\n",
      "Model Number: 993 with model MetricMotif in generation 9 of 10\n",
      "Model Number: 994 with model ConstantNaive in generation 9 of 10\n",
      "Model Number: 995 with model ConstantNaive in generation 9 of 10\n",
      "New Generation: 10 of 10\n",
      "Model Number: 996 with model ConstantNaive in generation 10 of 10\n",
      "Model Number: 997 with model ETS in generation 10 of 10\n",
      "Model Number: 998 with model MetricMotif in generation 10 of 10\n",
      "Model Number: 999 with model SeasonalityMotif in generation 10 of 10\n",
      "Model Number: 1000 with model ETS in generation 10 of 10\n",
      "Model Number: 1001 with model SeasonalNaive in generation 10 of 10\n"
     ]
    },
    {
     "name": "stderr",
     "output_type": "stream",
     "text": [
      "/home/zeus/miniconda3/envs/cloudspace/lib/python3.10/site-packages/sklearn/linear_model/_ridge.py:200: LinAlgWarning: Ill-conditioned matrix (rcond=8.09705e-25): result may not be accurate.\n",
      "  return linalg.solve(A, Xy, assume_a=\"pos\", overwrite_a=True).T\n"
     ]
    },
    {
     "name": "stdout",
     "output_type": "stream",
     "text": [
      "Model Number: 1002 with model AverageValueNaive in generation 10 of 10\n",
      "Model Number: 1003 with model LastValueNaive in generation 10 of 10\n",
      "Model Number: 1004 with model SeasonalNaive in generation 10 of 10\n",
      "Model Number: 1005 with model AverageValueNaive in generation 10 of 10\n",
      "Model Number: 1006 with model ConstantNaive in generation 10 of 10\n",
      "Model Number: 1007 with model UnivariateMotif in generation 10 of 10\n",
      "Model Number: 1008 with model ETS in generation 10 of 10\n",
      "Template Eval Error: Exception(\"Transformer Detrend failed on fit from params fake_date {'0': {}, '1': {'method': 0.2}, '2': {'model': 'GLS', 'phi': 1, 'window': None, 'transform_dict': {'fillna': None, 'transformations': {'0': 'ScipyFilter'}, 'transformation_params': {'0': {'method': 'savgol_filter', 'method_args': {'window_length': 31, 'polyorder': 3, 'deriv': 0, 'mode': 'interp'}}}}}, '3': {'output_distribution': 'uniform', 'n_quantiles': 1000}, '4': {'rows': 1, 'lag': 1, 'method': 'additive', 'strength': 1.0, 'first_value_only': True, 'threshold': None, 'threshold_method': 'mean'}, '5': {}} with error Exception('Transformer ScipyFilter failed on fit')\") in model 1008 in generation 10: ETS\n",
      "Model Number: 1009 with model GLM in generation 10 of 10\n",
      "Model Number: 1010 with model ARDL in generation 10 of 10\n"
     ]
    },
    {
     "name": "stderr",
     "output_type": "stream",
     "text": [
      "/home/zeus/miniconda3/envs/cloudspace/lib/python3.10/site-packages/statsmodels/genmod/families/family.py:1367: ValueWarning: Negative binomial dispersion parameter alpha not set. Using default value alpha=1.0.\n",
      "  warnings.warn(\"Negative binomial dispersion parameter alpha not \"\n"
     ]
    },
    {
     "name": "stdout",
     "output_type": "stream",
     "text": [
      "Model Number: 1011 with model LastValueNaive in generation 10 of 10\n",
      "Model Number: 1012 with model AverageValueNaive in generation 10 of 10\n",
      "Model Number: 1013 with model SectionalMotif in generation 10 of 10\n",
      "Model Number: 1014 with model RRVAR in generation 10 of 10\n",
      "Model Number: 1015 with model SeasonalNaive in generation 10 of 10\n"
     ]
    },
    {
     "name": "stderr",
     "output_type": "stream",
     "text": [
      "/home/zeus/miniconda3/envs/cloudspace/lib/python3.10/site-packages/pandas/core/internals/blocks.py:366: RuntimeWarning: overflow encountered in exp\n",
      "  result = func(self.values, **kwargs)\n"
     ]
    },
    {
     "name": "stdout",
     "output_type": "stream",
     "text": [
      "Model Number: 1016 with model AverageValueNaive in generation 10 of 10\n",
      "Model Number: 1017 with model ETS in generation 10 of 10\n",
      "Model Number: 1018 with model ETS in generation 10 of 10\n",
      "Model Number: 1019 with model ARDL in generation 10 of 10\n",
      "SVD did not converge, attempting more robust approach...\n",
      "Template Eval Error: Exception(\"Transformer KalmanSmoothing failed on fit from params rolling_mean_24 {'0': {'model_name': 'ucm_deterministictrend_seasonal7', 'state_transition': [[1, 1, 0, 0, 0, 0, 0, 0], [0, 1, 0, 0, 0, 0, 0, 0], [0, 0, 1, 0, 0, 0, 0, 0], [0, 0, 0, 1, 0, 0, 0, 0], [0, 0, 0, 0, 1, 0, 0, 0], [0, 0, 0, 0, 0, 1, 0, 0], [0, 0, 0, 0, 0, 0, 1, 0], [0, 0, -1, -1, -1, -1, -1, -1]], 'process_noise': [[0.001, 0, 0, 0, 0, 0, 0, 0], [0, 0.001, 0, 0, 0, 0, 0, 0], [0, 0, 0.001, 0, 0, 0, 0, 0], [0, 0, 0, 0.001, 0, 0, 0, 0], [0, 0, 0, 0, 0.001, 0, 0, 0], [0, 0, 0, 0, 0, 0.001, 0, 0], [0, 0, 0, 0, 0, 0, 0.001, 0], [0, 0, 0, 0, 0, 0, 0, 0]], 'observation_model': [[1, 0, 1, 1, 1, 1, 1, 1]], 'observation_noise': 0.1, 'em_iter': 30, 'on_transform': True, 'on_inverse': False}, '1': {'rows': 2}} with error LinAlgError('SVD did not converge')\") in model 1019 in generation 10: ARDL\n",
      "Model Number: 1020 with model ConstantNaive in generation 10 of 10\n"
     ]
    },
    {
     "name": "stderr",
     "output_type": "stream",
     "text": [
      "/home/zeus/miniconda3/envs/cloudspace/lib/python3.10/site-packages/autots/tools/fast_kalman.py:1137: RuntimeWarning: overflow encountered in cast\n",
      "  result.smoothed.states.cov[:, j, :, :] = Ps\n",
      "/home/zeus/miniconda3/envs/cloudspace/lib/python3.10/site-packages/autots/tools/fast_kalman.py:1143: RuntimeWarning: overflow encountered in cast\n",
      "  result.smoothed.observations.cov[:, j, :, :] = obs_cov\n",
      "/home/zeus/miniconda3/envs/cloudspace/lib/python3.10/site-packages/autots/tools/fast_kalman.py:1354: RuntimeWarning: overflow encountered in matmul\n",
      "  return np.matmul(A, np.swapaxes(B, -1, -2))\n",
      "/home/zeus/miniconda3/envs/cloudspace/lib/python3.10/site-packages/autots/tools/fast_kalman.py:1341: RuntimeWarning: invalid value encountered in matmul\n",
      "  return np.matmul(A, B)\n",
      "/home/zeus/miniconda3/envs/cloudspace/lib/python3.10/site-packages/autots/tools/fast_kalman.py:1354: RuntimeWarning: invalid value encountered in matmul\n",
      "  return np.matmul(A, np.swapaxes(B, -1, -2))\n",
      "/home/zeus/miniconda3/envs/cloudspace/lib/python3.10/site-packages/autots/tools/fast_kalman.py:1341: RuntimeWarning: overflow encountered in matmul\n",
      "  return np.matmul(A, B)\n",
      "/home/zeus/miniconda3/envs/cloudspace/lib/python3.10/site-packages/autots/tools/fast_kalman.py:1359: RuntimeWarning: overflow encountered in multiply\n",
      "  return a * b.transpose((0, 2, 1))\n"
     ]
    },
    {
     "name": "stdout",
     "output_type": "stream",
     "text": [
      "Model Number: 1021 with model GLS in generation 10 of 10\n",
      "Model Number: 1022 with model SeasonalNaive in generation 10 of 10\n",
      "Model Number: 1023 with model AverageValueNaive in generation 10 of 10\n",
      "Model Number: 1024 with model AverageValueNaive in generation 10 of 10\n",
      "Model Number: 1025 with model SectionalMotif in generation 10 of 10\n",
      "Model Number: 1026 with model UnivariateMotif in generation 10 of 10\n",
      "Model Number: 1027 with model SeasonalityMotif in generation 10 of 10\n",
      "Model Number: 1028 with model ConstantNaive in generation 10 of 10\n",
      "Model Number: 1029 with model MetricMotif in generation 10 of 10\n",
      "Model Number: 1030 with model ETS in generation 10 of 10\n",
      "Model Number: 1031 with model ConstantNaive in generation 10 of 10\n",
      "Model Number: 1032 with model MetricMotif in generation 10 of 10\n",
      "Model Number: 1033 with model ConstantNaive in generation 10 of 10\n",
      "Model Number: 1034 with model AverageValueNaive in generation 10 of 10\n",
      "Model Number: 1035 with model MetricMotif in generation 10 of 10\n",
      "Model Number: 1036 with model ARDL in generation 10 of 10\n",
      "Model Number: 1037 with model ConstantNaive in generation 10 of 10\n",
      "Model Number: 1038 with model SeasonalNaive in generation 10 of 10\n",
      "Model Number: 1039 with model SeasonalNaive in generation 10 of 10\n",
      "Model Number: 1040 with model AverageValueNaive in generation 10 of 10\n",
      "Model Number: 1041 with model SeasonalNaive in generation 10 of 10\n",
      "Model Number: 1042 with model GLM in generation 10 of 10\n",
      "Model Number: 1043 with model UnivariateMotif in generation 10 of 10\n"
     ]
    },
    {
     "name": "stderr",
     "output_type": "stream",
     "text": [
      "/home/zeus/miniconda3/envs/cloudspace/lib/python3.10/site-packages/statsmodels/genmod/families/family.py:1367: ValueWarning: Negative binomial dispersion parameter alpha not set. Using default value alpha=1.0.\n",
      "  warnings.warn(\"Negative binomial dispersion parameter alpha not \"\n"
     ]
    },
    {
     "name": "stdout",
     "output_type": "stream",
     "text": [
      "Model Number: 1044 with model RRVAR in generation 10 of 10\n",
      "Model Number: 1045 with model SeasonalNaive in generation 10 of 10\n",
      "Model Number: 1046 with model SeasonalNaive in generation 10 of 10\n",
      "Model Number: 1047 with model ARDL in generation 10 of 10\n",
      "Model Number: 1048 with model ARDL in generation 10 of 10\n",
      "Template Eval Error: Exception(\"Transformer SinTrend failed on fit from params rolling_mean_24 {'0': {'model_name': 'randomly generated_original', 'state_transition': [[1, 0, 0, 0], [0, 1, 0, 0], [0, 0, 0, 0], [0, 0, 0, 1]], 'process_noise': [[0.0, 0.0, 0.0, 0.0], [0.0, 0.0, 0.0, 0.0], [0.0, 0.0, 0.0, 0.0], [0.0, 0.0, 0.0, 0.0]], 'observation_model': [[1, 1, 0, 0]], 'observation_noise': 1.0, 'em_iter': 10, 'on_transform': True, 'on_inverse': False}, '1': {}} with error RuntimeError('Optimal parameters not found: Number of calls to function has reached maxfev = 10000.')\") in model 1048 in generation 10: ARDL\n",
      "Model Number: 1049 with model BasicLinearModel in generation 10 of 10\n",
      "Model Number: 1050 with model GLS in generation 10 of 10\n",
      "Model Number: 1051 with model ETS in generation 10 of 10\n",
      "Model Number: 1052 with model LastValueNaive in generation 10 of 10\n",
      "Model Number: 1053 with model ConstantNaive in generation 10 of 10\n",
      "Model Number: 1054 with model MetricMotif in generation 10 of 10\n",
      "Model Number: 1055 with model ConstantNaive in generation 10 of 10\n",
      "Model Number: 1056 with model AverageValueNaive in generation 10 of 10\n",
      "Model Number: 1057 with model GLM in generation 10 of 10\n",
      "Model Number: 1058 with model ETS in generation 10 of 10\n"
     ]
    },
    {
     "name": "stderr",
     "output_type": "stream",
     "text": [
      "/home/zeus/miniconda3/envs/cloudspace/lib/python3.10/site-packages/statsmodels/genmod/generalized_linear_model.py:1342: PerfectSeparationWarning: Perfect separation or prediction detected, parameter may not be identified\n",
      "  warnings.warn(msg, category=PerfectSeparationWarning)\n",
      "/home/zeus/miniconda3/envs/cloudspace/lib/python3.10/site-packages/statsmodels/genmod/generalized_linear_model.py:1342: PerfectSeparationWarning: Perfect separation or prediction detected, parameter may not be identified\n",
      "  warnings.warn(msg, category=PerfectSeparationWarning)\n",
      "/home/zeus/miniconda3/envs/cloudspace/lib/python3.10/site-packages/statsmodels/genmod/generalized_linear_model.py:1342: PerfectSeparationWarning: Perfect separation or prediction detected, parameter may not be identified\n",
      "  warnings.warn(msg, category=PerfectSeparationWarning)\n",
      "/home/zeus/miniconda3/envs/cloudspace/lib/python3.10/site-packages/statsmodels/genmod/generalized_linear_model.py:1342: PerfectSeparationWarning: Perfect separation or prediction detected, parameter may not be identified\n",
      "  warnings.warn(msg, category=PerfectSeparationWarning)\n",
      "/home/zeus/miniconda3/envs/cloudspace/lib/python3.10/site-packages/statsmodels/genmod/generalized_linear_model.py:1342: PerfectSeparationWarning: Perfect separation or prediction detected, parameter may not be identified\n",
      "  warnings.warn(msg, category=PerfectSeparationWarning)\n",
      "/home/zeus/miniconda3/envs/cloudspace/lib/python3.10/site-packages/statsmodels/genmod/generalized_linear_model.py:1342: PerfectSeparationWarning: Perfect separation or prediction detected, parameter may not be identified\n",
      "  warnings.warn(msg, category=PerfectSeparationWarning)\n"
     ]
    },
    {
     "name": "stdout",
     "output_type": "stream",
     "text": [
      "Model Number: 1059 with model Ensemble in generation 11 of Ensembles\n",
      "Model Number: 1073 with model Ensemble in generation 11 of Ensembles\n",
      "Model Number: 1087 with model Ensemble in generation 11 of Ensembles\n",
      "Model Number: 1101 with model Ensemble in generation 11 of Ensembles\n",
      "Model Number: 1115 with model Ensemble in generation 11 of Ensembles\n",
      "Model Number: 1129 with model Ensemble in generation 11 of Ensembles\n",
      "Model Number: 1143 with model Ensemble in generation 11 of Ensembles\n",
      "Model Number: 1157 with model Ensemble in generation 11 of Ensembles\n",
      "Validation Round: 1\n",
      "Model Number: 1 of 176 with model SectionalMotif for Validation 1\n",
      "📈 1 - SectionalMotif with avg smape 11.07: \n",
      "Model Number: 2 of 176 with model Ensemble for Validation 1\n"
     ]
    },
    {
     "name": "stderr",
     "output_type": "stream",
     "text": [
      "/home/zeus/miniconda3/envs/cloudspace/lib/python3.10/site-packages/autots/tools/seasonal.py:896: RuntimeWarning: invalid value encountered in divide\n",
      "  scores = np.mean(np.abs(a - b) / divisor, axis=2)\n",
      "/home/zeus/miniconda3/envs/cloudspace/lib/python3.10/site-packages/autots/tools/seasonal.py:896: RuntimeWarning: invalid value encountered in divide\n",
      "  scores = np.mean(np.abs(a - b) / divisor, axis=2)\n",
      "/home/zeus/miniconda3/envs/cloudspace/lib/python3.10/site-packages/autots/tools/seasonal.py:896: RuntimeWarning: invalid value encountered in divide\n",
      "  scores = np.mean(np.abs(a - b) / divisor, axis=2)\n",
      "/home/zeus/miniconda3/envs/cloudspace/lib/python3.10/site-packages/autots/tools/seasonal.py:896: RuntimeWarning: invalid value encountered in divide\n",
      "  scores = np.mean(np.abs(a - b) / divisor, axis=2)\n",
      "/home/zeus/miniconda3/envs/cloudspace/lib/python3.10/site-packages/autots/tools/seasonal.py:896: RuntimeWarning: invalid value encountered in divide\n",
      "  scores = np.mean(np.abs(a - b) / divisor, axis=2)\n",
      "/home/zeus/miniconda3/envs/cloudspace/lib/python3.10/site-packages/autots/tools/seasonal.py:896: RuntimeWarning: invalid value encountered in divide\n",
      "  scores = np.mean(np.abs(a - b) / divisor, axis=2)\n"
     ]
    },
    {
     "name": "stdout",
     "output_type": "stream",
     "text": [
      "prediction too long for indepedent=False, falling back on indepedent=True\n",
      "Traceback (most recent call last):\n",
      "  File \"/home/zeus/miniconda3/envs/cloudspace/lib/python3.10/site-packages/autots/evaluator/auto_model.py\", line 1430, in model_forecast\n",
      "    df_forecast = model_forecast(\n",
      "  File \"/home/zeus/miniconda3/envs/cloudspace/lib/python3.10/site-packages/autots/evaluator/auto_model.py\", line 1566, in model_forecast\n",
      "    return model.predict(\n",
      "  File \"/home/zeus/miniconda3/envs/cloudspace/lib/python3.10/site-packages/autots/evaluator/auto_model.py\", line 913, in predict\n",
      "    df_forecast = self.model.predict(\n",
      "  File \"/home/zeus/miniconda3/envs/cloudspace/lib/python3.10/site-packages/autots/models/basics.py\", line 1263, in predict\n",
      "    x = sliding_window_view(\n",
      "  File \"/home/zeus/miniconda3/envs/cloudspace/lib/python3.10/site-packages/autots/tools/window_functions.py\", line 461, in sliding_window_view\n",
      "    return np.lib.stride_tricks.sliding_window_view(\n",
      "  File \"/home/zeus/miniconda3/envs/cloudspace/lib/python3.10/site-packages/numpy/lib/stride_tricks.py\", line 332, in sliding_window_view\n",
      "    raise ValueError(\n",
      "ValueError: window shape cannot be larger than input array shape\n",
      "\n",
      "FAILED: Ensemble BestN component 4 of 3 UnivariateMotif with error: ValueError('window shape cannot be larger than input array shape')\n",
      "2 - Ensemble with avg smape 11.08: \n",
      "3 - Ensemble with avg smape 11.08: \n",
      "4 - Ensemble with avg smape 11.21: \n",
      "5 - Ensemble with avg smape 11.08: \n",
      "6 - Ensemble with avg smape 11.2: \n",
      "7 - Ensemble with avg smape 11.34: \n",
      "8 - Ensemble with avg smape 11.07: \n",
      "9 - Ensemble with avg smape 11.07: \n",
      "10 - Ensemble with avg smape 11.08: \n",
      "11 - Ensemble with avg smape 11.14: \n",
      "12 - Ensemble with avg smape 11.15: \n",
      "13 - Ensemble with avg smape 11.1: \n",
      "14 - Ensemble with avg smape 17.85: \n",
      "📈 15 - Ensemble with avg smape 10.6: \n",
      "Model Number: 16 of 176 with model Ensemble for Validation 1\n"
     ]
    },
    {
     "name": "stderr",
     "output_type": "stream",
     "text": [
      "/home/zeus/miniconda3/envs/cloudspace/lib/python3.10/site-packages/autots/tools/seasonal.py:896: RuntimeWarning: invalid value encountered in divide\n",
      "  scores = np.mean(np.abs(a - b) / divisor, axis=2)\n",
      "/home/zeus/miniconda3/envs/cloudspace/lib/python3.10/site-packages/autots/tools/seasonal.py:896: RuntimeWarning: invalid value encountered in divide\n",
      "  scores = np.mean(np.abs(a - b) / divisor, axis=2)\n",
      "/home/zeus/miniconda3/envs/cloudspace/lib/python3.10/site-packages/autots/tools/seasonal.py:896: RuntimeWarning: invalid value encountered in divide\n",
      "  scores = np.mean(np.abs(a - b) / divisor, axis=2)\n"
     ]
    },
    {
     "name": "stdout",
     "output_type": "stream",
     "text": [
      "prediction too long for indepedent=False, falling back on indepedent=True\n",
      "Traceback (most recent call last):\n",
      "  File \"/home/zeus/miniconda3/envs/cloudspace/lib/python3.10/site-packages/autots/evaluator/auto_model.py\", line 1430, in model_forecast\n",
      "    df_forecast = model_forecast(\n",
      "  File \"/home/zeus/miniconda3/envs/cloudspace/lib/python3.10/site-packages/autots/evaluator/auto_model.py\", line 1566, in model_forecast\n",
      "    return model.predict(\n",
      "  File \"/home/zeus/miniconda3/envs/cloudspace/lib/python3.10/site-packages/autots/evaluator/auto_model.py\", line 913, in predict\n",
      "    df_forecast = self.model.predict(\n",
      "  File \"/home/zeus/miniconda3/envs/cloudspace/lib/python3.10/site-packages/autots/models/basics.py\", line 1263, in predict\n",
      "    x = sliding_window_view(\n",
      "  File \"/home/zeus/miniconda3/envs/cloudspace/lib/python3.10/site-packages/autots/tools/window_functions.py\", line 461, in sliding_window_view\n",
      "    return np.lib.stride_tricks.sliding_window_view(\n",
      "  File \"/home/zeus/miniconda3/envs/cloudspace/lib/python3.10/site-packages/numpy/lib/stride_tricks.py\", line 332, in sliding_window_view\n",
      "    raise ValueError(\n",
      "ValueError: window shape cannot be larger than input array shape\n",
      "\n",
      "FAILED: Ensemble BestN component 4 of 3 UnivariateMotif with error: ValueError('window shape cannot be larger than input array shape')\n",
      "16 - Ensemble with avg smape 11.08: \n",
      "17 - Ensemble with avg smape 11.08: \n",
      "18 - Ensemble with avg smape 11.21: \n",
      "19 - Ensemble with avg smape 11.08: \n",
      "20 - Ensemble with avg smape 11.2: \n",
      "21 - Ensemble with avg smape 11.34: \n",
      "22 - Ensemble with avg smape 11.07: \n",
      "23 - Ensemble with avg smape 11.07: \n",
      "24 - Ensemble with avg smape 11.08: \n",
      "25 - Ensemble with avg smape 11.14: \n",
      "26 - Ensemble with avg smape 11.15: \n",
      "27 - Ensemble with avg smape 11.1: \n",
      "28 - Ensemble with avg smape 17.85: \n",
      "29 - Ensemble with avg smape 10.6: \n",
      "Model Number: 30 of 176 with model Ensemble for Validation 1\n"
     ]
    },
    {
     "name": "stderr",
     "output_type": "stream",
     "text": [
      "/home/zeus/miniconda3/envs/cloudspace/lib/python3.10/site-packages/autots/tools/seasonal.py:896: RuntimeWarning: invalid value encountered in divide\n",
      "  scores = np.mean(np.abs(a - b) / divisor, axis=2)\n",
      "/home/zeus/miniconda3/envs/cloudspace/lib/python3.10/site-packages/autots/tools/seasonal.py:896: RuntimeWarning: invalid value encountered in divide\n",
      "  scores = np.mean(np.abs(a - b) / divisor, axis=2)\n",
      "/home/zeus/miniconda3/envs/cloudspace/lib/python3.10/site-packages/autots/tools/seasonal.py:896: RuntimeWarning: invalid value encountered in divide\n",
      "  scores = np.mean(np.abs(a - b) / divisor, axis=2)\n"
     ]
    },
    {
     "name": "stdout",
     "output_type": "stream",
     "text": [
      "prediction too long for indepedent=False, falling back on indepedent=True\n",
      "Traceback (most recent call last):\n",
      "  File \"/home/zeus/miniconda3/envs/cloudspace/lib/python3.10/site-packages/autots/evaluator/auto_model.py\", line 1430, in model_forecast\n",
      "    df_forecast = model_forecast(\n",
      "  File \"/home/zeus/miniconda3/envs/cloudspace/lib/python3.10/site-packages/autots/evaluator/auto_model.py\", line 1566, in model_forecast\n",
      "    return model.predict(\n",
      "  File \"/home/zeus/miniconda3/envs/cloudspace/lib/python3.10/site-packages/autots/evaluator/auto_model.py\", line 913, in predict\n",
      "    df_forecast = self.model.predict(\n",
      "  File \"/home/zeus/miniconda3/envs/cloudspace/lib/python3.10/site-packages/autots/models/basics.py\", line 1263, in predict\n",
      "    x = sliding_window_view(\n",
      "  File \"/home/zeus/miniconda3/envs/cloudspace/lib/python3.10/site-packages/autots/tools/window_functions.py\", line 461, in sliding_window_view\n",
      "    return np.lib.stride_tricks.sliding_window_view(\n",
      "  File \"/home/zeus/miniconda3/envs/cloudspace/lib/python3.10/site-packages/numpy/lib/stride_tricks.py\", line 332, in sliding_window_view\n",
      "    raise ValueError(\n",
      "ValueError: window shape cannot be larger than input array shape\n",
      "\n",
      "FAILED: Ensemble BestN component 4 of 3 UnivariateMotif with error: ValueError('window shape cannot be larger than input array shape')\n",
      "30 - Ensemble with avg smape 11.07: \n",
      "31 - Ensemble with avg smape 11.07: \n",
      "32 - Ensemble with avg smape 11.21: \n",
      "33 - Ensemble with avg smape 11.07: \n",
      "34 - Ensemble with avg smape 11.2: \n",
      "35 - Ensemble with avg smape 11.34: \n",
      "36 - Ensemble with avg smape 11.07: \n",
      "37 - Ensemble with avg smape 11.07: \n",
      "38 - Ensemble with avg smape 11.07: \n",
      "39 - Ensemble with avg smape 11.14: \n",
      "40 - Ensemble with avg smape 11.15: \n",
      "41 - Ensemble with avg smape 11.1: \n",
      "42 - Ensemble with avg smape 17.85: \n",
      "43 - Ensemble with avg smape 10.6: \n",
      "Model Number: 44 of 176 with model Ensemble for Validation 1\n"
     ]
    },
    {
     "name": "stderr",
     "output_type": "stream",
     "text": [
      "/home/zeus/miniconda3/envs/cloudspace/lib/python3.10/site-packages/autots/tools/seasonal.py:896: RuntimeWarning: invalid value encountered in divide\n",
      "  scores = np.mean(np.abs(a - b) / divisor, axis=2)\n",
      "/home/zeus/miniconda3/envs/cloudspace/lib/python3.10/site-packages/autots/tools/seasonal.py:896: RuntimeWarning: invalid value encountered in divide\n",
      "  scores = np.mean(np.abs(a - b) / divisor, axis=2)\n",
      "/home/zeus/miniconda3/envs/cloudspace/lib/python3.10/site-packages/autots/tools/seasonal.py:896: RuntimeWarning: invalid value encountered in divide\n",
      "  scores = np.mean(np.abs(a - b) / divisor, axis=2)\n"
     ]
    },
    {
     "name": "stdout",
     "output_type": "stream",
     "text": [
      "prediction too long for indepedent=False, falling back on indepedent=True\n",
      "Traceback (most recent call last):\n",
      "  File \"/home/zeus/miniconda3/envs/cloudspace/lib/python3.10/site-packages/autots/evaluator/auto_model.py\", line 1430, in model_forecast\n",
      "    df_forecast = model_forecast(\n",
      "  File \"/home/zeus/miniconda3/envs/cloudspace/lib/python3.10/site-packages/autots/evaluator/auto_model.py\", line 1566, in model_forecast\n",
      "    return model.predict(\n",
      "  File \"/home/zeus/miniconda3/envs/cloudspace/lib/python3.10/site-packages/autots/evaluator/auto_model.py\", line 913, in predict\n",
      "    df_forecast = self.model.predict(\n",
      "  File \"/home/zeus/miniconda3/envs/cloudspace/lib/python3.10/site-packages/autots/models/basics.py\", line 1263, in predict\n",
      "    x = sliding_window_view(\n",
      "  File \"/home/zeus/miniconda3/envs/cloudspace/lib/python3.10/site-packages/autots/tools/window_functions.py\", line 461, in sliding_window_view\n",
      "    return np.lib.stride_tricks.sliding_window_view(\n",
      "  File \"/home/zeus/miniconda3/envs/cloudspace/lib/python3.10/site-packages/numpy/lib/stride_tricks.py\", line 332, in sliding_window_view\n",
      "    raise ValueError(\n",
      "ValueError: window shape cannot be larger than input array shape\n",
      "\n",
      "FAILED: Ensemble BestN component 4 of 3 UnivariateMotif with error: ValueError('window shape cannot be larger than input array shape')\n",
      "44 - Ensemble with avg smape 11.07: \n",
      "45 - Ensemble with avg smape 11.07: \n",
      "46 - Ensemble with avg smape 11.21: \n",
      "47 - Ensemble with avg smape 11.07: \n",
      "48 - Ensemble with avg smape 11.2: \n",
      "49 - Ensemble with avg smape 11.34: \n",
      "50 - Ensemble with avg smape 11.07: \n",
      "51 - Ensemble with avg smape 11.07: \n",
      "52 - Ensemble with avg smape 11.07: \n",
      "53 - Ensemble with avg smape 11.14: \n",
      "54 - Ensemble with avg smape 11.15: \n",
      "55 - Ensemble with avg smape 11.1: \n",
      "56 - Ensemble with avg smape 17.85: \n",
      "57 - Ensemble with avg smape 10.6: \n",
      "Model Number: 58 of 176 with model Ensemble for Validation 1\n"
     ]
    },
    {
     "name": "stderr",
     "output_type": "stream",
     "text": [
      "/home/zeus/miniconda3/envs/cloudspace/lib/python3.10/site-packages/autots/tools/seasonal.py:896: RuntimeWarning: invalid value encountered in divide\n",
      "  scores = np.mean(np.abs(a - b) / divisor, axis=2)\n",
      "/home/zeus/miniconda3/envs/cloudspace/lib/python3.10/site-packages/autots/tools/seasonal.py:896: RuntimeWarning: invalid value encountered in divide\n",
      "  scores = np.mean(np.abs(a - b) / divisor, axis=2)\n",
      "/home/zeus/miniconda3/envs/cloudspace/lib/python3.10/site-packages/autots/tools/seasonal.py:896: RuntimeWarning: invalid value encountered in divide\n",
      "  scores = np.mean(np.abs(a - b) / divisor, axis=2)\n"
     ]
    },
    {
     "name": "stdout",
     "output_type": "stream",
     "text": [
      "prediction too long for indepedent=False, falling back on indepedent=True\n",
      "Traceback (most recent call last):\n",
      "  File \"/home/zeus/miniconda3/envs/cloudspace/lib/python3.10/site-packages/autots/evaluator/auto_model.py\", line 1430, in model_forecast\n",
      "    df_forecast = model_forecast(\n",
      "  File \"/home/zeus/miniconda3/envs/cloudspace/lib/python3.10/site-packages/autots/evaluator/auto_model.py\", line 1566, in model_forecast\n",
      "    return model.predict(\n",
      "  File \"/home/zeus/miniconda3/envs/cloudspace/lib/python3.10/site-packages/autots/evaluator/auto_model.py\", line 913, in predict\n",
      "    df_forecast = self.model.predict(\n",
      "  File \"/home/zeus/miniconda3/envs/cloudspace/lib/python3.10/site-packages/autots/models/basics.py\", line 1263, in predict\n",
      "    x = sliding_window_view(\n",
      "  File \"/home/zeus/miniconda3/envs/cloudspace/lib/python3.10/site-packages/autots/tools/window_functions.py\", line 461, in sliding_window_view\n",
      "    return np.lib.stride_tricks.sliding_window_view(\n",
      "  File \"/home/zeus/miniconda3/envs/cloudspace/lib/python3.10/site-packages/numpy/lib/stride_tricks.py\", line 332, in sliding_window_view\n",
      "    raise ValueError(\n",
      "ValueError: window shape cannot be larger than input array shape\n",
      "\n",
      "FAILED: Ensemble BestN component 4 of 3 UnivariateMotif with error: ValueError('window shape cannot be larger than input array shape')\n",
      "58 - Ensemble with avg smape 11.07: \n",
      "59 - Ensemble with avg smape 11.07: \n",
      "60 - Ensemble with avg smape 11.21: \n",
      "61 - Ensemble with avg smape 11.07: \n",
      "62 - Ensemble with avg smape 11.2: \n",
      "63 - Ensemble with avg smape 11.34: \n",
      "64 - Ensemble with avg smape 11.07: \n",
      "65 - Ensemble with avg smape 11.07: \n",
      "66 - Ensemble with avg smape 11.07: \n",
      "67 - Ensemble with avg smape 11.14: \n",
      "68 - Ensemble with avg smape 11.15: \n",
      "69 - Ensemble with avg smape 11.1: \n",
      "70 - Ensemble with avg smape 17.85: \n",
      "71 - Ensemble with avg smape 10.6: \n",
      "Model Number: 72 of 176 with model Ensemble for Validation 1\n"
     ]
    },
    {
     "name": "stderr",
     "output_type": "stream",
     "text": [
      "/home/zeus/miniconda3/envs/cloudspace/lib/python3.10/site-packages/autots/tools/seasonal.py:896: RuntimeWarning: invalid value encountered in divide\n",
      "  scores = np.mean(np.abs(a - b) / divisor, axis=2)\n",
      "/home/zeus/miniconda3/envs/cloudspace/lib/python3.10/site-packages/autots/tools/seasonal.py:896: RuntimeWarning: invalid value encountered in divide\n",
      "  scores = np.mean(np.abs(a - b) / divisor, axis=2)\n",
      "/home/zeus/miniconda3/envs/cloudspace/lib/python3.10/site-packages/autots/tools/seasonal.py:896: RuntimeWarning: invalid value encountered in divide\n",
      "  scores = np.mean(np.abs(a - b) / divisor, axis=2)\n"
     ]
    },
    {
     "name": "stdout",
     "output_type": "stream",
     "text": [
      "prediction too long for indepedent=False, falling back on indepedent=True\n",
      "Traceback (most recent call last):\n",
      "  File \"/home/zeus/miniconda3/envs/cloudspace/lib/python3.10/site-packages/autots/evaluator/auto_model.py\", line 1430, in model_forecast\n",
      "    df_forecast = model_forecast(\n",
      "  File \"/home/zeus/miniconda3/envs/cloudspace/lib/python3.10/site-packages/autots/evaluator/auto_model.py\", line 1566, in model_forecast\n",
      "    return model.predict(\n",
      "  File \"/home/zeus/miniconda3/envs/cloudspace/lib/python3.10/site-packages/autots/evaluator/auto_model.py\", line 913, in predict\n",
      "    df_forecast = self.model.predict(\n",
      "  File \"/home/zeus/miniconda3/envs/cloudspace/lib/python3.10/site-packages/autots/models/basics.py\", line 1263, in predict\n",
      "    x = sliding_window_view(\n",
      "  File \"/home/zeus/miniconda3/envs/cloudspace/lib/python3.10/site-packages/autots/tools/window_functions.py\", line 461, in sliding_window_view\n",
      "    return np.lib.stride_tricks.sliding_window_view(\n",
      "  File \"/home/zeus/miniconda3/envs/cloudspace/lib/python3.10/site-packages/numpy/lib/stride_tricks.py\", line 332, in sliding_window_view\n",
      "    raise ValueError(\n",
      "ValueError: window shape cannot be larger than input array shape\n",
      "\n",
      "FAILED: Ensemble BestN component 4 of 3 UnivariateMotif with error: ValueError('window shape cannot be larger than input array shape')\n",
      "72 - Ensemble with avg smape 11.07: \n",
      "73 - Ensemble with avg smape 11.07: \n",
      "74 - Ensemble with avg smape 11.21: \n",
      "75 - Ensemble with avg smape 11.07: \n",
      "76 - Ensemble with avg smape 11.2: \n",
      "77 - Ensemble with avg smape 11.34: \n",
      "78 - Ensemble with avg smape 11.07: \n",
      "79 - Ensemble with avg smape 11.07: \n",
      "80 - Ensemble with avg smape 11.07: \n",
      "81 - Ensemble with avg smape 11.14: \n",
      "82 - Ensemble with avg smape 11.15: \n",
      "83 - Ensemble with avg smape 11.1: \n",
      "84 - Ensemble with avg smape 17.85: \n",
      "85 - Ensemble with avg smape 10.6: \n",
      "Model Number: 86 of 176 with model Ensemble for Validation 1\n"
     ]
    },
    {
     "name": "stderr",
     "output_type": "stream",
     "text": [
      "/home/zeus/miniconda3/envs/cloudspace/lib/python3.10/site-packages/autots/tools/seasonal.py:896: RuntimeWarning: invalid value encountered in divide\n",
      "  scores = np.mean(np.abs(a - b) / divisor, axis=2)\n",
      "/home/zeus/miniconda3/envs/cloudspace/lib/python3.10/site-packages/autots/tools/seasonal.py:896: RuntimeWarning: invalid value encountered in divide\n",
      "  scores = np.mean(np.abs(a - b) / divisor, axis=2)\n",
      "/home/zeus/miniconda3/envs/cloudspace/lib/python3.10/site-packages/autots/tools/seasonal.py:896: RuntimeWarning: invalid value encountered in divide\n",
      "  scores = np.mean(np.abs(a - b) / divisor, axis=2)\n"
     ]
    },
    {
     "name": "stdout",
     "output_type": "stream",
     "text": [
      "prediction too long for indepedent=False, falling back on indepedent=True\n",
      "Traceback (most recent call last):\n",
      "  File \"/home/zeus/miniconda3/envs/cloudspace/lib/python3.10/site-packages/autots/evaluator/auto_model.py\", line 1430, in model_forecast\n",
      "    df_forecast = model_forecast(\n",
      "  File \"/home/zeus/miniconda3/envs/cloudspace/lib/python3.10/site-packages/autots/evaluator/auto_model.py\", line 1566, in model_forecast\n",
      "    return model.predict(\n",
      "  File \"/home/zeus/miniconda3/envs/cloudspace/lib/python3.10/site-packages/autots/evaluator/auto_model.py\", line 913, in predict\n",
      "    df_forecast = self.model.predict(\n",
      "  File \"/home/zeus/miniconda3/envs/cloudspace/lib/python3.10/site-packages/autots/models/basics.py\", line 1263, in predict\n",
      "    x = sliding_window_view(\n",
      "  File \"/home/zeus/miniconda3/envs/cloudspace/lib/python3.10/site-packages/autots/tools/window_functions.py\", line 461, in sliding_window_view\n",
      "    return np.lib.stride_tricks.sliding_window_view(\n",
      "  File \"/home/zeus/miniconda3/envs/cloudspace/lib/python3.10/site-packages/numpy/lib/stride_tricks.py\", line 332, in sliding_window_view\n",
      "    raise ValueError(\n",
      "ValueError: window shape cannot be larger than input array shape\n",
      "\n",
      "FAILED: Ensemble BestN component 4 of 3 UnivariateMotif with error: ValueError('window shape cannot be larger than input array shape')\n",
      "86 - Ensemble with avg smape 11.07: \n",
      "87 - Ensemble with avg smape 11.07: \n",
      "88 - Ensemble with avg smape 11.21: \n",
      "89 - Ensemble with avg smape 11.07: \n",
      "90 - Ensemble with avg smape 11.2: \n",
      "91 - Ensemble with avg smape 11.34: \n",
      "92 - Ensemble with avg smape 11.07: \n",
      "93 - Ensemble with avg smape 11.07: \n",
      "94 - Ensemble with avg smape 11.07: \n",
      "95 - Ensemble with avg smape 11.14: \n",
      "96 - Ensemble with avg smape 11.15: \n",
      "97 - Ensemble with avg smape 11.1: \n",
      "98 - Ensemble with avg smape 17.85: \n",
      "99 - Ensemble with avg smape 10.6: \n",
      "Model Number: 100 of 176 with model Ensemble for Validation 1\n"
     ]
    },
    {
     "name": "stderr",
     "output_type": "stream",
     "text": [
      "/home/zeus/miniconda3/envs/cloudspace/lib/python3.10/site-packages/autots/tools/seasonal.py:896: RuntimeWarning: invalid value encountered in divide\n",
      "  scores = np.mean(np.abs(a - b) / divisor, axis=2)\n",
      "/home/zeus/miniconda3/envs/cloudspace/lib/python3.10/site-packages/autots/tools/seasonal.py:896: RuntimeWarning: invalid value encountered in divide\n",
      "  scores = np.mean(np.abs(a - b) / divisor, axis=2)\n",
      "/home/zeus/miniconda3/envs/cloudspace/lib/python3.10/site-packages/autots/tools/seasonal.py:896: RuntimeWarning: invalid value encountered in divide\n",
      "  scores = np.mean(np.abs(a - b) / divisor, axis=2)\n"
     ]
    },
    {
     "name": "stdout",
     "output_type": "stream",
     "text": [
      "prediction too long for indepedent=False, falling back on indepedent=True\n",
      "Traceback (most recent call last):\n",
      "  File \"/home/zeus/miniconda3/envs/cloudspace/lib/python3.10/site-packages/autots/evaluator/auto_model.py\", line 1430, in model_forecast\n",
      "    df_forecast = model_forecast(\n",
      "  File \"/home/zeus/miniconda3/envs/cloudspace/lib/python3.10/site-packages/autots/evaluator/auto_model.py\", line 1566, in model_forecast\n",
      "    return model.predict(\n",
      "  File \"/home/zeus/miniconda3/envs/cloudspace/lib/python3.10/site-packages/autots/evaluator/auto_model.py\", line 913, in predict\n",
      "    df_forecast = self.model.predict(\n",
      "  File \"/home/zeus/miniconda3/envs/cloudspace/lib/python3.10/site-packages/autots/models/basics.py\", line 1263, in predict\n",
      "    x = sliding_window_view(\n",
      "  File \"/home/zeus/miniconda3/envs/cloudspace/lib/python3.10/site-packages/autots/tools/window_functions.py\", line 461, in sliding_window_view\n",
      "    return np.lib.stride_tricks.sliding_window_view(\n",
      "  File \"/home/zeus/miniconda3/envs/cloudspace/lib/python3.10/site-packages/numpy/lib/stride_tricks.py\", line 332, in sliding_window_view\n",
      "    raise ValueError(\n",
      "ValueError: window shape cannot be larger than input array shape\n",
      "\n",
      "FAILED: Ensemble BestN component 4 of 3 UnivariateMotif with error: ValueError('window shape cannot be larger than input array shape')\n",
      "100 - Ensemble with avg smape 11.07: \n",
      "101 - Ensemble with avg smape 11.07: \n",
      "102 - Ensemble with avg smape 11.21: \n",
      "103 - Ensemble with avg smape 11.07: \n",
      "104 - Ensemble with avg smape 11.2: \n",
      "105 - Ensemble with avg smape 11.34: \n",
      "106 - Ensemble with avg smape 11.07: \n",
      "107 - Ensemble with avg smape 11.07: \n",
      "108 - Ensemble with avg smape 11.07: \n",
      "109 - Ensemble with avg smape 11.14: \n",
      "110 - Ensemble with avg smape 11.15: \n",
      "111 - Ensemble with avg smape 11.1: \n",
      "112 - Ensemble with avg smape 17.85: \n",
      "113 - Ensemble with avg smape 10.6: \n",
      "Model Number: 114 of 176 with model SeasonalityMotif for Validation 1\n",
      "prediction too long for indepedent=False, falling back on indepedent=True\n",
      "114 - SeasonalityMotif with avg smape 11.08: \n",
      "Model Number: 115 of 176 with model Ensemble for Validation 1\n"
     ]
    },
    {
     "name": "stderr",
     "output_type": "stream",
     "text": [
      "/home/zeus/miniconda3/envs/cloudspace/lib/python3.10/site-packages/autots/tools/seasonal.py:896: RuntimeWarning: invalid value encountered in divide\n",
      "  scores = np.mean(np.abs(a - b) / divisor, axis=2)\n",
      "/home/zeus/miniconda3/envs/cloudspace/lib/python3.10/site-packages/autots/tools/seasonal.py:896: RuntimeWarning: invalid value encountered in divide\n",
      "  scores = np.mean(np.abs(a - b) / divisor, axis=2)\n",
      "/home/zeus/miniconda3/envs/cloudspace/lib/python3.10/site-packages/autots/tools/seasonal.py:896: RuntimeWarning: invalid value encountered in divide\n",
      "  scores = np.mean(np.abs(a - b) / divisor, axis=2)\n"
     ]
    },
    {
     "name": "stdout",
     "output_type": "stream",
     "text": [
      "prediction too long for indepedent=False, falling back on indepedent=True\n",
      "Traceback (most recent call last):\n",
      "  File \"/home/zeus/miniconda3/envs/cloudspace/lib/python3.10/site-packages/autots/evaluator/auto_model.py\", line 1430, in model_forecast\n",
      "    df_forecast = model_forecast(\n",
      "  File \"/home/zeus/miniconda3/envs/cloudspace/lib/python3.10/site-packages/autots/evaluator/auto_model.py\", line 1566, in model_forecast\n",
      "    return model.predict(\n",
      "  File \"/home/zeus/miniconda3/envs/cloudspace/lib/python3.10/site-packages/autots/evaluator/auto_model.py\", line 913, in predict\n",
      "    df_forecast = self.model.predict(\n",
      "  File \"/home/zeus/miniconda3/envs/cloudspace/lib/python3.10/site-packages/autots/models/basics.py\", line 1263, in predict\n",
      "    x = sliding_window_view(\n",
      "  File \"/home/zeus/miniconda3/envs/cloudspace/lib/python3.10/site-packages/autots/tools/window_functions.py\", line 461, in sliding_window_view\n",
      "    return np.lib.stride_tricks.sliding_window_view(\n",
      "  File \"/home/zeus/miniconda3/envs/cloudspace/lib/python3.10/site-packages/numpy/lib/stride_tricks.py\", line 332, in sliding_window_view\n",
      "    raise ValueError(\n",
      "ValueError: window shape cannot be larger than input array shape\n",
      "\n",
      "FAILED: Ensemble BestN component 4 of 5 UnivariateMotif with error: ValueError('window shape cannot be larger than input array shape')\n",
      "Traceback (most recent call last):\n",
      "  File \"/home/zeus/miniconda3/envs/cloudspace/lib/python3.10/site-packages/autots/evaluator/auto_model.py\", line 1430, in model_forecast\n",
      "    df_forecast = model_forecast(\n",
      "  File \"/home/zeus/miniconda3/envs/cloudspace/lib/python3.10/site-packages/autots/evaluator/auto_model.py\", line 1566, in model_forecast\n",
      "    return model.predict(\n",
      "  File \"/home/zeus/miniconda3/envs/cloudspace/lib/python3.10/site-packages/autots/evaluator/auto_model.py\", line 913, in predict\n",
      "    df_forecast = self.model.predict(\n",
      "  File \"/home/zeus/miniconda3/envs/cloudspace/lib/python3.10/site-packages/autots/models/basics.py\", line 1263, in predict\n",
      "    x = sliding_window_view(\n",
      "  File \"/home/zeus/miniconda3/envs/cloudspace/lib/python3.10/site-packages/autots/tools/window_functions.py\", line 461, in sliding_window_view\n",
      "    return np.lib.stride_tricks.sliding_window_view(\n",
      "  File \"/home/zeus/miniconda3/envs/cloudspace/lib/python3.10/site-packages/numpy/lib/stride_tricks.py\", line 332, in sliding_window_view\n",
      "    raise ValueError(\n",
      "ValueError: window shape cannot be larger than input array shape\n",
      "\n",
      "FAILED: Ensemble BestN component 5 of 5 UnivariateMotif with error: ValueError('window shape cannot be larger than input array shape')\n",
      "115 - Ensemble with avg smape 11.08: \n",
      "116 - Ensemble with avg smape 11.08: \n",
      "117 - Ensemble with avg smape 11.21: \n",
      "118 - Ensemble with avg smape 11.08: \n",
      "119 - Ensemble with avg smape 11.2: \n",
      "120 - Ensemble with avg smape 11.34: \n",
      "121 - Ensemble with avg smape 11.07: \n",
      "122 - Ensemble with avg smape 11.07: \n",
      "123 - Ensemble with avg smape 11.08: \n",
      "124 - Ensemble with avg smape 11.14: \n",
      "125 - Ensemble with avg smape 11.15: \n",
      "126 - Ensemble with avg smape 11.1: \n",
      "127 - Ensemble with avg smape 17.85: \n",
      "128 - Ensemble with avg smape 10.6: \n",
      "Model Number: 129 of 176 with model Ensemble for Validation 1\n"
     ]
    },
    {
     "name": "stderr",
     "output_type": "stream",
     "text": [
      "/home/zeus/miniconda3/envs/cloudspace/lib/python3.10/site-packages/autots/tools/seasonal.py:896: RuntimeWarning: invalid value encountered in divide\n",
      "  scores = np.mean(np.abs(a - b) / divisor, axis=2)\n",
      "/home/zeus/miniconda3/envs/cloudspace/lib/python3.10/site-packages/autots/tools/seasonal.py:896: RuntimeWarning: invalid value encountered in divide\n",
      "  scores = np.mean(np.abs(a - b) / divisor, axis=2)\n",
      "/home/zeus/miniconda3/envs/cloudspace/lib/python3.10/site-packages/autots/tools/seasonal.py:896: RuntimeWarning: invalid value encountered in divide\n",
      "  scores = np.mean(np.abs(a - b) / divisor, axis=2)\n"
     ]
    },
    {
     "name": "stdout",
     "output_type": "stream",
     "text": [
      "prediction too long for indepedent=False, falling back on indepedent=True\n",
      "Traceback (most recent call last):\n",
      "  File \"/home/zeus/miniconda3/envs/cloudspace/lib/python3.10/site-packages/autots/evaluator/auto_model.py\", line 1430, in model_forecast\n",
      "    df_forecast = model_forecast(\n",
      "  File \"/home/zeus/miniconda3/envs/cloudspace/lib/python3.10/site-packages/autots/evaluator/auto_model.py\", line 1566, in model_forecast\n",
      "    return model.predict(\n",
      "  File \"/home/zeus/miniconda3/envs/cloudspace/lib/python3.10/site-packages/autots/evaluator/auto_model.py\", line 913, in predict\n",
      "    df_forecast = self.model.predict(\n",
      "  File \"/home/zeus/miniconda3/envs/cloudspace/lib/python3.10/site-packages/autots/models/basics.py\", line 1263, in predict\n",
      "    x = sliding_window_view(\n",
      "  File \"/home/zeus/miniconda3/envs/cloudspace/lib/python3.10/site-packages/autots/tools/window_functions.py\", line 461, in sliding_window_view\n",
      "    return np.lib.stride_tricks.sliding_window_view(\n",
      "  File \"/home/zeus/miniconda3/envs/cloudspace/lib/python3.10/site-packages/numpy/lib/stride_tricks.py\", line 332, in sliding_window_view\n",
      "    raise ValueError(\n",
      "ValueError: window shape cannot be larger than input array shape\n",
      "\n",
      "FAILED: Ensemble BestN component 4 of 5 UnivariateMotif with error: ValueError('window shape cannot be larger than input array shape')\n",
      "129 - Ensemble with avg smape 12.91: \n",
      "130 - Ensemble with avg smape 12.9: \n",
      "131 - Ensemble with avg smape 12.99: \n",
      "132 - Ensemble with avg smape 12.83: \n",
      "133 - Ensemble with avg smape 11.2: \n",
      "134 - Ensemble with avg smape 11.34: \n",
      "135 - Ensemble with avg smape 11.62: \n",
      "136 - Ensemble with avg smape 12.38: \n",
      "137 - Ensemble with avg smape 12.18: \n",
      "138 - Ensemble with avg smape 11.67: \n",
      "139 - Ensemble with avg smape 12.92: \n",
      "140 - Ensemble with avg smape 12.93: \n",
      "141 - Ensemble with avg smape 16.97: \n",
      "142 - Ensemble with avg smape 11.47: \n",
      "Model Number: 143 of 176 with model UnivariateMotif for Validation 1\n",
      "Template Eval Error: ValueError('window shape cannot be larger than input array shape') in model 143 in generation 0: UnivariateMotif\n",
      "Model Number: 144 of 176 with model UnivariateMotif for Validation 1\n",
      "Template Eval Error: ValueError('window shape cannot be larger than input array shape') in model 144 in generation 0: UnivariateMotif\n",
      "Model Number: 145 of 176 with model ARDL for Validation 1\n",
      "145 - ARDL with avg smape 27.1: \n",
      "Model Number: 146 of 176 with model ARDL for Validation 1\n",
      "146 - ARDL with avg smape 28.44: \n",
      "Model Number: 147 of 176 with model ARDL for Validation 1\n",
      "147 - ARDL with avg smape 11.96: \n",
      "Model Number: 148 of 176 with model MetricMotif for Validation 1\n",
      "148 - MetricMotif with avg smape 11.08: \n",
      "Model Number: 149 of 176 with model AverageValueNaive for Validation 1\n",
      "149 - AverageValueNaive with avg smape 10.78: \n",
      "Model Number: 150 of 176 with model AverageValueNaive for Validation 1\n",
      "150 - AverageValueNaive with avg smape 10.78: \n",
      "Model Number: 151 of 176 with model AverageValueNaive for Validation 1\n",
      "151 - AverageValueNaive with avg smape 10.78: \n",
      "Model Number: 152 of 176 with model AverageValueNaive for Validation 1\n",
      "152 - AverageValueNaive with avg smape 10.78: \n",
      "Model Number: 153 of 176 with model AverageValueNaive for Validation 1\n",
      "153 - AverageValueNaive with avg smape 10.78: \n",
      "Model Number: 154 of 176 with model ETS for Validation 1\n",
      "154 - ETS with avg smape 10.8: \n",
      "Model Number: 155 of 176 with model ETS for Validation 1\n",
      "📈 155 - ETS with avg smape 10.36: \n",
      "Model Number: 156 of 176 with model ETS for Validation 1\n",
      "156 - ETS with avg smape 10.37: \n",
      "Model Number: 157 of 176 with model ETS for Validation 1\n",
      "157 - ETS with avg smape 10.37: \n",
      "Model Number: 158 of 176 with model ETS for Validation 1\n",
      "158 - ETS with avg smape 10.36: \n",
      "Model Number: 159 of 176 with model AverageValueNaive for Validation 1\n",
      "159 - AverageValueNaive with avg smape 10.42: \n",
      "Model Number: 160 of 176 with model ConstantNaive for Validation 1\n",
      "160 - ConstantNaive with avg smape 11.08: \n",
      "Model Number: 161 of 176 with model AverageValueNaive for Validation 1\n",
      "161 - AverageValueNaive with avg smape 10.48: \n",
      "Model Number: 162 of 176 with model ConstantNaive for Validation 1\n",
      "162 - ConstantNaive with avg smape 11.38: \n",
      "Model Number: 163 of 176 with model AverageValueNaive for Validation 1\n",
      "163 - AverageValueNaive with avg smape 10.45: \n",
      "Model Number: 164 of 176 with model ETS for Validation 1\n",
      "164 - ETS with avg smape 10.4: \n",
      "Model Number: 165 of 176 with model ETS for Validation 1\n",
      "165 - ETS with avg smape 10.53: \n",
      "Model Number: 166 of 176 with model ETS for Validation 1\n",
      "166 - ETS with avg smape 10.53: \n",
      "Model Number: 167 of 176 with model AverageValueNaive for Validation 1\n",
      "167 - AverageValueNaive with avg smape 11.24: \n",
      "Model Number: 168 of 176 with model GLM for Validation 1\n"
     ]
    },
    {
     "name": "stderr",
     "output_type": "stream",
     "text": [
      "/home/zeus/miniconda3/envs/cloudspace/lib/python3.10/site-packages/statsmodels/genmod/families/family.py:1367: ValueWarning: Negative binomial dispersion parameter alpha not set. Using default value alpha=1.0.\n",
      "  warnings.warn(\"Negative binomial dispersion parameter alpha not \"\n"
     ]
    },
    {
     "name": "stdout",
     "output_type": "stream",
     "text": [
      "168 - GLM with avg smape 11.24: \n",
      "Model Number: 169 of 176 with model GLM for Validation 1\n",
      "169 - GLM with avg smape 11.24: \n",
      "Model Number: 170 of 176 with model SeasonalNaive for Validation 1\n",
      "170 - SeasonalNaive with avg smape 11.25: \n",
      "Model Number: 171 of 176 with model SeasonalNaive for Validation 1\n",
      "171 - SeasonalNaive with avg smape 11.25: \n",
      "Model Number: 172 of 176 with model SeasonalNaive for Validation 1\n",
      "172 - SeasonalNaive with avg smape 11.25: \n",
      "Model Number: 173 of 176 with model SeasonalNaive for Validation 1\n",
      "173 - SeasonalNaive with avg smape 11.24: \n",
      "Model Number: 174 of 176 with model SeasonalNaive for Validation 1\n",
      "174 - SeasonalNaive with avg smape 11.25: \n",
      "Model Number: 175 of 176 with model SeasonalNaive for Validation 1\n",
      "175 - SeasonalNaive with avg smape 11.24: \n",
      "Model Number: 176 of 176 with model SeasonalNaive for Validation 1\n",
      "176 - SeasonalNaive with avg smape 11.25: \n",
      "Model Number: 177 of 176 with model SeasonalNaive for Validation 1\n",
      "177 - SeasonalNaive with avg smape 11.25: \n",
      "Model Number: 178 of 176 with model SeasonalNaive for Validation 1\n",
      "178 - SeasonalNaive with avg smape 11.25: \n",
      "Model Number: 179 of 176 with model SeasonalNaive for Validation 1\n",
      "179 - SeasonalNaive with avg smape 11.2: \n",
      "Model Number: 180 of 176 with model GLM for Validation 1\n",
      "180 - GLM with avg smape 10.37: \n",
      "Model Number: 181 of 176 with model GLM for Validation 1\n"
     ]
    },
    {
     "name": "stderr",
     "output_type": "stream",
     "text": [
      "/home/zeus/miniconda3/envs/cloudspace/lib/python3.10/site-packages/statsmodels/genmod/generalized_linear_model.py:1342: PerfectSeparationWarning: Perfect separation or prediction detected, parameter may not be identified\n",
      "  warnings.warn(msg, category=PerfectSeparationWarning)\n",
      "/home/zeus/miniconda3/envs/cloudspace/lib/python3.10/site-packages/statsmodels/genmod/generalized_linear_model.py:1342: PerfectSeparationWarning: Perfect separation or prediction detected, parameter may not be identified\n",
      "  warnings.warn(msg, category=PerfectSeparationWarning)\n",
      "/home/zeus/miniconda3/envs/cloudspace/lib/python3.10/site-packages/statsmodels/genmod/generalized_linear_model.py:1342: PerfectSeparationWarning: Perfect separation or prediction detected, parameter may not be identified\n",
      "  warnings.warn(msg, category=PerfectSeparationWarning)\n",
      "/home/zeus/miniconda3/envs/cloudspace/lib/python3.10/site-packages/statsmodels/genmod/generalized_linear_model.py:1342: PerfectSeparationWarning: Perfect separation or prediction detected, parameter may not be identified\n",
      "  warnings.warn(msg, category=PerfectSeparationWarning)\n",
      "/home/zeus/miniconda3/envs/cloudspace/lib/python3.10/site-packages/statsmodels/genmod/generalized_linear_model.py:1342: PerfectSeparationWarning: Perfect separation or prediction detected, parameter may not be identified\n",
      "  warnings.warn(msg, category=PerfectSeparationWarning)\n",
      "/home/zeus/miniconda3/envs/cloudspace/lib/python3.10/site-packages/statsmodels/genmod/families/family.py:1367: ValueWarning: Negative binomial dispersion parameter alpha not set. Using default value alpha=1.0.\n",
      "  warnings.warn(\"Negative binomial dispersion parameter alpha not \"\n",
      "/home/zeus/miniconda3/envs/cloudspace/lib/python3.10/site-packages/statsmodels/genmod/generalized_linear_model.py:1342: PerfectSeparationWarning: Perfect separation or prediction detected, parameter may not be identified\n",
      "  warnings.warn(msg, category=PerfectSeparationWarning)\n",
      "/home/zeus/miniconda3/envs/cloudspace/lib/python3.10/site-packages/statsmodels/genmod/families/family.py:1367: ValueWarning: Negative binomial dispersion parameter alpha not set. Using default value alpha=1.0.\n",
      "  warnings.warn(\"Negative binomial dispersion parameter alpha not \"\n",
      "/home/zeus/miniconda3/envs/cloudspace/lib/python3.10/site-packages/statsmodels/genmod/generalized_linear_model.py:1342: PerfectSeparationWarning: Perfect separation or prediction detected, parameter may not be identified\n",
      "  warnings.warn(msg, category=PerfectSeparationWarning)\n"
     ]
    },
    {
     "name": "stdout",
     "output_type": "stream",
     "text": [
      "181 - GLM with avg smape 10.37: \n",
      "Model Number: 182 of 176 with model GLM for Validation 1\n",
      "182 - GLM with avg smape 10.37: \n",
      "Model Number: 183 of 176 with model ConstantNaive for Validation 1\n",
      "183 - ConstantNaive with avg smape 10.82: \n",
      "Model Number: 184 of 176 with model ETS for Validation 1\n",
      "184 - ETS with avg smape 11.08: \n",
      "Model Number: 185 of 176 with model LastValueNaive for Validation 1\n",
      "185 - LastValueNaive with avg smape 11.08: \n",
      "Model Number: 186 of 176 with model LastValueNaive for Validation 1\n",
      "186 - LastValueNaive with avg smape 11.08: \n",
      "Model Number: 187 of 176 with model ConstantNaive for Validation 1\n",
      "187 - ConstantNaive with avg smape 10.88: \n",
      "Model Number: 188 of 176 with model AverageValueNaive for Validation 1\n",
      "188 - AverageValueNaive with avg smape 10.38: \n",
      "Model Number: 189 of 176 with model MetricMotif for Validation 1\n",
      "189 - MetricMotif with avg smape 11.17: \n",
      "Model Number: 190 of 176 with model ETS for Validation 1\n",
      "190 - ETS with avg smape 10.89: \n",
      "Model Number: 191 of 176 with model SeasonalityMotif for Validation 1\n",
      "prediction too long for indepedent=False, falling back on indepedent=True\n",
      "191 - SeasonalityMotif with avg smape 11.19: \n",
      "Model Number: 192 of 176 with model SeasonalityMotif for Validation 1\n",
      "prediction too long for indepedent=False, falling back on indepedent=True\n",
      "192 - SeasonalityMotif with avg smape 11.19: \n",
      "Model Number: 193 of 176 with model SeasonalityMotif for Validation 1\n",
      "prediction too long for indepedent=False, falling back on indepedent=True\n",
      "193 - SeasonalityMotif with avg smape 11.19: \n",
      "Model Number: 194 of 176 with model ConstantNaive for Validation 1\n",
      "194 - ConstantNaive with avg smape 11.2: \n",
      "Model Number: 195 of 176 with model ConstantNaive for Validation 1\n",
      "195 - ConstantNaive with avg smape 11.2: \n",
      "Model Number: 196 of 176 with model ConstantNaive for Validation 1\n",
      "196 - ConstantNaive with avg smape 11.2: \n",
      "Model Number: 197 of 176 with model ConstantNaive for Validation 1\n",
      "197 - ConstantNaive with avg smape 11.2: \n",
      "Model Number: 198 of 176 with model SeasonalityMotif for Validation 1\n",
      "prediction too long for indepedent=False, falling back on indepedent=True\n",
      "198 - SeasonalityMotif with avg smape 11.08: \n",
      "Model Number: 199 of 176 with model SeasonalityMotif for Validation 1\n",
      "prediction too long for indepedent=False, falling back on indepedent=True\n",
      "199 - SeasonalityMotif with avg smape 11.08: \n",
      "Model Number: 200 of 176 with model SeasonalityMotif for Validation 1\n",
      "prediction too long for indepedent=False, falling back on indepedent=True\n",
      "200 - SeasonalityMotif with avg smape 11.13: \n",
      "Model Number: 201 of 176 with model SeasonalityMotif for Validation 1\n",
      "prediction too long for indepedent=False, falling back on indepedent=True\n",
      "201 - SeasonalityMotif with avg smape 11.13: \n",
      "Model Number: 202 of 176 with model MetricMotif for Validation 1\n",
      "202 - MetricMotif with avg smape 11.14: \n",
      "Model Number: 203 of 176 with model MetricMotif for Validation 1\n",
      "203 - MetricMotif with avg smape 11.14: \n",
      "Model Number: 204 of 176 with model MetricMotif for Validation 1\n",
      "204 - MetricMotif with avg smape 11.08: \n",
      "Model Number: 205 of 176 with model MetricMotif for Validation 1\n",
      "205 - MetricMotif with avg smape 11.08: \n",
      "Model Number: 206 of 176 with model SeasonalityMotif for Validation 1\n",
      "prediction too long for indepedent=False, falling back on indepedent=True\n",
      "206 - SeasonalityMotif with avg smape 11.08: \n",
      "Model Number: 207 of 176 with model MetricMotif for Validation 1\n",
      "207 - MetricMotif with avg smape 11.09: \n",
      "Model Number: 208 of 176 with model MetricMotif for Validation 1\n",
      "208 - MetricMotif with avg smape 11.09: \n",
      "Model Number: 209 of 176 with model MetricMotif for Validation 1\n",
      "209 - MetricMotif with avg smape 11.09: \n",
      "Model Number: 210 of 176 with model MetricMotif for Validation 1\n",
      "210 - MetricMotif with avg smape 11.09: \n",
      "Model Number: 211 of 176 with model ConstantNaive for Validation 1\n",
      "211 - ConstantNaive with avg smape 200.0: \n",
      "Model Number: 212 of 176 with model ConstantNaive for Validation 1\n"
     ]
    },
    {
     "name": "stderr",
     "output_type": "stream",
     "text": [
      "/home/zeus/miniconda3/envs/cloudspace/lib/python3.10/site-packages/autots/tools/percentile.py:47: RuntimeWarning: All-NaN slice encountered\n",
      "  max_val = np.nanmax(arr)\n",
      "/home/zeus/miniconda3/envs/cloudspace/lib/python3.10/site-packages/autots/tools/percentile.py:47: RuntimeWarning: All-NaN slice encountered\n",
      "  max_val = np.nanmax(arr)\n"
     ]
    },
    {
     "name": "stdout",
     "output_type": "stream",
     "text": [
      "212 - ConstantNaive with avg smape 200.0: \n",
      "Model Number: 213 of 176 with model SeasonalityMotif for Validation 1\n",
      "prediction too long for indepedent=False, falling back on indepedent=True\n",
      "213 - SeasonalityMotif with avg smape 11.19: \n",
      "Model Number: 214 of 176 with model LastValueNaive for Validation 1\n",
      "214 - LastValueNaive with avg smape 11.08: \n",
      "Model Number: 215 of 176 with model LastValueNaive for Validation 1\n",
      "215 - LastValueNaive with avg smape 11.08: \n",
      "Model Number: 216 of 176 with model ARDL for Validation 1\n",
      "216 - ARDL with avg smape 11.08: \n",
      "Model Number: 217 of 176 with model GLM for Validation 1\n",
      "217 - GLM with avg smape 10.51: \n",
      "Model Number: 218 of 176 with model GLM for Validation 1\n"
     ]
    },
    {
     "name": "stderr",
     "output_type": "stream",
     "text": [
      "/home/zeus/miniconda3/envs/cloudspace/lib/python3.10/site-packages/statsmodels/genmod/generalized_linear_model.py:1342: PerfectSeparationWarning: Perfect separation or prediction detected, parameter may not be identified\n",
      "  warnings.warn(msg, category=PerfectSeparationWarning)\n",
      "/home/zeus/miniconda3/envs/cloudspace/lib/python3.10/site-packages/statsmodels/genmod/generalized_linear_model.py:1342: PerfectSeparationWarning: Perfect separation or prediction detected, parameter may not be identified\n",
      "  warnings.warn(msg, category=PerfectSeparationWarning)\n",
      "/home/zeus/miniconda3/envs/cloudspace/lib/python3.10/site-packages/statsmodels/genmod/generalized_linear_model.py:1342: PerfectSeparationWarning: Perfect separation or prediction detected, parameter may not be identified\n",
      "  warnings.warn(msg, category=PerfectSeparationWarning)\n",
      "/home/zeus/miniconda3/envs/cloudspace/lib/python3.10/site-packages/statsmodels/genmod/generalized_linear_model.py:1342: PerfectSeparationWarning: Perfect separation or prediction detected, parameter may not be identified\n",
      "  warnings.warn(msg, category=PerfectSeparationWarning)\n",
      "/home/zeus/miniconda3/envs/cloudspace/lib/python3.10/site-packages/statsmodels/genmod/generalized_linear_model.py:1342: PerfectSeparationWarning: Perfect separation or prediction detected, parameter may not be identified\n",
      "  warnings.warn(msg, category=PerfectSeparationWarning)\n",
      "/home/zeus/miniconda3/envs/cloudspace/lib/python3.10/site-packages/statsmodels/genmod/generalized_linear_model.py:1342: PerfectSeparationWarning: Perfect separation or prediction detected, parameter may not be identified\n",
      "  warnings.warn(msg, category=PerfectSeparationWarning)\n",
      "/home/zeus/miniconda3/envs/cloudspace/lib/python3.10/site-packages/statsmodels/genmod/generalized_linear_model.py:1342: PerfectSeparationWarning: Perfect separation or prediction detected, parameter may not be identified\n",
      "  warnings.warn(msg, category=PerfectSeparationWarning)\n",
      "/home/zeus/miniconda3/envs/cloudspace/lib/python3.10/site-packages/statsmodels/genmod/generalized_linear_model.py:1342: PerfectSeparationWarning: Perfect separation or prediction detected, parameter may not be identified\n",
      "  warnings.warn(msg, category=PerfectSeparationWarning)\n",
      "/home/zeus/miniconda3/envs/cloudspace/lib/python3.10/site-packages/statsmodels/genmod/generalized_linear_model.py:1342: PerfectSeparationWarning: Perfect separation or prediction detected, parameter may not be identified\n",
      "  warnings.warn(msg, category=PerfectSeparationWarning)\n",
      "/home/zeus/miniconda3/envs/cloudspace/lib/python3.10/site-packages/statsmodels/genmod/generalized_linear_model.py:1342: PerfectSeparationWarning: Perfect separation or prediction detected, parameter may not be identified\n",
      "  warnings.warn(msg, category=PerfectSeparationWarning)\n",
      "/home/zeus/miniconda3/envs/cloudspace/lib/python3.10/site-packages/statsmodels/genmod/generalized_linear_model.py:1342: PerfectSeparationWarning: Perfect separation or prediction detected, parameter may not be identified\n",
      "  warnings.warn(msg, category=PerfectSeparationWarning)\n",
      "/home/zeus/miniconda3/envs/cloudspace/lib/python3.10/site-packages/statsmodels/genmod/generalized_linear_model.py:1342: PerfectSeparationWarning: Perfect separation or prediction detected, parameter may not be identified\n",
      "  warnings.warn(msg, category=PerfectSeparationWarning)\n"
     ]
    },
    {
     "name": "stdout",
     "output_type": "stream",
     "text": [
      "218 - GLM with avg smape 10.92: \n",
      "Model Number: 219 of 176 with model GLM for Validation 1\n",
      "219 - GLM with avg smape 10.92: \n",
      "Model Number: 220 of 176 with model GLM for Validation 1\n",
      "220 - GLM with avg smape 10.92: \n",
      "Model Number: 221 of 176 with model LastValueNaive for Validation 1\n",
      "221 - LastValueNaive with avg smape 10.89: \n",
      "Model Number: 222 of 176 with model RRVAR for Validation 1\n"
     ]
    },
    {
     "name": "stderr",
     "output_type": "stream",
     "text": [
      "/home/zeus/miniconda3/envs/cloudspace/lib/python3.10/site-packages/statsmodels/genmod/generalized_linear_model.py:1342: PerfectSeparationWarning: Perfect separation or prediction detected, parameter may not be identified\n",
      "  warnings.warn(msg, category=PerfectSeparationWarning)\n",
      "/home/zeus/miniconda3/envs/cloudspace/lib/python3.10/site-packages/statsmodels/genmod/generalized_linear_model.py:1342: PerfectSeparationWarning: Perfect separation or prediction detected, parameter may not be identified\n",
      "  warnings.warn(msg, category=PerfectSeparationWarning)\n",
      "/home/zeus/miniconda3/envs/cloudspace/lib/python3.10/site-packages/statsmodels/genmod/generalized_linear_model.py:1342: PerfectSeparationWarning: Perfect separation or prediction detected, parameter may not be identified\n",
      "  warnings.warn(msg, category=PerfectSeparationWarning)\n",
      "/home/zeus/miniconda3/envs/cloudspace/lib/python3.10/site-packages/statsmodels/genmod/generalized_linear_model.py:1342: PerfectSeparationWarning: Perfect separation or prediction detected, parameter may not be identified\n",
      "  warnings.warn(msg, category=PerfectSeparationWarning)\n",
      "/home/zeus/miniconda3/envs/cloudspace/lib/python3.10/site-packages/statsmodels/genmod/generalized_linear_model.py:1342: PerfectSeparationWarning: Perfect separation or prediction detected, parameter may not be identified\n",
      "  warnings.warn(msg, category=PerfectSeparationWarning)\n"
     ]
    },
    {
     "name": "stdout",
     "output_type": "stream",
     "text": [
      "222 - RRVAR with avg smape 10.39: \n",
      "Model Number: 223 of 176 with model RRVAR for Validation 1\n",
      "223 - RRVAR with avg smape 10.39: \n",
      "Model Number: 224 of 176 with model LastValueNaive for Validation 1\n",
      "224 - LastValueNaive with avg smape 10.89: \n",
      "Model Number: 225 of 176 with model LastValueNaive for Validation 1\n",
      "225 - LastValueNaive with avg smape 10.89: \n",
      "Model Number: 226 of 176 with model LastValueNaive for Validation 1\n",
      "226 - LastValueNaive with avg smape 10.89: \n",
      "Model Number: 227 of 176 with model LastValueNaive for Validation 1\n",
      "227 - LastValueNaive with avg smape 10.92: \n",
      "Model Number: 228 of 176 with model LastValueNaive for Validation 1\n",
      "228 - LastValueNaive with avg smape 10.89: \n",
      "Model Number: 229 of 176 with model GLM for Validation 1\n",
      "229 - GLM with avg smape 10.37: \n",
      "Model Number: 230 of 176 with model GLS for Validation 1\n"
     ]
    },
    {
     "name": "stderr",
     "output_type": "stream",
     "text": [
      "/home/zeus/miniconda3/envs/cloudspace/lib/python3.10/site-packages/statsmodels/genmod/generalized_linear_model.py:1342: PerfectSeparationWarning: Perfect separation or prediction detected, parameter may not be identified\n",
      "  warnings.warn(msg, category=PerfectSeparationWarning)\n",
      "/home/zeus/miniconda3/envs/cloudspace/lib/python3.10/site-packages/statsmodels/genmod/generalized_linear_model.py:1342: PerfectSeparationWarning: Perfect separation or prediction detected, parameter may not be identified\n",
      "  warnings.warn(msg, category=PerfectSeparationWarning)\n",
      "/home/zeus/miniconda3/envs/cloudspace/lib/python3.10/site-packages/statsmodels/genmod/generalized_linear_model.py:1342: PerfectSeparationWarning: Perfect separation or prediction detected, parameter may not be identified\n",
      "  warnings.warn(msg, category=PerfectSeparationWarning)\n",
      "/home/zeus/miniconda3/envs/cloudspace/lib/python3.10/site-packages/statsmodels/genmod/generalized_linear_model.py:1342: PerfectSeparationWarning: Perfect separation or prediction detected, parameter may not be identified\n",
      "  warnings.warn(msg, category=PerfectSeparationWarning)\n",
      "/home/zeus/miniconda3/envs/cloudspace/lib/python3.10/site-packages/statsmodels/genmod/generalized_linear_model.py:1342: PerfectSeparationWarning: Perfect separation or prediction detected, parameter may not be identified\n",
      "  warnings.warn(msg, category=PerfectSeparationWarning)\n"
     ]
    },
    {
     "name": "stdout",
     "output_type": "stream",
     "text": [
      "230 - GLS with avg smape 11.08: \n",
      "Model Number: 231 of 176 with model GLS for Validation 1\n",
      "231 - GLS with avg smape 11.08: \n",
      "Model Number: 232 of 176 with model GLS for Validation 1\n",
      "232 - GLS with avg smape 11.08: \n",
      "Model Number: 233 of 176 with model GLS for Validation 1\n",
      "233 - GLS with avg smape 11.07: \n",
      "Model Number: 234 of 176 with model GLS for Validation 1\n"
     ]
    },
    {
     "name": "stderr",
     "output_type": "stream",
     "text": [
      "/home/zeus/miniconda3/envs/cloudspace/lib/python3.10/site-packages/autots/tools/percentile.py:47: RuntimeWarning: All-NaN slice encountered\n",
      "  max_val = np.nanmax(arr)\n",
      "/home/zeus/miniconda3/envs/cloudspace/lib/python3.10/site-packages/autots/tools/percentile.py:47: RuntimeWarning: All-NaN slice encountered\n",
      "  max_val = np.nanmax(arr)\n"
     ]
    },
    {
     "name": "stdout",
     "output_type": "stream",
     "text": [
      "234 - GLS with avg smape 11.07: \n",
      "Model Number: 235 of 176 with model GLS for Validation 1\n",
      "235 - GLS with avg smape 11.32: \n",
      "Model Number: 236 of 176 with model SectionalMotif for Validation 1\n",
      "236 - SectionalMotif with avg smape 11.07: \n",
      "Model Number: 237 of 176 with model ARDL for Validation 1\n"
     ]
    },
    {
     "name": "stderr",
     "output_type": "stream",
     "text": [
      "/home/zeus/miniconda3/envs/cloudspace/lib/python3.10/site-packages/autots/tools/percentile.py:47: RuntimeWarning: All-NaN slice encountered\n",
      "  max_val = np.nanmax(arr)\n",
      "/home/zeus/miniconda3/envs/cloudspace/lib/python3.10/site-packages/autots/tools/seasonal.py:896: RuntimeWarning: invalid value encountered in divide\n",
      "  scores = np.mean(np.abs(a - b) / divisor, axis=2)\n",
      "/home/zeus/miniconda3/envs/cloudspace/lib/python3.10/site-packages/autots/tools/seasonal.py:896: RuntimeWarning: invalid value encountered in divide\n",
      "  scores = np.mean(np.abs(a - b) / divisor, axis=2)\n",
      "/home/zeus/miniconda3/envs/cloudspace/lib/python3.10/site-packages/autots/tools/seasonal.py:896: RuntimeWarning: invalid value encountered in divide\n",
      "  scores = np.mean(np.abs(a - b) / divisor, axis=2)\n"
     ]
    },
    {
     "name": "stdout",
     "output_type": "stream",
     "text": [
      "237 - ARDL with avg smape 11.09: \n",
      "Model Number: 238 of 176 with model ARDL for Validation 1\n",
      "238 - ARDL with avg smape 11.07: \n",
      "Model Number: 239 of 176 with model ARDL for Validation 1\n",
      "239 - ARDL with avg smape 11.09: \n",
      "Model Number: 240 of 176 with model ARDL for Validation 1\n"
     ]
    },
    {
     "name": "stderr",
     "output_type": "stream",
     "text": [
      "/home/zeus/miniconda3/envs/cloudspace/lib/python3.10/site-packages/sklearn/neighbors/_classification.py:233: DataConversionWarning: A column-vector y was passed when a 1d array was expected. Please change the shape of y to (n_samples,), for example using ravel().\n",
      "  return self._fit(X, y)\n"
     ]
    },
    {
     "name": "stdout",
     "output_type": "stream",
     "text": [
      "240 - ARDL with avg smape 11.09: \n",
      "Model Number: 241 of 176 with model BasicLinearModel for Validation 1\n",
      "241 - BasicLinearModel with avg smape 11.07: \n",
      "Model Number: 242 of 176 with model BasicLinearModel for Validation 1\n",
      "242 - BasicLinearModel with avg smape 11.07: \n",
      "Model Number: 243 of 176 with model GLS for Validation 1\n",
      "243 - GLS with avg smape 11.1: \n",
      "Model Number: 244 of 176 with model GLS for Validation 1\n",
      "244 - GLS with avg smape 11.15: \n",
      "Model Number: 245 of 176 with model GLS for Validation 1\n",
      "245 - GLS with avg smape 11.15: \n",
      "Model Number: 246 of 176 with model ARDL for Validation 1\n"
     ]
    },
    {
     "name": "stderr",
     "output_type": "stream",
     "text": [
      "/home/zeus/miniconda3/envs/cloudspace/lib/python3.10/site-packages/autots/tools/percentile.py:47: RuntimeWarning: All-NaN slice encountered\n",
      "  max_val = np.nanmax(arr)\n"
     ]
    },
    {
     "name": "stdout",
     "output_type": "stream",
     "text": [
      "246 - ARDL with avg smape 11.09: \n",
      "Model Number: 247 of 176 with model GLS for Validation 1\n",
      "247 - GLS with avg smape 11.25: \n",
      "Model Number: 248 of 176 with model BasicLinearModel for Validation 1\n",
      "248 - BasicLinearModel with avg smape 11.28: \n",
      "Model Number: 249 of 176 with model RRVAR for Validation 1\n",
      "249 - RRVAR with avg smape 11.18: \n",
      "Model Number: 250 of 176 with model RRVAR for Validation 1\n",
      "250 - RRVAR with avg smape 10.41: \n",
      "Model Number: 251 of 176 with model RRVAR for Validation 1\n",
      "251 - RRVAR with avg smape 10.4: \n",
      "Model Number: 252 of 176 with model DatepartRegression for Validation 1\n",
      "252 - DatepartRegression with avg smape 11.08: \n",
      "Model Number: 253 of 176 with model ARDL for Validation 1\n"
     ]
    },
    {
     "name": "stderr",
     "output_type": "stream",
     "text": [
      "/home/zeus/miniconda3/envs/cloudspace/lib/python3.10/site-packages/sklearn/svm/_classes.py:32: FutureWarning: The default value of `dual` will change from `True` to `'auto'` in 1.5. Set the value of `dual` explicitly to suppress the warning.\n",
      "  warnings.warn(\n",
      "/home/zeus/miniconda3/envs/cloudspace/lib/python3.10/site-packages/sklearn/svm/_base.py:1250: ConvergenceWarning: Liblinear failed to converge, increase the number of iterations.\n",
      "  warnings.warn(\n"
     ]
    },
    {
     "name": "stdout",
     "output_type": "stream",
     "text": [
      "253 - ARDL with avg smape 43.09: \n",
      "Model Number: 254 of 176 with model RRVAR for Validation 1\n",
      "254 - RRVAR with avg smape 10.41: \n",
      "Model Number: 255 of 176 with model BasicLinearModel for Validation 1\n",
      "255 - BasicLinearModel with avg smape 12.15: \n",
      "Model Number: 256 of 176 with model RRVAR for Validation 1\n",
      "256 - RRVAR with avg smape 11.08: \n",
      "Model Number: 257 of 176 with model RRVAR for Validation 1\n",
      "257 - RRVAR with avg smape 11.08: \n",
      "Model Number: 258 of 176 with model RRVAR for Validation 1\n",
      "258 - RRVAR with avg smape 11.08: \n",
      "Model Number: 259 of 176 with model RRVAR for Validation 1\n",
      "259 - RRVAR with avg smape 11.08: \n",
      "Model Number: 260 of 176 with model BasicLinearModel for Validation 1\n",
      "260 - BasicLinearModel with avg smape 11.78: \n",
      "Model Number: 261 of 176 with model DatepartRegression for Validation 1\n",
      "261 - DatepartRegression with avg smape 11.18: \n",
      "Model Number: 262 of 176 with model DatepartRegression for Validation 1\n",
      "262 - DatepartRegression with avg smape 11.18: \n",
      "Model Number: 263 of 176 with model SectionalMotif for Validation 1\n",
      "263 - SectionalMotif with avg smape 10.84: \n",
      "Model Number: 264 of 176 with model SectionalMotif for Validation 1\n",
      "264 - SectionalMotif with avg smape 11.09: \n",
      "Model Number: 265 of 176 with model SectionalMotif for Validation 1\n"
     ]
    },
    {
     "name": "stderr",
     "output_type": "stream",
     "text": [
      "/home/zeus/miniconda3/envs/cloudspace/lib/python3.10/site-packages/autots/tools/seasonal.py:896: RuntimeWarning: invalid value encountered in divide\n",
      "  scores = np.mean(np.abs(a - b) / divisor, axis=2)\n",
      "/home/zeus/miniconda3/envs/cloudspace/lib/python3.10/site-packages/autots/tools/seasonal.py:896: RuntimeWarning: invalid value encountered in divide\n",
      "  scores = np.mean(np.abs(a - b) / divisor, axis=2)\n",
      "/home/zeus/miniconda3/envs/cloudspace/lib/python3.10/site-packages/autots/tools/seasonal.py:896: RuntimeWarning: invalid value encountered in divide\n",
      "  scores = np.mean(np.abs(a - b) / divisor, axis=2)\n",
      "/home/zeus/miniconda3/envs/cloudspace/lib/python3.10/site-packages/autots/tools/seasonal.py:896: RuntimeWarning: invalid value encountered in divide\n",
      "  scores = np.mean(np.abs(a - b) / divisor, axis=2)\n",
      "/home/zeus/miniconda3/envs/cloudspace/lib/python3.10/site-packages/autots/tools/seasonal.py:896: RuntimeWarning: invalid value encountered in divide\n",
      "  scores = np.mean(np.abs(a - b) / divisor, axis=2)\n",
      "/home/zeus/miniconda3/envs/cloudspace/lib/python3.10/site-packages/autots/tools/seasonal.py:896: RuntimeWarning: invalid value encountered in divide\n",
      "  scores = np.mean(np.abs(a - b) / divisor, axis=2)\n"
     ]
    },
    {
     "name": "stdout",
     "output_type": "stream",
     "text": [
      "265 - SectionalMotif with avg smape 11.15: \n",
      "Model Number: 266 of 176 with model UnivariateMotif for Validation 1\n",
      "Template Eval Error: ValueError('window shape cannot be larger than input array shape') in model 266 in generation 0: UnivariateMotif\n",
      "Model Number: 267 of 176 with model UnivariateMotif for Validation 1\n",
      "Template Eval Error: ValueError('window shape cannot be larger than input array shape') in model 267 in generation 0: UnivariateMotif\n",
      "Model Number: 268 of 176 with model SectionalMotif for Validation 1\n"
     ]
    },
    {
     "name": "stderr",
     "output_type": "stream",
     "text": [
      "/home/zeus/miniconda3/envs/cloudspace/lib/python3.10/site-packages/autots/tools/seasonal.py:896: RuntimeWarning: invalid value encountered in divide\n",
      "  scores = np.mean(np.abs(a - b) / divisor, axis=2)\n",
      "/home/zeus/miniconda3/envs/cloudspace/lib/python3.10/site-packages/autots/tools/seasonal.py:896: RuntimeWarning: invalid value encountered in divide\n",
      "  scores = np.mean(np.abs(a - b) / divisor, axis=2)\n",
      "/home/zeus/miniconda3/envs/cloudspace/lib/python3.10/site-packages/autots/tools/seasonal.py:896: RuntimeWarning: invalid value encountered in divide\n",
      "  scores = np.mean(np.abs(a - b) / divisor, axis=2)\n",
      "/home/zeus/miniconda3/envs/cloudspace/lib/python3.10/site-packages/autots/tools/seasonal.py:896: RuntimeWarning: invalid value encountered in divide\n",
      "  scores = np.mean(np.abs(a - b) / divisor, axis=2)\n",
      "/home/zeus/miniconda3/envs/cloudspace/lib/python3.10/site-packages/autots/tools/seasonal.py:896: RuntimeWarning: invalid value encountered in divide\n",
      "  scores = np.mean(np.abs(a - b) / divisor, axis=2)\n",
      "/home/zeus/miniconda3/envs/cloudspace/lib/python3.10/site-packages/autots/tools/seasonal.py:896: RuntimeWarning: invalid value encountered in divide\n",
      "  scores = np.mean(np.abs(a - b) / divisor, axis=2)\n"
     ]
    },
    {
     "name": "stdout",
     "output_type": "stream",
     "text": [
      "268 - SectionalMotif with avg smape 11.42: \n",
      "Model Number: 269 of 176 with model DatepartRegression for Validation 1\n",
      "269 - DatepartRegression with avg smape 11.54: \n",
      "Model Number: 270 of 176 with model DatepartRegression for Validation 1\n",
      "270 - DatepartRegression with avg smape 11.07: \n",
      "Model Number: 271 of 176 with model DatepartRegression for Validation 1\n",
      "271 - DatepartRegression with avg smape 13.11: \n",
      "Model Number: 272 of 176 with model DatepartRegression for Validation 1\n"
     ]
    },
    {
     "name": "stderr",
     "output_type": "stream",
     "text": [
      "/home/zeus/miniconda3/envs/cloudspace/lib/python3.10/site-packages/sklearn/svm/_classes.py:32: FutureWarning: The default value of `dual` will change from `True` to `'auto'` in 1.5. Set the value of `dual` explicitly to suppress the warning.\n",
      "  warnings.warn(\n"
     ]
    },
    {
     "name": "stdout",
     "output_type": "stream",
     "text": [
      "272 - DatepartRegression with avg smape 13.11: \n",
      "Model Number: 273 of 176 with model DatepartRegression for Validation 1\n",
      "273 - DatepartRegression with avg smape 13.11: \n",
      "Model Number: 274 of 176 with model BasicLinearModel for Validation 1\n"
     ]
    },
    {
     "name": "stderr",
     "output_type": "stream",
     "text": [
      "/home/zeus/miniconda3/envs/cloudspace/lib/python3.10/site-packages/sklearn/svm/_classes.py:32: FutureWarning: The default value of `dual` will change from `True` to `'auto'` in 1.5. Set the value of `dual` explicitly to suppress the warning.\n",
      "  warnings.warn(\n"
     ]
    },
    {
     "name": "stdout",
     "output_type": "stream",
     "text": [
      "274 - BasicLinearModel with avg smape 11.23: \n",
      "Model Number: 275 of 176 with model BasicLinearModel for Validation 1\n",
      "275 - BasicLinearModel with avg smape 11.09: \n",
      "Model Number: 276 of 176 with model SectionalMotif for Validation 1\n",
      "276 - SectionalMotif with avg smape 10.86: \n",
      "Model Number: 277 of 176 with model DatepartRegression for Validation 1\n",
      "277 - DatepartRegression with avg smape 11.58: \n",
      "Model Number: 278 of 176 with model SectionalMotif for Validation 1\n",
      "278 - SectionalMotif with avg smape 10.86: \n",
      "Model Number: 279 of 176 with model UnivariateMotif for Validation 1\n",
      "Template Eval Error: ValueError('window shape cannot be larger than input array shape') in model 279 in generation 0: UnivariateMotif\n",
      "Model Number: 280 of 176 with model SectionalMotif for Validation 1\n",
      "280 - SectionalMotif with avg smape 10.44: \n",
      "Model Number: 281 of 176 with model UnivariateMotif for Validation 1\n"
     ]
    },
    {
     "name": "stderr",
     "output_type": "stream",
     "text": [
      "/home/zeus/miniconda3/envs/cloudspace/lib/python3.10/site-packages/autots/tools/seasonal.py:896: RuntimeWarning: invalid value encountered in divide\n",
      "  scores = np.mean(np.abs(a - b) / divisor, axis=2)\n",
      "/home/zeus/miniconda3/envs/cloudspace/lib/python3.10/site-packages/autots/tools/seasonal.py:896: RuntimeWarning: invalid value encountered in divide\n",
      "  scores = np.mean(np.abs(a - b) / divisor, axis=2)\n",
      "/home/zeus/miniconda3/envs/cloudspace/lib/python3.10/site-packages/autots/tools/seasonal.py:896: RuntimeWarning: invalid value encountered in divide\n",
      "  scores = np.mean(np.abs(a - b) / divisor, axis=2)\n",
      "/home/zeus/miniconda3/envs/cloudspace/lib/python3.10/site-packages/sklearn/svm/_classes.py:32: FutureWarning: The default value of `dual` will change from `True` to `'auto'` in 1.5. Set the value of `dual` explicitly to suppress the warning.\n",
      "  warnings.warn(\n",
      "/home/zeus/miniconda3/envs/cloudspace/lib/python3.10/site-packages/autots/tools/seasonal.py:896: RuntimeWarning: invalid value encountered in divide\n",
      "  scores = np.mean(np.abs(a - b) / divisor, axis=2)\n",
      "/home/zeus/miniconda3/envs/cloudspace/lib/python3.10/site-packages/autots/tools/seasonal.py:896: RuntimeWarning: invalid value encountered in divide\n",
      "  scores = np.mean(np.abs(a - b) / divisor, axis=2)\n",
      "/home/zeus/miniconda3/envs/cloudspace/lib/python3.10/site-packages/autots/tools/seasonal.py:896: RuntimeWarning: invalid value encountered in divide\n",
      "  scores = np.mean(np.abs(a - b) / divisor, axis=2)\n",
      "/home/zeus/miniconda3/envs/cloudspace/lib/python3.10/site-packages/autots/tools/seasonal.py:896: RuntimeWarning: invalid value encountered in divide\n",
      "  scores = np.mean(np.abs(a - b) / divisor, axis=2)\n",
      "/home/zeus/miniconda3/envs/cloudspace/lib/python3.10/site-packages/autots/tools/seasonal.py:896: RuntimeWarning: invalid value encountered in divide\n",
      "  scores = np.mean(np.abs(a - b) / divisor, axis=2)\n",
      "/home/zeus/miniconda3/envs/cloudspace/lib/python3.10/site-packages/autots/tools/seasonal.py:896: RuntimeWarning: invalid value encountered in divide\n",
      "  scores = np.mean(np.abs(a - b) / divisor, axis=2)\n"
     ]
    },
    {
     "name": "stdout",
     "output_type": "stream",
     "text": [
      "Template Eval Error: ValueError('window shape cannot be larger than input array shape') in model 281 in generation 0: UnivariateMotif\n",
      "Model Number: 282 of 176 with model DatepartRegression for Validation 1\n",
      "282 - DatepartRegression with avg smape 12.88: \n",
      "Model Number: 283 of 176 with model UnivariateMotif for Validation 1\n",
      "Template Eval Error: ValueError('window shape cannot be larger than input array shape') in model 283 in generation 0: UnivariateMotif\n",
      "Model Number: 284 of 176 with model UnivariateMotif for Validation 1\n"
     ]
    },
    {
     "name": "stderr",
     "output_type": "stream",
     "text": [
      "/home/zeus/miniconda3/envs/cloudspace/lib/python3.10/site-packages/sklearn/svm/_classes.py:32: FutureWarning: The default value of `dual` will change from `True` to `'auto'` in 1.5. Set the value of `dual` explicitly to suppress the warning.\n",
      "  warnings.warn(\n"
     ]
    },
    {
     "name": "stdout",
     "output_type": "stream",
     "text": [
      "Template Eval Error: ValueError('window shape cannot be larger than input array shape') in model 284 in generation 0: UnivariateMotif\n",
      "Model Number: 285 of 176 with model BasicLinearModel for Validation 1\n",
      "285 - BasicLinearModel with avg smape 11.23: \n",
      "Model Number: 286 of 176 with model UnivariateMotif for Validation 1\n",
      "Template Eval Error: ValueError('window shape cannot be larger than input array shape') in model 286 in generation 0: UnivariateMotif\n",
      "Model Number: 287 of 176 with model SectionalMotif for Validation 1\n",
      "287 - SectionalMotif with avg smape 11.21: \n",
      "Model Number: 288 of 176 with model FFT for Validation 1\n"
     ]
    },
    {
     "name": "stderr",
     "output_type": "stream",
     "text": [
      "/home/zeus/miniconda3/envs/cloudspace/lib/python3.10/site-packages/autots/tools/seasonal.py:896: RuntimeWarning: invalid value encountered in divide\n",
      "  scores = np.mean(np.abs(a - b) / divisor, axis=2)\n",
      "/home/zeus/miniconda3/envs/cloudspace/lib/python3.10/site-packages/autots/tools/seasonal.py:896: RuntimeWarning: invalid value encountered in divide\n",
      "  scores = np.mean(np.abs(a - b) / divisor, axis=2)\n",
      "/home/zeus/miniconda3/envs/cloudspace/lib/python3.10/site-packages/autots/tools/seasonal.py:896: RuntimeWarning: invalid value encountered in divide\n",
      "  scores = np.mean(np.abs(a - b) / divisor, axis=2)\n"
     ]
    },
    {
     "name": "stdout",
     "output_type": "stream",
     "text": [
      "288 - FFT with avg smape 11.58: \n",
      "Model Number: 289 of 176 with model UnivariateMotif for Validation 1\n",
      "Template Eval Error: ValueError('window shape cannot be larger than input array shape') in model 289 in generation 0: UnivariateMotif\n",
      "Model Number: 290 of 176 with model Cassandra for Validation 1\n",
      "290 - Cassandra with avg smape 10.4: \n",
      "Model Number: 291 of 176 with model BasicLinearModel for Validation 1\n"
     ]
    },
    {
     "name": "stderr",
     "output_type": "stream",
     "text": [
      "/home/zeus/miniconda3/envs/cloudspace/lib/python3.10/site-packages/numpy/lib/function_base.py:2897: RuntimeWarning: invalid value encountered in divide\n",
      "  c /= stddev[:, None]\n",
      "/home/zeus/miniconda3/envs/cloudspace/lib/python3.10/site-packages/numpy/lib/function_base.py:2898: RuntimeWarning: invalid value encountered in divide\n",
      "  c /= stddev[None, :]\n"
     ]
    },
    {
     "name": "stdout",
     "output_type": "stream",
     "text": [
      "291 - BasicLinearModel with avg smape 11.07: \n",
      "Model Number: 292 of 176 with model BasicLinearModel for Validation 1\n",
      "292 - BasicLinearModel with avg smape 10.42: \n",
      "Model Number: 293 of 176 with model FFT for Validation 1\n",
      "293 - FFT with avg smape 11.97: \n",
      "Model Number: 294 of 176 with model FFT for Validation 1\n",
      "294 - FFT with avg smape 11.61: \n",
      "Model Number: 295 of 176 with model FFT for Validation 1\n",
      "295 - FFT with avg smape 11.04: \n",
      "Model Number: 296 of 176 with model FFT for Validation 1\n",
      "296 - FFT with avg smape 10.39: \n",
      "Model Number: 297 of 176 with model FFT for Validation 1\n",
      "297 - FFT with avg smape 10.54: \n",
      "Model Number: 298 of 176 with model FFT for Validation 1\n",
      "298 - FFT with avg smape 10.42: \n",
      "Model Number: 299 of 176 with model FFT for Validation 1\n",
      "299 - FFT with avg smape 10.39: \n",
      "Model Number: 300 of 176 with model FFT for Validation 1\n",
      "300 - FFT with avg smape 10.36: \n",
      "Model Number: 301 of 176 with model FFT for Validation 1\n",
      "301 - FFT with avg smape 10.39: \n",
      "Model Number: 302 of 176 with model WindowRegression for Validation 1\n",
      "Template Eval Error: ValueError('at least one array or dtype is required') in model 302 in generation 0: WindowRegression\n",
      "Model Number: 303 of 176 with model WindowRegression for Validation 1\n",
      "Template Eval Error: ValueError('at least one array or dtype is required') in model 303 in generation 0: WindowRegression\n",
      "Model Number: 304 of 176 with model Cassandra for Validation 1\n",
      "304 - Cassandra with avg smape 200.0: \n",
      "Model Number: 305 of 176 with model WindowRegression for Validation 1\n",
      "Template Eval Error: ValueError('Found array with 0 sample(s) (shape=(0, 0)) while a minimum of 1 is required by MLPRegressor.') in model 305 in generation 0: WindowRegression\n",
      "Model Number: 306 of 176 with model Cassandra for Validation 1\n"
     ]
    },
    {
     "name": "stderr",
     "output_type": "stream",
     "text": [
      "/home/zeus/miniconda3/envs/cloudspace/lib/python3.10/site-packages/numpy/lib/function_base.py:2897: RuntimeWarning: invalid value encountered in divide\n",
      "  c /= stddev[:, None]\n",
      "/home/zeus/miniconda3/envs/cloudspace/lib/python3.10/site-packages/numpy/lib/function_base.py:2898: RuntimeWarning: invalid value encountered in divide\n",
      "  c /= stddev[None, :]\n"
     ]
    },
    {
     "name": "stdout",
     "output_type": "stream",
     "text": [
      "306 - Cassandra with avg smape 172.64: \n",
      "Model Number: 1477 with model Ensemble in generation 12 of Ensembles\n",
      "Model Number: 1491 with model Ensemble in generation 12 of Ensembles\n",
      "Model Number: 1505 with model Ensemble in generation 12 of Ensembles\n",
      "Model Number: 1519 with model Ensemble in generation 12 of Ensembles\n",
      "Model Number: 1533 with model Ensemble in generation 12 of Ensembles\n",
      "Model Number: 1547 with model Ensemble in generation 12 of Ensembles\n"
     ]
    },
    {
     "name": "stderr",
     "output_type": "stream",
     "text": [
      "/home/zeus/miniconda3/envs/cloudspace/lib/python3.10/site-packages/statsmodels/genmod/families/links.py:198: RuntimeWarning: overflow encountered in exp\n",
      "  t = np.exp(-z)\n"
     ]
    },
    {
     "name": "stdout",
     "output_type": "stream",
     "text": [
      "Model Number: 1561 with model Ensemble in generation 12 of Ensembles\n",
      "Model Number: 1575 with model Ensemble in generation 12 of Ensembles\n",
      "Validation Round: 1\n",
      "Model Number: 1 of 8 with model Ensemble for Validation 1\n",
      "📈 1 - Ensemble with avg smape 10.43: \n",
      "2 - Ensemble with avg smape 10.43: \n",
      "📈 3 - Ensemble with avg smape 10.39: \n",
      "4 - Ensemble with avg smape 10.43: \n",
      "5 - Ensemble with avg smape 11.19: \n",
      "6 - Ensemble with avg smape 11.34: \n",
      "7 - Ensemble with avg smape 11.07: \n",
      "8 - Ensemble with avg smape 11.07: \n",
      "9 - Ensemble with avg smape 10.43: \n",
      "10 - Ensemble with avg smape 11.14: \n",
      "📈 11 - Ensemble with avg smape 10.38: \n",
      "12 - Ensemble with avg smape 10.41: \n",
      "13 - Ensemble with avg smape 18.33: \n",
      "14 - Ensemble with avg smape 10.4: \n",
      "Model Number: 15 of 8 with model Ensemble for Validation 1\n",
      "15 - Ensemble with avg smape 10.42: \n",
      "16 - Ensemble with avg smape 10.42: \n",
      "17 - Ensemble with avg smape 10.38: \n",
      "18 - Ensemble with avg smape 10.43: \n",
      "19 - Ensemble with avg smape 11.19: \n",
      "20 - Ensemble with avg smape 11.34: \n",
      "21 - Ensemble with avg smape 11.07: \n",
      "22 - Ensemble with avg smape 11.07: \n",
      "23 - Ensemble with avg smape 10.42: \n",
      "24 - Ensemble with avg smape 11.14: \n",
      "25 - Ensemble with avg smape 10.38: \n",
      "26 - Ensemble with avg smape 10.41: \n",
      "27 - Ensemble with avg smape 18.33: \n",
      "28 - Ensemble with avg smape 10.4: \n",
      "Model Number: 29 of 8 with model Ensemble for Validation 1\n",
      "29 - Ensemble with avg smape 10.39: \n",
      "30 - Ensemble with avg smape 10.39: \n",
      "31 - Ensemble with avg smape 10.38: \n",
      "32 - Ensemble with avg smape 10.42: \n",
      "33 - Ensemble with avg smape 11.19: \n",
      "34 - Ensemble with avg smape 11.34: \n",
      "35 - Ensemble with avg smape 11.07: \n",
      "36 - Ensemble with avg smape 11.07: \n",
      "37 - Ensemble with avg smape 10.39: \n",
      "38 - Ensemble with avg smape 11.14: \n",
      "📈 39 - Ensemble with avg smape 10.37: \n",
      "40 - Ensemble with avg smape 10.37: \n",
      "41 - Ensemble with avg smape 18.29: \n",
      "42 - Ensemble with avg smape 10.39: \n",
      "Model Number: 43 of 8 with model Ensemble for Validation 1\n",
      "43 - Ensemble with avg smape 10.4: \n",
      "44 - Ensemble with avg smape 10.4: \n",
      "45 - Ensemble with avg smape 10.38: \n",
      "46 - Ensemble with avg smape 10.42: \n",
      "47 - Ensemble with avg smape 11.19: \n",
      "48 - Ensemble with avg smape 11.34: \n",
      "49 - Ensemble with avg smape 11.07: \n",
      "50 - Ensemble with avg smape 11.07: \n",
      "51 - Ensemble with avg smape 10.4: \n",
      "52 - Ensemble with avg smape 11.14: \n",
      "53 - Ensemble with avg smape 10.37: \n",
      "54 - Ensemble with avg smape 10.39: \n",
      "55 - Ensemble with avg smape 18.3: \n",
      "56 - Ensemble with avg smape 10.39: \n",
      "Model Number: 57 of 8 with model Ensemble for Validation 1\n",
      "57 - Ensemble with avg smape 10.41: \n",
      "58 - Ensemble with avg smape 10.41: \n",
      "59 - Ensemble with avg smape 10.38: \n",
      "60 - Ensemble with avg smape 10.42: \n",
      "61 - Ensemble with avg smape 11.19: \n",
      "62 - Ensemble with avg smape 11.34: \n",
      "63 - Ensemble with avg smape 11.07: \n",
      "64 - Ensemble with avg smape 11.07: \n",
      "65 - Ensemble with avg smape 10.41: \n",
      "66 - Ensemble with avg smape 11.14: \n",
      "67 - Ensemble with avg smape 10.38: \n",
      "68 - Ensemble with avg smape 10.4: \n",
      "69 - Ensemble with avg smape 18.32: \n",
      "70 - Ensemble with avg smape 10.4: \n",
      "Model Number: 71 of 8 with model Ensemble for Validation 1\n"
     ]
    },
    {
     "name": "stderr",
     "output_type": "stream",
     "text": [
      "/home/zeus/miniconda3/envs/cloudspace/lib/python3.10/site-packages/statsmodels/genmod/generalized_linear_model.py:1342: PerfectSeparationWarning: Perfect separation or prediction detected, parameter may not be identified\n",
      "  warnings.warn(msg, category=PerfectSeparationWarning)\n",
      "/home/zeus/miniconda3/envs/cloudspace/lib/python3.10/site-packages/statsmodels/genmod/generalized_linear_model.py:1342: PerfectSeparationWarning: Perfect separation or prediction detected, parameter may not be identified\n",
      "  warnings.warn(msg, category=PerfectSeparationWarning)\n",
      "/home/zeus/miniconda3/envs/cloudspace/lib/python3.10/site-packages/statsmodels/genmod/generalized_linear_model.py:1342: PerfectSeparationWarning: Perfect separation or prediction detected, parameter may not be identified\n",
      "  warnings.warn(msg, category=PerfectSeparationWarning)\n",
      "/home/zeus/miniconda3/envs/cloudspace/lib/python3.10/site-packages/statsmodels/genmod/generalized_linear_model.py:1342: PerfectSeparationWarning: Perfect separation or prediction detected, parameter may not be identified\n",
      "  warnings.warn(msg, category=PerfectSeparationWarning)\n",
      "/home/zeus/miniconda3/envs/cloudspace/lib/python3.10/site-packages/statsmodels/genmod/generalized_linear_model.py:1342: PerfectSeparationWarning: Perfect separation or prediction detected, parameter may not be identified\n",
      "  warnings.warn(msg, category=PerfectSeparationWarning)\n"
     ]
    },
    {
     "name": "stdout",
     "output_type": "stream",
     "text": [
      "71 - Ensemble with avg smape 10.41: \n",
      "72 - Ensemble with avg smape 10.41: \n",
      "73 - Ensemble with avg smape 10.38: \n",
      "74 - Ensemble with avg smape 10.42: \n",
      "75 - Ensemble with avg smape 11.19: \n",
      "76 - Ensemble with avg smape 11.34: \n",
      "77 - Ensemble with avg smape 11.07: \n",
      "78 - Ensemble with avg smape 11.07: \n",
      "79 - Ensemble with avg smape 10.41: \n",
      "80 - Ensemble with avg smape 11.14: \n",
      "81 - Ensemble with avg smape 10.38: \n",
      "82 - Ensemble with avg smape 10.4: \n",
      "83 - Ensemble with avg smape 18.32: \n",
      "84 - Ensemble with avg smape 10.4: \n",
      "Model Number: 85 of 8 with model Ensemble for Validation 1\n",
      "85 - Ensemble with avg smape 10.46: \n",
      "86 - Ensemble with avg smape 10.46: \n",
      "87 - Ensemble with avg smape 10.39: \n",
      "88 - Ensemble with avg smape 10.46: \n",
      "89 - Ensemble with avg smape 11.19: \n",
      "90 - Ensemble with avg smape 11.34: \n",
      "91 - Ensemble with avg smape 11.07: \n",
      "92 - Ensemble with avg smape 11.07: \n",
      "93 - Ensemble with avg smape 10.46: \n",
      "94 - Ensemble with avg smape 11.14: \n",
      "95 - Ensemble with avg smape 10.4: \n",
      "96 - Ensemble with avg smape 10.44: \n",
      "97 - Ensemble with avg smape 18.36: \n",
      "98 - Ensemble with avg smape 10.42: \n",
      "Model Number: 99 of 8 with model Ensemble for Validation 1\n",
      "99 - Ensemble with avg smape 10.47: \n",
      "100 - Ensemble with avg smape 10.47: \n",
      "101 - Ensemble with avg smape 10.39: \n",
      "102 - Ensemble with avg smape 10.47: \n",
      "103 - Ensemble with avg smape 11.19: \n",
      "104 - Ensemble with avg smape 11.34: \n",
      "105 - Ensemble with avg smape 11.07: \n",
      "106 - Ensemble with avg smape 11.07: \n",
      "107 - Ensemble with avg smape 10.47: \n",
      "108 - Ensemble with avg smape 11.14: \n",
      "109 - Ensemble with avg smape 10.41: \n",
      "110 - Ensemble with avg smape 10.45: \n",
      "111 - Ensemble with avg smape 18.36: \n",
      "112 - Ensemble with avg smape 10.42: \n"
     ]
    },
    {
     "data": {
      "text/plain": [
       "[{'Profile': '8b26cbbab26d33daba641fae9426d1bd25c1ad8e7abfe187a459512f5a8866e7',\n",
       "  'MAE_AutoTS_Daily': 348091.3009912918,\n",
       "  'MSE_AutoTS_Daily': 314505231559.30615}]"
      ]
     },
     "execution_count": 3,
     "metadata": {},
     "output_type": "execute_result"
    }
   ],
   "source": [
    "import pandas as pd\n",
    "import numpy as np\n",
    "from autots import AutoTS\n",
    "from sklearn.metrics import mean_absolute_error, mean_squared_error\n",
    "\n",
    "# Load data\n",
    "df = pd.read_csv(\"between_299_90_data.csv\", parse_dates=[\"date\"])\n",
    "\n",
    "# Convert date column to datetime\n",
    "df[\"date\"] = pd.to_datetime(df[\"date\"])\n",
    "\n",
    "# Replace 'user_id_value' with the actual user ID you want to filter\n",
    "user_id_value = \"8b26cbbab26d33daba641fae9426d1bd25c1ad8e7abfe187a459512f5a8866e7\"  # Example user ID\n",
    "\n",
    "# Filter data for the specific user\n",
    "user_data = df[df[\"profile_id\"] == user_id_value]\n",
    "\n",
    "# Extract year, month, and day\n",
    "user_data[\"year\"] = user_data[\"date\"].dt.year\n",
    "user_data[\"month\"] = user_data[\"date\"].dt.month\n",
    "user_data[\"day\"] = user_data[\"date\"].dt.day\n",
    "\n",
    "# Aggregate: Keep last follower count per day for each profile\n",
    "daily_df = (\n",
    "    user_data.sort_values([\"profile_id\", \"date\"])\n",
    "    .groupby([\"profile_id\", \"year\", \"month\", \"day\"])\n",
    "    .last()\n",
    "    .reset_index()\n",
    ")\n",
    "\n",
    "# Convert back to date format\n",
    "daily_df[\"date\"] = pd.to_datetime(daily_df[[\"year\", \"month\", \"day\"]])\n",
    "\n",
    "# Define the full date range (daily from Jan 2023 to Dec 2024)\n",
    "#full_date_range = pd.date_range(start=\"2023-01-01\", end=\"2024-12-31\", freq=\"D\")  # 'D' for daily\n",
    "\n",
    "# Drop unnecessary columns\n",
    "daily_df = daily_df[[\"date\", \"profile_id\", \"followers_num\"]]\n",
    "\n",
    "# Create a MultiIndex with all profiles and all days\n",
    "#full_index = pd.MultiIndex.from_product([unique_ids, full_date_range], names=[\"profile_id\", \"date\"])\n",
    "\n",
    "# Reindex the DataFrame to enforce this structure\n",
    "#daily_df = daily_df.set_index([\"profile_id\", \"date\"]).reindex(full_index).reset_index()\n",
    "\n",
    "# Randomly select 60 IDs\n",
    "#selected_ids = np.random.choice(unique_ids, size=60, replace=False)\n",
    "\n",
    "# Filter the DataFrame to include only the selected IDs\n",
    "#daily_df = daily_df[daily_df['profile_id'].isin(selected_ids)]\n",
    "\n",
    "# Verify the number of unique IDs in the filtered DataFrame\n",
    "#print(f\"Number of unique IDs in filtered DataFrame: {daily_df['profile_id'].nunique()}\")\n",
    "\n",
    "# Fill missing values\n",
    "daily_df.fillna(method='ffill', inplace=True)\n",
    "daily_df.fillna(method='bfill', inplace=True)\n",
    "daily_df.fillna(0, inplace=True)\n",
    "\n",
    "# # Split the data\n",
    "# train_df = daily_df[daily_df['date'] < '2024-07-01']\n",
    "# test_df = daily_df[daily_df['date'] >= '2024-07-01']\n",
    "\n",
    "# Sort data by date to ensure correct splitting\n",
    "daily_df = daily_df.sort_values(\"date\")\n",
    "\n",
    "# Find the total number of unique days\n",
    "unique_dates = daily_df[\"date\"].unique()\n",
    "\n",
    "# Determine the split index (75% of the data)\n",
    "split_index = int(len(unique_dates) * 0.75)\n",
    "\n",
    "# Get the corresponding date for the split\n",
    "split_date = unique_dates[split_index]  # This is the cutoff date\n",
    "\n",
    "# Perform the split dynamically\n",
    "train_df = daily_df[daily_df[\"date\"] < split_date]\n",
    "test_df = daily_df[daily_df[\"date\"] >= split_date]\n",
    "\n",
    "# Verify the split\n",
    "print(\"Train Data Range:\", train_df[\"date\"].min(), \"to\", train_df[\"date\"].max())\n",
    "print(\"Test Data Range:\", test_df[\"date\"].min(), \"to\", test_df[\"date\"].max())\n",
    "print(f\"Split Date: {split_date}, Total Unique Days: {len(unique_dates)}\")\n",
    "\n",
    "\n",
    "# Pivot and convert dates to daily format\n",
    "def prepare_for_autts(df):\n",
    "    df = df.pivot(index='date', columns='profile_id', values='followers_num')\n",
    "    df = df.fillna(method='ffill')\n",
    "    df.index = df.index.to_period('D').to_timestamp('D')  # Convert to daily timestamp\n",
    "    df = df.fillna(method='ffill')\n",
    "    return df\n",
    "\n",
    "train_df = prepare_for_autts(train_df)\n",
    "test_df = prepare_for_autts(test_df)\n",
    "\n",
    "# Ensure no missing values\n",
    "train_df.fillna(method='ffill', inplace=True)\n",
    "train_df.fillna(method='bfill', inplace=True)\n",
    "train_df.fillna(0, inplace=True)\n",
    "\n",
    "test_df.fillna(method='ffill', inplace=True)\n",
    "test_df.fillna(method='bfill', inplace=True)\n",
    "test_df.fillna(0, inplace=True)\n",
    "\n",
    "# ----- AUTOTS MODEL -----\n",
    "# Initialize and train the AutoTS model for daily forecasting\n",
    "model = AutoTS(\n",
    "    forecast_length=len(test_df),  \n",
    "    frequency='D',  # Daily frequency\n",
    "    ensemble='simple',\n",
    "    max_generations=10,\n",
    "    num_validations=3,\n",
    "    validation_method='backwards'\n",
    ")\n",
    "\n",
    "# Train the model\n",
    "model = model.fit(train_df)\n",
    "\n",
    "# Generate predictions\n",
    "predictions = model.predict(prediction_interval=0.95, fail_on_forecast_nan=False)\n",
    "forecast_df = predictions.forecast.fillna(0)\n",
    "\n",
    "common_index = forecast_df.index.intersection(test_df.index)\n",
    "forecast_df = forecast_df.loc[common_index]\n",
    "test_df_aligned = test_df.loc[common_index]\n",
    "\n",
    "# Align test data with predictions\n",
    "test_df_aligned = test_df.loc[forecast_df.index]\n",
    "\n",
    "# Evaluate AutoTS model\n",
    "evaluation_results_90 = []\n",
    "for profile_id in test_df_aligned.columns:\n",
    "    true_values = test_df_aligned[profile_id]\n",
    "    predicted_values = forecast_df[profile_id]\n",
    "    mae_autots = mean_absolute_error(true_values, predicted_values)\n",
    "    mse_autots = mean_squared_error(true_values, predicted_values)\n",
    "    evaluation_results_90.append({'Profile': profile_id, 'MAE_AutoTS_Daily': mae_autots, 'MSE_AutoTS_Daily': mse_autots})\n",
    "\n",
    "# Create a comparison DataFrame\n",
    "evaluation_df_90 = pd.DataFrame(evaluation_results_90)\n",
    "\n",
    "evaluation_results_90"
   ]
  }
 ],
 "metadata": {
  "language_info": {
   "name": "python"
  }
 },
 "nbformat": 4,
 "nbformat_minor": 2
}
